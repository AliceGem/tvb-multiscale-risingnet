{
 "cells": [
  {
   "cell_type": "markdown",
   "metadata": {},
   "source": [
    "# TVB only (multiscale) simulation"
   ]
  },
  {
   "cell_type": "markdown",
   "metadata": {},
   "source": [
    "## tvb-multiscale toolbox:\n",
    "\n",
    "### https://github.com/the-virtual-brain/tvb-multiscale\n",
    "\n",
    "For questions use the git issue tracker, or write an e-mail to me: dionysios.perdikis@charite.de"
   ]
  },
  {
   "cell_type": "markdown",
   "metadata": {},
   "source": [
    "## Reduced Wong-Wang mean field model with 1 Excitatory and 1 Inhibitory population\n",
    "\n",
    "For every region node $n\\prime$ modelled as a mean-field node in TVB:\n",
    "\n",
    "(Post)Synaptic gating dynamics (i.e., proportion of synapse channels open at any given time):\n",
    "\n",
    "$\\dot{S_{n\\prime}}^{(E)} = - \\frac{1}{\\tau_E}{S_{n\\prime}}^{(E)}(t) + (1-{S_{n\\prime}}^{(E)}(t))\\gamma_{E} {r_{n\\prime}}^{(E)}(t)$\n",
    "\n",
    "$\\dot{S_{n\\prime}}^{(I)} = - \\frac{1}{\\tau_I}{S_{n\\prime}}^{(I)}(t) + \\gamma_I{r_{n\\prime}}^{(I)}(t)$\n",
    "\n",
    "where we bound ${S_{n\\prime}}^{(E/I)}(t) \\in $ [0.0, 1.0], \n",
    "\n",
    "and $ {r_{n\\prime}}^{(E/I)}(t) $ is the postsynaptic firing rate given by:\n",
    "\n",
    "$ {r_{n\\prime}}^{(E/I)}(t) = H({I_{syn_{n\\prime}}}^{(E/I)}(t), a_{(E/I)}, b_{(E/I)}, d_{(E/I)}) $\n",
    "\n",
    "where\n",
    "\n",
    "$ H({I_{syn_{n\\prime}}}^{(E/I)}(t),  a_{(E/I)}, b_{(E/I)}, d_{(E/I)}) = \\frac{a_{(E/I)}{I_{syn_{n\\prime}}}^{(E/I)}(t)-b_{(E/I)}}{1-e^{-d_{(E/I)}(a_{(E/I)}{I_{syn_{n\\prime}}}^{(E/I)}(t)-b_{(E/I)})}}$ \n",
    "\n",
    "is a sigmoidal activation function of the input presynaptic current.\n",
    "\n",
    "The total input presynaptic current to excitatory populations is given by: \n",
    "\n",
    "$ {I_{syn_{n\\prime}}}^{(E)}(t) = W_EI_o + w_+J_{NMDA}{S_{n\\prime}}^{(E)}(t) - J_{{n\\prime}}{S_{n\\prime}}^{(I)}(t) + GJ_{NMDA}\\sum_{{m\\prime}\\neq {n\\prime}}C_{{m\\prime}{n\\prime}}S_{m\\prime}^{(E)}(t-\\tau_{{m\\prime}{n\\prime}})$\n",
    "\n",
    "and to inhibitory ones:\n",
    "\n",
    "$ {I_{syn_{n\\prime}}}^{(I)}(t) = W_II_o + J_{NMDA}{S_{n\\prime}}^{(E)}(t) - {S_{n\\prime}}^{(I)}(t) +  \\lambda GJ_{NMDA}\\sum_{{m\\prime}\\neq {n\\prime}}C_{{m\\prime}{n\\prime}}S_{m\\prime}^{(E)}(t-\\tau_{{m\\prime}{n\\prime}})$\n",
    "\n",
    "where \n",
    "$\\lambda  \\in$[0, 1] for scaling feedforward inhibition.\n",
    "\n",
    "TVB connectivity weights $C_{{m\\prime}{n\\prime}}$ are scaled per \"region\""
   ]
  },
  {
   "cell_type": "markdown",
   "metadata": {},
   "source": [
    "## Reduced Wong-Wang mean field model\n",
    "\n",
    "## Parameters following Ponce-Alvarez et al 2014:\n",
    "\n",
    "- structural TVB connectivity weights $C_{{m\\prime}{n\\prime}}$ (${m\\prime}->{n\\prime}$)\n",
    "- structural TVB connectivity delays $\\tau_{{m\\prime}{n\\prime}}$  (${m\\prime}->{n\\prime}$)\n",
    "- global structural brain connectivity coupling constant $G$\n",
    "- overall effective external input current $I_o = 0.382nA$ \n",
    "- excitatory synaptic coupling $J_{NDMA} = 0.15nA$ \n",
    "- local feedback inhibitory synaptic coupling $J_{i} = 1.0nA$ \n",
    "- local excitatory recurrence $w_+ = 1.4$\n",
    "- excitatory kinetic parameter $\\gamma_E = 0.641 s$\n",
    "- inhibitory kinetic parameter $\\gamma_I = 1.0 s$\n",
    "- excitatory (NMDA) time constant $\\tau_E = \\tau_{NMDA}=100ms$ \n",
    "- inhibitory (GABA) time constant $\\tau_I = \\tau_{GABA}=10ms$ \n",
    "- excitatory pool scaling constant $W_E = 1.0$\n",
    "- inhibitory pool scaling constant $W_I = 0.7$\n",
    "- excitatory sigmoidal functions parameters $a_{E} = 310nC^{-1}$, $b_{E} = 125Hz$, $d_{E} = 0.16s$\n",
    "- inhibitory sigmoidal functions parameters $a_{I} = 615nC^{-1}$, $b_{I} = 177Hz$, $d_{I} = 0.087s$\n",
    "- $\\lambda \\in [0.0, 1.0]$, allowing for feedforward inhibition\n"
   ]
  },
  {
   "cell_type": "markdown",
   "metadata": {},
   "source": [
    "## Reduced Wong-Wang mean field model with 1 Excitatory only population\n",
    "\n",
    "This model is identical to the previous one but without the inhibitory population and with different parameters given in the Deco et al. 2013 paper."
   ]
  },
  {
   "cell_type": "markdown",
   "metadata": {},
   "source": [
    "## Parameters following Deco et al 2013:\n",
    "\n",
    "- structural TVB connectivity weights $C_{{m\\prime}{n\\prime}}$ (${m\\prime}->{n\\prime}$)\n",
    "- structural TVB connectivity delays $\\tau_{{m\\prime}{n\\prime}}$  (${m\\prime}->{n\\prime}$)\n",
    "- global structural brain connectivity coupling constant $G$\n",
    "- overall effective external input current $I_o = 0.3nA$ \n",
    "- excitatory synaptic coupling $J_{NDMA} = 0.2609nA$ \n",
    "- local feedback inhibitory synaptic coupling $J_{i} = 1.0nA$ \n",
    "- local excitatory recurrence $w_+ = 0.9$\n",
    "- excitatory kinetic parameter $\\gamma = 0.641 s$\n",
    "- excitatory (NMDA) time constant $\\tau = \\tau_{NMDA}=100ms$ \n",
    "- excitatory sigmoidal functions parameters $a = 270nC^{-1}$, $b = 108Hz$, $d_{E} = 0.154s$"
   ]
  },
  {
   "cell_type": "markdown",
   "metadata": {},
   "source": [
    "## Spiking network model in TVB\n",
    "\n",
    "For every neuron $i$ in region node $n$ modelled in TVB as a spiking network:\n",
    "\n",
    "\n",
    "$ {C_m}_{E/I}{\\dot{V}_{ni}}^m = - {I_{ni}}^L(t) - {I_{ni}}^{AMPA}(t) - {I_{ni}}^{NMDA}(t) - {I_{ni} ^{GABA}}(t)- {I_{ni}}^{AMPA,ext}(t)-G\\sum_{n\\prime n}C_{n\\prime \\neq n}{I_{n\\prime n,i}}^{dc}(t-\\tau_{n\\prime n}) +{I_{ni}}^{ext}(t) $\n",
    "\n",
    "$\\;\\;\\;\\;\\;\\;\\;\\;\\;\\;=-{g_m}_{E/I}({V_{ni}}^m(t) - V_L) $\n",
    "              \n",
    "$\\;\\;\\;\\;\\;\\;\\;\\;\\;\\;\\;-{g_{AMPA}}_{E/I}({V_{ni}}^m(t) - V_E)\\sum_{j=1}^{N_{n,E}}{w_{n,ij}{s_{nj}}^{AMPA}(t)} $\n",
    "\n",
    "$\\;\\;\\;\\;\\;\\;\\;\\;\\;\\;\\;-\\frac{{g_{NMDA}}_{E/I}({V_{ni}}^m(t) - V_E)}{1+\\lambda_{NMDA}e^{-\\beta{V_{ni}}^m(t)}}\\sum_{j=1}^{N_{n,E}}{w_{n,ij}{s_{nj}}^{NMDA}(t)} $\n",
    "\n",
    "$\\;\\;\\;\\;\\;\\;\\;\\;\\;\\;\\;-{g_{GABA}}_{E/I}({V_{ni}}^m(t) - V_I)\\sum_{j=1}^{N_{n,I}}{w_{n,ij}{s_{nj}}^{GABA}(t)} $\n",
    "\n",
    "$\\;\\;\\;\\;\\;\\;\\;\\;\\;\\;\\;-{g_{AMPA,ext}}_{E/I}({V_{ni}}^m(t) - V_E)G_{E/I}\\sum_{n\\prime n}{C_{n\\prime n}\\sum_{j=1}^{N_{n\\prime n,E}}{{w_{n\\prime n,ij}{s_{n\\prime j}}^{AMPA,ext}(t-\\tau_{n\\prime n})}}} $\n",
    "\n",
    "$\\;\\;\\;\\;\\;\\;\\;\\;\\;\\;\\;+{I_{ni}}^{ext}(t) $\n",
    "\n",
    "$ {\\dot{s}_{n,i \\in E/I}}^{AMPA/GABA} = -\\frac{1}{\\tau_{AMPA/GABA}}{s_{n,i \\in E/I}}^{AMPA/GABA}(t) +  \\sum_k \\delta(t-{t_{n,i \\in E/I}}^k)$\n",
    "\n",
    "$ {\\dot{x}_{n,i \\in E}}^{NMDA} = -\\frac{1}{\\tau_{NMDA,rise}}{x_{n,i \\in E}}^{NMDA}(t) +  \\sum_k \\delta(t-{t_{n,i \\in E}}^k)$\n",
    "\n",
    "$ {\\dot{s}_{n,i \\in E}}^{NMDA} = -\\frac{1}{\\tau_{NMDA,decay}}{s_{n,i \\in E}}^{NMDA}(t) + \\alpha {x_{n,i \\in E}}^{NMDA}(t) (1 - {s_{n,i \\in E}}^{NMDA}(t)) $\n",
    "\n",
    "$ {\\dot{s}_{n\\prime n,i \\in E}}^{AMPA,ext} = -\\frac{1}{\\tau_{AMPA}}{s_{n\\prime n,i \\in E}}^{AMPA,ext}(t) + \\sum_k \\delta(t-{t_{n\\prime n, i \\in E}}^k) $\n",
    "\n",
    "Where \n",
    "\n",
    "generally\n",
    "\n",
    "$ w_{i \\in E, j \\in E} = w+ $\n",
    "\n",
    "$ w_{i \\in I, j \\in E} = J_i $\n",
    "\n",
    "and the global structural brain connectivity coupling constant G:\n",
    "\n",
    "$G_{I} = \\lambda * G_{E}, \\lambda \\in [0.0, 1.0]$\n",
    "\n",
    "for feedforward inhibition.\n",
    "\n",
    "Boundaries:\n",
    "\n",
    "$ {s_{n,exc/inh}}^{AMPA/NMDA/GABA/AMPA,ext}(t) \\in [0.0, 1.0]$\n",
    "\n",
    "\n",
    "When $V_m(t) > V_{thr}$, emit a spike and clamp $V_m(t)$ to $V_{reset}$ for ${\\tau_{ref}}_{E/I}$ ms.\n",
    "\n",
    "\n",
    "## Parameters following Ponce-Alvarez et al 2014 (Deco et al. 2013):\n",
    "\n",
    "- structural TVB connectivity weights $C_{{n\\prime},n}$ (${n\\prime}->n$)\n",
    "- structural TVB connectivity delays $\\tau_{{n\\prime},n}$  (${n\\prime}->n$)\n",
    "- leak membrane potential $ V_L = -70 mV $\n",
    "- threshold membrane potential $ V_{thr} = -50mV $\n",
    "- reset membrane potential $ V_{reset} = -55mV $\n",
    "- AMPA time constant $ \\tau_{AMPA} = 2ms $\n",
    "- GABA time constant $\\tau_{GABA}=10ms$ \n",
    "- NMDA rise time constant $ \\tau_{NMDA,rise}=2ms$ \n",
    "- NMDA decay time constant $ \\tau_{NMDA,decay}=100ms$\n",
    "- NMDA synapse sigmoidal parameters: $\\alpha = 0.5 kHz, \\beta = 0.062, \\lambda_{NMDA} = 0.28$\n",
    "- Excitatory/Inhibitory refractory time ${\\tau_{ref}}_{E/I} = 2/1ms$\n",
    "- Excitatory/Inhibitory reversal potential $V_{E/I} = 0 /-70mV$\n",
    "- Excitatory/Inhibitory membrane capacitance $ {C_m}_{E/I} = 0.5/0.2nF $\n",
    "- Excitatory/Inhibitory membrane conductance $ {g_m}_{E/I} = 25/20nS $\n",
    "- Excitatory/Inhibitory AMPA,ext membrane conductance $ {g_{AMPA,ext}}_{E/I} = 3.37/2.59 (2.496/1.944) nS$\n",
    "- Excitatory/Inhibitory AMPA membrane conductance $ {g_{AMPA}}_{E/I} = 0.065/0.051 (0.104/0.081) nS $\n",
    "- Excitatory/Inhibitory GABA membrane conductance $ {g_{GABA}}_{E/I} = 10.94/8.51 (4.375/3.4055) nS $\n",
    "- Excitatory/Inhibitory NMDA membrane conductance $ {g_{NMDA}}_{E/I} = 0.20/0.16 (0.327/0.258) nS $\n",
    "- local feedback inhibitory synaptic weight $J_{i} = 1.0$ \n",
    "- local excitatory synaptic recurrent weight $w+ = 1.55$\n",
    "- local excitatory to inhibitory synaptic weight $ w_{i \\in E, j \\in I} = 1.0 $\n",
    "- local inhibitory synaptic recurrent weight $ w_{i \\in I, j \\in I} = 1.0 $\n"
   ]
  },
  {
   "cell_type": "code",
   "execution_count": 1,
   "metadata": {},
   "outputs": [],
   "source": [
    "model = \"SpikingWongWangExcIOInhI\""
   ]
  },
  {
   "cell_type": "code",
   "execution_count": 2,
   "metadata": {
    "ExecuteTime": {
     "end_time": "2019-07-12T20:35:57.561354Z",
     "start_time": "2019-07-12T20:35:52.475653Z"
    },
    "run_control": {
     "frozen": false,
     "read_only": false
    },
    "scrolled": true,
    "slideshow": {
     "slide_type": "slide"
    }
   },
   "outputs": [],
   "source": [
    "import os\n",
    "from collections import OrderedDict\n",
    "import time\n",
    "import numpy as np\n",
    "\n",
    "from tvb.basic.profile import TvbProfile\n",
    "TvbProfile.set_profile(TvbProfile.LIBRARY_PROFILE)\n",
    "\n",
    "from tvb_multiscale.core.config import Config, CONFIGURED\n",
    "\n",
    "work_path = os.getcwd()\n",
    "data_path = os.path.join(work_path.split(\"tvb_nest\")[0], \"data\")\n",
    "outputs_path = os.path.join(work_path, \"outputs/SpikingWongWangExcIOInhI\")\n",
    "config = Config(output_base=outputs_path)\n",
    "\n",
    "config.figures.SHOW_FLAG = True \n",
    "config.figures.SAVE_FLAG = True\n",
    "config.figures.FIG_FORMAT = 'png'\n",
    "\n",
    "from tvb_multiscale.core.plot.plotter import Plotter\n",
    "plotter = Plotter(config)\n",
    "\n",
    "try:\n",
    "    from tvb_multiscale.core.io.h5_writer import H5Writer\n",
    "    writer = H5Writer()\n",
    "except:\n",
    "    writer = None\n",
    "    \n",
    "# For interactive plotting:\n",
    "# %matplotlib notebook  \n",
    "\n",
    "# Otherwise:\n",
    "%matplotlib inline "
   ]
  },
  {
   "cell_type": "markdown",
   "metadata": {
    "slideshow": {
     "slide_type": "subslide"
    }
   },
   "source": [
    "## 1. Prepare TVB simulator <br> (including structural data -minimally a TVB connectivity, region mean field model, integrator, monitors etc)"
   ]
  },
  {
   "cell_type": "code",
   "execution_count": 3,
   "metadata": {
    "ExecuteTime": {
     "end_time": "2019-07-12T20:35:59.690799Z",
     "start_time": "2019-07-12T20:35:57.571529Z"
    },
    "run_control": {
     "frozen": false,
     "read_only": false
    },
    "scrolled": true,
    "slideshow": {
     "slide_type": "subslide"
    }
   },
   "outputs": [
    {
     "name": "stdout",
     "output_type": "stream",
     "text": [
      "2020-12-22 15:38:49,718 - ERROR - root - Internal Python error in the inspect module.\n",
      "Below is the traceback from this internal error.\n",
      "\n",
      "Traceback (most recent call last):\n",
      "  File \"/home/docker/env/neurosci/lib/python3.7/site-packages/IPython/core/interactiveshell.py\", line 3418, in run_code\n",
      "    exec(code_obj, self.user_global_ns, self.user_ns)\n",
      "  File \"<ipython-input-3-39e5564ef233>\", line 1, in <module>\n",
      "    from tvb_multiscale.core.tvb.simulator_builder import CoSimulatorBuilder\n",
      "  File \"/home/docker/packages/tvb-multiscale/tvb_multiscale/core/tvb/simulator_builder.py\", line 10, in <module>\n",
      "    from tvb.simulator.cosimulator import CoSimulator\n",
      "  File \"/home/docker/packages/tvb-root/scientific_library/tvb/simulator/cosimulator.py\", line 42, in <module>\n",
      "    from tvb.simulator.simulator import Simulator\n",
      "  File \"/home/docker/packages/tvb-root/scientific_library/tvb/simulator/simulator.py\", line 59, in <module>\n",
      "    class Simulator(HasTraits):\n",
      "  File \"/home/docker/packages/tvb-root/scientific_library/tvb/simulator/simulator.py\", line 118, in Simulator\n",
      "    default=models.Generic2dOscillator(),\n",
      "  File \"/home/docker/packages/tvb-root/scientific_library/tvb/simulator/models/__init__.py\", line 141, in do_import\n",
      "    model_module = importlib.import_module(module_name)\n",
      "  File \"/usr/lib/python3.7/importlib/__init__.py\", line 127, in import_module\n",
      "    return _bootstrap._gcd_import(name[level:], package, level)\n",
      "  File \"/home/docker/packages/tvb-root/scientific_library/tvb/simulator/models/oscillator.py\", line 390, in <module>\n",
      "    @guvectorize([(float64[:],) * 16], '(n),(m)' + ',()'*13 + '->(n)', nopython=True)\n",
      "  File \"/home/docker/env/neurosci/lib/python3.7/site-packages/numba/np/ufunc/decorators.py\", line 179, in wrap\n",
      "    guvec.add(fty)\n",
      "  File \"/home/docker/env/neurosci/lib/python3.7/site-packages/numba/np/ufunc/ufuncbuilder.py\", line 213, in add\n",
      "    self.nb_func, targetoptions, sig)\n",
      "  File \"/home/docker/env/neurosci/lib/python3.7/site-packages/numba/np/ufunc/ufuncbuilder.py\", line 144, in _compile_element_wise_function\n",
      "    cres = nb_func.compile(sig, **targetoptions)\n",
      "  File \"/home/docker/env/neurosci/lib/python3.7/site-packages/numba/np/ufunc/ufuncbuilder.py\", line 93, in compile\n",
      "    return self._compile_core(sig, flags, locals)\n",
      "  File \"/home/docker/env/neurosci/lib/python3.7/site-packages/numba/np/ufunc/ufuncbuilder.py\", line 128, in _compile_core\n",
      "    flags=flags, locals=locals)\n",
      "  File \"/home/docker/env/neurosci/lib/python3.7/site-packages/numba/core/compiler.py\", line 626, in compile_extra\n",
      "    args, return_type, flags, locals)\n",
      "  File \"/home/docker/env/neurosci/lib/python3.7/site-packages/numba/core/compiler.py\", line 312, in __init__\n",
      "    typingctx.refresh()\n",
      "  File \"/home/docker/env/neurosci/lib/python3.7/site-packages/numba/core/typing/context.py\", line 158, in refresh\n",
      "    self._load_builtins()\n",
      "  File \"/home/docker/env/neurosci/lib/python3.7/site-packages/numba/core/typing/context.py\", line 407, in _load_builtins\n",
      "    self.install_registry(templates.builtin_registry)\n",
      "  File \"/home/docker/env/neurosci/lib/python3.7/site-packages/numba/core/typing/context.py\", line 427, in install_registry\n",
      "    self.insert_attributes(ftcls(self))\n",
      "  File \"/home/docker/env/neurosci/lib/python3.7/site-packages/numba/core/typing/templates.py\", line 930, in __init__\n",
      "    super(_OverloadAttributeTemplate, self).__init__(context)\n",
      "  File \"/home/docker/env/neurosci/lib/python3.7/site-packages/numba/core/typing/templates.py\", line 887, in __init__\n",
      "    self._lazy_class_init()\n",
      "  File \"/home/docker/env/neurosci/lib/python3.7/site-packages/numba/core/typing/templates.py\", line 896, in _lazy_class_init\n",
      "    cls.do_class_init()\n",
      "  File \"/home/docker/env/neurosci/lib/python3.7/site-packages/numba/core/typing/templates.py\", line 984, in do_class_init\n",
      "    @lower_builtin((cls.key, attr), cls.key, types.VarArg(types.Any))\n",
      "KeyboardInterrupt\n",
      "\n",
      "During handling of the above exception, another exception occurred:\n",
      "\n",
      "Traceback (most recent call last):\n",
      "  File \"/home/docker/env/neurosci/lib/python3.7/site-packages/IPython/core/interactiveshell.py\", line 2045, in showtraceback\n",
      "    stb = value._render_traceback_()\n",
      "AttributeError: 'KeyboardInterrupt' object has no attribute '_render_traceback_'\n",
      "\n",
      "During handling of the above exception, another exception occurred:\n",
      "\n",
      "Traceback (most recent call last):\n",
      "  File \"/usr/lib/python3.7/genericpath.py\", line 19, in exists\n",
      "    os.stat(path)\n",
      "FileNotFoundError: [Errno 2] No such file or directory: '<ipython-input-3-39e5564ef233>'\n",
      "\n",
      "During handling of the above exception, another exception occurred:\n",
      "\n",
      "Traceback (most recent call last):\n",
      "  File \"/home/docker/env/neurosci/lib/python3.7/site-packages/IPython/core/ultratb.py\", line 1170, in get_records\n",
      "    return _fixed_getinnerframes(etb, number_of_lines_of_context, tb_offset)\n",
      "  File \"/home/docker/env/neurosci/lib/python3.7/site-packages/IPython/core/ultratb.py\", line 316, in wrapped\n",
      "    return f(*args, **kwargs)\n",
      "  File \"/home/docker/env/neurosci/lib/python3.7/site-packages/IPython/core/ultratb.py\", line 350, in _fixed_getinnerframes\n",
      "    records = fix_frame_records_filenames(inspect.getinnerframes(etb, context))\n",
      "  File \"/usr/lib/python3.7/inspect.py\", line 1502, in getinnerframes\n",
      "    frameinfo = (tb.tb_frame,) + getframeinfo(tb, context)\n",
      "  File \"/usr/lib/python3.7/inspect.py\", line 1464, in getframeinfo\n",
      "    lines, lnum = findsource(frame)\n",
      "  File \"/home/docker/env/neurosci/lib/python3.7/site-packages/IPython/core/ultratb.py\", line 170, in findsource\n",
      "    file = getsourcefile(object) or getfile(object)\n",
      "  File \"/usr/lib/python3.7/inspect.py\", line 693, in getsourcefile\n",
      "    if os.path.exists(filename):\n",
      "  File \"/usr/lib/python3.7/genericpath.py\", line 19, in exists\n",
      "    os.stat(path)\n",
      "KeyboardInterrupt\n"
     ]
    },
    {
     "ename": "TypeError",
     "evalue": "object of type 'NoneType' has no len()",
     "output_type": "error",
     "traceback": [
      "\u001b[0;31m\u001b[0m",
      "\u001b[0;31mKeyboardInterrupt\u001b[0mTraceback (most recent call last)",
      "    \u001b[0;31m[... skipping hidden 1 frame]\u001b[0m\n",
      "\u001b[0;32m<ipython-input-3-39e5564ef233>\u001b[0m in \u001b[0;36m<module>\u001b[0;34m\u001b[0m\n\u001b[0;32m----> 1\u001b[0;31m \u001b[0;32mfrom\u001b[0m \u001b[0mtvb_multiscale\u001b[0m\u001b[0;34m.\u001b[0m\u001b[0mcore\u001b[0m\u001b[0;34m.\u001b[0m\u001b[0mtvb\u001b[0m\u001b[0;34m.\u001b[0m\u001b[0msimulator_builder\u001b[0m \u001b[0;32mimport\u001b[0m \u001b[0mSimulatorBuilder\u001b[0m\u001b[0;34m\u001b[0m\u001b[0;34m\u001b[0m\u001b[0m\n\u001b[0m\u001b[1;32m      2\u001b[0m \u001b[0;32mfrom\u001b[0m \u001b[0mtvb\u001b[0m\u001b[0;34m.\u001b[0m\u001b[0mdatatypes\u001b[0m\u001b[0;34m.\u001b[0m\u001b[0mconnectivity\u001b[0m \u001b[0;32mimport\u001b[0m \u001b[0mConnectivity\u001b[0m\u001b[0;34m\u001b[0m\u001b[0;34m\u001b[0m\u001b[0m\n\u001b[1;32m      3\u001b[0m \u001b[0;32mfrom\u001b[0m \u001b[0mtvb\u001b[0m\u001b[0;34m.\u001b[0m\u001b[0msimulator\u001b[0m\u001b[0;34m.\u001b[0m\u001b[0mmodels\u001b[0m\u001b[0;34m.\u001b[0m\u001b[0mreduced_wong_wang_exc_io\u001b[0m \u001b[0;32mimport\u001b[0m \u001b[0mReducedWongWangExcIO\u001b[0m\u001b[0;34m\u001b[0m\u001b[0;34m\u001b[0m\u001b[0m\n",
      "\u001b[0;32m~/packages/tvb-multiscale/tvb_multiscale/core/tvb/simulator_builder.py\u001b[0m in \u001b[0;36m<module>\u001b[0;34m\u001b[0m\n\u001b[1;32m      9\u001b[0m \u001b[0;32mfrom\u001b[0m \u001b[0mtvb\u001b[0m\u001b[0;34m.\u001b[0m\u001b[0mdatatypes\u001b[0m\u001b[0;34m.\u001b[0m\u001b[0mconnectivity\u001b[0m \u001b[0;32mimport\u001b[0m \u001b[0mConnectivity\u001b[0m\u001b[0;34m\u001b[0m\u001b[0;34m\u001b[0m\u001b[0m\n\u001b[0;32m---> 10\u001b[0;31m \u001b[0;32mfrom\u001b[0m \u001b[0mtvb\u001b[0m\u001b[0;34m.\u001b[0m\u001b[0msimulator\u001b[0m\u001b[0;34m.\u001b[0m\u001b[0mcosimulator\u001b[0m \u001b[0;32mimport\u001b[0m \u001b[0mCoSimulator\u001b[0m\u001b[0;34m\u001b[0m\u001b[0;34m\u001b[0m\u001b[0m\n\u001b[0m\u001b[1;32m     11\u001b[0m \u001b[0;32mfrom\u001b[0m \u001b[0mtvb\u001b[0m\u001b[0;34m.\u001b[0m\u001b[0msimulator\u001b[0m\u001b[0;34m.\u001b[0m\u001b[0mintegrators\u001b[0m \u001b[0;32mimport\u001b[0m \u001b[0mHeunStochastic\u001b[0m\u001b[0;34m\u001b[0m\u001b[0;34m\u001b[0m\u001b[0m\n",
      "\u001b[0;32m~/packages/tvb-root/scientific_library/tvb/simulator/cosimulator.py\u001b[0m in \u001b[0;36m<module>\u001b[0;34m\u001b[0m\n\u001b[1;32m     41\u001b[0m \u001b[0;32mimport\u001b[0m \u001b[0mnumpy\u001b[0m\u001b[0;34m\u001b[0m\u001b[0;34m\u001b[0m\u001b[0m\n\u001b[0;32m---> 42\u001b[0;31m \u001b[0;32mfrom\u001b[0m \u001b[0mtvb\u001b[0m\u001b[0;34m.\u001b[0m\u001b[0msimulator\u001b[0m\u001b[0;34m.\u001b[0m\u001b[0msimulator\u001b[0m \u001b[0;32mimport\u001b[0m \u001b[0mSimulator\u001b[0m\u001b[0;34m\u001b[0m\u001b[0;34m\u001b[0m\u001b[0m\n\u001b[0m\u001b[1;32m     43\u001b[0m \u001b[0;32mfrom\u001b[0m \u001b[0mtvb\u001b[0m\u001b[0;34m.\u001b[0m\u001b[0msimulator\u001b[0m \u001b[0;32mimport\u001b[0m \u001b[0mmodels\u001b[0m\u001b[0;34m\u001b[0m\u001b[0;34m\u001b[0m\u001b[0m\n",
      "\u001b[0;32m~/packages/tvb-root/scientific_library/tvb/simulator/simulator.py\u001b[0m in \u001b[0;36m<module>\u001b[0;34m\u001b[0m\n\u001b[1;32m     58\u001b[0m \u001b[0;31m# most of the runtime associated with a simulation.\u001b[0m\u001b[0;34m\u001b[0m\u001b[0;34m\u001b[0m\u001b[0;34m\u001b[0m\u001b[0m\n\u001b[0;32m---> 59\u001b[0;31m \u001b[0;32mclass\u001b[0m \u001b[0mSimulator\u001b[0m\u001b[0;34m(\u001b[0m\u001b[0mHasTraits\u001b[0m\u001b[0;34m)\u001b[0m\u001b[0;34m:\u001b[0m\u001b[0;34m\u001b[0m\u001b[0;34m\u001b[0m\u001b[0m\n\u001b[0m\u001b[1;32m     60\u001b[0m     \u001b[0;34m\"\"\"A Simulator assembles components required to perform simulations.\"\"\"\u001b[0m\u001b[0;34m\u001b[0m\u001b[0;34m\u001b[0m\u001b[0m\n",
      "\u001b[0;32m~/packages/tvb-root/scientific_library/tvb/simulator/simulator.py\u001b[0m in \u001b[0;36mSimulator\u001b[0;34m()\u001b[0m\n\u001b[1;32m    117\u001b[0m         \u001b[0mlabel\u001b[0m\u001b[0;34m=\u001b[0m\u001b[0;34m\"Local dynamic model\"\u001b[0m\u001b[0;34m,\u001b[0m\u001b[0;34m\u001b[0m\u001b[0;34m\u001b[0m\u001b[0m\n\u001b[0;32m--> 118\u001b[0;31m         \u001b[0mdefault\u001b[0m\u001b[0;34m=\u001b[0m\u001b[0mmodels\u001b[0m\u001b[0;34m.\u001b[0m\u001b[0mGeneric2dOscillator\u001b[0m\u001b[0;34m(\u001b[0m\u001b[0;34m)\u001b[0m\u001b[0;34m,\u001b[0m\u001b[0;34m\u001b[0m\u001b[0;34m\u001b[0m\u001b[0m\n\u001b[0m\u001b[1;32m    119\u001b[0m         \u001b[0mrequired\u001b[0m\u001b[0;34m=\u001b[0m\u001b[0;32mTrue\u001b[0m\u001b[0;34m,\u001b[0m\u001b[0;34m\u001b[0m\u001b[0;34m\u001b[0m\u001b[0m\n",
      "\u001b[0;32m~/packages/tvb-root/scientific_library/tvb/simulator/models/__init__.py\u001b[0m in \u001b[0;36mdo_import\u001b[0;34m(_)\u001b[0m\n\u001b[1;32m    140\u001b[0m         \u001b[0mmodule_name\u001b[0m \u001b[0;34m=\u001b[0m \u001b[0;34mf'tvb.simulator.models.{mod}'\u001b[0m\u001b[0;34m\u001b[0m\u001b[0;34m\u001b[0m\u001b[0m\n\u001b[0;32m--> 141\u001b[0;31m         \u001b[0mmodel_module\u001b[0m \u001b[0;34m=\u001b[0m \u001b[0mimportlib\u001b[0m\u001b[0;34m.\u001b[0m\u001b[0mimport_module\u001b[0m\u001b[0;34m(\u001b[0m\u001b[0mmodule_name\u001b[0m\u001b[0;34m)\u001b[0m\u001b[0;34m\u001b[0m\u001b[0;34m\u001b[0m\u001b[0m\n\u001b[0m\u001b[1;32m    142\u001b[0m         \u001b[0;32mreturn\u001b[0m \u001b[0mgetattr\u001b[0m\u001b[0;34m(\u001b[0m\u001b[0mmodel_module\u001b[0m\u001b[0;34m,\u001b[0m \u001b[0mmodel\u001b[0m\u001b[0;34m)\u001b[0m\u001b[0;34m\u001b[0m\u001b[0;34m\u001b[0m\u001b[0m\n",
      "\u001b[0;32m/usr/lib/python3.7/importlib/__init__.py\u001b[0m in \u001b[0;36mimport_module\u001b[0;34m(name, package)\u001b[0m\n\u001b[1;32m    126\u001b[0m             \u001b[0mlevel\u001b[0m \u001b[0;34m+=\u001b[0m \u001b[0;36m1\u001b[0m\u001b[0;34m\u001b[0m\u001b[0;34m\u001b[0m\u001b[0m\n\u001b[0;32m--> 127\u001b[0;31m     \u001b[0;32mreturn\u001b[0m \u001b[0m_bootstrap\u001b[0m\u001b[0;34m.\u001b[0m\u001b[0m_gcd_import\u001b[0m\u001b[0;34m(\u001b[0m\u001b[0mname\u001b[0m\u001b[0;34m[\u001b[0m\u001b[0mlevel\u001b[0m\u001b[0;34m:\u001b[0m\u001b[0;34m]\u001b[0m\u001b[0;34m,\u001b[0m \u001b[0mpackage\u001b[0m\u001b[0;34m,\u001b[0m \u001b[0mlevel\u001b[0m\u001b[0;34m)\u001b[0m\u001b[0;34m\u001b[0m\u001b[0;34m\u001b[0m\u001b[0m\n\u001b[0m\u001b[1;32m    128\u001b[0m \u001b[0;34m\u001b[0m\u001b[0m\n",
      "\u001b[0;32m~/packages/tvb-root/scientific_library/tvb/simulator/models/oscillator.py\u001b[0m in \u001b[0;36m<module>\u001b[0;34m\u001b[0m\n\u001b[1;32m    389\u001b[0m \u001b[0;34m\u001b[0m\u001b[0m\n\u001b[0;32m--> 390\u001b[0;31m \u001b[0;34m@\u001b[0m\u001b[0mguvectorize\u001b[0m\u001b[0;34m(\u001b[0m\u001b[0;34m[\u001b[0m\u001b[0;34m(\u001b[0m\u001b[0mfloat64\u001b[0m\u001b[0;34m[\u001b[0m\u001b[0;34m:\u001b[0m\u001b[0;34m]\u001b[0m\u001b[0;34m,\u001b[0m\u001b[0;34m)\u001b[0m \u001b[0;34m*\u001b[0m \u001b[0;36m16\u001b[0m\u001b[0;34m]\u001b[0m\u001b[0;34m,\u001b[0m \u001b[0;34m'(n),(m)'\u001b[0m \u001b[0;34m+\u001b[0m \u001b[0;34m',()'\u001b[0m\u001b[0;34m*\u001b[0m\u001b[0;36m13\u001b[0m \u001b[0;34m+\u001b[0m \u001b[0;34m'->(n)'\u001b[0m\u001b[0;34m,\u001b[0m \u001b[0mnopython\u001b[0m\u001b[0;34m=\u001b[0m\u001b[0;32mTrue\u001b[0m\u001b[0;34m)\u001b[0m\u001b[0;34m\u001b[0m\u001b[0;34m\u001b[0m\u001b[0m\n\u001b[0m\u001b[1;32m    391\u001b[0m \u001b[0;32mdef\u001b[0m \u001b[0m_numba_dfun_g2d\u001b[0m\u001b[0;34m(\u001b[0m\u001b[0mvw\u001b[0m\u001b[0;34m,\u001b[0m \u001b[0mc_0\u001b[0m\u001b[0;34m,\u001b[0m \u001b[0mtau\u001b[0m\u001b[0;34m,\u001b[0m \u001b[0mI\u001b[0m\u001b[0;34m,\u001b[0m \u001b[0ma\u001b[0m\u001b[0;34m,\u001b[0m \u001b[0mb\u001b[0m\u001b[0;34m,\u001b[0m \u001b[0mc\u001b[0m\u001b[0;34m,\u001b[0m \u001b[0md\u001b[0m\u001b[0;34m,\u001b[0m \u001b[0me\u001b[0m\u001b[0;34m,\u001b[0m \u001b[0mf\u001b[0m\u001b[0;34m,\u001b[0m \u001b[0mg\u001b[0m\u001b[0;34m,\u001b[0m \u001b[0mbeta\u001b[0m\u001b[0;34m,\u001b[0m \u001b[0malpha\u001b[0m\u001b[0;34m,\u001b[0m \u001b[0mgamma\u001b[0m\u001b[0;34m,\u001b[0m \u001b[0mlc_0\u001b[0m\u001b[0;34m,\u001b[0m \u001b[0mdx\u001b[0m\u001b[0;34m)\u001b[0m\u001b[0;34m:\u001b[0m\u001b[0;34m\u001b[0m\u001b[0;34m\u001b[0m\u001b[0m\n",
      "\u001b[0;32m~/env/neurosci/lib/python3.7/site-packages/numba/np/ufunc/decorators.py\u001b[0m in \u001b[0;36mwrap\u001b[0;34m(func)\u001b[0m\n\u001b[1;32m    178\u001b[0m         \u001b[0;32mfor\u001b[0m \u001b[0mfty\u001b[0m \u001b[0;32min\u001b[0m \u001b[0mftylist\u001b[0m\u001b[0;34m:\u001b[0m\u001b[0;34m\u001b[0m\u001b[0;34m\u001b[0m\u001b[0m\n\u001b[0;32m--> 179\u001b[0;31m             \u001b[0mguvec\u001b[0m\u001b[0;34m.\u001b[0m\u001b[0madd\u001b[0m\u001b[0;34m(\u001b[0m\u001b[0mfty\u001b[0m\u001b[0;34m)\u001b[0m\u001b[0;34m\u001b[0m\u001b[0;34m\u001b[0m\u001b[0m\n\u001b[0m\u001b[1;32m    180\u001b[0m         \u001b[0;32mreturn\u001b[0m \u001b[0mguvec\u001b[0m\u001b[0;34m.\u001b[0m\u001b[0mbuild_ufunc\u001b[0m\u001b[0;34m(\u001b[0m\u001b[0;34m)\u001b[0m\u001b[0;34m\u001b[0m\u001b[0;34m\u001b[0m\u001b[0m\n",
      "\u001b[0;32m~/env/neurosci/lib/python3.7/site-packages/numba/np/ufunc/ufuncbuilder.py\u001b[0m in \u001b[0;36madd\u001b[0;34m(self, sig)\u001b[0m\n\u001b[1;32m    212\u001b[0m         cres, args, return_type = _compile_element_wise_function(\n\u001b[0;32m--> 213\u001b[0;31m             self.nb_func, targetoptions, sig)\n\u001b[0m\u001b[1;32m    214\u001b[0m         \u001b[0msig\u001b[0m \u001b[0;34m=\u001b[0m \u001b[0mself\u001b[0m\u001b[0;34m.\u001b[0m\u001b[0m_finalize_signature\u001b[0m\u001b[0;34m(\u001b[0m\u001b[0mcres\u001b[0m\u001b[0;34m,\u001b[0m \u001b[0margs\u001b[0m\u001b[0;34m,\u001b[0m \u001b[0mreturn_type\u001b[0m\u001b[0;34m)\u001b[0m\u001b[0;34m\u001b[0m\u001b[0;34m\u001b[0m\u001b[0m\n",
      "\u001b[0;32m~/env/neurosci/lib/python3.7/site-packages/numba/np/ufunc/ufuncbuilder.py\u001b[0m in \u001b[0;36m_compile_element_wise_function\u001b[0;34m(nb_func, targetoptions, sig)\u001b[0m\n\u001b[1;32m    143\u001b[0m     \u001b[0;31m# Return CompileResult to test\u001b[0m\u001b[0;34m\u001b[0m\u001b[0;34m\u001b[0m\u001b[0;34m\u001b[0m\u001b[0m\n\u001b[0;32m--> 144\u001b[0;31m     \u001b[0mcres\u001b[0m \u001b[0;34m=\u001b[0m \u001b[0mnb_func\u001b[0m\u001b[0;34m.\u001b[0m\u001b[0mcompile\u001b[0m\u001b[0;34m(\u001b[0m\u001b[0msig\u001b[0m\u001b[0;34m,\u001b[0m \u001b[0;34m**\u001b[0m\u001b[0mtargetoptions\u001b[0m\u001b[0;34m)\u001b[0m\u001b[0;34m\u001b[0m\u001b[0;34m\u001b[0m\u001b[0m\n\u001b[0m\u001b[1;32m    145\u001b[0m     \u001b[0margs\u001b[0m\u001b[0;34m,\u001b[0m \u001b[0mreturn_type\u001b[0m \u001b[0;34m=\u001b[0m \u001b[0msigutils\u001b[0m\u001b[0;34m.\u001b[0m\u001b[0mnormalize_signature\u001b[0m\u001b[0;34m(\u001b[0m\u001b[0msig\u001b[0m\u001b[0;34m)\u001b[0m\u001b[0;34m\u001b[0m\u001b[0;34m\u001b[0m\u001b[0m\n",
      "\u001b[0;32m~/env/neurosci/lib/python3.7/site-packages/numba/np/ufunc/ufuncbuilder.py\u001b[0m in \u001b[0;36mcompile\u001b[0;34m(self, sig, locals, **targetoptions)\u001b[0m\n\u001b[1;32m     92\u001b[0m \u001b[0;34m\u001b[0m\u001b[0m\n\u001b[0;32m---> 93\u001b[0;31m         \u001b[0;32mreturn\u001b[0m \u001b[0mself\u001b[0m\u001b[0;34m.\u001b[0m\u001b[0m_compile_core\u001b[0m\u001b[0;34m(\u001b[0m\u001b[0msig\u001b[0m\u001b[0;34m,\u001b[0m \u001b[0mflags\u001b[0m\u001b[0;34m,\u001b[0m \u001b[0mlocals\u001b[0m\u001b[0;34m)\u001b[0m\u001b[0;34m\u001b[0m\u001b[0;34m\u001b[0m\u001b[0m\n\u001b[0m\u001b[1;32m     94\u001b[0m \u001b[0;34m\u001b[0m\u001b[0m\n",
      "\u001b[0;32m~/env/neurosci/lib/python3.7/site-packages/numba/np/ufunc/ufuncbuilder.py\u001b[0m in \u001b[0;36m_compile_core\u001b[0;34m(self, sig, flags, locals)\u001b[0m\n\u001b[1;32m    127\u001b[0m                                               \u001b[0mreturn_type\u001b[0m\u001b[0;34m=\u001b[0m\u001b[0mreturn_type\u001b[0m\u001b[0;34m,\u001b[0m\u001b[0;34m\u001b[0m\u001b[0;34m\u001b[0m\u001b[0m\n\u001b[0;32m--> 128\u001b[0;31m                                               flags=flags, locals=locals)\n\u001b[0m\u001b[1;32m    129\u001b[0m \u001b[0;34m\u001b[0m\u001b[0m\n",
      "\u001b[0;32m~/env/neurosci/lib/python3.7/site-packages/numba/core/compiler.py\u001b[0m in \u001b[0;36mcompile_extra\u001b[0;34m(typingctx, targetctx, func, args, return_type, flags, locals, library, pipeline_class)\u001b[0m\n\u001b[1;32m    625\u001b[0m     pipeline = pipeline_class(typingctx, targetctx, library,\n\u001b[0;32m--> 626\u001b[0;31m                               args, return_type, flags, locals)\n\u001b[0m\u001b[1;32m    627\u001b[0m     \u001b[0;32mreturn\u001b[0m \u001b[0mpipeline\u001b[0m\u001b[0;34m.\u001b[0m\u001b[0mcompile_extra\u001b[0m\u001b[0;34m(\u001b[0m\u001b[0mfunc\u001b[0m\u001b[0;34m)\u001b[0m\u001b[0;34m\u001b[0m\u001b[0;34m\u001b[0m\u001b[0m\n",
      "\u001b[0;32m~/env/neurosci/lib/python3.7/site-packages/numba/core/compiler.py\u001b[0m in \u001b[0;36m__init__\u001b[0;34m(self, typingctx, targetctx, library, args, return_type, flags, locals)\u001b[0m\n\u001b[1;32m    311\u001b[0m         \u001b[0mconfig\u001b[0m\u001b[0;34m.\u001b[0m\u001b[0mreload_config\u001b[0m\u001b[0;34m(\u001b[0m\u001b[0;34m)\u001b[0m\u001b[0;34m\u001b[0m\u001b[0;34m\u001b[0m\u001b[0m\n\u001b[0;32m--> 312\u001b[0;31m         \u001b[0mtypingctx\u001b[0m\u001b[0;34m.\u001b[0m\u001b[0mrefresh\u001b[0m\u001b[0;34m(\u001b[0m\u001b[0;34m)\u001b[0m\u001b[0;34m\u001b[0m\u001b[0;34m\u001b[0m\u001b[0m\n\u001b[0m\u001b[1;32m    313\u001b[0m         \u001b[0mtargetctx\u001b[0m\u001b[0;34m.\u001b[0m\u001b[0mrefresh\u001b[0m\u001b[0;34m(\u001b[0m\u001b[0;34m)\u001b[0m\u001b[0;34m\u001b[0m\u001b[0;34m\u001b[0m\u001b[0m\n",
      "\u001b[0;32m~/env/neurosci/lib/python3.7/site-packages/numba/core/typing/context.py\u001b[0m in \u001b[0;36mrefresh\u001b[0;34m(self)\u001b[0m\n\u001b[1;32m    157\u001b[0m         \u001b[0;31m# Some extensions may have augmented the builtin registry\u001b[0m\u001b[0;34m\u001b[0m\u001b[0;34m\u001b[0m\u001b[0;34m\u001b[0m\u001b[0m\n\u001b[0;32m--> 158\u001b[0;31m         \u001b[0mself\u001b[0m\u001b[0;34m.\u001b[0m\u001b[0m_load_builtins\u001b[0m\u001b[0;34m(\u001b[0m\u001b[0;34m)\u001b[0m\u001b[0;34m\u001b[0m\u001b[0;34m\u001b[0m\u001b[0m\n\u001b[0m\u001b[1;32m    159\u001b[0m \u001b[0;34m\u001b[0m\u001b[0m\n",
      "\u001b[0;32m~/env/neurosci/lib/python3.7/site-packages/numba/core/typing/context.py\u001b[0m in \u001b[0;36m_load_builtins\u001b[0;34m(self)\u001b[0m\n\u001b[1;32m    406\u001b[0m \u001b[0;34m\u001b[0m\u001b[0m\n\u001b[0;32m--> 407\u001b[0;31m         \u001b[0mself\u001b[0m\u001b[0;34m.\u001b[0m\u001b[0minstall_registry\u001b[0m\u001b[0;34m(\u001b[0m\u001b[0mtemplates\u001b[0m\u001b[0;34m.\u001b[0m\u001b[0mbuiltin_registry\u001b[0m\u001b[0;34m)\u001b[0m\u001b[0;34m\u001b[0m\u001b[0;34m\u001b[0m\u001b[0m\n\u001b[0m\u001b[1;32m    408\u001b[0m \u001b[0;34m\u001b[0m\u001b[0m\n",
      "\u001b[0;32m~/env/neurosci/lib/python3.7/site-packages/numba/core/typing/context.py\u001b[0m in \u001b[0;36minstall_registry\u001b[0;34m(self, registry)\u001b[0m\n\u001b[1;32m    426\u001b[0m         \u001b[0;32mfor\u001b[0m \u001b[0mftcls\u001b[0m \u001b[0;32min\u001b[0m \u001b[0mloader\u001b[0m\u001b[0;34m.\u001b[0m\u001b[0mnew_registrations\u001b[0m\u001b[0;34m(\u001b[0m\u001b[0;34m'attributes'\u001b[0m\u001b[0;34m)\u001b[0m\u001b[0;34m:\u001b[0m\u001b[0;34m\u001b[0m\u001b[0;34m\u001b[0m\u001b[0m\n\u001b[0;32m--> 427\u001b[0;31m             \u001b[0mself\u001b[0m\u001b[0;34m.\u001b[0m\u001b[0minsert_attributes\u001b[0m\u001b[0;34m(\u001b[0m\u001b[0mftcls\u001b[0m\u001b[0;34m(\u001b[0m\u001b[0mself\u001b[0m\u001b[0;34m)\u001b[0m\u001b[0;34m)\u001b[0m\u001b[0;34m\u001b[0m\u001b[0;34m\u001b[0m\u001b[0m\n\u001b[0m\u001b[1;32m    428\u001b[0m         \u001b[0;32mfor\u001b[0m \u001b[0mgv\u001b[0m\u001b[0;34m,\u001b[0m \u001b[0mgty\u001b[0m \u001b[0;32min\u001b[0m \u001b[0mloader\u001b[0m\u001b[0;34m.\u001b[0m\u001b[0mnew_registrations\u001b[0m\u001b[0;34m(\u001b[0m\u001b[0;34m'globals'\u001b[0m\u001b[0;34m)\u001b[0m\u001b[0;34m:\u001b[0m\u001b[0;34m\u001b[0m\u001b[0;34m\u001b[0m\u001b[0m\n",
      "\u001b[0;32m~/env/neurosci/lib/python3.7/site-packages/numba/core/typing/templates.py\u001b[0m in \u001b[0;36m__init__\u001b[0;34m(self, context)\u001b[0m\n\u001b[1;32m    929\u001b[0m     \u001b[0;32mdef\u001b[0m \u001b[0m__init__\u001b[0m\u001b[0;34m(\u001b[0m\u001b[0mself\u001b[0m\u001b[0;34m,\u001b[0m \u001b[0mcontext\u001b[0m\u001b[0;34m)\u001b[0m\u001b[0;34m:\u001b[0m\u001b[0;34m\u001b[0m\u001b[0;34m\u001b[0m\u001b[0m\n\u001b[0;32m--> 930\u001b[0;31m         \u001b[0msuper\u001b[0m\u001b[0;34m(\u001b[0m\u001b[0m_OverloadAttributeTemplate\u001b[0m\u001b[0;34m,\u001b[0m \u001b[0mself\u001b[0m\u001b[0;34m)\u001b[0m\u001b[0;34m.\u001b[0m\u001b[0m__init__\u001b[0m\u001b[0;34m(\u001b[0m\u001b[0mcontext\u001b[0m\u001b[0;34m)\u001b[0m\u001b[0;34m\u001b[0m\u001b[0;34m\u001b[0m\u001b[0m\n\u001b[0m\u001b[1;32m    931\u001b[0m         \u001b[0mself\u001b[0m\u001b[0;34m.\u001b[0m\u001b[0mcontext\u001b[0m \u001b[0;34m=\u001b[0m \u001b[0mcontext\u001b[0m\u001b[0;34m\u001b[0m\u001b[0;34m\u001b[0m\u001b[0m\n",
      "\u001b[0;32m~/env/neurosci/lib/python3.7/site-packages/numba/core/typing/templates.py\u001b[0m in \u001b[0;36m__init__\u001b[0;34m(self, context)\u001b[0m\n\u001b[1;32m    886\u001b[0m     \u001b[0;32mdef\u001b[0m \u001b[0m__init__\u001b[0m\u001b[0;34m(\u001b[0m\u001b[0mself\u001b[0m\u001b[0;34m,\u001b[0m \u001b[0mcontext\u001b[0m\u001b[0;34m)\u001b[0m\u001b[0;34m:\u001b[0m\u001b[0;34m\u001b[0m\u001b[0;34m\u001b[0m\u001b[0m\n\u001b[0;32m--> 887\u001b[0;31m         \u001b[0mself\u001b[0m\u001b[0;34m.\u001b[0m\u001b[0m_lazy_class_init\u001b[0m\u001b[0;34m(\u001b[0m\u001b[0;34m)\u001b[0m\u001b[0;34m\u001b[0m\u001b[0;34m\u001b[0m\u001b[0m\n\u001b[0m\u001b[1;32m    888\u001b[0m         \u001b[0mself\u001b[0m\u001b[0;34m.\u001b[0m\u001b[0mcontext\u001b[0m \u001b[0;34m=\u001b[0m \u001b[0mcontext\u001b[0m\u001b[0;34m\u001b[0m\u001b[0;34m\u001b[0m\u001b[0m\n",
      "\u001b[0;32m~/env/neurosci/lib/python3.7/site-packages/numba/core/typing/templates.py\u001b[0m in \u001b[0;36m_lazy_class_init\u001b[0;34m(cls)\u001b[0m\n\u001b[1;32m    895\u001b[0m         \u001b[0;32mif\u001b[0m \u001b[0;32mnot\u001b[0m \u001b[0mcls\u001b[0m\u001b[0;34m.\u001b[0m\u001b[0m_initialized\u001b[0m\u001b[0;34m:\u001b[0m\u001b[0;34m\u001b[0m\u001b[0;34m\u001b[0m\u001b[0m\n\u001b[0;32m--> 896\u001b[0;31m             \u001b[0mcls\u001b[0m\u001b[0;34m.\u001b[0m\u001b[0mdo_class_init\u001b[0m\u001b[0;34m(\u001b[0m\u001b[0;34m)\u001b[0m\u001b[0;34m\u001b[0m\u001b[0;34m\u001b[0m\u001b[0m\n\u001b[0m\u001b[1;32m    897\u001b[0m             \u001b[0mcls\u001b[0m\u001b[0;34m.\u001b[0m\u001b[0m_initialized\u001b[0m \u001b[0;34m=\u001b[0m \u001b[0;32mTrue\u001b[0m\u001b[0;34m\u001b[0m\u001b[0;34m\u001b[0m\u001b[0m\n",
      "\u001b[0;32m~/env/neurosci/lib/python3.7/site-packages/numba/core/typing/templates.py\u001b[0m in \u001b[0;36mdo_class_init\u001b[0;34m(cls)\u001b[0m\n\u001b[1;32m    983\u001b[0m \u001b[0;34m\u001b[0m\u001b[0m\n\u001b[0;32m--> 984\u001b[0;31m         \u001b[0;34m@\u001b[0m\u001b[0mlower_builtin\u001b[0m\u001b[0;34m(\u001b[0m\u001b[0;34m(\u001b[0m\u001b[0mcls\u001b[0m\u001b[0;34m.\u001b[0m\u001b[0mkey\u001b[0m\u001b[0;34m,\u001b[0m \u001b[0mattr\u001b[0m\u001b[0;34m)\u001b[0m\u001b[0;34m,\u001b[0m \u001b[0mcls\u001b[0m\u001b[0;34m.\u001b[0m\u001b[0mkey\u001b[0m\u001b[0;34m,\u001b[0m \u001b[0mtypes\u001b[0m\u001b[0;34m.\u001b[0m\u001b[0mVarArg\u001b[0m\u001b[0;34m(\u001b[0m\u001b[0mtypes\u001b[0m\u001b[0;34m.\u001b[0m\u001b[0mAny\u001b[0m\u001b[0;34m)\u001b[0m\u001b[0;34m)\u001b[0m\u001b[0;34m\u001b[0m\u001b[0;34m\u001b[0m\u001b[0m\n\u001b[0m\u001b[1;32m    985\u001b[0m         \u001b[0;32mdef\u001b[0m \u001b[0mmethod_impl\u001b[0m\u001b[0;34m(\u001b[0m\u001b[0mcontext\u001b[0m\u001b[0;34m,\u001b[0m \u001b[0mbuilder\u001b[0m\u001b[0;34m,\u001b[0m \u001b[0msig\u001b[0m\u001b[0;34m,\u001b[0m \u001b[0margs\u001b[0m\u001b[0;34m)\u001b[0m\u001b[0;34m:\u001b[0m\u001b[0;34m\u001b[0m\u001b[0;34m\u001b[0m\u001b[0m\n",
      "\u001b[0;31mKeyboardInterrupt\u001b[0m: ",
      "\nDuring handling of the above exception, another exception occurred:\n",
      "\u001b[0;31mAttributeError\u001b[0mTraceback (most recent call last)",
      "\u001b[0;32m~/env/neurosci/lib/python3.7/site-packages/IPython/core/interactiveshell.py\u001b[0m in \u001b[0;36mshowtraceback\u001b[0;34m(self, exc_tuple, filename, tb_offset, exception_only, running_compiled_code)\u001b[0m\n\u001b[1;32m   2044\u001b[0m                         \u001b[0;31m# in the engines. This should return a list of strings.\u001b[0m\u001b[0;34m\u001b[0m\u001b[0;34m\u001b[0m\u001b[0;34m\u001b[0m\u001b[0m\n\u001b[0;32m-> 2045\u001b[0;31m                         \u001b[0mstb\u001b[0m \u001b[0;34m=\u001b[0m \u001b[0mvalue\u001b[0m\u001b[0;34m.\u001b[0m\u001b[0m_render_traceback_\u001b[0m\u001b[0;34m(\u001b[0m\u001b[0;34m)\u001b[0m\u001b[0;34m\u001b[0m\u001b[0;34m\u001b[0m\u001b[0m\n\u001b[0m\u001b[1;32m   2046\u001b[0m                     \u001b[0;32mexcept\u001b[0m \u001b[0mException\u001b[0m\u001b[0;34m:\u001b[0m\u001b[0;34m\u001b[0m\u001b[0;34m\u001b[0m\u001b[0m\n",
      "\u001b[0;31mAttributeError\u001b[0m: 'KeyboardInterrupt' object has no attribute '_render_traceback_'",
      "\nDuring handling of the above exception, another exception occurred:\n",
      "\u001b[0;31mTypeError\u001b[0mTraceback (most recent call last)",
      "    \u001b[0;31m[... skipping hidden 1 frame]\u001b[0m\n",
      "\u001b[0;32m~/env/neurosci/lib/python3.7/site-packages/IPython/core/interactiveshell.py\u001b[0m in \u001b[0;36mshowtraceback\u001b[0;34m(self, exc_tuple, filename, tb_offset, exception_only, running_compiled_code)\u001b[0m\n\u001b[1;32m   2046\u001b[0m                     \u001b[0;32mexcept\u001b[0m \u001b[0mException\u001b[0m\u001b[0;34m:\u001b[0m\u001b[0;34m\u001b[0m\u001b[0;34m\u001b[0m\u001b[0m\n\u001b[1;32m   2047\u001b[0m                         stb = self.InteractiveTB.structured_traceback(etype,\n\u001b[0;32m-> 2048\u001b[0;31m                                             value, tb, tb_offset=tb_offset)\n\u001b[0m\u001b[1;32m   2049\u001b[0m \u001b[0;34m\u001b[0m\u001b[0m\n\u001b[1;32m   2050\u001b[0m                     \u001b[0mself\u001b[0m\u001b[0;34m.\u001b[0m\u001b[0m_showtraceback\u001b[0m\u001b[0;34m(\u001b[0m\u001b[0metype\u001b[0m\u001b[0;34m,\u001b[0m \u001b[0mvalue\u001b[0m\u001b[0;34m,\u001b[0m \u001b[0mstb\u001b[0m\u001b[0;34m)\u001b[0m\u001b[0;34m\u001b[0m\u001b[0;34m\u001b[0m\u001b[0m\n",
      "\u001b[0;32m~/env/neurosci/lib/python3.7/site-packages/IPython/core/ultratb.py\u001b[0m in \u001b[0;36mstructured_traceback\u001b[0;34m(self, etype, value, tb, tb_offset, number_of_lines_of_context)\u001b[0m\n\u001b[1;32m   1435\u001b[0m             \u001b[0mself\u001b[0m\u001b[0;34m.\u001b[0m\u001b[0mtb\u001b[0m \u001b[0;34m=\u001b[0m \u001b[0mtb\u001b[0m\u001b[0;34m\u001b[0m\u001b[0;34m\u001b[0m\u001b[0m\n\u001b[1;32m   1436\u001b[0m         return FormattedTB.structured_traceback(\n\u001b[0;32m-> 1437\u001b[0;31m             self, etype, value, tb, tb_offset, number_of_lines_of_context)\n\u001b[0m\u001b[1;32m   1438\u001b[0m \u001b[0;34m\u001b[0m\u001b[0m\n\u001b[1;32m   1439\u001b[0m \u001b[0;34m\u001b[0m\u001b[0m\n",
      "\u001b[0;32m~/env/neurosci/lib/python3.7/site-packages/IPython/core/ultratb.py\u001b[0m in \u001b[0;36mstructured_traceback\u001b[0;34m(self, etype, value, tb, tb_offset, number_of_lines_of_context)\u001b[0m\n\u001b[1;32m   1335\u001b[0m             \u001b[0;31m# Verbose modes need a full traceback\u001b[0m\u001b[0;34m\u001b[0m\u001b[0;34m\u001b[0m\u001b[0;34m\u001b[0m\u001b[0m\n\u001b[1;32m   1336\u001b[0m             return VerboseTB.structured_traceback(\n\u001b[0;32m-> 1337\u001b[0;31m                 \u001b[0mself\u001b[0m\u001b[0;34m,\u001b[0m \u001b[0metype\u001b[0m\u001b[0;34m,\u001b[0m \u001b[0mvalue\u001b[0m\u001b[0;34m,\u001b[0m \u001b[0mtb\u001b[0m\u001b[0;34m,\u001b[0m \u001b[0mtb_offset\u001b[0m\u001b[0;34m,\u001b[0m \u001b[0mnumber_of_lines_of_context\u001b[0m\u001b[0;34m\u001b[0m\u001b[0;34m\u001b[0m\u001b[0m\n\u001b[0m\u001b[1;32m   1338\u001b[0m             )\n\u001b[1;32m   1339\u001b[0m         \u001b[0;32melif\u001b[0m \u001b[0mmode\u001b[0m \u001b[0;34m==\u001b[0m \u001b[0;34m'Minimal'\u001b[0m\u001b[0;34m:\u001b[0m\u001b[0;34m\u001b[0m\u001b[0;34m\u001b[0m\u001b[0m\n",
      "\u001b[0;32m~/env/neurosci/lib/python3.7/site-packages/IPython/core/ultratb.py\u001b[0m in \u001b[0;36mstructured_traceback\u001b[0;34m(self, etype, evalue, etb, tb_offset, number_of_lines_of_context)\u001b[0m\n\u001b[1;32m   1192\u001b[0m \u001b[0;34m\u001b[0m\u001b[0m\n\u001b[1;32m   1193\u001b[0m         formatted_exception = self.format_exception_as_a_whole(etype, evalue, etb, number_of_lines_of_context,\n\u001b[0;32m-> 1194\u001b[0;31m                                                                tb_offset)\n\u001b[0m\u001b[1;32m   1195\u001b[0m \u001b[0;34m\u001b[0m\u001b[0m\n\u001b[1;32m   1196\u001b[0m         \u001b[0mcolors\u001b[0m \u001b[0;34m=\u001b[0m \u001b[0mself\u001b[0m\u001b[0;34m.\u001b[0m\u001b[0mColors\u001b[0m  \u001b[0;31m# just a shorthand + quicker name lookup\u001b[0m\u001b[0;34m\u001b[0m\u001b[0;34m\u001b[0m\u001b[0m\n",
      "\u001b[0;32m~/env/neurosci/lib/python3.7/site-packages/IPython/core/ultratb.py\u001b[0m in \u001b[0;36mformat_exception_as_a_whole\u001b[0;34m(self, etype, evalue, etb, number_of_lines_of_context, tb_offset)\u001b[0m\n\u001b[1;32m   1149\u001b[0m \u001b[0;34m\u001b[0m\u001b[0m\n\u001b[1;32m   1150\u001b[0m \u001b[0;34m\u001b[0m\u001b[0m\n\u001b[0;32m-> 1151\u001b[0;31m         \u001b[0mlast_unique\u001b[0m\u001b[0;34m,\u001b[0m \u001b[0mrecursion_repeat\u001b[0m \u001b[0;34m=\u001b[0m \u001b[0mfind_recursion\u001b[0m\u001b[0;34m(\u001b[0m\u001b[0morig_etype\u001b[0m\u001b[0;34m,\u001b[0m \u001b[0mevalue\u001b[0m\u001b[0;34m,\u001b[0m \u001b[0mrecords\u001b[0m\u001b[0;34m)\u001b[0m\u001b[0;34m\u001b[0m\u001b[0;34m\u001b[0m\u001b[0m\n\u001b[0m\u001b[1;32m   1152\u001b[0m \u001b[0;34m\u001b[0m\u001b[0m\n\u001b[1;32m   1153\u001b[0m         \u001b[0mframes\u001b[0m \u001b[0;34m=\u001b[0m \u001b[0mself\u001b[0m\u001b[0;34m.\u001b[0m\u001b[0mformat_records\u001b[0m\u001b[0;34m(\u001b[0m\u001b[0mrecords\u001b[0m\u001b[0;34m,\u001b[0m \u001b[0mlast_unique\u001b[0m\u001b[0;34m,\u001b[0m \u001b[0mrecursion_repeat\u001b[0m\u001b[0;34m)\u001b[0m\u001b[0;34m\u001b[0m\u001b[0;34m\u001b[0m\u001b[0m\n",
      "\u001b[0;32m~/env/neurosci/lib/python3.7/site-packages/IPython/core/ultratb.py\u001b[0m in \u001b[0;36mfind_recursion\u001b[0;34m(etype, value, records)\u001b[0m\n\u001b[1;32m    449\u001b[0m     \u001b[0;31m# first frame (from in to out) that looks different.\u001b[0m\u001b[0;34m\u001b[0m\u001b[0;34m\u001b[0m\u001b[0;34m\u001b[0m\u001b[0m\n\u001b[1;32m    450\u001b[0m     \u001b[0;32mif\u001b[0m \u001b[0;32mnot\u001b[0m \u001b[0mis_recursion_error\u001b[0m\u001b[0;34m(\u001b[0m\u001b[0metype\u001b[0m\u001b[0;34m,\u001b[0m \u001b[0mvalue\u001b[0m\u001b[0;34m,\u001b[0m \u001b[0mrecords\u001b[0m\u001b[0;34m)\u001b[0m\u001b[0;34m:\u001b[0m\u001b[0;34m\u001b[0m\u001b[0;34m\u001b[0m\u001b[0m\n\u001b[0;32m--> 451\u001b[0;31m         \u001b[0;32mreturn\u001b[0m \u001b[0mlen\u001b[0m\u001b[0;34m(\u001b[0m\u001b[0mrecords\u001b[0m\u001b[0;34m)\u001b[0m\u001b[0;34m,\u001b[0m \u001b[0;36m0\u001b[0m\u001b[0;34m\u001b[0m\u001b[0;34m\u001b[0m\u001b[0m\n\u001b[0m\u001b[1;32m    452\u001b[0m \u001b[0;34m\u001b[0m\u001b[0m\n\u001b[1;32m    453\u001b[0m     \u001b[0;31m# Select filename, lineno, func_name to track frames with\u001b[0m\u001b[0;34m\u001b[0m\u001b[0;34m\u001b[0m\u001b[0;34m\u001b[0m\u001b[0m\n",
      "\u001b[0;31mTypeError\u001b[0m: object of type 'NoneType' has no len()"
     ]
    }
   ],
   "source": [
    "from tvb_multiscale.core.tvb.simulator_builder import CoSimulatorBuilder\n",
    "from tvb.datatypes.connectivity import Connectivity\n",
    "from tvb.simulator.models.reduced_wong_wang_exc_io import ReducedWongWangExcIO\n",
    "from tvb.simulator.models.reduced_wong_wang_exc_io_inh_i import ReducedWongWangExcIOInhI\n",
    "from tvb.simulator.models.spiking_wong_wang_exc_io_inh_i import SpikingWongWangExcIOInhI\n",
    "\n",
    "# Using the tvb-multdiscale simulator builder with default choices...\n",
    "simulator_builder = CoSimulatorBuilder()\n",
    "# Optionally modify the default configuration:\n",
    "if model == 'SpikingWongWangExcIOInhI':\n",
    "    simulator_builder.model = SpikingWongWangExcIOInhI\n",
    "    populations = [\"E\", \"I\"]\n",
    "    populations_sizes = [16, 4]\n",
    "    model_params = {\n",
    "        \"N_E\": np.array([populations_sizes[0], ]),\n",
    "        \"N_I\": np.array([populations_sizes[1], ]),\n",
    "        \"G\":   np.array([200.0,])  # G / N_E to normalize for the order of the spiking networks\n",
    "    }\n",
    "else:\n",
    "    model_params = {\n",
    "    \"G\":   np.array([20.0,])  # G / N_E to normalize for the order of the spiking networks\n",
    "                    }\n",
    "    if model == 'ReducedWongWangExcIO':\n",
    "        simulator_builder.model = ReducedWongWangExcIO\n",
    "        tvb_rates_svs = [\"R\"]\n",
    "    elif model == 'ReducedWongWangExcIOInhI':\n",
    "        simulator_builder.model = ReducedWongWangExcIOInhI\n",
    "        tvb_rates_svs = [\"R_e\", \"R_i\"]\n",
    "\n",
    "\n",
    "simulator_builder.connectivity = Connectivity.from_file(config.DEFAULT_CONNECTIVITY_ZIP)\n",
    "\n",
    "simulator = simulator_builder.build(**model_params)\n",
    "\n",
    "simulation_length=100.0\n",
    "if isinstance(simulator.model, SpikingWongWangExcIOInhI):\n",
    "    from tvb_multiscale.tvb_elephant.spike_stimulus_builder import SpikeStimulusBuilder\n",
    "\n",
    "    spiking_regions_inds = list(range(simulator.connectivity.number_of_regions))\n",
    "    # Some code only for SpikingWongWangExcIOInhI \n",
    "    from tvb.simulator.integrators import Dop853Stochastic\n",
    "    simulator.integrator = Dop853Stochastic()\n",
    "    simulator.integrator.dt = 0.025\n",
    "    simulator.integrator.noise.nsig = np.array(simulator.model.nvar * [simulator.integrator.noise.nsig[0]])\n",
    "    # No noise for t_ref and derived variables\n",
    "    simulator.integrator.noise.nsig[6:] = 0.0  \n",
    "    time_length = int(np.ceil(simulation_length / simulator.integrator.dt)) + 1\n",
    "    stb = SpikeStimulusBuilder(targets=[\"spikes_ext\"], rate=2400.0, A=None,  # A=None for uncorrelated spikes\n",
    "                               number_of_neurons=20, number_of_regions=len(spiking_regions_inds), \n",
    "                               target_regions=spiking_regions_inds,\n",
    "                               t_start=0.0, dt=simulator.integrator.dt, time_length=time_length, sparse=False)\n",
    "    simulator.spike_stimulus = stb.build_compound_poisson_process()\n",
    "    \n",
    "else:\n",
    "    spiking_regions_inds = []\n",
    "    # No noise for derived R_e, R_i of ReducedWongWangExcIOInhI\n",
    "    simulator.integrator.noise.nsig[2:] = 0.0  \n",
    "\n",
    "plotter.plot_tvb_connectivity(simulator.connectivity)"
   ]
  },
  {
   "cell_type": "markdown",
   "metadata": {},
   "source": [
    "## 2. Configure simulator, simulate, gather results"
   ]
  },
  {
   "cell_type": "code",
   "execution_count": null,
   "metadata": {
    "ExecuteTime": {
     "end_time": "2019-07-12T20:36:18.879872Z",
     "start_time": "2019-07-12T20:36:11.148945Z"
    },
    "run_control": {
     "frozen": false,
     "read_only": false
    }
   },
   "outputs": [],
   "source": [
    "# Configure the simulator interface...\n",
    "simulator.configure()\n",
    "# ...and simulate!\n",
    "t = time.time()\n",
    "results = simulator.run(simulation_length=simulation_length)\n",
    "print(\"\\nSimulated in %f secs!\" % (time.time() - t))"
   ]
  },
  {
   "cell_type": "code",
   "execution_count": null,
   "metadata": {
    "ExecuteTime": {
     "end_time": "2019-07-12T20:36:18.997574Z",
     "start_time": "2019-07-12T20:36:18.885020Z"
    },
    "run_control": {
     "frozen": false,
     "read_only": false
    }
   },
   "outputs": [],
   "source": [
    "# Gather the results\n",
    "t = results[0][0]\n",
    "source = results[0][1]\n",
    "\n",
    "# Put the results in a Timeseries instance\n",
    "from tvb.contrib.scripts.datatypes.time_series_xarray import TimeSeriesRegion\n",
    "\n",
    "source_ts = TimeSeriesRegion(source, time=t,\n",
    "               connectivity=simulator.connectivity,\n",
    "               labels_ordering=[\"Time\", \"State Variable\", \"Region\", \"Neurons\"],\n",
    "               labels_dimensions=\n",
    "                    {\"State Variable\": simulator.model.state_variables,\n",
    "                     \"Region\": simulator.connectivity.region_labels.tolist()},\n",
    "               sample_period=simulator.integrator.dt)\n",
    "source_ts.configure()\n",
    "\n",
    "writer.write_tvb_to_h5(source_ts, os.path.join(config.out.FOLDER_RES, source_ts.title.replace(\" \", \"_\") + \".h5\"))\n",
    "\n",
    "source_ts \n"
   ]
  },
  {
   "cell_type": "code",
   "execution_count": null,
   "metadata": {},
   "outputs": [],
   "source": [
    "# Separate mean field time series into different populations\n",
    "from pandas import Series\n",
    "\n",
    "if len(spiking_regions_inds) > 0:\n",
    "    from tvb_multiscale.core.utils.computations_utils import compute_tvb_spike_rate_corrs, \\\n",
    "        tvb_spikes_per_population, tvb_spike_rates_from_TVB_spike_ts, tvb_mean_field_per_population\n",
    "\n",
    "    mean_field = tvb_mean_field_per_population(source_ts, populations, populations_sizes)\n",
    "\n",
    "    tvb_spikes = tvb_spikes_per_population(source_ts.get_state_variables(\n",
    "                                               \"spikes\").get_subspace_by_index(spiking_regions_inds), \n",
    "                                           populations, populations_sizes)\n",
    "\n",
    "    T = np.maximum(np.minimum(100.0, 1000*simulation_length/10), 10.0)\n",
    "    std = T/3\n",
    "    tvb_rates = \\\n",
    "            tvb_spike_rates_from_TVB_spike_ts(tvb_spikes, simulator.integrator.dt, populations_sizes,\n",
    "                                              sampling_period=simulator.monitors[0].period, window_time_length=T,\n",
    "                                              kernel=\"gaussian\", std=std)\n",
    "    tvb_rates.title = \"Region mean field spike rate time series\"\n",
    "\n",
    "    if writer is not None:\n",
    "        writer.write_object(tvb_spikes.to_dict(), path=os.path.join(config.out.FOLDER_RES, \"TVB_Spikes\") + \".h5\")\n",
    "\n",
    "else:\n",
    "    from tvb_multiscale.core.utils.computations_utils import compute_tvb_spike_rate_corrs\n",
    "    mean_field = source_ts\n",
    "    tvb_rates = source_ts[:, tvb_rates_svs]\n",
    "    tvb_rates.title = \"Region mean field rate time series\"\n",
    "    tvb_spikes_gen = None\n",
    "    \n",
    "tvb_corrs = compute_tvb_spike_rate_corrs(tvb_rates)\n",
    "if writer is not None:\n",
    "    writer.write_tvb_to_h5(tvb_rates, os.path.join(config.out.FOLDER_RES, tvb_rates.title.replace(\" \", \"_\")) + \".h5\",\n",
    "                           recursive=False)\n",
    "writer.write_object(tvb_corrs, path=os.path.join(config.out.FOLDER_RES, \"TVB_corrs\") + \".h5\")\n"
   ]
  },
  {
   "cell_type": "code",
   "execution_count": null,
   "metadata": {
    "scrolled": true
   },
   "outputs": [],
   "source": [
    "# For raster plot:\n",
    "mean_field.plot_timeseries(plotter_config=plotter.config, per_variable=True, \n",
    "                           figsize=config.figures.NOTEBOOK_SIZE, add_legend=False)\n",
    "if mean_field.number_of_labels > 9:\n",
    "    mean_field.plot_raster(plotter_config=plotter.config, per_variable=True, \n",
    "                           figsize=config.figures.NOTEBOOK_SIZE, add_legend=False)"
   ]
  },
  {
   "cell_type": "markdown",
   "metadata": {},
   "source": [
    "### Interactive time series plot"
   ]
  },
  {
   "cell_type": "code",
   "execution_count": null,
   "metadata": {},
   "outputs": [],
   "source": [
    "# # ...interactively as well\n",
    "# # For interactive plotting:\n",
    "# %matplotlib notebook \n",
    "# plotter.plot_timeseries_interactive(source_ts)"
   ]
  },
  {
   "cell_type": "code",
   "execution_count": null,
   "metadata": {
    "scrolled": true
   },
   "outputs": [],
   "source": [
    "%matplotlib inline "
   ]
  },
  {
   "cell_type": "markdown",
   "metadata": {},
   "source": [
    "### Plot spikes' raster and mean spike rate for spiking regions"
   ]
  },
  {
   "cell_type": "code",
   "execution_count": null,
   "metadata": {},
   "outputs": [],
   "source": [
    "# Plot spikes and mean field spike rates\n",
    "if tvb_spikes is not None:\n",
    "    plotter.plot_spikes(tvb_spikes, rates=tvb_rates, title='Population spikes and mean spike rate')"
   ]
  },
  {
   "cell_type": "markdown",
   "metadata": {},
   "source": [
    "### Plotting spiking network activity using xarray"
   ]
  },
  {
   "cell_type": "code",
   "execution_count": null,
   "metadata": {
    "scrolled": true
   },
   "outputs": [],
   "source": [
    "if len(spiking_regions_inds) > 0:\n",
    "    from tvb.contrib.scripts.datatypes.time_series_xarray import TimeSeries\n",
    "\n",
    "    if len(spiking_regions_inds) < simulator.connectivity.number_of_regions:\n",
    "        mean_field_sp = mean_field.get_subspace(spiking_regions_inds)\n",
    "        mean_field_sp.name = \"Spiking regions mean field time series\"\n",
    "        print(mean_field_sp)\n",
    "        mean_field_sp.plot_timeseries(plotter_config=plotter.config, per_variable=True, figsize=(10, 5))\n",
    "        \n",
    "    tvb_rates.plot_timeseries(plotter_config=plotter.config, figsize=(10, 5))\n",
    "    \n",
    "    for i_pop, spike in enumerate(tvb_spikes):\n",
    "        spike.plot(y=spike._data.dims[3], row=spike._data.dims[2],\n",
    "                   robust=True, figsize=(20, 10), plotter_config=plotter.config)"
   ]
  },
  {
   "cell_type": "markdown",
   "metadata": {
    "run_control": {
     "frozen": false,
     "read_only": false
    }
   },
   "source": [
    "# References\n",
    "\n",
    "1 Paula Sanz Leon, Stuart A. Knock, M. Marmaduke Woodman, Lia Domide, <br>\n",
    "  Jochen Mersmann, Anthony R. McIntosh, Viktor Jirsa (2013) <br>\n",
    "  The Virtual Brain: a simulator of primate brain network dynamics. <br>\n",
    "  Frontiers in Neuroinformatics (7:10. doi: 10.3389/fninf.2013.00010) <br>\n",
    "  https://www.thevirtualbrain.org/tvb/zwei <br>\n",
    "  https://github.com/the-virtual-brain <br>\n",
    "\n",
    "2 Ritter P, Schirner M, McIntosh AR, Jirsa VK. 2013.  <br>\n",
    "  The Virtual Brain integrates computational modeling  <br>\n",
    "  and multimodal neuroimaging. Brain Connectivity 3:121–145. <br>\n",
    "   \n",
    "3 Deco Gustavo, Ponce-Alvarez Adrian, Patric Hagmann, <br>\n",
    "  Gian Luca Romani, Dante Mantini,and Maurizio Corbetta. <br>\n",
    "  How local Excitation-Inhibition Ratio Impacts the Whole Brain Dynamics <br>\n",
    "  The Journal of Neuroscience 34(23), 7886-7898, 2014.<br>\n",
    "  \n",
    "4 Deco Gustavo, Ponce-Alvarez Adrian, Dante Mantini,<br>\n",
    "  Gian Luca Romani, Patric Hagmann, and Maurizio Corbetta. <br>\n",
    "  How local Excitation-Inhibition Ratio Impacts the Whole Brain Dynamics <br>\n",
    "  The Journal of Neuroscience 33(27), 11239-11252, 2013.<br>\n",
    "\n",
    "5 Jordan, Jakob; Mørk, Håkon; Vennemo, Stine Brekke;   Terhorst, Dennis; Peyser, <br>\n",
    "  Alexander; Ippen, Tammo; Deepu, Rajalekshmi;   Eppler, Jochen Martin; <br>\n",
    "  van Meegen, Alexander;   Kunkel, Susanne; Sinha, Ankur; Fardet, Tanguy; Diaz, <br>\n",
    "  Sandra; Morrison, Abigail; Schenck, Wolfram; Dahmen, David;   Pronold, Jari; <br>\n",
    "  Stapmanns, Jonas;   Trensch, Guido; Spreizer, Sebastian;   Mitchell, Jessica; <br>\n",
    "  Graber, Steffen; Senk, Johanna; Linssen, Charl; Hahne, Jan; Serenko, Alexey; <br>\n",
    "  Naoumenko, Daniel; Thomson, Eric;   Kitayama, Itaru; Berns, Sebastian;   <br>\n",
    "  Plesser, Hans Ekkehard <br>\n",
    "  NEST is a simulator for spiking neural network models that focuses <br>\n",
    "  on the dynamics, size and structure of neural systems rather than on <br>\n",
    "  the exact morphology of individual neurons. <br>\n",
    "  For further information, visit http://www.nest-simulator.org. <br>\n",
    "  The release notes for this release are available at  <br>\n",
    "  https://github.com/nest/nest-simulator/releases/tag/v2.18.0 <br>"
   ]
  },
  {
   "cell_type": "code",
   "execution_count": null,
   "metadata": {},
   "outputs": [],
   "source": []
  }
 ],
 "metadata": {
  "kernelspec": {
   "display_name": "Python 3",
   "language": "python",
   "name": "python3"
  },
  "language_info": {
   "codemirror_mode": {
    "name": "ipython",
    "version": 3
   },
   "file_extension": ".py",
   "mimetype": "text/x-python",
   "name": "python",
   "nbconvert_exporter": "python",
   "pygments_lexer": "ipython3",
   "version": "3.7.3"
  },
  "latex_envs": {
   "bibliofile": "biblio.bib",
   "cite_by": "apalike",
   "current_citInitial": 1,
   "eqLabelWithNumbers": true,
   "eqNumInitial": 0
  },
  "nav_menu": {},
  "toc": {
   "navigate_menu": true,
   "number_sections": true,
   "sideBar": true,
   "threshold": 6,
   "toc_cell": false,
   "toc_section_display": "block",
   "toc_window_display": false
  }
 },
 "nbformat": 4,
 "nbformat_minor": 2
}
