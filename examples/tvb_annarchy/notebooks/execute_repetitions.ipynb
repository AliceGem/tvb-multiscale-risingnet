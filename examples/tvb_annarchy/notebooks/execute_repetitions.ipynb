{
 "cells": [
  {
   "cell_type": "code",
   "execution_count": 1,
   "id": "friendly-butterfly",
   "metadata": {
    "scrolled": true
   },
   "outputs": [
    {
     "name": "stdout",
     "output_type": "stream",
     "text": [
      "[NbConvertApp] Converting notebook example_Izhikevich-TVB-corr-cortex-opt.ipynb to script\n",
      "[NbConvertApp] Executing notebook with kernel: python3\n",
      "[NbConvertApp] Writing 67636 bytes to example_Izhikevich-TVB-corr-cortex-opt.py\n",
      "Traceback (most recent call last):\n",
      "  File \"example_Izhikevich-TVB-corr-cortex-opt.py\", line 41, in <module>\n",
      "    import numpy as np\n",
      "ImportError: No module named numpy\n",
      "1506.5821993350983\n"
     ]
    }
   ],
   "source": [
    "import time\n",
    "tic = time.time()\n",
    "! /home/docker/env/neurosci/bin/jupyter nbconvert --to script --execute example_Izhikevich-TVB-corr-cortex-opt.ipynb && python example_Izhikevich-TVB-corr-cortex-opt.py\n",
    "print(time.time() - tic)"
   ]
  },
  {
   "cell_type": "code",
   "execution_count": 2,
   "id": "hazardous-night",
   "metadata": {},
   "outputs": [
    {
     "name": "stdout",
     "output_type": "stream",
     "text": [
      "[NbConvertApp] Converting notebook example_Izhikevich-TVB-corr-cortex-opt.ipynb to script\n",
      "[NbConvertApp] Executing notebook with kernel: python3\n",
      "[NbConvertApp] Writing 67636 bytes to example_Izhikevich-TVB-corr-cortex-opt.py\n",
      "Traceback (most recent call last):\n",
      "  File \"example_Izhikevich-TVB-corr-cortex-opt.py\", line 41, in <module>\n",
      "    import numpy as np\n",
      "ImportError: No module named numpy\n",
      "1327.4970161914825\n"
     ]
    }
   ],
   "source": [
    "tic = time.time()\n",
    "! /home/docker/env/neurosci/bin/jupyter nbconvert --to script --execute example_Izhikevich-TVB-corr-cortex-opt.ipynb && python example_Izhikevich-TVB-corr-cortex-opt.py\n",
    "print(time.time() - tic)"
   ]
  },
  {
   "cell_type": "code",
   "execution_count": 3,
   "id": "genetic-reunion",
   "metadata": {},
   "outputs": [
    {
     "name": "stdout",
     "output_type": "stream",
     "text": [
      "[NbConvertApp] Converting notebook example_Izhikevich-TVB-corr-cortex-opt.ipynb to script\n",
      "[NbConvertApp] Executing notebook with kernel: python3\n",
      "[NbConvertApp] Writing 67636 bytes to example_Izhikevich-TVB-corr-cortex-opt.py\n",
      "Traceback (most recent call last):\n",
      "  File \"example_Izhikevich-TVB-corr-cortex-opt.py\", line 41, in <module>\n",
      "    import numpy as np\n",
      "ImportError: No module named numpy\n",
      "1322.358785867691\n"
     ]
    }
   ],
   "source": [
    "tic = time.time()\n",
    "! /home/docker/env/neurosci/bin/jupyter nbconvert --to script --execute example_Izhikevich-TVB-corr-cortex-opt.ipynb && python example_Izhikevich-TVB-corr-cortex-opt.py\n",
    "print(time.time() - tic)"
   ]
  },
  {
   "cell_type": "code",
   "execution_count": 4,
   "id": "previous-london",
   "metadata": {},
   "outputs": [
    {
     "name": "stdout",
     "output_type": "stream",
     "text": [
      "[NbConvertApp] Converting notebook example_Izhikevich-TVB-corr-cortex-opt.ipynb to script\n",
      "[NbConvertApp] Executing notebook with kernel: python3\n",
      "[NbConvertApp] Writing 67636 bytes to example_Izhikevich-TVB-corr-cortex-opt.py\n",
      "Traceback (most recent call last):\n",
      "  File \"example_Izhikevich-TVB-corr-cortex-opt.py\", line 41, in <module>\n",
      "    import numpy as np\n",
      "ImportError: No module named numpy\n",
      "1318.4361085891724\n"
     ]
    }
   ],
   "source": [
    "tic = time.time()\n",
    "! /home/docker/env/neurosci/bin/jupyter nbconvert --to script --execute example_Izhikevich-TVB-corr-cortex-opt.ipynb && python example_Izhikevich-TVB-corr-cortex-opt.py\n",
    "print(time.time() - tic)"
   ]
  },
  {
   "cell_type": "code",
   "execution_count": 5,
   "id": "hearing-fundamentals",
   "metadata": {},
   "outputs": [
    {
     "name": "stdout",
     "output_type": "stream",
     "text": [
      "[NbConvertApp] Converting notebook example_Izhikevich-TVB-corr-cortex-opt.ipynb to script\n",
      "[NbConvertApp] Executing notebook with kernel: python3\n",
      "[NbConvertApp] Writing 67636 bytes to example_Izhikevich-TVB-corr-cortex-opt.py\n",
      "Traceback (most recent call last):\n",
      "  File \"example_Izhikevich-TVB-corr-cortex-opt.py\", line 41, in <module>\n",
      "    import numpy as np\n",
      "ImportError: No module named numpy\n",
      "1391.3884897232056\n"
     ]
    }
   ],
   "source": [
    "tic = time.time()\n",
    "! /home/docker/env/neurosci/bin/jupyter nbconvert --to script --execute example_Izhikevich-TVB-corr-cortex-opt.ipynb && python example_Izhikevich-TVB-corr-cortex-opt.py\n",
    "print(time.time() - tic)"
   ]
  },
  {
   "cell_type": "code",
   "execution_count": 6,
   "id": "every-stack",
   "metadata": {},
   "outputs": [
    {
     "name": "stdout",
     "output_type": "stream",
     "text": [
      "[NbConvertApp] Converting notebook example_Izhikevich-TVB-corr-cortex-opt.ipynb to script\n",
      "[NbConvertApp] Executing notebook with kernel: python3\n",
      "[NbConvertApp] Writing 67636 bytes to example_Izhikevich-TVB-corr-cortex-opt.py\n",
      "Traceback (most recent call last):\n",
      "  File \"example_Izhikevich-TVB-corr-cortex-opt.py\", line 41, in <module>\n",
      "    import numpy as np\n",
      "ImportError: No module named numpy\n",
      "1523.0393669605255\n"
     ]
    }
   ],
   "source": [
    "tic = time.time()\n",
    "! /home/docker/env/neurosci/bin/jupyter nbconvert --to script --execute example_Izhikevich-TVB-corr-cortex-opt.ipynb && python example_Izhikevich-TVB-corr-cortex-opt.py\n",
    "print(time.time() - tic)"
   ]
  },
  {
   "cell_type": "code",
   "execution_count": 7,
   "id": "narrow-surprise",
   "metadata": {},
   "outputs": [
    {
     "name": "stdout",
     "output_type": "stream",
     "text": [
      "[NbConvertApp] Converting notebook example_Izhikevich-TVB-corr-cortex-opt.ipynb to script\n",
      "[NbConvertApp] Executing notebook with kernel: python3\n",
      "[NbConvertApp] Writing 67636 bytes to example_Izhikevich-TVB-corr-cortex-opt.py\n",
      "Traceback (most recent call last):\n",
      "  File \"example_Izhikevich-TVB-corr-cortex-opt.py\", line 41, in <module>\n",
      "    import numpy as np\n",
      "ImportError: No module named numpy\n",
      "1538.3135075569153\n"
     ]
    }
   ],
   "source": [
    "tic = time.time()\n",
    "! /home/docker/env/neurosci/bin/jupyter nbconvert --to script --execute example_Izhikevich-TVB-corr-cortex-opt.ipynb && python example_Izhikevich-TVB-corr-cortex-opt.py\n",
    "print(time.time() - tic)"
   ]
  },
  {
   "cell_type": "code",
   "execution_count": 8,
   "id": "athletic-number",
   "metadata": {},
   "outputs": [
    {
     "name": "stdout",
     "output_type": "stream",
     "text": [
      "[NbConvertApp] Converting notebook example_Izhikevich-TVB-corr-cortex-opt.ipynb to script\n",
      "[NbConvertApp] Executing notebook with kernel: python3\n",
      "[NbConvertApp] Writing 67636 bytes to example_Izhikevich-TVB-corr-cortex-opt.py\n",
      "Traceback (most recent call last):\n",
      "  File \"example_Izhikevich-TVB-corr-cortex-opt.py\", line 41, in <module>\n",
      "    import numpy as np\n",
      "ImportError: No module named numpy\n",
      "1404.6429152488708\n"
     ]
    }
   ],
   "source": [
    "tic = time.time()\n",
    "! /home/docker/env/neurosci/bin/jupyter nbconvert --to script --execute example_Izhikevich-TVB-corr-cortex-opt.ipynb && python example_Izhikevich-TVB-corr-cortex-opt.py\n",
    "print(time.time() - tic)"
   ]
  },
  {
   "cell_type": "code",
   "execution_count": 9,
   "id": "horizontal-party",
   "metadata": {},
   "outputs": [
    {
     "name": "stdout",
     "output_type": "stream",
     "text": [
      "[NbConvertApp] Converting notebook example_Izhikevich-TVB-corr-cortex-opt.ipynb to script\n",
      "[NbConvertApp] Executing notebook with kernel: python3\n",
      "[NbConvertApp] Writing 67636 bytes to example_Izhikevich-TVB-corr-cortex-opt.py\n",
      "Traceback (most recent call last):\n",
      "  File \"example_Izhikevich-TVB-corr-cortex-opt.py\", line 41, in <module>\n",
      "    import numpy as np\n",
      "ImportError: No module named numpy\n",
      "1573.8652510643005\n"
     ]
    }
   ],
   "source": [
    "tic = time.time()\n",
    "! /home/docker/env/neurosci/bin/jupyter nbconvert --to script --execute example_Izhikevich-TVB-corr-cortex-opt.ipynb && python example_Izhikevich-TVB-corr-cortex-opt.py\n",
    "print(time.time() - tic)"
   ]
  },
  {
   "cell_type": "code",
   "execution_count": 10,
   "id": "statistical-standard",
   "metadata": {},
   "outputs": [
    {
     "name": "stdout",
     "output_type": "stream",
     "text": [
      "[NbConvertApp] Converting notebook example_Izhikevich-TVB-corr-cortex-opt.ipynb to script\n",
      "[NbConvertApp] Executing notebook with kernel: python3\n",
      "[NbConvertApp] Writing 67636 bytes to example_Izhikevich-TVB-corr-cortex-opt.py\n",
      "Traceback (most recent call last):\n",
      "  File \"example_Izhikevich-TVB-corr-cortex-opt.py\", line 41, in <module>\n",
      "    import numpy as np\n",
      "ImportError: No module named numpy\n",
      "1441.798237323761\n"
     ]
    }
   ],
   "source": [
    "tic = time.time()\n",
    "! /home/docker/env/neurosci/bin/jupyter nbconvert --to script --execute example_Izhikevich-TVB-corr-cortex-opt.ipynb && python example_Izhikevich-TVB-corr-cortex-opt.py\n",
    "print(time.time() - tic)"
   ]
  },
  {
   "cell_type": "code",
   "execution_count": 11,
   "id": "circular-prevention",
   "metadata": {},
   "outputs": [
    {
     "name": "stdout",
     "output_type": "stream",
     "text": [
      "mean_rates\n",
      "E    - STN_Left     : 30.4214 (0.0953792)\n",
      "E    - Thal_Left    : 19.3008 (0.525516)\n",
      "I    - GPe_Left     : 35.4064 (0.223436)\n",
      "I    - GPi_Left     : 30.525 (0.109756)\n",
      "IdSN - Striatum_Left: 23.4084 (0.292619)\n",
      "IiSN - Striatum_Left: 11.014 (0.202418)\n",
      "-----------------------------------------------\n",
      "spikes_sync\n",
      "E    - STN_Left     : 0.838176 (0.00339391)\n",
      "E    - Thal_Left    : 0.796358 (0.00863853)\n",
      "I    - GPe_Left     : 0.919505 (0.00463627)\n",
      "I    - GPi_Left     : 0.788246 (0.0022895)\n",
      "IdSN - Striatum_Left: 0.772798 (0.00447562)\n",
      "IiSN - Striatum_Left: 0.683673 (0.00576164)\n"
     ]
    },
    {
     "name": "stderr",
     "output_type": "stream",
     "text": [
      "/home/docker/env/neurosci/lib/python3.7/site-packages/ipykernel_launcher.py:14: RuntimeWarning: Mean of empty slice\n",
      "  \n",
      "/home/docker/env/neurosci/lib/python3.7/site-packages/ipykernel_launcher.py:15: RuntimeWarning: Mean of empty slice\n",
      "  from ipykernel import kernelapp as app\n",
      "/home/docker/env/neurosci/lib/python3.7/site-packages/numpy/lib/nanfunctions.py:1665: RuntimeWarning: Degrees of freedom <= 0 for slice.\n",
      "  keepdims=keepdims)\n"
     ]
    }
   ],
   "source": [
    "import os\n",
    "import numpy as np\n",
    "from scipy.io import loadmat\n",
    "mean_rates = []\n",
    "spikes_sync = []\n",
    "basefolder = \"/home/docker/packages/tvb-multiscale/examples/tvb_annarchy/notebooks/outputs/outputs_Izhikevich_annarchy/TVBcortex/patient/stim_GPi_simple\"\n",
    "for ii in range(10):\n",
    "    folder = os.path.join(basefolder, \"SimRep_%02d\" % ii, \"res\")\n",
    "    mean_rates.append(loadmat(os.path.join(folder, \"spikes_mean_rates.mat\"))[\"data\"])\n",
    "    spikes_sync.append(loadmat(os.path.join(folder, \"spikes_sync.mat\"))[\"data\"])\n",
    "coords = loadmat(os.path.join(folder, \"spikes_sync.mat\"))[\"coords\"]\n",
    "mean_rates = np.array(mean_rates)\n",
    "spikes_sync = np.array(spikes_sync)\n",
    "mean_rates_mean = np.nanmean(mean_rates, axis=0)\n",
    "spikes_sync_mean = np.nanmean(spikes_sync, axis=0)\n",
    "mean_rates_std = np.nanstd(mean_rates, axis=0)\n",
    "spikes_sync_std = np.nanstd(spikes_sync, axis=0)\n",
    "print(\"mean_rates\")\n",
    "for i_pop, pop in enumerate(coords[\"Population\"][0].item()[\"data\"].item().tolist()):\n",
    "    for i_reg, reg in enumerate(coords[\"Region\"][0].item()[\"data\"].item().tolist()):\n",
    "        if not np.isnan(mean_rates_mean[i_pop, i_reg]): \n",
    "            print(\"%s - %s: %g (%g)\" % (pop, reg, mean_rates_mean[i_pop, i_reg], mean_rates_std[i_pop, i_reg]))\n",
    "\n",
    "print(\"-----------------------------------------------\")\n",
    "print(\"spikes_sync\")\n",
    "for i_pop, pop in enumerate(coords[\"Population\"][0].item()[\"data\"].item().tolist()):\n",
    "    for i_reg, reg in enumerate(coords[\"Region\"][0].item()[\"data\"].item().tolist()):\n",
    "        if not np.isnan(spikes_sync_mean[i_pop, i_reg]):\n",
    "            print(\"%s - %s: %g (%g)\" % (pop, reg, spikes_sync_mean[i_pop, i_reg], spikes_sync_std[i_pop, i_reg]))\n",
    "            \n",
    "    \n",
    "    "
   ]
  },
  {
   "cell_type": "code",
   "execution_count": null,
   "id": "worth-stream",
   "metadata": {},
   "outputs": [],
   "source": []
  }
 ],
 "metadata": {
  "kernelspec": {
   "display_name": "Python 3",
   "language": "python",
   "name": "python3"
  },
  "language_info": {
   "codemirror_mode": {
    "name": "ipython",
    "version": 3
   },
   "file_extension": ".py",
   "mimetype": "text/x-python",
   "name": "python",
   "nbconvert_exporter": "python",
   "pygments_lexer": "ipython3",
   "version": "3.7.3"
  }
 },
 "nbformat": 4,
 "nbformat_minor": 5
}
