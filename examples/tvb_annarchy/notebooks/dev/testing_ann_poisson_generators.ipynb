{
 "cells": [
  {
   "cell_type": "code",
   "execution_count": 1,
   "id": "virtual-equivalent",
   "metadata": {},
   "outputs": [
    {
     "name": "stdout",
     "output_type": "stream",
     "text": [
      "ANNarchy 4.6 (4.6.9.9) on linux (posix). \n"
     ]
    }
   ],
   "source": [
    "import numpy as np\n",
    "import ANNarchy as ann\n",
    "from matplotlib.pyplot import plot\n",
    "ann.setup(dt=0.05)"
   ]
  },
  {
   "cell_type": "code",
   "execution_count": 6,
   "id": "pacific-terrorist",
   "metadata": {},
   "outputs": [
    {
     "data": {
      "text/plain": [
       "<ANNarchy.core.Projection.Projection at 0x7feb738a5b38>"
      ]
     },
     "execution_count": 6,
     "metadata": {},
     "output_type": "execute_result"
    }
   ],
   "source": [
    "# p = ann.PoissonPopulation(600, rates=13.0)\n",
    "# pr = ann.PoissonPopulation(600, rates=13.0, refractory=1.0)\n",
    "ta = ann.TimedArray(np.array([[100.0], [200.0]]), schedule=[100.0, 500.0])\n",
    "c = ann.HomogeneousCorrelatedSpikeTrains(600, rates=13.0, corr=0.3, tau=10.0)\n",
    "# cr = ann.HomogeneousCorrelatedSpikeTrains(600, rates=13.0, corr=0.1, tau=10.0, refractory=1.0)\n",
    "pr = ann.Projection(pre=ta, post=c, target=\"exc\")\n",
    "pr.connect_all_to_all(1.0)"
   ]
  },
  {
   "cell_type": "code",
   "execution_count": 7,
   "id": "damaged-vessel",
   "metadata": {},
   "outputs": [],
   "source": [
    "# mp = ann.Monitor(p, [\"spike\"])\n",
    "# mpr = ann.Monitor(pr, [\"spike\"])\n",
    "mc = ann.Monitor(c, [\"spike\"])\n",
    "# mcr = ann.Monitor(cr, [\"spike\"])"
   ]
  },
  {
   "cell_type": "code",
   "execution_count": 8,
   "id": "exclusive-album",
   "metadata": {},
   "outputs": [
    {
     "name": "stdout",
     "output_type": "stream",
     "text": [
      "WARNING: Can not find python-config in the same directory as python, trying with the default path... \n",
      "Compiling... \n",
      "In file included from ANNarchy.h:71,\n",
      "                 from ANNarchy.cpp:2:\n",
      "proj0.hpp: In member function ‘void ProjStruct0::compute_psp()’:\n",
      "proj0.hpp:92:22: error: ‘struct PopStruct3’ has no member named ‘_sum_exc’; did you mean ‘g_exc’?\n",
      "                 pop3._sum_exc[post_rank[i]] += sum;\n",
      "                      ^~~~~~~~\n",
      "                      g_exc\n",
      "In file included from /usr/include/python3.7m/numpy/ndarraytypes.h:1822,\n",
      "                 from /usr/include/python3.7m/numpy/ndarrayobject.h:12,\n",
      "                 from /usr/include/python3.7m/numpy/arrayobject.h:4,\n",
      "                 from ANNarchyCore0.cpp:634:\n",
      "/usr/include/python3.7m/numpy/npy_1_7_deprecated_api.h:17:2: warning: #warning \"Using deprecated NumPy API, disable it with \" \"#define NPY_NO_DEPRECATED_API NPY_1_7_API_VERSION\" [-Wcpp]\n",
      " #warning \"Using deprecated NumPy API, disable it with \" \\\n",
      "  ^~~~~~~\n",
      "In file included from ANNarchy.h:71,\n",
      "                 from ANNarchyCore0.cpp:637:\n",
      "proj0.hpp: In member function ‘void ProjStruct0::compute_psp()’:\n",
      "proj0.hpp:92:22: error: ‘struct PopStruct3’ has no member named ‘_sum_exc’; did you mean ‘g_exc’?\n",
      "                 pop3._sum_exc[post_rank[i]] += sum;\n",
      "                      ^~~~~~~~\n",
      "                      g_exc\n",
      "make: *** [Makefile:4: all] Error 1\n",
      " \n"
     ]
    },
    {
     "ename": "ANNarchyException",
     "evalue": "Compilation failed. ",
     "output_type": "error",
     "traceback": [
      "\u001b[0;31m---------------------------------------------------------------------------\u001b[0m",
      "\u001b[0;31mANNarchyException\u001b[0m                         Traceback (most recent call last)",
      "\u001b[0;32m<ipython-input-8-7fb59389a701>\u001b[0m in \u001b[0;36m<module>\u001b[0;34m\u001b[0m\n\u001b[0;32m----> 1\u001b[0;31m \u001b[0mann\u001b[0m\u001b[0;34m.\u001b[0m\u001b[0mcompile\u001b[0m\u001b[0;34m(\u001b[0m\u001b[0;34m)\u001b[0m\u001b[0;34m\u001b[0m\u001b[0;34m\u001b[0m\u001b[0m\n\u001b[0m",
      "\u001b[0;32m~/.local/lib/python3.7/site-packages/ANNarchy-4.6.9.9-py3.7-linux-x86_64.egg/ANNarchy/generator/Compiler.py\u001b[0m in \u001b[0;36mcompile\u001b[0;34m(directory, clean, populations, projections, compiler, compiler_flags, cuda_config, annarchy_json, silent, debug_build, profile_enabled, net_id)\u001b[0m\n\u001b[1;32m    274\u001b[0m \u001b[0;34m\u001b[0m\u001b[0m\n\u001b[1;32m    275\u001b[0m     \u001b[0;31m# Code Generation\u001b[0m\u001b[0;34m\u001b[0m\u001b[0;34m\u001b[0m\u001b[0;34m\u001b[0m\u001b[0m\n\u001b[0;32m--> 276\u001b[0;31m     \u001b[0mcompiler\u001b[0m\u001b[0;34m.\u001b[0m\u001b[0mgenerate\u001b[0m\u001b[0;34m(\u001b[0m\u001b[0;34m)\u001b[0m\u001b[0;34m\u001b[0m\u001b[0;34m\u001b[0m\u001b[0m\n\u001b[0m\u001b[1;32m    277\u001b[0m \u001b[0;34m\u001b[0m\u001b[0m\n\u001b[1;32m    278\u001b[0m     \u001b[0;31m# Create the Python objects\u001b[0m\u001b[0;34m\u001b[0m\u001b[0;34m\u001b[0m\u001b[0;34m\u001b[0m\u001b[0m\n",
      "\u001b[0;32m~/.local/lib/python3.7/site-packages/ANNarchy-4.6.9.9-py3.7-linux-x86_64.egg/ANNarchy/generator/Compiler.py\u001b[0m in \u001b[0;36mgenerate\u001b[0;34m(self)\u001b[0m\n\u001b[1;32m    402\u001b[0m         \u001b[0;31m# Perform compilation if something has changed\u001b[0m\u001b[0;34m\u001b[0m\u001b[0;34m\u001b[0m\u001b[0;34m\u001b[0m\u001b[0m\n\u001b[1;32m    403\u001b[0m         \u001b[0;32mif\u001b[0m \u001b[0mchanged\u001b[0m \u001b[0;32mor\u001b[0m \u001b[0;32mnot\u001b[0m \u001b[0mos\u001b[0m\u001b[0;34m.\u001b[0m\u001b[0mpath\u001b[0m\u001b[0;34m.\u001b[0m\u001b[0misfile\u001b[0m\u001b[0;34m(\u001b[0m\u001b[0mself\u001b[0m\u001b[0;34m.\u001b[0m\u001b[0mannarchy_dir\u001b[0m \u001b[0;34m+\u001b[0m \u001b[0;34m'/ANNarchyCore'\u001b[0m \u001b[0;34m+\u001b[0m \u001b[0mstr\u001b[0m\u001b[0;34m(\u001b[0m\u001b[0mself\u001b[0m\u001b[0;34m.\u001b[0m\u001b[0mnet_id\u001b[0m\u001b[0;34m)\u001b[0m \u001b[0;34m+\u001b[0m \u001b[0;34m'.so'\u001b[0m\u001b[0;34m)\u001b[0m\u001b[0;34m:\u001b[0m\u001b[0;34m\u001b[0m\u001b[0;34m\u001b[0m\u001b[0m\n\u001b[0;32m--> 404\u001b[0;31m             \u001b[0mself\u001b[0m\u001b[0;34m.\u001b[0m\u001b[0mcompilation\u001b[0m\u001b[0;34m(\u001b[0m\u001b[0;34m)\u001b[0m\u001b[0;34m\u001b[0m\u001b[0;34m\u001b[0m\u001b[0m\n\u001b[0m\u001b[1;32m    405\u001b[0m \u001b[0;34m\u001b[0m\u001b[0m\n\u001b[1;32m    406\u001b[0m         \u001b[0mGlobal\u001b[0m\u001b[0;34m.\u001b[0m\u001b[0m_network\u001b[0m\u001b[0;34m[\u001b[0m\u001b[0mself\u001b[0m\u001b[0;34m.\u001b[0m\u001b[0mnet_id\u001b[0m\u001b[0;34m]\u001b[0m\u001b[0;34m[\u001b[0m\u001b[0;34m'compiled'\u001b[0m\u001b[0;34m]\u001b[0m \u001b[0;34m=\u001b[0m \u001b[0;32mTrue\u001b[0m\u001b[0;34m\u001b[0m\u001b[0;34m\u001b[0m\u001b[0m\n",
      "\u001b[0;32m~/.local/lib/python3.7/site-packages/ANNarchy-4.6.9.9-py3.7-linux-x86_64.egg/ANNarchy/generator/Compiler.py\u001b[0m in \u001b[0;36mcompilation\u001b[0;34m(self)\u001b[0m\n\u001b[1;32m    494\u001b[0m             \u001b[0;32mexcept\u001b[0m\u001b[0;34m:\u001b[0m\u001b[0;34m\u001b[0m\u001b[0;34m\u001b[0m\u001b[0m\n\u001b[1;32m    495\u001b[0m                 \u001b[0;32mpass\u001b[0m\u001b[0;34m\u001b[0m\u001b[0;34m\u001b[0m\u001b[0m\n\u001b[0;32m--> 496\u001b[0;31m             \u001b[0mGlobal\u001b[0m\u001b[0;34m.\u001b[0m\u001b[0m_error\u001b[0m\u001b[0;34m(\u001b[0m\u001b[0;34m'Compilation failed.'\u001b[0m\u001b[0;34m)\u001b[0m\u001b[0;34m\u001b[0m\u001b[0;34m\u001b[0m\u001b[0m\n\u001b[0m\u001b[1;32m    497\u001b[0m         \u001b[0;32melse\u001b[0m\u001b[0;34m:\u001b[0m \u001b[0;31m# Note that the last compilation was successful\u001b[0m\u001b[0;34m\u001b[0m\u001b[0;34m\u001b[0m\u001b[0m\n\u001b[1;32m    498\u001b[0m             \u001b[0;32mwith\u001b[0m \u001b[0mopen\u001b[0m\u001b[0;34m(\u001b[0m\u001b[0mself\u001b[0m\u001b[0;34m.\u001b[0m\u001b[0mannarchy_dir\u001b[0m \u001b[0;34m+\u001b[0m \u001b[0;34m'/compilation'\u001b[0m\u001b[0;34m,\u001b[0m \u001b[0;34m'w'\u001b[0m\u001b[0;34m)\u001b[0m \u001b[0;32mas\u001b[0m \u001b[0mwfile\u001b[0m\u001b[0;34m:\u001b[0m\u001b[0;34m\u001b[0m\u001b[0;34m\u001b[0m\u001b[0m\n",
      "\u001b[0;32m~/.local/lib/python3.7/site-packages/ANNarchy-4.6.9.9-py3.7-linux-x86_64.egg/ANNarchy/core/Global.py\u001b[0m in \u001b[0;36m_error\u001b[0;34m(*var_text, **args)\u001b[0m\n\u001b[1;32m    611\u001b[0m \u001b[0;34m\u001b[0m\u001b[0m\n\u001b[1;32m    612\u001b[0m     \u001b[0;32mif\u001b[0m \u001b[0mexit\u001b[0m\u001b[0;34m:\u001b[0m\u001b[0;34m\u001b[0m\u001b[0;34m\u001b[0m\u001b[0m\n\u001b[0;32m--> 613\u001b[0;31m         \u001b[0;32mraise\u001b[0m \u001b[0mANNarchyException\u001b[0m\u001b[0;34m(\u001b[0m\u001b[0mtext\u001b[0m\u001b[0;34m,\u001b[0m \u001b[0mexit\u001b[0m\u001b[0;34m)\u001b[0m\u001b[0;34m\u001b[0m\u001b[0;34m\u001b[0m\u001b[0m\n\u001b[0m\u001b[1;32m    614\u001b[0m     \u001b[0;32melse\u001b[0m\u001b[0;34m:\u001b[0m\u001b[0;34m\u001b[0m\u001b[0;34m\u001b[0m\u001b[0m\n\u001b[1;32m    615\u001b[0m         \u001b[0mprint\u001b[0m\u001b[0;34m(\u001b[0m\u001b[0;34m'ERROR:'\u001b[0m \u001b[0;34m+\u001b[0m \u001b[0mtext\u001b[0m\u001b[0;34m)\u001b[0m\u001b[0;34m\u001b[0m\u001b[0;34m\u001b[0m\u001b[0m\n",
      "\u001b[0;31mANNarchyException\u001b[0m: Compilation failed. "
     ]
    }
   ],
   "source": [
    "ann.compile()"
   ]
  },
  {
   "cell_type": "code",
   "execution_count": null,
   "id": "earlier-morning",
   "metadata": {},
   "outputs": [],
   "source": [
    "import numpy as np\n",
    "\n",
    "# ann.simulate(1000.0)\n",
    "for ii in range(10000):\n",
    "    c.rates = 13.0 + np.random.normal()\n",
    "    ann.simulate(0.1)"
   ]
  },
  {
   "cell_type": "code",
   "execution_count": null,
   "id": "matched-zoning",
   "metadata": {},
   "outputs": [],
   "source": [
    "# sm = mp.get('spike')\n",
    "# smr = mpr.get('spike')\n",
    "smc = mc.get('spike')\n",
    "# smcr = mcr.get('spike')"
   ]
  },
  {
   "cell_type": "code",
   "execution_count": null,
   "id": "successful-clinic",
   "metadata": {},
   "outputs": [],
   "source": [
    "# spt, spr = mp.raster_plot(sm)\n",
    "# plot(spt, spr, '.')\n",
    "# prate = len(spt) / 600\n",
    "# print(\"PP rate without ref = %g\" % prate)"
   ]
  },
  {
   "cell_type": "code",
   "execution_count": null,
   "id": "aerial-easter",
   "metadata": {},
   "outputs": [],
   "source": [
    "# sprt, sprr = mpr.raster_plot(smr)\n",
    "# plot(sprt, sprr, '.')\n",
    "# prrate = len(sprt) / 600\n",
    "# print(\"PP rate with ref = %g\" % prrate)"
   ]
  },
  {
   "cell_type": "code",
   "execution_count": null,
   "id": "similar-luxury",
   "metadata": {},
   "outputs": [],
   "source": [
    "sct, scr = mc.raster_plot(smc)\n",
    "plot(sct, scr, '.')\n",
    "crate = len(sct) / 600\n",
    "print(\"HCST rate without ref = %g\" % crate)"
   ]
  },
  {
   "cell_type": "code",
   "execution_count": null,
   "id": "prepared-incident",
   "metadata": {},
   "outputs": [],
   "source": [
    "# scrt, scrr = mcr.raster_plot(smcr)\n",
    "# plot(scrt, scrr, '.')\n",
    "# crrate = len(scrt) / 600\n",
    "# print(\"HCST rate with ref = %g\" % crrate)"
   ]
  },
  {
   "cell_type": "code",
   "execution_count": null,
   "id": "moderate-bottle",
   "metadata": {},
   "outputs": [],
   "source": [
    "import numpy as np"
   ]
  },
  {
   "cell_type": "code",
   "execution_count": null,
   "id": "comic-video",
   "metadata": {},
   "outputs": [],
   "source": [
    "np.random.normal()"
   ]
  },
  {
   "cell_type": "code",
   "execution_count": null,
   "id": "inappropriate-structure",
   "metadata": {},
   "outputs": [],
   "source": [
    "type(np.random.normal())"
   ]
  },
  {
   "cell_type": "code",
   "execution_count": null,
   "id": "communist-remark",
   "metadata": {},
   "outputs": [],
   "source": [
    "c.rates"
   ]
  },
  {
   "cell_type": "code",
   "execution_count": null,
   "id": "noticed-reset",
   "metadata": {},
   "outputs": [],
   "source": []
  }
 ],
 "metadata": {
  "kernelspec": {
   "display_name": "Python 3",
   "language": "python",
   "name": "python3"
  },
  "language_info": {
   "codemirror_mode": {
    "name": "ipython",
    "version": 3
   },
   "file_extension": ".py",
   "mimetype": "text/x-python",
   "name": "python",
   "nbconvert_exporter": "python",
   "pygments_lexer": "ipython3",
   "version": "3.7.3"
  }
 },
 "nbformat": 4,
 "nbformat_minor": 5
}
