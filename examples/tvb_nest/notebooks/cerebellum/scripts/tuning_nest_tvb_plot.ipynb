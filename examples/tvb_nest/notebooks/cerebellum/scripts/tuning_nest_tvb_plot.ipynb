{
 "cells": [
  {
   "cell_type": "code",
   "execution_count": null,
   "metadata": {},
   "outputs": [],
   "source": [
    "from examples.tvb_nest.notebooks.cerebellum.scripts.tvb_nest_script import *\n",
    "from tvb_multiscale.core.plot.plotter import Plotter\n",
    "from tvb.contrib.scripts.datatypes.time_series_xarray import TimeSeriesRegion as TimeSeriesXarray\n",
    "\n",
    "from examples.tvb_nest.notebooks.cerebellum.scripts.nest_script import *        #build_NEST_network, plot_nest_results\n",
    "\n",
    "model_params = {'STIMULUS': 0.1, 'G': 6}        # Tuning is done at baseline\n",
    "\n",
    "tuned_values_tvb_nest = [0.5, 0.55, 0.6, 0.65, 0.7, 0.75, 0.8, 0.85, 0.9, 0.95, 1]\n",
    "\n",
    "tuned_values_nest_tvb = [100, 150]\n",
    "\n",
    "tuned_value_nest_tvb = 50   # 0.1\n",
    "tuned_value_tvb_nest = 0.1  # 0.65          # 0.8 \n",
    "COMPUTE_REF = False  #False\n",
    "\n",
    "# Get configuration\n",
    "config, plotter = configure(output_folder='nest_tvb_'+str(tuned_value_nest_tvb)+'_', verbose=2)\n",
    "print(\"config.NEST_PERIPHERY\",config.NEST_PERIPHERY)\n",
    "config.model_params.update(model_params)\n",
    "config.SIMULATION_LENGTH = 3000 #20000\n",
    "config.TRANSIENT_RATIO = 0.5\n",
    "# Load and prepare connectome and connectivity with all possible normalizations:\n",
    "connectome, major_structs_labels, voxel_count, inds, maps = prepare_connectome(config, plotter=plotter)\n",
    "connectivity = build_connectivity(connectome, inds, config)\n",
    "# Prepare model\n",
    "model = build_model(connectivity.number_of_regions, inds, maps, config)\n",
    "# Prepare simulator\n",
    "simulator = build_simulator(connectivity, model, inds, maps, config, plotter=plotter)\n",
    "if COMPUTE_REF:\n",
    "    # Run simulation and get results for reference values\n",
    "    results, transient = simulate(simulator, config)\n",
    "else:\n",
    "    # Build TVB-NEST interfaces\n",
    "    nest_network, nest_nodes_inds, neuron_models, neuron_number = build_NEST_network(config)\n",
    "    simulator, nest_network = build_tvb_nest_interfaces(simulator, nest_network, nest_nodes_inds, config, tvb_to_nest_gain=tuned_value_tvb_nest, max_rate_to_tune=tuned_value_nest_tvb)\n",
    "    # Simulate TVB-NEST model\n",
    "    results, transient, simulator, nest_network = simulate_tvb_nest(simulator, nest_network, config)\n",
    "        \n",
    "print(results)\n",
    "       \n",
    "\n",
    "        \n",
    "# Target values: ansilob=-0.3263, interposed=-0.3209, oliv=-0.3284\n",
    "\n",
    "\n"
   ]
  },
  {
   "cell_type": "code",
   "execution_count": null,
   "metadata": {},
   "outputs": [],
   "source": [
    "print(results)"
   ]
  },
  {
   "cell_type": "code",
   "execution_count": null,
   "metadata": {},
   "outputs": [],
   "source": [
    "# Compute baseline of TVB regions of interest\n",
    "regs = ['ansilob', 'interposed', 'oliv']            # L and R ? \n",
    "\n",
    "# results=None\n",
    "\n",
    "source_ts = plot_tvb(transient, inds, results=results, source_ts=None, bold_ts=None, afferent_ts=None,\n",
    "                    simulator=simulator, plotter=plotter, config=config, write_files=True)[0]\n",
    "\n",
    "\n",
    "if results is not None:\n",
    "    source_ts = TimeSeriesXarray(  # substitute with TimeSeriesRegion fot TVB like functionality\n",
    "            data=results[0][1], time=results[0][0],\n",
    "            connectivity=simulator.connectivity,\n",
    "            labels_ordering=[\"Time\", \"State Variable\", \"Region\", \"Neurons\"],\n",
    "            labels_dimensions={\"State Variable\": list(simulator.model.variables_of_interest),\n",
    "                               \"Region\": simulator.connectivity.region_labels.tolist()},\n",
    "            sample_period=simulator.integrator.dt)\n",
    "    source_ts.configure()\n",
    "\n",
    "    t = source_ts.time\n",
    "    \n",
    "\n",
    "source_ts_interface = {}\n",
    "#print(inds.keys(), inds['oliv'])\n",
    "if source_ts is not None:\n",
    "    for reg in regs:\n",
    "        source_ts_interface[reg] = source_ts[-config.SIMULATION_LENGTH:, 0, inds[reg][1]]\n",
    "        #print(\"source ts shape \", source_ts_interface[reg])\n",
    "        #print(\"source ts parts\", source_ts_interface[reg].Time, source_ts_interface[reg].values)\n",
    "        print(\"Avg baseline for \", reg, np.mean(source_ts_interface[reg]))\n",
    "        "
   ]
  },
  {
   "cell_type": "code",
   "execution_count": null,
   "metadata": {},
   "outputs": [],
   "source": [
    "print(config.figures.SAVE_FLAG)\n",
    "config.figures.SAVE_FLAG=False\n",
    "from examples.tvb_nest.notebooks.cerebellum.scripts.nest_script import plot_nest_results_raster\n",
    "plot_nest_results_raster(nest_network, neuron_models, neuron_number, config)"
   ]
  }
 ],
 "metadata": {
  "kernelspec": {
   "display_name": "Python 3.9.2 ('neurosci': venv)",
   "language": "python",
   "name": "python3"
  },
  "language_info": {
   "codemirror_mode": {
    "name": "ipython",
    "version": 3
   },
   "file_extension": ".py",
   "mimetype": "text/x-python",
   "name": "python",
   "nbconvert_exporter": "python",
   "pygments_lexer": "ipython3",
   "version": "3.9.2"
  },
  "orig_nbformat": 4,
  "vscode": {
   "interpreter": {
    "hash": "f9adb81b7866287638732f1a1c751ffce8ddaff47faf37fe4328622c1ca3eff7"
   }
  }
 },
 "nbformat": 4,
 "nbformat_minor": 2
}
