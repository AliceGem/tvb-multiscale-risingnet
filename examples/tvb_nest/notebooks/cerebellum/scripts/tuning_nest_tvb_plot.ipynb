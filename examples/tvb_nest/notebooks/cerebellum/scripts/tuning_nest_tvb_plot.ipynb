{
 "cells": [
  {
   "cell_type": "code",
   "execution_count": 7,
   "metadata": {},
   "outputs": [
    {
     "name": "stdout",
     "output_type": "stream",
     "text": [
      "dict_keys(['integrator.dt', 'connectivity.number_of_regions', 'connectivity.region_labels', 'connectivity.weights', 'connectivity.delays', 'model', 'model.nvar', 'model.nintvar', 'model.state_variables', 'model.cvar', 'monitor.period', 'synchronization_time', 'synchronization_n_step', 'integrator.noise.nsig', 'model.is_cortical', 'model.is_thalamic', 'model.G', 'model.w_ee', 'model.w_ei', 'model.w_ie', 'model.w_ii', 'model.w_er', 'model.w_es', 'model.w_si', 'model.w_se', 'model.w_rs', 'model.w_sr', 'model.tau_ct', 'model.tau_tt', 'model.tau_e', 'model.tau_i', 'model.tau_r', 'model.tau_s', 'model.beta', 'model.sigma', 'model.I_e', 'model.I_i', 'model.I_r', 'model.I_s', 'model.I_o', 'model.A_st', 'model.f_st', 'coupling.is_thalamic', 'coupling.is_subcortical'])\n"
     ]
    }
   ],
   "source": [
    "# Import packages\n",
    "from audioop import avg\n",
    "import pickle\n",
    "import numpy as np\n",
    "import os, glob\n",
    "import matplotlib.pyplot as plt\n",
    "\n",
    "from examples.tvb_nest.notebooks.cerebellum.scripts.nest_utils import *\n",
    "from examples.tvb_nest.notebooks.cerebellum.scripts.scripts import *\n",
    "from examples.tvb_nest.notebooks.cerebellum.utils import  compute_plot_selected_spectra_coherence, only_plot_selected_spectra_coherence_and_diff\n",
    "\n",
    "\n",
    "regs = ['ansilob', 'interposed', 'oliv']\n",
    "\n",
    "\n",
    "path = 'outputs/nest_tvb_100_/res/'\n",
    "file = open(path+'tvb_serial_cosimulator.pkl','rb')\n",
    "tvb_data = pickle.load(file)\n",
    "print(tvb_data.keys())"
   ]
  }
 ],
 "metadata": {
  "kernelspec": {
   "display_name": "Python 3.9.2 ('neurosci': venv)",
   "language": "python",
   "name": "python3"
  },
  "language_info": {
   "codemirror_mode": {
    "name": "ipython",
    "version": 3
   },
   "file_extension": ".py",
   "mimetype": "text/x-python",
   "name": "python",
   "nbconvert_exporter": "python",
   "pygments_lexer": "ipython3",
   "version": "3.9.2"
  },
  "orig_nbformat": 4,
  "vscode": {
   "interpreter": {
    "hash": "f9adb81b7866287638732f1a1c751ffce8ddaff47faf37fe4328622c1ca3eff7"
   }
  }
 },
 "nbformat": 4,
 "nbformat_minor": 2
}
