{
 "cells": [
  {
   "cell_type": "code",
   "execution_count": null,
   "metadata": {},
   "outputs": [],
   "source": [
    "# Import packages\n",
    "import pickle\n",
    "import numpy as np\n",
    "%matplotlib inline \n",
    "\n",
    "from examples.tvb_nest.notebooks.cerebellum.utils import  only_plot_selected_spectra_coherence_and_diff\n",
    "\n",
    "\n",
    "# Load files\n",
    "test_names = ['MF_cerebON', 'MF_cerebOFF','cosim']\n",
    "\n",
    "avg_coherence = {}\n",
    "for test in test_names:\n",
    "    file_coherence = open(\"coherence_\"+test+\"_2sec.pickle\",'rb')\n",
    "    print(file_coherence)\n",
    "    [CxyR, fR, fL, CxyL]=pickle.load(file_coherence)\n",
    "    avg_coherence[test] = np.mean(np.array([CxyR,CxyL]),axis=0)"
   ]
  },
  {
   "cell_type": "code",
   "execution_count": null,
   "metadata": {},
   "outputs": [],
   "source": [
    "# Power Spectra and Coherence for M1 - S1 barrel field\n",
    "color = {'cosim': 'green', 'MF_cerebON': 'red', 'MF_cerebOFF': 'gray'}\n",
    "only_plot_selected_spectra_coherence_and_diff(fR, avg_coherence, color, fmin=0.0, fmax=50.0, figsize=(15, 5))"
   ]
  }
 ],
 "metadata": {
  "language_info": {
   "name": "python"
  },
  "orig_nbformat": 4
 },
 "nbformat": 4,
 "nbformat_minor": 2
}
