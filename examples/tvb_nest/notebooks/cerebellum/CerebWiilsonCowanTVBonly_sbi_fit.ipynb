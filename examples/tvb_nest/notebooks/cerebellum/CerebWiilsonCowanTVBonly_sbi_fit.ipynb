{
 "cells": [
  {
   "cell_type": "code",
   "execution_count": 1,
   "id": "7387378d",
   "metadata": {
    "scrolled": true
   },
   "outputs": [
    {
     "name": "stdout",
     "output_type": "stream",
     "text": [
      "2022-06-27 12:28:17,940 - INFO - tvb_multiscale.tvb_nest.config - Loading a NEST instance...\n",
      "2022-06-27 12:28:17,940 - INFO - tvb_multiscale.tvb_nest.config - Loading a NEST instance...\n",
      "2022-06-27 12:28:17,943 - INFO - tvb_multiscale.tvb_nest.config - NEST_INSTALL_DIR: /home/docker/env/neurosci/nest_build\n",
      "2022-06-27 12:28:17,943 - INFO - tvb_multiscale.tvb_nest.config - NEST_INSTALL_DIR: /home/docker/env/neurosci/nest_build\n",
      "2022-06-27 12:28:17,946 - INFO - tvb_multiscale.tvb_nest.config - NEST_DATA_DIR: /home/docker/env/neurosci/nest_build/share/nest\n",
      "2022-06-27 12:28:17,946 - INFO - tvb_multiscale.tvb_nest.config - NEST_DATA_DIR: /home/docker/env/neurosci/nest_build/share/nest\n",
      "2022-06-27 12:28:17,949 - INFO - tvb_multiscale.tvb_nest.config - NEST_DOC_DIR: /home/docker/env/neurosci/nest_build/share/doc/nest\n",
      "2022-06-27 12:28:17,949 - INFO - tvb_multiscale.tvb_nest.config - NEST_DOC_DIR: /home/docker/env/neurosci/nest_build/share/doc/nest\n",
      "2022-06-27 12:28:17,952 - INFO - tvb_multiscale.tvb_nest.config - NEST_MODULE_PATH: /home/docker/env/neurosci/nest_build/lib/nest\n",
      "2022-06-27 12:28:17,952 - INFO - tvb_multiscale.tvb_nest.config - NEST_MODULE_PATH: /home/docker/env/neurosci/nest_build/lib/nest\n",
      "2022-06-27 12:28:17,954 - INFO - tvb_multiscale.tvb_nest.config - PATH: /home/docker/env/neurosci/nest_build/bin:/usr/local/sbin:/usr/local/bin:/usr/sbin:/usr/bin:/sbin:/bin\n",
      "2022-06-27 12:28:17,954 - INFO - tvb_multiscale.tvb_nest.config - PATH: /home/docker/env/neurosci/nest_build/bin:/usr/local/sbin:/usr/local/bin:/usr/sbin:/usr/bin:/sbin:/bin\n",
      "2022-06-27 12:28:17,957 - INFO - tvb_multiscale.tvb_nest.config - LD_LIBRARY_PATH: /home/docker/env/neurosci/nest_build/lib/nest::/home/docker/env/neurosci/nest_build/lib/nest\n",
      "2022-06-27 12:28:17,957 - INFO - tvb_multiscale.tvb_nest.config - LD_LIBRARY_PATH: /home/docker/env/neurosci/nest_build/lib/nest::/home/docker/env/neurosci/nest_build/lib/nest\n",
      "2022-06-27 12:28:17,960 - INFO - tvb_multiscale.tvb_nest.config - SLI_PATH: /home/docker/env/neurosci/nest_build/share/nest/sli\n",
      "2022-06-27 12:28:17,960 - INFO - tvb_multiscale.tvb_nest.config - SLI_PATH: /home/docker/env/neurosci/nest_build/share/nest/sli\n",
      "2022-06-27 12:28:17,963 - INFO - tvb_multiscale.tvb_nest.config - NEST_PYTHON_PREFIX: /home/docker/env/neurosci/nest_build/lib/python3.9/site-packages\n",
      "2022-06-27 12:28:17,963 - INFO - tvb_multiscale.tvb_nest.config - NEST_PYTHON_PREFIX: /home/docker/env/neurosci/nest_build/lib/python3.9/site-packages\n",
      "2022-06-27 12:28:17,966 - INFO - tvb_multiscale.tvb_nest.config - system path: ['/home/docker/env/neurosci/nest_build/lib/python3.9/site-packages', '/home/docker/packages/tvb-multiscale/examples/tvb_nest/notebooks/cerebellum', '/home/docker/env/neurosci', '/usr/lib/python39.zip', '/usr/lib/python3.9', '/usr/lib/python3.9/lib-dynload', '', '/home/docker/env/neurosci/lib/python3.9/site-packages', '/home/docker/env/neurosci/lib/python3.9/site-packages/NESTML-5.0.0.post0.dev0-py3.9.egg', '/home/docker/env/neurosci/lib/python3.9/site-packages/sympy-1.10.1-py3.9.egg', '/home/docker/env/neurosci/lib/python3.9/site-packages/odetoolbox-2.4.1-py3.9.egg', '/home/docker/env/neurosci/lib/python3.9/site-packages/astropy-5.2.dev0-py3.9-linux-x86_64.egg', '/home/docker/env/neurosci/lib/python3.9/site-packages/antlr4_python3_runtime-4.10-py3.9.egg', '/home/docker/env/neurosci/lib/python3.9/site-packages/mpmath-1.2.1-py3.9.egg', '/home/docker/env/neurosci/lib/python3.9/site-packages/pyerfa-2.0.0.1-py3.9-linux-x86_64.egg', '/home/docker/env/neurosci/lib/python3.9/site-packages/PyYAML-6.0-py3.9-linux-x86_64.egg', '/home/docker/packages/tvb-root/tvb_library', '/home/docker/env/neurosci/lib/python3.9/site-packages/typing-3.10.0.0-py3.9.egg', '/home/docker/env/neurosci/lib/python3.9/site-packages/PyLEMS-0.5.9-py3.9.egg', '/home/docker/env/neurosci/lib/python3.9/site-packages/numexpr-2.8.1-py3.9-linux-x86_64.egg', '/home/docker/env/neurosci/lib/python3.9/site-packages/networkx-2.8.2-py3.9.egg', '/home/docker/env/neurosci/lib/python3.9/site-packages/Mako-1.2.0-py3.9.egg', '/home/docker/env/neurosci/lib/python3.9/site-packages/lxml-4.8.0-py3.9-linux-x86_64.egg', '/home/docker/env/neurosci/lib/python3.9/site-packages/autopep8-1.6.0-py3.9.egg', '/home/docker/env/neurosci/lib/python3.9/site-packages/toml-0.10.2-py3.9.egg', '/home/docker/env/neurosci/lib/python3.9/site-packages/pycodestyle-2.8.0-py3.9.egg', '/home/docker/packages/tvb-root/tvb_framework', '/home/docker/env/neurosci/lib/python3.9/site-packages/tvb_storage-2.5-py3.9.egg', '/home/docker/env/neurosci/lib/python3.9/site-packages/tvb_library-2.5-py3.9.egg', '/home/docker/env/neurosci/lib/python3.9/site-packages/tvb_gdist-2.1.0-py3.9-linux-x86_64.egg', '/home/docker/env/neurosci/lib/python3.9/site-packages/tvb_data-2.0-py3.9.egg', '/home/docker/env/neurosci/lib/python3.9/site-packages/simplejson-3.17.6-py3.9-linux-x86_64.egg', '/home/docker/env/neurosci/lib/python3.9/site-packages/python_keycloak-0.29.0-py3.9.egg', '/home/docker/env/neurosci/lib/python3.9/site-packages/nibabel-3.2.2-py3.9.egg', '/home/docker/env/neurosci/lib/python3.9/site-packages/gevent-21.12.0-py3.9-linux-x86_64.egg', '/home/docker/env/neurosci/lib/python3.9/site-packages/FormEncode-2.0.1-py3.9.egg', '/home/docker/env/neurosci/lib/python3.9/site-packages/Flask-1.1.4-py3.9.egg', '/home/docker/env/neurosci/lib/python3.9/site-packages/flask_restx-0.5.1-py3.9.egg', '/home/docker/env/neurosci/lib/python3.9/site-packages/CherryPy-18.6.1-py3.9.egg', '/home/docker/env/neurosci/lib/python3.9/site-packages/allensdk-2.13.4-py3.9.egg', '/home/docker/env/neurosci/lib/python3.9/site-packages/alembic-1.7.7-py3.9.egg', '/home/docker/env/neurosci/lib/python3.9/site-packages/Jinja2-2.11.3-py3.9.egg', '/home/docker/env/neurosci/lib/python3.9/site-packages/pyAesCrypt-6.0.0-py3.9.egg', '/home/docker/env/neurosci/lib/python3.9/site-packages/cryptography-37.0.2-py3.9-linux-x86_64.egg', '/home/docker/env/neurosci/lib/python3.9/site-packages/python_jose-3.3.0-py3.9.egg', '/home/docker/env/neurosci/lib/python3.9/site-packages/zope.interface-5.5.0.dev0-py3.9.egg', '/home/docker/env/neurosci/lib/python3.9/site-packages/zope.event-4.5.0-py3.9.egg', '/home/docker/env/neurosci/lib/python3.9/site-packages/itsdangerous-1.1.0-py3.9.egg', '/home/docker/env/neurosci/lib/python3.9/site-packages/click-7.1.2-py3.9.egg', '/home/docker/packages/tvb-root/tvb_contrib', '/home/docker/env/neurosci/lib/python3.9/site-packages/pyspike-0.7.0-py3.9-linux-x86_64.egg', '/home/docker/packages/tvb-multiscale', '/usr/lib/python3/dist-packages', '/home/docker/.local/lib/python3.9/site-packages', '/home/docker/.local/lib/python3.9/site-packages/ANNarchy-4.7.1.3-py3.9-linux-x86_64.egg', '/usr/local/lib/python3.9/dist-packages']\n",
      "2022-06-27 12:28:17,966 - INFO - tvb_multiscale.tvb_nest.config - system path: ['/home/docker/env/neurosci/nest_build/lib/python3.9/site-packages', '/home/docker/packages/tvb-multiscale/examples/tvb_nest/notebooks/cerebellum', '/home/docker/env/neurosci', '/usr/lib/python39.zip', '/usr/lib/python3.9', '/usr/lib/python3.9/lib-dynload', '', '/home/docker/env/neurosci/lib/python3.9/site-packages', '/home/docker/env/neurosci/lib/python3.9/site-packages/NESTML-5.0.0.post0.dev0-py3.9.egg', '/home/docker/env/neurosci/lib/python3.9/site-packages/sympy-1.10.1-py3.9.egg', '/home/docker/env/neurosci/lib/python3.9/site-packages/odetoolbox-2.4.1-py3.9.egg', '/home/docker/env/neurosci/lib/python3.9/site-packages/astropy-5.2.dev0-py3.9-linux-x86_64.egg', '/home/docker/env/neurosci/lib/python3.9/site-packages/antlr4_python3_runtime-4.10-py3.9.egg', '/home/docker/env/neurosci/lib/python3.9/site-packages/mpmath-1.2.1-py3.9.egg', '/home/docker/env/neurosci/lib/python3.9/site-packages/pyerfa-2.0.0.1-py3.9-linux-x86_64.egg', '/home/docker/env/neurosci/lib/python3.9/site-packages/PyYAML-6.0-py3.9-linux-x86_64.egg', '/home/docker/packages/tvb-root/tvb_library', '/home/docker/env/neurosci/lib/python3.9/site-packages/typing-3.10.0.0-py3.9.egg', '/home/docker/env/neurosci/lib/python3.9/site-packages/PyLEMS-0.5.9-py3.9.egg', '/home/docker/env/neurosci/lib/python3.9/site-packages/numexpr-2.8.1-py3.9-linux-x86_64.egg', '/home/docker/env/neurosci/lib/python3.9/site-packages/networkx-2.8.2-py3.9.egg', '/home/docker/env/neurosci/lib/python3.9/site-packages/Mako-1.2.0-py3.9.egg', '/home/docker/env/neurosci/lib/python3.9/site-packages/lxml-4.8.0-py3.9-linux-x86_64.egg', '/home/docker/env/neurosci/lib/python3.9/site-packages/autopep8-1.6.0-py3.9.egg', '/home/docker/env/neurosci/lib/python3.9/site-packages/toml-0.10.2-py3.9.egg', '/home/docker/env/neurosci/lib/python3.9/site-packages/pycodestyle-2.8.0-py3.9.egg', '/home/docker/packages/tvb-root/tvb_framework', '/home/docker/env/neurosci/lib/python3.9/site-packages/tvb_storage-2.5-py3.9.egg', '/home/docker/env/neurosci/lib/python3.9/site-packages/tvb_library-2.5-py3.9.egg', '/home/docker/env/neurosci/lib/python3.9/site-packages/tvb_gdist-2.1.0-py3.9-linux-x86_64.egg', '/home/docker/env/neurosci/lib/python3.9/site-packages/tvb_data-2.0-py3.9.egg', '/home/docker/env/neurosci/lib/python3.9/site-packages/simplejson-3.17.6-py3.9-linux-x86_64.egg', '/home/docker/env/neurosci/lib/python3.9/site-packages/python_keycloak-0.29.0-py3.9.egg', '/home/docker/env/neurosci/lib/python3.9/site-packages/nibabel-3.2.2-py3.9.egg', '/home/docker/env/neurosci/lib/python3.9/site-packages/gevent-21.12.0-py3.9-linux-x86_64.egg', '/home/docker/env/neurosci/lib/python3.9/site-packages/FormEncode-2.0.1-py3.9.egg', '/home/docker/env/neurosci/lib/python3.9/site-packages/Flask-1.1.4-py3.9.egg', '/home/docker/env/neurosci/lib/python3.9/site-packages/flask_restx-0.5.1-py3.9.egg', '/home/docker/env/neurosci/lib/python3.9/site-packages/CherryPy-18.6.1-py3.9.egg', '/home/docker/env/neurosci/lib/python3.9/site-packages/allensdk-2.13.4-py3.9.egg', '/home/docker/env/neurosci/lib/python3.9/site-packages/alembic-1.7.7-py3.9.egg', '/home/docker/env/neurosci/lib/python3.9/site-packages/Jinja2-2.11.3-py3.9.egg', '/home/docker/env/neurosci/lib/python3.9/site-packages/pyAesCrypt-6.0.0-py3.9.egg', '/home/docker/env/neurosci/lib/python3.9/site-packages/cryptography-37.0.2-py3.9-linux-x86_64.egg', '/home/docker/env/neurosci/lib/python3.9/site-packages/python_jose-3.3.0-py3.9.egg', '/home/docker/env/neurosci/lib/python3.9/site-packages/zope.interface-5.5.0.dev0-py3.9.egg', '/home/docker/env/neurosci/lib/python3.9/site-packages/zope.event-4.5.0-py3.9.egg', '/home/docker/env/neurosci/lib/python3.9/site-packages/itsdangerous-1.1.0-py3.9.egg', '/home/docker/env/neurosci/lib/python3.9/site-packages/click-7.1.2-py3.9.egg', '/home/docker/packages/tvb-root/tvb_contrib', '/home/docker/env/neurosci/lib/python3.9/site-packages/pyspike-0.7.0-py3.9-linux-x86_64.egg', '/home/docker/packages/tvb-multiscale', '/usr/lib/python3/dist-packages', '/home/docker/.local/lib/python3.9/site-packages', '/home/docker/.local/lib/python3.9/site-packages/ANNarchy-4.7.1.3-py3.9-linux-x86_64.egg', '/usr/local/lib/python3.9/dist-packages']\n"
     ]
    },
    {
     "name": "stdout",
     "output_type": "stream",
     "text": [
      "Outputs' path: /home/docker/packages/tvb-multiscale/examples/tvb_nest/notebooks/cerebellum/outputs/cereb_wilson_cowan_TVBonly_SummedSubcortical_Thals_FIC1THAL_CRTX_FIXWD\n"
     ]
    },
    {
     "data": {
      "text/plain": [
       "<Figure size 432x288 with 0 Axes>"
      ]
     },
     "metadata": {},
     "output_type": "display_data"
    }
   ],
   "source": [
    "from examples.tvb_nest.notebooks.cerebellum.scripts import *\n",
    "config = configure()[0]\n"
   ]
  },
  {
   "cell_type": "code",
   "execution_count": 2,
   "id": "3ca87a60",
   "metadata": {},
   "outputs": [
    {
     "data": {
      "application/vnd.jupyter.widget-view+json": {
       "model_id": "9f9378229a6c4306afde0e2afa58d1e9",
       "version_major": 2,
       "version_minor": 0
      },
      "text/plain": [
       "Running 100 simulations.:   0%|          | 0/100 [00:00<?, ?it/s]"
      ]
     },
     "metadata": {},
     "output_type": "display_data"
    }
   ],
   "source": [
    "priors = priors_samples_per_batch_for_iG(priors_samples=None,\n",
    "                                         iG=1, config=config, write_to_files=True)\n"
   ]
  },
  {
   "cell_type": "code",
   "execution_count": 3,
   "id": "5a72636b",
   "metadata": {
    "scrolled": false
   },
   "outputs": [
    {
     "name": "stdout",
     "output_type": "stream",
     "text": [
      "\n",
      "\n",
      "Simulating for parameters:\n",
      "OrderedDict([('STIMULUS', array(0.14263692, dtype=float32)), ('I_E', array(-0.4423661, dtype=float32)), ('I_S', array(0.2182934, dtype=float32)), ('W_IE', array(-3.591022, dtype=float32)), ('W_RS', array(-1.2772262, dtype=float32)), ('G', 1.0)])\n",
      "\n",
      "\n",
      "Outputs' path: /home/docker/packages/tvb-multiscale/examples/tvb_nest/notebooks/cerebellum/outputs/cereb_wilson_cowan_TVBonly_SummedSubcortical_Thals_FIC1THAL_CRTX_FIXWD\n",
      "\n",
      "normalized weights [min, max] = \n",
      " [1.0, 27.639354909547873]\n"
     ]
    },
    {
     "name": "stderr",
     "output_type": "stream",
     "text": [
      "/home/docker/packages/tvb-multiscale/tvb_multiscale/core/spiking_models/node_set.py:34: FutureWarning: The default dtype for empty Series will be 'object' instead of 'float64' in a future version. Specify a dtype explicitly to silence this warning.\n",
      "  def __init__(self, nodes=pd.Series(), **kwargs):\n"
     ]
    },
    {
     "name": "stdout",
     "output_type": "stream",
     "text": [
      "2022-06-27 12:28:25,672 - WARNING - tvb_multiscale.core.tvb.cosimulator.cosimulator_serial - Current step is not 0 upon configuration!\n",
      "Setting it to 0. Initial condition might be affected!\n"
     ]
    },
    {
     "name": "stderr",
     "output_type": "stream",
     "text": [
      "/home/docker/packages/tvb-multiscale/tvb_multiscale/core/spiking_models/devices.py:953: FutureWarning: The default dtype for empty Series will be 'object' instead of 'float64' in a future version. Specify a dtype explicitly to silence this warning.\n",
      "  def __init__(self, device_set=pd.Series(), **kwargs):\n"
     ]
    },
    {
     "name": "stdout",
     "output_type": "stream",
     "text": [
      "Current step is not 0 upon configuration!\n",
      "Setting it to 0. Initial condition might be affected!\n",
      "CoSimulatorSerial (\n",
      "  title .................... 'CoSimulatorSerial gid: a54212c9-5446-4eca-8551-7446bd95a71c'\n",
      "  Type ..................... 'CoSimulatorSerial'\n",
      "  model .................... WilsonCowanThalamoCortical gid: 95d8cbb6-e2c2-42ff-9411-afe5649959c3\n",
      "  output_interfaces ........ None\n",
      "  input_interfaces ......... None\n",
      "  out_proxy_inds ........... --------------------\n",
      "  shape .................... (0,)\n",
      "  dtype .................... int64\n",
      "  is empty ................. True\n",
      "  exclusive ................ False\n",
      "  voi ...................... --------------------\n",
      "  proxy_inds ............... --------------------\n",
      "  synchronization_time ..... 0.0\n",
      "  connectivity ............. Connectivity gid: b2800986-90d7-4ace-933b-072fdffd6b79\n",
      "  conduction_speed ......... 3.0\n",
      "  coupling ................. SigmoidalPreThalamoCortical gid: cd703fa0-ee4b-4154-83b7-e52962934083\n",
      "  surface .................. None\n",
      "  stimulus ................. None\n",
      "  integrator ............... EulerStochastic gid: c8b05eb1-e71e-435d-8ce3-add684ca2d7b\n",
      "  initial_conditions ....... --------------------\n",
      "  initial_conditions: shape  (1000, 3, 214, 1)\n",
      "  initial_conditions: dtype  float64\n",
      "  initial_conditions: values  [-0.07043195  0.06393782  0.07306513 ... -0.19827891 -0.05259523\n",
      " -0.01552059]\n",
      "  monitors[0] .............. TemporalAverage gid: fad0f415-da24-4af8-99f2-a7a8b63cfa69\n",
      "  simulation_length ........ 1000.0\n",
      "  gid ...................... UUID('a54212c9-5446-4eca-8551-7446bd95a71c')\n",
      ")\n",
      "\n",
      "Simulated in 41.692307 secs!\n",
      "(4, 129)\n",
      "\n",
      "\n",
      "Simulating for parameters:\n",
      "OrderedDict([('STIMULUS', array(0.39464396, dtype=float32)), ('I_E', array(-0.47965986, dtype=float32)), ('I_S', array(0.37378544, dtype=float32)), ('W_IE', array(-3.7971807, dtype=float32)), ('W_RS', array(-2.6839013, dtype=float32)), ('G', 1.0)])\n",
      "\n",
      "\n",
      "Outputs' path: /home/docker/packages/tvb-multiscale/examples/tvb_nest/notebooks/cerebellum/outputs/cereb_wilson_cowan_TVBonly_SummedSubcortical_Thals_FIC1THAL_CRTX_FIXWD\n",
      "\n",
      "normalized weights [min, max] = \n",
      " [1.0, 27.639354909547873]\n",
      "2022-06-27 12:29:07,982 - WARNING - tvb_multiscale.core.tvb.cosimulator.cosimulator_serial - Current step is not 0 upon configuration!\n",
      "Setting it to 0. Initial condition might be affected!\n",
      "Current step is not 0 upon configuration!\n",
      "Setting it to 0. Initial condition might be affected!\n",
      "CoSimulatorSerial (\n",
      "  title .................... 'CoSimulatorSerial gid: 8ee27464-cc0c-4ab2-a98d-836b308e7860'\n",
      "  Type ..................... 'CoSimulatorSerial'\n",
      "  model .................... WilsonCowanThalamoCortical gid: 1bdb2c70-4f6e-47f4-a531-820b156f606b\n",
      "  output_interfaces ........ None\n",
      "  input_interfaces ......... None\n",
      "  out_proxy_inds ........... --------------------\n",
      "  shape .................... (0,)\n",
      "  dtype .................... int64\n",
      "  is empty ................. True\n",
      "  exclusive ................ False\n",
      "  voi ...................... --------------------\n",
      "  proxy_inds ............... --------------------\n",
      "  synchronization_time ..... 0.0\n",
      "  connectivity ............. Connectivity gid: a0454cc3-500b-426f-b626-a46ed6acafaa\n",
      "  conduction_speed ......... 3.0\n",
      "  coupling ................. SigmoidalPreThalamoCortical gid: 13458fb7-0685-4bf4-b79a-e20e747dcb95\n",
      "  surface .................. None\n",
      "  stimulus ................. None\n",
      "  integrator ............... EulerStochastic gid: 122a366e-98fb-4193-9a03-8b34cd5cab7e\n",
      "  initial_conditions ....... --------------------\n",
      "  initial_conditions: shape  (1000, 3, 214, 1)\n",
      "  initial_conditions: dtype  float64\n",
      "  initial_conditions: values  [ 0.17721415 -0.13838069  0.06844153 ... -0.00643611  0.01790656\n",
      " -0.18328634]\n",
      "  monitors[0] .............. TemporalAverage gid: f7a33610-9b39-47f4-bb19-b4c8529fa3f1\n",
      "  simulation_length ........ 1000.0\n",
      "  gid ...................... UUID('8ee27464-cc0c-4ab2-a98d-836b308e7860')\n",
      ")\n",
      "\n",
      "Simulated in 50.053702 secs!\n",
      "(4, 129)\n",
      "\n",
      "\n",
      "Simulating for parameters:\n",
      "OrderedDict([('STIMULUS', array(0.3667768, dtype=float32)), ('I_E', array(-0.16643101, dtype=float32)), ('I_S', array(0.57513267, dtype=float32)), ('W_IE', array(-8.531225, dtype=float32)), ('W_RS', array(-3.9375143, dtype=float32)), ('G', 1.0)])\n",
      "\n",
      "\n",
      "Outputs' path: /home/docker/packages/tvb-multiscale/examples/tvb_nest/notebooks/cerebellum/outputs/cereb_wilson_cowan_TVBonly_SummedSubcortical_Thals_FIC1THAL_CRTX_FIXWD\n",
      "\n",
      "normalized weights [min, max] = \n",
      " [1.0, 27.639354909547873]\n",
      "2022-06-27 12:29:58,726 - WARNING - tvb_multiscale.core.tvb.cosimulator.cosimulator_serial - Current step is not 0 upon configuration!\n",
      "Setting it to 0. Initial condition might be affected!\n",
      "Current step is not 0 upon configuration!\n",
      "Setting it to 0. Initial condition might be affected!\n",
      "CoSimulatorSerial (\n",
      "  title .................... 'CoSimulatorSerial gid: 73bad653-4334-451e-94b9-5332897dd6ac'\n",
      "  Type ..................... 'CoSimulatorSerial'\n",
      "  model .................... WilsonCowanThalamoCortical gid: f64716f1-dbad-4590-a524-5cef528c2da7\n",
      "  output_interfaces ........ None\n",
      "  input_interfaces ......... None\n",
      "  out_proxy_inds ........... --------------------\n",
      "  shape .................... (0,)\n",
      "  dtype .................... int64\n",
      "  is empty ................. True\n",
      "  exclusive ................ False\n",
      "  voi ...................... --------------------\n",
      "  proxy_inds ............... --------------------\n",
      "  synchronization_time ..... 0.0\n",
      "  connectivity ............. Connectivity gid: bbaa797b-7cf8-4162-a4cf-1696e66c3886\n",
      "  conduction_speed ......... 3.0\n",
      "  coupling ................. SigmoidalPreThalamoCortical gid: be1d7fb5-72bd-4c06-a06d-ed3950a2904c\n",
      "  surface .................. None\n",
      "  stimulus ................. None\n",
      "  integrator ............... EulerStochastic gid: 478a01d9-64c1-43ec-93e2-1efef5345b98\n",
      "  initial_conditions ....... --------------------\n",
      "  initial_conditions: shape  (1000, 3, 214, 1)\n",
      "  initial_conditions: dtype  float64\n",
      "  initial_conditions: values  [-0.19792398 -0.03244502 -0.03941568 ... -0.23844123 -0.0157216\n",
      " -0.08429645]\n",
      "  monitors[0] .............. TemporalAverage gid: f429d6ec-717d-4569-9bb6-a12808e17fef\n",
      "  simulation_length ........ 1000.0\n",
      "  gid ...................... UUID('73bad653-4334-451e-94b9-5332897dd6ac')\n",
      ")\n",
      "\n",
      "Simulated in 66.520773 secs!\n",
      "(4, 129)\n",
      "\n",
      "\n",
      "Simulating for parameters:\n",
      "OrderedDict([('STIMULUS', array(0.31849712, dtype=float32)), ('I_E', array(-0.70898706, dtype=float32)), ('I_S', array(0.5581294, dtype=float32)), ('W_IE', array(-5.3380523, dtype=float32)), ('W_RS', array(-1.4101007, dtype=float32)), ('G', 1.0)])\n",
      "\n",
      "\n",
      "Outputs' path: /home/docker/packages/tvb-multiscale/examples/tvb_nest/notebooks/cerebellum/outputs/cereb_wilson_cowan_TVBonly_SummedSubcortical_Thals_FIC1THAL_CRTX_FIXWD\n",
      "\n",
      "normalized weights [min, max] = \n",
      " [1.0, 27.639354909547873]\n",
      "2022-06-27 12:31:06,776 - WARNING - tvb_multiscale.core.tvb.cosimulator.cosimulator_serial - Current step is not 0 upon configuration!\n",
      "Setting it to 0. Initial condition might be affected!\n",
      "Current step is not 0 upon configuration!\n",
      "Setting it to 0. Initial condition might be affected!\n",
      "CoSimulatorSerial (\n",
      "  title .................... 'CoSimulatorSerial gid: 3f17628a-d9dd-46bf-a5d3-d0ccf466a31b'\n",
      "  Type ..................... 'CoSimulatorSerial'\n",
      "  model .................... WilsonCowanThalamoCortical gid: 8be670a6-f534-4810-a8fa-c56e0a929179\n",
      "  output_interfaces ........ None\n",
      "  input_interfaces ......... None\n",
      "  out_proxy_inds ........... --------------------\n",
      "  shape .................... (0,)\n",
      "  dtype .................... int64\n",
      "  is empty ................. True\n",
      "  exclusive ................ False\n",
      "  voi ...................... --------------------\n",
      "  proxy_inds ............... --------------------\n",
      "  synchronization_time ..... 0.0\n",
      "  connectivity ............. Connectivity gid: 546f3680-6a96-4f4a-9733-d64848570d50\n",
      "  conduction_speed ......... 3.0\n",
      "  coupling ................. SigmoidalPreThalamoCortical gid: 4bbc6351-a824-4bdd-8cfa-6306823056f3\n",
      "  surface .................. None\n",
      "  stimulus ................. None\n",
      "  integrator ............... EulerStochastic gid: 12e23851-6284-4240-b5fa-1a6c5124aa15\n",
      "  initial_conditions ....... --------------------\n",
      "  initial_conditions: shape  (1000, 3, 214, 1)\n",
      "  initial_conditions: dtype  float64\n",
      "  initial_conditions: values  [-0.09271861 -0.04351779  0.00075378 ...  0.1134642   0.07770915\n",
      "  0.05908641]\n",
      "  monitors[0] .............. TemporalAverage gid: c15a4220-072d-4cc9-b71c-9c9a68c6d4fe\n",
      "  simulation_length ........ 1000.0\n",
      "  gid ...................... UUID('3f17628a-d9dd-46bf-a5d3-d0ccf466a31b')\n",
      ")\n"
     ]
    },
    {
     "name": "stdout",
     "output_type": "stream",
     "text": [
      "\n",
      "Simulated in 64.231196 secs!\n",
      "(4, 129)\n",
      "\n",
      "\n",
      "Simulating for parameters:\n",
      "OrderedDict([('STIMULUS', array(0.20671947, dtype=float32)), ('I_E', array(-0.6368024, dtype=float32)), ('I_S', array(0.6590574, dtype=float32)), ('W_IE', array(-7.4978323, dtype=float32)), ('W_RS', array(-0.98313165, dtype=float32)), ('G', 1.0)])\n",
      "\n",
      "\n",
      "Outputs' path: /home/docker/packages/tvb-multiscale/examples/tvb_nest/notebooks/cerebellum/outputs/cereb_wilson_cowan_TVBonly_SummedSubcortical_Thals_FIC1THAL_CRTX_FIXWD\n",
      "\n",
      "normalized weights [min, max] = \n",
      " [1.0, 27.639354909547873]\n",
      "2022-06-27 12:32:11,882 - WARNING - tvb_multiscale.core.tvb.cosimulator.cosimulator_serial - Current step is not 0 upon configuration!\n",
      "Setting it to 0. Initial condition might be affected!\n",
      "Current step is not 0 upon configuration!\n",
      "Setting it to 0. Initial condition might be affected!\n",
      "CoSimulatorSerial (\n",
      "  title .................... 'CoSimulatorSerial gid: 345138a8-b6d5-4420-b2d4-8b6678a1d415'\n",
      "  Type ..................... 'CoSimulatorSerial'\n",
      "  model .................... WilsonCowanThalamoCortical gid: 07e8e04a-89b1-4b9f-9d32-5001c97ffae9\n",
      "  output_interfaces ........ None\n",
      "  input_interfaces ......... None\n",
      "  out_proxy_inds ........... --------------------\n",
      "  shape .................... (0,)\n",
      "  dtype .................... int64\n",
      "  is empty ................. True\n",
      "  exclusive ................ False\n",
      "  voi ...................... --------------------\n",
      "  proxy_inds ............... --------------------\n",
      "  synchronization_time ..... 0.0\n",
      "  connectivity ............. Connectivity gid: 032c0f59-2a01-42d5-abad-bfe2428eab53\n",
      "  conduction_speed ......... 3.0\n",
      "  coupling ................. SigmoidalPreThalamoCortical gid: 5f70b638-a170-497f-8e31-05c42ec3170f\n",
      "  surface .................. None\n",
      "  stimulus ................. None\n",
      "  integrator ............... EulerStochastic gid: 22c3753d-9013-4641-8e8f-0806cf7f510b\n",
      "  initial_conditions ....... --------------------\n",
      "  initial_conditions: shape  (1000, 3, 214, 1)\n",
      "  initial_conditions: dtype  float64\n",
      "  initial_conditions: values  [-0.1076349  -0.28020804  0.11593881 ...  0.14005827 -0.02728843\n",
      " -0.12394801]\n",
      "  monitors[0] .............. TemporalAverage gid: a199f2c8-6543-45c1-963d-236a826f3b9b\n",
      "  simulation_length ........ 1000.0\n",
      "  gid ...................... UUID('345138a8-b6d5-4420-b2d4-8b6678a1d415')\n",
      ")\n",
      "\n",
      "Simulated in 51.283098 secs!\n",
      "(4, 129)\n",
      "\n",
      "\n",
      "Simulating for parameters:\n",
      "OrderedDict([('STIMULUS', array(0.10289265, dtype=float32)), ('I_E', array(-0.62213874, dtype=float32)), ('I_S', array(0.3884768, dtype=float32)), ('W_IE', array(-2.1383073, dtype=float32)), ('W_RS', array(-3.9264894, dtype=float32)), ('G', 1.0)])\n",
      "\n",
      "\n",
      "Outputs' path: /home/docker/packages/tvb-multiscale/examples/tvb_nest/notebooks/cerebellum/outputs/cereb_wilson_cowan_TVBonly_SummedSubcortical_Thals_FIC1THAL_CRTX_FIXWD\n",
      "\n",
      "normalized weights [min, max] = \n",
      " [1.0, 27.639354909547873]\n",
      "2022-06-27 12:33:04,111 - WARNING - tvb_multiscale.core.tvb.cosimulator.cosimulator_serial - Current step is not 0 upon configuration!\n",
      "Setting it to 0. Initial condition might be affected!\n",
      "Current step is not 0 upon configuration!\n",
      "Setting it to 0. Initial condition might be affected!\n",
      "CoSimulatorSerial (\n",
      "  title .................... 'CoSimulatorSerial gid: 76d8fdeb-c41b-49e7-9f2e-6bdce7208eb3'\n",
      "  Type ..................... 'CoSimulatorSerial'\n",
      "  model .................... WilsonCowanThalamoCortical gid: e56b61ca-e198-4406-8254-be3b0c47d36f\n",
      "  output_interfaces ........ None\n",
      "  input_interfaces ......... None\n",
      "  out_proxy_inds ........... --------------------\n",
      "  shape .................... (0,)\n",
      "  dtype .................... int64\n",
      "  is empty ................. True\n",
      "  exclusive ................ False\n",
      "  voi ...................... --------------------\n",
      "  proxy_inds ............... --------------------\n",
      "  synchronization_time ..... 0.0\n",
      "  connectivity ............. Connectivity gid: 8ca9d5c9-3671-498e-8812-cd6e036d9dee\n",
      "  conduction_speed ......... 3.0\n",
      "  coupling ................. SigmoidalPreThalamoCortical gid: 15e76c76-44bb-4ad2-8cb9-e8b18fd62177\n",
      "  surface .................. None\n",
      "  stimulus ................. None\n",
      "  integrator ............... EulerStochastic gid: 832cae03-e47e-4449-a586-6da9adc5213b\n",
      "  initial_conditions ....... --------------------\n",
      "  initial_conditions: shape  (1000, 3, 214, 1)\n",
      "  initial_conditions: dtype  float64\n",
      "  initial_conditions: values  [-0.14819056 -0.09305611 -0.02232592 ...  0.15202241 -0.09165149\n",
      "  0.06369216]\n",
      "  monitors[0] .............. TemporalAverage gid: 9fbbc211-bd2d-4809-9d67-50c8219b83a7\n",
      "  simulation_length ........ 1000.0\n",
      "  gid ...................... UUID('76d8fdeb-c41b-49e7-9f2e-6bdce7208eb3')\n",
      ")\n",
      "\n",
      "Simulated in 39.356324 secs!\n",
      "(4, 129)\n",
      "\n",
      "\n",
      "Simulating for parameters:\n",
      "OrderedDict([('STIMULUS', array(0.2587281, dtype=float32)), ('I_E', array(0.10874695, dtype=float32)), ('I_S', array(0.6679405, dtype=float32)), ('W_IE', array(-7.786211, dtype=float32)), ('W_RS', array(-1.8859806, dtype=float32)), ('G', 1.0)])\n",
      "\n",
      "\n",
      "Outputs' path: /home/docker/packages/tvb-multiscale/examples/tvb_nest/notebooks/cerebellum/outputs/cereb_wilson_cowan_TVBonly_SummedSubcortical_Thals_FIC1THAL_CRTX_FIXWD\n",
      "\n",
      "normalized weights [min, max] = \n",
      " [1.0, 27.639354909547873]\n",
      "2022-06-27 12:33:44,111 - WARNING - tvb_multiscale.core.tvb.cosimulator.cosimulator_serial - Current step is not 0 upon configuration!\n",
      "Setting it to 0. Initial condition might be affected!\n",
      "Current step is not 0 upon configuration!\n",
      "Setting it to 0. Initial condition might be affected!\n",
      "CoSimulatorSerial (\n",
      "  title .................... 'CoSimulatorSerial gid: 8fa6edc9-a00e-4e0c-8dea-f7ac868c487b'\n",
      "  Type ..................... 'CoSimulatorSerial'\n",
      "  model .................... WilsonCowanThalamoCortical gid: 0efde257-87c1-4c61-bf85-74c4e8cdbbad\n",
      "  output_interfaces ........ None\n",
      "  input_interfaces ......... None\n",
      "  out_proxy_inds ........... --------------------\n",
      "  shape .................... (0,)\n",
      "  dtype .................... int64\n",
      "  is empty ................. True\n",
      "  exclusive ................ False\n",
      "  voi ...................... --------------------\n",
      "  proxy_inds ............... --------------------\n",
      "  synchronization_time ..... 0.0\n",
      "  connectivity ............. Connectivity gid: 87f3c990-d57f-422a-8c39-20337c8cb95f\n",
      "  conduction_speed ......... 3.0\n",
      "  coupling ................. SigmoidalPreThalamoCortical gid: 42d8d49e-648c-4aad-add5-ac9da07e35c4\n",
      "  surface .................. None\n",
      "  stimulus ................. None\n",
      "  integrator ............... EulerStochastic gid: 17802b71-f2fd-4ee0-82df-063217ba7c8d\n",
      "  initial_conditions ....... --------------------\n",
      "  initial_conditions: shape  (1000, 3, 214, 1)\n",
      "  initial_conditions: dtype  float64\n",
      "  initial_conditions: values  [-0.1153138   0.06873493  0.03010978 ... -0.1217343   0.04455891\n",
      " -0.00384342]\n",
      "  monitors[0] .............. TemporalAverage gid: 657c4f4f-5961-4f09-b261-bae63ce541c3\n",
      "  simulation_length ........ 1000.0\n",
      "  gid ...................... UUID('8fa6edc9-a00e-4e0c-8dea-f7ac868c487b')\n",
      ")\n",
      "\n",
      "Simulated in 37.342963 secs!\n",
      "(4, 129)\n",
      "\n",
      "\n",
      "Simulating for parameters:\n",
      "OrderedDict([('STIMULUS', array(0.196602, dtype=float32)), ('I_E', array(-0.20019287, dtype=float32)), ('I_S', array(0.27877843, dtype=float32)), ('W_IE', array(-2.986089, dtype=float32)), ('W_RS', array(-3.2776895, dtype=float32)), ('G', 1.0)])\n",
      "\n",
      "\n",
      "Outputs' path: /home/docker/packages/tvb-multiscale/examples/tvb_nest/notebooks/cerebellum/outputs/cereb_wilson_cowan_TVBonly_SummedSubcortical_Thals_FIC1THAL_CRTX_FIXWD\n",
      "\n",
      "normalized weights [min, max] = \n",
      " [1.0, 27.639354909547873]\n",
      "2022-06-27 12:34:22,026 - WARNING - tvb_multiscale.core.tvb.cosimulator.cosimulator_serial - Current step is not 0 upon configuration!\n",
      "Setting it to 0. Initial condition might be affected!\n",
      "Current step is not 0 upon configuration!\n",
      "Setting it to 0. Initial condition might be affected!\n",
      "CoSimulatorSerial (\n",
      "  title .................... 'CoSimulatorSerial gid: 1dc62080-0a0e-4918-9001-2758170bf39e'\n",
      "  Type ..................... 'CoSimulatorSerial'\n",
      "  model .................... WilsonCowanThalamoCortical gid: 11b83fd5-b5bd-4858-996a-34ed09442c09\n",
      "  output_interfaces ........ None\n",
      "  input_interfaces ......... None\n",
      "  out_proxy_inds ........... --------------------\n",
      "  shape .................... (0,)\n",
      "  dtype .................... int64\n",
      "  is empty ................. True\n",
      "  exclusive ................ False\n",
      "  voi ...................... --------------------\n",
      "  proxy_inds ............... --------------------\n",
      "  synchronization_time ..... 0.0\n",
      "  connectivity ............. Connectivity gid: 9aaf31e2-5740-44bf-8081-2cc5fa476142\n",
      "  conduction_speed ......... 3.0\n",
      "  coupling ................. SigmoidalPreThalamoCortical gid: bb4bcab0-37d7-4f1c-ac43-957f574b9688\n",
      "  surface .................. None\n",
      "  stimulus ................. None\n",
      "  integrator ............... EulerStochastic gid: f864c24f-e717-4c6c-9d71-a99f91ea5c99\n",
      "  initial_conditions ....... --------------------\n",
      "  initial_conditions: shape  (1000, 3, 214, 1)\n",
      "  initial_conditions: dtype  float64\n",
      "  initial_conditions: values  [ 0.09503605 -0.0406972   0.0939336  ...  0.10471838 -0.13044286\n",
      " -0.02194547]\n",
      "  monitors[0] .............. TemporalAverage gid: 5fcb6e9e-265d-4e24-84d5-47d6ccd1c348\n",
      "  simulation_length ........ 1000.0\n",
      "  gid ...................... UUID('1dc62080-0a0e-4918-9001-2758170bf39e')\n",
      ")\n"
     ]
    },
    {
     "name": "stdout",
     "output_type": "stream",
     "text": [
      "\n",
      "Simulated in 37.447129 secs!\n",
      "(4, 129)\n",
      "\n",
      "\n",
      "Simulating for parameters:\n",
      "OrderedDict([('STIMULUS', array(0.2890236, dtype=float32)), ('I_E', array(-0.63712025, dtype=float32)), ('I_S', array(0.22017789, dtype=float32)), ('W_IE', array(-5.0536456, dtype=float32)), ('W_RS', array(-1.6545782, dtype=float32)), ('G', 1.0)])\n",
      "\n",
      "\n",
      "Outputs' path: /home/docker/packages/tvb-multiscale/examples/tvb_nest/notebooks/cerebellum/outputs/cereb_wilson_cowan_TVBonly_SummedSubcortical_Thals_FIC1THAL_CRTX_FIXWD\n",
      "\n",
      "normalized weights [min, max] = \n",
      " [1.0, 27.639354909547873]\n",
      "2022-06-27 12:35:00,042 - WARNING - tvb_multiscale.core.tvb.cosimulator.cosimulator_serial - Current step is not 0 upon configuration!\n",
      "Setting it to 0. Initial condition might be affected!\n",
      "Current step is not 0 upon configuration!\n",
      "Setting it to 0. Initial condition might be affected!\n",
      "CoSimulatorSerial (\n",
      "  title .................... 'CoSimulatorSerial gid: 730601f0-852c-41d8-bf19-80f19adeb18b'\n",
      "  Type ..................... 'CoSimulatorSerial'\n",
      "  model .................... WilsonCowanThalamoCortical gid: 32ea40d6-e587-4d2b-91ab-712466e4d4b6\n",
      "  output_interfaces ........ None\n",
      "  input_interfaces ......... None\n",
      "  out_proxy_inds ........... --------------------\n",
      "  shape .................... (0,)\n",
      "  dtype .................... int64\n",
      "  is empty ................. True\n",
      "  exclusive ................ False\n",
      "  voi ...................... --------------------\n",
      "  proxy_inds ............... --------------------\n",
      "  synchronization_time ..... 0.0\n",
      "  connectivity ............. Connectivity gid: 3eac3b9c-66cf-4ca1-b90f-c1e081517ff0\n",
      "  conduction_speed ......... 3.0\n",
      "  coupling ................. SigmoidalPreThalamoCortical gid: 5e12819f-e5a1-4be1-aede-44f7ce05694a\n",
      "  surface .................. None\n",
      "  stimulus ................. None\n",
      "  integrator ............... EulerStochastic gid: 97248ae4-a28a-4db6-aa1a-62653f3a904b\n",
      "  initial_conditions ....... --------------------\n",
      "  initial_conditions: shape  (1000, 3, 214, 1)\n",
      "  initial_conditions: dtype  float64\n",
      "  initial_conditions: values  [-0.10310816 -0.04906648 -0.05515546 ... -0.12481049  0.0426744\n",
      " -0.06193577]\n",
      "  monitors[0] .............. TemporalAverage gid: 9b74047c-dd3e-43b6-9531-7e2fb6c9d3d5\n",
      "  simulation_length ........ 1000.0\n",
      "  gid ...................... UUID('730601f0-852c-41d8-bf19-80f19adeb18b')\n",
      ")\n",
      "\n",
      "Simulated in 38.953420 secs!\n",
      "(4, 129)\n",
      "\n",
      "\n",
      "Simulating for parameters:\n",
      "OrderedDict([('STIMULUS', array(0.28535903, dtype=float32)), ('I_E', array(-0.4532055, dtype=float32)), ('I_S', array(0.89816093, dtype=float32)), ('W_IE', array(-1.261445, dtype=float32)), ('W_RS', array(-2.5062559, dtype=float32)), ('G', 1.0)])\n",
      "\n",
      "\n",
      "Outputs' path: /home/docker/packages/tvb-multiscale/examples/tvb_nest/notebooks/cerebellum/outputs/cereb_wilson_cowan_TVBonly_SummedSubcortical_Thals_FIC1THAL_CRTX_FIXWD\n",
      "\n",
      "normalized weights [min, max] = \n",
      " [1.0, 27.639354909547873]\n",
      "2022-06-27 12:35:39,572 - WARNING - tvb_multiscale.core.tvb.cosimulator.cosimulator_serial - Current step is not 0 upon configuration!\n",
      "Setting it to 0. Initial condition might be affected!\n",
      "Current step is not 0 upon configuration!\n",
      "Setting it to 0. Initial condition might be affected!\n",
      "CoSimulatorSerial (\n",
      "  title .................... 'CoSimulatorSerial gid: bf2b2ad6-b6b0-45a0-b4f0-5fdde03f6749'\n",
      "  Type ..................... 'CoSimulatorSerial'\n",
      "  model .................... WilsonCowanThalamoCortical gid: b1fb2c8f-28ee-4d32-ac67-1d1d7d66d963\n",
      "  output_interfaces ........ None\n",
      "  input_interfaces ......... None\n",
      "  out_proxy_inds ........... --------------------\n",
      "  shape .................... (0,)\n",
      "  dtype .................... int64\n",
      "  is empty ................. True\n",
      "  exclusive ................ False\n",
      "  voi ...................... --------------------\n",
      "  proxy_inds ............... --------------------\n",
      "  synchronization_time ..... 0.0\n",
      "  connectivity ............. Connectivity gid: 70224c46-3e11-4cae-a456-a737a0c7b9c9\n",
      "  conduction_speed ......... 3.0\n",
      "  coupling ................. SigmoidalPreThalamoCortical gid: e50793b4-b848-4d4d-a243-395805ae4d15\n",
      "  surface .................. None\n",
      "  stimulus ................. None\n",
      "  integrator ............... EulerStochastic gid: 1f857901-5fa6-4e10-866f-0d38c9a761df\n",
      "  initial_conditions ....... --------------------\n",
      "  initial_conditions: shape  (1000, 3, 214, 1)\n",
      "  initial_conditions: dtype  float64\n",
      "  initial_conditions: values  [-0.05321225 -0.10444519  0.01538284 ... -0.1425007  -0.18939369\n",
      "  0.01667041]\n",
      "  monitors[0] .............. TemporalAverage gid: 518d852a-a1a9-48b5-bd21-8622f213777e\n",
      "  simulation_length ........ 1000.0\n",
      "  gid ...................... UUID('bf2b2ad6-b6b0-45a0-b4f0-5fdde03f6749')\n",
      ")\n",
      "\n",
      "Simulated in 39.200379 secs!\n",
      "(4, 129)\n"
     ]
    }
   ],
   "source": [
    "t the  # for batch 0\n"
   ]
  },
  {
   "cell_type": "code",
   "execution_count": 5,
   "id": "5dfca0aa",
   "metadata": {},
   "outputs": [],
   "source": [
    "sim_res = np.load(os.path.join(config.out.FOLDER_RES, \"bsr_iG01_000.npy\"), allow_pickle=True)"
   ]
  },
  {
   "cell_type": "code",
   "execution_count": 6,
   "id": "ec451daf",
   "metadata": {},
   "outputs": [
    {
     "data": {
      "text/plain": [
       "(10, 172)"
      ]
     },
     "execution_count": 6,
     "metadata": {},
     "output_type": "execute_result"
    }
   ],
   "source": [
    "sim_res.shape"
   ]
  },
  {
   "cell_type": "code",
   "execution_count": null,
   "id": "850c06c5",
   "metadata": {
    "scrolled": true
   },
   "outputs": [],
   "source": [
    "samples_fit_Gs, results, fig, simulator, config = sbi_fit(1, config=None);\n",
    "# run_workflow(plot_flag=True)"
   ]
  },
  {
   "cell_type": "code",
   "execution_count": null,
   "id": "792aad94",
   "metadata": {
    "scrolled": false
   },
   "outputs": [],
   "source": [
    "fig"
   ]
  },
  {
   "cell_type": "markdown",
   "id": "b4125830",
   "metadata": {},
   "source": [
    "# Plot results and write them to HDF5 files"
   ]
  },
  {
   "cell_type": "code",
   "execution_count": null,
   "id": "ad7c58e8",
   "metadata": {},
   "outputs": [],
   "source": [
    "from scipy.io import savemat\n",
    "# set to False for faster plotting of only mean field variables and dates, apart from spikes\" rasters:\n",
    "plot_per_neuron = False  \n",
    "MAX_VARS_IN_COLS = 2\n",
    "MAX_REGIONS_IN_ROWS = 10\n",
    "MIN_REGIONS_FOR_RASTER_PLOT = 9\n",
    "# from examples.plot_write_results import plot_write_results\n",
    "# plot_write_results(results, simulator, populations=populations, \n",
    "#                    transient=transient, tvb_state_variable_type_label=\"State Variables\", \n",
    "#                    tvb_state_variables_labels=simulator.model.variables_of_interest, \n",
    "#                    plot_per_neuron=plot_per_neuron, plotter=plotter, config=config)\n",
    "\n",
    "plotter = Plotter(config.figures)\n",
    "inds = config.inds\n",
    "maps = config.maps\n",
    "transient = config.transient + 0.5\n",
    "simulation_length = simulator.simulation_length\n",
    "FIGSIZE = config.figures.DEFAULT_SIZE\n"
   ]
  },
  {
   "cell_type": "code",
   "execution_count": null,
   "id": "aee226d2",
   "metadata": {},
   "outputs": [],
   "source": [
    "# If you want to see what the function above does, take the steps, one by one\n",
    "try:\n",
    "    # We need framework_tvb for writing and reading from HDF5 files\n",
    "    from tvb_multiscale.core.tvb.io.h5_writer import H5Writer\n",
    "    writer = H5Writer()\n",
    "except:\n",
    "    writer = False\n",
    "    \n",
    "from tvb.contrib.scripts.datatypes.time_series import TimeSeriesRegion\n",
    "from tvb.contrib.scripts.datatypes.time_series_xarray import TimeSeriesRegion as TimeSeriesXarray\n",
    "\n",
    "# Put the results in a Timeseries instance\n",
    "from tvb.contrib.scripts.datatypes.time_series import TimeSeriesRegion\n",
    "\n",
    "source_ts = None\n",
    "bold_ts = None\n",
    "\n",
    "if results is not None:\n",
    "    source_ts = TimeSeriesXarray(  # substitute with TimeSeriesRegion fot TVB like functionality\n",
    "            data=results[0][1], time=results[0][0],\n",
    "            connectivity=simulator.connectivity,\n",
    "            labels_ordering=[\"Time\", \"State Variable\", \"Region\", \"Neurons\"],\n",
    "            labels_dimensions={\"State Variable\": list(simulator.model.variables_of_interest),\n",
    "                               \"Region\": simulator.connectivity.region_labels.tolist()},\n",
    "            sample_period=simulator.integrator.dt)\n",
    "    source_ts.configure()\n",
    "\n",
    "    t = source_ts.time\n",
    "\n",
    "    # Write to file\n",
    "    if writer:\n",
    "        writer.write_tvb_to_h5(TimeSeriesRegion().from_xarray_DataArray(source_ts._data,\n",
    "                                                                        connectivity=source_ts.connectivity),\n",
    "                               os.path.join(config.out.FOLDER_RES, source_ts.title)+\".h5\")\n",
    "    print(\"Raw ts:\\n%s\" % str(source_ts))\n",
    "    \n",
    "    if len(results) > 1:\n",
    "        bold_ts = TimeSeriesXarray(  # substitute with TimeSeriesRegion fot TVB like functionality\n",
    "                data=results[1][1], time=results[1][0],\n",
    "                connectivity=simulator.connectivity,\n",
    "                labels_ordering=[\"Time\", \"State Variable\", \"Region\", \"Neurons\"],\n",
    "                labels_dimensions={\"State Variable\": [\"BOLD\"],\n",
    "                                   \"Region\": simulator.connectivity.region_labels.tolist()})\n",
    "        bold_ts.configure()\n",
    "\n",
    "        bold_t = source_ts.time\n",
    "\n",
    "        # Write to file\n",
    "        if writer:\n",
    "            writer.write_tvb_to_h5(TimeSeriesRegion().from_xarray_DataArray(bold_ts._data,\n",
    "                                                                            connectivity=bold_ts.connectivity),\n",
    "                                   os.path.join(config.out.FOLDER_RES, bold_ts.title)+\".h5\")\n",
    "        print(\"BOLD ts:\\n%s\" % str(bold_ts))\n",
    "    "
   ]
  },
  {
   "cell_type": "code",
   "execution_count": null,
   "id": "980edca2",
   "metadata": {
    "scrolled": true
   },
   "outputs": [],
   "source": [
    "# Plot TVB time series\n",
    "if source_ts is not None:\n",
    "    source_ts[:, :, :, :].plot_timeseries(plotter_config=plotter.config, \n",
    "                          hue=\"Region\" if source_ts.shape[2] > MAX_REGIONS_IN_ROWS else None, \n",
    "                          per_variable=source_ts.shape[1] > MAX_VARS_IN_COLS, \n",
    "                          figsize=FIGSIZE);"
   ]
  },
  {
   "cell_type": "code",
   "execution_count": null,
   "id": "b2d17510",
   "metadata": {
    "scrolled": false
   },
   "outputs": [],
   "source": [
    "# Focus on the m1 and s1 barrel field nodes: \n",
    "if source_ts is not None:\n",
    "    source_ts_m1s1brl = source_ts[-10000:, :, inds[\"m1s1brl\"]]\n",
    "    source_ts_m1s1brl.plot_timeseries(plotter_config=plotter.config, \n",
    "                                   hue=\"Region\" if source_ts_m1s1brl.shape[2] > MAX_REGIONS_IN_ROWS else None, \n",
    "                                   per_variable=source_ts_m1s1brl.shape[1] > MAX_VARS_IN_COLS, \n",
    "                                   figsize=FIGSIZE, figname=\"M1 and S1 barrel field nodes TVB Time Series\");"
   ]
  },
  {
   "cell_type": "code",
   "execution_count": null,
   "id": "c78bf04e",
   "metadata": {
    "scrolled": false
   },
   "outputs": [],
   "source": [
    "# Focus on the m1 and s1 barrel field nodes: raster plot\n",
    "if source_ts is not None and source_ts_m1s1brl.number_of_labels > MIN_REGIONS_FOR_RASTER_PLOT:\n",
    "    source_ts_m1s1brl.plot_raster(plotter_config=plotter.config, \n",
    "                                  per_variable=source_ts_m1s1brl.shape[1] > MAX_VARS_IN_COLS,\n",
    "                                  figsize=FIGSIZE, figname=\"M1 and S1 barrel field nodes TVB Time Series Raster\");"
   ]
  },
  {
   "cell_type": "code",
   "execution_count": null,
   "id": "df21fc5b",
   "metadata": {
    "scrolled": false
   },
   "outputs": [],
   "source": [
    "# Focus on the the motor pathway: \n",
    "if source_ts is not None:\n",
    "    source_ts_motor = source_ts[-10000:, :, inds[\"motor\"]]\n",
    "    source_ts_motor.plot_timeseries(plotter_config=plotter.config, \n",
    "                                   hue=\"Region\" if source_ts_motor.shape[2] > MAX_REGIONS_IN_ROWS else None, \n",
    "                                   per_variable=source_ts_motor.shape[1] > MAX_VARS_IN_COLS, \n",
    "                                   figsize=FIGSIZE, figname=\"Motor pathway TVB Time Series\");"
   ]
  },
  {
   "cell_type": "code",
   "execution_count": null,
   "id": "f2136959",
   "metadata": {
    "scrolled": false
   },
   "outputs": [],
   "source": [
    "# Focus on the motor pathway: raster plot\n",
    "if source_ts_motor is not None and source_ts_motor.number_of_labels > MIN_REGIONS_FOR_RASTER_PLOT:\n",
    "    source_ts_motor.plot_raster(plotter_config=plotter.config, \n",
    "                                  per_variable=source_ts_motor.shape[1] > MAX_VARS_IN_COLS,\n",
    "                                  figsize=FIGSIZE, figname=\"Motor pathway TVB Time Series Raster\");"
   ]
  },
  {
   "cell_type": "code",
   "execution_count": null,
   "id": "203f57cf",
   "metadata": {
    "scrolled": true
   },
   "outputs": [],
   "source": [
    "# Focus on the sensory pathway: \n",
    "if source_ts is not None:\n",
    "    source_ts_sens = source_ts[-10000:, :, inds[\"sens\"]]\n",
    "    source_ts_sens.plot_timeseries(plotter_config=plotter.config, \n",
    "                                   hue=\"Region\" if source_ts_sens.shape[2] > MAX_REGIONS_IN_ROWS else None, \n",
    "                                   per_variable=source_ts_sens.shape[1] > MAX_VARS_IN_COLS, \n",
    "                                   figsize=FIGSIZE, figname=\"Sensory pathway TVB Time Series\");"
   ]
  },
  {
   "cell_type": "code",
   "execution_count": null,
   "id": "233d0dfc",
   "metadata": {
    "scrolled": false
   },
   "outputs": [],
   "source": [
    "# Focus on the sensory pathway: raster plot\n",
    "if source_ts is not None and source_ts_sens.number_of_labels > MIN_REGIONS_FOR_RASTER_PLOT:\n",
    "    source_ts_sens.plot_raster(plotter_config=plotter.config, \n",
    "                               per_variable=source_ts_sens.shape[1] > MAX_VARS_IN_COLS,\n",
    "                               figsize=FIGSIZE, figname=\"Sensory pathway TVB Time Series Raster\");"
   ]
  },
  {
   "cell_type": "code",
   "execution_count": null,
   "id": "d3c344c3",
   "metadata": {
    "scrolled": true
   },
   "outputs": [],
   "source": [
    "# bold_ts TVB time series\n",
    "if bold_ts is not None:\n",
    "    bold_ts.plot_timeseries(plotter_config=plotter.config, \n",
    "                            hue=\"Region\" if bold_ts.shape[2] > MAX_REGIONS_IN_ROWS else None, \n",
    "                            per_variable=bold_ts.shape[1] > MAX_VARS_IN_COLS, \n",
    "                            figsize=FIGSIZE);"
   ]
  },
  {
   "cell_type": "code",
   "execution_count": null,
   "id": "69ca0aef",
   "metadata": {
    "scrolled": false
   },
   "outputs": [],
   "source": [
    "# # Focus on the m1 and s1 barrel field nodes: \n",
    "# if bold_ts is not None:\n",
    "#     bold_ts_m1s1brl = bold_ts[-10000:, :, inds[\"m1s1brl\"]]\n",
    "#     bold_ts_m1s1brl.plot_timeseries(plotter_config=plotter.config, \n",
    "#                                     hue=\"Region\" if bold_ts_m1s1brl.shape[2] > MAX_REGIONS_IN_ROWS else None, \n",
    "#                                     per_variable=bold_ts_m1s1brl.shape[1] > MAX_VARS_IN_COLS, \n",
    "#                                     figsize=FIGSIZE, figname=\"M1 and S1 barrel field nodes BOLD Time Series\");"
   ]
  },
  {
   "cell_type": "code",
   "execution_count": null,
   "id": "ed63740b",
   "metadata": {
    "scrolled": false
   },
   "outputs": [],
   "source": [
    "# # Focus on the m1 and s1 barrel field nodes: raster plot\n",
    "# if bold_ts is not None and bold_ts_m1s1brl.number_of_labels > MIN_REGIONS_FOR_RASTER_PLOT:\n",
    "#     bold_ts_m1s1brl.plot_raster(plotter_config=plotter.config, \n",
    "#                                 per_variable=bold_ts_m1s1brl.shape[1] > MAX_VARS_IN_COLS,\n",
    "#                                 figsize=FIGSIZE, figname=\"M1 and S1 barrel field nodes BOLD Time Series Raster\");"
   ]
  },
  {
   "cell_type": "code",
   "execution_count": null,
   "id": "cd1981e9",
   "metadata": {
    "scrolled": true
   },
   "outputs": [],
   "source": [
    "# # Focus on the the motor pathway: \n",
    "# if bold_ts is not None:\n",
    "#     bold_ts_motor = bold_ts[-10000:, :, inds[\"motor\"]]\n",
    "#     bold_ts_motor.plot_timeseries(plotter_config=plotter.config, \n",
    "#                                    hue=\"Region\" if bold_ts_motor.shape[2] > MAX_REGIONS_IN_ROWS else None, \n",
    "#                                    per_variable=bold_ts_motor.shape[1] > MAX_VARS_IN_COLS, \n",
    "#                                    figsize=FIGSIZE, figname=\"Motor pathway BOLD Time Series\");"
   ]
  },
  {
   "cell_type": "code",
   "execution_count": null,
   "id": "04895bc7",
   "metadata": {
    "scrolled": false
   },
   "outputs": [],
   "source": [
    "# # Focus on the motor pathway: raster plot\n",
    "# if bold_ts is not None and bold_ts_motor.number_of_labels > MIN_REGIONS_FOR_RASTER_PLOT:\n",
    "#     bold_ts_motor.plot_raster(plotter_config=plotter.config, \n",
    "#                               per_variable=bold_ts_motor.shape[1] > MAX_VARS_IN_COLS,\n",
    "#                               figsize=FIGSIZE, figname=\"Motor pathway BOLD Time Series Raster\");"
   ]
  },
  {
   "cell_type": "code",
   "execution_count": null,
   "id": "1ca5e916",
   "metadata": {
    "scrolled": false
   },
   "outputs": [],
   "source": [
    "# # Focus on the sensory pathway: \n",
    "# if bold_ts is not None:\n",
    "#     bold_ts_sens = bold_ts[-10000:, :, inds[\"sens\"]]\n",
    "#     bold_ts_sens.plot_timeseries(plotter_config=plotter.config, \n",
    "#                                  hue=\"Region\" if bold_ts_sens.shape[2] > MAX_REGIONS_IN_ROWS else None, \n",
    "#                                  per_variable=bold_ts_sens.shape[1] > MAX_VARS_IN_COLS, \n",
    "#                                  figsize=FIGSIZE, figname=\"Sensory pathway BOLD Time Series\");"
   ]
  },
  {
   "cell_type": "code",
   "execution_count": null,
   "id": "da827c3a",
   "metadata": {
    "scrolled": false
   },
   "outputs": [],
   "source": [
    "# # Focus on the sensory pathway: raster plot\n",
    "# if bold_ts is not None and bold_ts_sens.number_of_labels > MIN_REGIONS_FOR_RASTER_PLOT:\n",
    "#     bold_ts_sens.plot_raster(plotter_config=plotter.config, \n",
    "#                              per_variable=bold_ts_sens.shape[1] > MAX_VARS_IN_COLS,\n",
    "#                              figsize=FIGSIZE, figname=\"Sensory pathway BOLD Time Series Raster\");"
   ]
  },
  {
   "cell_type": "markdown",
   "id": "c1b98347",
   "metadata": {},
   "source": [
    "### Interactive time series plot"
   ]
  },
  {
   "cell_type": "code",
   "execution_count": null,
   "id": "f4eb4cc5",
   "metadata": {},
   "outputs": [],
   "source": [
    "# # ...interactively as well\n",
    "# # For interactive plotting:\n",
    "# %matplotlib notebook \n",
    "# plotter.plot_timeseries_interactive(source_ts)"
   ]
  },
  {
   "cell_type": "code",
   "execution_count": null,
   "id": "fbecfba5",
   "metadata": {
    "scrolled": false
   },
   "outputs": [],
   "source": [
    "# # For interactive plotting:\n",
    "# %matplotlib notebook  \n",
    "\n",
    "\n",
    "# from tvb.datatypes.time_series import TimeSeries\n",
    "# from tvb.contrib.scripts.plot.power_spectra_interactive import PowerSpectraInteractive\n",
    "\n",
    "# tsr = TimeSeries(data=source_ts[1000:, 0, inds[\"m1s1brl\"]]._data.values, sample_period=source_ts.sample_period)\n",
    "# psi = PowerSpectraInteractive()\n",
    "# psi.time_series = tsr\n",
    "# psi.window_length = 1000.0\n",
    "# psi.show()\n",
    "# from ipywidgets import interact, widgets as ip_widgets\n",
    "# from IPython.display import display\n",
    "\n",
    "# textRegions = ip_widgets.Text(\n",
    "#     value='',\n",
    "#     placeholder='Regions Slicer',\n",
    "#     description='start:stop:step',\n",
    "#     disabled=False\n",
    "# )\n",
    "\n",
    "# textFreqs = ip_widgets.Text(\n",
    "#     value='',\n",
    "#     placeholder='Frequency Range',\n",
    "#     description='f_min, f_max',\n",
    "#     disabled=False\n",
    "# )\n",
    "\n",
    "# def callbackRegions(wdgt):\n",
    "#     # replace by something useful\n",
    "#     psi.update_regions(wdgt.value)\n",
    "\n",
    "# def callbackFreqs(wdgt):\n",
    "#     # replace by something useful\n",
    "#     psi.update_freq_range(wdgt.value)\n",
    "    \n",
    "# textRegions.on_submit(callbackRegions)\n",
    "# textFreqs.on_submit(callbackFreqs)\n",
    "\n",
    "# display(textRegions)\n",
    "# display(textFreqs)\n",
    "\n"
   ]
  },
  {
   "cell_type": "markdown",
   "id": "9208509e",
   "metadata": {},
   "source": [
    "# Compute data and target PSDs and compare:\n"
   ]
  },
  {
   "cell_type": "code",
   "execution_count": null,
   "id": "7dfa56f3",
   "metadata": {},
   "outputs": [],
   "source": [
    "PSD_target = compute_target_PSDs(config, write_files=True, plotter=plotter)"
   ]
  },
  {
   "cell_type": "code",
   "execution_count": null,
   "id": "fab8ac09",
   "metadata": {},
   "outputs": [],
   "source": [
    "PSD = compute_data_PSDs(results[0], PSD_target, inds, transient, write_files=False, plotter=plotter)"
   ]
  },
  {
   "cell_type": "code",
   "execution_count": null,
   "id": "f9f128e5",
   "metadata": {
    "scrolled": false
   },
   "outputs": [],
   "source": [
    "%matplotlib inline \n",
    "\n",
    "from examples.tvb_nest.notebooks.cerebellum.utils import  compute_plot_selected_spectra_coherence, compute_plot_ica\n",
    "\n",
    "NPERSEG = np.array([256, 512, 1024, 2048, 4096])\n",
    "NPERSEG = NPERSEG[np.argmin(np.abs(NPERSEG - (source_ts.shape[0]-transient/config.DEFAULT_DT)))]\n",
    "\n",
    "# Power Spectra and Coherence for M1 - S1 barrel field\n",
    "compute_plot_selected_spectra_coherence(source_ts, inds[\"m1s1brl\"], \n",
    "                                        transient=transient, nperseg=NPERSEG, fmin=0.0, fmax=100.0)"
   ]
  },
  {
   "cell_type": "code",
   "execution_count": null,
   "id": "be3e9b3d",
   "metadata": {
    "scrolled": false
   },
   "outputs": [],
   "source": [
    "# Power Spectra and Coherence along the sensory pathway:\n",
    "# for Medulla SPV, Sensory PONS\n",
    "compute_plot_selected_spectra_coherence(source_ts, inds[\"sens\"], \n",
    "                                        transient=transient, nperseg=NPERSEG, fmin=0.0, fmax=100.0)"
   ]
  },
  {
   "cell_type": "code",
   "execution_count": null,
   "id": "4e6a0c57",
   "metadata": {
    "scrolled": true
   },
   "outputs": [],
   "source": [
    "plotter.config.DEFAULT_SIZE = (12, 10)  # FIGSIZE\n",
    "if source_ts is not None:\n",
    "    # LFP (E) ICA:\n",
    "    lfp_ica_comps, lfp_ics_ts, lfp_ica = compute_plot_ica(source_ts[transient:].data[:, 0, :, 0].squeeze(), \n",
    "                                                          source_ts[transient:].time,\n",
    "                                                          variable=\"LFP\", n_components=10, plotter=plotter)\n",
    "    "
   ]
  },
  {
   "cell_type": "code",
   "execution_count": null,
   "id": "7d529d8a",
   "metadata": {
    "scrolled": true
   },
   "outputs": [],
   "source": [
    "if bold_ts is not None:    \n",
    "    # BOLD ICA:\n",
    "    bold_ica_comps, bold_ics_ts, bold_ica = compute_plot_ica(bold_ts.data[:, 0, :, 0].squeeze(), bold_ts.time,\n",
    "                                                             variable=\"BOLD\", n_components=10, plotter=plotter)\n",
    "    "
   ]
  },
  {
   "cell_type": "markdown",
   "id": "aab75eae",
   "metadata": {
    "run_control": {
     "frozen": false,
     "read_only": false
    }
   },
   "source": [
    "# References\n",
    "\n",
    "1 Sanz Leon P, Knock SA , Woodman MM, Domide L, <br>\n",
    "  Mersmann J, McIntosh AR, Jirsa VK. 2013. <br>\n",
    "  The Virtual Brain: a simulator of primate brain network dynamics. <br>\n",
    "  Frontiers in Neuroinformatics (7:10. doi: 10.3389/fninf.2013.00010) <br>\n",
    "  https://www.thevirtualbrain.org/tvb/zwei <br>\n",
    "  https://github.com/the-virtual-brain <br>\n",
    "\n",
    "2 Ritter P, Schirner M, McIntosh AR, Jirsa VK. 2013.  <br>\n",
    "  The Virtual Brain integrates computational modeling and multimodal neuroimaging. <br>\n",
    "  Brain Connectivity 3:121–145. <br>\n",
    "\n",
    "3 Griffiths JD, McIntosh AR, Lefebvre J. 2020.   <br>\n",
    "  A Connectome-Based, Corticothalamic Model of State- <br>\n",
    "  and Stimulation-Dependent Modulation of Rhythmic Neural Activity and Connectivity <br>\n",
    "  Frontiers in Computational Neuroscience (vol. 14. doi: 10.3389/fncom.2020.575143) <br>\n",
    "  https://www.frontiersin.org/articles/10.3389/fncom.2020.575143/full#h12\n",
    "  \n",
    "4 Jordan, Jakob; Mørk, Håkon; Vennemo, Stine Brekke;   Terhorst, Dennis; Peyser, <br>\n",
    "  Alexander; Ippen, Tammo; Deepu, Rajalekshmi;   Eppler, Jochen Martin; <br>\n",
    "  van Meegen, Alexander;   Kunkel, Susanne; Sinha, Ankur; Fardet, Tanguy; Diaz, <br>\n",
    "  Sandra; Morrison, Abigail; Schenck, Wolfram; Dahmen, David;   Pronold, Jari; <br>\n",
    "  Stapmanns, Jonas;   Trensch, Guido; Spreizer, Sebastian;   Mitchell, Jessica; <br>\n",
    "  Graber, Steffen; Senk, Johanna; Linssen, Charl; Hahne, Jan; Serenko, Alexey; <br>\n",
    "  Naoumenko, Daniel; Thomson, Eric;   Kitayama, Itaru; Berns, Sebastian;   <br>\n",
    "  Plesser, Hans Ekkehard <br>\n",
    "  NEST is a simulator for spiking neural network models that focuses <br>\n",
    "  on the dynamics, size and structure of neural systems rather than on <br>\n",
    "  the exact morphology of individual neurons. <br>\n",
    "  For further information, visit http://www.nest-simulator.org. <br>\n",
    "  The release notes for this release are available at  <br>\n",
    "  https://github.com/nest/nest-simulator/releases/tag/v2.18.0 <br>"
   ]
  },
  {
   "cell_type": "code",
   "execution_count": null,
   "id": "2e60586d",
   "metadata": {
    "scrolled": false
   },
   "outputs": [],
   "source": [
    "%matplotlib inline\n",
    "\n",
    "import matplotlib.pyplot as plt\n",
    "\n",
    "data = source_ts.data\n",
    "time = source_ts.time\n",
    "\n",
    "fig, axes = plt.subplots(3, 1, figsize=(12, 10))\n",
    "for iT, regs in enumerate([\"crtx\", \"subcrtx_not_thalspec\", \"thalspec\"]):\n",
    "    transient_in_points = int((transient+0.5)/simulator.monitors[0].period)\n",
    "    dat = data[transient_in_points:, 0, inds[regs]].squeeze()\n",
    "    print(dat.shape)\n",
    "    axes[iT].plot(time[transient_in_points:], dat, alpha=0.25)\n",
    "    if iT == 0:\n",
    "        axes[iT].plot(time[transient_in_points:], data[transient_in_points:, 0, inds[\"m1\"]].squeeze(), \n",
    "                      'b--', linewidth=3, label='M1')\n",
    "        axes[iT].plot(time[transient_in_points:], data[transient_in_points:, 0, inds[\"s1brl\"]].squeeze(), \n",
    "                      'g--', linewidth=3, label='S1 barrel field')\n",
    "    elif iT == 1:\n",
    "        axes[iT].plot(time[transient_in_points:], data[transient_in_points:, 0, inds[\"facial\"]].squeeze(), \n",
    "                      'b--', linewidth=3, label='Facial motor nucleus')\n",
    "        axes[iT].plot(time[transient_in_points:], data[transient_in_points:, 0, inds[\"trigeminal\"]].squeeze(), \n",
    "                      'g--', linewidth=3, label='Spinal trigeminal nuclei')\n",
    "    else:\n",
    "        axes[iT].plot(time[transient_in_points:], data[transient_in_points:, 0, [44, 166]].squeeze(), \n",
    "                      'b--', linewidth=3, label='M1 specific thalami')\n",
    "        axes[iT].plot(time[transient_in_points:], data[transient_in_points:, 0, [47, 169]].squeeze(), \n",
    "                      'g--', linewidth=3, label='S1 barrel field specific thalami')\n",
    "        axes[iT].set_xlabel('Time (ms)')\n",
    "    axes[iT].plot(time[transient_in_points:], dat.mean(axis=1), 'k--', linewidth=3, label='Total mean')\n",
    "    axes[iT].legend()\n",
    "    axes[iT].set_title(\"%s range=[%g, %g, %g, %g, %g] \" % \n",
    "                       (regs, dat.min(), np.percentile(dat, 5), dat.mean(), np.percentile(dat, 95), dat.max()))\n",
    "fig.tight_layout()"
   ]
  },
  {
   "cell_type": "code",
   "execution_count": null,
   "id": "a20456e3",
   "metadata": {},
   "outputs": [],
   "source": []
  }
 ],
 "metadata": {
  "kernelspec": {
   "display_name": "Python 3 (ipykernel)",
   "language": "python",
   "name": "python3"
  },
  "language_info": {
   "codemirror_mode": {
    "name": "ipython",
    "version": 3
   },
   "file_extension": ".py",
   "mimetype": "text/x-python",
   "name": "python",
   "nbconvert_exporter": "python",
   "pygments_lexer": "ipython3",
   "version": "3.9.2"
  }
 },
 "nbformat": 4,
 "nbformat_minor": 5
}
