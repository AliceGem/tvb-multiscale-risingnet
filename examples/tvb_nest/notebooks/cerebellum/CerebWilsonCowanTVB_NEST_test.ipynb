{
 "cells": [
  {
   "cell_type": "code",
   "execution_count": null,
   "id": "7387378d",
   "metadata": {
    "scrolled": true
   },
   "outputs": [],
   "source": [
    "from examples.tvb_nest.notebooks.cerebellum.scripts.scripts import *\n",
    "\n",
    "# Get configuration\n",
    "config, plotter = configure()\n",
    "config.SIMULATION_LENGTH = 100.0\n",
    "plotter = None\n",
    "# Load connectome and other structural files\n",
    "connectome, major_structs_labels, voxel_count, inds = load_connectome(config, plotter=plotter)\n",
    "# Construct some more indices and maps\n",
    "inds, maps = construct_extra_inds_and_maps(connectome, inds)\n",
    "# Logprocess connectome\n",
    "connectome = logprocess_weights(connectome, inds, print_flag=True, plotter=plotter)\n",
    "# Prepare connectivity with all possible normalizations\n",
    "connectivity = build_connectivity(connectome, inds, config, print_flag=True, plotter=plotter)\n",
    "# Prepare model\n",
    "model = build_model(connectivity.number_of_regions, inds, maps, config)\n",
    "# Prepare simulator\n",
    "simulator = build_simulator(connectivity, model, inds, maps, config, print_flag=True, plotter=plotter)"
   ]
  },
  {
   "cell_type": "code",
   "execution_count": null,
   "id": "c23341c1",
   "metadata": {
    "scrolled": true
   },
   "outputs": [],
   "source": [
    "nest_network, nest_nodes_inds, neuron_models, neuron_number, mossy_fibers_medulla, mossy_fibers_ponssens = \\\n",
    "    build_NEST_network(config)"
   ]
  },
  {
   "cell_type": "code",
   "execution_count": null,
   "id": "7ce63096",
   "metadata": {},
   "outputs": [],
   "source": [
    "neuron_number"
   ]
  },
  {
   "cell_type": "code",
   "execution_count": null,
   "id": "a788c418",
   "metadata": {},
   "outputs": [],
   "source": [
    "# nest_network.nest_instance.Simulate(config.SIMULATION_LENGTH)\n",
    "\n",
    "# nest_network = simulate_nest_network(nest_network, config, neuron_models, neuron_number, plot_flag=True)\n"
   ]
  },
  {
   "cell_type": "code",
   "execution_count": 5,
   "id": "260a61e8",
   "metadata": {
    "scrolled": true
   },
   "outputs": [
    {
     "name": "stdout",
     "output_type": "stream",
     "text": [
      "\n",
      "output (TVB->NEST coupling) interfaces' configurations:\n",
      "\n",
      "{'voi': array([0]), 'populations': array(['parrot_medulla'], dtype='<U14'), 'model': 'RATE', 'proxy_inds': array([ 96, 203]), 'receptor_type': 0, 'spiking_proxy_inds': array([ 96, 203]), 'coupling_mode': 'TVB', 'voi_labels': array(['E'], dtype='<U1'), 'monitor_ind': 0, 'proxy': <class 'tvb_multiscale.tvb_nest.interfaces.io.NESTInhomogeneousPoissonGeneratorSet'>, 'transformer': <tvb_multiscale.core.interfaces.base.transformers.models.base.LinearRate object at 0x7f082d62e1c0>}\n",
      "{'voi': array([0]), 'populations': array(['parrot_ponssens'], dtype='<U15'), 'model': 'RATE', 'proxy_inds': array([ 95, 202]), 'receptor_type': 0, 'spiking_proxy_inds': array([ 95, 202]), 'coupling_mode': 'TVB', 'voi_labels': array(['E'], dtype='<U1'), 'monitor_ind': 0, 'proxy': <class 'tvb_multiscale.tvb_nest.interfaces.io.NESTInhomogeneousPoissonGeneratorSet'>, 'transformer': <tvb_multiscale.core.interfaces.base.transformers.models.base.LinearRate object at 0x7f08294e7610>}\n",
      "{'voi': array([0]), 'populations': array(['mossy_fibers'], dtype='<U12'), 'model': 'RATE', 'proxy_inds': array([104, 211]), 'receptor_type': 0, 'spiking_proxy_inds': array([104, 211]), 'coupling_mode': 'TVB', 'voi_labels': array(['E'], dtype='<U1'), 'monitor_ind': 0, 'proxy': <class 'tvb_multiscale.tvb_nest.interfaces.io.NESTInhomogeneousPoissonGeneratorSet'>, 'transformer': <tvb_multiscale.core.interfaces.base.transformers.models.base.LinearRate object at 0x7f08294e7640>}\n",
      "{'voi': array([0]), 'populations': array(['io_cell'], dtype='<U7'), 'model': 'RATE', 'proxy_inds': array([102, 209]), 'receptor_type': 1, 'spiking_proxy_inds': array([102, 209]), 'coupling_mode': 'TVB', 'voi_labels': array(['E'], dtype='<U1'), 'monitor_ind': 0, 'proxy': <class 'tvb_multiscale.tvb_nest.interfaces.io.NESTInhomogeneousPoissonGeneratorSet'>, 'transformer': <tvb_multiscale.core.interfaces.base.transformers.models.base.LinearRate object at 0x7f08294e76a0>}\n",
      "\n",
      "input (NEST->TVB update) interfaces' configurations:\n",
      "\n",
      "{'voi': array([0]), 'populations': array(['parrot_medulla'], dtype='<U14'), 'proxy_inds': array([ 96, 203]), 'voi_labels': array(['E'], dtype='<U1'), 'proxy': <class 'tvb_multiscale.tvb_nest.interfaces.io.NESTSpikeRecorderTotalSet'>, 'transformer': <tvb_multiscale.core.interfaces.base.transformers.models.elephant.ElephantSpikesHistogramRate object at 0x7f08294e7700>}\n",
      "{'voi': array([0]), 'populations': array(['parrot_ponssens'], dtype='<U15'), 'proxy_inds': array([ 95, 202]), 'voi_labels': array(['E'], dtype='<U1'), 'proxy': <class 'tvb_multiscale.tvb_nest.interfaces.io.NESTSpikeRecorderTotalSet'>, 'transformer': <tvb_multiscale.core.interfaces.base.transformers.models.elephant.ElephantSpikesHistogramRate object at 0x7f08294e75b0>}\n",
      "{'voi': array([0]), 'populations': array(['granule_cell'], dtype='<U12'), 'proxy_inds': array([104, 211]), 'neurons_inds': <function build_tvb_nest_interfaces.<locals>.<lambda> at 0x7f082f248e50>, 'voi_labels': array(['E'], dtype='<U1'), 'proxy': <class 'tvb_multiscale.tvb_nest.interfaces.io.NESTSpikeRecorderTotalSet'>, 'transformer': <tvb_multiscale.core.interfaces.base.transformers.models.elephant.ElephantSpikesHistogramRate object at 0x7f08294e77f0>}\n",
      "{'voi': array([0]), 'populations': array(['dcn_cell_glut_large'], dtype='<U19'), 'proxy_inds': array([106, 213]), 'voi_labels': array(['E'], dtype='<U1'), 'proxy': <class 'tvb_multiscale.tvb_nest.interfaces.io.NESTSpikeRecorderTotalSet'>, 'transformer': <tvb_multiscale.core.interfaces.base.transformers.models.elephant.ElephantSpikesHistogramRate object at 0x7f08294e7820>}\n",
      "{'voi': array([0]), 'populations': array(['io_cell'], dtype='<U7'), 'proxy_inds': array([102, 209]), 'voi_labels': array(['E'], dtype='<U1'), 'proxy': <class 'tvb_multiscale.tvb_nest.interfaces.io.NESTSpikeRecorderTotalSet'>, 'transformer': <tvb_multiscale.core.interfaces.base.transformers.models.elephant.ElephantSpikesHistogramRate object at 0x7f08294e7880>}\n",
      "2022-06-29 16:09:16,535 - INFO - tvb_multiscale.core.spiking_models.devices - <class 'tvb_multiscale.core.spiking_models.devices.DeviceSet'> of model inhomogeneous_poisson_generator for ['E']->['parrot_medulla'] created!\n",
      "2022-06-29 16:09:16,535 - INFO - tvb_multiscale.core.spiking_models.devices - <class 'tvb_multiscale.core.spiking_models.devices.DeviceSet'> of model inhomogeneous_poisson_generator for ['E']->['parrot_medulla'] created!\n",
      "2022-06-29 16:09:16,601 - INFO - tvb_multiscale.core.spiking_models.devices - <class 'tvb_multiscale.core.spiking_models.devices.DeviceSet'> of model inhomogeneous_poisson_generator for ['E']->['parrot_ponssens'] created!\n",
      "2022-06-29 16:09:16,601 - INFO - tvb_multiscale.core.spiking_models.devices - <class 'tvb_multiscale.core.spiking_models.devices.DeviceSet'> of model inhomogeneous_poisson_generator for ['E']->['parrot_ponssens'] created!\n",
      "2022-06-29 16:09:16,670 - INFO - tvb_multiscale.core.spiking_models.devices - <class 'tvb_multiscale.core.spiking_models.devices.DeviceSet'> of model inhomogeneous_poisson_generator for ['E']->['mossy_fibers'] created!\n",
      "2022-06-29 16:09:16,670 - INFO - tvb_multiscale.core.spiking_models.devices - <class 'tvb_multiscale.core.spiking_models.devices.DeviceSet'> of model inhomogeneous_poisson_generator for ['E']->['mossy_fibers'] created!\n",
      "2022-06-29 16:09:16,714 - INFO - tvb_multiscale.core.spiking_models.devices - <class 'tvb_multiscale.core.spiking_models.devices.DeviceSet'> of model inhomogeneous_poisson_generator for ['E']->['io_cell'] created!\n",
      "2022-06-29 16:09:16,714 - INFO - tvb_multiscale.core.spiking_models.devices - <class 'tvb_multiscale.core.spiking_models.devices.DeviceSet'> of model inhomogeneous_poisson_generator for ['E']->['io_cell'] created!\n",
      "2022-06-29 16:09:16,749 - INFO - tvb_multiscale.core.spiking_models.devices - <class 'tvb_multiscale.core.spiking_models.devices.DeviceSet'> of model spike_recorder for ['parrot_medulla']->['E'] created!\n",
      "2022-06-29 16:09:16,749 - INFO - tvb_multiscale.core.spiking_models.devices - <class 'tvb_multiscale.core.spiking_models.devices.DeviceSet'> of model spike_recorder for ['parrot_medulla']->['E'] created!\n",
      "2022-06-29 16:09:16,783 - INFO - tvb_multiscale.core.spiking_models.devices - <class 'tvb_multiscale.core.spiking_models.devices.DeviceSet'> of model spike_recorder for ['parrot_ponssens']->['E'] created!\n",
      "2022-06-29 16:09:16,783 - INFO - tvb_multiscale.core.spiking_models.devices - <class 'tvb_multiscale.core.spiking_models.devices.DeviceSet'> of model spike_recorder for ['parrot_ponssens']->['E'] created!\n",
      "2022-06-29 16:09:16,823 - INFO - tvb_multiscale.core.spiking_models.devices - <class 'tvb_multiscale.core.spiking_models.devices.DeviceSet'> of model spike_recorder for ['granule_cell']->['E'] created!\n",
      "2022-06-29 16:09:16,823 - INFO - tvb_multiscale.core.spiking_models.devices - <class 'tvb_multiscale.core.spiking_models.devices.DeviceSet'> of model spike_recorder for ['granule_cell']->['E'] created!\n",
      "2022-06-29 16:09:19,051 - INFO - tvb_multiscale.core.spiking_models.devices - <class 'tvb_multiscale.core.spiking_models.devices.DeviceSet'> of model spike_recorder for ['dcn_cell_glut_large']->['E'] created!\n",
      "2022-06-29 16:09:19,051 - INFO - tvb_multiscale.core.spiking_models.devices - <class 'tvb_multiscale.core.spiking_models.devices.DeviceSet'> of model spike_recorder for ['dcn_cell_glut_large']->['E'] created!\n",
      "2022-06-29 16:09:19,077 - INFO - tvb_multiscale.core.spiking_models.devices - <class 'tvb_multiscale.core.spiking_models.devices.DeviceSet'> of model spike_recorder for ['io_cell']->['E'] created!\n",
      "2022-06-29 16:09:19,077 - INFO - tvb_multiscale.core.spiking_models.devices - <class 'tvb_multiscale.core.spiking_models.devices.DeviceSet'> of model spike_recorder for ['io_cell']->['E'] created!\n",
      "2022-06-29 16:09:19,115 - ERROR - tvb_multiscale.core.tvb.cosimulator.cosimulator_serial - Bad Simulator.integrator.noise.nsig shape: (2, 1, 1)\n",
      "2022-06-29 16:09:19,153 - WARNING - tvb_multiscale.core.tvb.cosimulator.cosimulator_serial - Current step is not 0 upon configuration!\n",
      "Setting it to 0. Initial condition might be affected!\n",
      "Current step is not 0 upon configuration!\n",
      "Setting it to 0. Initial condition might be affected!\n",
      "\n",
      "\n",
      "output (TVB->NEST coupling) interfaces:\n",
      "\n",
      "TVBtoSpikeNetInterfaces (\n",
      "  title .................................. 'TVBtoSpikeNetInterfaces gid: f0d5e99d-4a7e-4d39-9b2c-62e452657168'\n",
      "  Type ................................... 'TVBtoSpikeNetInterfaces'\n",
      "  dt ..................................... 0.1\n",
      "  interfaces[0] .......................... '--------------------'\n",
      "  interfaces[0].title .................... 'TVBtoNESTInterface gid: 7eaccc07-8f10-47e1-b0f2-33f1dc896ee9'\n",
      "  interfaces[0].Type ..................... 'TVBtoNESTInterface'\n",
      "  interfaces[0].transformer .............. LinearRate gid: 7a1e7337-8e8f-432c-b425-6a84b2f58bc3\n",
      "  interfaces[0].monitor_ind .............. 0\n",
      "  interfaces[0].coupling_mode ............ 'TVB'\n",
      "  interfaces[0].proxy_inds ............... --------------------\n",
      "  interfaces[0].proxy_inds: shape ........ (2,)\n",
      "  interfaces[0].proxy_inds: dtype ........ int64\n",
      "  interfaces[0].proxy_inds: values ....... [[96], [203]]\n",
      "  interfaces[0].voi ...................... --------------------\n",
      "  interfaces[0].voi: shape ............... (1,)\n",
      "  interfaces[0].voi: dtype ............... int64\n",
      "  interfaces[0].voi: values .............. 0\n",
      "  interfaces[0].voi_labels ............... --------------------\n",
      "  interfaces[0].voi_labels: shape ........ (1,)\n",
      "  interfaces[0].voi_labels: dtype ........ <U128\n",
      "  interfaces[0].voi_labels: values ....... E\n",
      "  interfaces[0].proxy .................... NESTInhomogeneousPoissonGeneratorSet gid: 0ed6a478-3a1b-4d31-8070-62c5f1175d97\n",
      "  interfaces[0].spiking_network .......... NESTNetwork gid: 24ef2348-053c-494f-abe1-03a9255a7f49\n",
      "  interfaces[0].spiking_proxy_inds ....... --------------------\n",
      "  interfaces[0].spiking_proxy_inds: shape  (2,)\n",
      "  interfaces[0].spiking_proxy_inds: dtype  int64\n",
      "  interfaces[0].spiking_proxy_inds: values  [[96], [203]]\n",
      "  interfaces[0].populations .............. --------------------\n",
      "  interfaces[0].populations: shape ....... (1,)\n",
      "  interfaces[0].populations: dtype ....... <U128\n",
      "  interfaces[0].populations: values ...... parrot_medulla\n",
      "  interfaces[0].model .................... 'RATE'\n",
      "  interfaces[0].gid ...................... UUID('7eaccc07-8f10-47e1-b0f2-33f1dc896ee9')\n",
      "  interfaces[1] .......................... '--------------------'\n",
      "  interfaces[1].title .................... 'TVBtoNESTInterface gid: a9f2fcea-7d99-4239-a8c9-4d9265970b1a'\n",
      "  interfaces[1].Type ..................... 'TVBtoNESTInterface'\n",
      "  interfaces[1].transformer .............. LinearRate gid: 064bb583-5074-4839-a1d9-b8c5d4639abf\n",
      "  interfaces[1].monitor_ind .............. 0\n",
      "  interfaces[1].coupling_mode ............ 'TVB'\n",
      "  interfaces[1].proxy_inds ............... --------------------\n",
      "  interfaces[1].proxy_inds: shape ........ (2,)\n",
      "  interfaces[1].proxy_inds: dtype ........ int64\n",
      "  interfaces[1].proxy_inds: values ....... [[95], [202]]\n",
      "  interfaces[1].voi ...................... --------------------\n",
      "  interfaces[1].voi: shape ............... (1,)\n",
      "  interfaces[1].voi: dtype ............... int64\n",
      "  interfaces[1].voi: values .............. 0\n",
      "  interfaces[1].voi_labels ............... --------------------\n",
      "  interfaces[1].voi_labels: shape ........ (1,)\n",
      "  interfaces[1].voi_labels: dtype ........ <U128\n",
      "  interfaces[1].voi_labels: values ....... E\n",
      "  interfaces[1].proxy .................... NESTInhomogeneousPoissonGeneratorSet gid: 60bfdee7-57b9-4e1b-afe6-4d4e34d40db0\n",
      "  interfaces[1].spiking_network .......... NESTNetwork gid: 24ef2348-053c-494f-abe1-03a9255a7f49\n",
      "  interfaces[1].spiking_proxy_inds ....... --------------------\n",
      "  interfaces[1].spiking_proxy_inds: shape  (2,)\n",
      "  interfaces[1].spiking_proxy_inds: dtype  int64\n",
      "  interfaces[1].spiking_proxy_inds: values  [[95], [202]]\n",
      "  interfaces[1].populations .............. --------------------\n",
      "  interfaces[1].populations: shape ....... (1,)\n",
      "  interfaces[1].populations: dtype ....... <U128\n",
      "  interfaces[1].populations: values ...... parrot_ponssens\n",
      "  interfaces[1].model .................... 'RATE'\n",
      "  interfaces[1].gid ...................... UUID('a9f2fcea-7d99-4239-a8c9-4d9265970b1a')\n",
      "  interfaces[2] .......................... '--------------------'\n",
      "  interfaces[2].title .................... 'TVBtoNESTInterface gid: 4a2ac082-e529-45fc-b689-a23a0062f63d'\n",
      "  interfaces[2].Type ..................... 'TVBtoNESTInterface'\n",
      "  interfaces[2].transformer .............. LinearRate gid: 8ec57941-887a-4982-b0f0-ae75bc3a6565\n",
      "  interfaces[2].monitor_ind .............. 0\n",
      "  interfaces[2].coupling_mode ............ 'TVB'\n",
      "  interfaces[2].proxy_inds ............... --------------------\n",
      "  interfaces[2].proxy_inds: shape ........ (2,)\n",
      "  interfaces[2].proxy_inds: dtype ........ int64\n",
      "  interfaces[2].proxy_inds: values ....... [[104], [211]]\n",
      "  interfaces[2].voi ...................... --------------------\n",
      "  interfaces[2].voi: shape ............... (1,)\n",
      "  interfaces[2].voi: dtype ............... int64\n",
      "  interfaces[2].voi: values .............. 0\n",
      "  interfaces[2].voi_labels ............... --------------------\n",
      "  interfaces[2].voi_labels: shape ........ (1,)\n",
      "  interfaces[2].voi_labels: dtype ........ <U128\n",
      "  interfaces[2].voi_labels: values ....... E\n",
      "  interfaces[2].proxy .................... NESTInhomogeneousPoissonGeneratorSet gid: 2d7e99c7-fa9d-4b76-a0b1-3f4e6b905998\n",
      "  interfaces[2].spiking_network .......... NESTNetwork gid: 24ef2348-053c-494f-abe1-03a9255a7f49\n",
      "  interfaces[2].spiking_proxy_inds ....... --------------------\n",
      "  interfaces[2].spiking_proxy_inds: shape  (2,)\n",
      "  interfaces[2].spiking_proxy_inds: dtype  int64\n",
      "  interfaces[2].spiking_proxy_inds: values  [[104], [211]]\n",
      "  interfaces[2].populations .............. --------------------\n",
      "  interfaces[2].populations: shape ....... (1,)\n",
      "  interfaces[2].populations: dtype ....... <U128\n",
      "  interfaces[2].populations: values ...... mossy_fibers\n",
      "  interfaces[2].model .................... 'RATE'\n",
      "  interfaces[2].gid ...................... UUID('4a2ac082-e529-45fc-b689-a23a0062f63d')\n",
      "  interfaces[3] .......................... '--------------------'\n",
      "  interfaces[3].title .................... 'TVBtoNESTInterface gid: 8d7fdda8-f6d6-4cbd-ab75-474cb943e68a'\n",
      "  interfaces[3].Type ..................... 'TVBtoNESTInterface'\n",
      "  interfaces[3].transformer .............. LinearRate gid: 08518549-2e54-4235-a9c1-ccc577579494\n",
      "  interfaces[3].monitor_ind .............. 0\n",
      "  interfaces[3].coupling_mode ............ 'TVB'\n",
      "  interfaces[3].proxy_inds ............... --------------------\n",
      "  interfaces[3].proxy_inds: shape ........ (2,)\n",
      "  interfaces[3].proxy_inds: dtype ........ int64\n",
      "  interfaces[3].proxy_inds: values ....... [[102], [209]]\n",
      "  interfaces[3].voi ...................... --------------------\n",
      "  interfaces[3].voi: shape ............... (1,)\n",
      "  interfaces[3].voi: dtype ............... int64\n",
      "  interfaces[3].voi: values .............. 0\n",
      "  interfaces[3].voi_labels ............... --------------------\n",
      "  interfaces[3].voi_labels: shape ........ (1,)\n",
      "  interfaces[3].voi_labels: dtype ........ <U128\n",
      "  interfaces[3].voi_labels: values ....... E\n",
      "  interfaces[3].proxy .................... NESTInhomogeneousPoissonGeneratorSet gid: 5ee3e6b6-94ec-4c29-951e-4275920b878d\n",
      "  interfaces[3].spiking_network .......... NESTNetwork gid: 24ef2348-053c-494f-abe1-03a9255a7f49\n",
      "  interfaces[3].spiking_proxy_inds ....... --------------------\n",
      "  interfaces[3].spiking_proxy_inds: shape  (2,)\n",
      "  interfaces[3].spiking_proxy_inds: dtype  int64\n",
      "  interfaces[3].spiking_proxy_inds: values  [[102], [209]]\n",
      "  interfaces[3].populations .............. --------------------\n",
      "  interfaces[3].populations: shape ....... (1,)\n",
      "  interfaces[3].populations: dtype ....... <U128\n",
      "  interfaces[3].populations: values ...... io_cell\n",
      "  interfaces[3].model .................... 'RATE'\n",
      "  interfaces[3].gid ...................... UUID('8d7fdda8-f6d6-4cbd-ab75-474cb943e68a')\n",
      "  synchronization_time ................... 1.0\n",
      "  synchronization_n_step ................. 10\n",
      "  gid .................................... UUID('f0d5e99d-4a7e-4d39-9b2c-62e452657168')\n",
      "  proxy_inds_unique ...................... --------------------\n",
      "  proxy_inds_unique: shape ............... (8,)\n",
      "  proxy_inds_unique: dtype ............... int64\n",
      "  proxy_inds_unique: unique_values ....... [[95, 96], [102], [104], [202, 203], [209], [211]]\n",
      ")\n",
      "\n",
      "\n",
      "input (NEST->TVB update) interfaces:\n",
      "\n",
      "SpikeNetToTVBInterfaces (\n",
      "  title .................................. 'SpikeNetToTVBInterfaces gid: 1600af7c-cad3-4551-a8bc-e9c9b6aedbbd'\n",
      "  Type ................................... 'SpikeNetToTVBInterfaces'\n",
      "  interfaces[0] .......................... '--------------------'\n",
      "  interfaces[0].title .................... 'NESTtoTVBInterface gid: 9a21717d-abbb-4027-91ba-20ed9741844f'\n",
      "  interfaces[0].Type ..................... 'NESTtoTVBInterface'\n",
      "  interfaces[0].transformer .............. ElephantSpikesHistogramRate gid: de6d6462-b037-40c5-9a93-0e79dc5198dc\n",
      "  interfaces[0].proxy_inds ............... --------------------\n",
      "  interfaces[0].proxy_inds: shape ........ (2,)\n",
      "  interfaces[0].proxy_inds: dtype ........ int64\n",
      "  interfaces[0].proxy_inds: values ....... [[96], [203]]\n",
      "  interfaces[0].voi ...................... --------------------\n",
      "  interfaces[0].voi: shape ............... (1,)\n",
      "  interfaces[0].voi: dtype ............... int64\n",
      "  interfaces[0].voi: values .............. 0\n",
      "  interfaces[0].voi_labels ............... --------------------\n",
      "  interfaces[0].voi_labels: shape ........ (1,)\n",
      "  interfaces[0].voi_labels: dtype ........ <U128\n",
      "  interfaces[0].voi_labels: values ....... E\n",
      "  interfaces[0].proxy .................... NESTSpikeRecorderTotalSet gid: b6371dce-0824-4b9f-a229-5f7c5cf8b6d1\n",
      "  interfaces[0].dt ....................... 0.1\n",
      "  interfaces[0].times .................... --------------------\n",
      "  interfaces[0].times: shape ............. (2,)\n",
      "  interfaces[0].times: dtype ............. int64\n",
      "  interfaces[0].times: values ............ [[0, 1]]\n",
      "  interfaces[0].spiking_network .......... NESTNetwork gid: 24ef2348-053c-494f-abe1-03a9255a7f49\n",
      "  interfaces[0].spiking_proxy_inds ....... --------------------\n",
      "  interfaces[0].spiking_proxy_inds: shape  (2,)\n",
      "  interfaces[0].spiking_proxy_inds: dtype  int64\n",
      "  interfaces[0].spiking_proxy_inds: values  [[96], [203]]\n",
      "  interfaces[0].populations .............. --------------------\n",
      "  interfaces[0].populations: shape ....... (1,)\n",
      "  interfaces[0].populations: dtype ....... <U128\n",
      "  interfaces[0].populations: values ...... parrot_medulla\n",
      "  interfaces[0].model .................... 'spike_recorder'\n",
      "  interfaces[0].gid ...................... UUID('9a21717d-abbb-4027-91ba-20ed9741844f')\n",
      "  interfaces[1] .......................... '--------------------'\n",
      "  interfaces[1].title .................... 'NESTtoTVBInterface gid: c7d2885d-cd95-405f-a407-a4ad7476f82f'\n",
      "  interfaces[1].Type ..................... 'NESTtoTVBInterface'\n",
      "  interfaces[1].transformer .............. ElephantSpikesHistogramRate gid: a1bf7fd8-2220-49d2-82ad-9fbf31ee4402\n",
      "  interfaces[1].proxy_inds ............... --------------------\n",
      "  interfaces[1].proxy_inds: shape ........ (2,)\n",
      "  interfaces[1].proxy_inds: dtype ........ int64\n",
      "  interfaces[1].proxy_inds: values ....... [[95], [202]]\n",
      "  interfaces[1].voi ...................... --------------------\n",
      "  interfaces[1].voi: shape ............... (1,)\n",
      "  interfaces[1].voi: dtype ............... int64\n",
      "  interfaces[1].voi: values .............. 0\n",
      "  interfaces[1].voi_labels ............... --------------------\n",
      "  interfaces[1].voi_labels: shape ........ (1,)\n",
      "  interfaces[1].voi_labels: dtype ........ <U128\n",
      "  interfaces[1].voi_labels: values ....... E\n",
      "  interfaces[1].proxy .................... NESTSpikeRecorderTotalSet gid: 73748048-9aad-4cbb-a20c-3ad76b50bc4e\n",
      "  interfaces[1].dt ....................... 0.1\n",
      "  interfaces[1].times .................... --------------------\n",
      "  interfaces[1].times: shape ............. (2,)\n",
      "  interfaces[1].times: dtype ............. int64\n",
      "  interfaces[1].times: values ............ [[0, 1]]\n",
      "  interfaces[1].spiking_network .......... NESTNetwork gid: 24ef2348-053c-494f-abe1-03a9255a7f49\n",
      "  interfaces[1].spiking_proxy_inds ....... --------------------\n",
      "  interfaces[1].spiking_proxy_inds: shape  (2,)\n",
      "  interfaces[1].spiking_proxy_inds: dtype  int64\n",
      "  interfaces[1].spiking_proxy_inds: values  [[95], [202]]\n",
      "  interfaces[1].populations .............. --------------------\n",
      "  interfaces[1].populations: shape ....... (1,)\n",
      "  interfaces[1].populations: dtype ....... <U128\n",
      "  interfaces[1].populations: values ...... parrot_ponssens\n",
      "  interfaces[1].model .................... 'spike_recorder'\n",
      "  interfaces[1].gid ...................... UUID('c7d2885d-cd95-405f-a407-a4ad7476f82f')\n",
      "  interfaces[2] .......................... '--------------------'\n",
      "  interfaces[2].title .................... 'NESTtoTVBInterface gid: 1ad2e0cb-ba2e-4c48-bf53-e6b0a443ad0a'\n",
      "  interfaces[2].Type ..................... 'NESTtoTVBInterface'\n",
      "  interfaces[2].transformer .............. ElephantSpikesHistogramRate gid: 6f497f5c-cce3-4e38-9cc5-782680729b7c\n",
      "  interfaces[2].proxy_inds ............... --------------------\n",
      "  interfaces[2].proxy_inds: shape ........ (2,)\n",
      "  interfaces[2].proxy_inds: dtype ........ int64\n",
      "  interfaces[2].proxy_inds: values ....... [[104], [211]]\n",
      "  interfaces[2].voi ...................... --------------------\n",
      "  interfaces[2].voi: shape ............... (1,)\n",
      "  interfaces[2].voi: dtype ............... int64\n",
      "  interfaces[2].voi: values .............. 0\n",
      "  interfaces[2].voi_labels ............... --------------------\n",
      "  interfaces[2].voi_labels: shape ........ (1,)\n",
      "  interfaces[2].voi_labels: dtype ........ <U128\n",
      "  interfaces[2].voi_labels: values ....... E\n",
      "  interfaces[2].proxy .................... NESTSpikeRecorderTotalSet gid: 59eb331e-f62c-49ca-943f-82933267e348\n",
      "  interfaces[2].dt ....................... 0.1\n",
      "  interfaces[2].times .................... --------------------\n",
      "  interfaces[2].times: shape ............. (2,)\n",
      "  interfaces[2].times: dtype ............. int64\n",
      "  interfaces[2].times: values ............ [[0, 1]]\n",
      "  interfaces[2].spiking_network .......... NESTNetwork gid: 24ef2348-053c-494f-abe1-03a9255a7f49\n",
      "  interfaces[2].spiking_proxy_inds ....... --------------------\n",
      "  interfaces[2].spiking_proxy_inds: shape  (2,)\n",
      "  interfaces[2].spiking_proxy_inds: dtype  int64\n",
      "  interfaces[2].spiking_proxy_inds: values  [[104], [211]]\n",
      "  interfaces[2].populations .............. --------------------\n",
      "  interfaces[2].populations: shape ....... (1,)\n",
      "  interfaces[2].populations: dtype ....... <U128\n",
      "  interfaces[2].populations: values ...... granule_cell\n",
      "  interfaces[2].model .................... 'spike_recorder'\n",
      "  interfaces[2].gid ...................... UUID('1ad2e0cb-ba2e-4c48-bf53-e6b0a443ad0a')\n",
      "  interfaces[3] .......................... '--------------------'\n",
      "  interfaces[3].title .................... 'NESTtoTVBInterface gid: 3155812d-ccdd-40d9-8ce2-1bc894b8e104'\n",
      "  interfaces[3].Type ..................... 'NESTtoTVBInterface'\n",
      "  interfaces[3].transformer .............. ElephantSpikesHistogramRate gid: 82df5004-db8d-4745-97bf-01bcafa451c5\n",
      "  interfaces[3].proxy_inds ............... --------------------\n",
      "  interfaces[3].proxy_inds: shape ........ (2,)\n",
      "  interfaces[3].proxy_inds: dtype ........ int64\n",
      "  interfaces[3].proxy_inds: values ....... [[106], [213]]\n",
      "  interfaces[3].voi ...................... --------------------\n",
      "  interfaces[3].voi: shape ............... (1,)\n",
      "  interfaces[3].voi: dtype ............... int64\n",
      "  interfaces[3].voi: values .............. 0\n",
      "  interfaces[3].voi_labels ............... --------------------\n",
      "  interfaces[3].voi_labels: shape ........ (1,)\n",
      "  interfaces[3].voi_labels: dtype ........ <U128\n",
      "  interfaces[3].voi_labels: values ....... E\n",
      "  interfaces[3].proxy .................... NESTSpikeRecorderTotalSet gid: 93d2dfbc-2a61-454d-bb6c-ff3a0b7054c9\n",
      "  interfaces[3].dt ....................... 0.1\n",
      "  interfaces[3].times .................... --------------------\n",
      "  interfaces[3].times: shape ............. (2,)\n",
      "  interfaces[3].times: dtype ............. int64\n",
      "  interfaces[3].times: values ............ [[0, 1]]\n",
      "  interfaces[3].spiking_network .......... NESTNetwork gid: 24ef2348-053c-494f-abe1-03a9255a7f49\n",
      "  interfaces[3].spiking_proxy_inds ....... --------------------\n",
      "  interfaces[3].spiking_proxy_inds: shape  (2,)\n",
      "  interfaces[3].spiking_proxy_inds: dtype  int64\n",
      "  interfaces[3].spiking_proxy_inds: values  [[106], [213]]\n",
      "  interfaces[3].populations .............. --------------------\n",
      "  interfaces[3].populations: shape ....... (1,)\n",
      "  interfaces[3].populations: dtype ....... <U128\n",
      "  interfaces[3].populations: values ...... dcn_cell_glut_large\n",
      "  interfaces[3].model .................... 'spike_recorder'\n",
      "  interfaces[3].gid ...................... UUID('3155812d-ccdd-40d9-8ce2-1bc894b8e104')\n",
      "  interfaces[4] .......................... '--------------------'\n",
      "  interfaces[4].title .................... 'NESTtoTVBInterface gid: f9fcabec-473d-4885-a87a-65ad437c44b2'\n",
      "  interfaces[4].Type ..................... 'NESTtoTVBInterface'\n",
      "  interfaces[4].transformer .............. ElephantSpikesHistogramRate gid: 1246411c-b830-427b-8522-2f4fa4a90655\n",
      "  interfaces[4].proxy_inds ............... --------------------\n",
      "  interfaces[4].proxy_inds: shape ........ (2,)\n",
      "  interfaces[4].proxy_inds: dtype ........ int64\n",
      "  interfaces[4].proxy_inds: values ....... [[102], [209]]\n",
      "  interfaces[4].voi ...................... --------------------\n",
      "  interfaces[4].voi: shape ............... (1,)\n",
      "  interfaces[4].voi: dtype ............... int64\n",
      "  interfaces[4].voi: values .............. 0\n",
      "  interfaces[4].voi_labels ............... --------------------\n",
      "  interfaces[4].voi_labels: shape ........ (1,)\n",
      "  interfaces[4].voi_labels: dtype ........ <U128\n",
      "  interfaces[4].voi_labels: values ....... E\n",
      "  interfaces[4].proxy .................... NESTSpikeRecorderTotalSet gid: c4de84e2-66f5-4928-9de4-fb7c0170829f\n",
      "  interfaces[4].dt ....................... 0.1\n",
      "  interfaces[4].times .................... --------------------\n",
      "  interfaces[4].times: shape ............. (2,)\n",
      "  interfaces[4].times: dtype ............. int64\n",
      "  interfaces[4].times: values ............ [[0, 1]]\n",
      "  interfaces[4].spiking_network .......... NESTNetwork gid: 24ef2348-053c-494f-abe1-03a9255a7f49\n",
      "  interfaces[4].spiking_proxy_inds ....... --------------------\n",
      "  interfaces[4].spiking_proxy_inds: shape  (2,)\n",
      "  interfaces[4].spiking_proxy_inds: dtype  int64\n",
      "  interfaces[4].spiking_proxy_inds: values  [[102], [209]]\n",
      "  interfaces[4].populations .............. --------------------\n",
      "  interfaces[4].populations: shape ....... (1,)\n",
      "  interfaces[4].populations: dtype ....... <U128\n",
      "  interfaces[4].populations: values ...... io_cell\n",
      "  interfaces[4].model .................... 'spike_recorder'\n",
      "  interfaces[4].gid ...................... UUID('f9fcabec-473d-4885-a87a-65ad437c44b2')\n",
      "  synchronization_time ................... 1.0\n",
      "  synchronization_n_step ................. 10\n",
      "  gid .................................... UUID('1600af7c-cad3-4551-a8bc-e9c9b6aedbbd')\n",
      "  proxy_inds_unique ...................... --------------------\n",
      "  proxy_inds_unique: shape ............... (10,)\n",
      "  proxy_inds_unique: dtype ............... int64\n",
      "  proxy_inds_unique: unique_values ....... [[95, 96], [102], [104], [106], [202, 203], [209], [211], [213]]\n",
      ")\n"
     ]
    },
    {
     "name": "stderr",
     "output_type": "stream",
     "text": [
      "/home/docker/packages/tvb-multiscale/tvb_multiscale/core/utils/data_structures_utils.py:337: VisibleDeprecationWarning:Creating an ndarray from ragged nested sequences (which is a list-or-tuple of lists-or-tuples-or ndarrays with different lengths or shapes) is deprecated. If you meant to do this, you must specify 'dtype=object' when creating the ndarray.\n"
     ]
    }
   ],
   "source": [
    "simulator, nest_network = build_tvb_nest_interfaces(simulator, nest_network, nest_nodes_inds, config)"
   ]
  },
  {
   "cell_type": "code",
   "execution_count": null,
   "id": "75bda28b",
   "metadata": {
    "scrolled": false
   },
   "outputs": [
    {
     "name": "stdout",
     "output_type": "stream",
     "text": [
      "Simulating TVB-NEST...\n",
      "2022-06-29 16:09:23,747 - ERROR - tvb_multiscale.core.tvb.cosimulator.cosimulator_serial - Bad Simulator.integrator.noise.nsig shape: (2, 1, 1)\n",
      "2022-06-29 16:09:23,776 - WARNING - tvb_multiscale.core.tvb.cosimulator.cosimulator_serial - Current step is not 0 upon configuration!\n",
      "Setting it to 0. Initial condition might be affected!\n",
      "Current step is not 0 upon configuration!\n",
      "Setting it to 0. Initial condition might be affected!\n",
      "...1.818% completed in 2.23473 sec!"
     ]
    },
    {
     "name": "stderr",
     "output_type": "stream",
     "text": [
      "/home/docker/env/neurosci/lib/python3.9/site-packages/elephant/conversion.py:1170: UserWarning:Binning discarded 2 last spike(s) of the input spiketrain\n",
      "/home/docker/env/neurosci/lib/python3.9/site-packages/elephant/conversion.py:1170: UserWarning:Binning discarded 4 last spike(s) of the input spiketrain\n"
     ]
    },
    {
     "name": "stdout",
     "output_type": "stream",
     "text": [
      "...3.636% completed in 5.81828 sec!"
     ]
    },
    {
     "name": "stderr",
     "output_type": "stream",
     "text": [
      "/home/docker/env/neurosci/lib/python3.9/site-packages/elephant/conversion.py:1170: UserWarning:Binning discarded 1 last spike(s) of the input spiketrain\n"
     ]
    },
    {
     "name": "stdout",
     "output_type": "stream",
     "text": [
      "...5.455% completed in 9.97008 sec!"
     ]
    },
    {
     "name": "stderr",
     "output_type": "stream",
     "text": [
      "/home/docker/env/neurosci/lib/python3.9/site-packages/elephant/conversion.py:1170: UserWarning:Binning discarded 582 last spike(s) of the input spiketrain\n",
      "/home/docker/env/neurosci/lib/python3.9/site-packages/elephant/conversion.py:1170: UserWarning:Binning discarded 114 last spike(s) of the input spiketrain\n"
     ]
    },
    {
     "name": "stdout",
     "output_type": "stream",
     "text": [
      "\r",
      "...6.364% completed in 11.9051 sec!"
     ]
    },
    {
     "name": "stderr",
     "output_type": "stream",
     "text": [
      "/home/docker/env/neurosci/lib/python3.9/site-packages/elephant/conversion.py:1170: UserWarning:Binning discarded 85 last spike(s) of the input spiketrain\n",
      "/home/docker/env/neurosci/lib/python3.9/site-packages/elephant/conversion.py:1170: UserWarning:Binning discarded 13 last spike(s) of the input spiketrain\n"
     ]
    },
    {
     "name": "stdout",
     "output_type": "stream",
     "text": [
      "\r",
      "...7.273% completed in 13.7448 sec!"
     ]
    },
    {
     "name": "stderr",
     "output_type": "stream",
     "text": [
      "/home/docker/env/neurosci/lib/python3.9/site-packages/elephant/conversion.py:1170: UserWarning:Binning discarded 195 last spike(s) of the input spiketrain\n",
      "/home/docker/env/neurosci/lib/python3.9/site-packages/elephant/conversion.py:1170: UserWarning:Binning discarded 2762 last spike(s) of the input spiketrain\n"
     ]
    },
    {
     "name": "stdout",
     "output_type": "stream",
     "text": [
      "\r",
      "...8.182% completed in 15.3055 sec!"
     ]
    },
    {
     "name": "stderr",
     "output_type": "stream",
     "text": [
      "/home/docker/env/neurosci/lib/python3.9/site-packages/elephant/conversion.py:1170: UserWarning:Binning discarded 2399 last spike(s) of the input spiketrain\n",
      "/home/docker/env/neurosci/lib/python3.9/site-packages/elephant/conversion.py:1170: UserWarning:Binning discarded 155 last spike(s) of the input spiketrain\n",
      "/home/docker/env/neurosci/lib/python3.9/site-packages/elephant/conversion.py:1170: UserWarning:Binning discarded 22 last spike(s) of the input spiketrain\n",
      "/home/docker/env/neurosci/lib/python3.9/site-packages/elephant/conversion.py:1170: UserWarning:Binning discarded 31 last spike(s) of the input spiketrain\n"
     ]
    },
    {
     "name": "stdout",
     "output_type": "stream",
     "text": [
      "...10.000% completed in 18.16 sec!!"
     ]
    },
    {
     "name": "stderr",
     "output_type": "stream",
     "text": [
      "/home/docker/env/neurosci/lib/python3.9/site-packages/elephant/conversion.py:1170: UserWarning:Binning discarded 164 last spike(s) of the input spiketrain\n",
      "/home/docker/env/neurosci/lib/python3.9/site-packages/elephant/conversion.py:1170: UserWarning:Binning discarded 135 last spike(s) of the input spiketrain\n"
     ]
    },
    {
     "name": "stdout",
     "output_type": "stream",
     "text": [
      "\r",
      "...10.909% completed in 19.6536 sec!"
     ]
    },
    {
     "name": "stderr",
     "output_type": "stream",
     "text": [
      "/home/docker/env/neurosci/lib/python3.9/site-packages/elephant/conversion.py:1170: UserWarning:Binning discarded 860 last spike(s) of the input spiketrain\n",
      "/home/docker/env/neurosci/lib/python3.9/site-packages/elephant/conversion.py:1170: UserWarning:Binning discarded 993 last spike(s) of the input spiketrain\n"
     ]
    },
    {
     "name": "stdout",
     "output_type": "stream",
     "text": [
      "\r",
      "...11.818% completed in 21.4595 sec!"
     ]
    },
    {
     "name": "stderr",
     "output_type": "stream",
     "text": [
      "/home/docker/env/neurosci/lib/python3.9/site-packages/elephant/conversion.py:1170: UserWarning:Binning discarded 5 last spike(s) of the input spiketrain\n",
      "/home/docker/env/neurosci/lib/python3.9/site-packages/elephant/conversion.py:1170: UserWarning:Binning discarded 898 last spike(s) of the input spiketrain\n"
     ]
    },
    {
     "name": "stdout",
     "output_type": "stream",
     "text": [
      "\r",
      "...12.727% completed in 23.0359 sec!"
     ]
    },
    {
     "name": "stderr",
     "output_type": "stream",
     "text": [
      "/home/docker/env/neurosci/lib/python3.9/site-packages/elephant/conversion.py:1170: UserWarning:Binning discarded 890 last spike(s) of the input spiketrain\n",
      "/home/docker/env/neurosci/lib/python3.9/site-packages/elephant/conversion.py:1170: UserWarning:Binning discarded 844 last spike(s) of the input spiketrain\n"
     ]
    },
    {
     "name": "stdout",
     "output_type": "stream",
     "text": [
      "\r",
      "...13.636% completed in 24.7957 sec!"
     ]
    },
    {
     "name": "stderr",
     "output_type": "stream",
     "text": [
      "/home/docker/env/neurosci/lib/python3.9/site-packages/elephant/conversion.py:1170: UserWarning:Binning discarded 1492 last spike(s) of the input spiketrain\n",
      "/home/docker/env/neurosci/lib/python3.9/site-packages/elephant/conversion.py:1170: UserWarning:Binning discarded 71 last spike(s) of the input spiketrain\n",
      "/home/docker/env/neurosci/lib/python3.9/site-packages/elephant/conversion.py:1170: UserWarning:Binning discarded 3 last spike(s) of the input spiketrain\n"
     ]
    },
    {
     "name": "stdout",
     "output_type": "stream",
     "text": [
      "\r",
      "...14.545% completed in 26.5716 sec!"
     ]
    },
    {
     "name": "stderr",
     "output_type": "stream",
     "text": [
      "/home/docker/env/neurosci/lib/python3.9/site-packages/elephant/conversion.py:1170: UserWarning:Binning discarded 705 last spike(s) of the input spiketrain\n",
      "/home/docker/env/neurosci/lib/python3.9/site-packages/elephant/conversion.py:1170: UserWarning:Binning discarded 1414 last spike(s) of the input spiketrain\n"
     ]
    },
    {
     "name": "stdout",
     "output_type": "stream",
     "text": [
      "\r",
      "...15.455% completed in 28.3626 sec!"
     ]
    },
    {
     "name": "stderr",
     "output_type": "stream",
     "text": [
      "/home/docker/env/neurosci/lib/python3.9/site-packages/elephant/conversion.py:1170: UserWarning:Binning discarded 848 last spike(s) of the input spiketrain\n",
      "/home/docker/env/neurosci/lib/python3.9/site-packages/elephant/conversion.py:1170: UserWarning:Binning discarded 527 last spike(s) of the input spiketrain\n"
     ]
    },
    {
     "name": "stdout",
     "output_type": "stream",
     "text": [
      "\r",
      "...16.364% completed in 30.3197 sec!"
     ]
    },
    {
     "name": "stderr",
     "output_type": "stream",
     "text": [
      "/home/docker/env/neurosci/lib/python3.9/site-packages/elephant/conversion.py:1170: UserWarning:Binning discarded 67 last spike(s) of the input spiketrain\n"
     ]
    },
    {
     "name": "stdout",
     "output_type": "stream",
     "text": [
      "\r",
      "...17.273% completed in 32.0447 sec!"
     ]
    },
    {
     "name": "stderr",
     "output_type": "stream",
     "text": [
      "/home/docker/env/neurosci/lib/python3.9/site-packages/elephant/conversion.py:1170: UserWarning:Binning discarded 1575 last spike(s) of the input spiketrain\n"
     ]
    },
    {
     "name": "stdout",
     "output_type": "stream",
     "text": [
      "\r",
      "...18.182% completed in 33.6657 sec!"
     ]
    },
    {
     "name": "stderr",
     "output_type": "stream",
     "text": [
      "/home/docker/env/neurosci/lib/python3.9/site-packages/elephant/conversion.py:1170: UserWarning:Binning discarded 555 last spike(s) of the input spiketrain\n",
      "/home/docker/env/neurosci/lib/python3.9/site-packages/elephant/conversion.py:1170: UserWarning:Binning discarded 739 last spike(s) of the input spiketrain\n",
      "/home/docker/env/neurosci/lib/python3.9/site-packages/elephant/conversion.py:1170: UserWarning:Binning discarded 7 last spike(s) of the input spiketrain\n"
     ]
    },
    {
     "name": "stdout",
     "output_type": "stream",
     "text": [
      "\r",
      "...19.091% completed in 35.5734 sec!"
     ]
    },
    {
     "name": "stderr",
     "output_type": "stream",
     "text": [
      "/home/docker/env/neurosci/lib/python3.9/site-packages/elephant/conversion.py:1170: UserWarning:Binning discarded 656 last spike(s) of the input spiketrain\n",
      "/home/docker/env/neurosci/lib/python3.9/site-packages/elephant/conversion.py:1170: UserWarning:Binning discarded 805 last spike(s) of the input spiketrain\n"
     ]
    },
    {
     "name": "stdout",
     "output_type": "stream",
     "text": [
      "\r",
      "...20.000% completed in 37.3215 sec!"
     ]
    },
    {
     "name": "stderr",
     "output_type": "stream",
     "text": [
      "/home/docker/env/neurosci/lib/python3.9/site-packages/elephant/conversion.py:1170: UserWarning:Binning discarded 595 last spike(s) of the input spiketrain\n",
      "/home/docker/env/neurosci/lib/python3.9/site-packages/elephant/conversion.py:1170: UserWarning:Binning discarded 1197 last spike(s) of the input spiketrain\n"
     ]
    },
    {
     "name": "stdout",
     "output_type": "stream",
     "text": [
      "\r",
      "...20.909% completed in 39.1446 sec!"
     ]
    },
    {
     "name": "stderr",
     "output_type": "stream",
     "text": [
      "/home/docker/env/neurosci/lib/python3.9/site-packages/elephant/conversion.py:1170: UserWarning:Binning discarded 291 last spike(s) of the input spiketrain\n",
      "/home/docker/env/neurosci/lib/python3.9/site-packages/elephant/conversion.py:1170: UserWarning:Binning discarded 120 last spike(s) of the input spiketrain\n"
     ]
    },
    {
     "name": "stdout",
     "output_type": "stream",
     "text": [
      "\r",
      "...21.818% completed in 41.7117 sec!"
     ]
    },
    {
     "name": "stderr",
     "output_type": "stream",
     "text": [
      "/home/docker/env/neurosci/lib/python3.9/site-packages/elephant/conversion.py:1170: UserWarning:Binning discarded 229 last spike(s) of the input spiketrain\n",
      "/home/docker/env/neurosci/lib/python3.9/site-packages/elephant/conversion.py:1170: UserWarning:Binning discarded 3131 last spike(s) of the input spiketrain\n"
     ]
    },
    {
     "name": "stdout",
     "output_type": "stream",
     "text": [
      "\r",
      "...22.727% completed in 43.5136 sec!"
     ]
    },
    {
     "name": "stderr",
     "output_type": "stream",
     "text": [
      "/home/docker/env/neurosci/lib/python3.9/site-packages/elephant/conversion.py:1170: UserWarning:Binning discarded 607 last spike(s) of the input spiketrain\n",
      "/home/docker/env/neurosci/lib/python3.9/site-packages/elephant/conversion.py:1170: UserWarning:Binning discarded 743 last spike(s) of the input spiketrain\n"
     ]
    },
    {
     "name": "stdout",
     "output_type": "stream",
     "text": [
      "\r",
      "...23.636% completed in 45.2942 sec!"
     ]
    },
    {
     "name": "stderr",
     "output_type": "stream",
     "text": [
      "/home/docker/env/neurosci/lib/python3.9/site-packages/elephant/conversion.py:1170: UserWarning:Binning discarded 962 last spike(s) of the input spiketrain\n",
      "/home/docker/env/neurosci/lib/python3.9/site-packages/elephant/conversion.py:1170: UserWarning:Binning discarded 416 last spike(s) of the input spiketrain\n"
     ]
    },
    {
     "name": "stdout",
     "output_type": "stream",
     "text": [
      "\r",
      "...24.545% completed in 47.0557 sec!"
     ]
    },
    {
     "name": "stderr",
     "output_type": "stream",
     "text": [
      "/home/docker/env/neurosci/lib/python3.9/site-packages/elephant/conversion.py:1170: UserWarning:Binning discarded 248 last spike(s) of the input spiketrain\n",
      "/home/docker/env/neurosci/lib/python3.9/site-packages/elephant/conversion.py:1170: UserWarning:Binning discarded 525 last spike(s) of the input spiketrain\n",
      "/home/docker/env/neurosci/lib/python3.9/site-packages/elephant/conversion.py:1170: UserWarning:Binning discarded 6 last spike(s) of the input spiketrain\n"
     ]
    },
    {
     "name": "stdout",
     "output_type": "stream",
     "text": [
      "\r",
      "...25.455% completed in 49.3775 sec!"
     ]
    },
    {
     "name": "stderr",
     "output_type": "stream",
     "text": [
      "/home/docker/env/neurosci/lib/python3.9/site-packages/elephant/conversion.py:1170: UserWarning:Binning discarded 645 last spike(s) of the input spiketrain\n",
      "/home/docker/env/neurosci/lib/python3.9/site-packages/elephant/conversion.py:1170: UserWarning:Binning discarded 876 last spike(s) of the input spiketrain\n"
     ]
    },
    {
     "name": "stdout",
     "output_type": "stream",
     "text": [
      "\r",
      "...26.364% completed in 51.2422 sec!"
     ]
    },
    {
     "name": "stderr",
     "output_type": "stream",
     "text": [
      "/home/docker/env/neurosci/lib/python3.9/site-packages/elephant/conversion.py:1170: UserWarning:Binning discarded 137 last spike(s) of the input spiketrain\n",
      "/home/docker/env/neurosci/lib/python3.9/site-packages/elephant/conversion.py:1170: UserWarning:Binning discarded 131 last spike(s) of the input spiketrain\n"
     ]
    },
    {
     "name": "stdout",
     "output_type": "stream",
     "text": [
      "\r",
      "...27.273% completed in 52.9829 sec!"
     ]
    },
    {
     "name": "stderr",
     "output_type": "stream",
     "text": [
      "/home/docker/env/neurosci/lib/python3.9/site-packages/elephant/conversion.py:1170: UserWarning:Binning discarded 556 last spike(s) of the input spiketrain\n",
      "/home/docker/env/neurosci/lib/python3.9/site-packages/elephant/conversion.py:1170: UserWarning:Binning discarded 865 last spike(s) of the input spiketrain\n"
     ]
    },
    {
     "name": "stdout",
     "output_type": "stream",
     "text": [
      "\r",
      "...28.182% completed in 54.9362 sec!"
     ]
    },
    {
     "name": "stderr",
     "output_type": "stream",
     "text": [
      "/home/docker/env/neurosci/lib/python3.9/site-packages/elephant/conversion.py:1170: UserWarning:Binning discarded 302 last spike(s) of the input spiketrain\n",
      "/home/docker/env/neurosci/lib/python3.9/site-packages/elephant/conversion.py:1170: UserWarning:Binning discarded 350 last spike(s) of the input spiketrain\n"
     ]
    },
    {
     "name": "stdout",
     "output_type": "stream",
     "text": [
      "\r",
      "...29.091% completed in 56.9484 sec!"
     ]
    },
    {
     "name": "stderr",
     "output_type": "stream",
     "text": [
      "/home/docker/env/neurosci/lib/python3.9/site-packages/elephant/conversion.py:1170: UserWarning:Binning discarded 662 last spike(s) of the input spiketrain\n",
      "/home/docker/env/neurosci/lib/python3.9/site-packages/elephant/conversion.py:1170: UserWarning:Binning discarded 1743 last spike(s) of the input spiketrain\n"
     ]
    },
    {
     "name": "stdout",
     "output_type": "stream",
     "text": [
      "\r",
      "...30.000% completed in 59.1734 sec!"
     ]
    },
    {
     "name": "stderr",
     "output_type": "stream",
     "text": [
      "/home/docker/env/neurosci/lib/python3.9/site-packages/elephant/conversion.py:1170: UserWarning:Binning discarded 719 last spike(s) of the input spiketrain\n",
      "/home/docker/env/neurosci/lib/python3.9/site-packages/elephant/conversion.py:1170: UserWarning:Binning discarded 612 last spike(s) of the input spiketrain\n"
     ]
    },
    {
     "name": "stdout",
     "output_type": "stream",
     "text": [
      "\r",
      "...30.909% completed in 61.1338 sec!"
     ]
    },
    {
     "name": "stderr",
     "output_type": "stream",
     "text": [
      "/home/docker/env/neurosci/lib/python3.9/site-packages/elephant/conversion.py:1170: UserWarning:Binning discarded 183 last spike(s) of the input spiketrain\n",
      "/home/docker/env/neurosci/lib/python3.9/site-packages/elephant/conversion.py:1170: UserWarning:Binning discarded 9 last spike(s) of the input spiketrain\n"
     ]
    },
    {
     "name": "stdout",
     "output_type": "stream",
     "text": [
      "\r",
      "...31.818% completed in 62.9094 sec!"
     ]
    },
    {
     "name": "stderr",
     "output_type": "stream",
     "text": [
      "/home/docker/env/neurosci/lib/python3.9/site-packages/elephant/conversion.py:1170: UserWarning:Binning discarded 424 last spike(s) of the input spiketrain\n",
      "/home/docker/env/neurosci/lib/python3.9/site-packages/elephant/conversion.py:1170: UserWarning:Binning discarded 327 last spike(s) of the input spiketrain\n"
     ]
    },
    {
     "name": "stdout",
     "output_type": "stream",
     "text": [
      "\r",
      "...32.727% completed in 64.6861 sec!"
     ]
    },
    {
     "name": "stderr",
     "output_type": "stream",
     "text": [
      "/home/docker/env/neurosci/lib/python3.9/site-packages/elephant/conversion.py:1170: UserWarning:Binning discarded 545 last spike(s) of the input spiketrain\n",
      "/home/docker/env/neurosci/lib/python3.9/site-packages/elephant/conversion.py:1170: UserWarning:Binning discarded 366 last spike(s) of the input spiketrain\n"
     ]
    },
    {
     "name": "stdout",
     "output_type": "stream",
     "text": [
      "\r",
      "...33.636% completed in 66.7973 sec!"
     ]
    },
    {
     "name": "stderr",
     "output_type": "stream",
     "text": [
      "/home/docker/env/neurosci/lib/python3.9/site-packages/elephant/conversion.py:1170: UserWarning:Binning discarded 396 last spike(s) of the input spiketrain\n",
      "/home/docker/env/neurosci/lib/python3.9/site-packages/elephant/conversion.py:1170: UserWarning:Binning discarded 205 last spike(s) of the input spiketrain\n"
     ]
    },
    {
     "name": "stdout",
     "output_type": "stream",
     "text": [
      "\r",
      "...34.545% completed in 68.7984 sec!"
     ]
    },
    {
     "name": "stderr",
     "output_type": "stream",
     "text": [
      "/home/docker/env/neurosci/lib/python3.9/site-packages/elephant/conversion.py:1170: UserWarning:Binning discarded 490 last spike(s) of the input spiketrain\n",
      "/home/docker/env/neurosci/lib/python3.9/site-packages/elephant/conversion.py:1170: UserWarning:Binning discarded 591 last spike(s) of the input spiketrain\n"
     ]
    },
    {
     "name": "stdout",
     "output_type": "stream",
     "text": [
      "\r",
      "...35.455% completed in 70.6472 sec!"
     ]
    },
    {
     "name": "stderr",
     "output_type": "stream",
     "text": [
      "/home/docker/env/neurosci/lib/python3.9/site-packages/elephant/conversion.py:1170: UserWarning:Binning discarded 412 last spike(s) of the input spiketrain\n",
      "/home/docker/env/neurosci/lib/python3.9/site-packages/elephant/conversion.py:1170: UserWarning:Binning discarded 435 last spike(s) of the input spiketrain\n"
     ]
    },
    {
     "name": "stdout",
     "output_type": "stream",
     "text": [
      "\r",
      "...36.364% completed in 72.5282 sec!"
     ]
    },
    {
     "name": "stderr",
     "output_type": "stream",
     "text": [
      "/home/docker/env/neurosci/lib/python3.9/site-packages/elephant/conversion.py:1170: UserWarning:Binning discarded 178 last spike(s) of the input spiketrain\n",
      "/home/docker/env/neurosci/lib/python3.9/site-packages/elephant/conversion.py:1170: UserWarning:Binning discarded 1499 last spike(s) of the input spiketrain\n"
     ]
    },
    {
     "name": "stdout",
     "output_type": "stream",
     "text": [
      "\r",
      "...37.273% completed in 74.4033 sec!"
     ]
    },
    {
     "name": "stderr",
     "output_type": "stream",
     "text": [
      "/home/docker/env/neurosci/lib/python3.9/site-packages/elephant/conversion.py:1170: UserWarning:Binning discarded 736 last spike(s) of the input spiketrain\n"
     ]
    },
    {
     "name": "stdout",
     "output_type": "stream",
     "text": [
      "\r",
      "...38.182% completed in 76.5795 sec!"
     ]
    },
    {
     "name": "stderr",
     "output_type": "stream",
     "text": [
      "/home/docker/env/neurosci/lib/python3.9/site-packages/elephant/conversion.py:1170: UserWarning:Binning discarded 245 last spike(s) of the input spiketrain\n",
      "/home/docker/env/neurosci/lib/python3.9/site-packages/elephant/conversion.py:1170: UserWarning:Binning discarded 410 last spike(s) of the input spiketrain\n"
     ]
    },
    {
     "name": "stdout",
     "output_type": "stream",
     "text": [
      "\r",
      "...39.091% completed in 78.6887 sec!"
     ]
    },
    {
     "name": "stderr",
     "output_type": "stream",
     "text": [
      "/home/docker/env/neurosci/lib/python3.9/site-packages/elephant/conversion.py:1170: UserWarning:Binning discarded 213 last spike(s) of the input spiketrain\n",
      "/home/docker/env/neurosci/lib/python3.9/site-packages/elephant/conversion.py:1170: UserWarning:Binning discarded 23 last spike(s) of the input spiketrain\n"
     ]
    },
    {
     "name": "stdout",
     "output_type": "stream",
     "text": [
      "\r",
      "...40.000% completed in 80.4977 sec!"
     ]
    },
    {
     "name": "stderr",
     "output_type": "stream",
     "text": [
      "/home/docker/env/neurosci/lib/python3.9/site-packages/elephant/conversion.py:1170: UserWarning:Binning discarded 526 last spike(s) of the input spiketrain\n",
      "/home/docker/env/neurosci/lib/python3.9/site-packages/elephant/conversion.py:1170: UserWarning:Binning discarded 468 last spike(s) of the input spiketrain\n"
     ]
    },
    {
     "name": "stdout",
     "output_type": "stream",
     "text": [
      "\r",
      "...40.909% completed in 82.19 sec!"
     ]
    },
    {
     "name": "stderr",
     "output_type": "stream",
     "text": [
      "/home/docker/env/neurosci/lib/python3.9/site-packages/elephant/conversion.py:1170: UserWarning:Binning discarded 97 last spike(s) of the input spiketrain\n",
      "/home/docker/env/neurosci/lib/python3.9/site-packages/elephant/conversion.py:1170: UserWarning:Binning discarded 163 last spike(s) of the input spiketrain\n"
     ]
    },
    {
     "name": "stdout",
     "output_type": "stream",
     "text": [
      "\r",
      "...41.818% completed in 83.9487 sec!"
     ]
    },
    {
     "name": "stderr",
     "output_type": "stream",
     "text": [
      "/home/docker/env/neurosci/lib/python3.9/site-packages/elephant/conversion.py:1170: UserWarning:Binning discarded 638 last spike(s) of the input spiketrain\n"
     ]
    },
    {
     "name": "stdout",
     "output_type": "stream",
     "text": [
      "\r",
      "...42.727% completed in 85.8436 sec!"
     ]
    },
    {
     "name": "stderr",
     "output_type": "stream",
     "text": [
      "/home/docker/env/neurosci/lib/python3.9/site-packages/elephant/conversion.py:1170: UserWarning:Binning discarded 537 last spike(s) of the input spiketrain\n",
      "/home/docker/env/neurosci/lib/python3.9/site-packages/elephant/conversion.py:1170: UserWarning:Binning discarded 383 last spike(s) of the input spiketrain\n"
     ]
    },
    {
     "name": "stdout",
     "output_type": "stream",
     "text": [
      "\r",
      "...43.636% completed in 87.6548 sec!"
     ]
    },
    {
     "name": "stderr",
     "output_type": "stream",
     "text": [
      "/home/docker/env/neurosci/lib/python3.9/site-packages/elephant/conversion.py:1170: UserWarning:Binning discarded 557 last spike(s) of the input spiketrain\n",
      "/home/docker/env/neurosci/lib/python3.9/site-packages/elephant/conversion.py:1170: UserWarning:Binning discarded 1585 last spike(s) of the input spiketrain\n"
     ]
    },
    {
     "name": "stdout",
     "output_type": "stream",
     "text": [
      "\r",
      "...44.545% completed in 89.3205 sec!"
     ]
    },
    {
     "name": "stderr",
     "output_type": "stream",
     "text": [
      "/home/docker/env/neurosci/lib/python3.9/site-packages/elephant/conversion.py:1170: UserWarning:Binning discarded 204 last spike(s) of the input spiketrain\n"
     ]
    },
    {
     "name": "stdout",
     "output_type": "stream",
     "text": [
      "\r",
      "...45.455% completed in 91.2892 sec!"
     ]
    },
    {
     "name": "stderr",
     "output_type": "stream",
     "text": [
      "/home/docker/env/neurosci/lib/python3.9/site-packages/elephant/conversion.py:1170: UserWarning:Binning discarded 184 last spike(s) of the input spiketrain\n",
      "/home/docker/env/neurosci/lib/python3.9/site-packages/elephant/conversion.py:1170: UserWarning:Binning discarded 369 last spike(s) of the input spiketrain\n",
      "/home/docker/env/neurosci/lib/python3.9/site-packages/elephant/conversion.py:1170: UserWarning:Binning discarded 8 last spike(s) of the input spiketrain\n"
     ]
    },
    {
     "name": "stdout",
     "output_type": "stream",
     "text": [
      "\r",
      "...46.364% completed in 93.1485 sec!"
     ]
    },
    {
     "name": "stderr",
     "output_type": "stream",
     "text": [
      "/home/docker/env/neurosci/lib/python3.9/site-packages/elephant/conversion.py:1170: UserWarning:Binning discarded 100 last spike(s) of the input spiketrain\n",
      "/home/docker/env/neurosci/lib/python3.9/site-packages/elephant/conversion.py:1170: UserWarning:Binning discarded 253 last spike(s) of the input spiketrain\n"
     ]
    },
    {
     "name": "stdout",
     "output_type": "stream",
     "text": [
      "\r",
      "...47.273% completed in 94.9918 sec!"
     ]
    },
    {
     "name": "stderr",
     "output_type": "stream",
     "text": [
      "/home/docker/env/neurosci/lib/python3.9/site-packages/elephant/conversion.py:1170: UserWarning:Binning discarded 580 last spike(s) of the input spiketrain\n",
      "/home/docker/env/neurosci/lib/python3.9/site-packages/elephant/conversion.py:1170: UserWarning:Binning discarded 411 last spike(s) of the input spiketrain\n"
     ]
    },
    {
     "name": "stdout",
     "output_type": "stream",
     "text": [
      "\r",
      "...48.182% completed in 97.2989 sec!"
     ]
    },
    {
     "name": "stderr",
     "output_type": "stream",
     "text": [
      "/home/docker/env/neurosci/lib/python3.9/site-packages/elephant/conversion.py:1170: UserWarning:Binning discarded 223 last spike(s) of the input spiketrain\n",
      "/home/docker/env/neurosci/lib/python3.9/site-packages/elephant/conversion.py:1170: UserWarning:Binning discarded 282 last spike(s) of the input spiketrain\n"
     ]
    },
    {
     "name": "stdout",
     "output_type": "stream",
     "text": [
      "\r",
      "...49.091% completed in 99.8063 sec!"
     ]
    },
    {
     "name": "stderr",
     "output_type": "stream",
     "text": [
      "/home/docker/env/neurosci/lib/python3.9/site-packages/elephant/conversion.py:1170: UserWarning:Binning discarded 579 last spike(s) of the input spiketrain\n",
      "/home/docker/env/neurosci/lib/python3.9/site-packages/elephant/conversion.py:1170: UserWarning:Binning discarded 371 last spike(s) of the input spiketrain\n"
     ]
    },
    {
     "name": "stdout",
     "output_type": "stream",
     "text": [
      "\r",
      "...50.000% completed in 102.625 sec!"
     ]
    },
    {
     "name": "stderr",
     "output_type": "stream",
     "text": [
      "/home/docker/env/neurosci/lib/python3.9/site-packages/elephant/conversion.py:1170: UserWarning:Binning discarded 503 last spike(s) of the input spiketrain\n",
      "/home/docker/env/neurosci/lib/python3.9/site-packages/elephant/conversion.py:1170: UserWarning:Binning discarded 533 last spike(s) of the input spiketrain\n"
     ]
    },
    {
     "name": "stdout",
     "output_type": "stream",
     "text": [
      "\r",
      "...50.909% completed in 104.526 sec!"
     ]
    },
    {
     "name": "stderr",
     "output_type": "stream",
     "text": [
      "/home/docker/env/neurosci/lib/python3.9/site-packages/elephant/conversion.py:1170: UserWarning:Binning discarded 121 last spike(s) of the input spiketrain\n",
      "/home/docker/env/neurosci/lib/python3.9/site-packages/elephant/conversion.py:1170: UserWarning:Binning discarded 1304 last spike(s) of the input spiketrain\n"
     ]
    },
    {
     "name": "stdout",
     "output_type": "stream",
     "text": [
      "\r",
      "...51.818% completed in 106.511 sec!"
     ]
    },
    {
     "name": "stderr",
     "output_type": "stream",
     "text": [
      "/home/docker/env/neurosci/lib/python3.9/site-packages/elephant/conversion.py:1170: UserWarning:Binning discarded 665 last spike(s) of the input spiketrain\n",
      "/home/docker/env/neurosci/lib/python3.9/site-packages/elephant/conversion.py:1170: UserWarning:Binning discarded 287 last spike(s) of the input spiketrain\n"
     ]
    },
    {
     "name": "stdout",
     "output_type": "stream",
     "text": [
      "\r",
      "...52.727% completed in 108.321 sec!"
     ]
    },
    {
     "name": "stderr",
     "output_type": "stream",
     "text": [
      "/home/docker/env/neurosci/lib/python3.9/site-packages/elephant/conversion.py:1170: UserWarning:Binning discarded 138 last spike(s) of the input spiketrain\n",
      "/home/docker/env/neurosci/lib/python3.9/site-packages/elephant/conversion.py:1170: UserWarning:Binning discarded 452 last spike(s) of the input spiketrain\n"
     ]
    },
    {
     "name": "stdout",
     "output_type": "stream",
     "text": [
      "\r",
      "...53.636% completed in 110.34 sec!"
     ]
    },
    {
     "name": "stderr",
     "output_type": "stream",
     "text": [
      "/home/docker/env/neurosci/lib/python3.9/site-packages/elephant/conversion.py:1170: UserWarning:Binning discarded 143 last spike(s) of the input spiketrain\n"
     ]
    },
    {
     "name": "stdout",
     "output_type": "stream",
     "text": [
      "\r",
      "...54.545% completed in 112.088 sec!"
     ]
    },
    {
     "name": "stderr",
     "output_type": "stream",
     "text": [
      "/home/docker/env/neurosci/lib/python3.9/site-packages/elephant/conversion.py:1170: UserWarning:Binning discarded 821 last spike(s) of the input spiketrain\n"
     ]
    },
    {
     "name": "stdout",
     "output_type": "stream",
     "text": [
      "\r",
      "...55.455% completed in 113.99 sec!"
     ]
    },
    {
     "name": "stderr",
     "output_type": "stream",
     "text": [
      "/home/docker/env/neurosci/lib/python3.9/site-packages/elephant/conversion.py:1170: UserWarning:Binning discarded 179 last spike(s) of the input spiketrain\n"
     ]
    },
    {
     "name": "stdout",
     "output_type": "stream",
     "text": [
      "\r",
      "...56.364% completed in 115.787 sec!"
     ]
    },
    {
     "name": "stderr",
     "output_type": "stream",
     "text": [
      "/home/docker/env/neurosci/lib/python3.9/site-packages/elephant/conversion.py:1170: UserWarning:Binning discarded 1075 last spike(s) of the input spiketrain\n",
      "/home/docker/env/neurosci/lib/python3.9/site-packages/elephant/conversion.py:1170: UserWarning:Binning discarded 11 last spike(s) of the input spiketrain\n"
     ]
    },
    {
     "name": "stdout",
     "output_type": "stream",
     "text": [
      "\r",
      "...57.273% completed in 117.574 sec!"
     ]
    },
    {
     "name": "stderr",
     "output_type": "stream",
     "text": [
      "/home/docker/env/neurosci/lib/python3.9/site-packages/elephant/conversion.py:1170: UserWarning:Binning discarded 405 last spike(s) of the input spiketrain\n"
     ]
    },
    {
     "name": "stdout",
     "output_type": "stream",
     "text": [
      "\r",
      "...58.182% completed in 119.551 sec!"
     ]
    },
    {
     "name": "stderr",
     "output_type": "stream",
     "text": [
      "/home/docker/env/neurosci/lib/python3.9/site-packages/elephant/conversion.py:1170: UserWarning:Binning discarded 166 last spike(s) of the input spiketrain\n"
     ]
    },
    {
     "name": "stdout",
     "output_type": "stream",
     "text": [
      "\r",
      "...59.091% completed in 121.649 sec!"
     ]
    },
    {
     "name": "stderr",
     "output_type": "stream",
     "text": [
      "/home/docker/env/neurosci/lib/python3.9/site-packages/elephant/conversion.py:1170: UserWarning:Binning discarded 880 last spike(s) of the input spiketrain\n",
      "/home/docker/env/neurosci/lib/python3.9/site-packages/elephant/conversion.py:1170: UserWarning:Binning discarded 292 last spike(s) of the input spiketrain\n"
     ]
    },
    {
     "name": "stdout",
     "output_type": "stream",
     "text": [
      "\r",
      "...60.000% completed in 123.504 sec!"
     ]
    },
    {
     "name": "stderr",
     "output_type": "stream",
     "text": [
      "/home/docker/env/neurosci/lib/python3.9/site-packages/elephant/conversion.py:1170: UserWarning:Binning discarded 160 last spike(s) of the input spiketrain\n",
      "/home/docker/env/neurosci/lib/python3.9/site-packages/elephant/conversion.py:1170: UserWarning:Binning discarded 360 last spike(s) of the input spiketrain\n"
     ]
    },
    {
     "name": "stdout",
     "output_type": "stream",
     "text": [
      "\r",
      "...60.909% completed in 125.521 sec!"
     ]
    },
    {
     "name": "stderr",
     "output_type": "stream",
     "text": [
      "/home/docker/env/neurosci/lib/python3.9/site-packages/elephant/conversion.py:1170: UserWarning:Binning discarded 101 last spike(s) of the input spiketrain\n",
      "/home/docker/env/neurosci/lib/python3.9/site-packages/elephant/conversion.py:1170: UserWarning:Binning discarded 141 last spike(s) of the input spiketrain\n"
     ]
    },
    {
     "name": "stdout",
     "output_type": "stream",
     "text": [
      "\r",
      "...61.818% completed in 127.354 sec!"
     ]
    },
    {
     "name": "stderr",
     "output_type": "stream",
     "text": [
      "/home/docker/env/neurosci/lib/python3.9/site-packages/elephant/conversion.py:1170: UserWarning:Binning discarded 781 last spike(s) of the input spiketrain\n",
      "/home/docker/env/neurosci/lib/python3.9/site-packages/elephant/conversion.py:1170: UserWarning:Binning discarded 699 last spike(s) of the input spiketrain\n"
     ]
    },
    {
     "name": "stdout",
     "output_type": "stream",
     "text": [
      "...63.636% completed in 130.959 sec!"
     ]
    },
    {
     "name": "stderr",
     "output_type": "stream",
     "text": [
      "/home/docker/env/neurosci/lib/python3.9/site-packages/elephant/conversion.py:1170: UserWarning:Binning discarded 1224 last spike(s) of the input spiketrain\n",
      "/home/docker/env/neurosci/lib/python3.9/site-packages/elephant/conversion.py:1170: UserWarning:Binning discarded 737 last spike(s) of the input spiketrain\n"
     ]
    },
    {
     "name": "stdout",
     "output_type": "stream",
     "text": [
      "\r",
      "...64.545% completed in 132.872 sec!"
     ]
    },
    {
     "name": "stderr",
     "output_type": "stream",
     "text": [
      "/home/docker/env/neurosci/lib/python3.9/site-packages/elephant/conversion.py:1170: UserWarning:Binning discarded 398 last spike(s) of the input spiketrain\n"
     ]
    },
    {
     "name": "stdout",
     "output_type": "stream",
     "text": [
      "\r",
      "...65.455% completed in 134.831 sec!"
     ]
    },
    {
     "name": "stderr",
     "output_type": "stream",
     "text": [
      "/home/docker/env/neurosci/lib/python3.9/site-packages/elephant/conversion.py:1170: UserWarning:Binning discarded 113 last spike(s) of the input spiketrain\n",
      "/home/docker/env/neurosci/lib/python3.9/site-packages/elephant/conversion.py:1170: UserWarning:Binning discarded 201 last spike(s) of the input spiketrain\n"
     ]
    },
    {
     "name": "stdout",
     "output_type": "stream",
     "text": [
      "\r",
      "...66.364% completed in 136.618 sec!"
     ]
    },
    {
     "name": "stderr",
     "output_type": "stream",
     "text": [
      "/home/docker/env/neurosci/lib/python3.9/site-packages/elephant/conversion.py:1170: UserWarning:Binning discarded 602 last spike(s) of the input spiketrain\n",
      "/home/docker/env/neurosci/lib/python3.9/site-packages/elephant/conversion.py:1170: UserWarning:Binning discarded 750 last spike(s) of the input spiketrain\n"
     ]
    },
    {
     "name": "stdout",
     "output_type": "stream",
     "text": [
      "\r",
      "...67.273% completed in 138.341 sec!"
     ]
    },
    {
     "name": "stderr",
     "output_type": "stream",
     "text": [
      "/home/docker/env/neurosci/lib/python3.9/site-packages/elephant/conversion.py:1170: UserWarning:Binning discarded 422 last spike(s) of the input spiketrain\n"
     ]
    },
    {
     "name": "stdout",
     "output_type": "stream",
     "text": [
      "\r",
      "...68.182% completed in 140.124 sec!"
     ]
    },
    {
     "name": "stderr",
     "output_type": "stream",
     "text": [
      "/home/docker/env/neurosci/lib/python3.9/site-packages/elephant/conversion.py:1170: UserWarning:Binning discarded 235 last spike(s) of the input spiketrain\n",
      "/home/docker/env/neurosci/lib/python3.9/site-packages/elephant/conversion.py:1170: UserWarning:Binning discarded 167 last spike(s) of the input spiketrain\n"
     ]
    },
    {
     "name": "stdout",
     "output_type": "stream",
     "text": [
      "\r",
      "...69.091% completed in 141.746 sec!"
     ]
    },
    {
     "name": "stderr",
     "output_type": "stream",
     "text": [
      "/home/docker/env/neurosci/lib/python3.9/site-packages/elephant/conversion.py:1170: UserWarning:Binning discarded 540 last spike(s) of the input spiketrain\n",
      "/home/docker/env/neurosci/lib/python3.9/site-packages/elephant/conversion.py:1170: UserWarning:Binning discarded 544 last spike(s) of the input spiketrain\n"
     ]
    },
    {
     "name": "stdout",
     "output_type": "stream",
     "text": [
      "\r",
      "...70.000% completed in 143.448 sec!"
     ]
    },
    {
     "name": "stderr",
     "output_type": "stream",
     "text": [
      "/home/docker/env/neurosci/lib/python3.9/site-packages/elephant/conversion.py:1170: UserWarning:Binning discarded 103 last spike(s) of the input spiketrain\n",
      "/home/docker/env/neurosci/lib/python3.9/site-packages/elephant/conversion.py:1170: UserWarning:Binning discarded 207 last spike(s) of the input spiketrain\n"
     ]
    },
    {
     "name": "stdout",
     "output_type": "stream",
     "text": [
      "\r",
      "...70.909% completed in 145.153 sec!"
     ]
    },
    {
     "name": "stderr",
     "output_type": "stream",
     "text": [
      "/home/docker/env/neurosci/lib/python3.9/site-packages/elephant/conversion.py:1170: UserWarning:Binning discarded 1206 last spike(s) of the input spiketrain\n",
      "/home/docker/env/neurosci/lib/python3.9/site-packages/elephant/conversion.py:1170: UserWarning:Binning discarded 606 last spike(s) of the input spiketrain\n"
     ]
    },
    {
     "name": "stdout",
     "output_type": "stream",
     "text": [
      "\r",
      "...71.818% completed in 146.826 sec!"
     ]
    },
    {
     "name": "stderr",
     "output_type": "stream",
     "text": [
      "/home/docker/env/neurosci/lib/python3.9/site-packages/elephant/conversion.py:1170: UserWarning:Binning discarded 341 last spike(s) of the input spiketrain\n"
     ]
    },
    {
     "name": "stdout",
     "output_type": "stream",
     "text": [
      "\r",
      "...72.727% completed in 148.407 sec!"
     ]
    },
    {
     "name": "stderr",
     "output_type": "stream",
     "text": [
      "/home/docker/env/neurosci/lib/python3.9/site-packages/elephant/conversion.py:1170: UserWarning:Binning discarded 385 last spike(s) of the input spiketrain\n",
      "/home/docker/env/neurosci/lib/python3.9/site-packages/elephant/conversion.py:1170: UserWarning:Binning discarded 136 last spike(s) of the input spiketrain\n"
     ]
    },
    {
     "name": "stdout",
     "output_type": "stream",
     "text": [
      "\r",
      "...73.636% completed in 150.067 sec!"
     ]
    },
    {
     "name": "stderr",
     "output_type": "stream",
     "text": [
      "/home/docker/env/neurosci/lib/python3.9/site-packages/elephant/conversion.py:1170: UserWarning:Binning discarded 661 last spike(s) of the input spiketrain\n",
      "/home/docker/env/neurosci/lib/python3.9/site-packages/elephant/conversion.py:1170: UserWarning:Binning discarded 710 last spike(s) of the input spiketrain\n"
     ]
    },
    {
     "name": "stdout",
     "output_type": "stream",
     "text": [
      "\r",
      "...74.545% completed in 151.79 sec!"
     ]
    }
   ],
   "source": [
    "results, transient, simulator, nest_network = simulate_tvb_nest(simulator, nest_network, config, \n",
    "                                                                neuron_models, neuron_number, print_flag=True)\n"
   ]
  },
  {
   "cell_type": "code",
   "execution_count": null,
   "id": "7140ad06",
   "metadata": {
    "scrolled": false
   },
   "outputs": [],
   "source": [
    "import plotly.graph_objs as go\n",
    "from plotly.subplots import make_subplots\n",
    "\n",
    "goc_events = nest_network.output_devices['golgi_cell']['Left Ansiform lobule'].events\n",
    "goc_evs = goc_events['senders']\n",
    "goc_times = goc_events['times']\n",
    "\n",
    "# grc_events = nest_network.output_devices['granule_cell']['Left Ansiform Lobule'].events\n",
    "# grc_evs = grc_events['senders']\n",
    "# grc_times = grc_events['times']\n",
    "# n_events = len(grc_times)\n",
    "# random_inds = random.sample(list(range(n_events)), int(n_events * 0.1))\n",
    "# grc_evs = grc_evs[random_inds]\n",
    "# grc_times = grc_times[random_inds]\n",
    "\n",
    "glom_events = nest_network.output_devices['glomerulus']['Left Ansiform lobule'].events\n",
    "glom_evs = glom_events['senders']\n",
    "glom_times = glom_events['times']\n",
    "\n",
    "pc_events = nest_network.output_devices['purkinje_cell']['Left Ansiform lobule'].events\n",
    "pc_evs = pc_events['senders']\n",
    "pc_times = pc_events['times']\n",
    "\n",
    "sc_events = nest_network.output_devices['stellate_cell']['Left Ansiform lobule'].events\n",
    "sc_evs = sc_events['senders']\n",
    "sc_times = sc_events['times']\n",
    "\n",
    "bc_events = nest_network.output_devices['basket_cell']['Left Ansiform lobule'].events\n",
    "bc_evs = bc_events['senders']\n",
    "bc_times = bc_events['times']\n",
    "\n",
    "io_events = nest_network.output_devices['io_cell']['Left Inferior olivary complex'].events\n",
    "io_evs = io_events['senders']\n",
    "io_times = io_events['times']\n",
    "\n",
    "dcng_events = nest_network.output_devices['dcn_cell_GABA']['Left Interposed nucleus'].events\n",
    "dcng_evs = dcng_events['senders']\n",
    "dcng_times = dcng_events['times']\n",
    "\n",
    "dcn_events = nest_network.output_devices['dcn_cell_glut_large']['Left Interposed nucleus'].events\n",
    "dcn_evs = dcn_events['senders']\n",
    "dcn_times = dcn_events['times']\n",
    "\n",
    "\n",
    "# ######################### PLOTTING PSTH AND RASTER PLOTS ########################\n",
    "\n",
    "CELL_TO_PLOT = ['glomerulus',  'basket_cell', 'stellate_cell', 'purkinje_cell',\n",
    "                'io_cell', 'dcn_cell_GABA',  'dcn_cell_glut_large']  # 'granule_cell',\n",
    "\n",
    "cells = {# 'granule_cell': [grc_times, grc_evs],\n",
    "         'golgi_cell': [goc_times, goc_evs],\n",
    "         'glomerulus': [glom_times, glom_evs],\n",
    "         'purkinje_cell': [pc_times, pc_evs],\n",
    "         'stellate_cell': [sc_times, sc_evs],\n",
    "         'basket_cell': [bc_times, bc_evs],\n",
    "         'io_cell': [io_times, io_evs],\n",
    "         'dcn_cell_GABA': [dcng_times, dcng_evs],\n",
    "         'dcn_cell_glut_large': [dcn_times, dcn_evs]}\n",
    "\n",
    "color = {'granule_cell': '#E62214',  # 'rgba(255, 0, 0, .8)',\n",
    "         'golgi_cell': '#332EBC',  # 'rgba(0, 255, 0, .8)',\n",
    "         'glomerulus': '#0E1030',  # rgba(0, 0, 0, .8)',\n",
    "         'purkinje_cell': '#0F8944',  # 'rgba(64, 224, 208, .8)',\n",
    "         'stellate_cell': '#FFC425',  # 'rgba(234, 10, 142, .8)',\n",
    "         'basket_cell': '#F37735',\n",
    "         'io_cell': 'rgba(75, 75, 75, .8)',\n",
    "         'dcn_cell_GABA': 'rgba(100, 100, 100, .8)',\n",
    "         'dcn_cell_glut_large': '#080808'}  # 'rgba(234, 10, 142, .8)'}\n",
    "\n",
    "# PSTH\n",
    "\n",
    "def metrics(spikeData, TrialDuration, cell, figure_handle, sel_row):\n",
    "    id_spikes = np.sort(np.unique(spikeData, return_index=True))\n",
    "    bin_size = 5  # [ms]\n",
    "    n_bins = int(TrialDuration / bin_size) + 1\n",
    "    psth, tms = np.histogram(spikeData, bins=n_bins, range=(0, TrialDuration))\n",
    "\n",
    "    # absolute frequency\n",
    "    abs_freq = np.zeros(id_spikes[0].shape[0])\n",
    "    for idx, i in enumerate(id_spikes[0]):\n",
    "        count = np.where(spikeData == i)[0]\n",
    "        abs_freq[idx] = count.shape[0]\n",
    "\n",
    "    # mean frequency\n",
    "    m_f = (id_spikes[0].shape[0]) / ((TrialDuration / 1000) * len(neuron_models[cell]))\n",
    "\n",
    "    layout = go.Layout(\n",
    "        scene=dict(aspectmode='data'),\n",
    "        xaxis={'title': 'time (ms)'},\n",
    "        yaxis={'title': 'number of spikes'}\n",
    "    )\n",
    "\n",
    "    figure_handle.add_trace(go.Bar(\n",
    "        x=tms[0:len(tms) - 1],\n",
    "        y=psth / ((bin_size * 0.001) * neuron_number[cell]),\n",
    "        width=4.0,\n",
    "        marker=dict(\n",
    "            color=color[cell])\n",
    "    ), row=sel_row, col=1)\n",
    "\n",
    "    print(\"mean frequency: \", int(m_f))\n",
    "\n",
    "    return tms\n",
    "\n",
    "# RASTER\n",
    "def raster(times, cell_ids, cell, fig_handle, sel_row):\n",
    "    trace0 = go.Scatter(\n",
    "        x=times,\n",
    "        y=cell_ids,\n",
    "        name='',\n",
    "        mode='markers',\n",
    "        marker=dict(\n",
    "            size=4,\n",
    "            color=color[cell],\n",
    "            line=dict(\n",
    "                width=.2,\n",
    "                color='rgb(0, 0, 0)'\n",
    "            )\n",
    "        )\n",
    "    )\n",
    "    fig_handle.add_trace(trace0, row=sel_row, col=1)\n",
    "\n",
    "fig_psth = make_subplots(rows=len(CELL_TO_PLOT), cols=1, subplot_titles=CELL_TO_PLOT, x_title='Time [ms]',\n",
    "                         y_title='Frequency [Hz]')\n",
    "# fig_raster = make_subplots(rows=len(CELL_TO_PLOT), cols=1, subplot_titles=CELL_TO_PLOT, x_title='Time [ms]',\n",
    "#                            y_title='# cells')\n",
    "num = 1\n",
    "for c in CELL_TO_PLOT:\n",
    "    times = cells[c][0]\n",
    "    cell_ids = cells[c][1]\n",
    "    metrics(times, config.SIMULATION_LENGTH, c, fig_psth, num)\n",
    "    # raster(times, cell_ids, c, fig_raster, num)\n",
    "    num += 1\n",
    "fig_psth.update_xaxes(range=[0, config.SIMULATION_LENGTH])  # range=[1000, 2000]\n",
    "# fig_raster.update_xaxes(range=[1000, 2000])\n",
    "fig_psth.update_layout(showlegend=False)\n",
    "# fig_raster.update_layout(showlegend=False)\n",
    "fig_psth.show()\n",
    "# fig_raster.show()\n"
   ]
  },
  {
   "cell_type": "code",
   "execution_count": null,
   "id": "b1a2877a",
   "metadata": {},
   "outputs": [],
   "source": [
    "fig_psth.write_image(\"images/snn_psth_whisking.png\")\n",
    "# fig_raster.write_image(\"images/snn_raster_whisking.png\")"
   ]
  },
  {
   "cell_type": "code",
   "execution_count": null,
   "id": "3ca87a60",
   "metadata": {},
   "outputs": [],
   "source": [
    "# priors = priors_samples_per_batch_for_iG(priors_samples=None,\n",
    "#                                          iG=1, config=config, write_to_files=True)\n"
   ]
  },
  {
   "cell_type": "code",
   "execution_count": null,
   "id": "5dfca0aa",
   "metadata": {},
   "outputs": [],
   "source": [
    "# sim_res = np.load(os.path.join(config.out.FOLDER_RES, \"bsr_iG01_000.npy\"), allow_pickle=True)"
   ]
  },
  {
   "cell_type": "code",
   "execution_count": null,
   "id": "850c06c5",
   "metadata": {
    "scrolled": true
   },
   "outputs": [],
   "source": [
    "# samples_fit_Gs, results, fig, simulator, config = sbi_fit(1, config=None);\n",
    "# run_workflow(plot_flag=True)"
   ]
  },
  {
   "cell_type": "code",
   "execution_count": null,
   "id": "792aad94",
   "metadata": {
    "scrolled": false
   },
   "outputs": [],
   "source": [
    "# fig"
   ]
  },
  {
   "cell_type": "markdown",
   "id": "b4125830",
   "metadata": {},
   "source": [
    "# Plot results and write them to HDF5 files"
   ]
  },
  {
   "cell_type": "code",
   "execution_count": null,
   "id": "ad7c58e8",
   "metadata": {},
   "outputs": [],
   "source": [
    "from scipy.io import savemat\n",
    "# set to False for faster plotting of only mean field variables and dates, apart from spikes\" rasters:\n",
    "plot_per_neuron = False  \n",
    "MAX_VARS_IN_COLS = 2\n",
    "MAX_REGIONS_IN_ROWS = 10\n",
    "MIN_REGIONS_FOR_RASTER_PLOT = 9\n",
    "# from examples.plot_write_results import plot_write_results\n",
    "# plot_write_results(results, simulator, populations=populations, \n",
    "#                    transient=transient, tvb_state_variable_type_label=\"State Variables\", \n",
    "#                    tvb_state_variables_labels=simulator.model.variables_of_interest, \n",
    "#                    plot_per_neuron=plot_per_neuron, plotter=plotter, config=config)\n",
    "from tvb_multiscale.core.plot.plotter import Plotter\n",
    "plotter = Plotter(config.figures)\n",
    "# Load connectome and other structural files\n",
    "connectome, major_structs_labels, voxel_count, inds = load_connectome(config, plotter=plotter)\n",
    "# Construct some more indices and maps\n",
    "inds, maps = construct_extra_inds_and_maps(connectome, inds)\n",
    "# inds = config.inds\n",
    "# maps = config.maps\n",
    "# transient = config.transient + 0.5\n",
    "transient += 0.5\n",
    "simulation_length = simulator.simulation_length\n",
    "FIGSIZE = config.figures.DEFAULT_SIZE\n"
   ]
  },
  {
   "cell_type": "code",
   "execution_count": null,
   "id": "aee226d2",
   "metadata": {},
   "outputs": [],
   "source": [
    "# If you want to see what the function above does, take the steps, one by one\n",
    "try:\n",
    "    # We need framework_tvb for writing and reading from HDF5 files\n",
    "    from tvb_multiscale.core.tvb.io.h5_writer import H5Writer\n",
    "    writer = H5Writer()\n",
    "except:\n",
    "    writer = False\n",
    "    \n",
    "from tvb.contrib.scripts.datatypes.time_series import TimeSeriesRegion\n",
    "from tvb.contrib.scripts.datatypes.time_series_xarray import TimeSeriesRegion as TimeSeriesXarray\n",
    "\n",
    "# Put the results in a Timeseries instance\n",
    "from tvb.contrib.scripts.datatypes.time_series import TimeSeriesRegion\n",
    "\n",
    "source_ts = None\n",
    "bold_ts = None\n",
    "\n",
    "if results is not None:\n",
    "    source_ts = TimeSeriesXarray(  # substitute with TimeSeriesRegion fot TVB like functionality\n",
    "            data=results[0][1], time=results[0][0],\n",
    "            connectivity=simulator.connectivity,\n",
    "            labels_ordering=[\"Time\", \"State Variable\", \"Region\", \"Neurons\"],\n",
    "            labels_dimensions={\"State Variable\": list(simulator.model.variables_of_interest),\n",
    "                               \"Region\": simulator.connectivity.region_labels.tolist()},\n",
    "            sample_period=simulator.integrator.dt)\n",
    "    source_ts.configure()\n",
    "\n",
    "    t = source_ts.time\n",
    "\n",
    "    # Write to file\n",
    "    if writer:\n",
    "        writer.write_tvb_to_h5(TimeSeriesRegion().from_xarray_DataArray(source_ts._data,\n",
    "                                                                        connectivity=source_ts.connectivity),\n",
    "                               os.path.join(config.out.FOLDER_RES, source_ts.title)+\".h5\")\n",
    "    print(\"Raw ts:\\n%s\" % str(source_ts))\n",
    "    \n",
    "    if len(results) > 1:\n",
    "        bold_ts = TimeSeriesXarray(  # substitute with TimeSeriesRegion fot TVB like functionality\n",
    "                data=results[1][1], time=results[1][0],\n",
    "                connectivity=simulator.connectivity,\n",
    "                labels_ordering=[\"Time\", \"State Variable\", \"Region\", \"Neurons\"],\n",
    "                labels_dimensions={\"State Variable\": [\"BOLD\"],\n",
    "                                   \"Region\": simulator.connectivity.region_labels.tolist()})\n",
    "        bold_ts.configure()\n",
    "\n",
    "        bold_t = source_ts.time\n",
    "\n",
    "        # Write to file\n",
    "        if writer:\n",
    "            writer.write_tvb_to_h5(TimeSeriesRegion().from_xarray_DataArray(bold_ts._data,\n",
    "                                                                            connectivity=bold_ts.connectivity),\n",
    "                                   os.path.join(config.out.FOLDER_RES, bold_ts.title)+\".h5\")\n",
    "        print(\"BOLD ts:\\n%s\" % str(bold_ts))\n",
    "    "
   ]
  },
  {
   "cell_type": "code",
   "execution_count": null,
   "id": "980edca2",
   "metadata": {
    "scrolled": true
   },
   "outputs": [],
   "source": [
    "# Plot TVB time series\n",
    "if source_ts is not None:\n",
    "    source_ts[:, :, :, :].plot_timeseries(plotter_config=plotter.config, \n",
    "                          hue=\"Region\" if source_ts.shape[2] > MAX_REGIONS_IN_ROWS else None, \n",
    "                          per_variable=source_ts.shape[1] > MAX_VARS_IN_COLS, \n",
    "                          figsize=FIGSIZE);"
   ]
  },
  {
   "cell_type": "code",
   "execution_count": null,
   "id": "b2d17510",
   "metadata": {
    "scrolled": false
   },
   "outputs": [],
   "source": [
    "# Focus on the m1 and s1 barrel field nodes: \n",
    "if source_ts is not None:\n",
    "    source_ts_m1s1brl = source_ts[-10000:, :, inds[\"m1s1brl\"]]\n",
    "    source_ts_m1s1brl.plot_timeseries(plotter_config=plotter.config, \n",
    "                                   hue=\"Region\" if source_ts_m1s1brl.shape[2] > MAX_REGIONS_IN_ROWS else None, \n",
    "                                   per_variable=source_ts_m1s1brl.shape[1] > MAX_VARS_IN_COLS, \n",
    "                                   figsize=FIGSIZE, figname=\"M1 and S1 barrel field nodes TVB Time Series\");"
   ]
  },
  {
   "cell_type": "code",
   "execution_count": null,
   "id": "c78bf04e",
   "metadata": {
    "scrolled": false
   },
   "outputs": [],
   "source": [
    "# Focus on the m1 and s1 barrel field nodes: raster plot\n",
    "if source_ts is not None and source_ts_m1s1brl.number_of_labels > MIN_REGIONS_FOR_RASTER_PLOT:\n",
    "    source_ts_m1s1brl.plot_raster(plotter_config=plotter.config, \n",
    "                                  per_variable=source_ts_m1s1brl.shape[1] > MAX_VARS_IN_COLS,\n",
    "                                  figsize=FIGSIZE, figname=\"M1 and S1 barrel field nodes TVB Time Series Raster\");"
   ]
  },
  {
   "cell_type": "code",
   "execution_count": null,
   "id": "df21fc5b",
   "metadata": {
    "scrolled": false
   },
   "outputs": [],
   "source": [
    "# Focus on the the motor pathway: \n",
    "if source_ts is not None:\n",
    "    source_ts_motor = source_ts[-10000:, :, inds[\"motor\"]]\n",
    "    source_ts_motor.plot_timeseries(plotter_config=plotter.config, \n",
    "                                   hue=\"Region\" if source_ts_motor.shape[2] > MAX_REGIONS_IN_ROWS else None, \n",
    "                                   per_variable=source_ts_motor.shape[1] > MAX_VARS_IN_COLS, \n",
    "                                   figsize=FIGSIZE, figname=\"Motor pathway TVB Time Series\");"
   ]
  },
  {
   "cell_type": "code",
   "execution_count": null,
   "id": "f2136959",
   "metadata": {
    "scrolled": false
   },
   "outputs": [],
   "source": [
    "# Focus on the motor pathway: raster plot\n",
    "if source_ts_motor is not None and source_ts_motor.number_of_labels > MIN_REGIONS_FOR_RASTER_PLOT:\n",
    "    source_ts_motor.plot_raster(plotter_config=plotter.config, \n",
    "                                  per_variable=source_ts_motor.shape[1] > MAX_VARS_IN_COLS,\n",
    "                                  figsize=FIGSIZE, figname=\"Motor pathway TVB Time Series Raster\");"
   ]
  },
  {
   "cell_type": "code",
   "execution_count": null,
   "id": "203f57cf",
   "metadata": {
    "scrolled": true
   },
   "outputs": [],
   "source": [
    "# Focus on the sensory pathway: \n",
    "if source_ts is not None:\n",
    "    source_ts_sens = source_ts[-10000:, :, inds[\"sens\"]]\n",
    "    source_ts_sens.plot_timeseries(plotter_config=plotter.config, \n",
    "                                   hue=\"Region\" if source_ts_sens.shape[2] > MAX_REGIONS_IN_ROWS else None, \n",
    "                                   per_variable=source_ts_sens.shape[1] > MAX_VARS_IN_COLS, \n",
    "                                   figsize=FIGSIZE, figname=\"Sensory pathway TVB Time Series\");"
   ]
  },
  {
   "cell_type": "code",
   "execution_count": null,
   "id": "233d0dfc",
   "metadata": {
    "scrolled": false
   },
   "outputs": [],
   "source": [
    "# Focus on the sensory pathway: raster plot\n",
    "if source_ts is not None and source_ts_sens.number_of_labels > MIN_REGIONS_FOR_RASTER_PLOT:\n",
    "    source_ts_sens.plot_raster(plotter_config=plotter.config, \n",
    "                               per_variable=source_ts_sens.shape[1] > MAX_VARS_IN_COLS,\n",
    "                               figsize=FIGSIZE, figname=\"Sensory pathway TVB Time Series Raster\");"
   ]
  },
  {
   "cell_type": "code",
   "execution_count": null,
   "id": "d3c344c3",
   "metadata": {
    "scrolled": true
   },
   "outputs": [],
   "source": [
    "# bold_ts TVB time series\n",
    "if bold_ts is not None:\n",
    "    bold_ts.plot_timeseries(plotter_config=plotter.config, \n",
    "                            hue=\"Region\" if bold_ts.shape[2] > MAX_REGIONS_IN_ROWS else None, \n",
    "                            per_variable=bold_ts.shape[1] > MAX_VARS_IN_COLS, \n",
    "                            figsize=FIGSIZE);"
   ]
  },
  {
   "cell_type": "code",
   "execution_count": null,
   "id": "69ca0aef",
   "metadata": {
    "scrolled": false
   },
   "outputs": [],
   "source": [
    "# # Focus on the m1 and s1 barrel field nodes: \n",
    "# if bold_ts is not None:\n",
    "#     bold_ts_m1s1brl = bold_ts[-10000:, :, inds[\"m1s1brl\"]]\n",
    "#     bold_ts_m1s1brl.plot_timeseries(plotter_config=plotter.config, \n",
    "#                                     hue=\"Region\" if bold_ts_m1s1brl.shape[2] > MAX_REGIONS_IN_ROWS else None, \n",
    "#                                     per_variable=bold_ts_m1s1brl.shape[1] > MAX_VARS_IN_COLS, \n",
    "#                                     figsize=FIGSIZE, figname=\"M1 and S1 barrel field nodes BOLD Time Series\");"
   ]
  },
  {
   "cell_type": "code",
   "execution_count": null,
   "id": "ed63740b",
   "metadata": {
    "scrolled": false
   },
   "outputs": [],
   "source": [
    "# # Focus on the m1 and s1 barrel field nodes: raster plot\n",
    "# if bold_ts is not None and bold_ts_m1s1brl.number_of_labels > MIN_REGIONS_FOR_RASTER_PLOT:\n",
    "#     bold_ts_m1s1brl.plot_raster(plotter_config=plotter.config, \n",
    "#                                 per_variable=bold_ts_m1s1brl.shape[1] > MAX_VARS_IN_COLS,\n",
    "#                                 figsize=FIGSIZE, figname=\"M1 and S1 barrel field nodes BOLD Time Series Raster\");"
   ]
  },
  {
   "cell_type": "code",
   "execution_count": null,
   "id": "cd1981e9",
   "metadata": {
    "scrolled": true
   },
   "outputs": [],
   "source": [
    "# # Focus on the the motor pathway: \n",
    "# if bold_ts is not None:\n",
    "#     bold_ts_motor = bold_ts[-10000:, :, inds[\"motor\"]]\n",
    "#     bold_ts_motor.plot_timeseries(plotter_config=plotter.config, \n",
    "#                                    hue=\"Region\" if bold_ts_motor.shape[2] > MAX_REGIONS_IN_ROWS else None, \n",
    "#                                    per_variable=bold_ts_motor.shape[1] > MAX_VARS_IN_COLS, \n",
    "#                                    figsize=FIGSIZE, figname=\"Motor pathway BOLD Time Series\");"
   ]
  },
  {
   "cell_type": "code",
   "execution_count": null,
   "id": "04895bc7",
   "metadata": {
    "scrolled": false
   },
   "outputs": [],
   "source": [
    "# # Focus on the motor pathway: raster plot\n",
    "# if bold_ts is not None and bold_ts_motor.number_of_labels > MIN_REGIONS_FOR_RASTER_PLOT:\n",
    "#     bold_ts_motor.plot_raster(plotter_config=plotter.config, \n",
    "#                               per_variable=bold_ts_motor.shape[1] > MAX_VARS_IN_COLS,\n",
    "#                               figsize=FIGSIZE, figname=\"Motor pathway BOLD Time Series Raster\");"
   ]
  },
  {
   "cell_type": "code",
   "execution_count": null,
   "id": "1ca5e916",
   "metadata": {
    "scrolled": false
   },
   "outputs": [],
   "source": [
    "# # Focus on the sensory pathway: \n",
    "# if bold_ts is not None:\n",
    "#     bold_ts_sens = bold_ts[-10000:, :, inds[\"sens\"]]\n",
    "#     bold_ts_sens.plot_timeseries(plotter_config=plotter.config, \n",
    "#                                  hue=\"Region\" if bold_ts_sens.shape[2] > MAX_REGIONS_IN_ROWS else None, \n",
    "#                                  per_variable=bold_ts_sens.shape[1] > MAX_VARS_IN_COLS, \n",
    "#                                  figsize=FIGSIZE, figname=\"Sensory pathway BOLD Time Series\");"
   ]
  },
  {
   "cell_type": "code",
   "execution_count": null,
   "id": "da827c3a",
   "metadata": {
    "scrolled": false
   },
   "outputs": [],
   "source": [
    "# # Focus on the sensory pathway: raster plot\n",
    "# if bold_ts is not None and bold_ts_sens.number_of_labels > MIN_REGIONS_FOR_RASTER_PLOT:\n",
    "#     bold_ts_sens.plot_raster(plotter_config=plotter.config, \n",
    "#                              per_variable=bold_ts_sens.shape[1] > MAX_VARS_IN_COLS,\n",
    "#                              figsize=FIGSIZE, figname=\"Sensory pathway BOLD Time Series Raster\");"
   ]
  },
  {
   "cell_type": "markdown",
   "id": "c1b98347",
   "metadata": {},
   "source": [
    "### Interactive time series plot"
   ]
  },
  {
   "cell_type": "code",
   "execution_count": null,
   "id": "f4eb4cc5",
   "metadata": {},
   "outputs": [],
   "source": [
    "# # ...interactively as well\n",
    "# # For interactive plotting:\n",
    "# %matplotlib notebook \n",
    "# plotter.plot_timeseries_interactive(source_ts)"
   ]
  },
  {
   "cell_type": "code",
   "execution_count": null,
   "id": "fbecfba5",
   "metadata": {
    "scrolled": false
   },
   "outputs": [],
   "source": [
    "# # For interactive plotting:\n",
    "# %matplotlib notebook  \n",
    "\n",
    "\n",
    "# from tvb.datatypes.time_series import TimeSeries\n",
    "# from tvb.contrib.scripts.plot.power_spectra_interactive import PowerSpectraInteractive\n",
    "\n",
    "# tsr = TimeSeries(data=source_ts[1000:, 0, inds[\"m1s1brl\"]]._data.values, sample_period=source_ts.sample_period)\n",
    "# psi = PowerSpectraInteractive()\n",
    "# psi.time_series = tsr\n",
    "# psi.window_length = 1000.0\n",
    "# psi.show()\n",
    "# from ipywidgets import interact, widgets as ip_widgets\n",
    "# from IPython.display import display\n",
    "\n",
    "# textRegions = ip_widgets.Text(\n",
    "#     value='',\n",
    "#     placeholder='Regions Slicer',\n",
    "#     description='start:stop:step',\n",
    "#     disabled=False\n",
    "# )\n",
    "\n",
    "# textFreqs = ip_widgets.Text(\n",
    "#     value='',\n",
    "#     placeholder='Frequency Range',\n",
    "#     description='f_min, f_max',\n",
    "#     disabled=False\n",
    "# )\n",
    "\n",
    "# def callbackRegions(wdgt):\n",
    "#     # replace by something useful\n",
    "#     psi.update_regions(wdgt.value)\n",
    "\n",
    "# def callbackFreqs(wdgt):\n",
    "#     # replace by something useful\n",
    "#     psi.update_freq_range(wdgt.value)\n",
    "    \n",
    "# textRegions.on_submit(callbackRegions)\n",
    "# textFreqs.on_submit(callbackFreqs)\n",
    "\n",
    "# display(textRegions)\n",
    "# display(textFreqs)\n",
    "\n"
   ]
  },
  {
   "cell_type": "markdown",
   "id": "9208509e",
   "metadata": {},
   "source": [
    "# Compute data and target PSDs and compare:\n"
   ]
  },
  {
   "cell_type": "code",
   "execution_count": null,
   "id": "7dfa56f3",
   "metadata": {},
   "outputs": [],
   "source": [
    "PSD_target = compute_target_PSDs(config, write_files=True, plotter=plotter)"
   ]
  },
  {
   "cell_type": "code",
   "execution_count": null,
   "id": "fab8ac09",
   "metadata": {},
   "outputs": [],
   "source": [
    "PSD = compute_data_PSDs(results[0], PSD_target, inds, transient, write_files=False, plotter=plotter)"
   ]
  },
  {
   "cell_type": "code",
   "execution_count": null,
   "id": "f9f128e5",
   "metadata": {
    "scrolled": false
   },
   "outputs": [],
   "source": [
    "%matplotlib inline \n",
    "\n",
    "from examples.tvb_nest.notebooks.cerebellum.utils import  compute_plot_selected_spectra_coherence, compute_plot_ica\n",
    "\n",
    "NPERSEG = np.array([256, 512, 1024, 2048, 4096])\n",
    "NPERSEG = NPERSEG[np.argmin(np.abs(NPERSEG - (source_ts.shape[0]-transient/config.DEFAULT_DT)))]\n",
    "\n",
    "# Power Spectra and Coherence for M1 - S1 barrel field\n",
    "compute_plot_selected_spectra_coherence(source_ts, inds[\"m1s1brl\"], \n",
    "                                        transient=transient, nperseg=NPERSEG, fmin=0.0, fmax=100.0)"
   ]
  },
  {
   "cell_type": "code",
   "execution_count": null,
   "id": "be3e9b3d",
   "metadata": {
    "scrolled": false
   },
   "outputs": [],
   "source": [
    "# Power Spectra and Coherence along the sensory pathway:\n",
    "# for Medulla SPV, Sensory PONS\n",
    "compute_plot_selected_spectra_coherence(source_ts, inds[\"sens\"], \n",
    "                                        transient=transient, nperseg=NPERSEG, fmin=0.0, fmax=100.0)"
   ]
  },
  {
   "cell_type": "code",
   "execution_count": null,
   "id": "4e6a0c57",
   "metadata": {
    "scrolled": true
   },
   "outputs": [],
   "source": [
    "plotter.config.DEFAULT_SIZE = (12, 10)  # FIGSIZE\n",
    "if source_ts is not None:\n",
    "    # LFP (E) ICA:\n",
    "    lfp_ica_comps, lfp_ics_ts, lfp_ica = compute_plot_ica(source_ts[transient:].data[:, 0, :, 0].squeeze(), \n",
    "                                                          source_ts[transient:].time,\n",
    "                                                          variable=\"LFP\", n_components=10, plotter=plotter)\n",
    "    "
   ]
  },
  {
   "cell_type": "code",
   "execution_count": null,
   "id": "7d529d8a",
   "metadata": {
    "scrolled": true
   },
   "outputs": [],
   "source": [
    "if bold_ts is not None:    \n",
    "    # BOLD ICA:\n",
    "    bold_ica_comps, bold_ics_ts, bold_ica = compute_plot_ica(bold_ts.data[:, 0, :, 0].squeeze(), bold_ts.time,\n",
    "                                                             variable=\"BOLD\", n_components=10, plotter=plotter)\n",
    "    "
   ]
  },
  {
   "cell_type": "markdown",
   "id": "aab75eae",
   "metadata": {
    "run_control": {
     "frozen": false,
     "read_only": false
    }
   },
   "source": [
    "# References\n",
    "\n",
    "1 Sanz Leon P, Knock SA , Woodman MM, Domide L, <br>\n",
    "  Mersmann J, McIntosh AR, Jirsa VK. 2013. <br>\n",
    "  The Virtual Brain: a simulator of primate brain network dynamics. <br>\n",
    "  Frontiers in Neuroinformatics (7:10. doi: 10.3389/fninf.2013.00010) <br>\n",
    "  https://www.thevirtualbrain.org/tvb/zwei <br>\n",
    "  https://github.com/the-virtual-brain <br>\n",
    "\n",
    "2 Ritter P, Schirner M, McIntosh AR, Jirsa VK. 2013.  <br>\n",
    "  The Virtual Brain integrates computational modeling and multimodal neuroimaging. <br>\n",
    "  Brain Connectivity 3:121–145. <br>\n",
    "\n",
    "3 Griffiths JD, McIntosh AR, Lefebvre J. 2020.   <br>\n",
    "  A Connectome-Based, Corticothalamic Model of State- <br>\n",
    "  and Stimulation-Dependent Modulation of Rhythmic Neural Activity and Connectivity <br>\n",
    "  Frontiers in Computational Neuroscience (vol. 14. doi: 10.3389/fncom.2020.575143) <br>\n",
    "  https://www.frontiersin.org/articles/10.3389/fncom.2020.575143/full#h12\n",
    "  \n",
    "4 Jordan, Jakob; Mørk, Håkon; Vennemo, Stine Brekke;   Terhorst, Dennis; Peyser, <br>\n",
    "  Alexander; Ippen, Tammo; Deepu, Rajalekshmi;   Eppler, Jochen Martin; <br>\n",
    "  van Meegen, Alexander;   Kunkel, Susanne; Sinha, Ankur; Fardet, Tanguy; Diaz, <br>\n",
    "  Sandra; Morrison, Abigail; Schenck, Wolfram; Dahmen, David;   Pronold, Jari; <br>\n",
    "  Stapmanns, Jonas;   Trensch, Guido; Spreizer, Sebastian;   Mitchell, Jessica; <br>\n",
    "  Graber, Steffen; Senk, Johanna; Linssen, Charl; Hahne, Jan; Serenko, Alexey; <br>\n",
    "  Naoumenko, Daniel; Thomson, Eric;   Kitayama, Itaru; Berns, Sebastian;   <br>\n",
    "  Plesser, Hans Ekkehard <br>\n",
    "  NEST is a simulator for spiking neural network models that focuses <br>\n",
    "  on the dynamics, size and structure of neural systems rather than on <br>\n",
    "  the exact morphology of individual neurons. <br>\n",
    "  For further information, visit http://www.nest-simulator.org. <br>\n",
    "  The release notes for this release are available at  <br>\n",
    "  https://github.com/nest/nest-simulator/releases/tag/v2.18.0 <br>"
   ]
  },
  {
   "cell_type": "code",
   "execution_count": null,
   "id": "2e60586d",
   "metadata": {
    "scrolled": false
   },
   "outputs": [],
   "source": [
    "%matplotlib inline\n",
    "\n",
    "import matplotlib.pyplot as plt\n",
    "\n",
    "data = source_ts.data\n",
    "time = source_ts.time\n",
    "\n",
    "fig, axes = plt.subplots(3, 1, figsize=(12, 10))\n",
    "for iT, regs in enumerate([\"crtx\", \"subcrtx_not_thalspec\", \"thalspec\"]):\n",
    "    transient_in_points = int((transient+0.5)/simulator.monitors[0].period)\n",
    "    dat = data[transient_in_points:, 0, inds[regs]].squeeze()\n",
    "    print(dat.shape)\n",
    "    axes[iT].plot(time[transient_in_points:], dat, alpha=0.25)\n",
    "    if iT == 0:\n",
    "        axes[iT].plot(time[transient_in_points:], data[transient_in_points:, 0, inds[\"m1\"]].squeeze(), \n",
    "                      'b--', linewidth=3, label='M1')\n",
    "        axes[iT].plot(time[transient_in_points:], data[transient_in_points:, 0, inds[\"s1brl\"]].squeeze(), \n",
    "                      'g--', linewidth=3, label='S1 barrel field')\n",
    "    elif iT == 1:\n",
    "        axes[iT].plot(time[transient_in_points:], data[transient_in_points:, 0, inds[\"facial\"]].squeeze(), \n",
    "                      'b--', linewidth=3, label='Facial motor nucleus')\n",
    "        axes[iT].plot(time[transient_in_points:], data[transient_in_points:, 0, inds[\"trigeminal\"]].squeeze(), \n",
    "                      'g--', linewidth=3, label='Spinal trigeminal nuclei')\n",
    "    else:\n",
    "        axes[iT].plot(time[transient_in_points:], data[transient_in_points:, 0, [44, 166]].squeeze(), \n",
    "                      'b--', linewidth=3, label='M1 specific thalami')\n",
    "        axes[iT].plot(time[transient_in_points:], data[transient_in_points:, 0, [47, 169]].squeeze(), \n",
    "                      'g--', linewidth=3, label='S1 barrel field specific thalami')\n",
    "        axes[iT].set_xlabel('Time (ms)')\n",
    "    axes[iT].plot(time[transient_in_points:], dat.mean(axis=1), 'k--', linewidth=3, label='Total mean')\n",
    "    axes[iT].legend()\n",
    "    axes[iT].set_title(\"%s range=[%g, %g, %g, %g, %g] \" % \n",
    "                       (regs, dat.min(), np.percentile(dat, 5), dat.mean(), np.percentile(dat, 95), dat.max()))\n",
    "fig.tight_layout()"
   ]
  },
  {
   "cell_type": "code",
   "execution_count": null,
   "id": "a20456e3",
   "metadata": {},
   "outputs": [],
   "source": []
  }
 ],
 "metadata": {
  "kernelspec": {
   "display_name": "Python 3 (ipykernel)",
   "language": "python",
   "name": "python3"
  },
  "language_info": {
   "codemirror_mode": {
    "name": "ipython",
    "version": 3
   },
   "file_extension": ".py",
   "mimetype": "text/x-python",
   "name": "python",
   "nbconvert_exporter": "python",
   "pygments_lexer": "ipython3",
   "version": "3.9.2"
  }
 },
 "nbformat": 4,
 "nbformat_minor": 5
}
