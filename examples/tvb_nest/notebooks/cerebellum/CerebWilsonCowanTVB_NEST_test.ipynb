{
 "cells": [
  {
   "cell_type": "code",
   "execution_count": 1,
   "id": "7387378d",
   "metadata": {
    "scrolled": true
   },
   "outputs": [
    {
     "name": "stdout",
     "output_type": "stream",
     "text": [
      "2022-06-29 15:56:15,572 - INFO - tvb_multiscale.tvb_nest.config - Loading a NEST instance...\n",
      "2022-06-29 15:56:15,572 - INFO - tvb_multiscale.tvb_nest.config - Loading a NEST instance...\n",
      "2022-06-29 15:56:15,576 - INFO - tvb_multiscale.tvb_nest.config - NEST_INSTALL_DIR: /home/docker/env/neurosci/nest_build\n",
      "2022-06-29 15:56:15,576 - INFO - tvb_multiscale.tvb_nest.config - NEST_INSTALL_DIR: /home/docker/env/neurosci/nest_build\n",
      "2022-06-29 15:56:15,579 - INFO - tvb_multiscale.tvb_nest.config - NEST_DATA_DIR: /home/docker/env/neurosci/nest_build/share/nest\n",
      "2022-06-29 15:56:15,579 - INFO - tvb_multiscale.tvb_nest.config - NEST_DATA_DIR: /home/docker/env/neurosci/nest_build/share/nest\n",
      "2022-06-29 15:56:15,583 - INFO - tvb_multiscale.tvb_nest.config - NEST_DOC_DIR: /home/docker/env/neurosci/nest_build/share/doc/nest\n",
      "2022-06-29 15:56:15,583 - INFO - tvb_multiscale.tvb_nest.config - NEST_DOC_DIR: /home/docker/env/neurosci/nest_build/share/doc/nest\n",
      "2022-06-29 15:56:15,587 - INFO - tvb_multiscale.tvb_nest.config - NEST_MODULE_PATH: /home/docker/env/neurosci/nest_build/lib/nest\n",
      "2022-06-29 15:56:15,587 - INFO - tvb_multiscale.tvb_nest.config - NEST_MODULE_PATH: /home/docker/env/neurosci/nest_build/lib/nest\n",
      "2022-06-29 15:56:15,590 - INFO - tvb_multiscale.tvb_nest.config - PATH: /home/docker/env/neurosci/nest_build/bin:/usr/local/sbin:/usr/local/bin:/usr/sbin:/usr/bin:/sbin:/bin\n",
      "2022-06-29 15:56:15,590 - INFO - tvb_multiscale.tvb_nest.config - PATH: /home/docker/env/neurosci/nest_build/bin:/usr/local/sbin:/usr/local/bin:/usr/sbin:/usr/bin:/sbin:/bin\n",
      "2022-06-29 15:56:15,593 - INFO - tvb_multiscale.tvb_nest.config - LD_LIBRARY_PATH: /home/docker/env/neurosci/nest_build/lib/nest::/home/docker/env/neurosci/nest_build/lib/nest\n",
      "2022-06-29 15:56:15,593 - INFO - tvb_multiscale.tvb_nest.config - LD_LIBRARY_PATH: /home/docker/env/neurosci/nest_build/lib/nest::/home/docker/env/neurosci/nest_build/lib/nest\n",
      "2022-06-29 15:56:15,596 - INFO - tvb_multiscale.tvb_nest.config - SLI_PATH: /home/docker/env/neurosci/nest_build/share/nest/sli\n",
      "2022-06-29 15:56:15,596 - INFO - tvb_multiscale.tvb_nest.config - SLI_PATH: /home/docker/env/neurosci/nest_build/share/nest/sli\n",
      "2022-06-29 15:56:15,599 - INFO - tvb_multiscale.tvb_nest.config - NEST_PYTHON_PREFIX: /home/docker/env/neurosci/nest_build/lib/python3.9/site-packages\n",
      "2022-06-29 15:56:15,599 - INFO - tvb_multiscale.tvb_nest.config - NEST_PYTHON_PREFIX: /home/docker/env/neurosci/nest_build/lib/python3.9/site-packages\n",
      "2022-06-29 15:56:15,603 - INFO - tvb_multiscale.tvb_nest.config - system path: ['/home/docker/env/neurosci/nest_build/lib/python3.9/site-packages', '/home/docker/packages/tvb-multiscale/examples/tvb_nest/notebooks/cerebellum', '/home/docker/env/neurosci', '/usr/lib/python39.zip', '/usr/lib/python3.9', '/usr/lib/python3.9/lib-dynload', '', '/home/docker/env/neurosci/lib/python3.9/site-packages', '/home/docker/env/neurosci/lib/python3.9/site-packages/NESTML-5.0.0.post0.dev0-py3.9.egg', '/home/docker/env/neurosci/lib/python3.9/site-packages/sympy-1.10.1-py3.9.egg', '/home/docker/env/neurosci/lib/python3.9/site-packages/odetoolbox-2.4.1-py3.9.egg', '/home/docker/env/neurosci/lib/python3.9/site-packages/astropy-5.2.dev0-py3.9-linux-x86_64.egg', '/home/docker/env/neurosci/lib/python3.9/site-packages/antlr4_python3_runtime-4.10-py3.9.egg', '/home/docker/env/neurosci/lib/python3.9/site-packages/mpmath-1.2.1-py3.9.egg', '/home/docker/env/neurosci/lib/python3.9/site-packages/pyerfa-2.0.0.1-py3.9-linux-x86_64.egg', '/home/docker/env/neurosci/lib/python3.9/site-packages/PyYAML-6.0-py3.9-linux-x86_64.egg', '/home/docker/packages/tvb-root/tvb_library', '/home/docker/env/neurosci/lib/python3.9/site-packages/typing-3.10.0.0-py3.9.egg', '/home/docker/env/neurosci/lib/python3.9/site-packages/PyLEMS-0.5.9-py3.9.egg', '/home/docker/env/neurosci/lib/python3.9/site-packages/numexpr-2.8.1-py3.9-linux-x86_64.egg', '/home/docker/env/neurosci/lib/python3.9/site-packages/networkx-2.8.2-py3.9.egg', '/home/docker/env/neurosci/lib/python3.9/site-packages/Mako-1.2.0-py3.9.egg', '/home/docker/env/neurosci/lib/python3.9/site-packages/lxml-4.8.0-py3.9-linux-x86_64.egg', '/home/docker/env/neurosci/lib/python3.9/site-packages/autopep8-1.6.0-py3.9.egg', '/home/docker/env/neurosci/lib/python3.9/site-packages/toml-0.10.2-py3.9.egg', '/home/docker/env/neurosci/lib/python3.9/site-packages/pycodestyle-2.8.0-py3.9.egg', '/home/docker/packages/tvb-root/tvb_framework', '/home/docker/env/neurosci/lib/python3.9/site-packages/tvb_storage-2.5-py3.9.egg', '/home/docker/env/neurosci/lib/python3.9/site-packages/tvb_library-2.5-py3.9.egg', '/home/docker/env/neurosci/lib/python3.9/site-packages/tvb_gdist-2.1.0-py3.9-linux-x86_64.egg', '/home/docker/env/neurosci/lib/python3.9/site-packages/tvb_data-2.0-py3.9.egg', '/home/docker/env/neurosci/lib/python3.9/site-packages/simplejson-3.17.6-py3.9-linux-x86_64.egg', '/home/docker/env/neurosci/lib/python3.9/site-packages/python_keycloak-0.29.0-py3.9.egg', '/home/docker/env/neurosci/lib/python3.9/site-packages/nibabel-3.2.2-py3.9.egg', '/home/docker/env/neurosci/lib/python3.9/site-packages/gevent-21.12.0-py3.9-linux-x86_64.egg', '/home/docker/env/neurosci/lib/python3.9/site-packages/FormEncode-2.0.1-py3.9.egg', '/home/docker/env/neurosci/lib/python3.9/site-packages/Flask-1.1.4-py3.9.egg', '/home/docker/env/neurosci/lib/python3.9/site-packages/flask_restx-0.5.1-py3.9.egg', '/home/docker/env/neurosci/lib/python3.9/site-packages/CherryPy-18.6.1-py3.9.egg', '/home/docker/env/neurosci/lib/python3.9/site-packages/allensdk-2.13.4-py3.9.egg', '/home/docker/env/neurosci/lib/python3.9/site-packages/alembic-1.7.7-py3.9.egg', '/home/docker/env/neurosci/lib/python3.9/site-packages/Jinja2-2.11.3-py3.9.egg', '/home/docker/env/neurosci/lib/python3.9/site-packages/pyAesCrypt-6.0.0-py3.9.egg', '/home/docker/env/neurosci/lib/python3.9/site-packages/cryptography-37.0.2-py3.9-linux-x86_64.egg', '/home/docker/env/neurosci/lib/python3.9/site-packages/python_jose-3.3.0-py3.9.egg', '/home/docker/env/neurosci/lib/python3.9/site-packages/zope.interface-5.5.0.dev0-py3.9.egg', '/home/docker/env/neurosci/lib/python3.9/site-packages/zope.event-4.5.0-py3.9.egg', '/home/docker/env/neurosci/lib/python3.9/site-packages/itsdangerous-1.1.0-py3.9.egg', '/home/docker/env/neurosci/lib/python3.9/site-packages/click-7.1.2-py3.9.egg', '/home/docker/packages/tvb-root/tvb_contrib', '/home/docker/env/neurosci/lib/python3.9/site-packages/pyspike-0.7.0-py3.9-linux-x86_64.egg', '/home/docker/packages/tvb-multiscale', '/usr/lib/python3/dist-packages', '/home/docker/.local/lib/python3.9/site-packages', '/home/docker/.local/lib/python3.9/site-packages/ANNarchy-4.7.1.3-py3.9-linux-x86_64.egg', '/usr/local/lib/python3.9/dist-packages']\n",
      "2022-06-29 15:56:15,603 - INFO - tvb_multiscale.tvb_nest.config - system path: ['/home/docker/env/neurosci/nest_build/lib/python3.9/site-packages', '/home/docker/packages/tvb-multiscale/examples/tvb_nest/notebooks/cerebellum', '/home/docker/env/neurosci', '/usr/lib/python39.zip', '/usr/lib/python3.9', '/usr/lib/python3.9/lib-dynload', '', '/home/docker/env/neurosci/lib/python3.9/site-packages', '/home/docker/env/neurosci/lib/python3.9/site-packages/NESTML-5.0.0.post0.dev0-py3.9.egg', '/home/docker/env/neurosci/lib/python3.9/site-packages/sympy-1.10.1-py3.9.egg', '/home/docker/env/neurosci/lib/python3.9/site-packages/odetoolbox-2.4.1-py3.9.egg', '/home/docker/env/neurosci/lib/python3.9/site-packages/astropy-5.2.dev0-py3.9-linux-x86_64.egg', '/home/docker/env/neurosci/lib/python3.9/site-packages/antlr4_python3_runtime-4.10-py3.9.egg', '/home/docker/env/neurosci/lib/python3.9/site-packages/mpmath-1.2.1-py3.9.egg', '/home/docker/env/neurosci/lib/python3.9/site-packages/pyerfa-2.0.0.1-py3.9-linux-x86_64.egg', '/home/docker/env/neurosci/lib/python3.9/site-packages/PyYAML-6.0-py3.9-linux-x86_64.egg', '/home/docker/packages/tvb-root/tvb_library', '/home/docker/env/neurosci/lib/python3.9/site-packages/typing-3.10.0.0-py3.9.egg', '/home/docker/env/neurosci/lib/python3.9/site-packages/PyLEMS-0.5.9-py3.9.egg', '/home/docker/env/neurosci/lib/python3.9/site-packages/numexpr-2.8.1-py3.9-linux-x86_64.egg', '/home/docker/env/neurosci/lib/python3.9/site-packages/networkx-2.8.2-py3.9.egg', '/home/docker/env/neurosci/lib/python3.9/site-packages/Mako-1.2.0-py3.9.egg', '/home/docker/env/neurosci/lib/python3.9/site-packages/lxml-4.8.0-py3.9-linux-x86_64.egg', '/home/docker/env/neurosci/lib/python3.9/site-packages/autopep8-1.6.0-py3.9.egg', '/home/docker/env/neurosci/lib/python3.9/site-packages/toml-0.10.2-py3.9.egg', '/home/docker/env/neurosci/lib/python3.9/site-packages/pycodestyle-2.8.0-py3.9.egg', '/home/docker/packages/tvb-root/tvb_framework', '/home/docker/env/neurosci/lib/python3.9/site-packages/tvb_storage-2.5-py3.9.egg', '/home/docker/env/neurosci/lib/python3.9/site-packages/tvb_library-2.5-py3.9.egg', '/home/docker/env/neurosci/lib/python3.9/site-packages/tvb_gdist-2.1.0-py3.9-linux-x86_64.egg', '/home/docker/env/neurosci/lib/python3.9/site-packages/tvb_data-2.0-py3.9.egg', '/home/docker/env/neurosci/lib/python3.9/site-packages/simplejson-3.17.6-py3.9-linux-x86_64.egg', '/home/docker/env/neurosci/lib/python3.9/site-packages/python_keycloak-0.29.0-py3.9.egg', '/home/docker/env/neurosci/lib/python3.9/site-packages/nibabel-3.2.2-py3.9.egg', '/home/docker/env/neurosci/lib/python3.9/site-packages/gevent-21.12.0-py3.9-linux-x86_64.egg', '/home/docker/env/neurosci/lib/python3.9/site-packages/FormEncode-2.0.1-py3.9.egg', '/home/docker/env/neurosci/lib/python3.9/site-packages/Flask-1.1.4-py3.9.egg', '/home/docker/env/neurosci/lib/python3.9/site-packages/flask_restx-0.5.1-py3.9.egg', '/home/docker/env/neurosci/lib/python3.9/site-packages/CherryPy-18.6.1-py3.9.egg', '/home/docker/env/neurosci/lib/python3.9/site-packages/allensdk-2.13.4-py3.9.egg', '/home/docker/env/neurosci/lib/python3.9/site-packages/alembic-1.7.7-py3.9.egg', '/home/docker/env/neurosci/lib/python3.9/site-packages/Jinja2-2.11.3-py3.9.egg', '/home/docker/env/neurosci/lib/python3.9/site-packages/pyAesCrypt-6.0.0-py3.9.egg', '/home/docker/env/neurosci/lib/python3.9/site-packages/cryptography-37.0.2-py3.9-linux-x86_64.egg', '/home/docker/env/neurosci/lib/python3.9/site-packages/python_jose-3.3.0-py3.9.egg', '/home/docker/env/neurosci/lib/python3.9/site-packages/zope.interface-5.5.0.dev0-py3.9.egg', '/home/docker/env/neurosci/lib/python3.9/site-packages/zope.event-4.5.0-py3.9.egg', '/home/docker/env/neurosci/lib/python3.9/site-packages/itsdangerous-1.1.0-py3.9.egg', '/home/docker/env/neurosci/lib/python3.9/site-packages/click-7.1.2-py3.9.egg', '/home/docker/packages/tvb-root/tvb_contrib', '/home/docker/env/neurosci/lib/python3.9/site-packages/pyspike-0.7.0-py3.9-linux-x86_64.egg', '/home/docker/packages/tvb-multiscale', '/usr/lib/python3/dist-packages', '/home/docker/.local/lib/python3.9/site-packages', '/home/docker/.local/lib/python3.9/site-packages/ANNarchy-4.7.1.3-py3.9-linux-x86_64.egg', '/usr/local/lib/python3.9/dist-packages']\n"
     ]
    },
    {
     "name": "stdout",
     "output_type": "stream",
     "text": [
      "Outputs' path: /home/docker/packages/tvb-multiscale/examples/tvb_nest/notebooks/cerebellum/outputs/cwc\n",
      "\n",
      "normalized weights [min, max] = \n",
      " [1.0, 27.639354909547873]\n"
     ]
    },
    {
     "name": "stderr",
     "output_type": "stream",
     "text": [
      "/home/docker/packages/tvb-multiscale/tvb_multiscale/core/spiking_models/node_set.py:34: FutureWarning: The default dtype for empty Series will be 'object' instead of 'float64' in a future version. Specify a dtype explicitly to silence this warning.\n",
      "  def __init__(self, nodes=pd.Series(), **kwargs):\n"
     ]
    },
    {
     "name": "stdout",
     "output_type": "stream",
     "text": [
      "2022-06-29 15:56:18,281 - WARNING - tvb_multiscale.core.tvb.cosimulator.cosimulator_serial - Current step is not 0 upon configuration!\n",
      "Setting it to 0. Initial condition might be affected!\n"
     ]
    },
    {
     "name": "stderr",
     "output_type": "stream",
     "text": [
      "/home/docker/packages/tvb-multiscale/tvb_multiscale/core/spiking_models/devices.py:953: FutureWarning: The default dtype for empty Series will be 'object' instead of 'float64' in a future version. Specify a dtype explicitly to silence this warning.\n",
      "  def __init__(self, device_set=pd.Series(), **kwargs):\n"
     ]
    },
    {
     "name": "stdout",
     "output_type": "stream",
     "text": [
      "Current step is not 0 upon configuration!\n",
      "Setting it to 0. Initial condition might be affected!\n",
      "CoSimulatorSerial (\n",
      "  title .................... 'CoSimulatorSerial gid: 4ca24823-8df8-4e80-9132-23e832c009e3'\n",
      "  Type ..................... 'CoSimulatorSerial'\n",
      "  model .................... WilsonCowanThalamoCortical gid: 6cd3a596-d257-4f5e-a045-a0371e4fffba\n",
      "  output_interfaces ........ None\n",
      "  input_interfaces ......... None\n",
      "  out_proxy_inds ........... --------------------\n",
      "  shape .................... (0,)\n",
      "  dtype .................... int64\n",
      "  is empty ................. True\n",
      "  exclusive ................ False\n",
      "  voi ...................... --------------------\n",
      "  proxy_inds ............... --------------------\n",
      "  synchronization_time ..... 0.0\n",
      "  connectivity ............. Connectivity gid: f5f3fe0e-16cf-4468-8048-d139e4a50ce8\n",
      "  conduction_speed ......... 3.0\n",
      "  coupling ................. SigmoidalPreThalamoCortical gid: fef310bd-4c3b-40cf-9166-04b06cd3dca7\n",
      "  surface .................. None\n",
      "  stimulus ................. None\n",
      "  integrator ............... EulerStochastic gid: 824d857c-0830-4c54-9e11-844f0c7d3edc\n",
      "  initial_conditions ....... --------------------\n",
      "  initial_conditions: shape  (1000, 3, 214, 1)\n",
      "  initial_conditions: dtype  float64\n",
      "  initial_conditions: values  [ 0.02934617  0.16109295 -0.03694546 ... -0.19760563 -0.06143187\n",
      "  0.01575418]\n",
      "  monitors[0] .............. TemporalAverage gid: f17bd42c-f7bd-4f33-b1af-72bbc40689dc\n",
      "  simulation_length ........ 1000.0\n",
      "  gid ...................... UUID('4ca24823-8df8-4e80-9132-23e832c009e3')\n",
      ")\n"
     ]
    },
    {
     "data": {
      "text/plain": [
       "<Figure size 432x288 with 0 Axes>"
      ]
     },
     "metadata": {},
     "output_type": "display_data"
    }
   ],
   "source": [
    "from examples.tvb_nest.notebooks.cerebellum.scripts.scripts import *\n",
    "\n",
    "# Get configuration\n",
    "config, plotter = configure()\n",
    "config.SIMULATION_LENGTH = 100.0\n",
    "plotter = None\n",
    "# Load connectome and other structural files\n",
    "connectome, major_structs_labels, voxel_count, inds = load_connectome(config, plotter=plotter)\n",
    "# Construct some more indices and maps\n",
    "inds, maps = construct_extra_inds_and_maps(connectome, inds)\n",
    "# Logprocess connectome\n",
    "connectome = logprocess_weights(connectome, inds, print_flag=True, plotter=plotter)\n",
    "# Prepare connectivity with all possible normalizations\n",
    "connectivity = build_connectivity(connectome, inds, config, print_flag=True, plotter=plotter)\n",
    "# Prepare model\n",
    "model = build_model(connectivity.number_of_regions, inds, maps, config)\n",
    "# Prepare simulator\n",
    "simulator = build_simulator(connectivity, model, inds, maps, config, print_flag=True, plotter=plotter)"
   ]
  },
  {
   "cell_type": "code",
   "execution_count": 2,
   "id": "c23341c1",
   "metadata": {
    "scrolled": true
   },
   "outputs": [
    {
     "name": "stdout",
     "output_type": "stream",
     "text": [
      "\n",
      "              -- N E S T --\n",
      "  Copyright (C) 2004 The NEST Initiative\n",
      "\n",
      " Version: HEAD@c545255f7\n",
      " Built: May 18 2022 09:50:55\n",
      "\n",
      " This program is provided AS IS and comes with\n",
      " NO WARRANTY. See the file LICENSE for details.\n",
      "\n",
      " Problems or suggestions?\n",
      "   Visit https://www.nest-simulator.org\n",
      "\n",
      " Type 'nest.help()' to find out more about NEST.\n",
      "\n",
      "Building NESTNetwork...\n",
      "2022-06-29 15:56:19,117 - INFO - tvb_multiscale.core.spiking_models.network - <class 'tvb_multiscale.tvb_nest.nest_models.network.NESTNetwork'> created!\n",
      "\n",
      "Jun 29 15:56:19 SetStatus [Error]: \n",
      "    Variable data_path not set: Directory 'sim_data/' does not exist.\n",
      "2022-06-29 15:56:19,117 - INFO - tvb_multiscale.core.spiking_models.network - <class 'tvb_multiscale.tvb_nest.nest_models.network.NESTNetwork'> created!\n",
      "['basket_cell', 'dcn_cell_GABA', 'dcn_cell_Gly-I', 'dcn_cell_glut_large', 'glomerulus', 'golgi_cell', 'granule_cell', 'io_cell', 'mossy_fibers', 'purkinje_cell', 'stellate_cell']\n",
      "\n",
      "...created: OrderedDict([('title', \"'NESTPopulation gid: c8c522ff-3d0a-4cd6-8180-b7a67e6744b0'\"), ('Type', \"'NESTPopulation'\"), ('_nodes', 'NodeCollection(metadata=None, model=basket_cell, size=147, first=1, last=147)'), ('label', \"'basket_cell'\"), ('model', \"'NESTPopulation'\"), ('brain_region', \"'Right Ansiform lobule'\"), ('gid', \"UUID('c8c522ff-3d0a-4cd6-8180-b7a67e6744b0')\"), ('number_of_nodes', '147'), ('nodes', 'NodeCollection(metadata=None, model=basket_cell, size=147, first=1, last=147)')])...\n",
      "\n",
      "...created: OrderedDict([('title', \"'NESTPopulation gid: 6e4bce91-9ff7-40f5-9810-5d338a9773c0'\"), ('Type', \"'NESTPopulation'\"), ('_nodes', 'NodeCollection(metadata=None, model=basket_cell, size=147, first=148, last=294)'), ('label', \"'basket_cell'\"), ('model', \"'NESTPopulation'\"), ('brain_region', \"'Left Ansiform lobule'\"), ('gid', \"UUID('6e4bce91-9ff7-40f5-9810-5d338a9773c0')\"), ('number_of_nodes', '147'), ('nodes', 'NodeCollection(metadata=None, model=basket_cell, size=147, first=148, last=294)')])...\n",
      "\n",
      "...created: OrderedDict([('title', \"'NESTPopulation gid: a6b2360d-d63e-4526-8bd5-5361feff2a47'\"), ('Type', \"'NESTPopulation'\"), ('_nodes', 'NodeCollection(metadata=None, model=dcn_cell_GABA, size=76, first=295, last=370)'), ('label', \"'dcn_cell_GABA'\"), ('model', \"'NESTPopulation'\"), ('brain_region', \"'Right Interposed nucleus'\"), ('gid', \"UUID('a6b2360d-d63e-4526-8bd5-5361feff2a47')\"), ('number_of_nodes', '76'), ('nodes', 'NodeCollection(metadata=None, model=dcn_cell_GABA, size=76, first=295, last=370)')])...\n",
      "\n",
      "...created: OrderedDict([('title', \"'NESTPopulation gid: b480b5e1-4740-41a0-8265-831884bc4398'\"), ('Type', \"'NESTPopulation'\"), ('_nodes', 'NodeCollection(metadata=None, model=dcn_cell_GABA, size=76, first=371, last=446)'), ('label', \"'dcn_cell_GABA'\"), ('model', \"'NESTPopulation'\"), ('brain_region', \"'Left Interposed nucleus'\"), ('gid', \"UUID('b480b5e1-4740-41a0-8265-831884bc4398')\"), ('number_of_nodes', '76'), ('nodes', 'NodeCollection(metadata=None, model=dcn_cell_GABA, size=76, first=371, last=446)')])...\n",
      "\n",
      "...created: OrderedDict([('title', \"'NESTPopulation gid: eae17be6-64c8-49b9-bbde-38b745fd4b66'\"), ('Type', \"'NESTPopulation'\"), ('_nodes', 'NodeCollection(metadata=None, model=dcn_cell_glut_large, size=129, first=447, last=575)'), ('label', \"'dcn_cell_glut_large'\"), ('model', \"'NESTPopulation'\"), ('brain_region', \"'Right Interposed nucleus'\"), ('gid', \"UUID('eae17be6-64c8-49b9-bbde-38b745fd4b66')\"), ('number_of_nodes', '129'), ('nodes', 'NodeCollection(metadata=None, model=dcn_cell_glut_large, size=129, first=447, last=575)')])...\n",
      "\n",
      "...created: OrderedDict([('title', \"'NESTPopulation gid: e130bb73-eb15-4b84-9c3b-c38ae2c40fe2'\"), ('Type', \"'NESTPopulation'\"), ('_nodes', 'NodeCollection(metadata=None, model=dcn_cell_glut_large, size=129, first=576, last=704)'), ('label', \"'dcn_cell_glut_large'\"), ('model', \"'NESTPopulation'\"), ('brain_region', \"'Left Interposed nucleus'\"), ('gid', \"UUID('e130bb73-eb15-4b84-9c3b-c38ae2c40fe2')\"), ('number_of_nodes', '129'), ('nodes', 'NodeCollection(metadata=None, model=dcn_cell_glut_large, size=129, first=576, last=704)')])...\n",
      "\n",
      "...created: OrderedDict([('title', \"'NESTPopulation gid: 2eea7736-3467-452b-9c53-ac51f1866715'\"), ('Type', \"'NESTPopulation'\"), ('_nodes', 'NodeCollection(metadata=None, model=glomerulus, size=2336, first=705, last=3040)'), ('label', \"'glomerulus'\"), ('model', \"'NESTPopulation'\"), ('brain_region', \"'Right Ansiform lobule'\"), ('gid', \"UUID('2eea7736-3467-452b-9c53-ac51f1866715')\"), ('number_of_nodes', '2336'), ('nodes', 'NodeCollection(metadata=None, model=glomerulus, size=2336, first=705, last=3040)')])...\n",
      "\n",
      "...created: OrderedDict([('title', \"'NESTPopulation gid: c292daeb-e799-469f-810f-b3f9197117d3'\"), ('Type', \"'NESTPopulation'\"), ('_nodes', 'NodeCollection(metadata=None, model=glomerulus, size=2336, first=3041, last=5376)'), ('label', \"'glomerulus'\"), ('model', \"'NESTPopulation'\"), ('brain_region', \"'Left Ansiform lobule'\"), ('gid', \"UUID('c292daeb-e799-469f-810f-b3f9197117d3')\"), ('number_of_nodes', '2336'), ('nodes', 'NodeCollection(metadata=None, model=glomerulus, size=2336, first=3041, last=5376)')])...\n",
      "\n",
      "...created: OrderedDict([('title', \"'NESTPopulation gid: 56ea4c90-600c-4840-90db-b8f2c99a3ed2'\"), ('Type', \"'NESTPopulation'\"), ('_nodes', 'NodeCollection(metadata=None, model=golgi_cell, size=70, first=5377, last=5446)'), ('label', \"'golgi_cell'\"), ('model', \"'NESTPopulation'\"), ('brain_region', \"'Right Ansiform lobule'\"), ('gid', \"UUID('56ea4c90-600c-4840-90db-b8f2c99a3ed2')\"), ('number_of_nodes', '70'), ('nodes', 'NodeCollection(metadata=None, model=golgi_cell, size=70, first=5377, last=5446)')])...\n",
      "\n",
      "...created: OrderedDict([('title', \"'NESTPopulation gid: 1c4f56bb-f9a9-448a-8716-e714af00626f'\"), ('Type', \"'NESTPopulation'\"), ('_nodes', 'NodeCollection(metadata=None, model=golgi_cell, size=70, first=5447, last=5516)'), ('label', \"'golgi_cell'\"), ('model', \"'NESTPopulation'\"), ('brain_region', \"'Left Ansiform lobule'\"), ('gid', \"UUID('1c4f56bb-f9a9-448a-8716-e714af00626f')\"), ('number_of_nodes', '70'), ('nodes', 'NodeCollection(metadata=None, model=golgi_cell, size=70, first=5447, last=5516)')])...\n",
      "\n",
      "...created: OrderedDict([('title', \"'NESTPopulation gid: e40743e9-c101-422a-a356-4db8d169352b'\"), ('Type', \"'NESTPopulation'\"), ('_nodes', 'NodeCollection(metadata=None, model=granule_cell, size=28615, first=5517, last=34131)'), ('label', \"'granule_cell'\"), ('model', \"'NESTPopulation'\"), ('brain_region', \"'Right Ansiform lobule'\"), ('gid', \"UUID('e40743e9-c101-422a-a356-4db8d169352b')\"), ('number_of_nodes', '28615'), ('nodes', 'NodeCollection(metadata=None, model=granule_cell, size=28615, first=5517, last=34131)')])...\n",
      "\n",
      "...created: OrderedDict([('title', \"'NESTPopulation gid: 47e30f9c-2482-4f33-b7e6-9dc28ccac831'\"), ('Type', \"'NESTPopulation'\"), ('_nodes', 'NodeCollection(metadata=None, model=granule_cell, size=28615, first=34132, last=62746)'), ('label', \"'granule_cell'\"), ('model', \"'NESTPopulation'\"), ('brain_region', \"'Left Ansiform lobule'\"), ('gid', \"UUID('47e30f9c-2482-4f33-b7e6-9dc28ccac831')\"), ('number_of_nodes', '28615'), ('nodes', 'NodeCollection(metadata=None, model=granule_cell, size=28615, first=34132, last=62746)')])...\n",
      "\n",
      "...created: OrderedDict([('title', \"'NESTPopulation gid: f0823f82-3daf-4eac-a4a2-988c623a184a'\"), ('Type', \"'NESTPopulation'\"), ('_nodes', 'NodeCollection(metadata=None, model=io_cell, size=13, first=62747, last=62759)'), ('label', \"'io_cell'\"), ('model', \"'NESTPopulation'\"), ('brain_region', \"'Right Inferior olivary complex'\"), ('gid', \"UUID('f0823f82-3daf-4eac-a4a2-988c623a184a')\"), ('number_of_nodes', '13'), ('nodes', 'NodeCollection(metadata=None, model=io_cell, size=13, first=62747, last=62759)')])...\n",
      "\n",
      "...created: OrderedDict([('title', \"'NESTPopulation gid: 02ee3ad7-140d-4ae5-9369-22a60fd115e7'\"), ('Type', \"'NESTPopulation'\"), ('_nodes', 'NodeCollection(metadata=None, model=io_cell, size=13, first=62760, last=62772)'), ('label', \"'io_cell'\"), ('model', \"'NESTPopulation'\"), ('brain_region', \"'Left Inferior olivary complex'\"), ('gid', \"UUID('02ee3ad7-140d-4ae5-9369-22a60fd115e7')\"), ('number_of_nodes', '13'), ('nodes', 'NodeCollection(metadata=None, model=io_cell, size=13, first=62760, last=62772)')])...\n"
     ]
    },
    {
     "name": "stdout",
     "output_type": "stream",
     "text": [
      "\n",
      "...created: OrderedDict([('title', \"'NESTPopulation gid: 7b5cd5aa-bbcd-44c0-aca2-1b0a29c4611e'\"), ('Type', \"'NESTPopulation'\"), ('_nodes', 'NodeCollection(metadata=None, model=mossy_fibers, size=117, first=62773, last=62889)'), ('label', \"'mossy_fibers'\"), ('model', \"'NESTPopulation'\"), ('brain_region', \"'Right Ansiform lobule'\"), ('gid', \"UUID('7b5cd5aa-bbcd-44c0-aca2-1b0a29c4611e')\"), ('number_of_nodes', '117'), ('nodes', 'NodeCollection(metadata=None, model=mossy_fibers, size=117, first=62773, last=62889)')])...\n",
      "\n",
      "...created: OrderedDict([('title', \"'NESTPopulation gid: b7a7f3a2-54cc-45f3-be1f-40938f58f6be'\"), ('Type', \"'NESTPopulation'\"), ('_nodes', 'NodeCollection(metadata=None, model=mossy_fibers, size=117, first=62890, last=63006)'), ('label', \"'mossy_fibers'\"), ('model', \"'NESTPopulation'\"), ('brain_region', \"'Left Ansiform lobule'\"), ('gid', \"UUID('b7a7f3a2-54cc-45f3-be1f-40938f58f6be')\"), ('number_of_nodes', '117'), ('nodes', 'NodeCollection(metadata=None, model=mossy_fibers, size=117, first=62890, last=63006)')])...\n",
      "\n",
      "...created: OrderedDict([('title', \"'NESTPopulation gid: f600f495-57c6-4c91-820a-fe159aa398b3'\"), ('Type', \"'NESTPopulation'\"), ('_nodes', 'NodeCollection(metadata=None, model=purkinje_cell, size=99, first=63007, last=63105)'), ('label', \"'purkinje_cell'\"), ('model', \"'NESTPopulation'\"), ('brain_region', \"'Right Ansiform lobule'\"), ('gid', \"UUID('f600f495-57c6-4c91-820a-fe159aa398b3')\"), ('number_of_nodes', '99'), ('nodes', 'NodeCollection(metadata=None, model=purkinje_cell, size=99, first=63007, last=63105)')])...\n",
      "\n",
      "...created: OrderedDict([('title', \"'NESTPopulation gid: 18e2befa-2c19-48e4-a0c9-22564e046417'\"), ('Type', \"'NESTPopulation'\"), ('_nodes', 'NodeCollection(metadata=None, model=purkinje_cell, size=99, first=63106, last=63204)'), ('label', \"'purkinje_cell'\"), ('model', \"'NESTPopulation'\"), ('brain_region', \"'Left Ansiform lobule'\"), ('gid', \"UUID('18e2befa-2c19-48e4-a0c9-22564e046417')\"), ('number_of_nodes', '99'), ('nodes', 'NodeCollection(metadata=None, model=purkinje_cell, size=99, first=63106, last=63204)')])...\n",
      "\n",
      "...created: OrderedDict([('title', \"'NESTPopulation gid: fb2cf74e-0309-4b90-af93-8c5553a93b44'\"), ('Type', \"'NESTPopulation'\"), ('_nodes', 'NodeCollection(metadata=None, model=stellate_cell, size=299, first=63205, last=63503)'), ('label', \"'stellate_cell'\"), ('model', \"'NESTPopulation'\"), ('brain_region', \"'Right Ansiform lobule'\"), ('gid', \"UUID('fb2cf74e-0309-4b90-af93-8c5553a93b44')\"), ('number_of_nodes', '299'), ('nodes', 'NodeCollection(metadata=None, model=stellate_cell, size=299, first=63205, last=63503)')])...\n",
      "\n",
      "...created: OrderedDict([('title', \"'NESTPopulation gid: 48161834-a042-4749-9a1d-4e921966504a'\"), ('Type', \"'NESTPopulation'\"), ('_nodes', 'NodeCollection(metadata=None, model=stellate_cell, size=299, first=63504, last=63802)'), ('label', \"'stellate_cell'\"), ('model', \"'NESTPopulation'\"), ('brain_region', \"'Left Ansiform lobule'\"), ('gid', \"UUID('48161834-a042-4749-9a1d-4e921966504a')\"), ('number_of_nodes', '299'), ('nodes', 'NodeCollection(metadata=None, model=stellate_cell, size=299, first=63504, last=63802)')])...\n",
      "\n",
      "...created: OrderedDict([('title', \"'NESTPopulation gid: 52d7a995-96b7-4557-892e-9c039554563b'\"), ('Type', \"'NESTPopulation'\"), ('_nodes', 'NodeCollection(metadata=None, model=parrot_neuron, size=457, first=63803, last=64259)'), ('label', \"'parrot_medulla'\"), ('model', \"'NESTPopulation'\"), ('brain_region', \"'Right Principal sensory nucleus of the trigeminal'\"), ('gid', \"UUID('52d7a995-96b7-4557-892e-9c039554563b')\"), ('number_of_nodes', '457'), ('nodes', 'NodeCollection(metadata=None, model=parrot_neuron, size=457, first=63803, last=64259)')])...\n",
      "\n",
      "...created: OrderedDict([('title', \"'NESTPopulation gid: c106c07f-1d5a-47b1-974c-3b7efad8370e'\"), ('Type', \"'NESTPopulation'\"), ('_nodes', 'NodeCollection(metadata=None, model=parrot_neuron, size=457, first=64260, last=64716)'), ('label', \"'parrot_medulla'\"), ('model', \"'NESTPopulation'\"), ('brain_region', \"'Left Principal sensory nucleus of the trigeminal'\"), ('gid', \"UUID('c106c07f-1d5a-47b1-974c-3b7efad8370e')\"), ('number_of_nodes', '457'), ('nodes', 'NodeCollection(metadata=None, model=parrot_neuron, size=457, first=64260, last=64716)')])...\n",
      "\n",
      "...created: OrderedDict([('title', \"'NESTPopulation gid: 9dfb3136-90ea-4541-aaef-9a21282957cb'\"), ('Type', \"'NESTPopulation'\"), ('_nodes', 'NodeCollection(metadata=None, model=parrot_neuron, size=426, first=64717, last=65142)'), ('label', \"'parrot_ponssens'\"), ('model', \"'NESTPopulation'\"), ('brain_region', \"'Right Pons Sensory'\"), ('gid', \"UUID('9dfb3136-90ea-4541-aaef-9a21282957cb')\"), ('number_of_nodes', '426'), ('nodes', 'NodeCollection(metadata=None, model=parrot_neuron, size=426, first=64717, last=65142)')])...\n",
      "\n",
      "...created: OrderedDict([('title', \"'NESTPopulation gid: bc0ad9d3-1048-4c8a-b377-4d3cdee0766f'\"), ('Type', \"'NESTPopulation'\"), ('_nodes', 'NodeCollection(metadata=None, model=parrot_neuron, size=426, first=65143, last=65568)'), ('label', \"'parrot_ponssens'\"), ('model', \"'NESTPopulation'\"), ('brain_region', \"'Left Pons Sensory'\"), ('gid', \"UUID('bc0ad9d3-1048-4c8a-b377-4d3cdee0766f')\"), ('number_of_nodes', '426'), ('nodes', 'NodeCollection(metadata=None, model=parrot_neuron, size=426, first=65143, last=65568)')])...\n",
      "Connecting   mossy_to_glomerulus !\n",
      "mossy_fibers - Right Ansiform lobule -> glomerulus -> Right Ansiform lobule\n",
      "Connecting   mossy_to_glomerulus !\n",
      "mossy_fibers - Left Ansiform lobule -> glomerulus -> Left Ansiform lobule\n",
      "Connecting   ascending_axon_to_golgi !\n",
      "granule_cell - Right Ansiform lobule -> golgi_cell -> Right Ansiform lobule\n",
      "Connecting   ascending_axon_to_golgi !\n",
      "granule_cell - Left Ansiform lobule -> golgi_cell -> Left Ansiform lobule\n",
      "Connecting   ascending_axon_to_purkinje !\n",
      "granule_cell - Right Ansiform lobule -> purkinje_cell -> Right Ansiform lobule\n",
      "Connecting   ascending_axon_to_purkinje !\n",
      "granule_cell - Left Ansiform lobule -> purkinje_cell -> Left Ansiform lobule\n",
      "Connecting   basket_to_purkinje !\n",
      "basket_cell - Right Ansiform lobule -> purkinje_cell -> Right Ansiform lobule\n",
      "Connecting   basket_to_purkinje !\n",
      "basket_cell - Left Ansiform lobule -> purkinje_cell -> Left Ansiform lobule\n",
      "Connecting   basket_to_basket !\n",
      "basket_cell - Right Ansiform lobule -> basket_cell -> Right Ansiform lobule\n",
      "Connecting   basket_to_basket !\n",
      "basket_cell - Left Ansiform lobule -> basket_cell -> Left Ansiform lobule\n",
      "Connecting   glomerulus_to_golgi !\n",
      "glomerulus - Right Ansiform lobule -> golgi_cell -> Right Ansiform lobule\n",
      "Connecting   glomerulus_to_golgi !\n",
      "glomerulus - Left Ansiform lobule -> golgi_cell -> Left Ansiform lobule\n",
      "Connecting   glomerulus_to_granule !\n",
      "glomerulus - Right Ansiform lobule -> granule_cell -> Right Ansiform lobule\n",
      "Connecting   glomerulus_to_granule !\n",
      "glomerulus - Left Ansiform lobule -> granule_cell -> Left Ansiform lobule\n",
      "Connecting   golgi_to_granule !\n",
      "golgi_cell - Right Ansiform lobule -> granule_cell -> Right Ansiform lobule\n",
      "Connecting   golgi_to_granule !\n",
      "golgi_cell - Left Ansiform lobule -> granule_cell -> Left Ansiform lobule\n",
      "Connecting   golgi_to_golgi !\n",
      "golgi_cell - Right Ansiform lobule -> golgi_cell -> Right Ansiform lobule\n",
      "Connecting   golgi_to_golgi !\n",
      "golgi_cell - Left Ansiform lobule -> golgi_cell -> Left Ansiform lobule\n",
      "Connecting   parallel_fiber_to_basket !\n",
      "granule_cell - Right Ansiform lobule -> basket_cell -> Right Ansiform lobule\n",
      "Connecting   parallel_fiber_to_basket !\n",
      "granule_cell - Left Ansiform lobule -> basket_cell -> Left Ansiform lobule\n",
      "Connecting   parallel_fiber_to_golgi !\n",
      "granule_cell - Right Ansiform lobule -> golgi_cell -> Right Ansiform lobule\n",
      "Connecting   parallel_fiber_to_golgi !\n",
      "granule_cell - Left Ansiform lobule -> golgi_cell -> Left Ansiform lobule\n",
      "Connecting   parallel_fiber_to_purkinje !\n",
      "granule_cell - Right Ansiform lobule -> purkinje_cell -> Right Ansiform lobule\n",
      "Connecting   parallel_fiber_to_purkinje !\n",
      "granule_cell - Left Ansiform lobule -> purkinje_cell -> Left Ansiform lobule\n",
      "Connecting   parallel_fiber_to_stellate !\n",
      "granule_cell - Right Ansiform lobule -> stellate_cell -> Right Ansiform lobule\n",
      "Connecting   parallel_fiber_to_stellate !\n",
      "granule_cell - Left Ansiform lobule -> stellate_cell -> Left Ansiform lobule\n",
      "Connecting   stellate_to_purkinje !\n",
      "stellate_cell - Right Ansiform lobule -> purkinje_cell -> Right Ansiform lobule\n",
      "Connecting   stellate_to_purkinje !\n",
      "stellate_cell - Left Ansiform lobule -> purkinje_cell -> Left Ansiform lobule\n"
     ]
    },
    {
     "name": "stdout",
     "output_type": "stream",
     "text": [
      "Connecting   stellate_to_stellate !\n",
      "stellate_cell - Right Ansiform lobule -> stellate_cell -> Right Ansiform lobule\n",
      "Connecting   stellate_to_stellate !\n",
      "stellate_cell - Left Ansiform lobule -> stellate_cell -> Left Ansiform lobule\n",
      "Connecting   purkinje_to_dcn_glut_large !\n",
      "purkinje_cell - Right Ansiform lobule -> dcn_cell_glut_large -> Right Interposed nucleus\n",
      "Connecting   purkinje_to_dcn_glut_large !\n",
      "purkinje_cell - Left Ansiform lobule -> dcn_cell_glut_large -> Left Interposed nucleus\n",
      "Connecting   mossy_to_dcn_glut_large !\n",
      "mossy_fibers - Right Ansiform lobule -> dcn_cell_glut_large -> Right Interposed nucleus\n",
      "Connecting   mossy_to_dcn_glut_large !\n",
      "mossy_fibers - Left Ansiform lobule -> dcn_cell_glut_large -> Left Interposed nucleus\n",
      "Connecting   purkinje_to_dcn_GABA !\n",
      "purkinje_cell - Right Ansiform lobule -> dcn_cell_GABA -> Right Interposed nucleus\n",
      "Connecting   purkinje_to_dcn_GABA !\n",
      "purkinje_cell - Left Ansiform lobule -> dcn_cell_GABA -> Left Interposed nucleus\n",
      "Connecting   io_to_purkinje !\n",
      "io_cell - Right Inferior olivary complex -> purkinje_cell -> Right Ansiform lobule\n",
      "Connecting   io_to_purkinje !\n",
      "io_cell - Left Inferior olivary complex -> purkinje_cell -> Left Ansiform lobule\n",
      "Connecting   io_to_basket !\n",
      "io_cell - Right Inferior olivary complex -> basket_cell -> Right Ansiform lobule\n",
      "Connecting   io_to_basket !\n",
      "io_cell - Left Inferior olivary complex -> basket_cell -> Left Ansiform lobule\n",
      "Connecting   io_to_stellate !\n",
      "io_cell - Right Inferior olivary complex -> stellate_cell -> Right Ansiform lobule\n",
      "Connecting   io_to_stellate !\n",
      "io_cell - Left Inferior olivary complex -> stellate_cell -> Left Ansiform lobule\n",
      "Connecting   io_to_dcn_glut_large !\n",
      "io_cell - Right Inferior olivary complex -> dcn_cell_glut_large -> Right Interposed nucleus\n",
      "Connecting   io_to_dcn_glut_large !\n",
      "io_cell - Left Inferior olivary complex -> dcn_cell_glut_large -> Left Interposed nucleus\n",
      "Connecting   io_to_dcn_GABA !\n",
      "io_cell - Right Inferior olivary complex -> dcn_cell_GABA -> Right Interposed nucleus\n",
      "Connecting   io_to_dcn_GABA !\n",
      "io_cell - Left Inferior olivary complex -> dcn_cell_GABA -> Left Interposed nucleus\n",
      "Connecting   dcn_GABA_to_io !\n",
      "dcn_cell_GABA - Right Interposed nucleus -> io_cell -> Right Inferior olivary complex\n",
      "Connecting   dcn_GABA_to_io !\n",
      "dcn_cell_GABA - Left Interposed nucleus -> io_cell -> Left Inferior olivary complex\n",
      "Connecting! parrot_medulla - Right Principal sensory nucleus of the trigeminal -> mossy_fibers -> Right Ansiform lobule\n",
      "Connecting! parrot_medulla - Left Principal sensory nucleus of the trigeminal -> mossy_fibers -> Left Ansiform lobule\n",
      "Connecting!  parrot_ponssens - Right Pons Sensory -> mossy_fibers -> Right Ansiform lobule\n",
      "Connecting!  parrot_ponssens - Left Pons Sensory -> mossy_fibers -> Left Ansiform lobule\n",
      "2022-06-29 15:56:22,867 - INFO - tvb_multiscale.core.spiking_models.devices - <class 'tvb_multiscale.core.spiking_models.devices.DeviceSet'> of model poisson_generator for Background created!\n",
      "2022-06-29 15:56:22,867 - INFO - tvb_multiscale.core.spiking_models.devices - <class 'tvb_multiscale.core.spiking_models.devices.DeviceSet'> of model poisson_generator for Background created!\n",
      "Connected!  Background - Right Ansiform lobule -> parrot_ponssens -> Right Ansiform lobule\n",
      "Connected!  Background - Left Ansiform lobule -> parrot_ponssens -> Left Ansiform lobule\n",
      "2022-06-29 15:56:22,878 - INFO - tvb_multiscale.core.spiking_models.devices - <class 'tvb_multiscale.core.spiking_models.devices.DeviceSet'> of model sinusoidal_poisson_generator for Stimulus created!\n",
      "2022-06-29 15:56:22,878 - INFO - tvb_multiscale.core.spiking_models.devices - <class 'tvb_multiscale.core.spiking_models.devices.DeviceSet'> of model sinusoidal_poisson_generator for Stimulus created!\n",
      "Connected!  Stimulus - Right Principal sensory nucleus of the trigeminal -> parrot_medulla -> Right Principal sensory nucleus of the trigeminal\n",
      "Connected!  Stimulus - Left Principal sensory nucleus of the trigeminal -> parrot_medulla -> Left Principal sensory nucleus of the trigeminal\n",
      "2022-06-29 15:56:22,889 - INFO - tvb_multiscale.core.spiking_models.devices - <class 'tvb_multiscale.core.spiking_models.devices.DeviceSet'> of model spike_recorder for golgi_cell created!\n",
      "2022-06-29 15:56:22,889 - INFO - tvb_multiscale.core.spiking_models.devices - <class 'tvb_multiscale.core.spiking_models.devices.DeviceSet'> of model spike_recorder for golgi_cell created!\n",
      "\n",
      "...created spike_recorder device for population golgi_cell in brain region Right Ansiform lobule...\n",
      "\n",
      "...created spike_recorder device for population golgi_cell in brain region Left Ansiform lobule...\n",
      "2022-06-29 15:56:22,907 - INFO - tvb_multiscale.core.spiking_models.devices - <class 'tvb_multiscale.core.spiking_models.devices.DeviceSet'> of model spike_recorder for granule_cell created!\n",
      "2022-06-29 15:56:22,907 - INFO - tvb_multiscale.core.spiking_models.devices - <class 'tvb_multiscale.core.spiking_models.devices.DeviceSet'> of model spike_recorder for granule_cell created!\n",
      "\n",
      "...created spike_recorder device for population granule_cell in brain region Right Ansiform lobule...\n",
      "\n",
      "...created spike_recorder device for population granule_cell in brain region Left Ansiform lobule...\n",
      "2022-06-29 15:56:23,118 - INFO - tvb_multiscale.core.spiking_models.devices - <class 'tvb_multiscale.core.spiking_models.devices.DeviceSet'> of model spike_recorder for purkinje_cell created!\n",
      "2022-06-29 15:56:23,118 - INFO - tvb_multiscale.core.spiking_models.devices - <class 'tvb_multiscale.core.spiking_models.devices.DeviceSet'> of model spike_recorder for purkinje_cell created!\n",
      "\n",
      "...created spike_recorder device for population purkinje_cell in brain region Right Ansiform lobule...\n",
      "\n",
      "...created spike_recorder device for population purkinje_cell in brain region Left Ansiform lobule...\n",
      "2022-06-29 15:56:23,149 - INFO - tvb_multiscale.core.spiking_models.devices - <class 'tvb_multiscale.core.spiking_models.devices.DeviceSet'> of model spike_recorder for basket_cell created!\n",
      "2022-06-29 15:56:23,149 - INFO - tvb_multiscale.core.spiking_models.devices - <class 'tvb_multiscale.core.spiking_models.devices.DeviceSet'> of model spike_recorder for basket_cell created!\n",
      "\n",
      "...created spike_recorder device for population basket_cell in brain region Right Ansiform lobule...\n",
      "\n",
      "...created spike_recorder device for population basket_cell in brain region Left Ansiform lobule...\n",
      "2022-06-29 15:56:23,180 - INFO - tvb_multiscale.core.spiking_models.devices - <class 'tvb_multiscale.core.spiking_models.devices.DeviceSet'> of model spike_recorder for stellate_cell created!\n",
      "2022-06-29 15:56:23,180 - INFO - tvb_multiscale.core.spiking_models.devices - <class 'tvb_multiscale.core.spiking_models.devices.DeviceSet'> of model spike_recorder for stellate_cell created!\n",
      "\n",
      "...created spike_recorder device for population stellate_cell in brain region Right Ansiform lobule...\n",
      "\n",
      "...created spike_recorder device for population stellate_cell in brain region Left Ansiform lobule...\n",
      "2022-06-29 15:56:23,222 - INFO - tvb_multiscale.core.spiking_models.devices - <class 'tvb_multiscale.core.spiking_models.devices.DeviceSet'> of model spike_recorder for dcn_cell_glut_large created!\n",
      "2022-06-29 15:56:23,222 - INFO - tvb_multiscale.core.spiking_models.devices - <class 'tvb_multiscale.core.spiking_models.devices.DeviceSet'> of model spike_recorder for dcn_cell_glut_large created!\n",
      "\n",
      "...created spike_recorder device for population dcn_cell_glut_large in brain region Right Interposed nucleus...\n",
      "\n",
      "...created spike_recorder device for population dcn_cell_glut_large in brain region Left Interposed nucleus...\n",
      "2022-06-29 15:56:23,263 - INFO - tvb_multiscale.core.spiking_models.devices - <class 'tvb_multiscale.core.spiking_models.devices.DeviceSet'> of model spike_recorder for dcn_cell_GABA created!\n",
      "2022-06-29 15:56:23,263 - INFO - tvb_multiscale.core.spiking_models.devices - <class 'tvb_multiscale.core.spiking_models.devices.DeviceSet'> of model spike_recorder for dcn_cell_GABA created!\n",
      "\n",
      "...created spike_recorder device for population dcn_cell_GABA in brain region Right Interposed nucleus...\n",
      "\n",
      "...created spike_recorder device for population dcn_cell_GABA in brain region Left Interposed nucleus...\n",
      "2022-06-29 15:56:23,315 - INFO - tvb_multiscale.core.spiking_models.devices - <class 'tvb_multiscale.core.spiking_models.devices.DeviceSet'> of model spike_recorder for io_cell created!\n"
     ]
    },
    {
     "name": "stdout",
     "output_type": "stream",
     "text": [
      "2022-06-29 15:56:23,315 - INFO - tvb_multiscale.core.spiking_models.devices - <class 'tvb_multiscale.core.spiking_models.devices.DeviceSet'> of model spike_recorder for io_cell created!\n",
      "\n",
      "...created spike_recorder device for population io_cell in brain region Right Inferior olivary complex...\n",
      "\n",
      "...created spike_recorder device for population io_cell in brain region Left Inferior olivary complex...\n",
      "2022-06-29 15:56:23,332 - INFO - tvb_multiscale.core.spiking_models.devices - <class 'tvb_multiscale.core.spiking_models.devices.DeviceSet'> of model spike_recorder for glomerulus created!\n",
      "2022-06-29 15:56:23,332 - INFO - tvb_multiscale.core.spiking_models.devices - <class 'tvb_multiscale.core.spiking_models.devices.DeviceSet'> of model spike_recorder for glomerulus created!\n",
      "\n",
      "...created spike_recorder device for population glomerulus in brain region Right Ansiform lobule...\n",
      "\n",
      "...created spike_recorder device for population glomerulus in brain region Left Ansiform lobule...\n",
      "2022-06-29 15:56:23,512 - INFO - tvb_multiscale.core.spiking_models.devices - <class 'tvb_multiscale.core.spiking_models.devices.DeviceSet'> of model spike_recorder for mossy_fibers created!\n",
      "2022-06-29 15:56:23,512 - INFO - tvb_multiscale.core.spiking_models.devices - <class 'tvb_multiscale.core.spiking_models.devices.DeviceSet'> of model spike_recorder for mossy_fibers created!\n",
      "\n",
      "...created spike_recorder device for population mossy_fibers in brain region Right Ansiform lobule...\n",
      "\n",
      "...created spike_recorder device for population mossy_fibers in brain region Left Ansiform lobule...\n",
      "2022-06-29 15:56:23,536 - INFO - tvb_multiscale.core.spiking_models.devices - <class 'tvb_multiscale.core.spiking_models.devices.DeviceSet'> of model spike_recorder for parrot_medulla created!\n",
      "2022-06-29 15:56:23,536 - INFO - tvb_multiscale.core.spiking_models.devices - <class 'tvb_multiscale.core.spiking_models.devices.DeviceSet'> of model spike_recorder for parrot_medulla created!\n",
      "\n",
      "...created spike_recorder device for population parrot_medulla in brain region Right Principal sensory nucleus of the trigeminal...\n",
      "\n",
      "...created spike_recorder device for population parrot_medulla in brain region Left Principal sensory nucleus of the trigeminal...\n",
      "2022-06-29 15:56:23,584 - INFO - tvb_multiscale.core.spiking_models.devices - <class 'tvb_multiscale.core.spiking_models.devices.DeviceSet'> of model spike_recorder for parrot_ponssens created!\n",
      "2022-06-29 15:56:23,584 - INFO - tvb_multiscale.core.spiking_models.devices - <class 'tvb_multiscale.core.spiking_models.devices.DeviceSet'> of model spike_recorder for parrot_ponssens created!\n",
      "\n",
      "...created spike_recorder device for population parrot_ponssens in brain region Right Pons Sensory...\n",
      "\n",
      "...created spike_recorder device for population parrot_ponssens in brain region Left Pons Sensory...\n",
      "NESTNetwork (\n",
      "  title ........................... 'NESTNetwork gid: ed56f360-10e8-427a-97b1-8539550cad31'\n",
      "  Type ............................ 'NESTNetwork'\n",
      "  config .......................... '--------------------'\n",
      "  config.title .................... 'Config gid: 75e2a645-8ec5-4dcd-a17c-a28e292faa4b'\n",
      "  config.Type ..................... 'Config'\n",
      "  config.gid ...................... UUID('75e2a645-8ec5-4dcd-a17c-a28e292faa4b')\n",
      "  brain_regions ................... '--------------------'\n",
      "  brain_regions.title ............. 'NESTBrain gid: a3e6f934-40fe-4d6b-aa72-24c78c92cb52'\n",
      "  brain_regions.Type .............. 'NESTBrain'\n",
      "  brain_regions.gid ............... UUID('a3e6f934-40fe-4d6b-aa72-24c78c92cb52')\n",
      "  brain_regions.label ............. ''\n",
      "  brain_regions.size .............. 10\n",
      "  brain_regions.Regions ........... --------------------\n",
      "  brain_regions.Regions: shape .... (10,)\n",
      "  brain_regions.Regions: dtype .... <U49\n",
      "  brain_regions.Regions: values ... ['Right Ansiform lobule' 'Left Ansiform lobule' 'Right Interposed nucleus'\n",
      " 'Left Interposed nucleus' 'Right Inferior olivary complex'\n",
      " 'Left Inferior olivary complex'\n",
      " 'Right Principal sensory nucleus of the trigeminal'\n",
      " 'Left Principal sensory nucleus of the trigeminal' 'Right Pons Sensory'\n",
      " 'Left Pons Sensory']\n",
      "  output_devices .................. '--------------------'\n",
      "  output_devices.title ............ 'DeviceSets gid: 9da058cf-b0b5-433e-b90e-991ee25f462b'\n",
      "  output_devices.Type ............. 'DeviceSets'\n",
      "  output_devices.gid .............. UUID('9da058cf-b0b5-433e-b90e-991ee25f462b')\n",
      "  output_devices.label ............ 'output_devices'\n",
      "  output_devices.size ............. 12\n",
      "  output_devices.DeviceSets ....... --------------------\n",
      "  output_devices.DeviceSets: shape  (12,)\n",
      "  output_devices.DeviceSets: dtype  <U19\n",
      "  output_devices.DeviceSets: values  ['golgi_cell' 'granule_cell' 'purkinje_cell' 'basket_cell' 'stellate_cell'\n",
      " 'dcn_cell_glut_large' 'dcn_cell_GABA' 'io_cell' 'glomerulus'\n",
      " 'mossy_fibers' 'parrot_medulla' 'parrot_ponssens']\n",
      "  input_devices ................... '--------------------'\n",
      "  input_devices.title ............. 'DeviceSets gid: 01cd6f23-7da6-4bc0-9a58-29e414f3017d'\n",
      "  input_devices.Type .............. 'DeviceSets'\n",
      "  input_devices.gid ............... UUID('01cd6f23-7da6-4bc0-9a58-29e414f3017d')\n",
      "  input_devices.label ............. 'input_devices'\n",
      "  input_devices.size .............. 2\n",
      "  input_devices.DeviceSets ........ --------------------\n",
      "  input_devices.DeviceSets: shape . (2,)\n",
      "  input_devices.DeviceSets: dtype . <U10\n",
      "  input_devices.DeviceSets: values  ['Background' 'Stimulus']\n",
      "  output_proxies .................. '--------------------'\n",
      "  output_proxies.title ............ 'DeviceSets gid: 3c9a5101-6ca6-4b27-b095-49c2a4e2cf4a'\n",
      "  output_proxies.Type ............. 'DeviceSets'\n",
      "  output_proxies.gid .............. UUID('3c9a5101-6ca6-4b27-b095-49c2a4e2cf4a')\n",
      "  output_proxies.label ............ 'output_proxies'\n",
      "  output_proxies.size ............. 0\n",
      "  output_proxies.DeviceSets ....... --------------------\n",
      "  shape ........................... (0,)\n",
      "  dtype ........................... float64\n",
      "  is empty ........................ True\n",
      "  input_proxies ................... '--------------------'\n",
      "  input_proxies.title ............. 'DeviceSets gid: 98c94149-c627-4328-a36d-4165656ece77'\n",
      "  input_proxies.Type .............. 'DeviceSets'\n",
      "  input_proxies.gid ............... UUID('98c94149-c627-4328-a36d-4165656ece77')\n",
      "  input_proxies.label ............. 'input_proxies'\n",
      "  input_proxies.size .............. 0\n",
      "  input_proxies.DeviceSets ........ --------------------\n",
      "  gid ............................. UUID('ed56f360-10e8-427a-97b1-8539550cad31')\n",
      ")\n"
     ]
    }
   ],
   "source": [
    "nest_network, nest_nodes_inds, neuron_models, neuron_number, mossy_fibers_medulla, mossy_fibers_ponssens = \\\n",
    "    build_NEST_network(config)"
   ]
  },
  {
   "cell_type": "code",
   "execution_count": 3,
   "id": "7ce63096",
   "metadata": {},
   "outputs": [
    {
     "data": {
      "text/plain": [
       "{'basket_cell': 147,\n",
       " 'dcn_cell_GABA': 76,\n",
       " 'dcn_cell_glut_large': 129,\n",
       " 'glomerulus': 2336,\n",
       " 'golgi_cell': 70,\n",
       " 'granule_cell': 28615,\n",
       " 'io_cell': 13,\n",
       " 'mossy_fibers': 117,\n",
       " 'purkinje_cell': 99,\n",
       " 'stellate_cell': 299}"
      ]
     },
     "execution_count": 3,
     "metadata": {},
     "output_type": "execute_result"
    }
   ],
   "source": [
    "neuron_number"
   ]
  },
  {
   "cell_type": "code",
   "execution_count": 4,
   "id": "a788c418",
   "metadata": {},
   "outputs": [],
   "source": [
    "# nest_network.nest_instance.Simulate(config.SIMULATION_LENGTH)\n",
    "\n",
    "# nest_network = simulate_nest_network(nest_network, config, neuron_models, neuron_number, plot_flag=True)\n"
   ]
  },
  {
   "cell_type": "code",
   "execution_count": 5,
   "id": "260a61e8",
   "metadata": {
    "scrolled": true
   },
   "outputs": [
    {
     "name": "stdout",
     "output_type": "stream",
     "text": [
      "\n",
      "output (TVB->NEST coupling) interfaces' configurations:\n",
      "\n",
      "{'voi': array([0]), 'populations': array(['parrot_medulla'], dtype='<U14'), 'model': 'RATE', 'proxy_inds': array([ 96, 203]), 'receptor_type': 0, 'spiking_proxy_inds': array([ 96, 203]), 'coupling_mode': 'TVB', 'voi_labels': array(['E'], dtype='<U1'), 'monitor_ind': 0, 'proxy': <class 'tvb_multiscale.tvb_nest.interfaces.io.NESTInhomogeneousPoissonGeneratorSet'>, 'transformer': <tvb_multiscale.core.interfaces.base.transformers.models.base.LinearRate object at 0x7f56f23970d0>}\n",
      "{'voi': array([0]), 'populations': array(['parrot_ponssens'], dtype='<U15'), 'model': 'RATE', 'proxy_inds': array([ 95, 202]), 'receptor_type': 0, 'spiking_proxy_inds': array([ 95, 202]), 'coupling_mode': 'TVB', 'voi_labels': array(['E'], dtype='<U1'), 'monitor_ind': 0, 'proxy': <class 'tvb_multiscale.tvb_nest.interfaces.io.NESTInhomogeneousPoissonGeneratorSet'>, 'transformer': <tvb_multiscale.core.interfaces.base.transformers.models.base.LinearRate object at 0x7f56e8549fa0>}\n",
      "{'voi': array([0]), 'populations': array(['mossy_fibers'], dtype='<U12'), 'model': 'RATE', 'proxy_inds': array([104, 211]), 'receptor_type': 0, 'spiking_proxy_inds': array([104, 211]), 'coupling_mode': 'TVB', 'voi_labels': array(['E'], dtype='<U1'), 'monitor_ind': 0, 'proxy': <class 'tvb_multiscale.tvb_nest.interfaces.io.NESTInhomogeneousPoissonGeneratorSet'>, 'transformer': <tvb_multiscale.core.interfaces.base.transformers.models.base.LinearRate object at 0x7f56e8564070>}\n",
      "{'voi': array([0]), 'populations': array(['io_cell'], dtype='<U7'), 'model': 'RATE', 'proxy_inds': array([102, 209]), 'receptor_type': 1, 'spiking_proxy_inds': array([102, 209]), 'coupling_mode': 'TVB', 'voi_labels': array(['E'], dtype='<U1'), 'monitor_ind': 0, 'proxy': <class 'tvb_multiscale.tvb_nest.interfaces.io.NESTInhomogeneousPoissonGeneratorSet'>, 'transformer': <tvb_multiscale.core.interfaces.base.transformers.models.base.LinearRate object at 0x7f56e85640d0>}\n",
      "\n",
      "input (NEST->TVB update) interfaces' configurations:\n",
      "\n",
      "{'voi': array([0]), 'populations': array(['parrot_medulla'], dtype='<U14'), 'proxy_inds': array([ 96, 203]), 'voi_labels': array(['E'], dtype='<U1'), 'proxy': <class 'tvb_multiscale.tvb_nest.interfaces.io.NESTSpikeRecorderTotalSet'>, 'transformer': <tvb_multiscale.core.interfaces.base.transformers.models.elephant.ElephantSpikesHistogramRate object at 0x7f56e8564130>}\n",
      "{'voi': array([0]), 'populations': array(['parrot_ponssens'], dtype='<U15'), 'proxy_inds': array([ 95, 202]), 'voi_labels': array(['E'], dtype='<U1'), 'proxy': <class 'tvb_multiscale.tvb_nest.interfaces.io.NESTSpikeRecorderTotalSet'>, 'transformer': <tvb_multiscale.core.interfaces.base.transformers.models.elephant.ElephantSpikesHistogramRate object at 0x7f56e8564040>}\n",
      "{'voi': array([0]), 'populations': array(['granule_cell'], dtype='<U12'), 'proxy_inds': array([104, 211]), 'neurons_inds': <function build_tvb_nest_interfaces.<locals>.<lambda> at 0x7f56f237f5e0>, 'voi_labels': array(['E'], dtype='<U1'), 'proxy': <class 'tvb_multiscale.tvb_nest.interfaces.io.NESTSpikeRecorderTotalSet'>, 'transformer': <tvb_multiscale.core.interfaces.base.transformers.models.elephant.ElephantSpikesHistogramRate object at 0x7f56e8564220>}\n",
      "{'voi': array([0]), 'populations': array(['dcn_cell_glut_large'], dtype='<U19'), 'proxy_inds': array([106, 213]), 'voi_labels': array(['E'], dtype='<U1'), 'proxy': <class 'tvb_multiscale.tvb_nest.interfaces.io.NESTSpikeRecorderTotalSet'>, 'transformer': <tvb_multiscale.core.interfaces.base.transformers.models.elephant.ElephantSpikesHistogramRate object at 0x7f56e8564250>}\n",
      "{'voi': array([0]), 'populations': array(['io_cell'], dtype='<U7'), 'proxy_inds': array([102, 209]), 'voi_labels': array(['E'], dtype='<U1'), 'proxy': <class 'tvb_multiscale.tvb_nest.interfaces.io.NESTSpikeRecorderTotalSet'>, 'transformer': <tvb_multiscale.core.interfaces.base.transformers.models.elephant.ElephantSpikesHistogramRate object at 0x7f56e85642b0>}\n",
      "2022-06-29 15:56:24,127 - INFO - tvb_multiscale.core.spiking_models.devices - <class 'tvb_multiscale.core.spiking_models.devices.DeviceSet'> of model inhomogeneous_poisson_generator for ['E']->['parrot_medulla'] created!\n",
      "2022-06-29 15:56:24,127 - INFO - tvb_multiscale.core.spiking_models.devices - <class 'tvb_multiscale.core.spiking_models.devices.DeviceSet'> of model inhomogeneous_poisson_generator for ['E']->['parrot_medulla'] created!\n",
      "2022-06-29 15:56:24,145 - INFO - tvb_multiscale.core.spiking_models.devices - <class 'tvb_multiscale.core.spiking_models.devices.DeviceSet'> of model inhomogeneous_poisson_generator for ['E']->['parrot_ponssens'] created!\n",
      "2022-06-29 15:56:24,145 - INFO - tvb_multiscale.core.spiking_models.devices - <class 'tvb_multiscale.core.spiking_models.devices.DeviceSet'> of model inhomogeneous_poisson_generator for ['E']->['parrot_ponssens'] created!\n",
      "2022-06-29 15:56:24,163 - INFO - tvb_multiscale.core.spiking_models.devices - <class 'tvb_multiscale.core.spiking_models.devices.DeviceSet'> of model inhomogeneous_poisson_generator for ['E']->['mossy_fibers'] created!\n",
      "2022-06-29 15:56:24,163 - INFO - tvb_multiscale.core.spiking_models.devices - <class 'tvb_multiscale.core.spiking_models.devices.DeviceSet'> of model inhomogeneous_poisson_generator for ['E']->['mossy_fibers'] created!\n",
      "2022-06-29 15:56:24,182 - INFO - tvb_multiscale.core.spiking_models.devices - <class 'tvb_multiscale.core.spiking_models.devices.DeviceSet'> of model inhomogeneous_poisson_generator for ['E']->['io_cell'] created!\n",
      "2022-06-29 15:56:24,182 - INFO - tvb_multiscale.core.spiking_models.devices - <class 'tvb_multiscale.core.spiking_models.devices.DeviceSet'> of model inhomogeneous_poisson_generator for ['E']->['io_cell'] created!\n",
      "2022-06-29 15:56:24,205 - INFO - tvb_multiscale.core.spiking_models.devices - <class 'tvb_multiscale.core.spiking_models.devices.DeviceSet'> of model spike_recorder for ['parrot_medulla']->['E'] created!\n",
      "2022-06-29 15:56:24,205 - INFO - tvb_multiscale.core.spiking_models.devices - <class 'tvb_multiscale.core.spiking_models.devices.DeviceSet'> of model spike_recorder for ['parrot_medulla']->['E'] created!\n",
      "2022-06-29 15:56:24,242 - INFO - tvb_multiscale.core.spiking_models.devices - <class 'tvb_multiscale.core.spiking_models.devices.DeviceSet'> of model spike_recorder for ['parrot_ponssens']->['E'] created!\n",
      "2022-06-29 15:56:24,242 - INFO - tvb_multiscale.core.spiking_models.devices - <class 'tvb_multiscale.core.spiking_models.devices.DeviceSet'> of model spike_recorder for ['parrot_ponssens']->['E'] created!\n",
      "2022-06-29 15:56:24,266 - INFO - tvb_multiscale.core.spiking_models.devices - <class 'tvb_multiscale.core.spiking_models.devices.DeviceSet'> of model spike_recorder for ['granule_cell']->['E'] created!\n",
      "2022-06-29 15:56:24,266 - INFO - tvb_multiscale.core.spiking_models.devices - <class 'tvb_multiscale.core.spiking_models.devices.DeviceSet'> of model spike_recorder for ['granule_cell']->['E'] created!\n",
      "2022-06-29 15:56:25,960 - INFO - tvb_multiscale.core.spiking_models.devices - <class 'tvb_multiscale.core.spiking_models.devices.DeviceSet'> of model spike_recorder for ['dcn_cell_glut_large']->['E'] created!\n",
      "2022-06-29 15:56:25,960 - INFO - tvb_multiscale.core.spiking_models.devices - <class 'tvb_multiscale.core.spiking_models.devices.DeviceSet'> of model spike_recorder for ['dcn_cell_glut_large']->['E'] created!\n",
      "2022-06-29 15:56:25,978 - INFO - tvb_multiscale.core.spiking_models.devices - <class 'tvb_multiscale.core.spiking_models.devices.DeviceSet'> of model spike_recorder for ['io_cell']->['E'] created!\n",
      "2022-06-29 15:56:25,978 - INFO - tvb_multiscale.core.spiking_models.devices - <class 'tvb_multiscale.core.spiking_models.devices.DeviceSet'> of model spike_recorder for ['io_cell']->['E'] created!\n",
      "2022-06-29 15:56:26,008 - ERROR - tvb_multiscale.core.tvb.cosimulator.cosimulator_serial - Bad Simulator.integrator.noise.nsig shape: (2, 1, 1)\n",
      "2022-06-29 15:56:26,036 - WARNING - tvb_multiscale.core.tvb.cosimulator.cosimulator_serial - Current step is not 0 upon configuration!\n",
      "Setting it to 0. Initial condition might be affected!\n",
      "Current step is not 0 upon configuration!\n",
      "Setting it to 0. Initial condition might be affected!\n",
      "\n",
      "\n",
      "output (TVB->NEST coupling) interfaces:\n",
      "\n",
      "TVBtoSpikeNetInterfaces (\n",
      "  title .................................. 'TVBtoSpikeNetInterfaces gid: 778d50e8-ca48-42e3-856e-f03703d196dd'\n",
      "  Type ................................... 'TVBtoSpikeNetInterfaces'\n",
      "  dt ..................................... 0.1\n",
      "  interfaces[0] .......................... '--------------------'\n",
      "  interfaces[0].title .................... 'TVBtoNESTInterface gid: a8e9081a-4bc8-4dee-ad00-ae10ce3c6e5e'\n",
      "  interfaces[0].Type ..................... 'TVBtoNESTInterface'\n",
      "  interfaces[0].transformer .............. LinearRate gid: 622dc344-3998-4c30-a3b8-6488d477392c\n",
      "  interfaces[0].monitor_ind .............. 0\n",
      "  interfaces[0].coupling_mode ............ 'TVB'\n",
      "  interfaces[0].proxy_inds ............... --------------------\n",
      "  interfaces[0].proxy_inds: shape ........ (2,)\n",
      "  interfaces[0].proxy_inds: dtype ........ int64\n",
      "  interfaces[0].proxy_inds: values ....... [[96], [203]]\n",
      "  interfaces[0].voi ...................... --------------------\n",
      "  interfaces[0].voi: shape ............... (1,)\n",
      "  interfaces[0].voi: dtype ............... int64\n",
      "  interfaces[0].voi: values .............. 0\n",
      "  interfaces[0].voi_labels ............... --------------------\n",
      "  interfaces[0].voi_labels: shape ........ (1,)\n",
      "  interfaces[0].voi_labels: dtype ........ <U128\n",
      "  interfaces[0].voi_labels: values ....... E\n",
      "  interfaces[0].proxy .................... NESTInhomogeneousPoissonGeneratorSet gid: dfacb9e7-9662-4540-afb5-59f9a542e453\n",
      "  interfaces[0].spiking_network .......... NESTNetwork gid: ed56f360-10e8-427a-97b1-8539550cad31\n",
      "  interfaces[0].spiking_proxy_inds ....... --------------------\n",
      "  interfaces[0].spiking_proxy_inds: shape  (2,)\n",
      "  interfaces[0].spiking_proxy_inds: dtype  int64\n",
      "  interfaces[0].spiking_proxy_inds: values  [[96], [203]]\n",
      "  interfaces[0].populations .............. --------------------\n",
      "  interfaces[0].populations: shape ....... (1,)\n",
      "  interfaces[0].populations: dtype ....... <U128\n",
      "  interfaces[0].populations: values ...... parrot_medulla\n",
      "  interfaces[0].model .................... 'RATE'\n",
      "  interfaces[0].gid ...................... UUID('a8e9081a-4bc8-4dee-ad00-ae10ce3c6e5e')\n",
      "  interfaces[1] .......................... '--------------------'\n",
      "  interfaces[1].title .................... 'TVBtoNESTInterface gid: 16895c99-3d75-438d-a45b-cb4d5e4a87c8'\n",
      "  interfaces[1].Type ..................... 'TVBtoNESTInterface'\n",
      "  interfaces[1].transformer .............. LinearRate gid: be2cd7d0-6685-451d-8ac2-ccc1e0575521\n",
      "  interfaces[1].monitor_ind .............. 0\n",
      "  interfaces[1].coupling_mode ............ 'TVB'\n",
      "  interfaces[1].proxy_inds ............... --------------------\n",
      "  interfaces[1].proxy_inds: shape ........ (2,)\n",
      "  interfaces[1].proxy_inds: dtype ........ int64\n",
      "  interfaces[1].proxy_inds: values ....... [[95], [202]]\n",
      "  interfaces[1].voi ...................... --------------------\n",
      "  interfaces[1].voi: shape ............... (1,)\n",
      "  interfaces[1].voi: dtype ............... int64\n",
      "  interfaces[1].voi: values .............. 0\n",
      "  interfaces[1].voi_labels ............... --------------------\n",
      "  interfaces[1].voi_labels: shape ........ (1,)\n",
      "  interfaces[1].voi_labels: dtype ........ <U128\n",
      "  interfaces[1].voi_labels: values ....... E\n",
      "  interfaces[1].proxy .................... NESTInhomogeneousPoissonGeneratorSet gid: 69f592a5-3eaf-4e09-b6c9-f36b891e26b9\n",
      "  interfaces[1].spiking_network .......... NESTNetwork gid: ed56f360-10e8-427a-97b1-8539550cad31\n",
      "  interfaces[1].spiking_proxy_inds ....... --------------------\n",
      "  interfaces[1].spiking_proxy_inds: shape  (2,)\n",
      "  interfaces[1].spiking_proxy_inds: dtype  int64\n",
      "  interfaces[1].spiking_proxy_inds: values  [[95], [202]]\n",
      "  interfaces[1].populations .............. --------------------\n",
      "  interfaces[1].populations: shape ....... (1,)\n",
      "  interfaces[1].populations: dtype ....... <U128\n",
      "  interfaces[1].populations: values ...... parrot_ponssens\n",
      "  interfaces[1].model .................... 'RATE'\n",
      "  interfaces[1].gid ...................... UUID('16895c99-3d75-438d-a45b-cb4d5e4a87c8')\n",
      "  interfaces[2] .......................... '--------------------'\n",
      "  interfaces[2].title .................... 'TVBtoNESTInterface gid: 73e6fcac-57a3-45ad-aa14-15cf8e4deb7c'\n",
      "  interfaces[2].Type ..................... 'TVBtoNESTInterface'\n",
      "  interfaces[2].transformer .............. LinearRate gid: ddc26ed1-2db2-4a7a-a79e-8892bab0887a\n",
      "  interfaces[2].monitor_ind .............. 0\n",
      "  interfaces[2].coupling_mode ............ 'TVB'\n",
      "  interfaces[2].proxy_inds ............... --------------------\n",
      "  interfaces[2].proxy_inds: shape ........ (2,)\n",
      "  interfaces[2].proxy_inds: dtype ........ int64\n",
      "  interfaces[2].proxy_inds: values ....... [[104], [211]]\n",
      "  interfaces[2].voi ...................... --------------------\n",
      "  interfaces[2].voi: shape ............... (1,)\n",
      "  interfaces[2].voi: dtype ............... int64\n",
      "  interfaces[2].voi: values .............. 0\n",
      "  interfaces[2].voi_labels ............... --------------------\n",
      "  interfaces[2].voi_labels: shape ........ (1,)\n",
      "  interfaces[2].voi_labels: dtype ........ <U128\n",
      "  interfaces[2].voi_labels: values ....... E\n",
      "  interfaces[2].proxy .................... NESTInhomogeneousPoissonGeneratorSet gid: 568867b4-7947-4da2-9a77-ead153a09668\n",
      "  interfaces[2].spiking_network .......... NESTNetwork gid: ed56f360-10e8-427a-97b1-8539550cad31\n",
      "  interfaces[2].spiking_proxy_inds ....... --------------------\n",
      "  interfaces[2].spiking_proxy_inds: shape  (2,)\n",
      "  interfaces[2].spiking_proxy_inds: dtype  int64\n",
      "  interfaces[2].spiking_proxy_inds: values  [[104], [211]]\n",
      "  interfaces[2].populations .............. --------------------\n",
      "  interfaces[2].populations: shape ....... (1,)\n",
      "  interfaces[2].populations: dtype ....... <U128\n",
      "  interfaces[2].populations: values ...... mossy_fibers\n",
      "  interfaces[2].model .................... 'RATE'\n",
      "  interfaces[2].gid ...................... UUID('73e6fcac-57a3-45ad-aa14-15cf8e4deb7c')\n",
      "  interfaces[3] .......................... '--------------------'\n",
      "  interfaces[3].title .................... 'TVBtoNESTInterface gid: d670a5f6-a742-4805-b73a-a015246d3867'\n",
      "  interfaces[3].Type ..................... 'TVBtoNESTInterface'\n",
      "  interfaces[3].transformer .............. LinearRate gid: 6d3e1a74-9c4b-47d5-81c6-aaa795bebb9d\n",
      "  interfaces[3].monitor_ind .............. 0\n",
      "  interfaces[3].coupling_mode ............ 'TVB'\n",
      "  interfaces[3].proxy_inds ............... --------------------\n",
      "  interfaces[3].proxy_inds: shape ........ (2,)\n",
      "  interfaces[3].proxy_inds: dtype ........ int64\n",
      "  interfaces[3].proxy_inds: values ....... [[102], [209]]\n",
      "  interfaces[3].voi ...................... --------------------\n",
      "  interfaces[3].voi: shape ............... (1,)\n",
      "  interfaces[3].voi: dtype ............... int64\n",
      "  interfaces[3].voi: values .............. 0\n",
      "  interfaces[3].voi_labels ............... --------------------\n",
      "  interfaces[3].voi_labels: shape ........ (1,)\n",
      "  interfaces[3].voi_labels: dtype ........ <U128\n",
      "  interfaces[3].voi_labels: values ....... E\n",
      "  interfaces[3].proxy .................... NESTInhomogeneousPoissonGeneratorSet gid: 3ce38e8c-7393-4a22-8d61-ad0f6716f037\n",
      "  interfaces[3].spiking_network .......... NESTNetwork gid: ed56f360-10e8-427a-97b1-8539550cad31\n",
      "  interfaces[3].spiking_proxy_inds ....... --------------------\n",
      "  interfaces[3].spiking_proxy_inds: shape  (2,)\n",
      "  interfaces[3].spiking_proxy_inds: dtype  int64\n",
      "  interfaces[3].spiking_proxy_inds: values  [[102], [209]]\n",
      "  interfaces[3].populations .............. --------------------\n",
      "  interfaces[3].populations: shape ....... (1,)\n",
      "  interfaces[3].populations: dtype ....... <U128\n",
      "  interfaces[3].populations: values ...... io_cell\n",
      "  interfaces[3].model .................... 'RATE'\n",
      "  interfaces[3].gid ...................... UUID('d670a5f6-a742-4805-b73a-a015246d3867')\n",
      "  synchronization_time ................... 1.0\n",
      "  synchronization_n_step ................. 10\n",
      "  gid .................................... UUID('778d50e8-ca48-42e3-856e-f03703d196dd')\n",
      "  proxy_inds_unique ...................... --------------------\n",
      "  proxy_inds_unique: shape ............... (8,)\n",
      "  proxy_inds_unique: dtype ............... int64\n",
      "  proxy_inds_unique: unique_values ....... [[95, 96], [102], [104], [202, 203], [209], [211]]\n",
      ")\n",
      "\n",
      "\n",
      "input (NEST->TVB update) interfaces:\n",
      "\n",
      "SpikeNetToTVBInterfaces (\n",
      "  title .................................. 'SpikeNetToTVBInterfaces gid: 5ab274d4-85b6-49b8-990d-937d34721ff5'\n",
      "  Type ................................... 'SpikeNetToTVBInterfaces'\n",
      "  interfaces[0] .......................... '--------------------'\n",
      "  interfaces[0].title .................... 'NESTtoTVBInterface gid: fb711ccb-cf17-4acc-8d69-f1e05ee5ac51'\n",
      "  interfaces[0].Type ..................... 'NESTtoTVBInterface'\n",
      "  interfaces[0].transformer .............. ElephantSpikesHistogramRate gid: 6a201f6a-e103-4b0f-adf6-af1269acbecd\n",
      "  interfaces[0].proxy_inds ............... --------------------\n",
      "  interfaces[0].proxy_inds: shape ........ (2,)\n",
      "  interfaces[0].proxy_inds: dtype ........ int64\n",
      "  interfaces[0].proxy_inds: values ....... [[96], [203]]\n",
      "  interfaces[0].voi ...................... --------------------\n",
      "  interfaces[0].voi: shape ............... (1,)\n",
      "  interfaces[0].voi: dtype ............... int64\n",
      "  interfaces[0].voi: values .............. 0\n",
      "  interfaces[0].voi_labels ............... --------------------\n",
      "  interfaces[0].voi_labels: shape ........ (1,)\n",
      "  interfaces[0].voi_labels: dtype ........ <U128\n",
      "  interfaces[0].voi_labels: values ....... E\n",
      "  interfaces[0].proxy .................... NESTSpikeRecorderTotalSet gid: 13a343f3-f9d2-4028-8428-b048ac6dda81\n",
      "  interfaces[0].dt ....................... 0.1\n",
      "  interfaces[0].times .................... --------------------\n",
      "  interfaces[0].times: shape ............. (2,)\n",
      "  interfaces[0].times: dtype ............. int64\n",
      "  interfaces[0].times: values ............ [[0, 1]]\n",
      "  interfaces[0].spiking_network .......... NESTNetwork gid: ed56f360-10e8-427a-97b1-8539550cad31\n",
      "  interfaces[0].spiking_proxy_inds ....... --------------------\n",
      "  interfaces[0].spiking_proxy_inds: shape  (2,)\n",
      "  interfaces[0].spiking_proxy_inds: dtype  int64\n",
      "  interfaces[0].spiking_proxy_inds: values  [[96], [203]]\n",
      "  interfaces[0].populations .............. --------------------\n",
      "  interfaces[0].populations: shape ....... (1,)\n",
      "  interfaces[0].populations: dtype ....... <U128\n",
      "  interfaces[0].populations: values ...... parrot_medulla\n",
      "  interfaces[0].model .................... 'spike_recorder'\n",
      "  interfaces[0].gid ...................... UUID('fb711ccb-cf17-4acc-8d69-f1e05ee5ac51')\n",
      "  interfaces[1] .......................... '--------------------'\n",
      "  interfaces[1].title .................... 'NESTtoTVBInterface gid: 27e9c377-090e-43de-af61-71cd3037d738'\n",
      "  interfaces[1].Type ..................... 'NESTtoTVBInterface'\n",
      "  interfaces[1].transformer .............. ElephantSpikesHistogramRate gid: a05f22b5-756c-4f5b-9df6-7ad737628f32\n",
      "  interfaces[1].proxy_inds ............... --------------------\n",
      "  interfaces[1].proxy_inds: shape ........ (2,)\n",
      "  interfaces[1].proxy_inds: dtype ........ int64\n",
      "  interfaces[1].proxy_inds: values ....... [[95], [202]]\n",
      "  interfaces[1].voi ...................... --------------------\n",
      "  interfaces[1].voi: shape ............... (1,)\n",
      "  interfaces[1].voi: dtype ............... int64\n",
      "  interfaces[1].voi: values .............. 0\n",
      "  interfaces[1].voi_labels ............... --------------------\n",
      "  interfaces[1].voi_labels: shape ........ (1,)\n",
      "  interfaces[1].voi_labels: dtype ........ <U128\n",
      "  interfaces[1].voi_labels: values ....... E\n",
      "  interfaces[1].proxy .................... NESTSpikeRecorderTotalSet gid: eee1c737-3524-47fa-ac45-3d813a4d42f1\n",
      "  interfaces[1].dt ....................... 0.1\n",
      "  interfaces[1].times .................... --------------------\n",
      "  interfaces[1].times: shape ............. (2,)\n",
      "  interfaces[1].times: dtype ............. int64\n",
      "  interfaces[1].times: values ............ [[0, 1]]\n",
      "  interfaces[1].spiking_network .......... NESTNetwork gid: ed56f360-10e8-427a-97b1-8539550cad31\n",
      "  interfaces[1].spiking_proxy_inds ....... --------------------\n",
      "  interfaces[1].spiking_proxy_inds: shape  (2,)\n",
      "  interfaces[1].spiking_proxy_inds: dtype  int64\n",
      "  interfaces[1].spiking_proxy_inds: values  [[95], [202]]\n",
      "  interfaces[1].populations .............. --------------------\n",
      "  interfaces[1].populations: shape ....... (1,)\n",
      "  interfaces[1].populations: dtype ....... <U128\n",
      "  interfaces[1].populations: values ...... parrot_ponssens\n",
      "  interfaces[1].model .................... 'spike_recorder'\n",
      "  interfaces[1].gid ...................... UUID('27e9c377-090e-43de-af61-71cd3037d738')\n",
      "  interfaces[2] .......................... '--------------------'\n",
      "  interfaces[2].title .................... 'NESTtoTVBInterface gid: 566e4bae-2247-4542-9801-37a39e7cd680'\n",
      "  interfaces[2].Type ..................... 'NESTtoTVBInterface'\n",
      "  interfaces[2].transformer .............. ElephantSpikesHistogramRate gid: ac8183e7-cd86-4dbe-b674-657a0122b029\n",
      "  interfaces[2].proxy_inds ............... --------------------\n",
      "  interfaces[2].proxy_inds: shape ........ (2,)\n",
      "  interfaces[2].proxy_inds: dtype ........ int64\n",
      "  interfaces[2].proxy_inds: values ....... [[104], [211]]\n",
      "  interfaces[2].voi ...................... --------------------\n",
      "  interfaces[2].voi: shape ............... (1,)\n",
      "  interfaces[2].voi: dtype ............... int64\n",
      "  interfaces[2].voi: values .............. 0\n",
      "  interfaces[2].voi_labels ............... --------------------\n",
      "  interfaces[2].voi_labels: shape ........ (1,)\n",
      "  interfaces[2].voi_labels: dtype ........ <U128\n",
      "  interfaces[2].voi_labels: values ....... E\n",
      "  interfaces[2].proxy .................... NESTSpikeRecorderTotalSet gid: b7cb5f12-12a0-4d47-827e-ca983c133709\n",
      "  interfaces[2].dt ....................... 0.1\n",
      "  interfaces[2].times .................... --------------------\n",
      "  interfaces[2].times: shape ............. (2,)\n",
      "  interfaces[2].times: dtype ............. int64\n",
      "  interfaces[2].times: values ............ [[0, 1]]\n",
      "  interfaces[2].spiking_network .......... NESTNetwork gid: ed56f360-10e8-427a-97b1-8539550cad31\n",
      "  interfaces[2].spiking_proxy_inds ....... --------------------\n",
      "  interfaces[2].spiking_proxy_inds: shape  (2,)\n",
      "  interfaces[2].spiking_proxy_inds: dtype  int64\n",
      "  interfaces[2].spiking_proxy_inds: values  [[104], [211]]\n",
      "  interfaces[2].populations .............. --------------------\n",
      "  interfaces[2].populations: shape ....... (1,)\n",
      "  interfaces[2].populations: dtype ....... <U128\n",
      "  interfaces[2].populations: values ...... granule_cell\n",
      "  interfaces[2].model .................... 'spike_recorder'\n",
      "  interfaces[2].gid ...................... UUID('566e4bae-2247-4542-9801-37a39e7cd680')\n",
      "  interfaces[3] .......................... '--------------------'\n",
      "  interfaces[3].title .................... 'NESTtoTVBInterface gid: b5a076ea-e1b8-49ba-a98e-d0a7edeba481'\n",
      "  interfaces[3].Type ..................... 'NESTtoTVBInterface'\n",
      "  interfaces[3].transformer .............. ElephantSpikesHistogramRate gid: ffa17f77-61be-4679-8554-a76a4b818f37\n",
      "  interfaces[3].proxy_inds ............... --------------------\n",
      "  interfaces[3].proxy_inds: shape ........ (2,)\n",
      "  interfaces[3].proxy_inds: dtype ........ int64\n",
      "  interfaces[3].proxy_inds: values ....... [[106], [213]]\n",
      "  interfaces[3].voi ...................... --------------------\n",
      "  interfaces[3].voi: shape ............... (1,)\n",
      "  interfaces[3].voi: dtype ............... int64\n",
      "  interfaces[3].voi: values .............. 0\n",
      "  interfaces[3].voi_labels ............... --------------------\n",
      "  interfaces[3].voi_labels: shape ........ (1,)\n",
      "  interfaces[3].voi_labels: dtype ........ <U128\n",
      "  interfaces[3].voi_labels: values ....... E\n",
      "  interfaces[3].proxy .................... NESTSpikeRecorderTotalSet gid: c10234a4-6f7f-43e4-b18d-2a130adfec8b\n",
      "  interfaces[3].dt ....................... 0.1\n",
      "  interfaces[3].times .................... --------------------\n",
      "  interfaces[3].times: shape ............. (2,)\n",
      "  interfaces[3].times: dtype ............. int64\n",
      "  interfaces[3].times: values ............ [[0, 1]]\n",
      "  interfaces[3].spiking_network .......... NESTNetwork gid: ed56f360-10e8-427a-97b1-8539550cad31\n",
      "  interfaces[3].spiking_proxy_inds ....... --------------------\n",
      "  interfaces[3].spiking_proxy_inds: shape  (2,)\n",
      "  interfaces[3].spiking_proxy_inds: dtype  int64\n",
      "  interfaces[3].spiking_proxy_inds: values  [[106], [213]]\n",
      "  interfaces[3].populations .............. --------------------\n",
      "  interfaces[3].populations: shape ....... (1,)\n",
      "  interfaces[3].populations: dtype ....... <U128\n",
      "  interfaces[3].populations: values ...... dcn_cell_glut_large\n",
      "  interfaces[3].model .................... 'spike_recorder'\n",
      "  interfaces[3].gid ...................... UUID('b5a076ea-e1b8-49ba-a98e-d0a7edeba481')\n",
      "  interfaces[4] .......................... '--------------------'\n",
      "  interfaces[4].title .................... 'NESTtoTVBInterface gid: af82962f-04cd-4b19-8315-f900312657b4'\n",
      "  interfaces[4].Type ..................... 'NESTtoTVBInterface'\n",
      "  interfaces[4].transformer .............. ElephantSpikesHistogramRate gid: ddd4d108-a3f8-4505-a122-12b4f3c4e499\n",
      "  interfaces[4].proxy_inds ............... --------------------\n",
      "  interfaces[4].proxy_inds: shape ........ (2,)\n",
      "  interfaces[4].proxy_inds: dtype ........ int64\n",
      "  interfaces[4].proxy_inds: values ....... [[102], [209]]\n",
      "  interfaces[4].voi ...................... --------------------\n",
      "  interfaces[4].voi: shape ............... (1,)\n",
      "  interfaces[4].voi: dtype ............... int64\n",
      "  interfaces[4].voi: values .............. 0\n",
      "  interfaces[4].voi_labels ............... --------------------\n",
      "  interfaces[4].voi_labels: shape ........ (1,)\n",
      "  interfaces[4].voi_labels: dtype ........ <U128\n",
      "  interfaces[4].voi_labels: values ....... E\n",
      "  interfaces[4].proxy .................... NESTSpikeRecorderTotalSet gid: 9ad8333d-335a-46d0-8897-7cf544324ce4\n",
      "  interfaces[4].dt ....................... 0.1\n",
      "  interfaces[4].times .................... --------------------\n",
      "  interfaces[4].times: shape ............. (2,)\n",
      "  interfaces[4].times: dtype ............. int64\n",
      "  interfaces[4].times: values ............ [[0, 1]]\n",
      "  interfaces[4].spiking_network .......... NESTNetwork gid: ed56f360-10e8-427a-97b1-8539550cad31\n",
      "  interfaces[4].spiking_proxy_inds ....... --------------------\n",
      "  interfaces[4].spiking_proxy_inds: shape  (2,)\n",
      "  interfaces[4].spiking_proxy_inds: dtype  int64\n",
      "  interfaces[4].spiking_proxy_inds: values  [[102], [209]]\n",
      "  interfaces[4].populations .............. --------------------\n",
      "  interfaces[4].populations: shape ....... (1,)\n",
      "  interfaces[4].populations: dtype ....... <U128\n",
      "  interfaces[4].populations: values ...... io_cell\n",
      "  interfaces[4].model .................... 'spike_recorder'\n",
      "  interfaces[4].gid ...................... UUID('af82962f-04cd-4b19-8315-f900312657b4')\n",
      "  synchronization_time ................... 1.0\n",
      "  synchronization_n_step ................. 10\n",
      "  gid .................................... UUID('5ab274d4-85b6-49b8-990d-937d34721ff5')\n",
      "  proxy_inds_unique ...................... --------------------\n",
      "  proxy_inds_unique: shape ............... (10,)\n",
      "  proxy_inds_unique: dtype ............... int64\n",
      "  proxy_inds_unique: unique_values ....... [[95, 96], [102], [104], [106], [202, 203], [209], [211], [213]]\n",
      ")\n"
     ]
    },
    {
     "name": "stderr",
     "output_type": "stream",
     "text": [
      "/home/docker/packages/tvb-multiscale/tvb_multiscale/core/utils/data_structures_utils.py:337: VisibleDeprecationWarning:Creating an ndarray from ragged nested sequences (which is a list-or-tuple of lists-or-tuples-or ndarrays with different lengths or shapes) is deprecated. If you meant to do this, you must specify 'dtype=object' when creating the ndarray.\n"
     ]
    }
   ],
   "source": [
    "simulator, nest_network = build_tvb_nest_interfaces(simulator, nest_network, nest_nodes_inds, config)"
   ]
  },
  {
   "cell_type": "code",
   "execution_count": 6,
   "id": "75bda28b",
   "metadata": {
    "scrolled": false
   },
   "outputs": [
    {
     "name": "stdout",
     "output_type": "stream",
     "text": [
      "Simulating TVB-NEST...\n",
      "2022-06-29 15:56:29,605 - ERROR - tvb_multiscale.core.tvb.cosimulator.cosimulator_serial - Bad Simulator.integrator.noise.nsig shape: (2, 1, 1)\n",
      "2022-06-29 15:56:29,627 - WARNING - tvb_multiscale.core.tvb.cosimulator.cosimulator_serial - Current step is not 0 upon configuration!\n",
      "Setting it to 0. Initial condition might be affected!\n",
      "Current step is not 0 upon configuration!\n",
      "Setting it to 0. Initial condition might be affected!\n",
      "...1.818% completed in 1.87345 sec!!"
     ]
    },
    {
     "name": "stderr",
     "output_type": "stream",
     "text": [
      "/home/docker/env/neurosci/lib/python3.9/site-packages/elephant/conversion.py:1170: UserWarning:Binning discarded 1 last spike(s) of the input spiketrain\n",
      "/home/docker/env/neurosci/lib/python3.9/site-packages/elephant/conversion.py:1170: UserWarning:Binning discarded 2 last spike(s) of the input spiketrain\n"
     ]
    },
    {
     "name": "stdout",
     "output_type": "stream",
     "text": [
      "...5.455% completed in 9.73094 sec!"
     ]
    },
    {
     "name": "stderr",
     "output_type": "stream",
     "text": [
      "/home/docker/env/neurosci/lib/python3.9/site-packages/elephant/conversion.py:1170: UserWarning:Binning discarded 1753 last spike(s) of the input spiketrain\n",
      "/home/docker/env/neurosci/lib/python3.9/site-packages/elephant/conversion.py:1170: UserWarning:Binning discarded 266 last spike(s) of the input spiketrain\n"
     ]
    },
    {
     "name": "stdout",
     "output_type": "stream",
     "text": [
      "\r",
      "...6.364% completed in 11.878 sec!"
     ]
    },
    {
     "name": "stderr",
     "output_type": "stream",
     "text": [
      "/home/docker/env/neurosci/lib/python3.9/site-packages/elephant/conversion.py:1170: UserWarning:Binning discarded 179 last spike(s) of the input spiketrain\n",
      "/home/docker/env/neurosci/lib/python3.9/site-packages/elephant/conversion.py:1170: UserWarning:Binning discarded 88 last spike(s) of the input spiketrain\n"
     ]
    },
    {
     "name": "stdout",
     "output_type": "stream",
     "text": [
      "\r",
      "...7.273% completed in 13.6144 sec!"
     ]
    },
    {
     "name": "stderr",
     "output_type": "stream",
     "text": [
      "/home/docker/env/neurosci/lib/python3.9/site-packages/elephant/conversion.py:1170: UserWarning:Binning discarded 23 last spike(s) of the input spiketrain\n",
      "/home/docker/env/neurosci/lib/python3.9/site-packages/elephant/conversion.py:1170: UserWarning:Binning discarded 681 last spike(s) of the input spiketrain\n"
     ]
    },
    {
     "name": "stdout",
     "output_type": "stream",
     "text": [
      "\r",
      "...8.182% completed in 14.9208 sec!"
     ]
    },
    {
     "name": "stderr",
     "output_type": "stream",
     "text": [
      "/home/docker/env/neurosci/lib/python3.9/site-packages/elephant/conversion.py:1170: UserWarning:Binning discarded 1210 last spike(s) of the input spiketrain\n",
      "/home/docker/env/neurosci/lib/python3.9/site-packages/elephant/conversion.py:1170: UserWarning:Binning discarded 1087 last spike(s) of the input spiketrain\n",
      "/home/docker/env/neurosci/lib/python3.9/site-packages/elephant/conversion.py:1170: UserWarning:Binning discarded 22 last spike(s) of the input spiketrain\n",
      "/home/docker/env/neurosci/lib/python3.9/site-packages/elephant/conversion.py:1170: UserWarning:Binning discarded 3 last spike(s) of the input spiketrain\n"
     ]
    },
    {
     "name": "stdout",
     "output_type": "stream",
     "text": [
      "\r",
      "...9.091% completed in 16.2418 sec!"
     ]
    },
    {
     "name": "stderr",
     "output_type": "stream",
     "text": [
      "/home/docker/env/neurosci/lib/python3.9/site-packages/elephant/conversion.py:1170: UserWarning:Binning discarded 12 last spike(s) of the input spiketrain\n",
      "/home/docker/env/neurosci/lib/python3.9/site-packages/elephant/conversion.py:1170: UserWarning:Binning discarded 164 last spike(s) of the input spiketrain\n"
     ]
    },
    {
     "name": "stdout",
     "output_type": "stream",
     "text": [
      "\r",
      "...10.000% completed in 17.6339 sec!"
     ]
    },
    {
     "name": "stderr",
     "output_type": "stream",
     "text": [
      "/home/docker/env/neurosci/lib/python3.9/site-packages/elephant/conversion.py:1170: UserWarning:Binning discarded 29 last spike(s) of the input spiketrain\n",
      "/home/docker/env/neurosci/lib/python3.9/site-packages/elephant/conversion.py:1170: UserWarning:Binning discarded 340 last spike(s) of the input spiketrain\n",
      "/home/docker/env/neurosci/lib/python3.9/site-packages/elephant/conversion.py:1170: UserWarning:Binning discarded 10 last spike(s) of the input spiketrain\n"
     ]
    },
    {
     "name": "stdout",
     "output_type": "stream",
     "text": [
      "\r",
      "...10.909% completed in 19.128 sec!"
     ]
    },
    {
     "name": "stderr",
     "output_type": "stream",
     "text": [
      "/home/docker/env/neurosci/lib/python3.9/site-packages/elephant/conversion.py:1170: UserWarning:Binning discarded 932 last spike(s) of the input spiketrain\n",
      "/home/docker/env/neurosci/lib/python3.9/site-packages/elephant/conversion.py:1170: UserWarning:Binning discarded 219 last spike(s) of the input spiketrain\n"
     ]
    },
    {
     "name": "stdout",
     "output_type": "stream",
     "text": [
      "\r",
      "...11.818% completed in 20.7324 sec!"
     ]
    },
    {
     "name": "stderr",
     "output_type": "stream",
     "text": [
      "/home/docker/env/neurosci/lib/python3.9/site-packages/elephant/conversion.py:1170: UserWarning:Binning discarded 5 last spike(s) of the input spiketrain\n",
      "/home/docker/env/neurosci/lib/python3.9/site-packages/elephant/conversion.py:1170: UserWarning:Binning discarded 332 last spike(s) of the input spiketrain\n",
      "/home/docker/env/neurosci/lib/python3.9/site-packages/elephant/conversion.py:1170: UserWarning:Binning discarded 7 last spike(s) of the input spiketrain\n"
     ]
    },
    {
     "name": "stdout",
     "output_type": "stream",
     "text": [
      "\r",
      "...12.727% completed in 22.2204 sec!"
     ]
    },
    {
     "name": "stderr",
     "output_type": "stream",
     "text": [
      "/home/docker/env/neurosci/lib/python3.9/site-packages/elephant/conversion.py:1170: UserWarning:Binning discarded 830 last spike(s) of the input spiketrain\n",
      "/home/docker/env/neurosci/lib/python3.9/site-packages/elephant/conversion.py:1170: UserWarning:Binning discarded 1288 last spike(s) of the input spiketrain\n"
     ]
    },
    {
     "name": "stdout",
     "output_type": "stream",
     "text": [
      "\r",
      "...13.636% completed in 23.734 sec!"
     ]
    },
    {
     "name": "stderr",
     "output_type": "stream",
     "text": [
      "/home/docker/env/neurosci/lib/python3.9/site-packages/elephant/conversion.py:1170: UserWarning:Binning discarded 276 last spike(s) of the input spiketrain\n",
      "/home/docker/env/neurosci/lib/python3.9/site-packages/elephant/conversion.py:1170: UserWarning:Binning discarded 395 last spike(s) of the input spiketrain\n"
     ]
    },
    {
     "name": "stdout",
     "output_type": "stream",
     "text": [
      "\r",
      "...14.545% completed in 25.1376 sec!"
     ]
    },
    {
     "name": "stderr",
     "output_type": "stream",
     "text": [
      "/home/docker/env/neurosci/lib/python3.9/site-packages/elephant/conversion.py:1170: UserWarning:Binning discarded 196 last spike(s) of the input spiketrain\n",
      "/home/docker/env/neurosci/lib/python3.9/site-packages/elephant/conversion.py:1170: UserWarning:Binning discarded 2831 last spike(s) of the input spiketrain\n",
      "/home/docker/env/neurosci/lib/python3.9/site-packages/elephant/conversion.py:1170: UserWarning:Binning discarded 4 last spike(s) of the input spiketrain\n"
     ]
    },
    {
     "name": "stdout",
     "output_type": "stream",
     "text": [
      "\r",
      "...15.455% completed in 26.6667 sec!"
     ]
    },
    {
     "name": "stderr",
     "output_type": "stream",
     "text": [
      "/home/docker/env/neurosci/lib/python3.9/site-packages/elephant/conversion.py:1170: UserWarning:Binning discarded 2376 last spike(s) of the input spiketrain\n",
      "/home/docker/env/neurosci/lib/python3.9/site-packages/elephant/conversion.py:1170: UserWarning:Binning discarded 1318 last spike(s) of the input spiketrain\n"
     ]
    },
    {
     "name": "stdout",
     "output_type": "stream",
     "text": [
      "\r",
      "...16.364% completed in 28.3166 sec!"
     ]
    },
    {
     "name": "stderr",
     "output_type": "stream",
     "text": [
      "/home/docker/env/neurosci/lib/python3.9/site-packages/elephant/conversion.py:1170: UserWarning:Binning discarded 39 last spike(s) of the input spiketrain\n",
      "/home/docker/env/neurosci/lib/python3.9/site-packages/elephant/conversion.py:1170: UserWarning:Binning discarded 307 last spike(s) of the input spiketrain\n"
     ]
    },
    {
     "name": "stdout",
     "output_type": "stream",
     "text": [
      "\r",
      "...17.273% completed in 29.9388 sec!"
     ]
    },
    {
     "name": "stderr",
     "output_type": "stream",
     "text": [
      "/home/docker/env/neurosci/lib/python3.9/site-packages/elephant/conversion.py:1170: UserWarning:Binning discarded 207 last spike(s) of the input spiketrain\n",
      "/home/docker/env/neurosci/lib/python3.9/site-packages/elephant/conversion.py:1170: UserWarning:Binning discarded 228 last spike(s) of the input spiketrain\n"
     ]
    },
    {
     "name": "stdout",
     "output_type": "stream",
     "text": [
      "\r",
      "...18.182% completed in 31.7629 sec!"
     ]
    },
    {
     "name": "stderr",
     "output_type": "stream",
     "text": [
      "/home/docker/env/neurosci/lib/python3.9/site-packages/elephant/conversion.py:1170: UserWarning:Binning discarded 195 last spike(s) of the input spiketrain\n",
      "/home/docker/env/neurosci/lib/python3.9/site-packages/elephant/conversion.py:1170: UserWarning:Binning discarded 72 last spike(s) of the input spiketrain\n"
     ]
    },
    {
     "name": "stdout",
     "output_type": "stream",
     "text": [
      "\r",
      "...19.091% completed in 34.1974 sec!"
     ]
    },
    {
     "name": "stderr",
     "output_type": "stream",
     "text": [
      "/home/docker/env/neurosci/lib/python3.9/site-packages/elephant/conversion.py:1170: UserWarning:Binning discarded 1508 last spike(s) of the input spiketrain\n",
      "/home/docker/env/neurosci/lib/python3.9/site-packages/elephant/conversion.py:1170: UserWarning:Binning discarded 609 last spike(s) of the input spiketrain\n"
     ]
    },
    {
     "name": "stdout",
     "output_type": "stream",
     "text": [
      "\r",
      "...20.000% completed in 35.9027 sec!"
     ]
    },
    {
     "name": "stderr",
     "output_type": "stream",
     "text": [
      "/home/docker/env/neurosci/lib/python3.9/site-packages/elephant/conversion.py:1170: UserWarning:Binning discarded 15 last spike(s) of the input spiketrain\n",
      "/home/docker/env/neurosci/lib/python3.9/site-packages/elephant/conversion.py:1170: UserWarning:Binning discarded 472 last spike(s) of the input spiketrain\n"
     ]
    },
    {
     "name": "stdout",
     "output_type": "stream",
     "text": [
      "\r",
      "...20.909% completed in 37.703 sec!"
     ]
    },
    {
     "name": "stderr",
     "output_type": "stream",
     "text": [
      "/home/docker/env/neurosci/lib/python3.9/site-packages/elephant/conversion.py:1170: UserWarning:Binning discarded 479 last spike(s) of the input spiketrain\n",
      "/home/docker/env/neurosci/lib/python3.9/site-packages/elephant/conversion.py:1170: UserWarning:Binning discarded 452 last spike(s) of the input spiketrain\n"
     ]
    },
    {
     "name": "stdout",
     "output_type": "stream",
     "text": [
      "\r",
      "...21.818% completed in 39.3539 sec!"
     ]
    },
    {
     "name": "stderr",
     "output_type": "stream",
     "text": [
      "/home/docker/env/neurosci/lib/python3.9/site-packages/elephant/conversion.py:1170: UserWarning:Binning discarded 940 last spike(s) of the input spiketrain\n",
      "/home/docker/env/neurosci/lib/python3.9/site-packages/elephant/conversion.py:1170: UserWarning:Binning discarded 2951 last spike(s) of the input spiketrain\n"
     ]
    },
    {
     "name": "stdout",
     "output_type": "stream",
     "text": [
      "\r",
      "...22.727% completed in 41.092 sec!"
     ]
    },
    {
     "name": "stderr",
     "output_type": "stream",
     "text": [
      "/home/docker/env/neurosci/lib/python3.9/site-packages/elephant/conversion.py:1170: UserWarning:Binning discarded 297 last spike(s) of the input spiketrain\n"
     ]
    },
    {
     "name": "stdout",
     "output_type": "stream",
     "text": [
      "\r",
      "...23.636% completed in 42.7327 sec!"
     ]
    },
    {
     "name": "stderr",
     "output_type": "stream",
     "text": [
      "/home/docker/env/neurosci/lib/python3.9/site-packages/elephant/conversion.py:1170: UserWarning:Binning discarded 1156 last spike(s) of the input spiketrain\n",
      "/home/docker/env/neurosci/lib/python3.9/site-packages/elephant/conversion.py:1170: UserWarning:Binning discarded 459 last spike(s) of the input spiketrain\n"
     ]
    },
    {
     "name": "stdout",
     "output_type": "stream",
     "text": [
      "\r",
      "...24.545% completed in 44.8439 sec!"
     ]
    },
    {
     "name": "stderr",
     "output_type": "stream",
     "text": [
      "/home/docker/env/neurosci/lib/python3.9/site-packages/elephant/conversion.py:1170: UserWarning:Binning discarded 406 last spike(s) of the input spiketrain\n",
      "/home/docker/env/neurosci/lib/python3.9/site-packages/elephant/conversion.py:1170: UserWarning:Binning discarded 328 last spike(s) of the input spiketrain\n"
     ]
    },
    {
     "name": "stdout",
     "output_type": "stream",
     "text": [
      "\r",
      "...25.455% completed in 46.5731 sec!"
     ]
    },
    {
     "name": "stderr",
     "output_type": "stream",
     "text": [
      "/home/docker/env/neurosci/lib/python3.9/site-packages/elephant/conversion.py:1170: UserWarning:Binning discarded 1145 last spike(s) of the input spiketrain\n",
      "/home/docker/env/neurosci/lib/python3.9/site-packages/elephant/conversion.py:1170: UserWarning:Binning discarded 1092 last spike(s) of the input spiketrain\n"
     ]
    },
    {
     "name": "stdout",
     "output_type": "stream",
     "text": [
      "\r",
      "...26.364% completed in 48.2829 sec!"
     ]
    },
    {
     "name": "stderr",
     "output_type": "stream",
     "text": [
      "/home/docker/env/neurosci/lib/python3.9/site-packages/elephant/conversion.py:1170: UserWarning:Binning discarded 773 last spike(s) of the input spiketrain\n",
      "/home/docker/env/neurosci/lib/python3.9/site-packages/elephant/conversion.py:1170: UserWarning:Binning discarded 779 last spike(s) of the input spiketrain\n"
     ]
    },
    {
     "name": "stdout",
     "output_type": "stream",
     "text": [
      "\r",
      "...27.273% completed in 49.9591 sec!"
     ]
    },
    {
     "name": "stderr",
     "output_type": "stream",
     "text": [
      "/home/docker/env/neurosci/lib/python3.9/site-packages/elephant/conversion.py:1170: UserWarning:Binning discarded 594 last spike(s) of the input spiketrain\n",
      "/home/docker/env/neurosci/lib/python3.9/site-packages/elephant/conversion.py:1170: UserWarning:Binning discarded 637 last spike(s) of the input spiketrain\n"
     ]
    },
    {
     "name": "stdout",
     "output_type": "stream",
     "text": [
      "\r",
      "...28.182% completed in 51.8128 sec!"
     ]
    },
    {
     "name": "stderr",
     "output_type": "stream",
     "text": [
      "/home/docker/env/neurosci/lib/python3.9/site-packages/elephant/conversion.py:1170: UserWarning:Binning discarded 512 last spike(s) of the input spiketrain\n",
      "/home/docker/env/neurosci/lib/python3.9/site-packages/elephant/conversion.py:1170: UserWarning:Binning discarded 107 last spike(s) of the input spiketrain\n"
     ]
    },
    {
     "name": "stdout",
     "output_type": "stream",
     "text": [
      "\r",
      "...29.091% completed in 54.2674 sec!"
     ]
    },
    {
     "name": "stderr",
     "output_type": "stream",
     "text": [
      "/home/docker/env/neurosci/lib/python3.9/site-packages/elephant/conversion.py:1170: UserWarning:Binning discarded 84 last spike(s) of the input spiketrain\n",
      "/home/docker/env/neurosci/lib/python3.9/site-packages/elephant/conversion.py:1170: UserWarning:Binning discarded 2963 last spike(s) of the input spiketrain\n"
     ]
    },
    {
     "name": "stdout",
     "output_type": "stream",
     "text": [
      "\r",
      "...30.000% completed in 57.7381 sec!"
     ]
    },
    {
     "name": "stderr",
     "output_type": "stream",
     "text": [
      "/home/docker/env/neurosci/lib/python3.9/site-packages/elephant/conversion.py:1170: UserWarning:Binning discarded 282 last spike(s) of the input spiketrain\n",
      "/home/docker/env/neurosci/lib/python3.9/site-packages/elephant/conversion.py:1170: UserWarning:Binning discarded 325 last spike(s) of the input spiketrain\n"
     ]
    },
    {
     "name": "stdout",
     "output_type": "stream",
     "text": [
      "\r",
      "...30.909% completed in 59.6481 sec!"
     ]
    },
    {
     "name": "stderr",
     "output_type": "stream",
     "text": [
      "/home/docker/env/neurosci/lib/python3.9/site-packages/elephant/conversion.py:1170: UserWarning:Binning discarded 130 last spike(s) of the input spiketrain\n",
      "/home/docker/env/neurosci/lib/python3.9/site-packages/elephant/conversion.py:1170: UserWarning:Binning discarded 526 last spike(s) of the input spiketrain\n"
     ]
    },
    {
     "name": "stdout",
     "output_type": "stream",
     "text": [
      "\r",
      "...31.818% completed in 61.4893 sec!"
     ]
    },
    {
     "name": "stderr",
     "output_type": "stream",
     "text": [
      "/home/docker/env/neurosci/lib/python3.9/site-packages/elephant/conversion.py:1170: UserWarning:Binning discarded 157 last spike(s) of the input spiketrain\n",
      "/home/docker/env/neurosci/lib/python3.9/site-packages/elephant/conversion.py:1170: UserWarning:Binning discarded 291 last spike(s) of the input spiketrain\n"
     ]
    },
    {
     "name": "stdout",
     "output_type": "stream",
     "text": [
      "\r",
      "...32.727% completed in 63.4296 sec!"
     ]
    },
    {
     "name": "stderr",
     "output_type": "stream",
     "text": [
      "/home/docker/env/neurosci/lib/python3.9/site-packages/elephant/conversion.py:1170: UserWarning:Binning discarded 850 last spike(s) of the input spiketrain\n",
      "/home/docker/env/neurosci/lib/python3.9/site-packages/elephant/conversion.py:1170: UserWarning:Binning discarded 371 last spike(s) of the input spiketrain\n"
     ]
    },
    {
     "name": "stdout",
     "output_type": "stream",
     "text": [
      "\r",
      "...33.636% completed in 65.5283 sec!"
     ]
    },
    {
     "name": "stderr",
     "output_type": "stream",
     "text": [
      "/home/docker/env/neurosci/lib/python3.9/site-packages/elephant/conversion.py:1170: UserWarning:Binning discarded 666 last spike(s) of the input spiketrain\n",
      "/home/docker/env/neurosci/lib/python3.9/site-packages/elephant/conversion.py:1170: UserWarning:Binning discarded 180 last spike(s) of the input spiketrain\n"
     ]
    },
    {
     "name": "stdout",
     "output_type": "stream",
     "text": [
      "\r",
      "...34.545% completed in 67.7128 sec!"
     ]
    },
    {
     "name": "stderr",
     "output_type": "stream",
     "text": [
      "/home/docker/env/neurosci/lib/python3.9/site-packages/elephant/conversion.py:1170: UserWarning:Binning discarded 572 last spike(s) of the input spiketrain\n",
      "/home/docker/env/neurosci/lib/python3.9/site-packages/elephant/conversion.py:1170: UserWarning:Binning discarded 248 last spike(s) of the input spiketrain\n"
     ]
    },
    {
     "name": "stdout",
     "output_type": "stream",
     "text": [
      "\r",
      "...35.455% completed in 69.7553 sec!"
     ]
    },
    {
     "name": "stderr",
     "output_type": "stream",
     "text": [
      "/home/docker/env/neurosci/lib/python3.9/site-packages/elephant/conversion.py:1170: UserWarning:Binning discarded 153 last spike(s) of the input spiketrain\n",
      "/home/docker/env/neurosci/lib/python3.9/site-packages/elephant/conversion.py:1170: UserWarning:Binning discarded 418 last spike(s) of the input spiketrain\n"
     ]
    },
    {
     "name": "stdout",
     "output_type": "stream",
     "text": [
      "\r",
      "...36.364% completed in 71.6696 sec!"
     ]
    },
    {
     "name": "stderr",
     "output_type": "stream",
     "text": [
      "/home/docker/env/neurosci/lib/python3.9/site-packages/elephant/conversion.py:1170: UserWarning:Binning discarded 203 last spike(s) of the input spiketrain\n",
      "/home/docker/env/neurosci/lib/python3.9/site-packages/elephant/conversion.py:1170: UserWarning:Binning discarded 2859 last spike(s) of the input spiketrain\n"
     ]
    },
    {
     "name": "stdout",
     "output_type": "stream",
     "text": [
      "\r",
      "...37.273% completed in 73.5186 sec!"
     ]
    },
    {
     "name": "stderr",
     "output_type": "stream",
     "text": [
      "/home/docker/env/neurosci/lib/python3.9/site-packages/elephant/conversion.py:1170: UserWarning:Binning discarded 532 last spike(s) of the input spiketrain\n"
     ]
    },
    {
     "name": "stdout",
     "output_type": "stream",
     "text": [
      "\r",
      "...38.182% completed in 75.6592 sec!"
     ]
    },
    {
     "name": "stderr",
     "output_type": "stream",
     "text": [
      "/home/docker/env/neurosci/lib/python3.9/site-packages/elephant/conversion.py:1170: UserWarning:Binning discarded 162 last spike(s) of the input spiketrain\n",
      "/home/docker/env/neurosci/lib/python3.9/site-packages/elephant/conversion.py:1170: UserWarning:Binning discarded 92 last spike(s) of the input spiketrain\n"
     ]
    },
    {
     "name": "stdout",
     "output_type": "stream",
     "text": [
      "\r",
      "...39.091% completed in 77.9205 sec!"
     ]
    },
    {
     "name": "stderr",
     "output_type": "stream",
     "text": [
      "/home/docker/env/neurosci/lib/python3.9/site-packages/elephant/conversion.py:1170: UserWarning:Binning discarded 333 last spike(s) of the input spiketrain\n"
     ]
    },
    {
     "name": "stdout",
     "output_type": "stream",
     "text": [
      "\r",
      "...40.000% completed in 79.9406 sec!"
     ]
    },
    {
     "name": "stderr",
     "output_type": "stream",
     "text": [
      "/home/docker/env/neurosci/lib/python3.9/site-packages/elephant/conversion.py:1170: UserWarning:Binning discarded 318 last spike(s) of the input spiketrain\n",
      "/home/docker/env/neurosci/lib/python3.9/site-packages/elephant/conversion.py:1170: UserWarning:Binning discarded 348 last spike(s) of the input spiketrain\n"
     ]
    },
    {
     "name": "stdout",
     "output_type": "stream",
     "text": [
      "\r",
      "...40.909% completed in 81.6021 sec!"
     ]
    },
    {
     "name": "stderr",
     "output_type": "stream",
     "text": [
      "/home/docker/env/neurosci/lib/python3.9/site-packages/elephant/conversion.py:1170: UserWarning:Binning discarded 710 last spike(s) of the input spiketrain\n",
      "/home/docker/env/neurosci/lib/python3.9/site-packages/elephant/conversion.py:1170: UserWarning:Binning discarded 118 last spike(s) of the input spiketrain\n"
     ]
    },
    {
     "name": "stdout",
     "output_type": "stream",
     "text": [
      "\r",
      "...41.818% completed in 83.4389 sec!"
     ]
    },
    {
     "name": "stderr",
     "output_type": "stream",
     "text": [
      "/home/docker/env/neurosci/lib/python3.9/site-packages/elephant/conversion.py:1170: UserWarning:Binning discarded 250 last spike(s) of the input spiketrain\n",
      "/home/docker/env/neurosci/lib/python3.9/site-packages/elephant/conversion.py:1170: UserWarning:Binning discarded 476 last spike(s) of the input spiketrain\n"
     ]
    },
    {
     "name": "stdout",
     "output_type": "stream",
     "text": [
      "\r",
      "...42.727% completed in 85.4155 sec!"
     ]
    },
    {
     "name": "stderr",
     "output_type": "stream",
     "text": [
      "/home/docker/env/neurosci/lib/python3.9/site-packages/elephant/conversion.py:1170: UserWarning:Binning discarded 217 last spike(s) of the input spiketrain\n",
      "/home/docker/env/neurosci/lib/python3.9/site-packages/elephant/conversion.py:1170: UserWarning:Binning discarded 80 last spike(s) of the input spiketrain\n"
     ]
    },
    {
     "name": "stdout",
     "output_type": "stream",
     "text": [
      "\r",
      "...43.636% completed in 87.3749 sec!"
     ]
    },
    {
     "name": "stderr",
     "output_type": "stream",
     "text": [
      "/home/docker/env/neurosci/lib/python3.9/site-packages/elephant/conversion.py:1170: UserWarning:Binning discarded 216 last spike(s) of the input spiketrain\n",
      "/home/docker/env/neurosci/lib/python3.9/site-packages/elephant/conversion.py:1170: UserWarning:Binning discarded 781 last spike(s) of the input spiketrain\n"
     ]
    },
    {
     "name": "stdout",
     "output_type": "stream",
     "text": [
      "\r",
      "...44.545% completed in 89.0842 sec!"
     ]
    },
    {
     "name": "stderr",
     "output_type": "stream",
     "text": [
      "/home/docker/env/neurosci/lib/python3.9/site-packages/elephant/conversion.py:1170: UserWarning:Binning discarded 339 last spike(s) of the input spiketrain\n",
      "/home/docker/env/neurosci/lib/python3.9/site-packages/elephant/conversion.py:1170: UserWarning:Binning discarded 449 last spike(s) of the input spiketrain\n"
     ]
    },
    {
     "name": "stdout",
     "output_type": "stream",
     "text": [
      "\r",
      "...45.455% completed in 91.0933 sec!"
     ]
    },
    {
     "name": "stderr",
     "output_type": "stream",
     "text": [
      "/home/docker/env/neurosci/lib/python3.9/site-packages/elephant/conversion.py:1170: UserWarning:Binning discarded 231 last spike(s) of the input spiketrain\n",
      "/home/docker/env/neurosci/lib/python3.9/site-packages/elephant/conversion.py:1170: UserWarning:Binning discarded 188 last spike(s) of the input spiketrain\n"
     ]
    },
    {
     "name": "stdout",
     "output_type": "stream",
     "text": [
      "\r",
      "...46.364% completed in 92.9897 sec!"
     ]
    },
    {
     "name": "stderr",
     "output_type": "stream",
     "text": [
      "/home/docker/env/neurosci/lib/python3.9/site-packages/elephant/conversion.py:1170: UserWarning:Binning discarded 249 last spike(s) of the input spiketrain\n",
      "/home/docker/env/neurosci/lib/python3.9/site-packages/elephant/conversion.py:1170: UserWarning:Binning discarded 1577 last spike(s) of the input spiketrain\n"
     ]
    },
    {
     "name": "stdout",
     "output_type": "stream",
     "text": [
      "\r",
      "...47.273% completed in 94.9243 sec!"
     ]
    },
    {
     "name": "stderr",
     "output_type": "stream",
     "text": [
      "/home/docker/env/neurosci/lib/python3.9/site-packages/elephant/conversion.py:1170: UserWarning:Binning discarded 324 last spike(s) of the input spiketrain\n",
      "/home/docker/env/neurosci/lib/python3.9/site-packages/elephant/conversion.py:1170: UserWarning:Binning discarded 651 last spike(s) of the input spiketrain\n"
     ]
    },
    {
     "name": "stdout",
     "output_type": "stream",
     "text": [
      "\r",
      "...48.182% completed in 96.9065 sec!"
     ]
    },
    {
     "name": "stderr",
     "output_type": "stream",
     "text": [
      "/home/docker/env/neurosci/lib/python3.9/site-packages/elephant/conversion.py:1170: UserWarning:Binning discarded 815 last spike(s) of the input spiketrain\n"
     ]
    },
    {
     "name": "stdout",
     "output_type": "stream",
     "text": [
      "\r",
      "...49.091% completed in 98.8882 sec!"
     ]
    },
    {
     "name": "stderr",
     "output_type": "stream",
     "text": [
      "/home/docker/env/neurosci/lib/python3.9/site-packages/elephant/conversion.py:1170: UserWarning:Binning discarded 262 last spike(s) of the input spiketrain\n",
      "/home/docker/env/neurosci/lib/python3.9/site-packages/elephant/conversion.py:1170: UserWarning:Binning discarded 336 last spike(s) of the input spiketrain\n"
     ]
    },
    {
     "name": "stdout",
     "output_type": "stream",
     "text": [
      "\r",
      "...50.000% completed in 101.593 sec!"
     ]
    },
    {
     "name": "stderr",
     "output_type": "stream",
     "text": [
      "/home/docker/env/neurosci/lib/python3.9/site-packages/elephant/conversion.py:1170: UserWarning:Binning discarded 185 last spike(s) of the input spiketrain\n",
      "/home/docker/env/neurosci/lib/python3.9/site-packages/elephant/conversion.py:1170: UserWarning:Binning discarded 267 last spike(s) of the input spiketrain\n"
     ]
    },
    {
     "name": "stdout",
     "output_type": "stream",
     "text": [
      "\r",
      "...50.909% completed in 103.764 sec!"
     ]
    },
    {
     "name": "stderr",
     "output_type": "stream",
     "text": [
      "/home/docker/env/neurosci/lib/python3.9/site-packages/elephant/conversion.py:1170: UserWarning:Binning discarded 220 last spike(s) of the input spiketrain\n"
     ]
    },
    {
     "name": "stdout",
     "output_type": "stream",
     "text": [
      "\r",
      "...51.818% completed in 105.896 sec!"
     ]
    },
    {
     "name": "stderr",
     "output_type": "stream",
     "text": [
      "/home/docker/env/neurosci/lib/python3.9/site-packages/elephant/conversion.py:1170: UserWarning:Binning discarded 457 last spike(s) of the input spiketrain\n"
     ]
    },
    {
     "name": "stdout",
     "output_type": "stream",
     "text": [
      "\r",
      "...52.727% completed in 107.756 sec!"
     ]
    },
    {
     "name": "stderr",
     "output_type": "stream",
     "text": [
      "/home/docker/env/neurosci/lib/python3.9/site-packages/elephant/conversion.py:1170: UserWarning:Binning discarded 274 last spike(s) of the input spiketrain\n"
     ]
    },
    {
     "name": "stdout",
     "output_type": "stream",
     "text": [
      "\r",
      "...53.636% completed in 109.735 sec!"
     ]
    },
    {
     "name": "stderr",
     "output_type": "stream",
     "text": [
      "/home/docker/env/neurosci/lib/python3.9/site-packages/elephant/conversion.py:1170: UserWarning:Binning discarded 94 last spike(s) of the input spiketrain\n",
      "/home/docker/env/neurosci/lib/python3.9/site-packages/elephant/conversion.py:1170: UserWarning:Binning discarded 6 last spike(s) of the input spiketrain\n"
     ]
    },
    {
     "name": "stdout",
     "output_type": "stream",
     "text": [
      "\r",
      "...54.545% completed in 111.56 sec!"
     ]
    },
    {
     "name": "stderr",
     "output_type": "stream",
     "text": [
      "/home/docker/env/neurosci/lib/python3.9/site-packages/elephant/conversion.py:1170: UserWarning:Binning discarded 369 last spike(s) of the input spiketrain\n",
      "/home/docker/env/neurosci/lib/python3.9/site-packages/elephant/conversion.py:1170: UserWarning:Binning discarded 898 last spike(s) of the input spiketrain\n"
     ]
    },
    {
     "name": "stdout",
     "output_type": "stream",
     "text": [
      "\r",
      "...55.455% completed in 113.487 sec!"
     ]
    },
    {
     "name": "stderr",
     "output_type": "stream",
     "text": [
      "/home/docker/env/neurosci/lib/python3.9/site-packages/elephant/conversion.py:1170: UserWarning:Binning discarded 824 last spike(s) of the input spiketrain\n",
      "/home/docker/env/neurosci/lib/python3.9/site-packages/elephant/conversion.py:1170: UserWarning:Binning discarded 177 last spike(s) of the input spiketrain\n"
     ]
    },
    {
     "name": "stdout",
     "output_type": "stream",
     "text": [
      "\r",
      "...56.364% completed in 115.279 sec!"
     ]
    },
    {
     "name": "stderr",
     "output_type": "stream",
     "text": [
      "/home/docker/env/neurosci/lib/python3.9/site-packages/elephant/conversion.py:1170: UserWarning:Binning discarded 209 last spike(s) of the input spiketrain\n",
      "/home/docker/env/neurosci/lib/python3.9/site-packages/elephant/conversion.py:1170: UserWarning:Binning discarded 278 last spike(s) of the input spiketrain\n"
     ]
    },
    {
     "name": "stdout",
     "output_type": "stream",
     "text": [
      "\r",
      "...57.273% completed in 116.937 sec!"
     ]
    },
    {
     "name": "stderr",
     "output_type": "stream",
     "text": [
      "/home/docker/env/neurosci/lib/python3.9/site-packages/elephant/conversion.py:1170: UserWarning:Binning discarded 257 last spike(s) of the input spiketrain\n"
     ]
    },
    {
     "name": "stdout",
     "output_type": "stream",
     "text": [
      "\r",
      "...58.182% completed in 118.709 sec!"
     ]
    },
    {
     "name": "stderr",
     "output_type": "stream",
     "text": [
      "/home/docker/env/neurosci/lib/python3.9/site-packages/elephant/conversion.py:1170: UserWarning:Binning discarded 155 last spike(s) of the input spiketrain\n"
     ]
    },
    {
     "name": "stdout",
     "output_type": "stream",
     "text": [
      "\r",
      "...59.091% completed in 120.784 sec!"
     ]
    },
    {
     "name": "stderr",
     "output_type": "stream",
     "text": [
      "/home/docker/env/neurosci/lib/python3.9/site-packages/elephant/conversion.py:1170: UserWarning:Binning discarded 363 last spike(s) of the input spiketrain\n",
      "/home/docker/env/neurosci/lib/python3.9/site-packages/elephant/conversion.py:1170: UserWarning:Binning discarded 1562 last spike(s) of the input spiketrain\n"
     ]
    },
    {
     "name": "stdout",
     "output_type": "stream",
     "text": [
      "\r",
      "...60.000% completed in 122.487 sec!"
     ]
    },
    {
     "name": "stderr",
     "output_type": "stream",
     "text": [
      "/home/docker/env/neurosci/lib/python3.9/site-packages/elephant/conversion.py:1170: UserWarning:Binning discarded 331 last spike(s) of the input spiketrain\n",
      "/home/docker/env/neurosci/lib/python3.9/site-packages/elephant/conversion.py:1170: UserWarning:Binning discarded 290 last spike(s) of the input spiketrain\n"
     ]
    },
    {
     "name": "stdout",
     "output_type": "stream",
     "text": [
      "\r",
      "...60.909% completed in 124.311 sec!"
     ]
    },
    {
     "name": "stderr",
     "output_type": "stream",
     "text": [
      "/home/docker/env/neurosci/lib/python3.9/site-packages/elephant/conversion.py:1170: UserWarning:Binning discarded 134 last spike(s) of the input spiketrain\n"
     ]
    },
    {
     "name": "stdout",
     "output_type": "stream",
     "text": [
      "\r",
      "...61.818% completed in 125.997 sec!"
     ]
    },
    {
     "name": "stderr",
     "output_type": "stream",
     "text": [
      "/home/docker/env/neurosci/lib/python3.9/site-packages/elephant/conversion.py:1170: UserWarning:Binning discarded 483 last spike(s) of the input spiketrain\n",
      "/home/docker/env/neurosci/lib/python3.9/site-packages/elephant/conversion.py:1170: UserWarning:Binning discarded 676 last spike(s) of the input spiketrain\n"
     ]
    },
    {
     "name": "stdout",
     "output_type": "stream",
     "text": [
      "\r",
      "...62.727% completed in 127.633 sec!"
     ]
    },
    {
     "name": "stderr",
     "output_type": "stream",
     "text": [
      "/home/docker/env/neurosci/lib/python3.9/site-packages/elephant/conversion.py:1170: UserWarning:Binning discarded 796 last spike(s) of the input spiketrain\n"
     ]
    },
    {
     "name": "stdout",
     "output_type": "stream",
     "text": [
      "\r",
      "...63.636% completed in 129.248 sec!"
     ]
    },
    {
     "name": "stderr",
     "output_type": "stream",
     "text": [
      "/home/docker/env/neurosci/lib/python3.9/site-packages/elephant/conversion.py:1170: UserWarning:Binning discarded 255 last spike(s) of the input spiketrain\n",
      "/home/docker/env/neurosci/lib/python3.9/site-packages/elephant/conversion.py:1170: UserWarning:Binning discarded 304 last spike(s) of the input spiketrain\n"
     ]
    },
    {
     "name": "stdout",
     "output_type": "stream",
     "text": [
      "\r",
      "...64.545% completed in 130.757 sec!"
     ]
    },
    {
     "name": "stderr",
     "output_type": "stream",
     "text": [
      "/home/docker/env/neurosci/lib/python3.9/site-packages/elephant/conversion.py:1170: UserWarning:Binning discarded 454 last spike(s) of the input spiketrain\n",
      "/home/docker/env/neurosci/lib/python3.9/site-packages/elephant/conversion.py:1170: UserWarning:Binning discarded 344 last spike(s) of the input spiketrain\n"
     ]
    },
    {
     "name": "stdout",
     "output_type": "stream",
     "text": [
      "\r",
      "...65.455% completed in 132.452 sec!"
     ]
    },
    {
     "name": "stderr",
     "output_type": "stream",
     "text": [
      "/home/docker/env/neurosci/lib/python3.9/site-packages/elephant/conversion.py:1170: UserWarning:Binning discarded 143 last spike(s) of the input spiketrain\n"
     ]
    },
    {
     "name": "stdout",
     "output_type": "stream",
     "text": [
      "\r",
      "...66.364% completed in 133.986 sec!"
     ]
    },
    {
     "name": "stderr",
     "output_type": "stream",
     "text": [
      "/home/docker/env/neurosci/lib/python3.9/site-packages/elephant/conversion.py:1170: UserWarning:Binning discarded 430 last spike(s) of the input spiketrain\n",
      "/home/docker/env/neurosci/lib/python3.9/site-packages/elephant/conversion.py:1170: UserWarning:Binning discarded 1375 last spike(s) of the input spiketrain\n"
     ]
    },
    {
     "name": "stdout",
     "output_type": "stream",
     "text": [
      "\r",
      "...67.273% completed in 135.545 sec!"
     ]
    },
    {
     "name": "stderr",
     "output_type": "stream",
     "text": [
      "/home/docker/env/neurosci/lib/python3.9/site-packages/elephant/conversion.py:1170: UserWarning:Binning discarded 252 last spike(s) of the input spiketrain\n",
      "/home/docker/env/neurosci/lib/python3.9/site-packages/elephant/conversion.py:1170: UserWarning:Binning discarded 305 last spike(s) of the input spiketrain\n"
     ]
    },
    {
     "name": "stdout",
     "output_type": "stream",
     "text": [
      "\r",
      "...68.182% completed in 137.083 sec!"
     ]
    },
    {
     "name": "stderr",
     "output_type": "stream",
     "text": [
      "/home/docker/env/neurosci/lib/python3.9/site-packages/elephant/conversion.py:1170: UserWarning:Binning discarded 167 last spike(s) of the input spiketrain\n"
     ]
    },
    {
     "name": "stdout",
     "output_type": "stream",
     "text": [
      "\r",
      "...69.091% completed in 138.512 sec!"
     ]
    },
    {
     "name": "stderr",
     "output_type": "stream",
     "text": [
      "/home/docker/env/neurosci/lib/python3.9/site-packages/elephant/conversion.py:1170: UserWarning:Binning discarded 503 last spike(s) of the input spiketrain\n",
      "/home/docker/env/neurosci/lib/python3.9/site-packages/elephant/conversion.py:1170: UserWarning:Binning discarded 590 last spike(s) of the input spiketrain\n"
     ]
    },
    {
     "name": "stdout",
     "output_type": "stream",
     "text": [
      "\r",
      "...70.000% completed in 139.965 sec!"
     ]
    },
    {
     "name": "stderr",
     "output_type": "stream",
     "text": [
      "/home/docker/env/neurosci/lib/python3.9/site-packages/elephant/conversion.py:1170: UserWarning:Binning discarded 756 last spike(s) of the input spiketrain\n",
      "/home/docker/env/neurosci/lib/python3.9/site-packages/elephant/conversion.py:1170: UserWarning:Binning discarded 215 last spike(s) of the input spiketrain\n"
     ]
    },
    {
     "name": "stdout",
     "output_type": "stream",
     "text": [
      "\r",
      "...70.909% completed in 141.436 sec!"
     ]
    },
    {
     "name": "stderr",
     "output_type": "stream",
     "text": [
      "/home/docker/env/neurosci/lib/python3.9/site-packages/elephant/conversion.py:1170: UserWarning:Binning discarded 314 last spike(s) of the input spiketrain\n",
      "/home/docker/env/neurosci/lib/python3.9/site-packages/elephant/conversion.py:1170: UserWarning:Binning discarded 354 last spike(s) of the input spiketrain\n"
     ]
    },
    {
     "name": "stdout",
     "output_type": "stream",
     "text": [
      "\r",
      "...71.818% completed in 142.816 sec!"
     ]
    },
    {
     "name": "stderr",
     "output_type": "stream",
     "text": [
      "/home/docker/env/neurosci/lib/python3.9/site-packages/elephant/conversion.py:1170: UserWarning:Binning discarded 244 last spike(s) of the input spiketrain\n"
     ]
    },
    {
     "name": "stdout",
     "output_type": "stream",
     "text": [
      "\r",
      "...72.727% completed in 144.178 sec!"
     ]
    },
    {
     "name": "stderr",
     "output_type": "stream",
     "text": [
      "/home/docker/env/neurosci/lib/python3.9/site-packages/elephant/conversion.py:1170: UserWarning:Binning discarded 149 last spike(s) of the input spiketrain\n"
     ]
    },
    {
     "name": "stdout",
     "output_type": "stream",
     "text": [
      "\r",
      "...73.636% completed in 145.538 sec!"
     ]
    },
    {
     "name": "stderr",
     "output_type": "stream",
     "text": [
      "/home/docker/env/neurosci/lib/python3.9/site-packages/elephant/conversion.py:1170: UserWarning:Binning discarded 461 last spike(s) of the input spiketrain\n",
      "/home/docker/env/neurosci/lib/python3.9/site-packages/elephant/conversion.py:1170: UserWarning:Binning discarded 1506 last spike(s) of the input spiketrain\n"
     ]
    },
    {
     "name": "stdout",
     "output_type": "stream",
     "text": [
      "...75.455% completed in 148.971 sec!"
     ]
    },
    {
     "name": "stderr",
     "output_type": "stream",
     "text": [
      "/home/docker/env/neurosci/lib/python3.9/site-packages/elephant/conversion.py:1170: UserWarning:Binning discarded 293 last spike(s) of the input spiketrain\n"
     ]
    },
    {
     "name": "stdout",
     "output_type": "stream",
     "text": [
      "\r",
      "...76.364% completed in 151.119 sec!"
     ]
    },
    {
     "name": "stderr",
     "output_type": "stream",
     "text": [
      "/home/docker/env/neurosci/lib/python3.9/site-packages/elephant/conversion.py:1170: UserWarning:Binning discarded 271 last spike(s) of the input spiketrain\n",
      "/home/docker/env/neurosci/lib/python3.9/site-packages/elephant/conversion.py:1170: UserWarning:Binning discarded 374 last spike(s) of the input spiketrain\n"
     ]
    },
    {
     "name": "stdout",
     "output_type": "stream",
     "text": [
      "\r",
      "...77.273% completed in 152.783 sec!"
     ]
    },
    {
     "name": "stderr",
     "output_type": "stream",
     "text": [
      "/home/docker/env/neurosci/lib/python3.9/site-packages/elephant/conversion.py:1170: UserWarning:Binning discarded 199 last spike(s) of the input spiketrain\n"
     ]
    },
    {
     "name": "stdout",
     "output_type": "stream",
     "text": [
      "\r",
      "...78.182% completed in 154.155 sec!"
     ]
    },
    {
     "name": "stderr",
     "output_type": "stream",
     "text": [
      "/home/docker/env/neurosci/lib/python3.9/site-packages/elephant/conversion.py:1170: UserWarning:Binning discarded 678 last spike(s) of the input spiketrain\n",
      "/home/docker/env/neurosci/lib/python3.9/site-packages/elephant/conversion.py:1170: UserWarning:Binning discarded 764 last spike(s) of the input spiketrain\n"
     ]
    },
    {
     "name": "stdout",
     "output_type": "stream",
     "text": [
      "\r",
      "...79.091% completed in 155.531 sec!"
     ]
    },
    {
     "name": "stderr",
     "output_type": "stream",
     "text": [
      "/home/docker/env/neurosci/lib/python3.9/site-packages/elephant/conversion.py:1170: UserWarning:Binning discarded 119 last spike(s) of the input spiketrain\n",
      "/home/docker/env/neurosci/lib/python3.9/site-packages/elephant/conversion.py:1170: UserWarning:Binning discarded 309 last spike(s) of the input spiketrain\n"
     ]
    },
    {
     "name": "stdout",
     "output_type": "stream",
     "text": [
      "\r",
      "...80.000% completed in 156.881 sec!"
     ]
    },
    {
     "name": "stderr",
     "output_type": "stream",
     "text": [
      "/home/docker/env/neurosci/lib/python3.9/site-packages/elephant/conversion.py:1170: UserWarning:Binning discarded 280 last spike(s) of the input spiketrain\n",
      "/home/docker/env/neurosci/lib/python3.9/site-packages/elephant/conversion.py:1170: UserWarning:Binning discarded 168 last spike(s) of the input spiketrain\n"
     ]
    },
    {
     "name": "stdout",
     "output_type": "stream",
     "text": [
      "\r",
      "...80.909% completed in 158.145 sec!"
     ]
    },
    {
     "name": "stderr",
     "output_type": "stream",
     "text": [
      "/home/docker/env/neurosci/lib/python3.9/site-packages/elephant/conversion.py:1170: UserWarning:Binning discarded 258 last spike(s) of the input spiketrain\n",
      "/home/docker/env/neurosci/lib/python3.9/site-packages/elephant/conversion.py:1170: UserWarning:Binning discarded 361 last spike(s) of the input spiketrain\n"
     ]
    },
    {
     "name": "stdout",
     "output_type": "stream",
     "text": [
      "\r",
      "...81.818% completed in 159.398 sec!"
     ]
    },
    {
     "name": "stderr",
     "output_type": "stream",
     "text": [
      "/home/docker/env/neurosci/lib/python3.9/site-packages/elephant/conversion.py:1170: UserWarning:Binning discarded 440 last spike(s) of the input spiketrain\n",
      "/home/docker/env/neurosci/lib/python3.9/site-packages/elephant/conversion.py:1170: UserWarning:Binning discarded 133 last spike(s) of the input spiketrain\n"
     ]
    },
    {
     "name": "stdout",
     "output_type": "stream",
     "text": [
      "\r",
      "...82.727% completed in 160.798 sec!"
     ]
    },
    {
     "name": "stderr",
     "output_type": "stream",
     "text": [
      "/home/docker/env/neurosci/lib/python3.9/site-packages/elephant/conversion.py:1170: UserWarning:Binning discarded 698 last spike(s) of the input spiketrain\n"
     ]
    },
    {
     "name": "stdout",
     "output_type": "stream",
     "text": [
      "\r",
      "...83.636% completed in 162.122 sec!"
     ]
    },
    {
     "name": "stderr",
     "output_type": "stream",
     "text": [
      "/home/docker/env/neurosci/lib/python3.9/site-packages/elephant/conversion.py:1170: UserWarning:Binning discarded 825 last spike(s) of the input spiketrain\n"
     ]
    },
    {
     "name": "stdout",
     "output_type": "stream",
     "text": [
      "\r",
      "...84.545% completed in 163.545 sec!"
     ]
    },
    {
     "name": "stderr",
     "output_type": "stream",
     "text": [
      "/home/docker/env/neurosci/lib/python3.9/site-packages/elephant/conversion.py:1170: UserWarning:Binning discarded 151 last spike(s) of the input spiketrain\n",
      "/home/docker/env/neurosci/lib/python3.9/site-packages/elephant/conversion.py:1170: UserWarning:Binning discarded 413 last spike(s) of the input spiketrain\n"
     ]
    },
    {
     "name": "stdout",
     "output_type": "stream",
     "text": [
      "\r",
      "...85.455% completed in 164.924 sec!"
     ]
    },
    {
     "name": "stderr",
     "output_type": "stream",
     "text": [
      "/home/docker/env/neurosci/lib/python3.9/site-packages/elephant/conversion.py:1170: UserWarning:Binning discarded 138 last spike(s) of the input spiketrain\n"
     ]
    },
    {
     "name": "stdout",
     "output_type": "stream",
     "text": [
      "\r",
      "...86.364% completed in 166.496 sec!"
     ]
    },
    {
     "name": "stderr",
     "output_type": "stream",
     "text": [
      "/home/docker/env/neurosci/lib/python3.9/site-packages/elephant/conversion.py:1170: UserWarning:Binning discarded 145 last spike(s) of the input spiketrain\n"
     ]
    },
    {
     "name": "stdout",
     "output_type": "stream",
     "text": [
      "\r",
      "...87.273% completed in 167.767 sec!"
     ]
    },
    {
     "name": "stderr",
     "output_type": "stream",
     "text": [
      "/home/docker/env/neurosci/lib/python3.9/site-packages/elephant/conversion.py:1170: UserWarning:Binning discarded 198 last spike(s) of the input spiketrain\n"
     ]
    },
    {
     "name": "stdout",
     "output_type": "stream",
     "text": [
      "\r",
      "...88.182% completed in 169.006 sec!"
     ]
    },
    {
     "name": "stderr",
     "output_type": "stream",
     "text": [
      "/home/docker/env/neurosci/lib/python3.9/site-packages/elephant/conversion.py:1170: UserWarning:Binning discarded 158 last spike(s) of the input spiketrain\n",
      "/home/docker/env/neurosci/lib/python3.9/site-packages/elephant/conversion.py:1170: UserWarning:Binning discarded 184 last spike(s) of the input spiketrain\n"
     ]
    },
    {
     "name": "stdout",
     "output_type": "stream",
     "text": [
      "\r",
      "...89.091% completed in 170.263 sec!"
     ]
    },
    {
     "name": "stderr",
     "output_type": "stream",
     "text": [
      "/home/docker/env/neurosci/lib/python3.9/site-packages/elephant/conversion.py:1170: UserWarning:Binning discarded 173 last spike(s) of the input spiketrain\n"
     ]
    },
    {
     "name": "stdout",
     "output_type": "stream",
     "text": [
      "\r",
      "...90.000% completed in 171.542 sec!"
     ]
    },
    {
     "name": "stderr",
     "output_type": "stream",
     "text": [
      "/home/docker/env/neurosci/lib/python3.9/site-packages/elephant/conversion.py:1170: UserWarning:Binning discarded 141 last spike(s) of the input spiketrain\n"
     ]
    },
    {
     "name": "stdout",
     "output_type": "stream",
     "text": [
      "\r",
      "...90.909% completed in 172.829 sec!"
     ]
    },
    {
     "name": "stderr",
     "output_type": "stream",
     "text": [
      "/home/docker/env/neurosci/lib/python3.9/site-packages/elephant/conversion.py:1170: UserWarning:Binning discarded 175 last spike(s) of the input spiketrain\n",
      "/home/docker/env/neurosci/lib/python3.9/site-packages/elephant/conversion.py:1170: UserWarning:Binning discarded 114 last spike(s) of the input spiketrain\n"
     ]
    },
    {
     "name": "stdout",
     "output_type": "stream",
     "text": [
      "\r",
      "...91.818% completed in 174.053 sec!"
     ]
    },
    {
     "name": "stderr",
     "output_type": "stream",
     "text": [
      "/home/docker/env/neurosci/lib/python3.9/site-packages/elephant/conversion.py:1170: UserWarning:Binning discarded 106 last spike(s) of the input spiketrain\n",
      "/home/docker/env/neurosci/lib/python3.9/site-packages/elephant/conversion.py:1170: UserWarning:Binning discarded 66 last spike(s) of the input spiketrain\n"
     ]
    },
    {
     "name": "stdout",
     "output_type": "stream",
     "text": [
      "\r",
      "...92.727% completed in 175.352 sec!"
     ]
    },
    {
     "name": "stderr",
     "output_type": "stream",
     "text": [
      "/home/docker/env/neurosci/lib/python3.9/site-packages/elephant/conversion.py:1170: UserWarning:Binning discarded 54 last spike(s) of the input spiketrain\n"
     ]
    },
    {
     "name": "stdout",
     "output_type": "stream",
     "text": [
      "\r",
      "...93.636% completed in 176.625 sec!"
     ]
    },
    {
     "name": "stderr",
     "output_type": "stream",
     "text": [
      "/home/docker/env/neurosci/lib/python3.9/site-packages/elephant/conversion.py:1170: UserWarning:Binning discarded 50 last spike(s) of the input spiketrain\n",
      "/home/docker/env/neurosci/lib/python3.9/site-packages/elephant/conversion.py:1170: UserWarning:Binning discarded 53 last spike(s) of the input spiketrain\n"
     ]
    },
    {
     "name": "stdout",
     "output_type": "stream",
     "text": [
      "\r",
      "...94.545% completed in 177.933 sec!"
     ]
    },
    {
     "name": "stderr",
     "output_type": "stream",
     "text": [
      "/home/docker/env/neurosci/lib/python3.9/site-packages/elephant/conversion.py:1170: UserWarning:Binning discarded 64 last spike(s) of the input spiketrain\n",
      "/home/docker/env/neurosci/lib/python3.9/site-packages/elephant/conversion.py:1170: UserWarning:Binning discarded 49 last spike(s) of the input spiketrain\n"
     ]
    },
    {
     "name": "stdout",
     "output_type": "stream",
     "text": [
      "\r",
      "...95.455% completed in 179.143 sec!"
     ]
    },
    {
     "name": "stderr",
     "output_type": "stream",
     "text": [
      "/home/docker/env/neurosci/lib/python3.9/site-packages/elephant/conversion.py:1170: UserWarning:Binning discarded 43 last spike(s) of the input spiketrain\n",
      "/home/docker/env/neurosci/lib/python3.9/site-packages/elephant/conversion.py:1170: UserWarning:Binning discarded 55 last spike(s) of the input spiketrain\n"
     ]
    },
    {
     "name": "stdout",
     "output_type": "stream",
     "text": [
      "\r",
      "...96.364% completed in 180.359 sec!"
     ]
    },
    {
     "name": "stderr",
     "output_type": "stream",
     "text": [
      "/home/docker/env/neurosci/lib/python3.9/site-packages/elephant/conversion.py:1170: UserWarning:Binning discarded 76 last spike(s) of the input spiketrain\n",
      "/home/docker/env/neurosci/lib/python3.9/site-packages/elephant/conversion.py:1170: UserWarning:Binning discarded 36 last spike(s) of the input spiketrain\n"
     ]
    },
    {
     "name": "stdout",
     "output_type": "stream",
     "text": [
      "\r",
      "...97.273% completed in 181.565 sec!"
     ]
    },
    {
     "name": "stderr",
     "output_type": "stream",
     "text": [
      "/home/docker/env/neurosci/lib/python3.9/site-packages/elephant/conversion.py:1170: UserWarning:Binning discarded 41 last spike(s) of the input spiketrain\n"
     ]
    },
    {
     "name": "stdout",
     "output_type": "stream",
     "text": [
      "\r",
      "...98.182% completed in 182.742 sec!"
     ]
    },
    {
     "name": "stderr",
     "output_type": "stream",
     "text": [
      "/home/docker/env/neurosci/lib/python3.9/site-packages/elephant/conversion.py:1170: UserWarning:Binning discarded 21 last spike(s) of the input spiketrain\n",
      "/home/docker/env/neurosci/lib/python3.9/site-packages/elephant/conversion.py:1170: UserWarning:Binning discarded 30 last spike(s) of the input spiketrain\n"
     ]
    },
    {
     "name": "stdout",
     "output_type": "stream",
     "text": [
      "...100.000% completed in 185.235 sec!\n",
      "Simulated in 190.124629 secs!\n"
     ]
    },
    {
     "ename": "NameError",
     "evalue": "name 'neuron_models' is not defined",
     "output_type": "error",
     "traceback": [
      "\u001b[0;31m---------------------------------------------------------------------------\u001b[0m",
      "\u001b[0;31mNameError\u001b[0m                                 Traceback (most recent call last)",
      "Input \u001b[0;32mIn [6]\u001b[0m, in \u001b[0;36m<cell line: 1>\u001b[0;34m()\u001b[0m\n\u001b[0;32m----> 1\u001b[0m results, transient, simulator, nest_network \u001b[38;5;241m=\u001b[39m \u001b[43msimulate_tvb_nest\u001b[49m\u001b[43m(\u001b[49m\u001b[43msimulator\u001b[49m\u001b[43m,\u001b[49m\u001b[43m \u001b[49m\u001b[43mnest_network\u001b[49m\u001b[43m,\u001b[49m\u001b[43m \u001b[49m\u001b[43mconfig\u001b[49m\u001b[43m,\u001b[49m\u001b[43m \u001b[49m\u001b[43mprint_flag\u001b[49m\u001b[38;5;241;43m=\u001b[39;49m\u001b[38;5;28;43;01mTrue\u001b[39;49;00m\u001b[43m)\u001b[49m\n\u001b[1;32m      2\u001b[0m simulation_length \u001b[38;5;241m=\u001b[39m simulator\u001b[38;5;241m.\u001b[39msimulation_length\n",
      "File \u001b[0;32m~/packages/tvb-multiscale/examples/tvb_nest/notebooks/cerebellum/scripts/tvb_nest_script.py:217\u001b[0m, in \u001b[0;36msimulate_tvb_nest\u001b[0;34m(simulator, nest_network, config, print_flag, plot_flag)\u001b[0m\n\u001b[1;32m    215\u001b[0m \u001b[38;5;28;01mif\u001b[39;00m plot_flag:\n\u001b[1;32m    216\u001b[0m     \u001b[38;5;28;01mfrom\u001b[39;00m \u001b[38;5;21;01mexamples\u001b[39;00m\u001b[38;5;21;01m.\u001b[39;00m\u001b[38;5;21;01mtvb_nest\u001b[39;00m\u001b[38;5;21;01m.\u001b[39;00m\u001b[38;5;21;01mnotebooks\u001b[39;00m\u001b[38;5;21;01m.\u001b[39;00m\u001b[38;5;21;01mcerebellum\u001b[39;00m\u001b[38;5;21;01m.\u001b[39;00m\u001b[38;5;21;01mscripts\u001b[39;00m\u001b[38;5;21;01m.\u001b[39;00m\u001b[38;5;21;01mnest_script\u001b[39;00m \u001b[38;5;28;01mimport\u001b[39;00m plot_nest_results\n\u001b[0;32m--> 217\u001b[0m     \u001b[43mplot_nest_results\u001b[49m\u001b[43m(\u001b[49m\u001b[43mnest_network\u001b[49m\u001b[43m,\u001b[49m\u001b[43m \u001b[49m\u001b[43mconfig\u001b[49m\u001b[43m)\u001b[49m\n\u001b[1;32m    218\u001b[0m \u001b[38;5;28;01mreturn\u001b[39;00m results, transient, simulator, nest_network\n",
      "File \u001b[0;32m~/packages/tvb-multiscale/examples/tvb_nest/notebooks/cerebellum/scripts/nest_script.py:540\u001b[0m, in \u001b[0;36mplot_nest_results\u001b[0;34m(nest_network, config)\u001b[0m\n\u001b[1;32m    538\u001b[0m times \u001b[38;5;241m=\u001b[39m cells[c][\u001b[38;5;241m0\u001b[39m]\n\u001b[1;32m    539\u001b[0m cell_ids \u001b[38;5;241m=\u001b[39m cells[c][\u001b[38;5;241m1\u001b[39m]\n\u001b[0;32m--> 540\u001b[0m \u001b[43mmetrics\u001b[49m\u001b[43m(\u001b[49m\u001b[43mtimes\u001b[49m\u001b[43m,\u001b[49m\u001b[43m \u001b[49m\u001b[43mconfig\u001b[49m\u001b[38;5;241;43m.\u001b[39;49m\u001b[43mSIMULATION_LENGTH\u001b[49m\u001b[43m,\u001b[49m\u001b[43m \u001b[49m\u001b[43mc\u001b[49m\u001b[43m,\u001b[49m\u001b[43m \u001b[49m\u001b[43mfig_psth\u001b[49m\u001b[43m,\u001b[49m\u001b[43m \u001b[49m\u001b[43mnum\u001b[49m\u001b[43m)\u001b[49m\n\u001b[1;32m    541\u001b[0m raster(times, cell_ids, c, fig_raster, num)\n\u001b[1;32m    542\u001b[0m num \u001b[38;5;241m+\u001b[39m\u001b[38;5;241m=\u001b[39m \u001b[38;5;241m1\u001b[39m\n",
      "File \u001b[0;32m~/packages/tvb-multiscale/examples/tvb_nest/notebooks/cerebellum/scripts/nest_script.py:494\u001b[0m, in \u001b[0;36mplot_nest_results.<locals>.metrics\u001b[0;34m(spikeData, TrialDuration, cell, figure_handle, sel_row)\u001b[0m\n\u001b[1;32m    491\u001b[0m     abs_freq[idx] \u001b[38;5;241m=\u001b[39m count\u001b[38;5;241m.\u001b[39mshape[\u001b[38;5;241m0\u001b[39m]\n\u001b[1;32m    493\u001b[0m \u001b[38;5;66;03m# mean frequency\u001b[39;00m\n\u001b[0;32m--> 494\u001b[0m m_f \u001b[38;5;241m=\u001b[39m (id_spikes[\u001b[38;5;241m0\u001b[39m]\u001b[38;5;241m.\u001b[39mshape[\u001b[38;5;241m0\u001b[39m]) \u001b[38;5;241m/\u001b[39m ((TrialDuration \u001b[38;5;241m/\u001b[39m \u001b[38;5;241m1000\u001b[39m) \u001b[38;5;241m*\u001b[39m \u001b[38;5;28mlen\u001b[39m(\u001b[43mneuron_models\u001b[49m[cell]))\n\u001b[1;32m    496\u001b[0m layout \u001b[38;5;241m=\u001b[39m go\u001b[38;5;241m.\u001b[39mLayout(\n\u001b[1;32m    497\u001b[0m     scene\u001b[38;5;241m=\u001b[39m\u001b[38;5;28mdict\u001b[39m(aspectmode\u001b[38;5;241m=\u001b[39m\u001b[38;5;124m'\u001b[39m\u001b[38;5;124mdata\u001b[39m\u001b[38;5;124m'\u001b[39m),\n\u001b[1;32m    498\u001b[0m     xaxis\u001b[38;5;241m=\u001b[39m{\u001b[38;5;124m'\u001b[39m\u001b[38;5;124mtitle\u001b[39m\u001b[38;5;124m'\u001b[39m: \u001b[38;5;124m'\u001b[39m\u001b[38;5;124mtime (ms)\u001b[39m\u001b[38;5;124m'\u001b[39m},\n\u001b[1;32m    499\u001b[0m     yaxis\u001b[38;5;241m=\u001b[39m{\u001b[38;5;124m'\u001b[39m\u001b[38;5;124mtitle\u001b[39m\u001b[38;5;124m'\u001b[39m: \u001b[38;5;124m'\u001b[39m\u001b[38;5;124mnumber of spikes\u001b[39m\u001b[38;5;124m'\u001b[39m}\n\u001b[1;32m    500\u001b[0m )\n\u001b[1;32m    502\u001b[0m figure_handle\u001b[38;5;241m.\u001b[39madd_trace(go\u001b[38;5;241m.\u001b[39mBar(\n\u001b[1;32m    503\u001b[0m     x\u001b[38;5;241m=\u001b[39mtms[\u001b[38;5;241m0\u001b[39m:\u001b[38;5;28mlen\u001b[39m(tms) \u001b[38;5;241m-\u001b[39m \u001b[38;5;241m1\u001b[39m],\n\u001b[1;32m    504\u001b[0m     y\u001b[38;5;241m=\u001b[39mpsth \u001b[38;5;241m/\u001b[39m ((bin_size \u001b[38;5;241m*\u001b[39m \u001b[38;5;241m0.001\u001b[39m) \u001b[38;5;241m*\u001b[39m neuron_number[cell]),\n\u001b[0;32m   (...)\u001b[0m\n\u001b[1;32m    507\u001b[0m         color\u001b[38;5;241m=\u001b[39mcolor[cell])\n\u001b[1;32m    508\u001b[0m ), row\u001b[38;5;241m=\u001b[39msel_row, col\u001b[38;5;241m=\u001b[39m\u001b[38;5;241m1\u001b[39m)\n",
      "\u001b[0;31mNameError\u001b[0m: name 'neuron_models' is not defined"
     ]
    }
   ],
   "source": [
    "results, transient, simulator, nest_network = simulate_tvb_nest(simulator, nest_network, config, \n",
    "                                                                neuron_models, neuron_number, print_flag=True)\n"
   ]
  },
  {
   "cell_type": "code",
   "execution_count": null,
   "id": "7140ad06",
   "metadata": {
    "scrolled": false
   },
   "outputs": [],
   "source": [
    "import plotly.graph_objs as go\n",
    "from plotly.subplots import make_subplots\n",
    "\n",
    "goc_events = nest_network.output_devices['golgi_cell']['Left Ansiform lobule'].events\n",
    "goc_evs = goc_events['senders']\n",
    "goc_times = goc_events['times']\n",
    "\n",
    "# grc_events = nest_network.output_devices['granule_cell']['Left Ansiform Lobule'].events\n",
    "# grc_evs = grc_events['senders']\n",
    "# grc_times = grc_events['times']\n",
    "# n_events = len(grc_times)\n",
    "# random_inds = random.sample(list(range(n_events)), int(n_events * 0.1))\n",
    "# grc_evs = grc_evs[random_inds]\n",
    "# grc_times = grc_times[random_inds]\n",
    "\n",
    "glom_events = nest_network.output_devices['glomerulus']['Left Ansiform lobule'].events\n",
    "glom_evs = glom_events['senders']\n",
    "glom_times = glom_events['times']\n",
    "\n",
    "pc_events = nest_network.output_devices['purkinje_cell']['Left Ansiform lobule'].events\n",
    "pc_evs = pc_events['senders']\n",
    "pc_times = pc_events['times']\n",
    "\n",
    "sc_events = nest_network.output_devices['stellate_cell']['Left Ansiform lobule'].events\n",
    "sc_evs = sc_events['senders']\n",
    "sc_times = sc_events['times']\n",
    "\n",
    "bc_events = nest_network.output_devices['basket_cell']['Left Ansiform lobule'].events\n",
    "bc_evs = bc_events['senders']\n",
    "bc_times = bc_events['times']\n",
    "\n",
    "io_events = nest_network.output_devices['io_cell']['Left Inferior olivary complex'].events\n",
    "io_evs = io_events['senders']\n",
    "io_times = io_events['times']\n",
    "\n",
    "dcng_events = nest_network.output_devices['dcn_cell_GABA']['Left Interposed nucleus'].events\n",
    "dcng_evs = dcng_events['senders']\n",
    "dcng_times = dcng_events['times']\n",
    "\n",
    "dcn_events = nest_network.output_devices['dcn_cell_glut_large']['Left Interposed nucleus'].events\n",
    "dcn_evs = dcn_events['senders']\n",
    "dcn_times = dcn_events['times']\n",
    "\n",
    "\n",
    "# ######################### PLOTTING PSTH AND RASTER PLOTS ########################\n",
    "\n",
    "CELL_TO_PLOT = ['glomerulus',  'basket_cell', 'stellate_cell', 'purkinje_cell',\n",
    "                'io_cell', 'dcn_cell_GABA',  'dcn_cell_glut_large']  # 'granule_cell',\n",
    "\n",
    "cells = {# 'granule_cell': [grc_times, grc_evs],\n",
    "         'golgi_cell': [goc_times, goc_evs],\n",
    "         'glomerulus': [glom_times, glom_evs],\n",
    "         'purkinje_cell': [pc_times, pc_evs],\n",
    "         'stellate_cell': [sc_times, sc_evs],\n",
    "         'basket_cell': [bc_times, bc_evs],\n",
    "         'io_cell': [io_times, io_evs],\n",
    "         'dcn_cell_GABA': [dcng_times, dcng_evs],\n",
    "         'dcn_cell_glut_large': [dcn_times, dcn_evs]}\n",
    "\n",
    "color = {'granule_cell': '#E62214',  # 'rgba(255, 0, 0, .8)',\n",
    "         'golgi_cell': '#332EBC',  # 'rgba(0, 255, 0, .8)',\n",
    "         'glomerulus': '#0E1030',  # rgba(0, 0, 0, .8)',\n",
    "         'purkinje_cell': '#0F8944',  # 'rgba(64, 224, 208, .8)',\n",
    "         'stellate_cell': '#FFC425',  # 'rgba(234, 10, 142, .8)',\n",
    "         'basket_cell': '#F37735',\n",
    "         'io_cell': 'rgba(75, 75, 75, .8)',\n",
    "         'dcn_cell_GABA': 'rgba(100, 100, 100, .8)',\n",
    "         'dcn_cell_glut_large': '#080808'}  # 'rgba(234, 10, 142, .8)'}\n",
    "\n",
    "# PSTH\n",
    "\n",
    "def metrics(spikeData, TrialDuration, cell, figure_handle, sel_row):\n",
    "    id_spikes = np.sort(np.unique(spikeData, return_index=True))\n",
    "    bin_size = 5  # [ms]\n",
    "    n_bins = int(TrialDuration / bin_size) + 1\n",
    "    psth, tms = np.histogram(spikeData, bins=n_bins, range=(0, TrialDuration))\n",
    "\n",
    "    # absolute frequency\n",
    "    abs_freq = np.zeros(id_spikes[0].shape[0])\n",
    "    for idx, i in enumerate(id_spikes[0]):\n",
    "        count = np.where(spikeData == i)[0]\n",
    "        abs_freq[idx] = count.shape[0]\n",
    "\n",
    "    # mean frequency\n",
    "    m_f = (id_spikes[0].shape[0]) / ((TrialDuration / 1000) * len(neuron_models[cell]))\n",
    "\n",
    "    layout = go.Layout(\n",
    "        scene=dict(aspectmode='data'),\n",
    "        xaxis={'title': 'time (ms)'},\n",
    "        yaxis={'title': 'number of spikes'}\n",
    "    )\n",
    "\n",
    "    figure_handle.add_trace(go.Bar(\n",
    "        x=tms[0:len(tms) - 1],\n",
    "        y=psth / ((bin_size * 0.001) * neuron_number[cell]),\n",
    "        width=4.0,\n",
    "        marker=dict(\n",
    "            color=color[cell])\n",
    "    ), row=sel_row, col=1)\n",
    "\n",
    "    print(\"mean frequency: \", int(m_f))\n",
    "\n",
    "    return tms\n",
    "\n",
    "# RASTER\n",
    "def raster(times, cell_ids, cell, fig_handle, sel_row):\n",
    "    trace0 = go.Scatter(\n",
    "        x=times,\n",
    "        y=cell_ids,\n",
    "        name='',\n",
    "        mode='markers',\n",
    "        marker=dict(\n",
    "            size=4,\n",
    "            color=color[cell],\n",
    "            line=dict(\n",
    "                width=.2,\n",
    "                color='rgb(0, 0, 0)'\n",
    "            )\n",
    "        )\n",
    "    )\n",
    "    fig_handle.add_trace(trace0, row=sel_row, col=1)\n",
    "\n",
    "fig_psth = make_subplots(rows=len(CELL_TO_PLOT), cols=1, subplot_titles=CELL_TO_PLOT, x_title='Time [ms]',\n",
    "                         y_title='Frequency [Hz]')\n",
    "# fig_raster = make_subplots(rows=len(CELL_TO_PLOT), cols=1, subplot_titles=CELL_TO_PLOT, x_title='Time [ms]',\n",
    "#                            y_title='# cells')\n",
    "num = 1\n",
    "for c in CELL_TO_PLOT:\n",
    "    times = cells[c][0]\n",
    "    cell_ids = cells[c][1]\n",
    "    metrics(times, config.SIMULATION_LENGTH, c, fig_psth, num)\n",
    "    # raster(times, cell_ids, c, fig_raster, num)\n",
    "    num += 1\n",
    "fig_psth.update_xaxes(range=[0, config.SIMULATION_LENGTH])  # range=[1000, 2000]\n",
    "# fig_raster.update_xaxes(range=[1000, 2000])\n",
    "fig_psth.update_layout(showlegend=False)\n",
    "# fig_raster.update_layout(showlegend=False)\n",
    "fig_psth.show()\n",
    "# fig_raster.show()\n"
   ]
  },
  {
   "cell_type": "code",
   "execution_count": null,
   "id": "b1a2877a",
   "metadata": {},
   "outputs": [],
   "source": [
    "fig_psth.write_image(\"images/snn_psth_whisking.png\")\n",
    "# fig_raster.write_image(\"images/snn_raster_whisking.png\")"
   ]
  },
  {
   "cell_type": "code",
   "execution_count": null,
   "id": "3ca87a60",
   "metadata": {},
   "outputs": [],
   "source": [
    "# priors = priors_samples_per_batch_for_iG(priors_samples=None,\n",
    "#                                          iG=1, config=config, write_to_files=True)\n"
   ]
  },
  {
   "cell_type": "code",
   "execution_count": null,
   "id": "5dfca0aa",
   "metadata": {},
   "outputs": [],
   "source": [
    "# sim_res = np.load(os.path.join(config.out.FOLDER_RES, \"bsr_iG01_000.npy\"), allow_pickle=True)"
   ]
  },
  {
   "cell_type": "code",
   "execution_count": null,
   "id": "850c06c5",
   "metadata": {
    "scrolled": true
   },
   "outputs": [],
   "source": [
    "# samples_fit_Gs, results, fig, simulator, config = sbi_fit(1, config=None);\n",
    "# run_workflow(plot_flag=True)"
   ]
  },
  {
   "cell_type": "code",
   "execution_count": null,
   "id": "792aad94",
   "metadata": {
    "scrolled": false
   },
   "outputs": [],
   "source": [
    "# fig"
   ]
  },
  {
   "cell_type": "markdown",
   "id": "b4125830",
   "metadata": {},
   "source": [
    "# Plot results and write them to HDF5 files"
   ]
  },
  {
   "cell_type": "code",
   "execution_count": null,
   "id": "ad7c58e8",
   "metadata": {},
   "outputs": [],
   "source": [
    "from scipy.io import savemat\n",
    "# set to False for faster plotting of only mean field variables and dates, apart from spikes\" rasters:\n",
    "plot_per_neuron = False  \n",
    "MAX_VARS_IN_COLS = 2\n",
    "MAX_REGIONS_IN_ROWS = 10\n",
    "MIN_REGIONS_FOR_RASTER_PLOT = 9\n",
    "# from examples.plot_write_results import plot_write_results\n",
    "# plot_write_results(results, simulator, populations=populations, \n",
    "#                    transient=transient, tvb_state_variable_type_label=\"State Variables\", \n",
    "#                    tvb_state_variables_labels=simulator.model.variables_of_interest, \n",
    "#                    plot_per_neuron=plot_per_neuron, plotter=plotter, config=config)\n",
    "from tvb_multiscale.core.plot.plotter import Plotter\n",
    "plotter = Plotter(config.figures)\n",
    "# Load connectome and other structural files\n",
    "connectome, major_structs_labels, voxel_count, inds = load_connectome(config, plotter=plotter)\n",
    "# Construct some more indices and maps\n",
    "inds, maps = construct_extra_inds_and_maps(connectome, inds)\n",
    "# inds = config.inds\n",
    "# maps = config.maps\n",
    "# transient = config.transient + 0.5\n",
    "transient += 0.5\n",
    "simulation_length = simulator.simulation_length\n",
    "FIGSIZE = config.figures.DEFAULT_SIZE\n"
   ]
  },
  {
   "cell_type": "code",
   "execution_count": null,
   "id": "aee226d2",
   "metadata": {},
   "outputs": [],
   "source": [
    "# If you want to see what the function above does, take the steps, one by one\n",
    "try:\n",
    "    # We need framework_tvb for writing and reading from HDF5 files\n",
    "    from tvb_multiscale.core.tvb.io.h5_writer import H5Writer\n",
    "    writer = H5Writer()\n",
    "except:\n",
    "    writer = False\n",
    "    \n",
    "from tvb.contrib.scripts.datatypes.time_series import TimeSeriesRegion\n",
    "from tvb.contrib.scripts.datatypes.time_series_xarray import TimeSeriesRegion as TimeSeriesXarray\n",
    "\n",
    "# Put the results in a Timeseries instance\n",
    "from tvb.contrib.scripts.datatypes.time_series import TimeSeriesRegion\n",
    "\n",
    "source_ts = None\n",
    "bold_ts = None\n",
    "\n",
    "if results is not None:\n",
    "    source_ts = TimeSeriesXarray(  # substitute with TimeSeriesRegion fot TVB like functionality\n",
    "            data=results[0][1], time=results[0][0],\n",
    "            connectivity=simulator.connectivity,\n",
    "            labels_ordering=[\"Time\", \"State Variable\", \"Region\", \"Neurons\"],\n",
    "            labels_dimensions={\"State Variable\": list(simulator.model.variables_of_interest),\n",
    "                               \"Region\": simulator.connectivity.region_labels.tolist()},\n",
    "            sample_period=simulator.integrator.dt)\n",
    "    source_ts.configure()\n",
    "\n",
    "    t = source_ts.time\n",
    "\n",
    "    # Write to file\n",
    "    if writer:\n",
    "        writer.write_tvb_to_h5(TimeSeriesRegion().from_xarray_DataArray(source_ts._data,\n",
    "                                                                        connectivity=source_ts.connectivity),\n",
    "                               os.path.join(config.out.FOLDER_RES, source_ts.title)+\".h5\")\n",
    "    print(\"Raw ts:\\n%s\" % str(source_ts))\n",
    "    \n",
    "    if len(results) > 1:\n",
    "        bold_ts = TimeSeriesXarray(  # substitute with TimeSeriesRegion fot TVB like functionality\n",
    "                data=results[1][1], time=results[1][0],\n",
    "                connectivity=simulator.connectivity,\n",
    "                labels_ordering=[\"Time\", \"State Variable\", \"Region\", \"Neurons\"],\n",
    "                labels_dimensions={\"State Variable\": [\"BOLD\"],\n",
    "                                   \"Region\": simulator.connectivity.region_labels.tolist()})\n",
    "        bold_ts.configure()\n",
    "\n",
    "        bold_t = source_ts.time\n",
    "\n",
    "        # Write to file\n",
    "        if writer:\n",
    "            writer.write_tvb_to_h5(TimeSeriesRegion().from_xarray_DataArray(bold_ts._data,\n",
    "                                                                            connectivity=bold_ts.connectivity),\n",
    "                                   os.path.join(config.out.FOLDER_RES, bold_ts.title)+\".h5\")\n",
    "        print(\"BOLD ts:\\n%s\" % str(bold_ts))\n",
    "    "
   ]
  },
  {
   "cell_type": "code",
   "execution_count": null,
   "id": "980edca2",
   "metadata": {
    "scrolled": true
   },
   "outputs": [],
   "source": [
    "# Plot TVB time series\n",
    "if source_ts is not None:\n",
    "    source_ts[:, :, :, :].plot_timeseries(plotter_config=plotter.config, \n",
    "                          hue=\"Region\" if source_ts.shape[2] > MAX_REGIONS_IN_ROWS else None, \n",
    "                          per_variable=source_ts.shape[1] > MAX_VARS_IN_COLS, \n",
    "                          figsize=FIGSIZE);"
   ]
  },
  {
   "cell_type": "code",
   "execution_count": null,
   "id": "b2d17510",
   "metadata": {
    "scrolled": false
   },
   "outputs": [],
   "source": [
    "# Focus on the m1 and s1 barrel field nodes: \n",
    "if source_ts is not None:\n",
    "    source_ts_m1s1brl = source_ts[-10000:, :, inds[\"m1s1brl\"]]\n",
    "    source_ts_m1s1brl.plot_timeseries(plotter_config=plotter.config, \n",
    "                                   hue=\"Region\" if source_ts_m1s1brl.shape[2] > MAX_REGIONS_IN_ROWS else None, \n",
    "                                   per_variable=source_ts_m1s1brl.shape[1] > MAX_VARS_IN_COLS, \n",
    "                                   figsize=FIGSIZE, figname=\"M1 and S1 barrel field nodes TVB Time Series\");"
   ]
  },
  {
   "cell_type": "code",
   "execution_count": null,
   "id": "c78bf04e",
   "metadata": {
    "scrolled": false
   },
   "outputs": [],
   "source": [
    "# Focus on the m1 and s1 barrel field nodes: raster plot\n",
    "if source_ts is not None and source_ts_m1s1brl.number_of_labels > MIN_REGIONS_FOR_RASTER_PLOT:\n",
    "    source_ts_m1s1brl.plot_raster(plotter_config=plotter.config, \n",
    "                                  per_variable=source_ts_m1s1brl.shape[1] > MAX_VARS_IN_COLS,\n",
    "                                  figsize=FIGSIZE, figname=\"M1 and S1 barrel field nodes TVB Time Series Raster\");"
   ]
  },
  {
   "cell_type": "code",
   "execution_count": null,
   "id": "df21fc5b",
   "metadata": {
    "scrolled": false
   },
   "outputs": [],
   "source": [
    "# Focus on the the motor pathway: \n",
    "if source_ts is not None:\n",
    "    source_ts_motor = source_ts[-10000:, :, inds[\"motor\"]]\n",
    "    source_ts_motor.plot_timeseries(plotter_config=plotter.config, \n",
    "                                   hue=\"Region\" if source_ts_motor.shape[2] > MAX_REGIONS_IN_ROWS else None, \n",
    "                                   per_variable=source_ts_motor.shape[1] > MAX_VARS_IN_COLS, \n",
    "                                   figsize=FIGSIZE, figname=\"Motor pathway TVB Time Series\");"
   ]
  },
  {
   "cell_type": "code",
   "execution_count": null,
   "id": "f2136959",
   "metadata": {
    "scrolled": false
   },
   "outputs": [],
   "source": [
    "# Focus on the motor pathway: raster plot\n",
    "if source_ts_motor is not None and source_ts_motor.number_of_labels > MIN_REGIONS_FOR_RASTER_PLOT:\n",
    "    source_ts_motor.plot_raster(plotter_config=plotter.config, \n",
    "                                  per_variable=source_ts_motor.shape[1] > MAX_VARS_IN_COLS,\n",
    "                                  figsize=FIGSIZE, figname=\"Motor pathway TVB Time Series Raster\");"
   ]
  },
  {
   "cell_type": "code",
   "execution_count": null,
   "id": "203f57cf",
   "metadata": {
    "scrolled": true
   },
   "outputs": [],
   "source": [
    "# Focus on the sensory pathway: \n",
    "if source_ts is not None:\n",
    "    source_ts_sens = source_ts[-10000:, :, inds[\"sens\"]]\n",
    "    source_ts_sens.plot_timeseries(plotter_config=plotter.config, \n",
    "                                   hue=\"Region\" if source_ts_sens.shape[2] > MAX_REGIONS_IN_ROWS else None, \n",
    "                                   per_variable=source_ts_sens.shape[1] > MAX_VARS_IN_COLS, \n",
    "                                   figsize=FIGSIZE, figname=\"Sensory pathway TVB Time Series\");"
   ]
  },
  {
   "cell_type": "code",
   "execution_count": null,
   "id": "233d0dfc",
   "metadata": {
    "scrolled": false
   },
   "outputs": [],
   "source": [
    "# Focus on the sensory pathway: raster plot\n",
    "if source_ts is not None and source_ts_sens.number_of_labels > MIN_REGIONS_FOR_RASTER_PLOT:\n",
    "    source_ts_sens.plot_raster(plotter_config=plotter.config, \n",
    "                               per_variable=source_ts_sens.shape[1] > MAX_VARS_IN_COLS,\n",
    "                               figsize=FIGSIZE, figname=\"Sensory pathway TVB Time Series Raster\");"
   ]
  },
  {
   "cell_type": "code",
   "execution_count": null,
   "id": "d3c344c3",
   "metadata": {
    "scrolled": true
   },
   "outputs": [],
   "source": [
    "# bold_ts TVB time series\n",
    "if bold_ts is not None:\n",
    "    bold_ts.plot_timeseries(plotter_config=plotter.config, \n",
    "                            hue=\"Region\" if bold_ts.shape[2] > MAX_REGIONS_IN_ROWS else None, \n",
    "                            per_variable=bold_ts.shape[1] > MAX_VARS_IN_COLS, \n",
    "                            figsize=FIGSIZE);"
   ]
  },
  {
   "cell_type": "code",
   "execution_count": null,
   "id": "69ca0aef",
   "metadata": {
    "scrolled": false
   },
   "outputs": [],
   "source": [
    "# # Focus on the m1 and s1 barrel field nodes: \n",
    "# if bold_ts is not None:\n",
    "#     bold_ts_m1s1brl = bold_ts[-10000:, :, inds[\"m1s1brl\"]]\n",
    "#     bold_ts_m1s1brl.plot_timeseries(plotter_config=plotter.config, \n",
    "#                                     hue=\"Region\" if bold_ts_m1s1brl.shape[2] > MAX_REGIONS_IN_ROWS else None, \n",
    "#                                     per_variable=bold_ts_m1s1brl.shape[1] > MAX_VARS_IN_COLS, \n",
    "#                                     figsize=FIGSIZE, figname=\"M1 and S1 barrel field nodes BOLD Time Series\");"
   ]
  },
  {
   "cell_type": "code",
   "execution_count": null,
   "id": "ed63740b",
   "metadata": {
    "scrolled": false
   },
   "outputs": [],
   "source": [
    "# # Focus on the m1 and s1 barrel field nodes: raster plot\n",
    "# if bold_ts is not None and bold_ts_m1s1brl.number_of_labels > MIN_REGIONS_FOR_RASTER_PLOT:\n",
    "#     bold_ts_m1s1brl.plot_raster(plotter_config=plotter.config, \n",
    "#                                 per_variable=bold_ts_m1s1brl.shape[1] > MAX_VARS_IN_COLS,\n",
    "#                                 figsize=FIGSIZE, figname=\"M1 and S1 barrel field nodes BOLD Time Series Raster\");"
   ]
  },
  {
   "cell_type": "code",
   "execution_count": null,
   "id": "cd1981e9",
   "metadata": {
    "scrolled": true
   },
   "outputs": [],
   "source": [
    "# # Focus on the the motor pathway: \n",
    "# if bold_ts is not None:\n",
    "#     bold_ts_motor = bold_ts[-10000:, :, inds[\"motor\"]]\n",
    "#     bold_ts_motor.plot_timeseries(plotter_config=plotter.config, \n",
    "#                                    hue=\"Region\" if bold_ts_motor.shape[2] > MAX_REGIONS_IN_ROWS else None, \n",
    "#                                    per_variable=bold_ts_motor.shape[1] > MAX_VARS_IN_COLS, \n",
    "#                                    figsize=FIGSIZE, figname=\"Motor pathway BOLD Time Series\");"
   ]
  },
  {
   "cell_type": "code",
   "execution_count": null,
   "id": "04895bc7",
   "metadata": {
    "scrolled": false
   },
   "outputs": [],
   "source": [
    "# # Focus on the motor pathway: raster plot\n",
    "# if bold_ts is not None and bold_ts_motor.number_of_labels > MIN_REGIONS_FOR_RASTER_PLOT:\n",
    "#     bold_ts_motor.plot_raster(plotter_config=plotter.config, \n",
    "#                               per_variable=bold_ts_motor.shape[1] > MAX_VARS_IN_COLS,\n",
    "#                               figsize=FIGSIZE, figname=\"Motor pathway BOLD Time Series Raster\");"
   ]
  },
  {
   "cell_type": "code",
   "execution_count": null,
   "id": "1ca5e916",
   "metadata": {
    "scrolled": false
   },
   "outputs": [],
   "source": [
    "# # Focus on the sensory pathway: \n",
    "# if bold_ts is not None:\n",
    "#     bold_ts_sens = bold_ts[-10000:, :, inds[\"sens\"]]\n",
    "#     bold_ts_sens.plot_timeseries(plotter_config=plotter.config, \n",
    "#                                  hue=\"Region\" if bold_ts_sens.shape[2] > MAX_REGIONS_IN_ROWS else None, \n",
    "#                                  per_variable=bold_ts_sens.shape[1] > MAX_VARS_IN_COLS, \n",
    "#                                  figsize=FIGSIZE, figname=\"Sensory pathway BOLD Time Series\");"
   ]
  },
  {
   "cell_type": "code",
   "execution_count": null,
   "id": "da827c3a",
   "metadata": {
    "scrolled": false
   },
   "outputs": [],
   "source": [
    "# # Focus on the sensory pathway: raster plot\n",
    "# if bold_ts is not None and bold_ts_sens.number_of_labels > MIN_REGIONS_FOR_RASTER_PLOT:\n",
    "#     bold_ts_sens.plot_raster(plotter_config=plotter.config, \n",
    "#                              per_variable=bold_ts_sens.shape[1] > MAX_VARS_IN_COLS,\n",
    "#                              figsize=FIGSIZE, figname=\"Sensory pathway BOLD Time Series Raster\");"
   ]
  },
  {
   "cell_type": "markdown",
   "id": "c1b98347",
   "metadata": {},
   "source": [
    "### Interactive time series plot"
   ]
  },
  {
   "cell_type": "code",
   "execution_count": null,
   "id": "f4eb4cc5",
   "metadata": {},
   "outputs": [],
   "source": [
    "# # ...interactively as well\n",
    "# # For interactive plotting:\n",
    "# %matplotlib notebook \n",
    "# plotter.plot_timeseries_interactive(source_ts)"
   ]
  },
  {
   "cell_type": "code",
   "execution_count": null,
   "id": "fbecfba5",
   "metadata": {
    "scrolled": false
   },
   "outputs": [],
   "source": [
    "# # For interactive plotting:\n",
    "# %matplotlib notebook  \n",
    "\n",
    "\n",
    "# from tvb.datatypes.time_series import TimeSeries\n",
    "# from tvb.contrib.scripts.plot.power_spectra_interactive import PowerSpectraInteractive\n",
    "\n",
    "# tsr = TimeSeries(data=source_ts[1000:, 0, inds[\"m1s1brl\"]]._data.values, sample_period=source_ts.sample_period)\n",
    "# psi = PowerSpectraInteractive()\n",
    "# psi.time_series = tsr\n",
    "# psi.window_length = 1000.0\n",
    "# psi.show()\n",
    "# from ipywidgets import interact, widgets as ip_widgets\n",
    "# from IPython.display import display\n",
    "\n",
    "# textRegions = ip_widgets.Text(\n",
    "#     value='',\n",
    "#     placeholder='Regions Slicer',\n",
    "#     description='start:stop:step',\n",
    "#     disabled=False\n",
    "# )\n",
    "\n",
    "# textFreqs = ip_widgets.Text(\n",
    "#     value='',\n",
    "#     placeholder='Frequency Range',\n",
    "#     description='f_min, f_max',\n",
    "#     disabled=False\n",
    "# )\n",
    "\n",
    "# def callbackRegions(wdgt):\n",
    "#     # replace by something useful\n",
    "#     psi.update_regions(wdgt.value)\n",
    "\n",
    "# def callbackFreqs(wdgt):\n",
    "#     # replace by something useful\n",
    "#     psi.update_freq_range(wdgt.value)\n",
    "    \n",
    "# textRegions.on_submit(callbackRegions)\n",
    "# textFreqs.on_submit(callbackFreqs)\n",
    "\n",
    "# display(textRegions)\n",
    "# display(textFreqs)\n",
    "\n"
   ]
  },
  {
   "cell_type": "markdown",
   "id": "9208509e",
   "metadata": {},
   "source": [
    "# Compute data and target PSDs and compare:\n"
   ]
  },
  {
   "cell_type": "code",
   "execution_count": null,
   "id": "7dfa56f3",
   "metadata": {},
   "outputs": [],
   "source": [
    "PSD_target = compute_target_PSDs(config, write_files=True, plotter=plotter)"
   ]
  },
  {
   "cell_type": "code",
   "execution_count": null,
   "id": "fab8ac09",
   "metadata": {},
   "outputs": [],
   "source": [
    "PSD = compute_data_PSDs(results[0], PSD_target, inds, transient, write_files=False, plotter=plotter)"
   ]
  },
  {
   "cell_type": "code",
   "execution_count": null,
   "id": "f9f128e5",
   "metadata": {
    "scrolled": false
   },
   "outputs": [],
   "source": [
    "%matplotlib inline \n",
    "\n",
    "from examples.tvb_nest.notebooks.cerebellum.utils import  compute_plot_selected_spectra_coherence, compute_plot_ica\n",
    "\n",
    "NPERSEG = np.array([256, 512, 1024, 2048, 4096])\n",
    "NPERSEG = NPERSEG[np.argmin(np.abs(NPERSEG - (source_ts.shape[0]-transient/config.DEFAULT_DT)))]\n",
    "\n",
    "# Power Spectra and Coherence for M1 - S1 barrel field\n",
    "compute_plot_selected_spectra_coherence(source_ts, inds[\"m1s1brl\"], \n",
    "                                        transient=transient, nperseg=NPERSEG, fmin=0.0, fmax=100.0)"
   ]
  },
  {
   "cell_type": "code",
   "execution_count": null,
   "id": "be3e9b3d",
   "metadata": {
    "scrolled": false
   },
   "outputs": [],
   "source": [
    "# Power Spectra and Coherence along the sensory pathway:\n",
    "# for Medulla SPV, Sensory PONS\n",
    "compute_plot_selected_spectra_coherence(source_ts, inds[\"sens\"], \n",
    "                                        transient=transient, nperseg=NPERSEG, fmin=0.0, fmax=100.0)"
   ]
  },
  {
   "cell_type": "code",
   "execution_count": null,
   "id": "4e6a0c57",
   "metadata": {
    "scrolled": true
   },
   "outputs": [],
   "source": [
    "plotter.config.DEFAULT_SIZE = (12, 10)  # FIGSIZE\n",
    "if source_ts is not None:\n",
    "    # LFP (E) ICA:\n",
    "    lfp_ica_comps, lfp_ics_ts, lfp_ica = compute_plot_ica(source_ts[transient:].data[:, 0, :, 0].squeeze(), \n",
    "                                                          source_ts[transient:].time,\n",
    "                                                          variable=\"LFP\", n_components=10, plotter=plotter)\n",
    "    "
   ]
  },
  {
   "cell_type": "code",
   "execution_count": null,
   "id": "7d529d8a",
   "metadata": {
    "scrolled": true
   },
   "outputs": [],
   "source": [
    "if bold_ts is not None:    \n",
    "    # BOLD ICA:\n",
    "    bold_ica_comps, bold_ics_ts, bold_ica = compute_plot_ica(bold_ts.data[:, 0, :, 0].squeeze(), bold_ts.time,\n",
    "                                                             variable=\"BOLD\", n_components=10, plotter=plotter)\n",
    "    "
   ]
  },
  {
   "cell_type": "markdown",
   "id": "aab75eae",
   "metadata": {
    "run_control": {
     "frozen": false,
     "read_only": false
    }
   },
   "source": [
    "# References\n",
    "\n",
    "1 Sanz Leon P, Knock SA , Woodman MM, Domide L, <br>\n",
    "  Mersmann J, McIntosh AR, Jirsa VK. 2013. <br>\n",
    "  The Virtual Brain: a simulator of primate brain network dynamics. <br>\n",
    "  Frontiers in Neuroinformatics (7:10. doi: 10.3389/fninf.2013.00010) <br>\n",
    "  https://www.thevirtualbrain.org/tvb/zwei <br>\n",
    "  https://github.com/the-virtual-brain <br>\n",
    "\n",
    "2 Ritter P, Schirner M, McIntosh AR, Jirsa VK. 2013.  <br>\n",
    "  The Virtual Brain integrates computational modeling and multimodal neuroimaging. <br>\n",
    "  Brain Connectivity 3:121–145. <br>\n",
    "\n",
    "3 Griffiths JD, McIntosh AR, Lefebvre J. 2020.   <br>\n",
    "  A Connectome-Based, Corticothalamic Model of State- <br>\n",
    "  and Stimulation-Dependent Modulation of Rhythmic Neural Activity and Connectivity <br>\n",
    "  Frontiers in Computational Neuroscience (vol. 14. doi: 10.3389/fncom.2020.575143) <br>\n",
    "  https://www.frontiersin.org/articles/10.3389/fncom.2020.575143/full#h12\n",
    "  \n",
    "4 Jordan, Jakob; Mørk, Håkon; Vennemo, Stine Brekke;   Terhorst, Dennis; Peyser, <br>\n",
    "  Alexander; Ippen, Tammo; Deepu, Rajalekshmi;   Eppler, Jochen Martin; <br>\n",
    "  van Meegen, Alexander;   Kunkel, Susanne; Sinha, Ankur; Fardet, Tanguy; Diaz, <br>\n",
    "  Sandra; Morrison, Abigail; Schenck, Wolfram; Dahmen, David;   Pronold, Jari; <br>\n",
    "  Stapmanns, Jonas;   Trensch, Guido; Spreizer, Sebastian;   Mitchell, Jessica; <br>\n",
    "  Graber, Steffen; Senk, Johanna; Linssen, Charl; Hahne, Jan; Serenko, Alexey; <br>\n",
    "  Naoumenko, Daniel; Thomson, Eric;   Kitayama, Itaru; Berns, Sebastian;   <br>\n",
    "  Plesser, Hans Ekkehard <br>\n",
    "  NEST is a simulator for spiking neural network models that focuses <br>\n",
    "  on the dynamics, size and structure of neural systems rather than on <br>\n",
    "  the exact morphology of individual neurons. <br>\n",
    "  For further information, visit http://www.nest-simulator.org. <br>\n",
    "  The release notes for this release are available at  <br>\n",
    "  https://github.com/nest/nest-simulator/releases/tag/v2.18.0 <br>"
   ]
  },
  {
   "cell_type": "code",
   "execution_count": null,
   "id": "2e60586d",
   "metadata": {
    "scrolled": false
   },
   "outputs": [],
   "source": [
    "%matplotlib inline\n",
    "\n",
    "import matplotlib.pyplot as plt\n",
    "\n",
    "data = source_ts.data\n",
    "time = source_ts.time\n",
    "\n",
    "fig, axes = plt.subplots(3, 1, figsize=(12, 10))\n",
    "for iT, regs in enumerate([\"crtx\", \"subcrtx_not_thalspec\", \"thalspec\"]):\n",
    "    transient_in_points = int((transient+0.5)/simulator.monitors[0].period)\n",
    "    dat = data[transient_in_points:, 0, inds[regs]].squeeze()\n",
    "    print(dat.shape)\n",
    "    axes[iT].plot(time[transient_in_points:], dat, alpha=0.25)\n",
    "    if iT == 0:\n",
    "        axes[iT].plot(time[transient_in_points:], data[transient_in_points:, 0, inds[\"m1\"]].squeeze(), \n",
    "                      'b--', linewidth=3, label='M1')\n",
    "        axes[iT].plot(time[transient_in_points:], data[transient_in_points:, 0, inds[\"s1brl\"]].squeeze(), \n",
    "                      'g--', linewidth=3, label='S1 barrel field')\n",
    "    elif iT == 1:\n",
    "        axes[iT].plot(time[transient_in_points:], data[transient_in_points:, 0, inds[\"facial\"]].squeeze(), \n",
    "                      'b--', linewidth=3, label='Facial motor nucleus')\n",
    "        axes[iT].plot(time[transient_in_points:], data[transient_in_points:, 0, inds[\"trigeminal\"]].squeeze(), \n",
    "                      'g--', linewidth=3, label='Spinal trigeminal nuclei')\n",
    "    else:\n",
    "        axes[iT].plot(time[transient_in_points:], data[transient_in_points:, 0, [44, 166]].squeeze(), \n",
    "                      'b--', linewidth=3, label='M1 specific thalami')\n",
    "        axes[iT].plot(time[transient_in_points:], data[transient_in_points:, 0, [47, 169]].squeeze(), \n",
    "                      'g--', linewidth=3, label='S1 barrel field specific thalami')\n",
    "        axes[iT].set_xlabel('Time (ms)')\n",
    "    axes[iT].plot(time[transient_in_points:], dat.mean(axis=1), 'k--', linewidth=3, label='Total mean')\n",
    "    axes[iT].legend()\n",
    "    axes[iT].set_title(\"%s range=[%g, %g, %g, %g, %g] \" % \n",
    "                       (regs, dat.min(), np.percentile(dat, 5), dat.mean(), np.percentile(dat, 95), dat.max()))\n",
    "fig.tight_layout()"
   ]
  },
  {
   "cell_type": "code",
   "execution_count": null,
   "id": "a20456e3",
   "metadata": {},
   "outputs": [],
   "source": []
  }
 ],
 "metadata": {
  "kernelspec": {
   "display_name": "Python 3 (ipykernel)",
   "language": "python",
   "name": "python3"
  },
  "language_info": {
   "codemirror_mode": {
    "name": "ipython",
    "version": 3
   },
   "file_extension": ".py",
   "mimetype": "text/x-python",
   "name": "python",
   "nbconvert_exporter": "python",
   "pygments_lexer": "ipython3",
   "version": "3.9.2"
  }
 },
 "nbformat": 4,
 "nbformat_minor": 5
}
