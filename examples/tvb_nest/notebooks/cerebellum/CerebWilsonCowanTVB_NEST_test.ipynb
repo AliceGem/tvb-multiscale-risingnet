{
 "cells": [
  {
   "cell_type": "code",
   "execution_count": 1,
   "id": "7387378d",
   "metadata": {
    "scrolled": true
   },
   "outputs": [
    {
     "name": "stdout",
     "output_type": "stream",
     "text": [
      "2022-07-01 10:23:12,902 - INFO - tvb_multiscale.tvb_nest.config - Loading a NEST instance...\n",
      "2022-07-01 10:23:12,902 - INFO - tvb_multiscale.tvb_nest.config - Loading a NEST instance...\n",
      "2022-07-01 10:23:12,906 - INFO - tvb_multiscale.tvb_nest.config - NEST_INSTALL_DIR: /home/docker/env/neurosci/nest_build\n",
      "2022-07-01 10:23:12,906 - INFO - tvb_multiscale.tvb_nest.config - NEST_INSTALL_DIR: /home/docker/env/neurosci/nest_build\n",
      "2022-07-01 10:23:12,909 - INFO - tvb_multiscale.tvb_nest.config - NEST_DATA_DIR: /home/docker/env/neurosci/nest_build/share/nest\n",
      "2022-07-01 10:23:12,909 - INFO - tvb_multiscale.tvb_nest.config - NEST_DATA_DIR: /home/docker/env/neurosci/nest_build/share/nest\n",
      "2022-07-01 10:23:12,912 - INFO - tvb_multiscale.tvb_nest.config - NEST_DOC_DIR: /home/docker/env/neurosci/nest_build/share/doc/nest\n",
      "2022-07-01 10:23:12,912 - INFO - tvb_multiscale.tvb_nest.config - NEST_DOC_DIR: /home/docker/env/neurosci/nest_build/share/doc/nest\n",
      "2022-07-01 10:23:12,915 - INFO - tvb_multiscale.tvb_nest.config - NEST_MODULE_PATH: /home/docker/env/neurosci/nest_build/lib/nest\n",
      "2022-07-01 10:23:12,915 - INFO - tvb_multiscale.tvb_nest.config - NEST_MODULE_PATH: /home/docker/env/neurosci/nest_build/lib/nest\n",
      "2022-07-01 10:23:12,919 - INFO - tvb_multiscale.tvb_nest.config - PATH: /home/docker/env/neurosci/nest_build/bin:/usr/local/sbin:/usr/local/bin:/usr/sbin:/usr/bin:/sbin:/bin\n",
      "2022-07-01 10:23:12,919 - INFO - tvb_multiscale.tvb_nest.config - PATH: /home/docker/env/neurosci/nest_build/bin:/usr/local/sbin:/usr/local/bin:/usr/sbin:/usr/bin:/sbin:/bin\n",
      "2022-07-01 10:23:12,922 - INFO - tvb_multiscale.tvb_nest.config - LD_LIBRARY_PATH: /home/docker/env/neurosci/nest_build/lib/nest::/home/docker/env/neurosci/nest_build/lib/nest\n",
      "2022-07-01 10:23:12,922 - INFO - tvb_multiscale.tvb_nest.config - LD_LIBRARY_PATH: /home/docker/env/neurosci/nest_build/lib/nest::/home/docker/env/neurosci/nest_build/lib/nest\n",
      "2022-07-01 10:23:12,925 - INFO - tvb_multiscale.tvb_nest.config - SLI_PATH: /home/docker/env/neurosci/nest_build/share/nest/sli\n",
      "2022-07-01 10:23:12,925 - INFO - tvb_multiscale.tvb_nest.config - SLI_PATH: /home/docker/env/neurosci/nest_build/share/nest/sli\n",
      "2022-07-01 10:23:12,928 - INFO - tvb_multiscale.tvb_nest.config - NEST_PYTHON_PREFIX: /home/docker/env/neurosci/nest_build/lib/python3.9/site-packages\n",
      "2022-07-01 10:23:12,928 - INFO - tvb_multiscale.tvb_nest.config - NEST_PYTHON_PREFIX: /home/docker/env/neurosci/nest_build/lib/python3.9/site-packages\n",
      "2022-07-01 10:23:12,931 - INFO - tvb_multiscale.tvb_nest.config - system path: ['/home/docker/env/neurosci/nest_build/lib/python3.9/site-packages', '/home/docker/packages/tvb-multiscale/examples/tvb_nest/notebooks/cerebellum', '/home/docker/env/neurosci', '/usr/lib/python39.zip', '/usr/lib/python3.9', '/usr/lib/python3.9/lib-dynload', '', '/home/docker/env/neurosci/lib/python3.9/site-packages', '/home/docker/env/neurosci/lib/python3.9/site-packages/NESTML-5.0.0.post0.dev0-py3.9.egg', '/home/docker/env/neurosci/lib/python3.9/site-packages/sympy-1.10.1-py3.9.egg', '/home/docker/env/neurosci/lib/python3.9/site-packages/odetoolbox-2.4.1-py3.9.egg', '/home/docker/env/neurosci/lib/python3.9/site-packages/astropy-5.2.dev0-py3.9-linux-x86_64.egg', '/home/docker/env/neurosci/lib/python3.9/site-packages/antlr4_python3_runtime-4.10-py3.9.egg', '/home/docker/env/neurosci/lib/python3.9/site-packages/mpmath-1.2.1-py3.9.egg', '/home/docker/env/neurosci/lib/python3.9/site-packages/pyerfa-2.0.0.1-py3.9-linux-x86_64.egg', '/home/docker/env/neurosci/lib/python3.9/site-packages/PyYAML-6.0-py3.9-linux-x86_64.egg', '/home/docker/packages/tvb-root/tvb_library', '/home/docker/env/neurosci/lib/python3.9/site-packages/PyLEMS-0.5.9-py3.9.egg', '/home/docker/env/neurosci/lib/python3.9/site-packages/numexpr-2.8.3-py3.9-linux-x86_64.egg', '/home/docker/env/neurosci/lib/python3.9/site-packages/networkx-2.8.4-py3.9.egg', '/home/docker/env/neurosci/lib/python3.9/site-packages/Mako-1.2.0-py3.9.egg', '/home/docker/env/neurosci/lib/python3.9/site-packages/lxml-4.9.0-py3.9-linux-x86_64.egg', '/home/docker/env/neurosci/lib/python3.9/site-packages/ipywidgets-8.0.0rc0-py3.9.egg', '/home/docker/env/neurosci/lib/python3.9/site-packages/autopep8-1.6.0-py3.9.egg', '/home/docker/env/neurosci/lib/python3.9/site-packages/widgetsnbextension-4.0.0rc0-py3.9.egg', '/home/docker/env/neurosci/lib/python3.9/site-packages/jupyterlab_widgets-3.0.0rc0-py3.9.egg', '/home/docker/env/neurosci/lib/python3.9/site-packages/toml-0.10.2-py3.9.egg', '/home/docker/env/neurosci/lib/python3.9/site-packages/pycodestyle-2.8.0-py3.9.egg', '/home/docker/packages/tvb-root/tvb_framework', '/home/docker/env/neurosci/lib/python3.9/site-packages/tvb_storage-2.5-py3.9.egg', '/home/docker/env/neurosci/lib/python3.9/site-packages/tvb_library-2.6-py3.9.egg', '/home/docker/env/neurosci/lib/python3.9/site-packages/tvb_gdist-2.1.0-py3.9-linux-x86_64.egg', '/home/docker/env/neurosci/lib/python3.9/site-packages/tvb_data-2.0-py3.9.egg', '/home/docker/env/neurosci/lib/python3.9/site-packages/simplejson-3.17.6-py3.9-linux-x86_64.egg', '/home/docker/env/neurosci/lib/python3.9/site-packages/python_keycloak-1.8.0-py3.9.egg', '/home/docker/env/neurosci/lib/python3.9/site-packages/nibabel-4.0.1-py3.9.egg', '/home/docker/env/neurosci/lib/python3.9/site-packages/gevent-21.12.0-py3.9-linux-x86_64.egg', '/home/docker/env/neurosci/lib/python3.9/site-packages/FormEncode-2.0.1-py3.9.egg', '/home/docker/env/neurosci/lib/python3.9/site-packages/Flask-1.1.4-py3.9.egg', '/home/docker/env/neurosci/lib/python3.9/site-packages/flask_restx-0.5.1-py3.9.egg', '/home/docker/env/neurosci/lib/python3.9/site-packages/CherryPy-18.6.1-py3.9.egg', '/home/docker/env/neurosci/lib/python3.9/site-packages/allensdk-2.13.4-py3.9.egg', '/home/docker/env/neurosci/lib/python3.9/site-packages/alembic-1.8.0-py3.9.egg', '/home/docker/env/neurosci/lib/python3.9/site-packages/Jinja2-2.11.3-py3.9.egg', '/home/docker/env/neurosci/lib/python3.9/site-packages/pyAesCrypt-6.0.0-py3.9.egg', '/home/docker/env/neurosci/lib/python3.9/site-packages/cryptography-37.0.3-py3.9-linux-x86_64.egg', '/home/docker/env/neurosci/lib/python3.9/site-packages/python_jose-3.3.0-py3.9.egg', '/home/docker/env/neurosci/lib/python3.9/site-packages/zope.interface-5.5.0.dev0-py3.9.egg', '/home/docker/env/neurosci/lib/python3.9/site-packages/zope.event-4.5.0-py3.9.egg', '/home/docker/env/neurosci/lib/python3.9/site-packages/itsdangerous-1.1.0-py3.9.egg', '/home/docker/env/neurosci/lib/python3.9/site-packages/click-7.1.2-py3.9.egg', '/home/docker/packages/tvb-root/tvb_contrib', '/home/docker/env/neurosci/lib/python3.9/site-packages/pyspike-0.7.0-py3.9-linux-x86_64.egg', '/home/docker/packages/tvb-multiscale', '/usr/lib/python3/dist-packages', '/home/docker/.local/lib/python3.9/site-packages', '/home/docker/.local/lib/python3.9/site-packages/ANNarchy-4.7.1.4-py3.9-linux-x86_64.egg', '/usr/local/lib/python3.9/dist-packages']\n",
      "2022-07-01 10:23:12,931 - INFO - tvb_multiscale.tvb_nest.config - system path: ['/home/docker/env/neurosci/nest_build/lib/python3.9/site-packages', '/home/docker/packages/tvb-multiscale/examples/tvb_nest/notebooks/cerebellum', '/home/docker/env/neurosci', '/usr/lib/python39.zip', '/usr/lib/python3.9', '/usr/lib/python3.9/lib-dynload', '', '/home/docker/env/neurosci/lib/python3.9/site-packages', '/home/docker/env/neurosci/lib/python3.9/site-packages/NESTML-5.0.0.post0.dev0-py3.9.egg', '/home/docker/env/neurosci/lib/python3.9/site-packages/sympy-1.10.1-py3.9.egg', '/home/docker/env/neurosci/lib/python3.9/site-packages/odetoolbox-2.4.1-py3.9.egg', '/home/docker/env/neurosci/lib/python3.9/site-packages/astropy-5.2.dev0-py3.9-linux-x86_64.egg', '/home/docker/env/neurosci/lib/python3.9/site-packages/antlr4_python3_runtime-4.10-py3.9.egg', '/home/docker/env/neurosci/lib/python3.9/site-packages/mpmath-1.2.1-py3.9.egg', '/home/docker/env/neurosci/lib/python3.9/site-packages/pyerfa-2.0.0.1-py3.9-linux-x86_64.egg', '/home/docker/env/neurosci/lib/python3.9/site-packages/PyYAML-6.0-py3.9-linux-x86_64.egg', '/home/docker/packages/tvb-root/tvb_library', '/home/docker/env/neurosci/lib/python3.9/site-packages/PyLEMS-0.5.9-py3.9.egg', '/home/docker/env/neurosci/lib/python3.9/site-packages/numexpr-2.8.3-py3.9-linux-x86_64.egg', '/home/docker/env/neurosci/lib/python3.9/site-packages/networkx-2.8.4-py3.9.egg', '/home/docker/env/neurosci/lib/python3.9/site-packages/Mako-1.2.0-py3.9.egg', '/home/docker/env/neurosci/lib/python3.9/site-packages/lxml-4.9.0-py3.9-linux-x86_64.egg', '/home/docker/env/neurosci/lib/python3.9/site-packages/ipywidgets-8.0.0rc0-py3.9.egg', '/home/docker/env/neurosci/lib/python3.9/site-packages/autopep8-1.6.0-py3.9.egg', '/home/docker/env/neurosci/lib/python3.9/site-packages/widgetsnbextension-4.0.0rc0-py3.9.egg', '/home/docker/env/neurosci/lib/python3.9/site-packages/jupyterlab_widgets-3.0.0rc0-py3.9.egg', '/home/docker/env/neurosci/lib/python3.9/site-packages/toml-0.10.2-py3.9.egg', '/home/docker/env/neurosci/lib/python3.9/site-packages/pycodestyle-2.8.0-py3.9.egg', '/home/docker/packages/tvb-root/tvb_framework', '/home/docker/env/neurosci/lib/python3.9/site-packages/tvb_storage-2.5-py3.9.egg', '/home/docker/env/neurosci/lib/python3.9/site-packages/tvb_library-2.6-py3.9.egg', '/home/docker/env/neurosci/lib/python3.9/site-packages/tvb_gdist-2.1.0-py3.9-linux-x86_64.egg', '/home/docker/env/neurosci/lib/python3.9/site-packages/tvb_data-2.0-py3.9.egg', '/home/docker/env/neurosci/lib/python3.9/site-packages/simplejson-3.17.6-py3.9-linux-x86_64.egg', '/home/docker/env/neurosci/lib/python3.9/site-packages/python_keycloak-1.8.0-py3.9.egg', '/home/docker/env/neurosci/lib/python3.9/site-packages/nibabel-4.0.1-py3.9.egg', '/home/docker/env/neurosci/lib/python3.9/site-packages/gevent-21.12.0-py3.9-linux-x86_64.egg', '/home/docker/env/neurosci/lib/python3.9/site-packages/FormEncode-2.0.1-py3.9.egg', '/home/docker/env/neurosci/lib/python3.9/site-packages/Flask-1.1.4-py3.9.egg', '/home/docker/env/neurosci/lib/python3.9/site-packages/flask_restx-0.5.1-py3.9.egg', '/home/docker/env/neurosci/lib/python3.9/site-packages/CherryPy-18.6.1-py3.9.egg', '/home/docker/env/neurosci/lib/python3.9/site-packages/allensdk-2.13.4-py3.9.egg', '/home/docker/env/neurosci/lib/python3.9/site-packages/alembic-1.8.0-py3.9.egg', '/home/docker/env/neurosci/lib/python3.9/site-packages/Jinja2-2.11.3-py3.9.egg', '/home/docker/env/neurosci/lib/python3.9/site-packages/pyAesCrypt-6.0.0-py3.9.egg', '/home/docker/env/neurosci/lib/python3.9/site-packages/cryptography-37.0.3-py3.9-linux-x86_64.egg', '/home/docker/env/neurosci/lib/python3.9/site-packages/python_jose-3.3.0-py3.9.egg', '/home/docker/env/neurosci/lib/python3.9/site-packages/zope.interface-5.5.0.dev0-py3.9.egg', '/home/docker/env/neurosci/lib/python3.9/site-packages/zope.event-4.5.0-py3.9.egg', '/home/docker/env/neurosci/lib/python3.9/site-packages/itsdangerous-1.1.0-py3.9.egg', '/home/docker/env/neurosci/lib/python3.9/site-packages/click-7.1.2-py3.9.egg', '/home/docker/packages/tvb-root/tvb_contrib', '/home/docker/env/neurosci/lib/python3.9/site-packages/pyspike-0.7.0-py3.9-linux-x86_64.egg', '/home/docker/packages/tvb-multiscale', '/usr/lib/python3/dist-packages', '/home/docker/.local/lib/python3.9/site-packages', '/home/docker/.local/lib/python3.9/site-packages/ANNarchy-4.7.1.4-py3.9-linux-x86_64.egg', '/usr/local/lib/python3.9/dist-packages']\n"
     ]
    },
    {
     "name": "stdout",
     "output_type": "stream",
     "text": [
      "Outputs' path: /home/docker/packages/tvb-multiscale/examples/tvb_nest/notebooks/cerebellum/outputs/cwc\n",
      "\n",
      "normalized weights [min, max] = \n",
      " [1.0, 27.639354909547873]\n",
      "2022-07-01 10:23:13,684 - WARNING - tvb_multiscale.core.tvb.cosimulator.cosimulator_serial - Current step is not 0 upon configuration!\n",
      "Setting it to 0. Initial condition might be affected!\n"
     ]
    },
    {
     "name": "stderr",
     "output_type": "stream",
     "text": [
      "/home/docker/packages/tvb-multiscale/tvb_multiscale/core/spiking_models/node_set.py:34: FutureWarning: The default dtype for empty Series will be 'object' instead of 'float64' in a future version. Specify a dtype explicitly to silence this warning.\n",
      "  def __init__(self, nodes=pd.Series(), **kwargs):\n",
      "/home/docker/packages/tvb-multiscale/tvb_multiscale/core/spiking_models/devices.py:953: FutureWarning: The default dtype for empty Series will be 'object' instead of 'float64' in a future version. Specify a dtype explicitly to silence this warning.\n",
      "  def __init__(self, device_set=pd.Series(), **kwargs):\n"
     ]
    },
    {
     "name": "stdout",
     "output_type": "stream",
     "text": [
      "Current step is not 0 upon configuration!\n",
      "Setting it to 0. Initial condition might be affected!\n",
      "CoSimulatorSerial (\n",
      "  title .................... 'CoSimulatorSerial gid: 6f4fb116-9043-40f8-825f-3f38fd856a60'\n",
      "  Type ..................... 'CoSimulatorSerial'\n",
      "  model .................... WilsonCowanThalamoCortical gid: e50de39b-afe5-47f1-9a8d-b4bbace6f2b3\n",
      "  output_interfaces ........ None\n",
      "  input_interfaces ......... None\n",
      "  out_proxy_inds ........... --------------------\n",
      "  shape .................... (0,)\n",
      "  dtype .................... int64\n",
      "  is empty ................. True\n",
      "  exclusive ................ False\n",
      "  voi ...................... --------------------\n",
      "  proxy_inds ............... --------------------\n",
      "  synchronization_time ..... 0.0\n",
      "  connectivity ............. Connectivity gid: b7a3c348-df78-401f-b3ff-876b8208fff4\n",
      "  conduction_speed ......... 3.0\n",
      "  coupling ................. SigmoidalPreThalamoCortical gid: 852bb543-4fc7-46c1-bbde-ae2a763e6b54\n",
      "  surface .................. None\n",
      "  stimulus ................. None\n",
      "  integrator ............... EulerStochastic gid: ce707af8-16e3-4314-90fd-cebcbaf878b3\n",
      "  initial_conditions ....... --------------------\n",
      "  initial_conditions: shape  (1000, 3, 214, 1)\n",
      "  initial_conditions: dtype  float64\n",
      "  initial_conditions: values  [-0.10374435  0.04880119 -0.07571117 ... -0.06070603  0.0371903\n",
      "  0.14003967]\n",
      "  monitors[0] .............. TemporalAverage gid: 25206dcd-7100-48ec-81c1-9694d68c780b\n",
      "  simulation_length ........ 1000.0\n",
      "  gid ...................... UUID('6f4fb116-9043-40f8-825f-3f38fd856a60')\n",
      ")\n"
     ]
    },
    {
     "data": {
      "text/plain": [
       "<Figure size 432x288 with 0 Axes>"
      ]
     },
     "metadata": {},
     "output_type": "display_data"
    }
   ],
   "source": [
    "from examples.tvb_nest.notebooks.cerebellum.scripts.scripts import *\n",
    "\n",
    "# Get configuration\n",
    "config, plotter = configure()\n",
    "config.SIMULATION_LENGTH = 2000.0\n",
    "plotter = None\n",
    "# Load connectome and other structural files\n",
    "connectome, major_structs_labels, voxel_count, inds = load_connectome(config, plotter=plotter)\n",
    "# Construct some more indices and maps\n",
    "inds, maps = construct_extra_inds_and_maps(connectome, inds)\n",
    "# Logprocess connectome\n",
    "connectome = logprocess_weights(connectome, inds, print_flag=True, plotter=plotter)\n",
    "# Prepare connectivity with all possible normalizations\n",
    "connectivity = build_connectivity(connectome, inds, config, print_flag=True, plotter=plotter)\n",
    "# Prepare model\n",
    "model = build_model(connectivity.number_of_regions, inds, maps, config)\n",
    "# Prepare simulator\n",
    "simulator = build_simulator(connectivity, model, inds, maps, config, print_flag=True, plotter=plotter)"
   ]
  },
  {
   "cell_type": "code",
   "execution_count": 2,
   "id": "67c57785",
   "metadata": {},
   "outputs": [],
   "source": [
    "#nest.Install('cerebmodule')"
   ]
  },
  {
   "cell_type": "code",
   "execution_count": 3,
   "id": "0c2b4fcb",
   "metadata": {},
   "outputs": [
    {
     "name": "stdout",
     "output_type": "stream",
     "text": [
      "\n",
      "              -- N E S T --\n",
      "  Copyright (C) 2004 The NEST Initiative\n",
      "\n",
      " Version: HEAD@c545255f7\n",
      " Built: Jun 29 2022 10:40:59\n",
      "\n",
      " This program is provided AS IS and comes with\n",
      " NO WARRANTY. See the file LICENSE for details.\n",
      "\n",
      " Problems or suggestions?\n",
      "   Visit https://www.nest-simulator.org\n",
      "\n",
      " Type 'nest.help()' to find out more about NEST.\n",
      "\n"
     ]
    },
    {
     "name": "stderr",
     "output_type": "stream",
     "text": [
      "\n",
      "-------------------------------------------------------\n",
      "cerebmodule Configuration Summary\n",
      "-------------------------------------------------------\n",
      "\n",
      "C++ compiler         : /usr/bin/c++\n",
      "Build static libs    : OFF\n",
      "C++ compiler flags   : \n",
      "NEST compiler flags  :  -std=c++11 -O2 -Wall -fopenmp  -fdiagnostics-color=auto\n",
      "NEST include dirs    :  -I/home/docker/env/neurosci/nest_build/include/nest -I/usr/include -I/usr/include -I/usr/include -I/usr/include\n",
      "NEST libraries flags : -L/home/docker/env/neurosci/nest_build/lib/nest -lnestutil -lnest -lsli -lnestkernel -fopenmp /usr/lib/x86_64-linux-gnu/libltdl.so /usr/lib/x86_64-linux-gnu/libreadline.so /usr/lib/x86_64-linux-gnu/libncurses.so /usr/lib/x86_64-linux-gnu/libgsl.so /usr/lib/x86_64-linux-gnu/libgslcblas.so   /usr/lib/libmpicxx.so /usr/lib/libmpi.so\n",
      "\n",
      "-------------------------------------------------------\n",
      "\n",
      "You can now build and install 'cerebmodule' using\n",
      "  make\n",
      "  make install\n",
      "\n",
      "The library file libcerebmodule.so will be installed to\n",
      "  /home/docker/env/neurosci/nest_build\n",
      "The module can be loaded into NEST using\n",
      "  (cerebmodule) Install       (in SLI)\n",
      "  nest.Install(cerebmodule)   (in PyNEST)\n",
      "\n",
      "CMake Warning (dev) in CMakeLists.txt:\n",
      "  No cmake_minimum_required command is present.  A line of code such as\n",
      "\n",
      "    cmake_minimum_required(VERSION 3.18)\n",
      "\n",
      "  should be added at the top of the file.  The version specified may be lower\n",
      "  if you wish to support older CMake versions for this project.  For more\n",
      "  information run \"cmake --help-policy CMP0000\".\n",
      "This warning is for project developers.  Use -Wno-dev to suppress it.\n",
      "\n"
     ]
    },
    {
     "name": "stdout",
     "output_type": "stream",
     "text": [
      "(b'-- Configuring done\\n-- Generating done\\n-- Build files have been written to: /home/docker/packages/tvb-multiscale/tvb_multiscale/tvb_nest/nest/modules/cereb/build\\n[ 50%] Built target cerebmodule_module\\n[100%] Built target cerebmodule_lib\\n[ 50%] Built target cerebmodule_module\\n[100%] Built target cerebmodule_lib\\nInstall the project...\\n-- Install configuration: \"\"\\n-- Up-to-date: /home/docker/env/neurosci/nest_build/cerebmodule.so\\n', None)\n",
      "\n",
      "Jul 01 10:23:18 Install [Info]: \n",
      "    loaded module cerebmodule\n"
     ]
    }
   ],
   "source": [
    "pwd=os.getcwd()\n",
    "import nest\n",
    "import subprocess\n",
    "cereb_path = '/home/docker/packages/tvb-multiscale/tvb_multiscale/tvb_nest/nest/modules/cereb'\n",
    "os.chdir(os.path.join(cereb_path, 'build'))\n",
    "p = subprocess.Popen(\"cmake -Dwith-nest=/home/docker/env/neurosci/nest_build/bin/nest-config ..; make; make install\",\n",
    "                             stdout=subprocess.PIPE, shell=True)\n",
    "print(p.communicate())\n",
    "\n",
    "nest.Install('cerebmodule')\n",
    "os.chdir(pwd)"
   ]
  },
  {
   "cell_type": "code",
   "execution_count": 4,
   "id": "c23341c1",
   "metadata": {
    "scrolled": false
   },
   "outputs": [
    {
     "name": "stdout",
     "output_type": "stream",
     "text": [
      "Building NESTNetwork...\n",
      "Jul 01 10:23:18 SetStatus [Error]: \n",
      "    Variab\n",
      "2022-07-01 10:23:18,339 - INFO - tvb_multiscale.core.spiking_models.network - <class 'tvb_multiscale.tvb_nest.nest_models.network.NESTNetwork'> created!\n",
      "le data_path not set: Directory 'sim_data/' does not exist.\n",
      "2022-07-01 10:23:18,339 - INFO - tvb_multiscale.core.spiking_models.network - <class 'tvb_multiscale.tvb_nest.nest_models.network.NESTNetwork'> created!\n",
      "['basket_cell', 'dcn_cell_GABA', 'dcn_cell_Gly-I', 'dcn_cell_glut_large', 'glomerulus', 'golgi_cell', 'granule_cell', 'io_cell', 'mossy_fibers', 'purkinje_cell', 'stellate_cell']\n",
      "\n",
      "...created: OrderedDict([('title', \"'NESTPopulation gid: fc7b712a-0b5e-47b4-9814-e8dc9ab16d2c'\"), ('Type', \"'NESTPopulation'\"), ('_nodes', 'NodeCollection(metadata=None, model=basket_cell, size=147, first=1, last=147)'), ('label', \"'basket_cell'\"), ('model', \"'NESTPopulation'\"), ('brain_region', \"'Right Ansiform lobule'\"), ('gid', \"UUID('fc7b712a-0b5e-47b4-9814-e8dc9ab16d2c')\"), ('number_of_nodes', '147'), ('nodes', 'NodeCollection(metadata=None, model=basket_cell, size=147, first=1, last=147)')])...\n",
      "\n",
      "...created: OrderedDict([('title', \"'NESTPopulation gid: 09178f0b-2ec8-4685-ac2b-ce329f1657ea'\"), ('Type', \"'NESTPopulation'\"), ('_nodes', 'NodeCollection(metadata=None, model=basket_cell, size=147, first=148, last=294)'), ('label', \"'basket_cell'\"), ('model', \"'NESTPopulation'\"), ('brain_region', \"'Left Ansiform lobule'\"), ('gid', \"UUID('09178f0b-2ec8-4685-ac2b-ce329f1657ea')\"), ('number_of_nodes', '147'), ('nodes', 'NodeCollection(metadata=None, model=basket_cell, size=147, first=148, last=294)')])...\n",
      "\n",
      "...created: OrderedDict([('title', \"'NESTPopulation gid: 9a3023f4-7c1b-43d4-ae07-79d4024b861c'\"), ('Type', \"'NESTPopulation'\"), ('_nodes', 'NodeCollection(metadata=None, model=dcn_cell_GABA, size=76, first=295, last=370)'), ('label', \"'dcn_cell_GABA'\"), ('model', \"'NESTPopulation'\"), ('brain_region', \"'Right Interposed nucleus'\"), ('gid', \"UUID('9a3023f4-7c1b-43d4-ae07-79d4024b861c')\"), ('number_of_nodes', '76'), ('nodes', 'NodeCollection(metadata=None, model=dcn_cell_GABA, size=76, first=295, last=370)')])...\n",
      "\n",
      "...created: OrderedDict([('title', \"'NESTPopulation gid: a10d8050-1dc1-4be2-be1f-a93b6955e015'\"), ('Type', \"'NESTPopulation'\"), ('_nodes', 'NodeCollection(metadata=None, model=dcn_cell_GABA, size=76, first=371, last=446)'), ('label', \"'dcn_cell_GABA'\"), ('model', \"'NESTPopulation'\"), ('brain_region', \"'Left Interposed nucleus'\"), ('gid', \"UUID('a10d8050-1dc1-4be2-be1f-a93b6955e015')\"), ('number_of_nodes', '76'), ('nodes', 'NodeCollection(metadata=None, model=dcn_cell_GABA, size=76, first=371, last=446)')])...\n",
      "\n",
      "...created: OrderedDict([('title', \"'NESTPopulation gid: 9bd532c4-39a1-46a6-96c4-3892fe725c84'\"), ('Type', \"'NESTPopulation'\"), ('_nodes', 'NodeCollection(metadata=None, model=dcn_cell_glut_large, size=129, first=447, last=575)'), ('label', \"'dcn_cell_glut_large'\"), ('model', \"'NESTPopulation'\"), ('brain_region', \"'Right Interposed nucleus'\"), ('gid', \"UUID('9bd532c4-39a1-46a6-96c4-3892fe725c84')\"), ('number_of_nodes', '129'), ('nodes', 'NodeCollection(metadata=None, model=dcn_cell_glut_large, size=129, first=447, last=575)')])...\n",
      "\n",
      "...created: OrderedDict([('title', \"'NESTPopulation gid: 65f8de37-a454-4dc7-92d1-46646c2afbc5'\"), ('Type', \"'NESTPopulation'\"), ('_nodes', 'NodeCollection(metadata=None, model=dcn_cell_glut_large, size=129, first=576, last=704)'), ('label', \"'dcn_cell_glut_large'\"), ('model', \"'NESTPopulation'\"), ('brain_region', \"'Left Interposed nucleus'\"), ('gid', \"UUID('65f8de37-a454-4dc7-92d1-46646c2afbc5')\"), ('number_of_nodes', '129'), ('nodes', 'NodeCollection(metadata=None, model=dcn_cell_glut_large, size=129, first=576, last=704)')])...\n",
      "\n",
      "...created: OrderedDict([('title', \"'NESTPopulation gid: 677ef4a8-716b-4039-b456-62adaaaf458d'\"), ('Type', \"'NESTPopulation'\"), ('_nodes', 'NodeCollection(metadata=None, model=glomerulus, size=2336, first=705, last=3040)'), ('label', \"'glomerulus'\"), ('model', \"'NESTPopulation'\"), ('brain_region', \"'Right Ansiform lobule'\"), ('gid', \"UUID('677ef4a8-716b-4039-b456-62adaaaf458d')\"), ('number_of_nodes', '2336'), ('nodes', 'NodeCollection(metadata=None, model=glomerulus, size=2336, first=705, last=3040)')])...\n",
      "\n",
      "...created: OrderedDict([('title', \"'NESTPopulation gid: 089cf0ea-4f9f-4f3c-90dc-4a6fbb6d8541'\"), ('Type', \"'NESTPopulation'\"), ('_nodes', 'NodeCollection(metadata=None, model=glomerulus, size=2336, first=3041, last=5376)'), ('label', \"'glomerulus'\"), ('model', \"'NESTPopulation'\"), ('brain_region', \"'Left Ansiform lobule'\"), ('gid', \"UUID('089cf0ea-4f9f-4f3c-90dc-4a6fbb6d8541')\"), ('number_of_nodes', '2336'), ('nodes', 'NodeCollection(metadata=None, model=glomerulus, size=2336, first=3041, last=5376)')])...\n",
      "\n",
      "...created: OrderedDict([('title', \"'NESTPopulation gid: f537b987-5f1b-4fad-80cb-7e0d6893b802'\"), ('Type', \"'NESTPopulation'\"), ('_nodes', 'NodeCollection(metadata=None, model=golgi_cell, size=70, first=5377, last=5446)'), ('label', \"'golgi_cell'\"), ('model', \"'NESTPopulation'\"), ('brain_region', \"'Right Ansiform lobule'\"), ('gid', \"UUID('f537b987-5f1b-4fad-80cb-7e0d6893b802')\"), ('number_of_nodes', '70'), ('nodes', 'NodeCollection(metadata=None, model=golgi_cell, size=70, first=5377, last=5446)')])...\n",
      "\n",
      "...created: OrderedDict([('title', \"'NESTPopulation gid: 950035d5-0cb0-4baf-9004-4cf2dac48186'\"), ('Type', \"'NESTPopulation'\"), ('_nodes', 'NodeCollection(metadata=None, model=golgi_cell, size=70, first=5447, last=5516)'), ('label', \"'golgi_cell'\"), ('model', \"'NESTPopulation'\"), ('brain_region', \"'Left Ansiform lobule'\"), ('gid', \"UUID('950035d5-0cb0-4baf-9004-4cf2dac48186')\"), ('number_of_nodes', '70'), ('nodes', 'NodeCollection(metadata=None, model=golgi_cell, size=70, first=5447, last=5516)')])...\n",
      "\n",
      "...created: OrderedDict([('title', \"'NESTPopulation gid: 85a3e063-9b60-4e8e-9ca4-647d564b82c9'\"), ('Type', \"'NESTPopulation'\"), ('_nodes', 'NodeCollection(metadata=None, model=granule_cell, size=28615, first=5517, last=34131)'), ('label', \"'granule_cell'\"), ('model', \"'NESTPopulation'\"), ('brain_region', \"'Right Ansiform lobule'\"), ('gid', \"UUID('85a3e063-9b60-4e8e-9ca4-647d564b82c9')\"), ('number_of_nodes', '28615'), ('nodes', 'NodeCollection(metadata=None, model=granule_cell, size=28615, first=5517, last=34131)')])...\n",
      "\n",
      "...created: OrderedDict([('title', \"'NESTPopulation gid: 637d4a2e-0094-464e-9b15-da14f5841294'\"), ('Type', \"'NESTPopulation'\"), ('_nodes', 'NodeCollection(metadata=None, model=granule_cell, size=28615, first=34132, last=62746)'), ('label', \"'granule_cell'\"), ('model', \"'NESTPopulation'\"), ('brain_region', \"'Left Ansiform lobule'\"), ('gid', \"UUID('637d4a2e-0094-464e-9b15-da14f5841294')\"), ('number_of_nodes', '28615'), ('nodes', 'NodeCollection(metadata=None, model=granule_cell, size=28615, first=34132, last=62746)')])...\n",
      "\n",
      "...created: OrderedDict([('title', \"'NESTPopulation gid: 2a19b226-8728-47c4-b2da-672559b13661'\"), ('Type', \"'NESTPopulation'\"), ('_nodes', 'NodeCollection(metadata=None, model=io_cell, size=13, first=62747, last=62759)'), ('label', \"'io_cell'\"), ('model', \"'NESTPopulation'\"), ('brain_region', \"'Right Inferior olivary complex'\"), ('gid', \"UUID('2a19b226-8728-47c4-b2da-672559b13661')\"), ('number_of_nodes', '13'), ('nodes', 'NodeCollection(metadata=None, model=io_cell, size=13, first=62747, last=62759)')])...\n",
      "\n",
      "...created: OrderedDict([('title', \"'NESTPopulation gid: 03dc12c8-4212-448e-8eda-1e54675da970'\"), ('Type', \"'NESTPopulation'\"), ('_nodes', 'NodeCollection(metadata=None, model=io_cell, size=13, first=62760, last=62772)'), ('label', \"'io_cell'\"), ('model', \"'NESTPopulation'\"), ('brain_region', \"'Left Inferior olivary complex'\"), ('gid', \"UUID('03dc12c8-4212-448e-8eda-1e54675da970')\"), ('number_of_nodes', '13'), ('nodes', 'NodeCollection(metadata=None, model=io_cell, size=13, first=62760, last=62772)')])...\n",
      "\n",
      "...created: OrderedDict([('title', \"'NESTPopulation gid: 260d5f56-82b3-45cf-91d1-4e3975146bb4'\"), ('Type', \"'NESTPopulation'\"), ('_nodes', 'NodeCollection(metadata=None, model=mossy_fibers, size=117, first=62773, last=62889)'), ('label', \"'mossy_fibers'\"), ('model', \"'NESTPopulation'\"), ('brain_region', \"'Right Ansiform lobule'\"), ('gid', \"UUID('260d5f56-82b3-45cf-91d1-4e3975146bb4')\"), ('number_of_nodes', '117'), ('nodes', 'NodeCollection(metadata=None, model=mossy_fibers, size=117, first=62773, last=62889)')])...\n",
      "\n",
      "...created: OrderedDict([('title', \"'NESTPopulation gid: fec98d35-d942-4613-80d2-01c35e00e447'\"), ('Type', \"'NESTPopulation'\"), ('_nodes', 'NodeCollection(metadata=None, model=mossy_fibers, size=117, first=62890, last=63006)'), ('label', \"'mossy_fibers'\"), ('model', \"'NESTPopulation'\"), ('brain_region', \"'Left Ansiform lobule'\"), ('gid', \"UUID('fec98d35-d942-4613-80d2-01c35e00e447')\"), ('number_of_nodes', '117'), ('nodes', 'NodeCollection(metadata=None, model=mossy_fibers, size=117, first=62890, last=63006)')])...\n",
      "\n",
      "...created: OrderedDict([('title', \"'NESTPopulation gid: c730beca-2a8d-4e0b-b68d-207e7d5eb91b'\"), ('Type', \"'NESTPopulation'\"), ('_nodes', 'NodeCollection(metadata=None, model=purkinje_cell, size=99, first=63007, last=63105)'), ('label', \"'purkinje_cell'\"), ('model', \"'NESTPopulation'\"), ('brain_region', \"'Right Ansiform lobule'\"), ('gid', \"UUID('c730beca-2a8d-4e0b-b68d-207e7d5eb91b')\"), ('number_of_nodes', '99'), ('nodes', 'NodeCollection(metadata=None, model=purkinje_cell, size=99, first=63007, last=63105)')])...\n",
      "\n",
      "...created: OrderedDict([('title', \"'NESTPopulation gid: a21813f9-95c5-489d-971f-22e27ecbc7de'\"), ('Type', \"'NESTPopulation'\"), ('_nodes', 'NodeCollection(metadata=None, model=purkinje_cell, size=99, first=63106, last=63204)'), ('label', \"'purkinje_cell'\"), ('model', \"'NESTPopulation'\"), ('brain_region', \"'Left Ansiform lobule'\"), ('gid', \"UUID('a21813f9-95c5-489d-971f-22e27ecbc7de')\"), ('number_of_nodes', '99'), ('nodes', 'NodeCollection(metadata=None, model=purkinje_cell, size=99, first=63106, last=63204)')])...\n",
      "\n",
      "...created: OrderedDict([('title', \"'NESTPopulation gid: 7839b4b2-e2e4-4be6-894c-fdc35c815c98'\"), ('Type', \"'NESTPopulation'\"), ('_nodes', 'NodeCollection(metadata=None, model=stellate_cell, size=299, first=63205, last=63503)'), ('label', \"'stellate_cell'\"), ('model', \"'NESTPopulation'\"), ('brain_region', \"'Right Ansiform lobule'\"), ('gid', \"UUID('7839b4b2-e2e4-4be6-894c-fdc35c815c98')\"), ('number_of_nodes', '299'), ('nodes', 'NodeCollection(metadata=None, model=stellate_cell, size=299, first=63205, last=63503)')])...\n",
      "\n",
      "...created: OrderedDict([('title', \"'NESTPopulation gid: 3a7e7ac6-0bf8-4f20-93d8-c187f9100d58'\"), ('Type', \"'NESTPopulation'\"), ('_nodes', 'NodeCollection(metadata=None, model=stellate_cell, size=299, first=63504, last=63802)'), ('label', \"'stellate_cell'\"), ('model', \"'NESTPopulation'\"), ('brain_region', \"'Left Ansiform lobule'\"), ('gid', \"UUID('3a7e7ac6-0bf8-4f20-93d8-c187f9100d58')\"), ('number_of_nodes', '299'), ('nodes', 'NodeCollection(metadata=None, model=stellate_cell, size=299, first=63504, last=63802)')])...\n",
      "\n",
      "...created: OrderedDict([('title', \"'NESTPopulation gid: 3a187d7b-aa44-49bb-aff1-09340da8750b'\"), ('Type', \"'NESTPopulation'\"), ('_nodes', 'NodeCollection(metadata=None, model=parrot_neuron, size=457, first=63803, last=64259)'), ('label', \"'parrot_medulla'\"), ('model', \"'NESTPopulation'\"), ('brain_region', \"'Right Principal sensory nucleus of the trigeminal'\"), ('gid', \"UUID('3a187d7b-aa44-49bb-aff1-09340da8750b')\"), ('number_of_nodes', '457'), ('nodes', 'NodeCollection(metadata=None, model=parrot_neuron, size=457, first=63803, last=64259)')])...\n",
      "\n",
      "...created: OrderedDict([('title', \"'NESTPopulation gid: d6cde2ed-8a74-4a99-a3d6-f1291e1a0aed'\"), ('Type', \"'NESTPopulation'\"), ('_nodes', 'NodeCollection(metadata=None, model=parrot_neuron, size=457, first=64260, last=64716)'), ('label', \"'parrot_medulla'\"), ('model', \"'NESTPopulation'\"), ('brain_region', \"'Left Principal sensory nucleus of the trigeminal'\"), ('gid', \"UUID('d6cde2ed-8a74-4a99-a3d6-f1291e1a0aed')\"), ('number_of_nodes', '457'), ('nodes', 'NodeCollection(metadata=None, model=parrot_neuron, size=457, first=64260, last=64716)')])...\n",
      "\n",
      "...created: OrderedDict([('title', \"'NESTPopulation gid: 714b6a7e-52b8-4bd5-ace3-56a158e16fa8'\"), ('Type', \"'NESTPopulation'\"), ('_nodes', 'NodeCollection(metadata=None, model=parrot_neuron, size=426, first=64717, last=65142)'), ('label', \"'parrot_ponssens'\"), ('model', \"'NESTPopulation'\"), ('brain_region', \"'Right Pons Sensory'\"), ('gid', \"UUID('714b6a7e-52b8-4bd5-ace3-56a158e16fa8')\"), ('number_of_nodes', '426'), ('nodes', 'NodeCollection(metadata=None, model=parrot_neuron, size=426, first=64717, last=65142)')])...\n",
      "\n",
      "...created: OrderedDict([('title', \"'NESTPopulation gid: 483bc237-69e9-4be8-8478-b3e9b9b63277'\"), ('Type', \"'NESTPopulation'\"), ('_nodes', 'NodeCollection(metadata=None, model=parrot_neuron, size=426, first=65143, last=65568)'), ('label', \"'parrot_ponssens'\"), ('model', \"'NESTPopulation'\"), ('brain_region', \"'Left Pons Sensory'\"), ('gid', \"UUID('483bc237-69e9-4be8-8478-b3e9b9b63277')\"), ('number_of_nodes', '426'), ('nodes', 'NodeCollection(metadata=None, model=parrot_neuron, size=426, first=65143, last=65568)')])...\n",
      "Connecting   mossy_to_glomerulus !\n",
      "mossy_fibers - Right Ansiform lobule -> glomerulus -> Right Ansiform lobule\n",
      "Connecting   mossy_to_glomerulus !\n",
      "mossy_fibers - Left Ansiform lobule -> glomerulus -> Left Ansiform lobule\n",
      "Connecting   ascending_axon_to_golgi !\n",
      "granule_cell - Right Ansiform lobule -> golgi_cell -> Right Ansiform lobule\n",
      "Connecting   ascending_axon_to_golgi !\n",
      "granule_cell - Left Ansiform lobule -> golgi_cell -> Left Ansiform lobule\n",
      "Connecting   ascending_axon_to_purkinje !\n",
      "granule_cell - Right Ansiform lobule -> purkinje_cell -> Right Ansiform lobule\n"
     ]
    },
    {
     "name": "stdout",
     "output_type": "stream",
     "text": [
      "Connecting   ascending_axon_to_purkinje !\n",
      "granule_cell - Left Ansiform lobule -> purkinje_cell -> Left Ansiform lobule\n",
      "Connecting   basket_to_purkinje !\n",
      "basket_cell - Right Ansiform lobule -> purkinje_cell -> Right Ansiform lobule\n",
      "Connecting   basket_to_purkinje !\n",
      "basket_cell - Left Ansiform lobule -> purkinje_cell -> Left Ansiform lobule\n",
      "Connecting   basket_to_basket !\n",
      "basket_cell - Right Ansiform lobule -> basket_cell -> Right Ansiform lobule\n",
      "Connecting   basket_to_basket !\n",
      "basket_cell - Left Ansiform lobule -> basket_cell -> Left Ansiform lobule\n",
      "Connecting   glomerulus_to_golgi !\n",
      "glomerulus - Right Ansiform lobule -> golgi_cell -> Right Ansiform lobule\n",
      "Connecting   glomerulus_to_golgi !\n",
      "glomerulus - Left Ansiform lobule -> golgi_cell -> Left Ansiform lobule\n",
      "Connecting   glomerulus_to_granule !\n",
      "glomerulus - Right Ansiform lobule -> granule_cell -> Right Ansiform lobule\n",
      "Connecting   glomerulus_to_granule !\n",
      "glomerulus - Left Ansiform lobule -> granule_cell -> Left Ansiform lobule\n",
      "Connecting   golgi_to_granule !\n",
      "golgi_cell - Right Ansiform lobule -> granule_cell -> Right Ansiform lobule\n",
      "Connecting   golgi_to_granule !\n",
      "golgi_cell - Left Ansiform lobule -> granule_cell -> Left Ansiform lobule\n",
      "Connecting   golgi_to_golgi !\n",
      "golgi_cell - Right Ansiform lobule -> golgi_cell -> Right Ansiform lobule\n",
      "Connecting   golgi_to_golgi !\n",
      "golgi_cell - Left Ansiform lobule -> golgi_cell -> Left Ansiform lobule\n",
      "Connecting   parallel_fiber_to_basket !\n",
      "granule_cell - Right Ansiform lobule -> basket_cell -> Right Ansiform lobule\n",
      "Connecting   parallel_fiber_to_basket !\n",
      "granule_cell - Left Ansiform lobule -> basket_cell -> Left Ansiform lobule\n",
      "Connecting   parallel_fiber_to_golgi !\n",
      "granule_cell - Right Ansiform lobule -> golgi_cell -> Right Ansiform lobule\n",
      "Connecting   parallel_fiber_to_golgi !\n",
      "granule_cell - Left Ansiform lobule -> golgi_cell -> Left Ansiform lobule\n",
      "Connecting   parallel_fiber_to_purkinje !\n",
      "granule_cell - Right Ansiform lobule -> purkinje_cell -> Right Ansiform lobule\n",
      "Connecting   parallel_fiber_to_purkinje !\n",
      "granule_cell - Left Ansiform lobule -> purkinje_cell -> Left Ansiform lobule\n",
      "Connecting   parallel_fiber_to_stellate !\n",
      "granule_cell - Right Ansiform lobule -> stellate_cell -> Right Ansiform lobule\n",
      "Connecting   parallel_fiber_to_stellate !\n",
      "granule_cell - Left Ansiform lobule -> stellate_cell -> Left Ansiform lobule\n",
      "Connecting   stellate_to_purkinje !\n",
      "stellate_cell - Right Ansiform lobule -> purkinje_cell -> Right Ansiform lobule\n",
      "Connecting   stellate_to_purkinje !\n",
      "stellate_cell - Left Ansiform lobule -> purkinje_cell -> Left Ansiform lobule\n",
      "Connecting   stellate_to_stellate !\n",
      "stellate_cell - Right Ansiform lobule -> stellate_cell -> Right Ansiform lobule\n",
      "Connecting   stellate_to_stellate !\n",
      "stellate_cell - Left Ansiform lobule -> stellate_cell -> Left Ansiform lobule\n",
      "Connecting   purkinje_to_dcn_glut_large !\n",
      "purkinje_cell - Right Ansiform lobule -> dcn_cell_glut_large -> Right Interposed nucleus\n",
      "Connecting   purkinje_to_dcn_glut_large !\n",
      "purkinje_cell - Left Ansiform lobule -> dcn_cell_glut_large -> Left Interposed nucleus\n",
      "Connecting   mossy_to_dcn_glut_large !\n",
      "mossy_fibers - Right Ansiform lobule -> dcn_cell_glut_large -> Right Interposed nucleus\n",
      "Connecting   mossy_to_dcn_glut_large !\n",
      "mossy_fibers - Left Ansiform lobule -> dcn_cell_glut_large -> Left Interposed nucleus\n",
      "Connecting   purkinje_to_dcn_GABA !\n",
      "purkinje_cell - Right Ansiform lobule -> dcn_cell_GABA -> Right Interposed nucleus\n",
      "Connecting   purkinje_to_dcn_GABA !\n",
      "purkinje_cell - Left Ansiform lobule -> dcn_cell_GABA -> Left Interposed nucleus\n",
      "Connecting   io_to_purkinje !\n",
      "io_cell - Right Inferior olivary complex -> purkinje_cell -> Right Ansiform lobule\n",
      "Connecting   io_to_purkinje !\n",
      "io_cell - Left Inferior olivary complex -> purkinje_cell -> Left Ansiform lobule\n",
      "Connecting   io_to_basket !\n",
      "io_cell - Right Inferior olivary complex -> basket_cell -> Right Ansiform lobule\n",
      "Connecting   io_to_basket !\n",
      "io_cell - Left Inferior olivary complex -> basket_cell -> Left Ansiform lobule\n",
      "Connecting   io_to_stellate !\n",
      "io_cell - Right Inferior olivary complex -> stellate_cell -> Right Ansiform lobule\n",
      "Connecting   io_to_stellate !\n",
      "io_cell - Left Inferior olivary complex -> stellate_cell -> Left Ansiform lobule\n",
      "Connecting   io_to_dcn_glut_large !\n",
      "io_cell - Right Inferior olivary complex -> dcn_cell_glut_large -> Right Interposed nucleus\n",
      "Connecting   io_to_dcn_glut_large !\n",
      "io_cell - Left Inferior olivary complex -> dcn_cell_glut_large -> Left Interposed nucleus\n",
      "Connecting   io_to_dcn_GABA !\n",
      "io_cell - Right Inferior olivary complex -> dcn_cell_GABA -> Right Interposed nucleus\n",
      "Connecting   io_to_dcn_GABA !\n",
      "io_cell - Left Inferior olivary complex -> dcn_cell_GABA -> Left Interposed nucleus\n",
      "Connecting   dcn_GABA_to_io !\n",
      "dcn_cell_GABA - Right Interposed nucleus -> io_cell -> Right Inferior olivary complex\n",
      "Connecting   dcn_GABA_to_io !\n",
      "dcn_cell_GABA - Left Interposed nucleus -> io_cell -> Left Inferior olivary complex\n",
      "Connecting! parrot_medulla - Right Principal sensory nucleus of the trigeminal -> mossy_fibers -> Right Ansiform lobule\n",
      "Connecting! parrot_medulla - Left Principal sensory nucleus of the trigeminal -> mossy_fibers -> Left Ansiform lobule\n",
      "Connecting!  parrot_ponssens - Right Pons Sensory -> mossy_fibers -> Right Ansiform lobule\n",
      "Connecting!  parrot_ponssens - Left Pons Sensory -> mossy_fibers -> Left Ansiform lobule\n",
      "2022-07-01 10:23:20,271 - INFO - tvb_multiscale.core.spiking_models.devices - <class 'tvb_multiscale.core.spiking_models.devices.DeviceSet'> of model poisson_generator for Background created!\n",
      "2022-07-01 10:23:20,271 - INFO - tvb_multiscale.core.spiking_models.devices - <class 'tvb_multiscale.core.spiking_models.devices.DeviceSet'> of model poisson_generator for Background created!\n",
      "Connected!  Background - Right Ansiform lobule -> parrot_ponssens -> Right Ansiform lobule\n",
      "Connected!  Background - Left Ansiform lobule -> parrot_ponssens -> Left Ansiform lobule\n",
      "2022-07-01 10:23:20,279 - INFO - tvb_multiscale.core.spiking_models.devices - <class 'tvb_multiscale.core.spiking_models.devices.DeviceSet'> of model sinusoidal_poisson_generator for Stimulus created!\n",
      "2022-07-01 10:23:20,279 - INFO - tvb_multiscale.core.spiking_models.devices - <class 'tvb_multiscale.core.spiking_models.devices.DeviceSet'> of model sinusoidal_poisson_generator for Stimulus created!\n",
      "Connected!  Stimulus - Right Principal sensory nucleus of the trigeminal -> parrot_medulla -> Right Principal sensory nucleus of the trigeminal\n",
      "Connected!  Stimulus - Left Principal sensory nucleus of the trigeminal -> parrot_medulla -> Left Principal sensory nucleus of the trigeminal\n",
      "2022-07-01 10:23:20,286 - INFO - tvb_multiscale.core.spiking_models.devices - <class 'tvb_multiscale.core.spiking_models.devices.DeviceSet'> of model spike_recorder for golgi_cell created!\n",
      "2022-07-01 10:23:20,286 - INFO - tvb_multiscale.core.spiking_models.devices - <class 'tvb_multiscale.core.spiking_models.devices.DeviceSet'> of model spike_recorder for golgi_cell created!\n",
      "\n",
      "...created spike_recorder device for population golgi_cell in brain region Right Ansiform lobule...\n",
      "\n",
      "...created spike_recorder device for population golgi_cell in brain region Left Ansiform lobule...\n",
      "2022-07-01 10:23:20,296 - INFO - tvb_multiscale.core.spiking_models.devices - <class 'tvb_multiscale.core.spiking_models.devices.DeviceSet'> of model spike_recorder for granule_cell created!\n",
      "2022-07-01 10:23:20,296 - INFO - tvb_multiscale.core.spiking_models.devices - <class 'tvb_multiscale.core.spiking_models.devices.DeviceSet'> of model spike_recorder for granule_cell created!\n",
      "\n",
      "...created spike_recorder device for population granule_cell in brain region Right Ansiform lobule...\n",
      "\n",
      "...created spike_recorder device for population granule_cell in brain region Left Ansiform lobule...\n",
      "2022-07-01 10:23:20,403 - INFO - tvb_multiscale.core.spiking_models.devices - <class 'tvb_multiscale.core.spiking_models.devices.DeviceSet'> of model spike_recorder for purkinje_cell created!\n",
      "2022-07-01 10:23:20,403 - INFO - tvb_multiscale.core.spiking_models.devices - <class 'tvb_multiscale.core.spiking_models.devices.DeviceSet'> of model spike_recorder for purkinje_cell created!\n",
      "\n",
      "...created spike_recorder device for population purkinje_cell in brain region Right Ansiform lobule...\n",
      "\n",
      "...created spike_recorder device for population purkinje_cell in brain region Left Ansiform lobule...\n",
      "2022-07-01 10:23:20,418 - INFO - tvb_multiscale.core.spiking_models.devices - <class 'tvb_multiscale.core.spiking_models.devices.DeviceSet'> of model spike_recorder for basket_cell created!\n"
     ]
    },
    {
     "name": "stdout",
     "output_type": "stream",
     "text": [
      "2022-07-01 10:23:20,418 - INFO - tvb_multiscale.core.spiking_models.devices - <class 'tvb_multiscale.core.spiking_models.devices.DeviceSet'> of model spike_recorder for basket_cell created!\n",
      "\n",
      "...created spike_recorder device for population basket_cell in brain region Right Ansiform lobule...\n",
      "\n",
      "...created spike_recorder device for population basket_cell in brain region Left Ansiform lobule...\n",
      "2022-07-01 10:23:20,434 - INFO - tvb_multiscale.core.spiking_models.devices - <class 'tvb_multiscale.core.spiking_models.devices.DeviceSet'> of model spike_recorder for stellate_cell created!\n",
      "2022-07-01 10:23:20,434 - INFO - tvb_multiscale.core.spiking_models.devices - <class 'tvb_multiscale.core.spiking_models.devices.DeviceSet'> of model spike_recorder for stellate_cell created!\n",
      "\n",
      "...created spike_recorder device for population stellate_cell in brain region Right Ansiform lobule...\n",
      "\n",
      "...created spike_recorder device for population stellate_cell in brain region Left Ansiform lobule...\n",
      "2022-07-01 10:23:20,456 - INFO - tvb_multiscale.core.spiking_models.devices - <class 'tvb_multiscale.core.spiking_models.devices.DeviceSet'> of model spike_recorder for dcn_cell_glut_large created!\n",
      "2022-07-01 10:23:20,456 - INFO - tvb_multiscale.core.spiking_models.devices - <class 'tvb_multiscale.core.spiking_models.devices.DeviceSet'> of model spike_recorder for dcn_cell_glut_large created!\n",
      "\n",
      "...created spike_recorder device for population dcn_cell_glut_large in brain region Right Interposed nucleus...\n",
      "\n",
      "...created spike_recorder device for population dcn_cell_glut_large in brain region Left Interposed nucleus...\n",
      "2022-07-01 10:23:20,471 - INFO - tvb_multiscale.core.spiking_models.devices - <class 'tvb_multiscale.core.spiking_models.devices.DeviceSet'> of model spike_recorder for dcn_cell_GABA created!\n",
      "2022-07-01 10:23:20,471 - INFO - tvb_multiscale.core.spiking_models.devices - <class 'tvb_multiscale.core.spiking_models.devices.DeviceSet'> of model spike_recorder for dcn_cell_GABA created!\n",
      "\n",
      "...created spike_recorder device for population dcn_cell_GABA in brain region Right Interposed nucleus...\n",
      "\n",
      "...created spike_recorder device for population dcn_cell_GABA in brain region Left Interposed nucleus...\n",
      "2022-07-01 10:23:20,483 - INFO - tvb_multiscale.core.spiking_models.devices - <class 'tvb_multiscale.core.spiking_models.devices.DeviceSet'> of model spike_recorder for io_cell created!\n",
      "2022-07-01 10:23:20,483 - INFO - tvb_multiscale.core.spiking_models.devices - <class 'tvb_multiscale.core.spiking_models.devices.DeviceSet'> of model spike_recorder for io_cell created!\n",
      "\n",
      "...created spike_recorder device for population io_cell in brain region Right Inferior olivary complex...\n",
      "\n",
      "...created spike_recorder device for population io_cell in brain region Left Inferior olivary complex...\n",
      "2022-07-01 10:23:20,493 - INFO - tvb_multiscale.core.spiking_models.devices - <class 'tvb_multiscale.core.spiking_models.devices.DeviceSet'> of model spike_recorder for glomerulus created!\n",
      "2022-07-01 10:23:20,493 - INFO - tvb_multiscale.core.spiking_models.devices - <class 'tvb_multiscale.core.spiking_models.devices.DeviceSet'> of model spike_recorder for glomerulus created!\n",
      "\n",
      "...created spike_recorder device for population glomerulus in brain region Right Ansiform lobule...\n",
      "\n",
      "...created spike_recorder device for population glomerulus in brain region Left Ansiform lobule...\n",
      "2022-07-01 10:23:20,589 - INFO - tvb_multiscale.core.spiking_models.devices - <class 'tvb_multiscale.core.spiking_models.devices.DeviceSet'> of model spike_recorder for mossy_fibers created!\n",
      "2022-07-01 10:23:20,589 - INFO - tvb_multiscale.core.spiking_models.devices - <class 'tvb_multiscale.core.spiking_models.devices.DeviceSet'> of model spike_recorder for mossy_fibers created!\n",
      "\n",
      "...created spike_recorder device for population mossy_fibers in brain region Right Ansiform lobule...\n",
      "\n",
      "...created spike_recorder device for population mossy_fibers in brain region Left Ansiform lobule...\n",
      "2022-07-01 10:23:20,603 - INFO - tvb_multiscale.core.spiking_models.devices - <class 'tvb_multiscale.core.spiking_models.devices.DeviceSet'> of model spike_recorder for parrot_medulla created!\n",
      "2022-07-01 10:23:20,603 - INFO - tvb_multiscale.core.spiking_models.devices - <class 'tvb_multiscale.core.spiking_models.devices.DeviceSet'> of model spike_recorder for parrot_medulla created!\n",
      "\n",
      "...created spike_recorder device for population parrot_medulla in brain region Right Principal sensory nucleus of the trigeminal...\n",
      "\n",
      "...created spike_recorder device for population parrot_medulla in brain region Left Principal sensory nucleus of the trigeminal...\n",
      "2022-07-01 10:23:20,634 - INFO - tvb_multiscale.core.spiking_models.devices - <class 'tvb_multiscale.core.spiking_models.devices.DeviceSet'> of model spike_recorder for parrot_ponssens created!\n",
      "2022-07-01 10:23:20,634 - INFO - tvb_multiscale.core.spiking_models.devices - <class 'tvb_multiscale.core.spiking_models.devices.DeviceSet'> of model spike_recorder for parrot_ponssens created!\n",
      "\n",
      "...created spike_recorder device for population parrot_ponssens in brain region Right Pons Sensory...\n",
      "\n",
      "...created spike_recorder device for population parrot_ponssens in brain region Left Pons Sensory...\n",
      "NESTNetwork (\n",
      "  title ........................... 'NESTNetwork gid: 13e38f4e-a493-4f50-ac26-cfe82b5ce26e'\n",
      "  Type ............................ 'NESTNetwork'\n",
      "  config .......................... '--------------------'\n",
      "  config.title .................... 'Config gid: 3f6d02b3-1913-4473-a965-3850beb501f8'\n",
      "  config.Type ..................... 'Config'\n",
      "  config.gid ...................... UUID('3f6d02b3-1913-4473-a965-3850beb501f8')\n",
      "  brain_regions ................... '--------------------'\n",
      "  brain_regions.title ............. 'NESTBrain gid: 2688d77a-e410-4e4e-b3da-a7ab2161555e'\n",
      "  brain_regions.Type .............. 'NESTBrain'\n",
      "  brain_regions.gid ............... UUID('2688d77a-e410-4e4e-b3da-a7ab2161555e')\n",
      "  brain_regions.label ............. ''\n",
      "  brain_regions.size .............. 10\n",
      "  brain_regions.Regions ........... --------------------\n",
      "  brain_regions.Regions: shape .... (10,)\n",
      "  brain_regions.Regions: dtype .... <U49\n",
      "  brain_regions.Regions: values ... ['Right Ansiform lobule' 'Left Ansiform lobule' 'Right Interposed nucleus'\n",
      " 'Left Interposed nucleus' 'Right Inferior olivary complex'\n",
      " 'Left Inferior olivary complex'\n",
      " 'Right Principal sensory nucleus of the trigeminal'\n",
      " 'Left Principal sensory nucleus of the trigeminal' 'Right Pons Sensory'\n",
      " 'Left Pons Sensory']\n",
      "  output_devices .................. '--------------------'\n",
      "  output_devices.title ............ 'DeviceSets gid: 8044bfe6-9c14-4c66-9927-0c2ec064424c'\n",
      "  output_devices.Type ............. 'DeviceSets'\n",
      "  output_devices.gid .............. UUID('8044bfe6-9c14-4c66-9927-0c2ec064424c')\n",
      "  output_devices.label ............ 'output_devices'\n",
      "  output_devices.size ............. 12\n",
      "  output_devices.DeviceSets ....... --------------------\n",
      "  output_devices.DeviceSets: shape  (12,)\n",
      "  output_devices.DeviceSets: dtype  <U19\n",
      "  output_devices.DeviceSets: values  ['golgi_cell' 'granule_cell' 'purkinje_cell' 'basket_cell' 'stellate_cell'\n",
      " 'dcn_cell_glut_large' 'dcn_cell_GABA' 'io_cell' 'glomerulus'\n",
      " 'mossy_fibers' 'parrot_medulla' 'parrot_ponssens']\n",
      "  input_devices ................... '--------------------'\n",
      "  input_devices.title ............. 'DeviceSets gid: 2deb3ec1-a10b-4b75-8c33-8b5974f25d63'\n",
      "  input_devices.Type .............. 'DeviceSets'\n",
      "  input_devices.gid ............... UUID('2deb3ec1-a10b-4b75-8c33-8b5974f25d63')\n",
      "  input_devices.label ............. 'input_devices'\n",
      "  input_devices.size .............. 2\n",
      "  input_devices.DeviceSets ........ --------------------\n",
      "  input_devices.DeviceSets: shape . (2,)\n",
      "  input_devices.DeviceSets: dtype . <U10\n",
      "  input_devices.DeviceSets: values  ['Background' 'Stimulus']\n",
      "  output_proxies .................. '--------------------'\n",
      "  output_proxies.title ............ 'DeviceSets gid: 412ca53e-fd78-4ba1-9e0c-f51cad6fb910'\n",
      "  output_proxies.Type ............. 'DeviceSets'\n",
      "  output_proxies.gid .............. UUID('412ca53e-fd78-4ba1-9e0c-f51cad6fb910')\n",
      "  output_proxies.label ............ 'output_proxies'\n",
      "  output_proxies.size ............. 0\n",
      "  output_proxies.DeviceSets ....... --------------------\n",
      "  shape ........................... (0,)\n",
      "  dtype ........................... float64\n",
      "  is empty ........................ True\n",
      "  input_proxies ................... '--------------------'\n",
      "  input_proxies.title ............. 'DeviceSets gid: dace6e31-1f95-4133-a1af-6a3c677ebd31'\n",
      "  input_proxies.Type .............. 'DeviceSets'\n",
      "  input_proxies.gid ............... UUID('dace6e31-1f95-4133-a1af-6a3c677ebd31')\n",
      "  input_proxies.label ............. 'input_proxies'\n",
      "  input_proxies.size .............. 0\n",
      "  input_proxies.DeviceSets ........ --------------------\n",
      "  gid ............................. UUID('13e38f4e-a493-4f50-ac26-cfe82b5ce26e')\n",
      ")\n"
     ]
    }
   ],
   "source": [
    "#before running the below code, make sure that you locally add the file here: \n",
    "# /home/docker/packages/tvb-multiscale/examples/data/cerebellum/balanced_DCN_IO.hdf5\n",
    "nest_network, nest_nodes_inds, neuron_models, neuron_number, mossy_fibers_medulla, mossy_fibers_ponssens = \\\n",
    "    build_NEST_network(config)"
   ]
  },
  {
   "cell_type": "code",
   "execution_count": 5,
   "id": "a788c418",
   "metadata": {},
   "outputs": [],
   "source": [
    "# nest_network.nest_instance.Simulate(config.SIMULATION_LENGTH)\n",
    "\n",
    "# nest_network = simulate_nest_network(nest_network, config, neuron_models, neuron_number, plot_flag=True)\n"
   ]
  },
  {
   "cell_type": "code",
   "execution_count": 6,
   "id": "a397f93a",
   "metadata": {},
   "outputs": [],
   "source": [
    "#simulator"
   ]
  },
  {
   "cell_type": "code",
   "execution_count": 7,
   "id": "260a61e8",
   "metadata": {
    "scrolled": true
   },
   "outputs": [
    {
     "name": "stdout",
     "output_type": "stream",
     "text": [
      "\n",
      "output (TVB->NEST coupling) interfaces' configurations:\n",
      "\n",
      "{'voi': array([0]), 'populations': array(['parrot_medulla'], dtype='<U14'), 'model': 'RATE', 'proxy_inds': array([ 96, 203]), 'receptor_type': 0, 'spiking_proxy_inds': array([ 96, 203]), 'coupling_mode': 'TVB', 'voi_labels': array(['E'], dtype='<U1'), 'monitor_ind': 0, 'proxy': <class 'tvb_multiscale.tvb_nest.interfaces.io.NESTInhomogeneousPoissonGeneratorSet'>, 'transformer': <tvb_multiscale.core.interfaces.base.transformers.models.base.LinearRate object at 0x7f4885c94070>}\n",
      "{'voi': array([0]), 'populations': array(['parrot_ponssens'], dtype='<U15'), 'model': 'RATE', 'proxy_inds': array([ 95, 202]), 'receptor_type': 0, 'spiking_proxy_inds': array([ 95, 202]), 'coupling_mode': 'TVB', 'voi_labels': array(['E'], dtype='<U1'), 'monitor_ind': 0, 'proxy': <class 'tvb_multiscale.tvb_nest.interfaces.io.NESTInhomogeneousPoissonGeneratorSet'>, 'transformer': <tvb_multiscale.core.interfaces.base.transformers.models.base.LinearRate object at 0x7f48710377c0>}\n",
      "{'voi': array([0]), 'populations': array(['mossy_fibers'], dtype='<U12'), 'model': 'RATE', 'proxy_inds': array([104, 211]), 'receptor_type': 0, 'spiking_proxy_inds': array([104, 211]), 'coupling_mode': 'TVB', 'voi_labels': array(['E'], dtype='<U1'), 'monitor_ind': 0, 'proxy': <class 'tvb_multiscale.tvb_nest.interfaces.io.NESTInhomogeneousPoissonGeneratorSet'>, 'transformer': <tvb_multiscale.core.interfaces.base.transformers.models.base.LinearRate object at 0x7f4871037790>}\n",
      "{'voi': array([0]), 'populations': array(['io_cell'], dtype='<U7'), 'model': 'RATE', 'proxy_inds': array([102, 209]), 'receptor_type': 1, 'spiking_proxy_inds': array([102, 209]), 'coupling_mode': 'TVB', 'voi_labels': array(['E'], dtype='<U1'), 'monitor_ind': 0, 'proxy': <class 'tvb_multiscale.tvb_nest.interfaces.io.NESTInhomogeneousPoissonGeneratorSet'>, 'transformer': <tvb_multiscale.core.interfaces.base.transformers.models.base.LinearRate object at 0x7f4871037910>}\n",
      "\n",
      "input (NEST->TVB update) interfaces' configurations:\n",
      "\n",
      "{'voi': array([0]), 'populations': array(['parrot_medulla'], dtype='<U14'), 'proxy_inds': array([ 96, 203]), 'voi_labels': array(['E'], dtype='<U1'), 'proxy': <class 'tvb_multiscale.tvb_nest.interfaces.io.NESTSpikeRecorderTotalSet'>, 'transformer': <tvb_multiscale.core.interfaces.base.transformers.models.elephant.ElephantSpikesHistogramRate object at 0x7f4871037370>}\n",
      "{'voi': array([0]), 'populations': array(['parrot_ponssens'], dtype='<U15'), 'proxy_inds': array([ 95, 202]), 'voi_labels': array(['E'], dtype='<U1'), 'proxy': <class 'tvb_multiscale.tvb_nest.interfaces.io.NESTSpikeRecorderTotalSet'>, 'transformer': <tvb_multiscale.core.interfaces.base.transformers.models.elephant.ElephantSpikesHistogramRate object at 0x7f4871037cd0>}\n",
      "{'voi': array([0]), 'populations': array(['granule_cell'], dtype='<U12'), 'proxy_inds': array([104, 211]), 'neurons_inds': <function build_tvb_nest_interfaces.<locals>.<lambda> at 0x7f4885c7c040>, 'voi_labels': array(['E'], dtype='<U1'), 'proxy': <class 'tvb_multiscale.tvb_nest.interfaces.io.NESTSpikeRecorderTotalSet'>, 'transformer': <tvb_multiscale.core.interfaces.base.transformers.models.elephant.ElephantSpikesHistogramRate object at 0x7f487108c640>}\n",
      "{'voi': array([0]), 'populations': array(['dcn_cell_glut_large'], dtype='<U19'), 'proxy_inds': array([106, 213]), 'voi_labels': array(['E'], dtype='<U1'), 'proxy': <class 'tvb_multiscale.tvb_nest.interfaces.io.NESTSpikeRecorderTotalSet'>, 'transformer': <tvb_multiscale.core.interfaces.base.transformers.models.elephant.ElephantSpikesHistogramRate object at 0x7f487108c610>}\n",
      "{'voi': array([0]), 'populations': array(['io_cell'], dtype='<U7'), 'proxy_inds': array([102, 209]), 'voi_labels': array(['E'], dtype='<U1'), 'proxy': <class 'tvb_multiscale.tvb_nest.interfaces.io.NESTSpikeRecorderTotalSet'>, 'transformer': <tvb_multiscale.core.interfaces.base.transformers.models.elephant.ElephantSpikesHistogramRate object at 0x7f487108c400>}\n",
      "2022-07-01 10:23:21,814 - INFO - tvb_multiscale.core.spiking_models.devices - <class 'tvb_multiscale.core.spiking_models.devices.DeviceSet'> of model inhomogeneous_poisson_generator for ['E']->['parrot_medulla'] created!\n",
      "2022-07-01 10:23:21,814 - INFO - tvb_multiscale.core.spiking_models.devices - <class 'tvb_multiscale.core.spiking_models.devices.DeviceSet'> of model inhomogeneous_poisson_generator for ['E']->['parrot_medulla'] created!\n",
      "2022-07-01 10:23:21,825 - INFO - tvb_multiscale.core.spiking_models.devices - <class 'tvb_multiscale.core.spiking_models.devices.DeviceSet'> of model inhomogeneous_poisson_generator for ['E']->['parrot_ponssens'] created!\n",
      "2022-07-01 10:23:21,825 - INFO - tvb_multiscale.core.spiking_models.devices - <class 'tvb_multiscale.core.spiking_models.devices.DeviceSet'> of model inhomogeneous_poisson_generator for ['E']->['parrot_ponssens'] created!\n",
      "2022-07-01 10:23:21,835 - INFO - tvb_multiscale.core.spiking_models.devices - <class 'tvb_multiscale.core.spiking_models.devices.DeviceSet'> of model inhomogeneous_poisson_generator for ['E']->['mossy_fibers'] created!\n",
      "2022-07-01 10:23:21,835 - INFO - tvb_multiscale.core.spiking_models.devices - <class 'tvb_multiscale.core.spiking_models.devices.DeviceSet'> of model inhomogeneous_poisson_generator for ['E']->['mossy_fibers'] created!\n",
      "2022-07-01 10:23:21,846 - INFO - tvb_multiscale.core.spiking_models.devices - <class 'tvb_multiscale.core.spiking_models.devices.DeviceSet'> of model inhomogeneous_poisson_generator for ['E']->['io_cell'] created!\n",
      "2022-07-01 10:23:21,846 - INFO - tvb_multiscale.core.spiking_models.devices - <class 'tvb_multiscale.core.spiking_models.devices.DeviceSet'> of model inhomogeneous_poisson_generator for ['E']->['io_cell'] created!\n",
      "2022-07-01 10:23:21,857 - INFO - tvb_multiscale.core.spiking_models.devices - <class 'tvb_multiscale.core.spiking_models.devices.DeviceSet'> of model spike_recorder for ['parrot_medulla']->['E'] created!\n",
      "2022-07-01 10:23:21,857 - INFO - tvb_multiscale.core.spiking_models.devices - <class 'tvb_multiscale.core.spiking_models.devices.DeviceSet'> of model spike_recorder for ['parrot_medulla']->['E'] created!\n",
      "2022-07-01 10:23:21,867 - INFO - tvb_multiscale.core.spiking_models.devices - <class 'tvb_multiscale.core.spiking_models.devices.DeviceSet'> of model spike_recorder for ['parrot_ponssens']->['E'] created!\n",
      "2022-07-01 10:23:21,867 - INFO - tvb_multiscale.core.spiking_models.devices - <class 'tvb_multiscale.core.spiking_models.devices.DeviceSet'> of model spike_recorder for ['parrot_ponssens']->['E'] created!\n",
      "2022-07-01 10:23:21,877 - INFO - tvb_multiscale.core.spiking_models.devices - <class 'tvb_multiscale.core.spiking_models.devices.DeviceSet'> of model spike_recorder for ['granule_cell']->['E'] created!\n",
      "2022-07-01 10:23:21,877 - INFO - tvb_multiscale.core.spiking_models.devices - <class 'tvb_multiscale.core.spiking_models.devices.DeviceSet'> of model spike_recorder for ['granule_cell']->['E'] created!\n",
      "2022-07-01 10:23:24,702 - INFO - tvb_multiscale.core.spiking_models.devices - <class 'tvb_multiscale.core.spiking_models.devices.DeviceSet'> of model spike_recorder for ['dcn_cell_glut_large']->['E'] created!\n",
      "2022-07-01 10:23:24,702 - INFO - tvb_multiscale.core.spiking_models.devices - <class 'tvb_multiscale.core.spiking_models.devices.DeviceSet'> of model spike_recorder for ['dcn_cell_glut_large']->['E'] created!\n",
      "2022-07-01 10:23:24,712 - INFO - tvb_multiscale.core.spiking_models.devices - <class 'tvb_multiscale.core.spiking_models.devices.DeviceSet'> of model spike_recorder for ['io_cell']->['E'] created!\n",
      "2022-07-01 10:23:24,712 - INFO - tvb_multiscale.core.spiking_models.devices - <class 'tvb_multiscale.core.spiking_models.devices.DeviceSet'> of model spike_recorder for ['io_cell']->['E'] created!\n",
      "2022-07-01 10:23:24,729 - ERROR - tvb_multiscale.core.tvb.cosimulator.cosimulator_serial - Bad Simulator.integrator.noise.nsig shape: (2, 1, 1)\n",
      "2022-07-01 10:23:24,755 - WARNING - tvb_multiscale.core.tvb.cosimulator.cosimulator_serial - Current step is not 0 upon configuration!\n",
      "Setting it to 0. Initial condition might be affected!\n",
      "Current step is not 0 upon configuration!\n",
      "Setting it to 0. Initial condition might be affected!\n",
      "\n",
      "\n",
      "output (TVB->NEST coupling) interfaces:\n",
      "\n",
      "TVBtoSpikeNetInterfaces (\n",
      "  title .................................. 'TVBtoSpikeNetInterfaces gid: 3e72a166-769b-4238-953d-d6c78f79a4b8'\n",
      "  Type ................................... 'TVBtoSpikeNetInterfaces'\n",
      "  dt ..................................... 0.1\n",
      "  interfaces[0] .......................... '--------------------'\n",
      "  interfaces[0].title .................... 'TVBtoNESTInterface gid: 23414c3d-d640-4e18-8c2e-1aea69aa2118'\n",
      "  interfaces[0].Type ..................... 'TVBtoNESTInterface'\n",
      "  interfaces[0].transformer .............. LinearRate gid: b39524c3-4d87-4944-a964-98ab4f33e699\n",
      "  interfaces[0].monitor_ind .............. 0\n",
      "  interfaces[0].coupling_mode ............ 'TVB'\n",
      "  interfaces[0].proxy_inds ............... --------------------\n",
      "  interfaces[0].proxy_inds: shape ........ (2,)\n",
      "  interfaces[0].proxy_inds: dtype ........ int64\n",
      "  interfaces[0].proxy_inds: values ....... [[96], [203]]\n",
      "  interfaces[0].voi ...................... --------------------\n",
      "  interfaces[0].voi: shape ............... (1,)\n",
      "  interfaces[0].voi: dtype ............... int64\n",
      "  interfaces[0].voi: values .............. 0\n",
      "  interfaces[0].voi_labels ............... --------------------\n",
      "  interfaces[0].voi_labels: shape ........ (1,)\n",
      "  interfaces[0].voi_labels: dtype ........ <U128\n",
      "  interfaces[0].voi_labels: values ....... E\n",
      "  interfaces[0].proxy .................... NESTInhomogeneousPoissonGeneratorSet gid: f7f4ea7b-881a-426b-95b3-155639223b2f\n",
      "  interfaces[0].spiking_network .......... NESTNetwork gid: 13e38f4e-a493-4f50-ac26-cfe82b5ce26e\n",
      "  interfaces[0].spiking_proxy_inds ....... --------------------\n",
      "  interfaces[0].spiking_proxy_inds: shape  (2,)\n",
      "  interfaces[0].spiking_proxy_inds: dtype  int64\n",
      "  interfaces[0].spiking_proxy_inds: values  [[96], [203]]\n",
      "  interfaces[0].populations .............. --------------------\n",
      "  interfaces[0].populations: shape ....... (1,)\n",
      "  interfaces[0].populations: dtype ....... <U128\n",
      "  interfaces[0].populations: values ...... parrot_medulla\n",
      "  interfaces[0].model .................... 'RATE'\n",
      "  interfaces[0].gid ...................... UUID('23414c3d-d640-4e18-8c2e-1aea69aa2118')\n",
      "  interfaces[1] .......................... '--------------------'\n",
      "  interfaces[1].title .................... 'TVBtoNESTInterface gid: fe29ce98-b664-483d-b328-73031aeca972'\n",
      "  interfaces[1].Type ..................... 'TVBtoNESTInterface'\n",
      "  interfaces[1].transformer .............. LinearRate gid: 724df719-042e-48e1-8dec-cc9deeeb022e\n",
      "  interfaces[1].monitor_ind .............. 0\n",
      "  interfaces[1].coupling_mode ............ 'TVB'\n",
      "  interfaces[1].proxy_inds ............... --------------------\n",
      "  interfaces[1].proxy_inds: shape ........ (2,)\n",
      "  interfaces[1].proxy_inds: dtype ........ int64\n",
      "  interfaces[1].proxy_inds: values ....... [[95], [202]]\n",
      "  interfaces[1].voi ...................... --------------------\n",
      "  interfaces[1].voi: shape ............... (1,)\n",
      "  interfaces[1].voi: dtype ............... int64\n",
      "  interfaces[1].voi: values .............. 0\n",
      "  interfaces[1].voi_labels ............... --------------------\n",
      "  interfaces[1].voi_labels: shape ........ (1,)\n",
      "  interfaces[1].voi_labels: dtype ........ <U128\n",
      "  interfaces[1].voi_labels: values ....... E\n",
      "  interfaces[1].proxy .................... NESTInhomogeneousPoissonGeneratorSet gid: 353ee8d3-9beb-46e5-b59f-b9dbd00ab0a0\n",
      "  interfaces[1].spiking_network .......... NESTNetwork gid: 13e38f4e-a493-4f50-ac26-cfe82b5ce26e\n",
      "  interfaces[1].spiking_proxy_inds ....... --------------------\n",
      "  interfaces[1].spiking_proxy_inds: shape  (2,)\n",
      "  interfaces[1].spiking_proxy_inds: dtype  int64\n",
      "  interfaces[1].spiking_proxy_inds: values  [[95], [202]]\n",
      "  interfaces[1].populations .............. --------------------\n",
      "  interfaces[1].populations: shape ....... (1,)\n",
      "  interfaces[1].populations: dtype ....... <U128\n",
      "  interfaces[1].populations: values ...... parrot_ponssens\n",
      "  interfaces[1].model .................... 'RATE'\n",
      "  interfaces[1].gid ...................... UUID('fe29ce98-b664-483d-b328-73031aeca972')\n",
      "  interfaces[2] .......................... '--------------------'\n",
      "  interfaces[2].title .................... 'TVBtoNESTInterface gid: 527d4088-68fd-4720-9aca-cfa4dc2d9047'\n",
      "  interfaces[2].Type ..................... 'TVBtoNESTInterface'\n",
      "  interfaces[2].transformer .............. LinearRate gid: f4d13f9e-8f48-4338-963e-771206d983fe\n",
      "  interfaces[2].monitor_ind .............. 0\n",
      "  interfaces[2].coupling_mode ............ 'TVB'\n",
      "  interfaces[2].proxy_inds ............... --------------------\n",
      "  interfaces[2].proxy_inds: shape ........ (2,)\n",
      "  interfaces[2].proxy_inds: dtype ........ int64\n",
      "  interfaces[2].proxy_inds: values ....... [[104], [211]]\n",
      "  interfaces[2].voi ...................... --------------------\n",
      "  interfaces[2].voi: shape ............... (1,)\n",
      "  interfaces[2].voi: dtype ............... int64\n",
      "  interfaces[2].voi: values .............. 0\n",
      "  interfaces[2].voi_labels ............... --------------------\n",
      "  interfaces[2].voi_labels: shape ........ (1,)\n",
      "  interfaces[2].voi_labels: dtype ........ <U128\n",
      "  interfaces[2].voi_labels: values ....... E\n",
      "  interfaces[2].proxy .................... NESTInhomogeneousPoissonGeneratorSet gid: b6d8ac67-9418-4532-ac1c-fc6e69354772\n",
      "  interfaces[2].spiking_network .......... NESTNetwork gid: 13e38f4e-a493-4f50-ac26-cfe82b5ce26e\n",
      "  interfaces[2].spiking_proxy_inds ....... --------------------\n",
      "  interfaces[2].spiking_proxy_inds: shape  (2,)\n",
      "  interfaces[2].spiking_proxy_inds: dtype  int64\n",
      "  interfaces[2].spiking_proxy_inds: values  [[104], [211]]\n",
      "  interfaces[2].populations .............. --------------------\n",
      "  interfaces[2].populations: shape ....... (1,)\n",
      "  interfaces[2].populations: dtype ....... <U128\n",
      "  interfaces[2].populations: values ...... mossy_fibers\n",
      "  interfaces[2].model .................... 'RATE'\n",
      "  interfaces[2].gid ...................... UUID('527d4088-68fd-4720-9aca-cfa4dc2d9047')\n",
      "  interfaces[3] .......................... '--------------------'\n",
      "  interfaces[3].title .................... 'TVBtoNESTInterface gid: 9efd5cf5-d3c8-4297-8fa6-6cb0c4820524'\n",
      "  interfaces[3].Type ..................... 'TVBtoNESTInterface'\n",
      "  interfaces[3].transformer .............. LinearRate gid: 6daaad36-834b-4260-a530-53a46513b09d\n",
      "  interfaces[3].monitor_ind .............. 0\n",
      "  interfaces[3].coupling_mode ............ 'TVB'\n",
      "  interfaces[3].proxy_inds ............... --------------------\n",
      "  interfaces[3].proxy_inds: shape ........ (2,)\n",
      "  interfaces[3].proxy_inds: dtype ........ int64\n",
      "  interfaces[3].proxy_inds: values ....... [[102], [209]]\n",
      "  interfaces[3].voi ...................... --------------------\n",
      "  interfaces[3].voi: shape ............... (1,)\n",
      "  interfaces[3].voi: dtype ............... int64\n",
      "  interfaces[3].voi: values .............. 0\n",
      "  interfaces[3].voi_labels ............... --------------------\n",
      "  interfaces[3].voi_labels: shape ........ (1,)\n",
      "  interfaces[3].voi_labels: dtype ........ <U128\n",
      "  interfaces[3].voi_labels: values ....... E\n",
      "  interfaces[3].proxy .................... NESTInhomogeneousPoissonGeneratorSet gid: 2337130b-b95b-4c23-9bbd-3835dc8f267b\n",
      "  interfaces[3].spiking_network .......... NESTNetwork gid: 13e38f4e-a493-4f50-ac26-cfe82b5ce26e\n",
      "  interfaces[3].spiking_proxy_inds ....... --------------------\n",
      "  interfaces[3].spiking_proxy_inds: shape  (2,)\n",
      "  interfaces[3].spiking_proxy_inds: dtype  int64\n",
      "  interfaces[3].spiking_proxy_inds: values  [[102], [209]]\n",
      "  interfaces[3].populations .............. --------------------\n",
      "  interfaces[3].populations: shape ....... (1,)\n",
      "  interfaces[3].populations: dtype ....... <U128\n",
      "  interfaces[3].populations: values ...... io_cell\n",
      "  interfaces[3].model .................... 'RATE'\n",
      "  interfaces[3].gid ...................... UUID('9efd5cf5-d3c8-4297-8fa6-6cb0c4820524')\n",
      "  synchronization_time ................... 1.0\n",
      "  synchronization_n_step ................. 10\n",
      "  gid .................................... UUID('3e72a166-769b-4238-953d-d6c78f79a4b8')\n",
      "  proxy_inds_unique ...................... --------------------\n",
      "  proxy_inds_unique: shape ............... (8,)\n",
      "  proxy_inds_unique: dtype ............... int64\n",
      "  proxy_inds_unique: unique_values ....... [[95, 96], [102], [104], [202, 203], [209], [211]]\n",
      ")\n",
      "\n",
      "\n",
      "input (NEST->TVB update) interfaces:\n",
      "\n",
      "SpikeNetToTVBInterfaces (\n",
      "  title .................................. 'SpikeNetToTVBInterfaces gid: d9682d07-e2bd-479b-b6d0-4088c67d1df7'\n",
      "  Type ................................... 'SpikeNetToTVBInterfaces'\n",
      "  interfaces[0] .......................... '--------------------'\n",
      "  interfaces[0].title .................... 'NESTtoTVBInterface gid: e969529a-2618-47c8-bddd-0892728ecffd'\n",
      "  interfaces[0].Type ..................... 'NESTtoTVBInterface'\n",
      "  interfaces[0].transformer .............. ElephantSpikesHistogramRate gid: d3e96327-1f04-4a57-a63c-35306ae8e303\n",
      "  interfaces[0].proxy_inds ............... --------------------\n",
      "  interfaces[0].proxy_inds: shape ........ (2,)\n",
      "  interfaces[0].proxy_inds: dtype ........ int64\n",
      "  interfaces[0].proxy_inds: values ....... [[96], [203]]\n",
      "  interfaces[0].voi ...................... --------------------\n",
      "  interfaces[0].voi: shape ............... (1,)\n",
      "  interfaces[0].voi: dtype ............... int64\n",
      "  interfaces[0].voi: values .............. 0\n",
      "  interfaces[0].voi_labels ............... --------------------\n",
      "  interfaces[0].voi_labels: shape ........ (1,)\n",
      "  interfaces[0].voi_labels: dtype ........ <U128\n",
      "  interfaces[0].voi_labels: values ....... E\n",
      "  interfaces[0].proxy .................... NESTSpikeRecorderTotalSet gid: 41849b28-6344-4991-9883-f54a3546b325\n",
      "  interfaces[0].dt ....................... 0.1\n",
      "  interfaces[0].times .................... --------------------\n",
      "  interfaces[0].times: shape ............. (2,)\n",
      "  interfaces[0].times: dtype ............. int64\n",
      "  interfaces[0].times: values ............ [[0, 1]]\n",
      "  interfaces[0].spiking_network .......... NESTNetwork gid: 13e38f4e-a493-4f50-ac26-cfe82b5ce26e\n",
      "  interfaces[0].spiking_proxy_inds ....... --------------------\n",
      "  interfaces[0].spiking_proxy_inds: shape  (2,)\n",
      "  interfaces[0].spiking_proxy_inds: dtype  int64\n",
      "  interfaces[0].spiking_proxy_inds: values  [[96], [203]]\n",
      "  interfaces[0].populations .............. --------------------\n",
      "  interfaces[0].populations: shape ....... (1,)\n",
      "  interfaces[0].populations: dtype ....... <U128\n",
      "  interfaces[0].populations: values ...... parrot_medulla\n",
      "  interfaces[0].model .................... 'spike_recorder'\n",
      "  interfaces[0].gid ...................... UUID('e969529a-2618-47c8-bddd-0892728ecffd')\n",
      "  interfaces[1] .......................... '--------------------'\n",
      "  interfaces[1].title .................... 'NESTtoTVBInterface gid: 280906fc-d68c-42f1-92e1-66d4aced8186'\n",
      "  interfaces[1].Type ..................... 'NESTtoTVBInterface'\n",
      "  interfaces[1].transformer .............. ElephantSpikesHistogramRate gid: 7d4ad2ba-b045-49b9-a30b-ce22666bfe46\n",
      "  interfaces[1].proxy_inds ............... --------------------\n",
      "  interfaces[1].proxy_inds: shape ........ (2,)\n",
      "  interfaces[1].proxy_inds: dtype ........ int64\n",
      "  interfaces[1].proxy_inds: values ....... [[95], [202]]\n",
      "  interfaces[1].voi ...................... --------------------\n",
      "  interfaces[1].voi: shape ............... (1,)\n",
      "  interfaces[1].voi: dtype ............... int64\n",
      "  interfaces[1].voi: values .............. 0\n",
      "  interfaces[1].voi_labels ............... --------------------\n",
      "  interfaces[1].voi_labels: shape ........ (1,)\n",
      "  interfaces[1].voi_labels: dtype ........ <U128\n",
      "  interfaces[1].voi_labels: values ....... E\n",
      "  interfaces[1].proxy .................... NESTSpikeRecorderTotalSet gid: bbf4fb53-f428-4596-aca0-b96e28c68fb3\n",
      "  interfaces[1].dt ....................... 0.1\n",
      "  interfaces[1].times .................... --------------------\n",
      "  interfaces[1].times: shape ............. (2,)\n",
      "  interfaces[1].times: dtype ............. int64\n",
      "  interfaces[1].times: values ............ [[0, 1]]\n",
      "  interfaces[1].spiking_network .......... NESTNetwork gid: 13e38f4e-a493-4f50-ac26-cfe82b5ce26e\n",
      "  interfaces[1].spiking_proxy_inds ....... --------------------\n",
      "  interfaces[1].spiking_proxy_inds: shape  (2,)\n",
      "  interfaces[1].spiking_proxy_inds: dtype  int64\n",
      "  interfaces[1].spiking_proxy_inds: values  [[95], [202]]\n",
      "  interfaces[1].populations .............. --------------------\n",
      "  interfaces[1].populations: shape ....... (1,)\n",
      "  interfaces[1].populations: dtype ....... <U128\n",
      "  interfaces[1].populations: values ...... parrot_ponssens\n",
      "  interfaces[1].model .................... 'spike_recorder'\n",
      "  interfaces[1].gid ...................... UUID('280906fc-d68c-42f1-92e1-66d4aced8186')\n",
      "  interfaces[2] .......................... '--------------------'\n",
      "  interfaces[2].title .................... 'NESTtoTVBInterface gid: 1b1351b2-ac78-411f-aaad-694c6f6439bc'\n",
      "  interfaces[2].Type ..................... 'NESTtoTVBInterface'\n",
      "  interfaces[2].transformer .............. ElephantSpikesHistogramRate gid: 984bedec-0172-4088-bf76-97451636ff78\n",
      "  interfaces[2].proxy_inds ............... --------------------\n",
      "  interfaces[2].proxy_inds: shape ........ (2,)\n",
      "  interfaces[2].proxy_inds: dtype ........ int64\n",
      "  interfaces[2].proxy_inds: values ....... [[104], [211]]\n",
      "  interfaces[2].voi ...................... --------------------\n",
      "  interfaces[2].voi: shape ............... (1,)\n",
      "  interfaces[2].voi: dtype ............... int64\n",
      "  interfaces[2].voi: values .............. 0\n",
      "  interfaces[2].voi_labels ............... --------------------\n",
      "  interfaces[2].voi_labels: shape ........ (1,)\n",
      "  interfaces[2].voi_labels: dtype ........ <U128\n",
      "  interfaces[2].voi_labels: values ....... E\n",
      "  interfaces[2].proxy .................... NESTSpikeRecorderTotalSet gid: e2f7a8c9-6c34-44fb-a75e-60569c41cba5\n",
      "  interfaces[2].dt ....................... 0.1\n",
      "  interfaces[2].times .................... --------------------\n",
      "  interfaces[2].times: shape ............. (2,)\n",
      "  interfaces[2].times: dtype ............. int64\n",
      "  interfaces[2].times: values ............ [[0, 1]]\n",
      "  interfaces[2].spiking_network .......... NESTNetwork gid: 13e38f4e-a493-4f50-ac26-cfe82b5ce26e\n",
      "  interfaces[2].spiking_proxy_inds ....... --------------------\n",
      "  interfaces[2].spiking_proxy_inds: shape  (2,)\n",
      "  interfaces[2].spiking_proxy_inds: dtype  int64\n",
      "  interfaces[2].spiking_proxy_inds: values  [[104], [211]]\n",
      "  interfaces[2].populations .............. --------------------\n",
      "  interfaces[2].populations: shape ....... (1,)\n",
      "  interfaces[2].populations: dtype ....... <U128\n",
      "  interfaces[2].populations: values ...... granule_cell\n",
      "  interfaces[2].model .................... 'spike_recorder'\n",
      "  interfaces[2].gid ...................... UUID('1b1351b2-ac78-411f-aaad-694c6f6439bc')\n",
      "  interfaces[3] .......................... '--------------------'\n",
      "  interfaces[3].title .................... 'NESTtoTVBInterface gid: 75e73fc2-3543-47b6-839c-7533d0df0f17'\n",
      "  interfaces[3].Type ..................... 'NESTtoTVBInterface'\n",
      "  interfaces[3].transformer .............. ElephantSpikesHistogramRate gid: 6a51b836-ef4f-4cf0-9c50-8e679a6a59f5\n",
      "  interfaces[3].proxy_inds ............... --------------------\n",
      "  interfaces[3].proxy_inds: shape ........ (2,)\n",
      "  interfaces[3].proxy_inds: dtype ........ int64\n",
      "  interfaces[3].proxy_inds: values ....... [[106], [213]]\n",
      "  interfaces[3].voi ...................... --------------------\n",
      "  interfaces[3].voi: shape ............... (1,)\n",
      "  interfaces[3].voi: dtype ............... int64\n",
      "  interfaces[3].voi: values .............. 0\n",
      "  interfaces[3].voi_labels ............... --------------------\n",
      "  interfaces[3].voi_labels: shape ........ (1,)\n",
      "  interfaces[3].voi_labels: dtype ........ <U128\n",
      "  interfaces[3].voi_labels: values ....... E\n",
      "  interfaces[3].proxy .................... NESTSpikeRecorderTotalSet gid: cab86cd5-fb34-4d1d-b88d-52944f64a74e\n",
      "  interfaces[3].dt ....................... 0.1\n",
      "  interfaces[3].times .................... --------------------\n",
      "  interfaces[3].times: shape ............. (2,)\n",
      "  interfaces[3].times: dtype ............. int64\n",
      "  interfaces[3].times: values ............ [[0, 1]]\n",
      "  interfaces[3].spiking_network .......... NESTNetwork gid: 13e38f4e-a493-4f50-ac26-cfe82b5ce26e\n",
      "  interfaces[3].spiking_proxy_inds ....... --------------------\n",
      "  interfaces[3].spiking_proxy_inds: shape  (2,)\n",
      "  interfaces[3].spiking_proxy_inds: dtype  int64\n",
      "  interfaces[3].spiking_proxy_inds: values  [[106], [213]]\n",
      "  interfaces[3].populations .............. --------------------\n",
      "  interfaces[3].populations: shape ....... (1,)\n",
      "  interfaces[3].populations: dtype ....... <U128\n",
      "  interfaces[3].populations: values ...... dcn_cell_glut_large\n",
      "  interfaces[3].model .................... 'spike_recorder'\n",
      "  interfaces[3].gid ...................... UUID('75e73fc2-3543-47b6-839c-7533d0df0f17')\n",
      "  interfaces[4] .......................... '--------------------'\n",
      "  interfaces[4].title .................... 'NESTtoTVBInterface gid: 1d544eeb-af8d-4001-9bda-e9d14d010ad6'\n",
      "  interfaces[4].Type ..................... 'NESTtoTVBInterface'\n",
      "  interfaces[4].transformer .............. ElephantSpikesHistogramRate gid: 2029b1e3-12f0-414e-9414-8f713f39c3d7\n",
      "  interfaces[4].proxy_inds ............... --------------------\n",
      "  interfaces[4].proxy_inds: shape ........ (2,)\n",
      "  interfaces[4].proxy_inds: dtype ........ int64\n",
      "  interfaces[4].proxy_inds: values ....... [[102], [209]]\n",
      "  interfaces[4].voi ...................... --------------------\n",
      "  interfaces[4].voi: shape ............... (1,)\n",
      "  interfaces[4].voi: dtype ............... int64\n",
      "  interfaces[4].voi: values .............. 0\n",
      "  interfaces[4].voi_labels ............... --------------------\n",
      "  interfaces[4].voi_labels: shape ........ (1,)\n",
      "  interfaces[4].voi_labels: dtype ........ <U128\n",
      "  interfaces[4].voi_labels: values ....... E\n",
      "  interfaces[4].proxy .................... NESTSpikeRecorderTotalSet gid: 03cd23dc-f690-4d61-ad39-0d21380926de\n",
      "  interfaces[4].dt ....................... 0.1\n",
      "  interfaces[4].times .................... --------------------\n",
      "  interfaces[4].times: shape ............. (2,)\n",
      "  interfaces[4].times: dtype ............. int64\n",
      "  interfaces[4].times: values ............ [[0, 1]]\n",
      "  interfaces[4].spiking_network .......... NESTNetwork gid: 13e38f4e-a493-4f50-ac26-cfe82b5ce26e\n",
      "  interfaces[4].spiking_proxy_inds ....... --------------------\n",
      "  interfaces[4].spiking_proxy_inds: shape  (2,)\n",
      "  interfaces[4].spiking_proxy_inds: dtype  int64\n",
      "  interfaces[4].spiking_proxy_inds: values  [[102], [209]]\n",
      "  interfaces[4].populations .............. --------------------\n",
      "  interfaces[4].populations: shape ....... (1,)\n",
      "  interfaces[4].populations: dtype ....... <U128\n",
      "  interfaces[4].populations: values ...... io_cell\n",
      "  interfaces[4].model .................... 'spike_recorder'\n",
      "  interfaces[4].gid ...................... UUID('1d544eeb-af8d-4001-9bda-e9d14d010ad6')\n",
      "  synchronization_time ................... 1.0\n",
      "  synchronization_n_step ................. 10\n",
      "  gid .................................... UUID('d9682d07-e2bd-479b-b6d0-4088c67d1df7')\n",
      "  proxy_inds_unique ...................... --------------------\n",
      "  proxy_inds_unique: shape ............... (10,)\n",
      "  proxy_inds_unique: dtype ............... int64\n",
      "  proxy_inds_unique: unique_values ....... [[95, 96], [102], [104], [106], [202, 203], [209], [211], [213]]\n",
      ")\n"
     ]
    },
    {
     "name": "stderr",
     "output_type": "stream",
     "text": [
      "/home/docker/packages/tvb-multiscale/tvb_multiscale/core/utils/data_structures_utils.py:337: VisibleDeprecationWarning:Creating an ndarray from ragged nested sequences (which is a list-or-tuple of lists-or-tuples-or ndarrays with different lengths or shapes) is deprecated. If you meant to do this, you must specify 'dtype=object' when creating the ndarray.\n"
     ]
    }
   ],
   "source": [
    "simulator, nest_network = build_tvb_nest_interfaces(simulator, nest_network, nest_nodes_inds, config)"
   ]
  },
  {
   "cell_type": "code",
   "execution_count": null,
   "id": "75bda28b",
   "metadata": {
    "scrolled": false
   },
   "outputs": [
    {
     "name": "stdout",
     "output_type": "stream",
     "text": [
      "Simulating TVB-NEST...\n",
      "2022-07-01 10:23:36,134 - ERROR - tvb_multiscale.core.tvb.cosimulator.cosimulator_serial - Bad Simulator.integrator.noise.nsig shape: (2, 1, 1)\n",
      "2022-07-01 10:23:36,147 - WARNING - tvb_multiscale.core.tvb.cosimulator.cosimulator_serial - Current step is not 0 upon configuration!\n",
      "Setting it to 0. Initial condition might be affected!\n",
      "Current step is not 0 upon configuration!\n",
      "Setting it to 0. Initial condition might be affected!\n",
      "...0.091% completed in 1.39447 sec!!"
     ]
    },
    {
     "name": "stderr",
     "output_type": "stream",
     "text": [
      "/home/docker/env/neurosci/lib/python3.9/site-packages/elephant/conversion.py:1170: UserWarning:Binning discarded 1 last spike(s) of the input spiketrain\n"
     ]
    },
    {
     "name": "stdout",
     "output_type": "stream",
     "text": [
      "...0.182% completed in 2.97109 sec!"
     ]
    },
    {
     "name": "stderr",
     "output_type": "stream",
     "text": [
      "/home/docker/env/neurosci/lib/python3.9/site-packages/elephant/conversion.py:1170: UserWarning:Binning discarded 2 last spike(s) of the input spiketrain\n"
     ]
    },
    {
     "name": "stdout",
     "output_type": "stream",
     "text": [
      "...0.318% completed in 5.96794 sec!"
     ]
    },
    {
     "name": "stderr",
     "output_type": "stream",
     "text": [
      "/home/docker/env/neurosci/lib/python3.9/site-packages/elephant/conversion.py:1170: UserWarning:Binning discarded 2914 last spike(s) of the input spiketrain\n",
      "/home/docker/env/neurosci/lib/python3.9/site-packages/elephant/conversion.py:1170: UserWarning:Binning discarded 2803 last spike(s) of the input spiketrain\n",
      "/home/docker/env/neurosci/lib/python3.9/site-packages/elephant/conversion.py:1170: UserWarning:Binning discarded 149 last spike(s) of the input spiketrain\n",
      "/home/docker/env/neurosci/lib/python3.9/site-packages/elephant/conversion.py:1170: UserWarning:Binning discarded 70 last spike(s) of the input spiketrain\n"
     ]
    },
    {
     "name": "stdout",
     "output_type": "stream",
     "text": [
      "\r",
      "...0.364% completed in 6.71204 sec!\r",
      "...0.409% completed in 7.40866 sec!"
     ]
    },
    {
     "name": "stderr",
     "output_type": "stream",
     "text": [
      "/home/docker/env/neurosci/lib/python3.9/site-packages/elephant/conversion.py:1170: UserWarning:Binning discarded 774 last spike(s) of the input spiketrain\n",
      "/home/docker/env/neurosci/lib/python3.9/site-packages/elephant/conversion.py:1170: UserWarning:Binning discarded 151 last spike(s) of the input spiketrain\n",
      "/home/docker/env/neurosci/lib/python3.9/site-packages/elephant/conversion.py:1170: UserWarning:Binning discarded 3074 last spike(s) of the input spiketrain\n",
      "/home/docker/env/neurosci/lib/python3.9/site-packages/elephant/conversion.py:1170: UserWarning:Binning discarded 211 last spike(s) of the input spiketrain\n",
      "/home/docker/env/neurosci/lib/python3.9/site-packages/elephant/conversion.py:1170: UserWarning:Binning discarded 22 last spike(s) of the input spiketrain\n",
      "/home/docker/env/neurosci/lib/python3.9/site-packages/elephant/conversion.py:1170: UserWarning:Binning discarded 37 last spike(s) of the input spiketrain\n"
     ]
    },
    {
     "name": "stdout",
     "output_type": "stream",
     "text": [
      "\r",
      "...0.455% completed in 8.03036 sec!"
     ]
    },
    {
     "name": "stderr",
     "output_type": "stream",
     "text": [
      "/home/docker/env/neurosci/lib/python3.9/site-packages/elephant/conversion.py:1170: UserWarning:Binning discarded 27 last spike(s) of the input spiketrain\n"
     ]
    },
    {
     "name": "stdout",
     "output_type": "stream",
     "text": [
      "\r",
      "...0.500% completed in 8.75184 sec!"
     ]
    },
    {
     "name": "stderr",
     "output_type": "stream",
     "text": [
      "/home/docker/env/neurosci/lib/python3.9/site-packages/elephant/conversion.py:1170: UserWarning:Binning discarded 1742 last spike(s) of the input spiketrain\n",
      "/home/docker/env/neurosci/lib/python3.9/site-packages/elephant/conversion.py:1170: UserWarning:Binning discarded 88 last spike(s) of the input spiketrain\n"
     ]
    },
    {
     "name": "stdout",
     "output_type": "stream",
     "text": [
      "\r",
      "...0.545% completed in 9.51844 sec!"
     ]
    },
    {
     "name": "stderr",
     "output_type": "stream",
     "text": [
      "/home/docker/env/neurosci/lib/python3.9/site-packages/elephant/conversion.py:1170: UserWarning:Binning discarded 360 last spike(s) of the input spiketrain\n",
      "/home/docker/env/neurosci/lib/python3.9/site-packages/elephant/conversion.py:1170: UserWarning:Binning discarded 749 last spike(s) of the input spiketrain\n"
     ]
    },
    {
     "name": "stdout",
     "output_type": "stream",
     "text": [
      "\r",
      "...0.591% completed in 10.3241 sec!"
     ]
    },
    {
     "name": "stderr",
     "output_type": "stream",
     "text": [
      "/home/docker/env/neurosci/lib/python3.9/site-packages/elephant/conversion.py:1170: UserWarning:Binning discarded 1384 last spike(s) of the input spiketrain\n",
      "/home/docker/env/neurosci/lib/python3.9/site-packages/elephant/conversion.py:1170: UserWarning:Binning discarded 34 last spike(s) of the input spiketrain\n"
     ]
    },
    {
     "name": "stdout",
     "output_type": "stream",
     "text": [
      "\r",
      "...0.636% completed in 11.0596 sec!\r",
      "...0.682% completed in 11.8174 sec!"
     ]
    },
    {
     "name": "stderr",
     "output_type": "stream",
     "text": [
      "/home/docker/env/neurosci/lib/python3.9/site-packages/elephant/conversion.py:1170: UserWarning:Binning discarded 763 last spike(s) of the input spiketrain\n",
      "/home/docker/env/neurosci/lib/python3.9/site-packages/elephant/conversion.py:1170: UserWarning:Binning discarded 751 last spike(s) of the input spiketrain\n",
      "/home/docker/env/neurosci/lib/python3.9/site-packages/elephant/conversion.py:1170: UserWarning:Binning discarded 409 last spike(s) of the input spiketrain\n",
      "/home/docker/env/neurosci/lib/python3.9/site-packages/elephant/conversion.py:1170: UserWarning:Binning discarded 325 last spike(s) of the input spiketrain\n",
      "/home/docker/env/neurosci/lib/python3.9/site-packages/elephant/conversion.py:1170: UserWarning:Binning discarded 9 last spike(s) of the input spiketrain\n"
     ]
    },
    {
     "name": "stdout",
     "output_type": "stream",
     "text": [
      "\r",
      "...0.727% completed in 12.532 sec!"
     ]
    },
    {
     "name": "stderr",
     "output_type": "stream",
     "text": [
      "/home/docker/env/neurosci/lib/python3.9/site-packages/elephant/conversion.py:1170: UserWarning:Binning discarded 133 last spike(s) of the input spiketrain\n",
      "/home/docker/env/neurosci/lib/python3.9/site-packages/elephant/conversion.py:1170: UserWarning:Binning discarded 4 last spike(s) of the input spiketrain\n"
     ]
    },
    {
     "name": "stdout",
     "output_type": "stream",
     "text": [
      "\r",
      "...0.773% completed in 13.2798 sec!"
     ]
    },
    {
     "name": "stderr",
     "output_type": "stream",
     "text": [
      "/home/docker/env/neurosci/lib/python3.9/site-packages/elephant/conversion.py:1170: UserWarning:Binning discarded 703 last spike(s) of the input spiketrain\n",
      "/home/docker/env/neurosci/lib/python3.9/site-packages/elephant/conversion.py:1170: UserWarning:Binning discarded 1590 last spike(s) of the input spiketrain\n"
     ]
    },
    {
     "name": "stdout",
     "output_type": "stream",
     "text": [
      "\r",
      "...0.818% completed in 14.0373 sec!"
     ]
    },
    {
     "name": "stderr",
     "output_type": "stream",
     "text": [
      "/home/docker/env/neurosci/lib/python3.9/site-packages/elephant/conversion.py:1170: UserWarning:Binning discarded 183 last spike(s) of the input spiketrain\n",
      "/home/docker/env/neurosci/lib/python3.9/site-packages/elephant/conversion.py:1170: UserWarning:Binning discarded 5 last spike(s) of the input spiketrain\n",
      "/home/docker/env/neurosci/lib/python3.9/site-packages/elephant/conversion.py:1170: UserWarning:Binning discarded 6 last spike(s) of the input spiketrain\n"
     ]
    },
    {
     "name": "stdout",
     "output_type": "stream",
     "text": [
      "\r",
      "...0.864% completed in 14.8307 sec!"
     ]
    },
    {
     "name": "stderr",
     "output_type": "stream",
     "text": [
      "/home/docker/env/neurosci/lib/python3.9/site-packages/elephant/conversion.py:1170: UserWarning:Binning discarded 2709 last spike(s) of the input spiketrain\n",
      "/home/docker/env/neurosci/lib/python3.9/site-packages/elephant/conversion.py:1170: UserWarning:Binning discarded 184 last spike(s) of the input spiketrain\n"
     ]
    },
    {
     "name": "stdout",
     "output_type": "stream",
     "text": [
      "\r",
      "...0.909% completed in 15.5353 sec!"
     ]
    },
    {
     "name": "stderr",
     "output_type": "stream",
     "text": [
      "/home/docker/env/neurosci/lib/python3.9/site-packages/elephant/conversion.py:1170: UserWarning:Binning discarded 336 last spike(s) of the input spiketrain\n",
      "/home/docker/env/neurosci/lib/python3.9/site-packages/elephant/conversion.py:1170: UserWarning:Binning discarded 437 last spike(s) of the input spiketrain\n"
     ]
    },
    {
     "name": "stdout",
     "output_type": "stream",
     "text": [
      "\r",
      "...0.955% completed in 16.2995 sec!"
     ]
    },
    {
     "name": "stderr",
     "output_type": "stream",
     "text": [
      "/home/docker/env/neurosci/lib/python3.9/site-packages/elephant/conversion.py:1170: UserWarning:Binning discarded 147 last spike(s) of the input spiketrain\n",
      "/home/docker/env/neurosci/lib/python3.9/site-packages/elephant/conversion.py:1170: UserWarning:Binning discarded 778 last spike(s) of the input spiketrain\n"
     ]
    },
    {
     "name": "stdout",
     "output_type": "stream",
     "text": [
      "\r",
      "...1.000% completed in 17.0539 sec!"
     ]
    },
    {
     "name": "stderr",
     "output_type": "stream",
     "text": [
      "/home/docker/env/neurosci/lib/python3.9/site-packages/elephant/conversion.py:1170: UserWarning:Binning discarded 793 last spike(s) of the input spiketrain\n",
      "/home/docker/env/neurosci/lib/python3.9/site-packages/elephant/conversion.py:1170: UserWarning:Binning discarded 479 last spike(s) of the input spiketrain\n"
     ]
    },
    {
     "name": "stdout",
     "output_type": "stream",
     "text": [
      "\r",
      "...1.045% completed in 17.8388 sec!"
     ]
    },
    {
     "name": "stderr",
     "output_type": "stream",
     "text": [
      "/home/docker/env/neurosci/lib/python3.9/site-packages/elephant/conversion.py:1170: UserWarning:Binning discarded 209 last spike(s) of the input spiketrain\n",
      "/home/docker/env/neurosci/lib/python3.9/site-packages/elephant/conversion.py:1170: UserWarning:Binning discarded 148 last spike(s) of the input spiketrain\n"
     ]
    },
    {
     "name": "stdout",
     "output_type": "stream",
     "text": [
      "\r",
      "...1.091% completed in 18.5941 sec!\r",
      "...1.136% completed in 19.4 sec!"
     ]
    },
    {
     "name": "stderr",
     "output_type": "stream",
     "text": [
      "/home/docker/env/neurosci/lib/python3.9/site-packages/elephant/conversion.py:1170: UserWarning:Binning discarded 204 last spike(s) of the input spiketrain\n",
      "/home/docker/env/neurosci/lib/python3.9/site-packages/elephant/conversion.py:1170: UserWarning:Binning discarded 1152 last spike(s) of the input spiketrain\n",
      "/home/docker/env/neurosci/lib/python3.9/site-packages/elephant/conversion.py:1170: UserWarning:Binning discarded 3 last spike(s) of the input spiketrain\n",
      "/home/docker/env/neurosci/lib/python3.9/site-packages/elephant/conversion.py:1170: UserWarning:Binning discarded 182 last spike(s) of the input spiketrain\n",
      "/home/docker/env/neurosci/lib/python3.9/site-packages/elephant/conversion.py:1170: UserWarning:Binning discarded 139 last spike(s) of the input spiketrain\n"
     ]
    },
    {
     "name": "stdout",
     "output_type": "stream",
     "text": [
      "\r",
      "...1.182% completed in 20.1831 sec!\r",
      "...1.227% completed in 21.0052 sec!"
     ]
    },
    {
     "name": "stderr",
     "output_type": "stream",
     "text": [
      "/home/docker/env/neurosci/lib/python3.9/site-packages/elephant/conversion.py:1170: UserWarning:Binning discarded 977 last spike(s) of the input spiketrain\n",
      "/home/docker/env/neurosci/lib/python3.9/site-packages/elephant/conversion.py:1170: UserWarning:Binning discarded 1320 last spike(s) of the input spiketrain\n",
      "/home/docker/env/neurosci/lib/python3.9/site-packages/elephant/conversion.py:1170: UserWarning:Binning discarded 308 last spike(s) of the input spiketrain\n"
     ]
    },
    {
     "name": "stdout",
     "output_type": "stream",
     "text": [
      "\r",
      "...1.273% completed in 21.8159 sec!"
     ]
    },
    {
     "name": "stderr",
     "output_type": "stream",
     "text": [
      "/home/docker/env/neurosci/lib/python3.9/site-packages/elephant/conversion.py:1170: UserWarning:Binning discarded 256 last spike(s) of the input spiketrain\n",
      "/home/docker/env/neurosci/lib/python3.9/site-packages/elephant/conversion.py:1170: UserWarning:Binning discarded 477 last spike(s) of the input spiketrain\n"
     ]
    },
    {
     "name": "stdout",
     "output_type": "stream",
     "text": [
      "\r",
      "...1.318% completed in 22.5955 sec!"
     ]
    },
    {
     "name": "stderr",
     "output_type": "stream",
     "text": [
      "/home/docker/env/neurosci/lib/python3.9/site-packages/elephant/conversion.py:1170: UserWarning:Binning discarded 312 last spike(s) of the input spiketrain\n",
      "/home/docker/env/neurosci/lib/python3.9/site-packages/elephant/conversion.py:1170: UserWarning:Binning discarded 379 last spike(s) of the input spiketrain\n"
     ]
    },
    {
     "name": "stdout",
     "output_type": "stream",
     "text": [
      "\r",
      "...1.364% completed in 23.3235 sec!"
     ]
    },
    {
     "name": "stderr",
     "output_type": "stream",
     "text": [
      "/home/docker/env/neurosci/lib/python3.9/site-packages/elephant/conversion.py:1170: UserWarning:Binning discarded 306 last spike(s) of the input spiketrain\n",
      "/home/docker/env/neurosci/lib/python3.9/site-packages/elephant/conversion.py:1170: UserWarning:Binning discarded 616 last spike(s) of the input spiketrain\n"
     ]
    },
    {
     "name": "stdout",
     "output_type": "stream",
     "text": [
      "\r",
      "...1.409% completed in 24.1755 sec!"
     ]
    },
    {
     "name": "stderr",
     "output_type": "stream",
     "text": [
      "/home/docker/env/neurosci/lib/python3.9/site-packages/elephant/conversion.py:1170: UserWarning:Binning discarded 167 last spike(s) of the input spiketrain\n",
      "/home/docker/env/neurosci/lib/python3.9/site-packages/elephant/conversion.py:1170: UserWarning:Binning discarded 323 last spike(s) of the input spiketrain\n"
     ]
    },
    {
     "name": "stdout",
     "output_type": "stream",
     "text": [
      "\r",
      "...1.455% completed in 25.0153 sec!"
     ]
    },
    {
     "name": "stderr",
     "output_type": "stream",
     "text": [
      "/home/docker/env/neurosci/lib/python3.9/site-packages/elephant/conversion.py:1170: UserWarning:Binning discarded 394 last spike(s) of the input spiketrain\n"
     ]
    },
    {
     "name": "stdout",
     "output_type": "stream",
     "text": [
      "\r",
      "...1.500% completed in 25.8032 sec!"
     ]
    },
    {
     "name": "stderr",
     "output_type": "stream",
     "text": [
      "/home/docker/env/neurosci/lib/python3.9/site-packages/elephant/conversion.py:1170: UserWarning:Binning discarded 190 last spike(s) of the input spiketrain\n",
      "/home/docker/env/neurosci/lib/python3.9/site-packages/elephant/conversion.py:1170: UserWarning:Binning discarded 818 last spike(s) of the input spiketrain\n"
     ]
    },
    {
     "name": "stdout",
     "output_type": "stream",
     "text": [
      "\r",
      "...1.545% completed in 26.5965 sec!"
     ]
    },
    {
     "name": "stderr",
     "output_type": "stream",
     "text": [
      "/home/docker/env/neurosci/lib/python3.9/site-packages/elephant/conversion.py:1170: UserWarning:Binning discarded 178 last spike(s) of the input spiketrain\n",
      "/home/docker/env/neurosci/lib/python3.9/site-packages/elephant/conversion.py:1170: UserWarning:Binning discarded 603 last spike(s) of the input spiketrain\n"
     ]
    },
    {
     "name": "stdout",
     "output_type": "stream",
     "text": [
      "\r",
      "...1.591% completed in 27.3504 sec!"
     ]
    },
    {
     "name": "stderr",
     "output_type": "stream",
     "text": [
      "/home/docker/env/neurosci/lib/python3.9/site-packages/elephant/conversion.py:1170: UserWarning:Binning discarded 1508 last spike(s) of the input spiketrain\n",
      "/home/docker/env/neurosci/lib/python3.9/site-packages/elephant/conversion.py:1170: UserWarning:Binning discarded 285 last spike(s) of the input spiketrain\n"
     ]
    },
    {
     "name": "stdout",
     "output_type": "stream",
     "text": [
      "\r",
      "...1.636% completed in 28.167 sec!"
     ]
    },
    {
     "name": "stderr",
     "output_type": "stream",
     "text": [
      "/home/docker/env/neurosci/lib/python3.9/site-packages/elephant/conversion.py:1170: UserWarning:Binning discarded 459 last spike(s) of the input spiketrain\n",
      "/home/docker/env/neurosci/lib/python3.9/site-packages/elephant/conversion.py:1170: UserWarning:Binning discarded 571 last spike(s) of the input spiketrain\n"
     ]
    },
    {
     "name": "stdout",
     "output_type": "stream",
     "text": [
      "\r",
      "...1.682% completed in 28.9652 sec!"
     ]
    },
    {
     "name": "stderr",
     "output_type": "stream",
     "text": [
      "/home/docker/env/neurosci/lib/python3.9/site-packages/elephant/conversion.py:1170: UserWarning:Binning discarded 187 last spike(s) of the input spiketrain\n",
      "/home/docker/env/neurosci/lib/python3.9/site-packages/elephant/conversion.py:1170: UserWarning:Binning discarded 176 last spike(s) of the input spiketrain\n",
      "/home/docker/env/neurosci/lib/python3.9/site-packages/elephant/conversion.py:1170: UserWarning:Binning discarded 7 last spike(s) of the input spiketrain\n"
     ]
    },
    {
     "name": "stdout",
     "output_type": "stream",
     "text": [
      "\r",
      "...1.727% completed in 29.7453 sec!"
     ]
    },
    {
     "name": "stderr",
     "output_type": "stream",
     "text": [
      "/home/docker/env/neurosci/lib/python3.9/site-packages/elephant/conversion.py:1170: UserWarning:Binning discarded 224 last spike(s) of the input spiketrain\n",
      "/home/docker/env/neurosci/lib/python3.9/site-packages/elephant/conversion.py:1170: UserWarning:Binning discarded 722 last spike(s) of the input spiketrain\n"
     ]
    },
    {
     "name": "stdout",
     "output_type": "stream",
     "text": [
      "\r",
      "...1.773% completed in 30.5272 sec!"
     ]
    },
    {
     "name": "stderr",
     "output_type": "stream",
     "text": [
      "/home/docker/env/neurosci/lib/python3.9/site-packages/elephant/conversion.py:1170: UserWarning:Binning discarded 203 last spike(s) of the input spiketrain\n"
     ]
    },
    {
     "name": "stdout",
     "output_type": "stream",
     "text": [
      "\r",
      "...1.818% completed in 31.3707 sec!"
     ]
    },
    {
     "name": "stderr",
     "output_type": "stream",
     "text": [
      "/home/docker/env/neurosci/lib/python3.9/site-packages/elephant/conversion.py:1170: UserWarning:Binning discarded 43 last spike(s) of the input spiketrain\n"
     ]
    },
    {
     "name": "stdout",
     "output_type": "stream",
     "text": [
      "\r",
      "...1.864% completed in 32.1606 sec!"
     ]
    },
    {
     "name": "stderr",
     "output_type": "stream",
     "text": [
      "/home/docker/env/neurosci/lib/python3.9/site-packages/elephant/conversion.py:1170: UserWarning:Binning discarded 229 last spike(s) of the input spiketrain\n",
      "/home/docker/env/neurosci/lib/python3.9/site-packages/elephant/conversion.py:1170: UserWarning:Binning discarded 662 last spike(s) of the input spiketrain\n"
     ]
    },
    {
     "name": "stdout",
     "output_type": "stream",
     "text": [
      "\r",
      "...1.909% completed in 33.0155 sec!"
     ]
    },
    {
     "name": "stderr",
     "output_type": "stream",
     "text": [
      "/home/docker/env/neurosci/lib/python3.9/site-packages/elephant/conversion.py:1170: UserWarning:Binning discarded 38 last spike(s) of the input spiketrain\n",
      "/home/docker/env/neurosci/lib/python3.9/site-packages/elephant/conversion.py:1170: UserWarning:Binning discarded 747 last spike(s) of the input spiketrain\n"
     ]
    },
    {
     "name": "stdout",
     "output_type": "stream",
     "text": [
      "\r",
      "...1.955% completed in 33.8535 sec!"
     ]
    },
    {
     "name": "stderr",
     "output_type": "stream",
     "text": [
      "/home/docker/env/neurosci/lib/python3.9/site-packages/elephant/conversion.py:1170: UserWarning:Binning discarded 1629 last spike(s) of the input spiketrain\n",
      "/home/docker/env/neurosci/lib/python3.9/site-packages/elephant/conversion.py:1170: UserWarning:Binning discarded 251 last spike(s) of the input spiketrain\n"
     ]
    },
    {
     "name": "stdout",
     "output_type": "stream",
     "text": [
      "\r",
      "...2.000% completed in 34.6101 sec!"
     ]
    },
    {
     "name": "stderr",
     "output_type": "stream",
     "text": [
      "/home/docker/env/neurosci/lib/python3.9/site-packages/elephant/conversion.py:1170: UserWarning:Binning discarded 359 last spike(s) of the input spiketrain\n",
      "/home/docker/env/neurosci/lib/python3.9/site-packages/elephant/conversion.py:1170: UserWarning:Binning discarded 283 last spike(s) of the input spiketrain\n"
     ]
    },
    {
     "name": "stdout",
     "output_type": "stream",
     "text": [
      "\r",
      "...2.045% completed in 35.3641 sec!"
     ]
    },
    {
     "name": "stderr",
     "output_type": "stream",
     "text": [
      "/home/docker/env/neurosci/lib/python3.9/site-packages/elephant/conversion.py:1170: UserWarning:Binning discarded 302 last spike(s) of the input spiketrain\n",
      "/home/docker/env/neurosci/lib/python3.9/site-packages/elephant/conversion.py:1170: UserWarning:Binning discarded 168 last spike(s) of the input spiketrain\n"
     ]
    },
    {
     "name": "stdout",
     "output_type": "stream",
     "text": [
      "\r",
      "...2.091% completed in 36.1236 sec!"
     ]
    },
    {
     "name": "stderr",
     "output_type": "stream",
     "text": [
      "/home/docker/env/neurosci/lib/python3.9/site-packages/elephant/conversion.py:1170: UserWarning:Binning discarded 140 last spike(s) of the input spiketrain\n",
      "/home/docker/env/neurosci/lib/python3.9/site-packages/elephant/conversion.py:1170: UserWarning:Binning discarded 488 last spike(s) of the input spiketrain\n"
     ]
    },
    {
     "name": "stdout",
     "output_type": "stream",
     "text": [
      "\r",
      "...2.136% completed in 36.9439 sec!"
     ]
    },
    {
     "name": "stderr",
     "output_type": "stream",
     "text": [
      "/home/docker/env/neurosci/lib/python3.9/site-packages/elephant/conversion.py:1170: UserWarning:Binning discarded 77 last spike(s) of the input spiketrain\n",
      "/home/docker/env/neurosci/lib/python3.9/site-packages/elephant/conversion.py:1170: UserWarning:Binning discarded 175 last spike(s) of the input spiketrain\n"
     ]
    },
    {
     "name": "stdout",
     "output_type": "stream",
     "text": [
      "\r",
      "...2.182% completed in 37.7725 sec!"
     ]
    },
    {
     "name": "stderr",
     "output_type": "stream",
     "text": [
      "/home/docker/env/neurosci/lib/python3.9/site-packages/elephant/conversion.py:1170: UserWarning:Binning discarded 245 last spike(s) of the input spiketrain\n",
      "/home/docker/env/neurosci/lib/python3.9/site-packages/elephant/conversion.py:1170: UserWarning:Binning discarded 238 last spike(s) of the input spiketrain\n"
     ]
    },
    {
     "name": "stdout",
     "output_type": "stream",
     "text": [
      "\r",
      "...2.227% completed in 38.5908 sec!"
     ]
    },
    {
     "name": "stderr",
     "output_type": "stream",
     "text": [
      "/home/docker/env/neurosci/lib/python3.9/site-packages/elephant/conversion.py:1170: UserWarning:Binning discarded 370 last spike(s) of the input spiketrain\n"
     ]
    },
    {
     "name": "stdout",
     "output_type": "stream",
     "text": [
      "\r",
      "...2.273% completed in 39.5073 sec!"
     ]
    },
    {
     "name": "stderr",
     "output_type": "stream",
     "text": [
      "/home/docker/env/neurosci/lib/python3.9/site-packages/elephant/conversion.py:1170: UserWarning:Binning discarded 247 last spike(s) of the input spiketrain\n",
      "/home/docker/env/neurosci/lib/python3.9/site-packages/elephant/conversion.py:1170: UserWarning:Binning discarded 705 last spike(s) of the input spiketrain\n"
     ]
    },
    {
     "name": "stdout",
     "output_type": "stream",
     "text": [
      "\r",
      "...2.318% completed in 40.4258 sec!"
     ]
    },
    {
     "name": "stderr",
     "output_type": "stream",
     "text": [
      "/home/docker/env/neurosci/lib/python3.9/site-packages/elephant/conversion.py:1170: UserWarning:Binning discarded 1462 last spike(s) of the input spiketrain\n",
      "/home/docker/env/neurosci/lib/python3.9/site-packages/elephant/conversion.py:1170: UserWarning:Binning discarded 242 last spike(s) of the input spiketrain\n"
     ]
    },
    {
     "name": "stdout",
     "output_type": "stream",
     "text": [
      "\r",
      "...2.364% completed in 41.2878 sec!"
     ]
    },
    {
     "name": "stderr",
     "output_type": "stream",
     "text": [
      "/home/docker/env/neurosci/lib/python3.9/site-packages/elephant/conversion.py:1170: UserWarning:Binning discarded 438 last spike(s) of the input spiketrain\n",
      "/home/docker/env/neurosci/lib/python3.9/site-packages/elephant/conversion.py:1170: UserWarning:Binning discarded 320 last spike(s) of the input spiketrain\n"
     ]
    },
    {
     "name": "stdout",
     "output_type": "stream",
     "text": [
      "\r",
      "...2.409% completed in 42.3765 sec!"
     ]
    },
    {
     "name": "stderr",
     "output_type": "stream",
     "text": [
      "/home/docker/env/neurosci/lib/python3.9/site-packages/elephant/conversion.py:1170: UserWarning:Binning discarded 337 last spike(s) of the input spiketrain\n",
      "/home/docker/env/neurosci/lib/python3.9/site-packages/elephant/conversion.py:1170: UserWarning:Binning discarded 281 last spike(s) of the input spiketrain\n"
     ]
    },
    {
     "name": "stdout",
     "output_type": "stream",
     "text": [
      "\r",
      "...2.455% completed in 43.1865 sec!"
     ]
    },
    {
     "name": "stderr",
     "output_type": "stream",
     "text": [
      "/home/docker/env/neurosci/lib/python3.9/site-packages/elephant/conversion.py:1170: UserWarning:Binning discarded 181 last spike(s) of the input spiketrain\n",
      "/home/docker/env/neurosci/lib/python3.9/site-packages/elephant/conversion.py:1170: UserWarning:Binning discarded 398 last spike(s) of the input spiketrain\n"
     ]
    },
    {
     "name": "stdout",
     "output_type": "stream",
     "text": [
      "\r",
      "...2.500% completed in 44.0767 sec!"
     ]
    },
    {
     "name": "stderr",
     "output_type": "stream",
     "text": [
      "/home/docker/env/neurosci/lib/python3.9/site-packages/elephant/conversion.py:1170: UserWarning:Binning discarded 250 last spike(s) of the input spiketrain\n",
      "/home/docker/env/neurosci/lib/python3.9/site-packages/elephant/conversion.py:1170: UserWarning:Binning discarded 192 last spike(s) of the input spiketrain\n"
     ]
    },
    {
     "name": "stdout",
     "output_type": "stream",
     "text": [
      "\r",
      "...2.545% completed in 44.9404 sec!"
     ]
    },
    {
     "name": "stderr",
     "output_type": "stream",
     "text": [
      "/home/docker/env/neurosci/lib/python3.9/site-packages/elephant/conversion.py:1170: UserWarning:Binning discarded 69 last spike(s) of the input spiketrain\n",
      "/home/docker/env/neurosci/lib/python3.9/site-packages/elephant/conversion.py:1170: UserWarning:Binning discarded 222 last spike(s) of the input spiketrain\n"
     ]
    },
    {
     "name": "stdout",
     "output_type": "stream",
     "text": [
      "\r",
      "...2.591% completed in 45.7799 sec!"
     ]
    },
    {
     "name": "stderr",
     "output_type": "stream",
     "text": [
      "/home/docker/env/neurosci/lib/python3.9/site-packages/elephant/conversion.py:1170: UserWarning:Binning discarded 911 last spike(s) of the input spiketrain\n",
      "/home/docker/env/neurosci/lib/python3.9/site-packages/elephant/conversion.py:1170: UserWarning:Binning discarded 387 last spike(s) of the input spiketrain\n"
     ]
    },
    {
     "name": "stdout",
     "output_type": "stream",
     "text": [
      "\r",
      "...2.636% completed in 46.6317 sec!"
     ]
    },
    {
     "name": "stderr",
     "output_type": "stream",
     "text": [
      "/home/docker/env/neurosci/lib/python3.9/site-packages/elephant/conversion.py:1170: UserWarning:Binning discarded 120 last spike(s) of the input spiketrain\n",
      "/home/docker/env/neurosci/lib/python3.9/site-packages/elephant/conversion.py:1170: UserWarning:Binning discarded 734 last spike(s) of the input spiketrain\n"
     ]
    },
    {
     "name": "stdout",
     "output_type": "stream",
     "text": [
      "\r",
      "...2.682% completed in 47.4762 sec!"
     ]
    },
    {
     "name": "stderr",
     "output_type": "stream",
     "text": [
      "/home/docker/env/neurosci/lib/python3.9/site-packages/elephant/conversion.py:1170: UserWarning:Binning discarded 197 last spike(s) of the input spiketrain\n",
      "/home/docker/env/neurosci/lib/python3.9/site-packages/elephant/conversion.py:1170: UserWarning:Binning discarded 135 last spike(s) of the input spiketrain\n",
      "/home/docker/env/neurosci/lib/python3.9/site-packages/elephant/conversion.py:1170: UserWarning:Binning discarded 8 last spike(s) of the input spiketrain\n"
     ]
    },
    {
     "name": "stdout",
     "output_type": "stream",
     "text": [
      "\r",
      "...2.727% completed in 48.2944 sec!"
     ]
    },
    {
     "name": "stderr",
     "output_type": "stream",
     "text": [
      "/home/docker/env/neurosci/lib/python3.9/site-packages/elephant/conversion.py:1170: UserWarning:Binning discarded 470 last spike(s) of the input spiketrain\n",
      "/home/docker/env/neurosci/lib/python3.9/site-packages/elephant/conversion.py:1170: UserWarning:Binning discarded 270 last spike(s) of the input spiketrain\n"
     ]
    },
    {
     "name": "stdout",
     "output_type": "stream",
     "text": [
      "\r",
      "...2.773% completed in 49.121 sec!"
     ]
    },
    {
     "name": "stderr",
     "output_type": "stream",
     "text": [
      "/home/docker/env/neurosci/lib/python3.9/site-packages/elephant/conversion.py:1170: UserWarning:Binning discarded 331 last spike(s) of the input spiketrain\n",
      "/home/docker/env/neurosci/lib/python3.9/site-packages/elephant/conversion.py:1170: UserWarning:Binning discarded 346 last spike(s) of the input spiketrain\n"
     ]
    },
    {
     "name": "stdout",
     "output_type": "stream",
     "text": [
      "\r",
      "...2.818% completed in 50.0934 sec!"
     ]
    },
    {
     "name": "stderr",
     "output_type": "stream",
     "text": [
      "/home/docker/env/neurosci/lib/python3.9/site-packages/elephant/conversion.py:1170: UserWarning:Binning discarded 1442 last spike(s) of the input spiketrain\n"
     ]
    },
    {
     "name": "stdout",
     "output_type": "stream",
     "text": [
      "\r",
      "...2.864% completed in 50.9554 sec!"
     ]
    },
    {
     "name": "stderr",
     "output_type": "stream",
     "text": [
      "/home/docker/env/neurosci/lib/python3.9/site-packages/elephant/conversion.py:1170: UserWarning:Binning discarded 330 last spike(s) of the input spiketrain\n",
      "/home/docker/env/neurosci/lib/python3.9/site-packages/elephant/conversion.py:1170: UserWarning:Binning discarded 258 last spike(s) of the input spiketrain\n"
     ]
    },
    {
     "name": "stdout",
     "output_type": "stream",
     "text": [
      "\r",
      "...2.909% completed in 51.8191 sec!"
     ]
    },
    {
     "name": "stderr",
     "output_type": "stream",
     "text": [
      "/home/docker/env/neurosci/lib/python3.9/site-packages/elephant/conversion.py:1170: UserWarning:Binning discarded 103 last spike(s) of the input spiketrain\n",
      "/home/docker/env/neurosci/lib/python3.9/site-packages/elephant/conversion.py:1170: UserWarning:Binning discarded 199 last spike(s) of the input spiketrain\n"
     ]
    },
    {
     "name": "stdout",
     "output_type": "stream",
     "text": [
      "\r",
      "...2.955% completed in 52.7155 sec!"
     ]
    },
    {
     "name": "stderr",
     "output_type": "stream",
     "text": [
      "/home/docker/env/neurosci/lib/python3.9/site-packages/elephant/conversion.py:1170: UserWarning:Binning discarded 836 last spike(s) of the input spiketrain\n",
      "/home/docker/env/neurosci/lib/python3.9/site-packages/elephant/conversion.py:1170: UserWarning:Binning discarded 391 last spike(s) of the input spiketrain\n"
     ]
    },
    {
     "name": "stdout",
     "output_type": "stream",
     "text": [
      "\r",
      "...3.000% completed in 53.5873 sec!"
     ]
    },
    {
     "name": "stderr",
     "output_type": "stream",
     "text": [
      "/home/docker/env/neurosci/lib/python3.9/site-packages/elephant/conversion.py:1170: UserWarning:Binning discarded 217 last spike(s) of the input spiketrain\n",
      "/home/docker/env/neurosci/lib/python3.9/site-packages/elephant/conversion.py:1170: UserWarning:Binning discarded 832 last spike(s) of the input spiketrain\n"
     ]
    },
    {
     "name": "stdout",
     "output_type": "stream",
     "text": [
      "\r",
      "...3.045% completed in 54.4504 sec!"
     ]
    },
    {
     "name": "stderr",
     "output_type": "stream",
     "text": [
      "/home/docker/env/neurosci/lib/python3.9/site-packages/elephant/conversion.py:1170: UserWarning:Binning discarded 321 last spike(s) of the input spiketrain\n",
      "/home/docker/env/neurosci/lib/python3.9/site-packages/elephant/conversion.py:1170: UserWarning:Binning discarded 110 last spike(s) of the input spiketrain\n"
     ]
    },
    {
     "name": "stdout",
     "output_type": "stream",
     "text": [
      "\r",
      "...3.091% completed in 55.2127 sec!"
     ]
    },
    {
     "name": "stderr",
     "output_type": "stream",
     "text": [
      "/home/docker/env/neurosci/lib/python3.9/site-packages/elephant/conversion.py:1170: UserWarning:Binning discarded 577 last spike(s) of the input spiketrain\n",
      "/home/docker/env/neurosci/lib/python3.9/site-packages/elephant/conversion.py:1170: UserWarning:Binning discarded 418 last spike(s) of the input spiketrain\n"
     ]
    },
    {
     "name": "stdout",
     "output_type": "stream",
     "text": [
      "\r",
      "...3.136% completed in 56.0156 sec!"
     ]
    },
    {
     "name": "stderr",
     "output_type": "stream",
     "text": [
      "/home/docker/env/neurosci/lib/python3.9/site-packages/elephant/conversion.py:1170: UserWarning:Binning discarded 294 last spike(s) of the input spiketrain\n",
      "/home/docker/env/neurosci/lib/python3.9/site-packages/elephant/conversion.py:1170: UserWarning:Binning discarded 353 last spike(s) of the input spiketrain\n"
     ]
    },
    {
     "name": "stdout",
     "output_type": "stream",
     "text": [
      "\r",
      "...3.182% completed in 56.7826 sec!"
     ]
    },
    {
     "name": "stderr",
     "output_type": "stream",
     "text": [
      "/home/docker/env/neurosci/lib/python3.9/site-packages/elephant/conversion.py:1170: UserWarning:Binning discarded 564 last spike(s) of the input spiketrain\n",
      "/home/docker/env/neurosci/lib/python3.9/site-packages/elephant/conversion.py:1170: UserWarning:Binning discarded 460 last spike(s) of the input spiketrain\n"
     ]
    },
    {
     "name": "stdout",
     "output_type": "stream",
     "text": [
      "\r",
      "...3.227% completed in 57.4755 sec!"
     ]
    },
    {
     "name": "stderr",
     "output_type": "stream",
     "text": [
      "/home/docker/env/neurosci/lib/python3.9/site-packages/elephant/conversion.py:1170: UserWarning:Binning discarded 313 last spike(s) of the input spiketrain\n",
      "/home/docker/env/neurosci/lib/python3.9/site-packages/elephant/conversion.py:1170: UserWarning:Binning discarded 422 last spike(s) of the input spiketrain\n"
     ]
    },
    {
     "name": "stdout",
     "output_type": "stream",
     "text": [
      "\r",
      "...3.273% completed in 58.2255 sec!"
     ]
    },
    {
     "name": "stderr",
     "output_type": "stream",
     "text": [
      "/home/docker/env/neurosci/lib/python3.9/site-packages/elephant/conversion.py:1170: UserWarning:Binning discarded 101 last spike(s) of the input spiketrain\n",
      "/home/docker/env/neurosci/lib/python3.9/site-packages/elephant/conversion.py:1170: UserWarning:Binning discarded 113 last spike(s) of the input spiketrain\n"
     ]
    },
    {
     "name": "stdout",
     "output_type": "stream",
     "text": [
      "\r",
      "...3.318% completed in 58.9929 sec!\r",
      "...3.364% completed in 59.7714 sec!"
     ]
    },
    {
     "name": "stderr",
     "output_type": "stream",
     "text": [
      "/home/docker/env/neurosci/lib/python3.9/site-packages/elephant/conversion.py:1170: UserWarning:Binning discarded 765 last spike(s) of the input spiketrain\n",
      "/home/docker/env/neurosci/lib/python3.9/site-packages/elephant/conversion.py:1170: UserWarning:Binning discarded 484 last spike(s) of the input spiketrain\n",
      "/home/docker/env/neurosci/lib/python3.9/site-packages/elephant/conversion.py:1170: UserWarning:Binning discarded 301 last spike(s) of the input spiketrain\n",
      "/home/docker/env/neurosci/lib/python3.9/site-packages/elephant/conversion.py:1170: UserWarning:Binning discarded 785 last spike(s) of the input spiketrain\n"
     ]
    },
    {
     "name": "stdout",
     "output_type": "stream",
     "text": [
      "\r",
      "...3.409% completed in 60.4953 sec!"
     ]
    },
    {
     "name": "stderr",
     "output_type": "stream",
     "text": [
      "/home/docker/env/neurosci/lib/python3.9/site-packages/elephant/conversion.py:1170: UserWarning:Binning discarded 96 last spike(s) of the input spiketrain\n"
     ]
    },
    {
     "name": "stdout",
     "output_type": "stream",
     "text": [
      "\r",
      "...3.455% completed in 61.2459 sec!"
     ]
    },
    {
     "name": "stderr",
     "output_type": "stream",
     "text": [
      "/home/docker/env/neurosci/lib/python3.9/site-packages/elephant/conversion.py:1170: UserWarning:Binning discarded 623 last spike(s) of the input spiketrain\n",
      "/home/docker/env/neurosci/lib/python3.9/site-packages/elephant/conversion.py:1170: UserWarning:Binning discarded 446 last spike(s) of the input spiketrain\n"
     ]
    },
    {
     "name": "stdout",
     "output_type": "stream",
     "text": [
      "...3.545% completed in 62.7411 sec!"
     ]
    },
    {
     "name": "stderr",
     "output_type": "stream",
     "text": [
      "/home/docker/env/neurosci/lib/python3.9/site-packages/elephant/conversion.py:1170: UserWarning:Binning discarded 404 last spike(s) of the input spiketrain\n",
      "/home/docker/env/neurosci/lib/python3.9/site-packages/elephant/conversion.py:1170: UserWarning:Binning discarded 621 last spike(s) of the input spiketrain\n"
     ]
    },
    {
     "name": "stdout",
     "output_type": "stream",
     "text": [
      "\r",
      "...3.591% completed in 63.4547 sec!"
     ]
    },
    {
     "name": "stderr",
     "output_type": "stream",
     "text": [
      "/home/docker/env/neurosci/lib/python3.9/site-packages/elephant/conversion.py:1170: UserWarning:Binning discarded 292 last spike(s) of the input spiketrain\n",
      "/home/docker/env/neurosci/lib/python3.9/site-packages/elephant/conversion.py:1170: UserWarning:Binning discarded 200 last spike(s) of the input spiketrain\n"
     ]
    },
    {
     "name": "stdout",
     "output_type": "stream",
     "text": [
      "...3.727% completed in 65.5372 sec!"
     ]
    },
    {
     "name": "stderr",
     "output_type": "stream",
     "text": [
      "/home/docker/env/neurosci/lib/python3.9/site-packages/elephant/conversion.py:1170: UserWarning:Binning discarded 1145 last spike(s) of the input spiketrain\n",
      "/home/docker/env/neurosci/lib/python3.9/site-packages/elephant/conversion.py:1170: UserWarning:Binning discarded 389 last spike(s) of the input spiketrain\n",
      "/home/docker/env/neurosci/lib/python3.9/site-packages/elephant/conversion.py:1170: UserWarning:Binning discarded 254 last spike(s) of the input spiketrain\n",
      "/home/docker/env/neurosci/lib/python3.9/site-packages/elephant/conversion.py:1170: UserWarning:Binning discarded 859 last spike(s) of the input spiketrain\n"
     ]
    },
    {
     "name": "stdout",
     "output_type": "stream",
     "text": [
      "\r",
      "...3.773% completed in 66.2525 sec!"
     ]
    },
    {
     "name": "stderr",
     "output_type": "stream",
     "text": [
      "/home/docker/env/neurosci/lib/python3.9/site-packages/elephant/conversion.py:1170: UserWarning:Binning discarded 297 last spike(s) of the input spiketrain\n"
     ]
    },
    {
     "name": "stdout",
     "output_type": "stream",
     "text": [
      "\r",
      "...3.818% completed in 66.9097 sec!"
     ]
    },
    {
     "name": "stderr",
     "output_type": "stream",
     "text": [
      "/home/docker/env/neurosci/lib/python3.9/site-packages/elephant/conversion.py:1170: UserWarning:Binning discarded 326 last spike(s) of the input spiketrain\n",
      "/home/docker/env/neurosci/lib/python3.9/site-packages/elephant/conversion.py:1170: UserWarning:Binning discarded 185 last spike(s) of the input spiketrain\n"
     ]
    },
    {
     "name": "stdout",
     "output_type": "stream",
     "text": [
      "\r",
      "...3.864% completed in 67.5772 sec!"
     ]
    },
    {
     "name": "stderr",
     "output_type": "stream",
     "text": [
      "/home/docker/env/neurosci/lib/python3.9/site-packages/elephant/conversion.py:1170: UserWarning:Binning discarded 202 last spike(s) of the input spiketrain\n"
     ]
    },
    {
     "name": "stdout",
     "output_type": "stream",
     "text": [
      "\r",
      "...3.909% completed in 68.221 sec!"
     ]
    },
    {
     "name": "stderr",
     "output_type": "stream",
     "text": [
      "/home/docker/env/neurosci/lib/python3.9/site-packages/elephant/conversion.py:1170: UserWarning:Binning discarded 1116 last spike(s) of the input spiketrain\n",
      "/home/docker/env/neurosci/lib/python3.9/site-packages/elephant/conversion.py:1170: UserWarning:Binning discarded 335 last spike(s) of the input spiketrain\n"
     ]
    },
    {
     "name": "stdout",
     "output_type": "stream",
     "text": [
      "\r",
      "...3.955% completed in 68.8271 sec!"
     ]
    },
    {
     "name": "stderr",
     "output_type": "stream",
     "text": [
      "/home/docker/env/neurosci/lib/python3.9/site-packages/elephant/conversion.py:1170: UserWarning:Binning discarded 492 last spike(s) of the input spiketrain\n"
     ]
    },
    {
     "name": "stdout",
     "output_type": "stream",
     "text": [
      "\r",
      "...4.000% completed in 69.4407 sec!"
     ]
    },
    {
     "name": "stderr",
     "output_type": "stream",
     "text": [
      "/home/docker/env/neurosci/lib/python3.9/site-packages/elephant/conversion.py:1170: UserWarning:Binning discarded 172 last spike(s) of the input spiketrain\n",
      "/home/docker/env/neurosci/lib/python3.9/site-packages/elephant/conversion.py:1170: UserWarning:Binning discarded 342 last spike(s) of the input spiketrain\n"
     ]
    },
    {
     "name": "stdout",
     "output_type": "stream",
     "text": [
      "\r",
      "...4.045% completed in 70.0328 sec!"
     ]
    },
    {
     "name": "stderr",
     "output_type": "stream",
     "text": [
      "/home/docker/env/neurosci/lib/python3.9/site-packages/elephant/conversion.py:1170: UserWarning:Binning discarded 344 last spike(s) of the input spiketrain\n",
      "/home/docker/env/neurosci/lib/python3.9/site-packages/elephant/conversion.py:1170: UserWarning:Binning discarded 155 last spike(s) of the input spiketrain\n"
     ]
    },
    {
     "name": "stdout",
     "output_type": "stream",
     "text": [
      "\r",
      "...4.091% completed in 70.6411 sec!"
     ]
    },
    {
     "name": "stderr",
     "output_type": "stream",
     "text": [
      "/home/docker/env/neurosci/lib/python3.9/site-packages/elephant/conversion.py:1170: UserWarning:Binning discarded 125 last spike(s) of the input spiketrain\n",
      "/home/docker/env/neurosci/lib/python3.9/site-packages/elephant/conversion.py:1170: UserWarning:Binning discarded 220 last spike(s) of the input spiketrain\n"
     ]
    },
    {
     "name": "stdout",
     "output_type": "stream",
     "text": [
      "\r",
      "...4.136% completed in 71.2367 sec!"
     ]
    },
    {
     "name": "stderr",
     "output_type": "stream",
     "text": [
      "/home/docker/env/neurosci/lib/python3.9/site-packages/elephant/conversion.py:1170: UserWarning:Binning discarded 553 last spike(s) of the input spiketrain\n"
     ]
    },
    {
     "name": "stdout",
     "output_type": "stream",
     "text": [
      "\r",
      "...4.182% completed in 71.8301 sec!"
     ]
    },
    {
     "name": "stderr",
     "output_type": "stream",
     "text": [
      "/home/docker/env/neurosci/lib/python3.9/site-packages/elephant/conversion.py:1170: UserWarning:Binning discarded 165 last spike(s) of the input spiketrain\n"
     ]
    },
    {
     "name": "stdout",
     "output_type": "stream",
     "text": [
      "\r",
      "...4.227% completed in 72.4146 sec!"
     ]
    },
    {
     "name": "stderr",
     "output_type": "stream",
     "text": [
      "/home/docker/env/neurosci/lib/python3.9/site-packages/elephant/conversion.py:1170: UserWarning:Binning discarded 685 last spike(s) of the input spiketrain\n",
      "/home/docker/env/neurosci/lib/python3.9/site-packages/elephant/conversion.py:1170: UserWarning:Binning discarded 234 last spike(s) of the input spiketrain\n"
     ]
    },
    {
     "name": "stdout",
     "output_type": "stream",
     "text": [
      "\r",
      "...4.273% completed in 73.0101 sec!"
     ]
    },
    {
     "name": "stderr",
     "output_type": "stream",
     "text": [
      "/home/docker/env/neurosci/lib/python3.9/site-packages/elephant/conversion.py:1170: UserWarning:Binning discarded 561 last spike(s) of the input spiketrain\n"
     ]
    },
    {
     "name": "stdout",
     "output_type": "stream",
     "text": [
      "\r",
      "...4.318% completed in 73.5942 sec!"
     ]
    },
    {
     "name": "stderr",
     "output_type": "stream",
     "text": [
      "/home/docker/env/neurosci/lib/python3.9/site-packages/elephant/conversion.py:1170: UserWarning:Binning discarded 545 last spike(s) of the input spiketrain\n",
      "/home/docker/env/neurosci/lib/python3.9/site-packages/elephant/conversion.py:1170: UserWarning:Binning discarded 171 last spike(s) of the input spiketrain\n"
     ]
    },
    {
     "name": "stdout",
     "output_type": "stream",
     "text": [
      "\r",
      "...4.364% completed in 74.1783 sec!"
     ]
    },
    {
     "name": "stderr",
     "output_type": "stream",
     "text": [
      "/home/docker/env/neurosci/lib/python3.9/site-packages/elephant/conversion.py:1170: UserWarning:Binning discarded 271 last spike(s) of the input spiketrain\n"
     ]
    },
    {
     "name": "stdout",
     "output_type": "stream",
     "text": [
      "\r",
      "...4.409% completed in 74.7579 sec!"
     ]
    },
    {
     "name": "stderr",
     "output_type": "stream",
     "text": [
      "/home/docker/env/neurosci/lib/python3.9/site-packages/elephant/conversion.py:1170: UserWarning:Binning discarded 262 last spike(s) of the input spiketrain\n"
     ]
    },
    {
     "name": "stdout",
     "output_type": "stream",
     "text": [
      "\r",
      "...4.455% completed in 75.3287 sec!"
     ]
    },
    {
     "name": "stderr",
     "output_type": "stream",
     "text": [
      "/home/docker/env/neurosci/lib/python3.9/site-packages/elephant/conversion.py:1170: UserWarning:Binning discarded 146 last spike(s) of the input spiketrain\n"
     ]
    },
    {
     "name": "stdout",
     "output_type": "stream",
     "text": [
      "\r",
      "...4.500% completed in 75.9009 sec!"
     ]
    },
    {
     "name": "stderr",
     "output_type": "stream",
     "text": [
      "/home/docker/env/neurosci/lib/python3.9/site-packages/elephant/conversion.py:1170: UserWarning:Binning discarded 92 last spike(s) of the input spiketrain\n"
     ]
    },
    {
     "name": "stdout",
     "output_type": "stream",
     "text": [
      "\r",
      "...4.545% completed in 76.4785 sec!"
     ]
    },
    {
     "name": "stderr",
     "output_type": "stream",
     "text": [
      "/home/docker/env/neurosci/lib/python3.9/site-packages/elephant/conversion.py:1170: UserWarning:Binning discarded 111 last spike(s) of the input spiketrain\n",
      "/home/docker/env/neurosci/lib/python3.9/site-packages/elephant/conversion.py:1170: UserWarning:Binning discarded 128 last spike(s) of the input spiketrain\n"
     ]
    },
    {
     "name": "stdout",
     "output_type": "stream",
     "text": [
      "\r",
      "...4.591% completed in 77.033 sec!\r",
      "...4.636% completed in 77.6154 sec!"
     ]
    },
    {
     "name": "stderr",
     "output_type": "stream",
     "text": [
      "/home/docker/env/neurosci/lib/python3.9/site-packages/elephant/conversion.py:1170: UserWarning:Binning discarded 82 last spike(s) of the input spiketrain\n",
      "/home/docker/env/neurosci/lib/python3.9/site-packages/elephant/conversion.py:1170: UserWarning:Binning discarded 60 last spike(s) of the input spiketrain\n",
      "/home/docker/env/neurosci/lib/python3.9/site-packages/elephant/conversion.py:1170: UserWarning:Binning discarded 67 last spike(s) of the input spiketrain\n"
     ]
    },
    {
     "name": "stdout",
     "output_type": "stream",
     "text": [
      "\r",
      "...4.682% completed in 78.1781 sec!"
     ]
    },
    {
     "name": "stderr",
     "output_type": "stream",
     "text": [
      "/home/docker/env/neurosci/lib/python3.9/site-packages/elephant/conversion.py:1170: UserWarning:Binning discarded 95 last spike(s) of the input spiketrain\n",
      "/home/docker/env/neurosci/lib/python3.9/site-packages/elephant/conversion.py:1170: UserWarning:Binning discarded 52 last spike(s) of the input spiketrain\n"
     ]
    },
    {
     "name": "stdout",
     "output_type": "stream",
     "text": [
      "\r",
      "...4.727% completed in 78.7329 sec!"
     ]
    },
    {
     "name": "stderr",
     "output_type": "stream",
     "text": [
      "/home/docker/env/neurosci/lib/python3.9/site-packages/elephant/conversion.py:1170: UserWarning:Binning discarded 31 last spike(s) of the input spiketrain\n",
      "/home/docker/env/neurosci/lib/python3.9/site-packages/elephant/conversion.py:1170: UserWarning:Binning discarded 57 last spike(s) of the input spiketrain\n"
     ]
    },
    {
     "name": "stdout",
     "output_type": "stream",
     "text": [
      "\r",
      "...4.773% completed in 79.2925 sec!"
     ]
    },
    {
     "name": "stderr",
     "output_type": "stream",
     "text": [
      "/home/docker/env/neurosci/lib/python3.9/site-packages/elephant/conversion.py:1170: UserWarning:Binning discarded 53 last spike(s) of the input spiketrain\n"
     ]
    },
    {
     "name": "stdout",
     "output_type": "stream",
     "text": [
      "\r",
      "...4.818% completed in 79.8415 sec!"
     ]
    },
    {
     "name": "stderr",
     "output_type": "stream",
     "text": [
      "/home/docker/env/neurosci/lib/python3.9/site-packages/elephant/conversion.py:1170: UserWarning:Binning discarded 47 last spike(s) of the input spiketrain\n",
      "/home/docker/env/neurosci/lib/python3.9/site-packages/elephant/conversion.py:1170: UserWarning:Binning discarded 32 last spike(s) of the input spiketrain\n"
     ]
    },
    {
     "name": "stdout",
     "output_type": "stream",
     "text": [
      "\r",
      "...4.864% completed in 80.3862 sec!"
     ]
    },
    {
     "name": "stderr",
     "output_type": "stream",
     "text": [
      "/home/docker/env/neurosci/lib/python3.9/site-packages/elephant/conversion.py:1170: UserWarning:Binning discarded 35 last spike(s) of the input spiketrain\n",
      "/home/docker/env/neurosci/lib/python3.9/site-packages/elephant/conversion.py:1170: UserWarning:Binning discarded 36 last spike(s) of the input spiketrain\n"
     ]
    },
    {
     "name": "stdout",
     "output_type": "stream",
     "text": [
      "\r",
      "...4.909% completed in 80.9422 sec!"
     ]
    },
    {
     "name": "stderr",
     "output_type": "stream",
     "text": [
      "/home/docker/env/neurosci/lib/python3.9/site-packages/elephant/conversion.py:1170: UserWarning:Binning discarded 40 last spike(s) of the input spiketrain\n"
     ]
    },
    {
     "name": "stdout",
     "output_type": "stream",
     "text": [
      "\r",
      "...4.955% completed in 81.4901 sec!"
     ]
    },
    {
     "name": "stderr",
     "output_type": "stream",
     "text": [
      "/home/docker/env/neurosci/lib/python3.9/site-packages/elephant/conversion.py:1170: UserWarning:Binning discarded 29 last spike(s) of the input spiketrain\n",
      "/home/docker/env/neurosci/lib/python3.9/site-packages/elephant/conversion.py:1170: UserWarning:Binning discarded 17 last spike(s) of the input spiketrain\n"
     ]
    },
    {
     "name": "stdout",
     "output_type": "stream",
     "text": [
      "\r",
      "...5.000% completed in 82.0317 sec!"
     ]
    },
    {
     "name": "stderr",
     "output_type": "stream",
     "text": [
      "/home/docker/env/neurosci/lib/python3.9/site-packages/elephant/conversion.py:1170: UserWarning:Binning discarded 28 last spike(s) of the input spiketrain\n"
     ]
    },
    {
     "name": "stdout",
     "output_type": "stream",
     "text": [
      "\r",
      "...5.045% completed in 82.5766 sec!"
     ]
    },
    {
     "name": "stderr",
     "output_type": "stream",
     "text": [
      "/home/docker/env/neurosci/lib/python3.9/site-packages/elephant/conversion.py:1170: UserWarning:Binning discarded 21 last spike(s) of the input spiketrain\n"
     ]
    },
    {
     "name": "stdout",
     "output_type": "stream",
     "text": [
      "\r",
      "...5.091% completed in 83.1215 sec!"
     ]
    },
    {
     "name": "stderr",
     "output_type": "stream",
     "text": [
      "/home/docker/env/neurosci/lib/python3.9/site-packages/elephant/conversion.py:1170: UserWarning:Binning discarded 19 last spike(s) of the input spiketrain\n",
      "/home/docker/env/neurosci/lib/python3.9/site-packages/elephant/conversion.py:1170: UserWarning:Binning discarded 14 last spike(s) of the input spiketrain\n"
     ]
    },
    {
     "name": "stdout",
     "output_type": "stream",
     "text": [
      "...5.182% completed in 84.2034 sec!"
     ]
    },
    {
     "name": "stderr",
     "output_type": "stream",
     "text": [
      "/home/docker/env/neurosci/lib/python3.9/site-packages/elephant/conversion.py:1170: UserWarning:Binning discarded 18 last spike(s) of the input spiketrain\n"
     ]
    },
    {
     "name": "stdout",
     "output_type": "stream",
     "text": [
      "\r",
      "...5.227% completed in 84.7426 sec!"
     ]
    },
    {
     "name": "stderr",
     "output_type": "stream",
     "text": [
      "/home/docker/env/neurosci/lib/python3.9/site-packages/elephant/conversion.py:1170: UserWarning:Binning discarded 16 last spike(s) of the input spiketrain\n"
     ]
    },
    {
     "name": "stdout",
     "output_type": "stream",
     "text": [
      "\r",
      "...5.273% completed in 85.281 sec!"
     ]
    },
    {
     "name": "stderr",
     "output_type": "stream",
     "text": [
      "/home/docker/env/neurosci/lib/python3.9/site-packages/elephant/conversion.py:1170: UserWarning:Binning discarded 13 last spike(s) of the input spiketrain\n"
     ]
    },
    {
     "name": "stdout",
     "output_type": "stream",
     "text": [
      "\r",
      "...5.318% completed in 85.815 sec!"
     ]
    },
    {
     "name": "stderr",
     "output_type": "stream",
     "text": [
      "/home/docker/env/neurosci/lib/python3.9/site-packages/elephant/conversion.py:1170: UserWarning:Binning discarded 10 last spike(s) of the input spiketrain\n"
     ]
    },
    {
     "name": "stdout",
     "output_type": "stream",
     "text": [
      "\r",
      "...5.364% completed in 86.3509 sec!"
     ]
    },
    {
     "name": "stderr",
     "output_type": "stream",
     "text": [
      "/home/docker/env/neurosci/lib/python3.9/site-packages/elephant/conversion.py:1170: UserWarning:Binning discarded 12 last spike(s) of the input spiketrain\n"
     ]
    },
    {
     "name": "stdout",
     "output_type": "stream",
     "text": [
      "...5.682% completed in 90.1552 sec!"
     ]
    },
    {
     "name": "stderr",
     "output_type": "stream",
     "text": [
      "/home/docker/env/neurosci/lib/python3.9/site-packages/elephant/conversion.py:1170: UserWarning:Binning discarded 24 last spike(s) of the input spiketrain\n"
     ]
    },
    {
     "name": "stdout",
     "output_type": "stream",
     "text": [
      "\r",
      "...5.727% completed in 90.6988 sec!"
     ]
    },
    {
     "name": "stderr",
     "output_type": "stream",
     "text": [
      "/home/docker/env/neurosci/lib/python3.9/site-packages/elephant/conversion.py:1170: UserWarning:Binning discarded 11 last spike(s) of the input spiketrain\n",
      "/home/docker/env/neurosci/lib/python3.9/site-packages/elephant/conversion.py:1170: UserWarning:Binning discarded 15 last spike(s) of the input spiketrain\n"
     ]
    },
    {
     "name": "stdout",
     "output_type": "stream",
     "text": [
      "...8.000% completed in 118.365 sec!"
     ]
    },
    {
     "name": "stderr",
     "output_type": "stream",
     "text": [
      "/home/docker/env/neurosci/lib/python3.9/site-packages/elephant/conversion.py:1170: UserWarning:Binning discarded 68 last spike(s) of the input spiketrain\n"
     ]
    },
    {
     "name": "stdout",
     "output_type": "stream",
     "text": [
      "\r",
      "...8.045% completed in 119.002 sec!"
     ]
    },
    {
     "name": "stderr",
     "output_type": "stream",
     "text": [
      "/home/docker/env/neurosci/lib/python3.9/site-packages/elephant/conversion.py:1170: UserWarning:Binning discarded 119 last spike(s) of the input spiketrain\n"
     ]
    },
    {
     "name": "stdout",
     "output_type": "stream",
     "text": [
      "\r",
      "...8.091% completed in 119.593 sec!"
     ]
    },
    {
     "name": "stderr",
     "output_type": "stream",
     "text": [
      "/home/docker/env/neurosci/lib/python3.9/site-packages/elephant/conversion.py:1170: UserWarning:Binning discarded 118 last spike(s) of the input spiketrain\n"
     ]
    },
    {
     "name": "stdout",
     "output_type": "stream",
     "text": [
      "\r",
      "...8.136% completed in 120.184 sec!\r",
      "...8.182% completed in 120.838 sec!"
     ]
    },
    {
     "name": "stderr",
     "output_type": "stream",
     "text": [
      "/home/docker/env/neurosci/lib/python3.9/site-packages/elephant/conversion.py:1170: UserWarning:Binning discarded 163 last spike(s) of the input spiketrain\n",
      "/home/docker/env/neurosci/lib/python3.9/site-packages/elephant/conversion.py:1170: UserWarning:Binning discarded 100 last spike(s) of the input spiketrain\n",
      "/home/docker/env/neurosci/lib/python3.9/site-packages/elephant/conversion.py:1170: UserWarning:Binning discarded 673 last spike(s) of the input spiketrain\n"
     ]
    },
    {
     "name": "stdout",
     "output_type": "stream",
     "text": [
      "\r",
      "...8.227% completed in 121.494 sec!"
     ]
    },
    {
     "name": "stderr",
     "output_type": "stream",
     "text": [
      "/home/docker/env/neurosci/lib/python3.9/site-packages/elephant/conversion.py:1170: UserWarning:Binning discarded 89 last spike(s) of the input spiketrain\n"
     ]
    },
    {
     "name": "stdout",
     "output_type": "stream",
     "text": [
      "\r",
      "...8.273% completed in 122.167 sec!"
     ]
    },
    {
     "name": "stderr",
     "output_type": "stream",
     "text": [
      "/home/docker/env/neurosci/lib/python3.9/site-packages/elephant/conversion.py:1170: UserWarning:Binning discarded 976 last spike(s) of the input spiketrain\n"
     ]
    },
    {
     "name": "stdout",
     "output_type": "stream",
     "text": [
      "\r",
      "...8.318% completed in 122.898 sec!"
     ]
    },
    {
     "name": "stderr",
     "output_type": "stream",
     "text": [
      "/home/docker/env/neurosci/lib/python3.9/site-packages/elephant/conversion.py:1170: UserWarning:Binning discarded 210 last spike(s) of the input spiketrain\n",
      "/home/docker/env/neurosci/lib/python3.9/site-packages/elephant/conversion.py:1170: UserWarning:Binning discarded 236 last spike(s) of the input spiketrain\n"
     ]
    },
    {
     "name": "stdout",
     "output_type": "stream",
     "text": [
      "\r",
      "...8.364% completed in 123.62 sec!"
     ]
    },
    {
     "name": "stderr",
     "output_type": "stream",
     "text": [
      "/home/docker/env/neurosci/lib/python3.9/site-packages/elephant/conversion.py:1170: UserWarning:Binning discarded 154 last spike(s) of the input spiketrain\n",
      "/home/docker/env/neurosci/lib/python3.9/site-packages/elephant/conversion.py:1170: UserWarning:Binning discarded 1097 last spike(s) of the input spiketrain\n"
     ]
    },
    {
     "name": "stdout",
     "output_type": "stream",
     "text": [
      "\r",
      "...8.409% completed in 124.331 sec!"
     ]
    },
    {
     "name": "stderr",
     "output_type": "stream",
     "text": [
      "/home/docker/env/neurosci/lib/python3.9/site-packages/elephant/conversion.py:1170: UserWarning:Binning discarded 314 last spike(s) of the input spiketrain\n"
     ]
    },
    {
     "name": "stdout",
     "output_type": "stream",
     "text": [
      "\r",
      "...8.455% completed in 125.091 sec!"
     ]
    },
    {
     "name": "stderr",
     "output_type": "stream",
     "text": [
      "/home/docker/env/neurosci/lib/python3.9/site-packages/elephant/conversion.py:1170: UserWarning:Binning discarded 371 last spike(s) of the input spiketrain\n"
     ]
    },
    {
     "name": "stdout",
     "output_type": "stream",
     "text": [
      "\r",
      "...8.500% completed in 125.853 sec!"
     ]
    },
    {
     "name": "stderr",
     "output_type": "stream",
     "text": [
      "/home/docker/env/neurosci/lib/python3.9/site-packages/elephant/conversion.py:1170: UserWarning:Binning discarded 377 last spike(s) of the input spiketrain\n",
      "/home/docker/env/neurosci/lib/python3.9/site-packages/elephant/conversion.py:1170: UserWarning:Binning discarded 278 last spike(s) of the input spiketrain\n"
     ]
    },
    {
     "name": "stdout",
     "output_type": "stream",
     "text": [
      "\r",
      "...8.545% completed in 126.627 sec!"
     ]
    },
    {
     "name": "stderr",
     "output_type": "stream",
     "text": [
      "/home/docker/env/neurosci/lib/python3.9/site-packages/elephant/conversion.py:1170: UserWarning:Binning discarded 169 last spike(s) of the input spiketrain\n"
     ]
    },
    {
     "name": "stdout",
     "output_type": "stream",
     "text": [
      "...8.636% completed in 128.049 sec!"
     ]
    },
    {
     "name": "stderr",
     "output_type": "stream",
     "text": [
      "/home/docker/env/neurosci/lib/python3.9/site-packages/elephant/conversion.py:1170: UserWarning:Binning discarded 237 last spike(s) of the input spiketrain\n",
      "/home/docker/env/neurosci/lib/python3.9/site-packages/elephant/conversion.py:1170: UserWarning:Binning discarded 339 last spike(s) of the input spiketrain\n"
     ]
    },
    {
     "name": "stdout",
     "output_type": "stream",
     "text": [
      "\r",
      "...8.682% completed in 128.829 sec!\r",
      "...8.727% completed in 129.622 sec!"
     ]
    },
    {
     "name": "stderr",
     "output_type": "stream",
     "text": [
      "/home/docker/env/neurosci/lib/python3.9/site-packages/elephant/conversion.py:1170: UserWarning:Binning discarded 240 last spike(s) of the input spiketrain\n",
      "/home/docker/env/neurosci/lib/python3.9/site-packages/elephant/conversion.py:1170: UserWarning:Binning discarded 999 last spike(s) of the input spiketrain\n",
      "/home/docker/env/neurosci/lib/python3.9/site-packages/elephant/conversion.py:1170: UserWarning:Binning discarded 332 last spike(s) of the input spiketrain\n",
      "/home/docker/env/neurosci/lib/python3.9/site-packages/elephant/conversion.py:1170: UserWarning:Binning discarded 490 last spike(s) of the input spiketrain\n"
     ]
    },
    {
     "name": "stdout",
     "output_type": "stream",
     "text": [
      "\r",
      "...8.773% completed in 130.359 sec!"
     ]
    },
    {
     "name": "stderr",
     "output_type": "stream",
     "text": [
      "/home/docker/env/neurosci/lib/python3.9/site-packages/elephant/conversion.py:1170: UserWarning:Binning discarded 318 last spike(s) of the input spiketrain\n",
      "/home/docker/env/neurosci/lib/python3.9/site-packages/elephant/conversion.py:1170: UserWarning:Binning discarded 196 last spike(s) of the input spiketrain\n"
     ]
    },
    {
     "name": "stdout",
     "output_type": "stream",
     "text": [
      "\r",
      "...8.818% completed in 131.169 sec!"
     ]
    },
    {
     "name": "stderr",
     "output_type": "stream",
     "text": [
      "/home/docker/env/neurosci/lib/python3.9/site-packages/elephant/conversion.py:1170: UserWarning:Binning discarded 201 last spike(s) of the input spiketrain\n"
     ]
    },
    {
     "name": "stdout",
     "output_type": "stream",
     "text": [
      "\r",
      "...8.864% completed in 131.939 sec!"
     ]
    },
    {
     "name": "stderr",
     "output_type": "stream",
     "text": [
      "/home/docker/env/neurosci/lib/python3.9/site-packages/elephant/conversion.py:1170: UserWarning:Binning discarded 322 last spike(s) of the input spiketrain\n"
     ]
    },
    {
     "name": "stdout",
     "output_type": "stream",
     "text": [
      "\r",
      "...8.909% completed in 132.728 sec!"
     ]
    },
    {
     "name": "stderr",
     "output_type": "stream",
     "text": [
      "/home/docker/env/neurosci/lib/python3.9/site-packages/elephant/conversion.py:1170: UserWarning:Binning discarded 454 last spike(s) of the input spiketrain\n"
     ]
    },
    {
     "name": "stdout",
     "output_type": "stream",
     "text": [
      "\r",
      "...8.955% completed in 133.487 sec!"
     ]
    },
    {
     "name": "stderr",
     "output_type": "stream",
     "text": [
      "/home/docker/env/neurosci/lib/python3.9/site-packages/elephant/conversion.py:1170: UserWarning:Binning discarded 1603 last spike(s) of the input spiketrain\n",
      "/home/docker/env/neurosci/lib/python3.9/site-packages/elephant/conversion.py:1170: UserWarning:Binning discarded 677 last spike(s) of the input spiketrain\n"
     ]
    },
    {
     "name": "stdout",
     "output_type": "stream",
     "text": [
      "\r",
      "...9.000% completed in 134.388 sec!"
     ]
    },
    {
     "name": "stderr",
     "output_type": "stream",
     "text": [
      "/home/docker/env/neurosci/lib/python3.9/site-packages/elephant/conversion.py:1170: UserWarning:Binning discarded 198 last spike(s) of the input spiketrain\n",
      "/home/docker/env/neurosci/lib/python3.9/site-packages/elephant/conversion.py:1170: UserWarning:Binning discarded 162 last spike(s) of the input spiketrain\n"
     ]
    },
    {
     "name": "stdout",
     "output_type": "stream",
     "text": [
      "\r",
      "...9.045% completed in 135.137 sec!\r",
      "...9.091% completed in 135.909 sec!"
     ]
    },
    {
     "name": "stderr",
     "output_type": "stream",
     "text": [
      "/home/docker/env/neurosci/lib/python3.9/site-packages/elephant/conversion.py:1170: UserWarning:Binning discarded 296 last spike(s) of the input spiketrain\n",
      "/home/docker/env/neurosci/lib/python3.9/site-packages/elephant/conversion.py:1170: UserWarning:Binning discarded 1198 last spike(s) of the input spiketrain\n"
     ]
    },
    {
     "name": "stdout",
     "output_type": "stream",
     "text": [
      "\r",
      "...9.136% completed in 136.807 sec!"
     ]
    },
    {
     "name": "stderr",
     "output_type": "stream",
     "text": [
      "/home/docker/env/neurosci/lib/python3.9/site-packages/elephant/conversion.py:1170: UserWarning:Binning discarded 737 last spike(s) of the input spiketrain\n",
      "/home/docker/env/neurosci/lib/python3.9/site-packages/elephant/conversion.py:1170: UserWarning:Binning discarded 173 last spike(s) of the input spiketrain\n"
     ]
    },
    {
     "name": "stdout",
     "output_type": "stream",
     "text": [
      "\r",
      "...9.182% completed in 137.53 sec!"
     ]
    },
    {
     "name": "stderr",
     "output_type": "stream",
     "text": [
      "/home/docker/env/neurosci/lib/python3.9/site-packages/elephant/conversion.py:1170: UserWarning:Binning discarded 465 last spike(s) of the input spiketrain\n"
     ]
    },
    {
     "name": "stdout",
     "output_type": "stream",
     "text": [
      "\r",
      "...9.227% completed in 138.361 sec!\r",
      "...9.273% completed in 139.194 sec!"
     ]
    },
    {
     "name": "stderr",
     "output_type": "stream",
     "text": [
      "/home/docker/env/neurosci/lib/python3.9/site-packages/elephant/conversion.py:1170: UserWarning:Binning discarded 223 last spike(s) of the input spiketrain\n",
      "/home/docker/env/neurosci/lib/python3.9/site-packages/elephant/conversion.py:1170: UserWarning:Binning discarded 309 last spike(s) of the input spiketrain\n",
      "/home/docker/env/neurosci/lib/python3.9/site-packages/elephant/conversion.py:1170: UserWarning:Binning discarded 400 last spike(s) of the input spiketrain\n"
     ]
    },
    {
     "name": "stdout",
     "output_type": "stream",
     "text": [
      "\r",
      "...9.318% completed in 140.04 sec!"
     ]
    },
    {
     "name": "stderr",
     "output_type": "stream",
     "text": [
      "/home/docker/env/neurosci/lib/python3.9/site-packages/elephant/conversion.py:1170: UserWarning:Binning discarded 1523 last spike(s) of the input spiketrain\n"
     ]
    },
    {
     "name": "stdout",
     "output_type": "stream",
     "text": [
      "\r",
      "...9.364% completed in 140.893 sec!"
     ]
    },
    {
     "name": "stderr",
     "output_type": "stream",
     "text": [
      "/home/docker/env/neurosci/lib/python3.9/site-packages/elephant/conversion.py:1170: UserWarning:Binning discarded 535 last spike(s) of the input spiketrain\n",
      "/home/docker/env/neurosci/lib/python3.9/site-packages/elephant/conversion.py:1170: UserWarning:Binning discarded 166 last spike(s) of the input spiketrain\n"
     ]
    },
    {
     "name": "stdout",
     "output_type": "stream",
     "text": [
      "\r",
      "...9.409% completed in 141.781 sec!"
     ]
    },
    {
     "name": "stderr",
     "output_type": "stream",
     "text": [
      "/home/docker/env/neurosci/lib/python3.9/site-packages/elephant/conversion.py:1170: UserWarning:Binning discarded 188 last spike(s) of the input spiketrain\n",
      "/home/docker/env/neurosci/lib/python3.9/site-packages/elephant/conversion.py:1170: UserWarning:Binning discarded 1190 last spike(s) of the input spiketrain\n"
     ]
    },
    {
     "name": "stdout",
     "output_type": "stream",
     "text": [
      "...9.545% completed in 144.389 sec!"
     ]
    },
    {
     "name": "stderr",
     "output_type": "stream",
     "text": [
      "/home/docker/env/neurosci/lib/python3.9/site-packages/elephant/conversion.py:1170: UserWarning:Binning discarded 280 last spike(s) of the input spiketrain\n",
      "/home/docker/env/neurosci/lib/python3.9/site-packages/elephant/conversion.py:1170: UserWarning:Binning discarded 501 last spike(s) of the input spiketrain\n"
     ]
    },
    {
     "name": "stdout",
     "output_type": "stream",
     "text": [
      "\r",
      "...9.591% completed in 145.294 sec!"
     ]
    },
    {
     "name": "stderr",
     "output_type": "stream",
     "text": [
      "/home/docker/env/neurosci/lib/python3.9/site-packages/elephant/conversion.py:1170: UserWarning:Binning discarded 464 last spike(s) of the input spiketrain\n",
      "/home/docker/env/neurosci/lib/python3.9/site-packages/elephant/conversion.py:1170: UserWarning:Binning discarded 189 last spike(s) of the input spiketrain\n"
     ]
    },
    {
     "name": "stdout",
     "output_type": "stream",
     "text": [
      "\r",
      "...9.636% completed in 146.151 sec!"
     ]
    },
    {
     "name": "stderr",
     "output_type": "stream",
     "text": [
      "/home/docker/env/neurosci/lib/python3.9/site-packages/elephant/conversion.py:1170: UserWarning:Binning discarded 265 last spike(s) of the input spiketrain\n"
     ]
    },
    {
     "name": "stdout",
     "output_type": "stream",
     "text": [
      "\r",
      "...9.682% completed in 147.032 sec!"
     ]
    },
    {
     "name": "stderr",
     "output_type": "stream",
     "text": [
      "/home/docker/env/neurosci/lib/python3.9/site-packages/elephant/conversion.py:1170: UserWarning:Binning discarded 1551 last spike(s) of the input spiketrain\n"
     ]
    },
    {
     "name": "stdout",
     "output_type": "stream",
     "text": [
      "\r",
      "...9.727% completed in 147.874 sec!"
     ]
    },
    {
     "name": "stderr",
     "output_type": "stream",
     "text": [
      "/home/docker/env/neurosci/lib/python3.9/site-packages/elephant/conversion.py:1170: UserWarning:Binning discarded 174 last spike(s) of the input spiketrain\n"
     ]
    },
    {
     "name": "stdout",
     "output_type": "stream",
     "text": [
      "\r",
      "...9.773% completed in 148.72 sec!"
     ]
    },
    {
     "name": "stderr",
     "output_type": "stream",
     "text": [
      "/home/docker/env/neurosci/lib/python3.9/site-packages/elephant/conversion.py:1170: UserWarning:Binning discarded 1118 last spike(s) of the input spiketrain\n"
     ]
    },
    {
     "name": "stdout",
     "output_type": "stream",
     "text": [
      "\r",
      "...9.818% completed in 149.636 sec!"
     ]
    },
    {
     "name": "stderr",
     "output_type": "stream",
     "text": [
      "/home/docker/env/neurosci/lib/python3.9/site-packages/elephant/conversion.py:1170: UserWarning:Binning discarded 269 last spike(s) of the input spiketrain\n"
     ]
    },
    {
     "name": "stdout",
     "output_type": "stream",
     "text": [
      "\r",
      "...9.864% completed in 150.545 sec!"
     ]
    },
    {
     "name": "stderr",
     "output_type": "stream",
     "text": [
      "/home/docker/env/neurosci/lib/python3.9/site-packages/elephant/conversion.py:1170: UserWarning:Binning discarded 515 last spike(s) of the input spiketrain\n"
     ]
    },
    {
     "name": "stdout",
     "output_type": "stream",
     "text": [
      "\r",
      "...9.909% completed in 151.399 sec!"
     ]
    },
    {
     "name": "stderr",
     "output_type": "stream",
     "text": [
      "/home/docker/env/neurosci/lib/python3.9/site-packages/elephant/conversion.py:1170: UserWarning:Binning discarded 161 last spike(s) of the input spiketrain\n",
      "/home/docker/env/neurosci/lib/python3.9/site-packages/elephant/conversion.py:1170: UserWarning:Binning discarded 1258 last spike(s) of the input spiketrain\n"
     ]
    },
    {
     "name": "stdout",
     "output_type": "stream",
     "text": [
      "\r",
      "...9.955% completed in 152.319 sec!"
     ]
    },
    {
     "name": "stderr",
     "output_type": "stream",
     "text": [
      "/home/docker/env/neurosci/lib/python3.9/site-packages/elephant/conversion.py:1170: UserWarning:Binning discarded 388 last spike(s) of the input spiketrain\n"
     ]
    },
    {
     "name": "stdout",
     "output_type": "stream",
     "text": [
      "\r",
      "...10.000% completed in 153.234 sec!"
     ]
    },
    {
     "name": "stderr",
     "output_type": "stream",
     "text": [
      "/home/docker/env/neurosci/lib/python3.9/site-packages/elephant/conversion.py:1170: UserWarning:Binning discarded 341 last spike(s) of the input spiketrain\n"
     ]
    },
    {
     "name": "stdout",
     "output_type": "stream",
     "text": [
      "\r",
      "...10.045% completed in 154.167 sec!"
     ]
    },
    {
     "name": "stderr",
     "output_type": "stream",
     "text": [
      "/home/docker/env/neurosci/lib/python3.9/site-packages/elephant/conversion.py:1170: UserWarning:Binning discarded 717 last spike(s) of the input spiketrain\n",
      "/home/docker/env/neurosci/lib/python3.9/site-packages/elephant/conversion.py:1170: UserWarning:Binning discarded 560 last spike(s) of the input spiketrain\n"
     ]
    },
    {
     "name": "stdout",
     "output_type": "stream",
     "text": [
      "\r",
      "...10.091% completed in 155.12 sec!"
     ]
    },
    {
     "name": "stderr",
     "output_type": "stream",
     "text": [
      "/home/docker/env/neurosci/lib/python3.9/site-packages/elephant/conversion.py:1170: UserWarning:Binning discarded 381 last spike(s) of the input spiketrain\n",
      "/home/docker/env/neurosci/lib/python3.9/site-packages/elephant/conversion.py:1170: UserWarning:Binning discarded 249 last spike(s) of the input spiketrain\n"
     ]
    },
    {
     "name": "stdout",
     "output_type": "stream",
     "text": [
      "...10.182% completed in 156.912 sec!"
     ]
    },
    {
     "name": "stderr",
     "output_type": "stream",
     "text": [
      "/home/docker/env/neurosci/lib/python3.9/site-packages/elephant/conversion.py:1170: UserWarning:Binning discarded 1139 last spike(s) of the input spiketrain\n"
     ]
    },
    {
     "name": "stdout",
     "output_type": "stream",
     "text": [
      "\r",
      "...10.227% completed in 157.816 sec!"
     ]
    },
    {
     "name": "stderr",
     "output_type": "stream",
     "text": [
      "/home/docker/env/neurosci/lib/python3.9/site-packages/elephant/conversion.py:1170: UserWarning:Binning discarded 462 last spike(s) of the input spiketrain\n",
      "/home/docker/env/neurosci/lib/python3.9/site-packages/elephant/conversion.py:1170: UserWarning:Binning discarded 327 last spike(s) of the input spiketrain\n"
     ]
    },
    {
     "name": "stdout",
     "output_type": "stream",
     "text": [
      "\r",
      "...10.273% completed in 158.783 sec!"
     ]
    },
    {
     "name": "stderr",
     "output_type": "stream",
     "text": [
      "/home/docker/env/neurosci/lib/python3.9/site-packages/elephant/conversion.py:1170: UserWarning:Binning discarded 186 last spike(s) of the input spiketrain\n"
     ]
    },
    {
     "name": "stdout",
     "output_type": "stream",
     "text": [
      "...10.364% completed in 160.663 sec!"
     ]
    },
    {
     "name": "stderr",
     "output_type": "stream",
     "text": [
      "/home/docker/env/neurosci/lib/python3.9/site-packages/elephant/conversion.py:1170: UserWarning:Binning discarded 316 last spike(s) of the input spiketrain\n"
     ]
    },
    {
     "name": "stdout",
     "output_type": "stream",
     "text": [
      "\r",
      "...10.409% completed in 161.614 sec!"
     ]
    },
    {
     "name": "stderr",
     "output_type": "stream",
     "text": [
      "/home/docker/env/neurosci/lib/python3.9/site-packages/elephant/conversion.py:1170: UserWarning:Binning discarded 284 last spike(s) of the input spiketrain\n",
      "/home/docker/env/neurosci/lib/python3.9/site-packages/elephant/conversion.py:1170: UserWarning:Binning discarded 852 last spike(s) of the input spiketrain\n"
     ]
    },
    {
     "name": "stdout",
     "output_type": "stream",
     "text": [
      "\r",
      "...10.455% completed in 162.496 sec!"
     ]
    },
    {
     "name": "stderr",
     "output_type": "stream",
     "text": [
      "/home/docker/env/neurosci/lib/python3.9/site-packages/elephant/conversion.py:1170: UserWarning:Binning discarded 396 last spike(s) of the input spiketrain\n"
     ]
    },
    {
     "name": "stdout",
     "output_type": "stream",
     "text": [
      "...10.545% completed in 164.228 sec!"
     ]
    },
    {
     "name": "stderr",
     "output_type": "stream",
     "text": [
      "/home/docker/env/neurosci/lib/python3.9/site-packages/elephant/conversion.py:1170: UserWarning:Binning discarded 367 last spike(s) of the input spiketrain\n",
      "/home/docker/env/neurosci/lib/python3.9/site-packages/elephant/conversion.py:1170: UserWarning:Binning discarded 883 last spike(s) of the input spiketrain\n"
     ]
    },
    {
     "name": "stdout",
     "output_type": "stream",
     "text": [
      "\r",
      "...10.591% completed in 165.046 sec!"
     ]
    },
    {
     "name": "stderr",
     "output_type": "stream",
     "text": [
      "/home/docker/env/neurosci/lib/python3.9/site-packages/elephant/conversion.py:1170: UserWarning:Binning discarded 493 last spike(s) of the input spiketrain\n",
      "/home/docker/env/neurosci/lib/python3.9/site-packages/elephant/conversion.py:1170: UserWarning:Binning discarded 282 last spike(s) of the input spiketrain\n"
     ]
    },
    {
     "name": "stdout",
     "output_type": "stream",
     "text": [
      "\r",
      "...10.636% completed in 165.92 sec!"
     ]
    },
    {
     "name": "stderr",
     "output_type": "stream",
     "text": [
      "/home/docker/env/neurosci/lib/python3.9/site-packages/elephant/conversion.py:1170: UserWarning:Binning discarded 263 last spike(s) of the input spiketrain\n",
      "/home/docker/env/neurosci/lib/python3.9/site-packages/elephant/conversion.py:1170: UserWarning:Binning discarded 329 last spike(s) of the input spiketrain\n"
     ]
    },
    {
     "name": "stdout",
     "output_type": "stream",
     "text": [
      "\r",
      "...10.682% completed in 166.669 sec!"
     ]
    },
    {
     "name": "stderr",
     "output_type": "stream",
     "text": [
      "/home/docker/env/neurosci/lib/python3.9/site-packages/elephant/conversion.py:1170: UserWarning:Binning discarded 841 last spike(s) of the input spiketrain\n"
     ]
    },
    {
     "name": "stdout",
     "output_type": "stream",
     "text": [
      "\r",
      "...10.727% completed in 167.465 sec!"
     ]
    },
    {
     "name": "stderr",
     "output_type": "stream",
     "text": [
      "/home/docker/env/neurosci/lib/python3.9/site-packages/elephant/conversion.py:1170: UserWarning:Binning discarded 361 last spike(s) of the input spiketrain\n"
     ]
    },
    {
     "name": "stdout",
     "output_type": "stream",
     "text": [
      "\r",
      "...10.773% completed in 168.252 sec!"
     ]
    },
    {
     "name": "stderr",
     "output_type": "stream",
     "text": [
      "/home/docker/env/neurosci/lib/python3.9/site-packages/elephant/conversion.py:1170: UserWarning:Binning discarded 776 last spike(s) of the input spiketrain\n"
     ]
    },
    {
     "name": "stdout",
     "output_type": "stream",
     "text": [
      "\r",
      "...10.818% completed in 168.997 sec!"
     ]
    },
    {
     "name": "stderr",
     "output_type": "stream",
     "text": [
      "/home/docker/env/neurosci/lib/python3.9/site-packages/elephant/conversion.py:1170: UserWarning:Binning discarded 474 last spike(s) of the input spiketrain\n",
      "/home/docker/env/neurosci/lib/python3.9/site-packages/elephant/conversion.py:1170: UserWarning:Binning discarded 354 last spike(s) of the input spiketrain\n"
     ]
    },
    {
     "name": "stdout",
     "output_type": "stream",
     "text": [
      "\r",
      "...10.864% completed in 169.818 sec!"
     ]
    },
    {
     "name": "stderr",
     "output_type": "stream",
     "text": [
      "/home/docker/env/neurosci/lib/python3.9/site-packages/elephant/conversion.py:1170: UserWarning:Binning discarded 260 last spike(s) of the input spiketrain\n"
     ]
    },
    {
     "name": "stdout",
     "output_type": "stream",
     "text": [
      "\r",
      "...10.909% completed in 170.643 sec!"
     ]
    },
    {
     "name": "stderr",
     "output_type": "stream",
     "text": [
      "/home/docker/env/neurosci/lib/python3.9/site-packages/elephant/conversion.py:1170: UserWarning:Binning discarded 252 last spike(s) of the input spiketrain\n",
      "/home/docker/env/neurosci/lib/python3.9/site-packages/elephant/conversion.py:1170: UserWarning:Binning discarded 844 last spike(s) of the input spiketrain\n"
     ]
    },
    {
     "name": "stdout",
     "output_type": "stream",
     "text": [
      "...11.091% completed in 173.744 sec!"
     ]
    },
    {
     "name": "stderr",
     "output_type": "stream",
     "text": [
      "/home/docker/env/neurosci/lib/python3.9/site-packages/elephant/conversion.py:1170: UserWarning:Binning discarded 829 last spike(s) of the input spiketrain\n",
      "/home/docker/env/neurosci/lib/python3.9/site-packages/elephant/conversion.py:1170: UserWarning:Binning discarded 450 last spike(s) of the input spiketrain\n",
      "/home/docker/env/neurosci/lib/python3.9/site-packages/elephant/conversion.py:1170: UserWarning:Binning discarded 352 last spike(s) of the input spiketrain\n"
     ]
    },
    {
     "name": "stdout",
     "output_type": "stream",
     "text": [
      "\r",
      "...11.136% completed in 174.484 sec!"
     ]
    },
    {
     "name": "stderr",
     "output_type": "stream",
     "text": [
      "/home/docker/env/neurosci/lib/python3.9/site-packages/elephant/conversion.py:1170: UserWarning:Binning discarded 216 last spike(s) of the input spiketrain\n",
      "/home/docker/env/neurosci/lib/python3.9/site-packages/elephant/conversion.py:1170: UserWarning:Binning discarded 784 last spike(s) of the input spiketrain\n"
     ]
    },
    {
     "name": "stdout",
     "output_type": "stream",
     "text": [
      "\r",
      "...11.182% completed in 175.22 sec!"
     ]
    },
    {
     "name": "stderr",
     "output_type": "stream",
     "text": [
      "/home/docker/env/neurosci/lib/python3.9/site-packages/elephant/conversion.py:1170: UserWarning:Binning discarded 588 last spike(s) of the input spiketrain\n",
      "/home/docker/env/neurosci/lib/python3.9/site-packages/elephant/conversion.py:1170: UserWarning:Binning discarded 253 last spike(s) of the input spiketrain\n"
     ]
    },
    {
     "name": "stdout",
     "output_type": "stream",
     "text": [
      "\r",
      "...11.227% completed in 175.981 sec!\r",
      "...11.273% completed in 176.726 sec!"
     ]
    },
    {
     "name": "stderr",
     "output_type": "stream",
     "text": [
      "/home/docker/env/neurosci/lib/python3.9/site-packages/elephant/conversion.py:1170: UserWarning:Binning discarded 376 last spike(s) of the input spiketrain\n",
      "/home/docker/env/neurosci/lib/python3.9/site-packages/elephant/conversion.py:1170: UserWarning:Binning discarded 273 last spike(s) of the input spiketrain\n",
      "/home/docker/env/neurosci/lib/python3.9/site-packages/elephant/conversion.py:1170: UserWarning:Binning discarded 214 last spike(s) of the input spiketrain\n",
      "/home/docker/env/neurosci/lib/python3.9/site-packages/elephant/conversion.py:1170: UserWarning:Binning discarded 917 last spike(s) of the input spiketrain\n"
     ]
    },
    {
     "name": "stdout",
     "output_type": "stream",
     "text": [
      "...11.364% completed in 178.133 sec!"
     ]
    },
    {
     "name": "stderr",
     "output_type": "stream",
     "text": [
      "/home/docker/env/neurosci/lib/python3.9/site-packages/elephant/conversion.py:1170: UserWarning:Binning discarded 227 last spike(s) of the input spiketrain\n",
      "/home/docker/env/neurosci/lib/python3.9/site-packages/elephant/conversion.py:1170: UserWarning:Binning discarded 286 last spike(s) of the input spiketrain\n"
     ]
    },
    {
     "name": "stdout",
     "output_type": "stream",
     "text": [
      "\r",
      "...11.409% completed in 178.827 sec!\r",
      "...11.455% completed in 179.511 sec!"
     ]
    },
    {
     "name": "stderr",
     "output_type": "stream",
     "text": [
      "/home/docker/env/neurosci/lib/python3.9/site-packages/elephant/conversion.py:1170: UserWarning:Binning discarded 825 last spike(s) of the input spiketrain\n",
      "/home/docker/env/neurosci/lib/python3.9/site-packages/elephant/conversion.py:1170: UserWarning:Binning discarded 277 last spike(s) of the input spiketrain\n",
      "/home/docker/env/neurosci/lib/python3.9/site-packages/elephant/conversion.py:1170: UserWarning:Binning discarded 300 last spike(s) of the input spiketrain\n"
     ]
    },
    {
     "name": "stdout",
     "output_type": "stream",
     "text": [
      "\r",
      "...11.500% completed in 180.181 sec!"
     ]
    },
    {
     "name": "stderr",
     "output_type": "stream",
     "text": [
      "/home/docker/env/neurosci/lib/python3.9/site-packages/elephant/conversion.py:1170: UserWarning:Binning discarded 117 last spike(s) of the input spiketrain\n",
      "/home/docker/env/neurosci/lib/python3.9/site-packages/elephant/conversion.py:1170: UserWarning:Binning discarded 956 last spike(s) of the input spiketrain\n"
     ]
    },
    {
     "name": "stdout",
     "output_type": "stream",
     "text": [
      "\r",
      "...11.545% completed in 180.826 sec!"
     ]
    },
    {
     "name": "stderr",
     "output_type": "stream",
     "text": [
      "/home/docker/env/neurosci/lib/python3.9/site-packages/elephant/conversion.py:1170: UserWarning:Binning discarded 413 last spike(s) of the input spiketrain\n",
      "/home/docker/env/neurosci/lib/python3.9/site-packages/elephant/conversion.py:1170: UserWarning:Binning discarded 180 last spike(s) of the input spiketrain\n"
     ]
    },
    {
     "name": "stdout",
     "output_type": "stream",
     "text": [
      "\r",
      "...11.591% completed in 181.46 sec!"
     ]
    },
    {
     "name": "stderr",
     "output_type": "stream",
     "text": [
      "/home/docker/env/neurosci/lib/python3.9/site-packages/elephant/conversion.py:1170: UserWarning:Binning discarded 195 last spike(s) of the input spiketrain\n"
     ]
    },
    {
     "name": "stdout",
     "output_type": "stream",
     "text": [
      "\r",
      "...11.636% completed in 182.061 sec!"
     ]
    },
    {
     "name": "stderr",
     "output_type": "stream",
     "text": [
      "/home/docker/env/neurosci/lib/python3.9/site-packages/elephant/conversion.py:1170: UserWarning:Binning discarded 743 last spike(s) of the input spiketrain\n"
     ]
    },
    {
     "name": "stdout",
     "output_type": "stream",
     "text": [
      "\r",
      "...11.682% completed in 182.667 sec!"
     ]
    },
    {
     "name": "stderr",
     "output_type": "stream",
     "text": [
      "/home/docker/env/neurosci/lib/python3.9/site-packages/elephant/conversion.py:1170: UserWarning:Binning discarded 207 last spike(s) of the input spiketrain\n"
     ]
    },
    {
     "name": "stdout",
     "output_type": "stream",
     "text": [
      "\r",
      "...11.727% completed in 183.283 sec!"
     ]
    },
    {
     "name": "stderr",
     "output_type": "stream",
     "text": [
      "/home/docker/env/neurosci/lib/python3.9/site-packages/elephant/conversion.py:1170: UserWarning:Binning discarded 536 last spike(s) of the input spiketrain\n",
      "/home/docker/env/neurosci/lib/python3.9/site-packages/elephant/conversion.py:1170: UserWarning:Binning discarded 652 last spike(s) of the input spiketrain\n"
     ]
    },
    {
     "name": "stdout",
     "output_type": "stream",
     "text": [
      "\r",
      "...11.773% completed in 183.906 sec!"
     ]
    },
    {
     "name": "stderr",
     "output_type": "stream",
     "text": [
      "/home/docker/env/neurosci/lib/python3.9/site-packages/elephant/conversion.py:1170: UserWarning:Binning discarded 243 last spike(s) of the input spiketrain\n"
     ]
    },
    {
     "name": "stdout",
     "output_type": "stream",
     "text": [
      "\r",
      "...11.818% completed in 184.519 sec!"
     ]
    },
    {
     "name": "stderr",
     "output_type": "stream",
     "text": [
      "/home/docker/env/neurosci/lib/python3.9/site-packages/elephant/conversion.py:1170: UserWarning:Binning discarded 513 last spike(s) of the input spiketrain\n"
     ]
    },
    {
     "name": "stdout",
     "output_type": "stream",
     "text": [
      "\r",
      "...11.864% completed in 185.125 sec!"
     ]
    },
    {
     "name": "stderr",
     "output_type": "stream",
     "text": [
      "/home/docker/env/neurosci/lib/python3.9/site-packages/elephant/conversion.py:1170: UserWarning:Binning discarded 233 last spike(s) of the input spiketrain\n"
     ]
    },
    {
     "name": "stdout",
     "output_type": "stream",
     "text": [
      "\r",
      "...11.909% completed in 185.734 sec!"
     ]
    },
    {
     "name": "stderr",
     "output_type": "stream",
     "text": [
      "/home/docker/env/neurosci/lib/python3.9/site-packages/elephant/conversion.py:1170: UserWarning:Binning discarded 298 last spike(s) of the input spiketrain\n"
     ]
    },
    {
     "name": "stdout",
     "output_type": "stream",
     "text": [
      "...12.091% completed in 188.114 sec!"
     ]
    },
    {
     "name": "stderr",
     "output_type": "stream",
     "text": [
      "/home/docker/env/neurosci/lib/python3.9/site-packages/elephant/conversion.py:1170: UserWarning:Binning discarded 158 last spike(s) of the input spiketrain\n",
      "/home/docker/env/neurosci/lib/python3.9/site-packages/elephant/conversion.py:1170: UserWarning:Binning discarded 194 last spike(s) of the input spiketrain\n"
     ]
    },
    {
     "name": "stdout",
     "output_type": "stream",
     "text": [
      "\r",
      "...12.136% completed in 188.685 sec!"
     ]
    },
    {
     "name": "stderr",
     "output_type": "stream",
     "text": [
      "/home/docker/env/neurosci/lib/python3.9/site-packages/elephant/conversion.py:1170: UserWarning:Binning discarded 127 last spike(s) of the input spiketrain\n",
      "/home/docker/env/neurosci/lib/python3.9/site-packages/elephant/conversion.py:1170: UserWarning:Binning discarded 91 last spike(s) of the input spiketrain\n"
     ]
    },
    {
     "name": "stdout",
     "output_type": "stream",
     "text": [
      "\r",
      "...12.182% completed in 189.281 sec!"
     ]
    },
    {
     "name": "stderr",
     "output_type": "stream",
     "text": [
      "/home/docker/env/neurosci/lib/python3.9/site-packages/elephant/conversion.py:1170: UserWarning:Binning discarded 97 last spike(s) of the input spiketrain\n"
     ]
    },
    {
     "name": "stdout",
     "output_type": "stream",
     "text": [
      "\r",
      "...12.227% completed in 189.852 sec!\r",
      "...12.273% completed in 190.419 sec!"
     ]
    },
    {
     "name": "stderr",
     "output_type": "stream",
     "text": [
      "/home/docker/env/neurosci/lib/python3.9/site-packages/elephant/conversion.py:1170: UserWarning:Binning discarded 62 last spike(s) of the input spiketrain\n",
      "/home/docker/env/neurosci/lib/python3.9/site-packages/elephant/conversion.py:1170: UserWarning:Binning discarded 79 last spike(s) of the input spiketrain\n",
      "/home/docker/env/neurosci/lib/python3.9/site-packages/elephant/conversion.py:1170: UserWarning:Binning discarded 55 last spike(s) of the input spiketrain\n",
      "/home/docker/env/neurosci/lib/python3.9/site-packages/elephant/conversion.py:1170: UserWarning:Binning discarded 80 last spike(s) of the input spiketrain\n"
     ]
    },
    {
     "name": "stdout",
     "output_type": "stream",
     "text": [
      "\r",
      "...12.318% completed in 191.002 sec!"
     ]
    },
    {
     "name": "stderr",
     "output_type": "stream",
     "text": [
      "/home/docker/env/neurosci/lib/python3.9/site-packages/elephant/conversion.py:1170: UserWarning:Binning discarded 63 last spike(s) of the input spiketrain\n"
     ]
    },
    {
     "name": "stdout",
     "output_type": "stream",
     "text": [
      "\r",
      "...12.364% completed in 191.556 sec!"
     ]
    },
    {
     "name": "stderr",
     "output_type": "stream",
     "text": [
      "/home/docker/env/neurosci/lib/python3.9/site-packages/elephant/conversion.py:1170: UserWarning:Binning discarded 51 last spike(s) of the input spiketrain\n"
     ]
    },
    {
     "name": "stdout",
     "output_type": "stream",
     "text": [
      "\r",
      "...12.409% completed in 192.127 sec!"
     ]
    },
    {
     "name": "stderr",
     "output_type": "stream",
     "text": [
      "/home/docker/env/neurosci/lib/python3.9/site-packages/elephant/conversion.py:1170: UserWarning:Binning discarded 30 last spike(s) of the input spiketrain\n"
     ]
    },
    {
     "name": "stdout",
     "output_type": "stream",
     "text": [
      "...12.500% completed in 193.25 sec!"
     ]
    },
    {
     "name": "stderr",
     "output_type": "stream",
     "text": [
      "/home/docker/env/neurosci/lib/python3.9/site-packages/elephant/conversion.py:1170: UserWarning:Binning discarded 26 last spike(s) of the input spiketrain\n"
     ]
    },
    {
     "name": "stdout",
     "output_type": "stream",
     "text": [
      "\r",
      "...12.545% completed in 193.808 sec!"
     ]
    },
    {
     "name": "stderr",
     "output_type": "stream",
     "text": [
      "/home/docker/env/neurosci/lib/python3.9/site-packages/elephant/conversion.py:1170: UserWarning:Binning discarded 33 last spike(s) of the input spiketrain\n"
     ]
    },
    {
     "name": "stdout",
     "output_type": "stream",
     "text": [
      "\r",
      "...12.591% completed in 194.375 sec!"
     ]
    },
    {
     "name": "stderr",
     "output_type": "stream",
     "text": [
      "/home/docker/env/neurosci/lib/python3.9/site-packages/elephant/conversion.py:1170: UserWarning:Binning discarded 25 last spike(s) of the input spiketrain\n"
     ]
    },
    {
     "name": "stdout",
     "output_type": "stream",
     "text": [
      "...13.318% completed in 203.133 sec!"
     ]
    },
    {
     "name": "stderr",
     "output_type": "stream",
     "text": [
      "/home/docker/env/neurosci/lib/python3.9/site-packages/elephant/conversion.py:1170: UserWarning:Binning discarded 23 last spike(s) of the input spiketrain\n"
     ]
    },
    {
     "name": "stdout",
     "output_type": "stream",
     "text": [
      "...14.545% completed in 217.916 sec!"
     ]
    },
    {
     "name": "stderr",
     "output_type": "stream",
     "text": [
      "/home/docker/env/neurosci/lib/python3.9/site-packages/elephant/conversion.py:1170: UserWarning:Binning discarded 20 last spike(s) of the input spiketrain\n"
     ]
    },
    {
     "name": "stdout",
     "output_type": "stream",
     "text": [
      "...15.545% completed in 230.466 sec!"
     ]
    },
    {
     "name": "stderr",
     "output_type": "stream",
     "text": [
      "/home/docker/env/neurosci/lib/python3.9/site-packages/elephant/conversion.py:1170: UserWarning:Binning discarded 239 last spike(s) of the input spiketrain\n",
      "/home/docker/env/neurosci/lib/python3.9/site-packages/elephant/conversion.py:1170: UserWarning:Binning discarded 76 last spike(s) of the input spiketrain\n"
     ]
    },
    {
     "name": "stdout",
     "output_type": "stream",
     "text": [
      "\r",
      "...15.591% completed in 231.076 sec!"
     ]
    },
    {
     "name": "stderr",
     "output_type": "stream",
     "text": [
      "/home/docker/env/neurosci/lib/python3.9/site-packages/elephant/conversion.py:1170: UserWarning:Binning discarded 218 last spike(s) of the input spiketrain\n"
     ]
    },
    {
     "name": "stdout",
     "output_type": "stream",
     "text": [
      "\r",
      "...15.636% completed in 231.711 sec!"
     ]
    },
    {
     "name": "stderr",
     "output_type": "stream",
     "text": [
      "/home/docker/env/neurosci/lib/python3.9/site-packages/elephant/conversion.py:1170: UserWarning:Binning discarded 115 last spike(s) of the input spiketrain\n"
     ]
    },
    {
     "name": "stdout",
     "output_type": "stream",
     "text": [
      "...15.727% completed in 233.041 sec!"
     ]
    },
    {
     "name": "stderr",
     "output_type": "stream",
     "text": [
      "/home/docker/env/neurosci/lib/python3.9/site-packages/elephant/conversion.py:1170: UserWarning:Binning discarded 363 last spike(s) of the input spiketrain\n"
     ]
    },
    {
     "name": "stdout",
     "output_type": "stream",
     "text": [
      "\r",
      "...15.773% completed in 233.689 sec!"
     ]
    },
    {
     "name": "stderr",
     "output_type": "stream",
     "text": [
      "/home/docker/env/neurosci/lib/python3.9/site-packages/elephant/conversion.py:1170: UserWarning:Binning discarded 138 last spike(s) of the input spiketrain\n"
     ]
    },
    {
     "name": "stdout",
     "output_type": "stream",
     "text": [
      "\r",
      "...15.818% completed in 234.375 sec!"
     ]
    },
    {
     "name": "stderr",
     "output_type": "stream",
     "text": [
      "/home/docker/env/neurosci/lib/python3.9/site-packages/elephant/conversion.py:1170: UserWarning:Binning discarded 157 last spike(s) of the input spiketrain\n"
     ]
    },
    {
     "name": "stdout",
     "output_type": "stream",
     "text": [
      "\r",
      "...15.864% completed in 235.07 sec!"
     ]
    },
    {
     "name": "stderr",
     "output_type": "stream",
     "text": [
      "/home/docker/env/neurosci/lib/python3.9/site-packages/elephant/conversion.py:1170: UserWarning:Binning discarded 315 last spike(s) of the input spiketrain\n",
      "/home/docker/env/neurosci/lib/python3.9/site-packages/elephant/conversion.py:1170: UserWarning:Binning discarded 219 last spike(s) of the input spiketrain\n"
     ]
    },
    {
     "name": "stdout",
     "output_type": "stream",
     "text": [
      "\r",
      "...15.909% completed in 235.819 sec!"
     ]
    },
    {
     "name": "stderr",
     "output_type": "stream",
     "text": [
      "/home/docker/env/neurosci/lib/python3.9/site-packages/elephant/conversion.py:1170: UserWarning:Binning discarded 122 last spike(s) of the input spiketrain\n"
     ]
    },
    {
     "name": "stdout",
     "output_type": "stream",
     "text": [
      "...16.000% completed in 237.209 sec!"
     ]
    },
    {
     "name": "stderr",
     "output_type": "stream",
     "text": [
      "/home/docker/env/neurosci/lib/python3.9/site-packages/elephant/conversion.py:1170: UserWarning:Binning discarded 402 last spike(s) of the input spiketrain\n"
     ]
    },
    {
     "name": "stdout",
     "output_type": "stream",
     "text": [
      "\r",
      "...16.045% completed in 237.986 sec!"
     ]
    },
    {
     "name": "stderr",
     "output_type": "stream",
     "text": [
      "/home/docker/env/neurosci/lib/python3.9/site-packages/elephant/conversion.py:1170: UserWarning:Binning discarded 1274 last spike(s) of the input spiketrain\n"
     ]
    },
    {
     "name": "stdout",
     "output_type": "stream",
     "text": [
      "...16.182% completed in 240.225 sec!"
     ]
    },
    {
     "name": "stderr",
     "output_type": "stream",
     "text": [
      "/home/docker/env/neurosci/lib/python3.9/site-packages/elephant/conversion.py:1170: UserWarning:Binning discarded 362 last spike(s) of the input spiketrain\n",
      "/home/docker/env/neurosci/lib/python3.9/site-packages/elephant/conversion.py:1170: UserWarning:Binning discarded 193 last spike(s) of the input spiketrain\n"
     ]
    },
    {
     "name": "stdout",
     "output_type": "stream",
     "text": [
      "\r",
      "...16.227% completed in 240.984 sec!\r",
      "...16.273% completed in 241.797 sec!"
     ]
    },
    {
     "name": "stderr",
     "output_type": "stream",
     "text": [
      "/home/docker/env/neurosci/lib/python3.9/site-packages/elephant/conversion.py:1170: UserWarning:Binning discarded 408 last spike(s) of the input spiketrain\n",
      "/home/docker/env/neurosci/lib/python3.9/site-packages/elephant/conversion.py:1170: UserWarning:Binning discarded 191 last spike(s) of the input spiketrain\n",
      "/home/docker/env/neurosci/lib/python3.9/site-packages/elephant/conversion.py:1170: UserWarning:Binning discarded 124 last spike(s) of the input spiketrain\n",
      "/home/docker/env/neurosci/lib/python3.9/site-packages/elephant/conversion.py:1170: UserWarning:Binning discarded 444 last spike(s) of the input spiketrain\n"
     ]
    },
    {
     "name": "stdout",
     "output_type": "stream",
     "text": [
      "\r",
      "...16.318% completed in 242.593 sec!"
     ]
    },
    {
     "name": "stderr",
     "output_type": "stream",
     "text": [
      "/home/docker/env/neurosci/lib/python3.9/site-packages/elephant/conversion.py:1170: UserWarning:Binning discarded 744 last spike(s) of the input spiketrain\n",
      "/home/docker/env/neurosci/lib/python3.9/site-packages/elephant/conversion.py:1170: UserWarning:Binning discarded 411 last spike(s) of the input spiketrain\n"
     ]
    },
    {
     "name": "stdout",
     "output_type": "stream",
     "text": [
      "...16.409% completed in 244.499 sec!"
     ]
    },
    {
     "name": "stderr",
     "output_type": "stream",
     "text": [
      "/home/docker/env/neurosci/lib/python3.9/site-packages/elephant/conversion.py:1170: UserWarning:Binning discarded 702 last spike(s) of the input spiketrain\n",
      "/home/docker/env/neurosci/lib/python3.9/site-packages/elephant/conversion.py:1170: UserWarning:Binning discarded 486 last spike(s) of the input spiketrain\n"
     ]
    },
    {
     "name": "stdout",
     "output_type": "stream",
     "text": [
      "\r",
      "...16.455% completed in 245.497 sec!"
     ]
    },
    {
     "name": "stderr",
     "output_type": "stream",
     "text": [
      "/home/docker/env/neurosci/lib/python3.9/site-packages/elephant/conversion.py:1170: UserWarning:Binning discarded 390 last spike(s) of the input spiketrain\n"
     ]
    },
    {
     "name": "stdout",
     "output_type": "stream",
     "text": [
      "\r",
      "...16.500% completed in 246.517 sec!"
     ]
    },
    {
     "name": "stderr",
     "output_type": "stream",
     "text": [
      "/home/docker/env/neurosci/lib/python3.9/site-packages/elephant/conversion.py:1170: UserWarning:Binning discarded 797 last spike(s) of the input spiketrain\n"
     ]
    },
    {
     "name": "stdout",
     "output_type": "stream",
     "text": [
      "\r",
      "...16.545% completed in 247.38 sec!"
     ]
    },
    {
     "name": "stderr",
     "output_type": "stream",
     "text": [
      "/home/docker/env/neurosci/lib/python3.9/site-packages/elephant/conversion.py:1170: UserWarning:Binning discarded 681 last spike(s) of the input spiketrain\n"
     ]
    },
    {
     "name": "stdout",
     "output_type": "stream",
     "text": [
      "\r",
      "...16.591% completed in 248.171 sec!"
     ]
    },
    {
     "name": "stderr",
     "output_type": "stream",
     "text": [
      "/home/docker/env/neurosci/lib/python3.9/site-packages/elephant/conversion.py:1170: UserWarning:Binning discarded 212 last spike(s) of the input spiketrain\n"
     ]
    },
    {
     "name": "stdout",
     "output_type": "stream",
     "text": [
      "\r",
      "...16.636% completed in 249.013 sec!"
     ]
    },
    {
     "name": "stderr",
     "output_type": "stream",
     "text": [
      "/home/docker/env/neurosci/lib/python3.9/site-packages/elephant/conversion.py:1170: UserWarning:Binning discarded 368 last spike(s) of the input spiketrain\n"
     ]
    },
    {
     "name": "stdout",
     "output_type": "stream",
     "text": [
      "\r",
      "...16.682% completed in 249.927 sec!"
     ]
    },
    {
     "name": "stderr",
     "output_type": "stream",
     "text": [
      "/home/docker/env/neurosci/lib/python3.9/site-packages/elephant/conversion.py:1170: UserWarning:Binning discarded 221 last spike(s) of the input spiketrain\n"
     ]
    },
    {
     "name": "stdout",
     "output_type": "stream",
     "text": [
      "\r",
      "...16.727% completed in 250.821 sec!"
     ]
    },
    {
     "name": "stderr",
     "output_type": "stream",
     "text": [
      "/home/docker/env/neurosci/lib/python3.9/site-packages/elephant/conversion.py:1170: UserWarning:Binning discarded 440 last spike(s) of the input spiketrain\n"
     ]
    },
    {
     "name": "stdout",
     "output_type": "stream",
     "text": [
      "\r",
      "...16.773% completed in 251.635 sec!"
     ]
    },
    {
     "name": "stderr",
     "output_type": "stream",
     "text": [
      "/home/docker/env/neurosci/lib/python3.9/site-packages/elephant/conversion.py:1170: UserWarning:Binning discarded 698 last spike(s) of the input spiketrain\n",
      "/home/docker/env/neurosci/lib/python3.9/site-packages/elephant/conversion.py:1170: UserWarning:Binning discarded 403 last spike(s) of the input spiketrain\n"
     ]
    },
    {
     "name": "stdout",
     "output_type": "stream",
     "text": [
      "\r",
      "...16.818% completed in 252.535 sec!"
     ]
    },
    {
     "name": "stderr",
     "output_type": "stream",
     "text": [
      "/home/docker/env/neurosci/lib/python3.9/site-packages/elephant/conversion.py:1170: UserWarning:Binning discarded 392 last spike(s) of the input spiketrain\n"
     ]
    },
    {
     "name": "stdout",
     "output_type": "stream",
     "text": [
      "\r",
      "...16.864% completed in 253.393 sec!"
     ]
    },
    {
     "name": "stderr",
     "output_type": "stream",
     "text": [
      "/home/docker/env/neurosci/lib/python3.9/site-packages/elephant/conversion.py:1170: UserWarning:Binning discarded 922 last spike(s) of the input spiketrain\n"
     ]
    },
    {
     "name": "stdout",
     "output_type": "stream",
     "text": [
      "\r",
      "...16.909% completed in 254.324 sec!"
     ]
    },
    {
     "name": "stderr",
     "output_type": "stream",
     "text": [
      "/home/docker/env/neurosci/lib/python3.9/site-packages/elephant/conversion.py:1170: UserWarning:Binning discarded 676 last spike(s) of the input spiketrain\n"
     ]
    },
    {
     "name": "stdout",
     "output_type": "stream",
     "text": [
      "\r",
      "...16.955% completed in 255.132 sec!"
     ]
    },
    {
     "name": "stderr",
     "output_type": "stream",
     "text": [
      "/home/docker/env/neurosci/lib/python3.9/site-packages/elephant/conversion.py:1170: UserWarning:Binning discarded 130 last spike(s) of the input spiketrain\n"
     ]
    },
    {
     "name": "stdout",
     "output_type": "stream",
     "text": [
      "\r",
      "...17.000% completed in 256.041 sec!"
     ]
    },
    {
     "name": "stderr",
     "output_type": "stream",
     "text": [
      "/home/docker/env/neurosci/lib/python3.9/site-packages/elephant/conversion.py:1170: UserWarning:Binning discarded 451 last spike(s) of the input spiketrain\n"
     ]
    },
    {
     "name": "stdout",
     "output_type": "stream",
     "text": [
      "\r",
      "...17.045% completed in 256.852 sec!\r",
      "...17.091% completed in 257.664 sec!"
     ]
    },
    {
     "name": "stderr",
     "output_type": "stream",
     "text": [
      "/home/docker/env/neurosci/lib/python3.9/site-packages/elephant/conversion.py:1170: UserWarning:Binning discarded 591 last spike(s) of the input spiketrain\n",
      "/home/docker/env/neurosci/lib/python3.9/site-packages/elephant/conversion.py:1170: UserWarning:Binning discarded 164 last spike(s) of the input spiketrain\n",
      "/home/docker/env/neurosci/lib/python3.9/site-packages/elephant/conversion.py:1170: UserWarning:Binning discarded 523 last spike(s) of the input spiketrain\n"
     ]
    },
    {
     "name": "stdout",
     "output_type": "stream",
     "text": [
      "\r",
      "...17.136% completed in 258.495 sec!"
     ]
    },
    {
     "name": "stderr",
     "output_type": "stream",
     "text": [
      "/home/docker/env/neurosci/lib/python3.9/site-packages/elephant/conversion.py:1170: UserWarning:Binning discarded 425 last spike(s) of the input spiketrain\n"
     ]
    },
    {
     "name": "stdout",
     "output_type": "stream",
     "text": [
      "\r",
      "...17.182% completed in 259.341 sec!"
     ]
    },
    {
     "name": "stderr",
     "output_type": "stream",
     "text": [
      "/home/docker/env/neurosci/lib/python3.9/site-packages/elephant/conversion.py:1170: UserWarning:Binning discarded 347 last spike(s) of the input spiketrain\n"
     ]
    },
    {
     "name": "stdout",
     "output_type": "stream",
     "text": [
      "\r",
      "...17.227% completed in 260.179 sec!"
     ]
    },
    {
     "name": "stderr",
     "output_type": "stream",
     "text": [
      "/home/docker/env/neurosci/lib/python3.9/site-packages/elephant/conversion.py:1170: UserWarning:Binning discarded 304 last spike(s) of the input spiketrain\n",
      "/home/docker/env/neurosci/lib/python3.9/site-packages/elephant/conversion.py:1170: UserWarning:Binning discarded 975 last spike(s) of the input spiketrain\n"
     ]
    },
    {
     "name": "stdout",
     "output_type": "stream",
     "text": [
      "\r",
      "...17.273% completed in 261.043 sec!"
     ]
    },
    {
     "name": "stderr",
     "output_type": "stream",
     "text": [
      "/home/docker/env/neurosci/lib/python3.9/site-packages/elephant/conversion.py:1170: UserWarning:Binning discarded 594 last spike(s) of the input spiketrain\n",
      "/home/docker/env/neurosci/lib/python3.9/site-packages/elephant/conversion.py:1170: UserWarning:Binning discarded 246 last spike(s) of the input spiketrain\n"
     ]
    },
    {
     "name": "stdout",
     "output_type": "stream",
     "text": [
      "\r",
      "...17.318% completed in 261.9 sec!"
     ]
    },
    {
     "name": "stderr",
     "output_type": "stream",
     "text": [
      "/home/docker/env/neurosci/lib/python3.9/site-packages/elephant/conversion.py:1170: UserWarning:Binning discarded 228 last spike(s) of the input spiketrain\n"
     ]
    },
    {
     "name": "stdout",
     "output_type": "stream",
     "text": [
      "\r",
      "...17.364% completed in 262.776 sec!"
     ]
    },
    {
     "name": "stderr",
     "output_type": "stream",
     "text": [
      "/home/docker/env/neurosci/lib/python3.9/site-packages/elephant/conversion.py:1170: UserWarning:Binning discarded 289 last spike(s) of the input spiketrain\n",
      "/home/docker/env/neurosci/lib/python3.9/site-packages/elephant/conversion.py:1170: UserWarning:Binning discarded 443 last spike(s) of the input spiketrain\n"
     ]
    },
    {
     "name": "stdout",
     "output_type": "stream",
     "text": [
      "\r",
      "...17.409% completed in 263.577 sec!"
     ]
    },
    {
     "name": "stderr",
     "output_type": "stream",
     "text": [
      "/home/docker/env/neurosci/lib/python3.9/site-packages/elephant/conversion.py:1170: UserWarning:Binning discarded 585 last spike(s) of the input spiketrain\n"
     ]
    },
    {
     "name": "stdout",
     "output_type": "stream",
     "text": [
      "\r",
      "...17.455% completed in 264.52 sec!"
     ]
    },
    {
     "name": "stderr",
     "output_type": "stream",
     "text": [
      "/home/docker/env/neurosci/lib/python3.9/site-packages/elephant/conversion.py:1170: UserWarning:Binning discarded 333 last spike(s) of the input spiketrain\n"
     ]
    },
    {
     "name": "stdout",
     "output_type": "stream",
     "text": [
      "\r",
      "...17.500% completed in 265.441 sec!"
     ]
    },
    {
     "name": "stderr",
     "output_type": "stream",
     "text": [
      "/home/docker/env/neurosci/lib/python3.9/site-packages/elephant/conversion.py:1170: UserWarning:Binning discarded 472 last spike(s) of the input spiketrain\n",
      "/home/docker/env/neurosci/lib/python3.9/site-packages/elephant/conversion.py:1170: UserWarning:Binning discarded 431 last spike(s) of the input spiketrain\n"
     ]
    },
    {
     "name": "stdout",
     "output_type": "stream",
     "text": [
      "\r",
      "...17.545% completed in 266.41 sec!"
     ]
    },
    {
     "name": "stderr",
     "output_type": "stream",
     "text": [
      "/home/docker/env/neurosci/lib/python3.9/site-packages/elephant/conversion.py:1170: UserWarning:Binning discarded 534 last spike(s) of the input spiketrain\n",
      "/home/docker/env/neurosci/lib/python3.9/site-packages/elephant/conversion.py:1170: UserWarning:Binning discarded 365 last spike(s) of the input spiketrain\n"
     ]
    },
    {
     "name": "stdout",
     "output_type": "stream",
     "text": [
      "\r",
      "...17.591% completed in 267.31 sec!"
     ]
    },
    {
     "name": "stderr",
     "output_type": "stream",
     "text": [
      "/home/docker/env/neurosci/lib/python3.9/site-packages/elephant/conversion.py:1170: UserWarning:Binning discarded 290 last spike(s) of the input spiketrain\n",
      "/home/docker/env/neurosci/lib/python3.9/site-packages/elephant/conversion.py:1170: UserWarning:Binning discarded 895 last spike(s) of the input spiketrain\n"
     ]
    },
    {
     "name": "stdout",
     "output_type": "stream",
     "text": [
      "\r",
      "...17.636% completed in 268.156 sec!"
     ]
    },
    {
     "name": "stderr",
     "output_type": "stream",
     "text": [
      "/home/docker/env/neurosci/lib/python3.9/site-packages/elephant/conversion.py:1170: UserWarning:Binning discarded 684 last spike(s) of the input spiketrain\n"
     ]
    },
    {
     "name": "stdout",
     "output_type": "stream",
     "text": [
      "\r",
      "...17.682% completed in 269.087 sec!"
     ]
    },
    {
     "name": "stderr",
     "output_type": "stream",
     "text": [
      "/home/docker/env/neurosci/lib/python3.9/site-packages/elephant/conversion.py:1170: UserWarning:Binning discarded 439 last spike(s) of the input spiketrain\n"
     ]
    },
    {
     "name": "stdout",
     "output_type": "stream",
     "text": [
      "\r",
      "...17.727% completed in 270.028 sec!"
     ]
    },
    {
     "name": "stderr",
     "output_type": "stream",
     "text": [
      "/home/docker/env/neurosci/lib/python3.9/site-packages/elephant/conversion.py:1170: UserWarning:Binning discarded 502 last spike(s) of the input spiketrain\n"
     ]
    },
    {
     "name": "stdout",
     "output_type": "stream",
     "text": [
      "\r",
      "...17.773% completed in 270.891 sec!\r",
      "...17.818% completed in 271.828 sec!"
     ]
    },
    {
     "name": "stderr",
     "output_type": "stream",
     "text": [
      "/home/docker/env/neurosci/lib/python3.9/site-packages/elephant/conversion.py:1170: UserWarning:Binning discarded 395 last spike(s) of the input spiketrain\n"
     ]
    },
    {
     "name": "stdout",
     "output_type": "stream",
     "text": [
      "\r",
      "...17.864% completed in 272.759 sec!"
     ]
    },
    {
     "name": "stderr",
     "output_type": "stream",
     "text": [
      "/home/docker/env/neurosci/lib/python3.9/site-packages/elephant/conversion.py:1170: UserWarning:Binning discarded 504 last spike(s) of the input spiketrain\n"
     ]
    },
    {
     "name": "stdout",
     "output_type": "stream",
     "text": [
      "\r",
      "...17.909% completed in 273.64 sec!"
     ]
    },
    {
     "name": "stderr",
     "output_type": "stream",
     "text": [
      "/home/docker/env/neurosci/lib/python3.9/site-packages/elephant/conversion.py:1170: UserWarning:Binning discarded 618 last spike(s) of the input spiketrain\n"
     ]
    },
    {
     "name": "stdout",
     "output_type": "stream",
     "text": [
      "...18.000% completed in 275.365 sec!"
     ]
    },
    {
     "name": "stderr",
     "output_type": "stream",
     "text": [
      "/home/docker/env/neurosci/lib/python3.9/site-packages/elephant/conversion.py:1170: UserWarning:Binning discarded 274 last spike(s) of the input spiketrain\n"
     ]
    },
    {
     "name": "stdout",
     "output_type": "stream",
     "text": [
      "\r",
      "...18.045% completed in 276.222 sec!"
     ]
    },
    {
     "name": "stderr",
     "output_type": "stream",
     "text": [
      "/home/docker/env/neurosci/lib/python3.9/site-packages/elephant/conversion.py:1170: UserWarning:Binning discarded 583 last spike(s) of the input spiketrain\n"
     ]
    },
    {
     "name": "stdout",
     "output_type": "stream",
     "text": [
      "\r",
      "...18.091% completed in 277.142 sec!"
     ]
    },
    {
     "name": "stderr",
     "output_type": "stream",
     "text": [
      "/home/docker/env/neurosci/lib/python3.9/site-packages/elephant/conversion.py:1170: UserWarning:Binning discarded 232 last spike(s) of the input spiketrain\n",
      "/home/docker/env/neurosci/lib/python3.9/site-packages/elephant/conversion.py:1170: UserWarning:Binning discarded 580 last spike(s) of the input spiketrain\n"
     ]
    },
    {
     "name": "stdout",
     "output_type": "stream",
     "text": [
      "\r",
      "...18.136% completed in 278.068 sec!\r",
      "...18.182% completed in 278.963 sec!"
     ]
    },
    {
     "name": "stderr",
     "output_type": "stream",
     "text": [
      "/home/docker/env/neurosci/lib/python3.9/site-packages/elephant/conversion.py:1170: UserWarning:Binning discarded 407 last spike(s) of the input spiketrain\n",
      "/home/docker/env/neurosci/lib/python3.9/site-packages/elephant/conversion.py:1170: UserWarning:Binning discarded 562 last spike(s) of the input spiketrain\n"
     ]
    },
    {
     "name": "stdout",
     "output_type": "stream",
     "text": [
      "...18.318% completed in 281.491 sec!"
     ]
    },
    {
     "name": "stderr",
     "output_type": "stream",
     "text": [
      "/home/docker/env/neurosci/lib/python3.9/site-packages/elephant/conversion.py:1170: UserWarning:Binning discarded 700 last spike(s) of the input spiketrain\n"
     ]
    },
    {
     "name": "stdout",
     "output_type": "stream",
     "text": [
      "\r",
      "...18.364% completed in 282.326 sec!"
     ]
    },
    {
     "name": "stderr",
     "output_type": "stream",
     "text": [
      "/home/docker/env/neurosci/lib/python3.9/site-packages/elephant/conversion.py:1170: UserWarning:Binning discarded 434 last spike(s) of the input spiketrain\n"
     ]
    },
    {
     "name": "stdout",
     "output_type": "stream",
     "text": [
      "...18.455% completed in 284.003 sec!"
     ]
    },
    {
     "name": "stderr",
     "output_type": "stream",
     "text": [
      "/home/docker/env/neurosci/lib/python3.9/site-packages/elephant/conversion.py:1170: UserWarning:Binning discarded 334 last spike(s) of the input spiketrain\n",
      "/home/docker/env/neurosci/lib/python3.9/site-packages/elephant/conversion.py:1170: UserWarning:Binning discarded 570 last spike(s) of the input spiketrain\n"
     ]
    },
    {
     "name": "stdout",
     "output_type": "stream",
     "text": [
      "...18.545% completed in 285.565 sec!"
     ]
    },
    {
     "name": "stderr",
     "output_type": "stream",
     "text": [
      "/home/docker/env/neurosci/lib/python3.9/site-packages/elephant/conversion.py:1170: UserWarning:Binning discarded 615 last spike(s) of the input spiketrain\n"
     ]
    },
    {
     "name": "stdout",
     "output_type": "stream",
     "text": [
      "\r",
      "...18.591% completed in 286.444 sec!"
     ]
    },
    {
     "name": "stderr",
     "output_type": "stream",
     "text": [
      "/home/docker/env/neurosci/lib/python3.9/site-packages/elephant/conversion.py:1170: UserWarning:Binning discarded 650 last spike(s) of the input spiketrain\n"
     ]
    },
    {
     "name": "stdout",
     "output_type": "stream",
     "text": [
      "\r",
      "...18.636% completed in 287.25 sec!"
     ]
    },
    {
     "name": "stderr",
     "output_type": "stream",
     "text": [
      "/home/docker/env/neurosci/lib/python3.9/site-packages/elephant/conversion.py:1170: UserWarning:Binning discarded 614 last spike(s) of the input spiketrain\n"
     ]
    },
    {
     "name": "stdout",
     "output_type": "stream",
     "text": [
      "\r",
      "...18.682% completed in 288.103 sec!"
     ]
    },
    {
     "name": "stderr",
     "output_type": "stream",
     "text": [
      "/home/docker/env/neurosci/lib/python3.9/site-packages/elephant/conversion.py:1170: UserWarning:Binning discarded 481 last spike(s) of the input spiketrain\n",
      "/home/docker/env/neurosci/lib/python3.9/site-packages/elephant/conversion.py:1170: UserWarning:Binning discarded 800 last spike(s) of the input spiketrain\n"
     ]
    },
    {
     "name": "stdout",
     "output_type": "stream",
     "text": [
      "\r",
      "...18.727% completed in 288.918 sec!\r",
      "...18.773% completed in 289.683 sec!"
     ]
    },
    {
     "name": "stderr",
     "output_type": "stream",
     "text": [
      "/home/docker/env/neurosci/lib/python3.9/site-packages/elephant/conversion.py:1170: UserWarning:Binning discarded 299 last spike(s) of the input spiketrain\n",
      "/home/docker/env/neurosci/lib/python3.9/site-packages/elephant/conversion.py:1170: UserWarning:Binning discarded 727 last spike(s) of the input spiketrain\n"
     ]
    },
    {
     "name": "stdout",
     "output_type": "stream",
     "text": [
      "\r",
      "...18.818% completed in 290.418 sec!"
     ]
    },
    {
     "name": "stderr",
     "output_type": "stream",
     "text": [
      "/home/docker/env/neurosci/lib/python3.9/site-packages/elephant/conversion.py:1170: UserWarning:Binning discarded 789 last spike(s) of the input spiketrain\n"
     ]
    },
    {
     "name": "stdout",
     "output_type": "stream",
     "text": [
      "...18.909% completed in 291.917 sec!"
     ]
    },
    {
     "name": "stderr",
     "output_type": "stream",
     "text": [
      "/home/docker/env/neurosci/lib/python3.9/site-packages/elephant/conversion.py:1170: UserWarning:Binning discarded 549 last spike(s) of the input spiketrain\n"
     ]
    },
    {
     "name": "stdout",
     "output_type": "stream",
     "text": [
      "...19.000% completed in 293.353 sec!"
     ]
    },
    {
     "name": "stderr",
     "output_type": "stream",
     "text": [
      "/home/docker/env/neurosci/lib/python3.9/site-packages/elephant/conversion.py:1170: UserWarning:Binning discarded 680 last spike(s) of the input spiketrain\n"
     ]
    },
    {
     "name": "stdout",
     "output_type": "stream",
     "text": [
      "\r",
      "...19.045% completed in 294.038 sec!"
     ]
    },
    {
     "name": "stderr",
     "output_type": "stream",
     "text": [
      "/home/docker/env/neurosci/lib/python3.9/site-packages/elephant/conversion.py:1170: UserWarning:Binning discarded 790 last spike(s) of the input spiketrain\n"
     ]
    },
    {
     "name": "stdout",
     "output_type": "stream",
     "text": [
      "...19.136% completed in 295.387 sec!"
     ]
    },
    {
     "name": "stderr",
     "output_type": "stream",
     "text": [
      "/home/docker/env/neurosci/lib/python3.9/site-packages/elephant/conversion.py:1170: UserWarning:Binning discarded 517 last spike(s) of the input spiketrain\n"
     ]
    },
    {
     "name": "stdout",
     "output_type": "stream",
     "text": [
      "\r",
      "...19.182% completed in 296.039 sec!\r",
      "...19.227% completed in 296.657 sec!"
     ]
    },
    {
     "name": "stderr",
     "output_type": "stream",
     "text": [
      "/home/docker/env/neurosci/lib/python3.9/site-packages/elephant/conversion.py:1170: UserWarning:Binning discarded 276 last spike(s) of the input spiketrain\n"
     ]
    },
    {
     "name": "stdout",
     "output_type": "stream",
     "text": [
      "\r",
      "...19.273% completed in 297.295 sec!"
     ]
    },
    {
     "name": "stderr",
     "output_type": "stream",
     "text": [
      "/home/docker/env/neurosci/lib/python3.9/site-packages/elephant/conversion.py:1170: UserWarning:Binning discarded 708 last spike(s) of the input spiketrain\n"
     ]
    },
    {
     "name": "stdout",
     "output_type": "stream",
     "text": [
      "...19.455% completed in 299.746 sec!"
     ]
    },
    {
     "name": "stderr",
     "output_type": "stream",
     "text": [
      "/home/docker/env/neurosci/lib/python3.9/site-packages/elephant/conversion.py:1170: UserWarning:Binning discarded 364 last spike(s) of the input spiketrain\n"
     ]
    },
    {
     "name": "stdout",
     "output_type": "stream",
     "text": [
      "\r",
      "...19.500% completed in 300.343 sec!"
     ]
    },
    {
     "name": "stderr",
     "output_type": "stream",
     "text": [
      "/home/docker/env/neurosci/lib/python3.9/site-packages/elephant/conversion.py:1170: UserWarning:Binning discarded 159 last spike(s) of the input spiketrain\n",
      "/home/docker/env/neurosci/lib/python3.9/site-packages/elephant/conversion.py:1170: UserWarning:Binning discarded 293 last spike(s) of the input spiketrain\n"
     ]
    },
    {
     "name": "stdout",
     "output_type": "stream",
     "text": [
      "\r",
      "...19.545% completed in 300.96 sec!"
     ]
    },
    {
     "name": "stderr",
     "output_type": "stream",
     "text": [
      "/home/docker/env/neurosci/lib/python3.9/site-packages/elephant/conversion.py:1170: UserWarning:Binning discarded 268 last spike(s) of the input spiketrain\n",
      "/home/docker/env/neurosci/lib/python3.9/site-packages/elephant/conversion.py:1170: UserWarning:Binning discarded 150 last spike(s) of the input spiketrain\n"
     ]
    },
    {
     "name": "stdout",
     "output_type": "stream",
     "text": [
      "...19.636% completed in 302.175 sec!"
     ]
    },
    {
     "name": "stderr",
     "output_type": "stream",
     "text": [
      "/home/docker/env/neurosci/lib/python3.9/site-packages/elephant/conversion.py:1170: UserWarning:Binning discarded 206 last spike(s) of the input spiketrain\n"
     ]
    },
    {
     "name": "stdout",
     "output_type": "stream",
     "text": [
      "...19.773% completed in 303.964 sec!"
     ]
    },
    {
     "name": "stderr",
     "output_type": "stream",
     "text": [
      "/home/docker/env/neurosci/lib/python3.9/site-packages/elephant/conversion.py:1170: UserWarning:Binning discarded 78 last spike(s) of the input spiketrain\n",
      "/home/docker/env/neurosci/lib/python3.9/site-packages/elephant/conversion.py:1170: UserWarning:Binning discarded 131 last spike(s) of the input spiketrain\n"
     ]
    },
    {
     "name": "stdout",
     "output_type": "stream",
     "text": [
      "\r",
      "...19.818% completed in 304.61 sec!"
     ]
    },
    {
     "name": "stderr",
     "output_type": "stream",
     "text": [
      "/home/docker/env/neurosci/lib/python3.9/site-packages/elephant/conversion.py:1170: UserWarning:Binning discarded 83 last spike(s) of the input spiketrain\n"
     ]
    },
    {
     "name": "stdout",
     "output_type": "stream",
     "text": [
      "\r",
      "...19.864% completed in 305.221 sec!"
     ]
    },
    {
     "name": "stderr",
     "output_type": "stream",
     "text": [
      "/home/docker/env/neurosci/lib/python3.9/site-packages/elephant/conversion.py:1170: UserWarning:Binning discarded 75 last spike(s) of the input spiketrain\n"
     ]
    },
    {
     "name": "stdout",
     "output_type": "stream",
     "text": [
      "\r",
      "...19.909% completed in 305.801 sec!"
     ]
    },
    {
     "name": "stderr",
     "output_type": "stream",
     "text": [
      "/home/docker/env/neurosci/lib/python3.9/site-packages/elephant/conversion.py:1170: UserWarning:Binning discarded 72 last spike(s) of the input spiketrain\n"
     ]
    },
    {
     "name": "stdout",
     "output_type": "stream",
     "text": [
      "\r",
      "...19.955% completed in 306.389 sec!"
     ]
    },
    {
     "name": "stderr",
     "output_type": "stream",
     "text": [
      "/home/docker/env/neurosci/lib/python3.9/site-packages/elephant/conversion.py:1170: UserWarning:Binning discarded 59 last spike(s) of the input spiketrain\n",
      "/home/docker/env/neurosci/lib/python3.9/site-packages/elephant/conversion.py:1170: UserWarning:Binning discarded 56 last spike(s) of the input spiketrain\n"
     ]
    },
    {
     "name": "stdout",
     "output_type": "stream",
     "text": [
      "\r",
      "...20.000% completed in 306.962 sec!"
     ]
    },
    {
     "name": "stderr",
     "output_type": "stream",
     "text": [
      "/home/docker/env/neurosci/lib/python3.9/site-packages/elephant/conversion.py:1170: UserWarning:Binning discarded 50 last spike(s) of the input spiketrain\n"
     ]
    },
    {
     "name": "stdout",
     "output_type": "stream",
     "text": [
      "...20.182% completed in 309.245 sec!"
     ]
    },
    {
     "name": "stderr",
     "output_type": "stream",
     "text": [
      "/home/docker/env/neurosci/lib/python3.9/site-packages/elephant/conversion.py:1170: UserWarning:Binning discarded 39 last spike(s) of the input spiketrain\n"
     ]
    },
    {
     "name": "stdout",
     "output_type": "stream",
     "text": [
      "...23.136% completed in 345.484 sec!"
     ]
    },
    {
     "name": "stderr",
     "output_type": "stream",
     "text": [
      "/home/docker/env/neurosci/lib/python3.9/site-packages/elephant/conversion.py:1170: UserWarning:Binning discarded 73 last spike(s) of the input spiketrain\n"
     ]
    },
    {
     "name": "stdout",
     "output_type": "stream",
     "text": [
      "\r",
      "...23.182% completed in 346.091 sec!\r",
      "...23.227% completed in 346.718 sec!"
     ]
    },
    {
     "name": "stderr",
     "output_type": "stream",
     "text": [
      "/home/docker/env/neurosci/lib/python3.9/site-packages/elephant/conversion.py:1170: UserWarning:Binning discarded 46 last spike(s) of the input spiketrain\n",
      "/home/docker/env/neurosci/lib/python3.9/site-packages/elephant/conversion.py:1170: UserWarning:Binning discarded 90 last spike(s) of the input spiketrain\n"
     ]
    },
    {
     "name": "stdout",
     "output_type": "stream",
     "text": [
      "\r",
      "...23.273% completed in 347.38 sec!\r",
      "...23.318% completed in 348.058 sec!"
     ]
    },
    {
     "name": "stderr",
     "output_type": "stream",
     "text": [
      "/home/docker/env/neurosci/lib/python3.9/site-packages/elephant/conversion.py:1170: UserWarning:Binning discarded 868 last spike(s) of the input spiketrain\n",
      "/home/docker/env/neurosci/lib/python3.9/site-packages/elephant/conversion.py:1170: UserWarning:Binning discarded 93 last spike(s) of the input spiketrain\n"
     ]
    },
    {
     "name": "stdout",
     "output_type": "stream",
     "text": [
      "...23.455% completed in 350.246 sec!"
     ]
    },
    {
     "name": "stderr",
     "output_type": "stream",
     "text": [
      "/home/docker/env/neurosci/lib/python3.9/site-packages/elephant/conversion.py:1170: UserWarning:Binning discarded 153 last spike(s) of the input spiketrain\n"
     ]
    },
    {
     "name": "stdout",
     "output_type": "stream",
     "text": [
      "\r",
      "...23.500% completed in 350.998 sec!"
     ]
    },
    {
     "name": "stderr",
     "output_type": "stream",
     "text": [
      "/home/docker/env/neurosci/lib/python3.9/site-packages/elephant/conversion.py:1170: UserWarning:Binning discarded 121 last spike(s) of the input spiketrain\n"
     ]
    },
    {
     "name": "stdout",
     "output_type": "stream",
     "text": [
      "...23.591% completed in 352.541 sec!"
     ]
    },
    {
     "name": "stderr",
     "output_type": "stream",
     "text": [
      "/home/docker/env/neurosci/lib/python3.9/site-packages/elephant/conversion.py:1170: UserWarning:Binning discarded 556 last spike(s) of the input spiketrain\n"
     ]
    },
    {
     "name": "stdout",
     "output_type": "stream",
     "text": [
      "\r",
      "...23.636% completed in 353.272 sec!\r",
      "...23.682% completed in 353.989 sec!"
     ]
    },
    {
     "name": "stderr",
     "output_type": "stream",
     "text": [
      "/home/docker/env/neurosci/lib/python3.9/site-packages/elephant/conversion.py:1170: UserWarning:Binning discarded 1154 last spike(s) of the input spiketrain\n"
     ]
    },
    {
     "name": "stdout",
     "output_type": "stream",
     "text": [
      "...23.818% completed in 356.247 sec!"
     ]
    },
    {
     "name": "stderr",
     "output_type": "stream",
     "text": [
      "/home/docker/env/neurosci/lib/python3.9/site-packages/elephant/conversion.py:1170: UserWarning:Binning discarded 725 last spike(s) of the input spiketrain\n"
     ]
    },
    {
     "name": "stdout",
     "output_type": "stream",
     "text": [
      "\r",
      "...23.864% completed in 357.047 sec!"
     ]
    },
    {
     "name": "stderr",
     "output_type": "stream",
     "text": [
      "/home/docker/env/neurosci/lib/python3.9/site-packages/elephant/conversion.py:1170: UserWarning:Binning discarded 957 last spike(s) of the input spiketrain\n"
     ]
    },
    {
     "name": "stdout",
     "output_type": "stream",
     "text": [
      "\r",
      "...23.909% completed in 357.888 sec!"
     ]
    },
    {
     "name": "stderr",
     "output_type": "stream",
     "text": [
      "/home/docker/env/neurosci/lib/python3.9/site-packages/elephant/conversion.py:1170: UserWarning:Binning discarded 557 last spike(s) of the input spiketrain\n"
     ]
    },
    {
     "name": "stdout",
     "output_type": "stream",
     "text": [
      "\r",
      "...23.955% completed in 358.691 sec!"
     ]
    },
    {
     "name": "stderr",
     "output_type": "stream",
     "text": [
      "/home/docker/env/neurosci/lib/python3.9/site-packages/elephant/conversion.py:1170: UserWarning:Binning discarded 143 last spike(s) of the input spiketrain\n"
     ]
    },
    {
     "name": "stdout",
     "output_type": "stream",
     "text": [
      "...24.091% completed in 361.287 sec!"
     ]
    },
    {
     "name": "stderr",
     "output_type": "stream",
     "text": [
      "/home/docker/env/neurosci/lib/python3.9/site-packages/elephant/conversion.py:1170: UserWarning:Binning discarded 338 last spike(s) of the input spiketrain\n",
      "/home/docker/env/neurosci/lib/python3.9/site-packages/elephant/conversion.py:1170: UserWarning:Binning discarded 410 last spike(s) of the input spiketrain\n"
     ]
    },
    {
     "name": "stdout",
     "output_type": "stream",
     "text": [
      "\r",
      "...24.136% completed in 362.095 sec!"
     ]
    },
    {
     "name": "stderr",
     "output_type": "stream",
     "text": [
      "/home/docker/env/neurosci/lib/python3.9/site-packages/elephant/conversion.py:1170: UserWarning:Binning discarded 813 last spike(s) of the input spiketrain\n"
     ]
    },
    {
     "name": "stdout",
     "output_type": "stream",
     "text": [
      "\r",
      "...24.182% completed in 363.025 sec!"
     ]
    },
    {
     "name": "stderr",
     "output_type": "stream",
     "text": [
      "/home/docker/env/neurosci/lib/python3.9/site-packages/elephant/conversion.py:1170: UserWarning:Binning discarded 887 last spike(s) of the input spiketrain\n",
      "/home/docker/env/neurosci/lib/python3.9/site-packages/elephant/conversion.py:1170: UserWarning:Binning discarded 160 last spike(s) of the input spiketrain\n"
     ]
    },
    {
     "name": "stdout",
     "output_type": "stream",
     "text": [
      "...24.273% completed in 364.848 sec!"
     ]
    },
    {
     "name": "stderr",
     "output_type": "stream",
     "text": [
      "/home/docker/env/neurosci/lib/python3.9/site-packages/elephant/conversion.py:1170: UserWarning:Binning discarded 417 last spike(s) of the input spiketrain\n"
     ]
    },
    {
     "name": "stdout",
     "output_type": "stream",
     "text": [
      "...24.364% completed in 367.033 sec!"
     ]
    },
    {
     "name": "stderr",
     "output_type": "stream",
     "text": [
      "/home/docker/env/neurosci/lib/python3.9/site-packages/elephant/conversion.py:1170: UserWarning:Binning discarded 683 last spike(s) of the input spiketrain\n"
     ]
    },
    {
     "name": "stdout",
     "output_type": "stream",
     "text": [
      "\r",
      "...24.409% completed in 367.897 sec!\r",
      "...24.455% completed in 368.838 sec!"
     ]
    },
    {
     "name": "stderr",
     "output_type": "stream",
     "text": [
      "/home/docker/env/neurosci/lib/python3.9/site-packages/elephant/conversion.py:1170: UserWarning:Binning discarded 582 last spike(s) of the input spiketrain\n",
      "/home/docker/env/neurosci/lib/python3.9/site-packages/elephant/conversion.py:1170: UserWarning:Binning discarded 886 last spike(s) of the input spiketrain\n"
     ]
    },
    {
     "name": "stdout",
     "output_type": "stream",
     "text": [
      "\r",
      "...24.500% completed in 369.834 sec!"
     ]
    },
    {
     "name": "stderr",
     "output_type": "stream",
     "text": [
      "/home/docker/env/neurosci/lib/python3.9/site-packages/elephant/conversion.py:1170: UserWarning:Binning discarded 267 last spike(s) of the input spiketrain\n",
      "/home/docker/env/neurosci/lib/python3.9/site-packages/elephant/conversion.py:1170: UserWarning:Binning discarded 382 last spike(s) of the input spiketrain\n"
     ]
    },
    {
     "name": "stdout",
     "output_type": "stream",
     "text": [
      "\r",
      "...24.545% completed in 370.836 sec!"
     ]
    },
    {
     "name": "stderr",
     "output_type": "stream",
     "text": [
      "/home/docker/env/neurosci/lib/python3.9/site-packages/elephant/conversion.py:1170: UserWarning:Binning discarded 962 last spike(s) of the input spiketrain\n",
      "/home/docker/env/neurosci/lib/python3.9/site-packages/elephant/conversion.py:1170: UserWarning:Binning discarded 152 last spike(s) of the input spiketrain\n"
     ]
    },
    {
     "name": "stdout",
     "output_type": "stream",
     "text": [
      "...24.682% completed in 373.49 sec!!"
     ]
    },
    {
     "name": "stderr",
     "output_type": "stream",
     "text": [
      "/home/docker/env/neurosci/lib/python3.9/site-packages/elephant/conversion.py:1170: UserWarning:Binning discarded 275 last spike(s) of the input spiketrain\n",
      "/home/docker/env/neurosci/lib/python3.9/site-packages/elephant/conversion.py:1170: UserWarning:Binning discarded 108 last spike(s) of the input spiketrain\n"
     ]
    },
    {
     "name": "stdout",
     "output_type": "stream",
     "text": [
      "\r",
      "...24.727% completed in 374.353 sec!"
     ]
    },
    {
     "name": "stderr",
     "output_type": "stream",
     "text": [
      "/home/docker/env/neurosci/lib/python3.9/site-packages/elephant/conversion.py:1170: UserWarning:Binning discarded 544 last spike(s) of the input spiketrain\n"
     ]
    },
    {
     "name": "stdout",
     "output_type": "stream",
     "text": [
      "...24.818% completed in 376.112 sec!"
     ]
    },
    {
     "name": "stderr",
     "output_type": "stream",
     "text": [
      "/home/docker/env/neurosci/lib/python3.9/site-packages/elephant/conversion.py:1170: UserWarning:Binning discarded 628 last spike(s) of the input spiketrain\n",
      "/home/docker/env/neurosci/lib/python3.9/site-packages/elephant/conversion.py:1170: UserWarning:Binning discarded 1051 last spike(s) of the input spiketrain\n"
     ]
    },
    {
     "name": "stdout",
     "output_type": "stream",
     "text": [
      "\r",
      "...24.864% completed in 376.901 sec!"
     ]
    },
    {
     "name": "stderr",
     "output_type": "stream",
     "text": [
      "/home/docker/env/neurosci/lib/python3.9/site-packages/elephant/conversion.py:1170: UserWarning:Binning discarded 393 last spike(s) of the input spiketrain\n"
     ]
    },
    {
     "name": "stdout",
     "output_type": "stream",
     "text": [
      "\r",
      "...24.909% completed in 377.704 sec!"
     ]
    },
    {
     "name": "stderr",
     "output_type": "stream",
     "text": [
      "/home/docker/env/neurosci/lib/python3.9/site-packages/elephant/conversion.py:1170: UserWarning:Binning discarded 1112 last spike(s) of the input spiketrain\n"
     ]
    },
    {
     "name": "stdout",
     "output_type": "stream",
     "text": [
      "...25.091% completed in 381.068 sec!"
     ]
    },
    {
     "name": "stderr",
     "output_type": "stream",
     "text": [
      "/home/docker/env/neurosci/lib/python3.9/site-packages/elephant/conversion.py:1170: UserWarning:Binning discarded 205 last spike(s) of the input spiketrain\n",
      "/home/docker/env/neurosci/lib/python3.9/site-packages/elephant/conversion.py:1170: UserWarning:Binning discarded 516 last spike(s) of the input spiketrain\n"
     ]
    },
    {
     "name": "stdout",
     "output_type": "stream",
     "text": [
      "\r",
      "...25.136% completed in 381.921 sec!"
     ]
    },
    {
     "name": "stderr",
     "output_type": "stream",
     "text": [
      "/home/docker/env/neurosci/lib/python3.9/site-packages/elephant/conversion.py:1170: UserWarning:Binning discarded 231 last spike(s) of the input spiketrain\n"
     ]
    },
    {
     "name": "stdout",
     "output_type": "stream",
     "text": [
      "\r",
      "...25.182% completed in 382.816 sec!"
     ]
    },
    {
     "name": "stderr",
     "output_type": "stream",
     "text": [
      "/home/docker/env/neurosci/lib/python3.9/site-packages/elephant/conversion.py:1170: UserWarning:Binning discarded 573 last spike(s) of the input spiketrain\n",
      "/home/docker/env/neurosci/lib/python3.9/site-packages/elephant/conversion.py:1170: UserWarning:Binning discarded 901 last spike(s) of the input spiketrain\n"
     ]
    },
    {
     "name": "stdout",
     "output_type": "stream",
     "text": [
      "...25.273% completed in 384.531 sec!"
     ]
    },
    {
     "name": "stderr",
     "output_type": "stream",
     "text": [
      "/home/docker/env/neurosci/lib/python3.9/site-packages/elephant/conversion.py:1170: UserWarning:Binning discarded 1028 last spike(s) of the input spiketrain\n"
     ]
    },
    {
     "name": "stdout",
     "output_type": "stream",
     "text": [
      "\r",
      "...25.318% completed in 385.335 sec!"
     ]
    },
    {
     "name": "stderr",
     "output_type": "stream",
     "text": [
      "/home/docker/env/neurosci/lib/python3.9/site-packages/elephant/conversion.py:1170: UserWarning:Binning discarded 538 last spike(s) of the input spiketrain\n"
     ]
    },
    {
     "name": "stdout",
     "output_type": "stream",
     "text": [
      "\r",
      "...25.364% completed in 386.175 sec!"
     ]
    },
    {
     "name": "stderr",
     "output_type": "stream",
     "text": [
      "/home/docker/env/neurosci/lib/python3.9/site-packages/elephant/conversion.py:1170: UserWarning:Binning discarded 428 last spike(s) of the input spiketrain\n",
      "/home/docker/env/neurosci/lib/python3.9/site-packages/elephant/conversion.py:1170: UserWarning:Binning discarded 378 last spike(s) of the input spiketrain\n"
     ]
    },
    {
     "name": "stdout",
     "output_type": "stream",
     "text": [
      "...25.455% completed in 387.952 sec!"
     ]
    },
    {
     "name": "stderr",
     "output_type": "stream",
     "text": [
      "/home/docker/env/neurosci/lib/python3.9/site-packages/elephant/conversion.py:1170: UserWarning:Binning discarded 424 last spike(s) of the input spiketrain\n"
     ]
    },
    {
     "name": "stdout",
     "output_type": "stream",
     "text": [
      "\r",
      "...25.500% completed in 388.807 sec!"
     ]
    },
    {
     "name": "stderr",
     "output_type": "stream",
     "text": [
      "/home/docker/env/neurosci/lib/python3.9/site-packages/elephant/conversion.py:1170: UserWarning:Binning discarded 311 last spike(s) of the input spiketrain\n"
     ]
    },
    {
     "name": "stdout",
     "output_type": "stream",
     "text": [
      "\r",
      "...25.545% completed in 389.638 sec!"
     ]
    },
    {
     "name": "stderr",
     "output_type": "stream",
     "text": [
      "/home/docker/env/neurosci/lib/python3.9/site-packages/elephant/conversion.py:1170: UserWarning:Binning discarded 847 last spike(s) of the input spiketrain\n"
     ]
    },
    {
     "name": "stdout",
     "output_type": "stream",
     "text": [
      "\r",
      "...25.591% completed in 390.885 sec!"
     ]
    },
    {
     "name": "stderr",
     "output_type": "stream",
     "text": [
      "/home/docker/env/neurosci/lib/python3.9/site-packages/elephant/conversion.py:1170: UserWarning:Binning discarded 461 last spike(s) of the input spiketrain\n",
      "/home/docker/env/neurosci/lib/python3.9/site-packages/elephant/conversion.py:1170: UserWarning:Binning discarded 383 last spike(s) of the input spiketrain\n"
     ]
    },
    {
     "name": "stdout",
     "output_type": "stream",
     "text": [
      "\r",
      "...25.636% completed in 391.934 sec!"
     ]
    },
    {
     "name": "stderr",
     "output_type": "stream",
     "text": [
      "/home/docker/env/neurosci/lib/python3.9/site-packages/elephant/conversion.py:1170: UserWarning:Binning discarded 970 last spike(s) of the input spiketrain\n"
     ]
    },
    {
     "name": "stdout",
     "output_type": "stream",
     "text": [
      "\r",
      "...25.682% completed in 392.798 sec!\r",
      "...25.727% completed in 393.618 sec!"
     ]
    },
    {
     "name": "stderr",
     "output_type": "stream",
     "text": [
      "/home/docker/env/neurosci/lib/python3.9/site-packages/elephant/conversion.py:1170: UserWarning:Binning discarded 208 last spike(s) of the input spiketrain\n",
      "/home/docker/env/neurosci/lib/python3.9/site-packages/elephant/conversion.py:1170: UserWarning:Binning discarded 357 last spike(s) of the input spiketrain\n"
     ]
    },
    {
     "name": "stdout",
     "output_type": "stream",
     "text": [
      "...25.864% completed in 396.051 sec!"
     ]
    },
    {
     "name": "stderr",
     "output_type": "stream",
     "text": [
      "/home/docker/env/neurosci/lib/python3.9/site-packages/elephant/conversion.py:1170: UserWarning:Binning discarded 497 last spike(s) of the input spiketrain\n"
     ]
    },
    {
     "name": "stdout",
     "output_type": "stream",
     "text": [
      "\r",
      "...25.909% completed in 396.863 sec!"
     ]
    },
    {
     "name": "stderr",
     "output_type": "stream",
     "text": [
      "/home/docker/env/neurosci/lib/python3.9/site-packages/elephant/conversion.py:1170: UserWarning:Binning discarded 782 last spike(s) of the input spiketrain\n"
     ]
    },
    {
     "name": "stdout",
     "output_type": "stream",
     "text": [
      "\r",
      "...25.955% completed in 397.655 sec!\r",
      "...26.000% completed in 398.463 sec!"
     ]
    },
    {
     "name": "stderr",
     "output_type": "stream",
     "text": [
      "/home/docker/env/neurosci/lib/python3.9/site-packages/elephant/conversion.py:1170: UserWarning:Binning discarded 1027 last spike(s) of the input spiketrain\n"
     ]
    },
    {
     "name": "stdout",
     "output_type": "stream",
     "text": [
      "\r",
      "...26.045% completed in 399.284 sec!"
     ]
    },
    {
     "name": "stderr",
     "output_type": "stream",
     "text": [
      "/home/docker/env/neurosci/lib/python3.9/site-packages/elephant/conversion.py:1170: UserWarning:Binning discarded 505 last spike(s) of the input spiketrain\n"
     ]
    },
    {
     "name": "stdout",
     "output_type": "stream",
     "text": [
      "\r",
      "...26.091% completed in 400.092 sec!"
     ]
    },
    {
     "name": "stderr",
     "output_type": "stream",
     "text": [
      "/home/docker/env/neurosci/lib/python3.9/site-packages/elephant/conversion.py:1170: UserWarning:Binning discarded 565 last spike(s) of the input spiketrain\n"
     ]
    },
    {
     "name": "stdout",
     "output_type": "stream",
     "text": [
      "\r",
      "...26.136% completed in 400.922 sec!\r",
      "...26.182% completed in 401.661 sec!"
     ]
    },
    {
     "name": "stderr",
     "output_type": "stream",
     "text": [
      "/home/docker/env/neurosci/lib/python3.9/site-packages/elephant/conversion.py:1170: UserWarning:Binning discarded 291 last spike(s) of the input spiketrain\n",
      "/home/docker/env/neurosci/lib/python3.9/site-packages/elephant/conversion.py:1170: UserWarning:Binning discarded 319 last spike(s) of the input spiketrain\n"
     ]
    },
    {
     "name": "stdout",
     "output_type": "stream",
     "text": [
      "...26.364% completed in 404.859 sec!"
     ]
    },
    {
     "name": "stderr",
     "output_type": "stream",
     "text": [
      "/home/docker/env/neurosci/lib/python3.9/site-packages/elephant/conversion.py:1170: UserWarning:Binning discarded 530 last spike(s) of the input spiketrain\n",
      "/home/docker/env/neurosci/lib/python3.9/site-packages/elephant/conversion.py:1170: UserWarning:Binning discarded 940 last spike(s) of the input spiketrain\n"
     ]
    },
    {
     "name": "stdout",
     "output_type": "stream",
     "text": [
      "\r",
      "...26.409% completed in 405.636 sec!\r",
      "...26.455% completed in 406.415 sec!"
     ]
    },
    {
     "name": "stderr",
     "output_type": "stream",
     "text": [
      "/home/docker/env/neurosci/lib/python3.9/site-packages/elephant/conversion.py:1170: UserWarning:Binning discarded 414 last spike(s) of the input spiketrain\n"
     ]
    },
    {
     "name": "stdout",
     "output_type": "stream",
     "text": [
      "\r",
      "...26.500% completed in 407.135 sec!\r",
      "...26.545% completed in 407.899 sec!"
     ]
    },
    {
     "name": "stderr",
     "output_type": "stream",
     "text": [
      "/home/docker/env/neurosci/lib/python3.9/site-packages/elephant/conversion.py:1170: UserWarning:Binning discarded 620 last spike(s) of the input spiketrain\n"
     ]
    },
    {
     "name": "stdout",
     "output_type": "stream",
     "text": [
      "\r",
      "...26.591% completed in 408.6 sec!"
     ]
    },
    {
     "name": "stderr",
     "output_type": "stream",
     "text": [
      "/home/docker/env/neurosci/lib/python3.9/site-packages/elephant/conversion.py:1170: UserWarning:Binning discarded 310 last spike(s) of the input spiketrain\n"
     ]
    },
    {
     "name": "stdout",
     "output_type": "stream",
     "text": [
      "\r",
      "...26.636% completed in 409.271 sec!"
     ]
    },
    {
     "name": "stderr",
     "output_type": "stream",
     "text": [
      "/home/docker/env/neurosci/lib/python3.9/site-packages/elephant/conversion.py:1170: UserWarning:Binning discarded 777 last spike(s) of the input spiketrain\n"
     ]
    },
    {
     "name": "stdout",
     "output_type": "stream",
     "text": [
      "\r",
      "...26.682% completed in 409.951 sec!\r",
      "...26.727% completed in 410.621 sec!"
     ]
    },
    {
     "name": "stderr",
     "output_type": "stream",
     "text": [
      "/home/docker/env/neurosci/lib/python3.9/site-packages/elephant/conversion.py:1170: UserWarning:Binning discarded 145 last spike(s) of the input spiketrain\n"
     ]
    },
    {
     "name": "stdout",
     "output_type": "stream",
     "text": [
      "\r",
      "...26.773% completed in 411.273 sec!"
     ]
    },
    {
     "name": "stderr",
     "output_type": "stream",
     "text": [
      "/home/docker/env/neurosci/lib/python3.9/site-packages/elephant/conversion.py:1170: UserWarning:Binning discarded 328 last spike(s) of the input spiketrain\n"
     ]
    },
    {
     "name": "stdout",
     "output_type": "stream",
     "text": [
      "...26.909% completed in 413.161 sec!"
     ]
    },
    {
     "name": "stderr",
     "output_type": "stream",
     "text": [
      "/home/docker/env/neurosci/lib/python3.9/site-packages/elephant/conversion.py:1170: UserWarning:Binning discarded 610 last spike(s) of the input spiketrain\n",
      "/home/docker/env/neurosci/lib/python3.9/site-packages/elephant/conversion.py:1170: UserWarning:Binning discarded 177 last spike(s) of the input spiketrain\n",
      "/home/docker/env/neurosci/lib/python3.9/site-packages/elephant/conversion.py:1170: UserWarning:Binning discarded 215 last spike(s) of the input spiketrain\n"
     ]
    },
    {
     "name": "stdout",
     "output_type": "stream",
     "text": [
      "\r",
      "...26.955% completed in 413.786 sec!"
     ]
    },
    {
     "name": "stderr",
     "output_type": "stream",
     "text": [
      "/home/docker/env/neurosci/lib/python3.9/site-packages/elephant/conversion.py:1170: UserWarning:Binning discarded 416 last spike(s) of the input spiketrain\n",
      "/home/docker/env/neurosci/lib/python3.9/site-packages/elephant/conversion.py:1170: UserWarning:Binning discarded 617 last spike(s) of the input spiketrain\n"
     ]
    },
    {
     "name": "stdout",
     "output_type": "stream",
     "text": [
      "...27.091% completed in 415.652 sec!"
     ]
    },
    {
     "name": "stderr",
     "output_type": "stream",
     "text": [
      "/home/docker/env/neurosci/lib/python3.9/site-packages/elephant/conversion.py:1170: UserWarning:Binning discarded 658 last spike(s) of the input spiketrain\n",
      "/home/docker/env/neurosci/lib/python3.9/site-packages/elephant/conversion.py:1170: UserWarning:Binning discarded 225 last spike(s) of the input spiketrain\n"
     ]
    },
    {
     "name": "stdout",
     "output_type": "stream",
     "text": [
      "...27.227% completed in 417.498 sec!"
     ]
    },
    {
     "name": "stderr",
     "output_type": "stream",
     "text": [
      "/home/docker/env/neurosci/lib/python3.9/site-packages/elephant/conversion.py:1170: UserWarning:Binning discarded 144 last spike(s) of the input spiketrain\n"
     ]
    },
    {
     "name": "stdout",
     "output_type": "stream",
     "text": [
      "...27.318% completed in 418.689 sec!"
     ]
    },
    {
     "name": "stderr",
     "output_type": "stream",
     "text": [
      "/home/docker/env/neurosci/lib/python3.9/site-packages/elephant/conversion.py:1170: UserWarning:Binning discarded 109 last spike(s) of the input spiketrain\n"
     ]
    },
    {
     "name": "stdout",
     "output_type": "stream",
     "text": [
      "\r",
      "...27.364% completed in 419.284 sec!"
     ]
    },
    {
     "name": "stderr",
     "output_type": "stream",
     "text": [
      "/home/docker/env/neurosci/lib/python3.9/site-packages/elephant/conversion.py:1170: UserWarning:Binning discarded 106 last spike(s) of the input spiketrain\n",
      "/home/docker/env/neurosci/lib/python3.9/site-packages/elephant/conversion.py:1170: UserWarning:Binning discarded 71 last spike(s) of the input spiketrain\n"
     ]
    },
    {
     "name": "stdout",
     "output_type": "stream",
     "text": [
      "...27.500% completed in 421.15 sec!!"
     ]
    },
    {
     "name": "stderr",
     "output_type": "stream",
     "text": [
      "/home/docker/env/neurosci/lib/python3.9/site-packages/elephant/conversion.py:1170: UserWarning:Binning discarded 84 last spike(s) of the input spiketrain\n"
     ]
    },
    {
     "name": "stdout",
     "output_type": "stream",
     "text": [
      "\r",
      "...27.545% completed in 421.809 sec!"
     ]
    },
    {
     "name": "stderr",
     "output_type": "stream",
     "text": [
      "/home/docker/env/neurosci/lib/python3.9/site-packages/elephant/conversion.py:1170: UserWarning:Binning discarded 48 last spike(s) of the input spiketrain\n"
     ]
    },
    {
     "name": "stdout",
     "output_type": "stream",
     "text": [
      "\r",
      "...27.591% completed in 422.408 sec!"
     ]
    },
    {
     "name": "stderr",
     "output_type": "stream",
     "text": [
      "/home/docker/env/neurosci/lib/python3.9/site-packages/elephant/conversion.py:1170: UserWarning:Binning discarded 45 last spike(s) of the input spiketrain\n"
     ]
    },
    {
     "name": "stdout",
     "output_type": "stream",
     "text": [
      "\r",
      "...27.636% completed in 423.001 sec!"
     ]
    },
    {
     "name": "stderr",
     "output_type": "stream",
     "text": [
      "/home/docker/env/neurosci/lib/python3.9/site-packages/elephant/conversion.py:1170: UserWarning:Binning discarded 65 last spike(s) of the input spiketrain\n"
     ]
    },
    {
     "name": "stdout",
     "output_type": "stream",
     "text": [
      "...30.818% completed in 467.119 sec!"
     ]
    },
    {
     "name": "stderr",
     "output_type": "stream",
     "text": [
      "/home/docker/env/neurosci/lib/python3.9/site-packages/elephant/conversion.py:1170: UserWarning:Binning discarded 102 last spike(s) of the input spiketrain\n"
     ]
    },
    {
     "name": "stdout",
     "output_type": "stream",
     "text": [
      "\r",
      "...30.864% completed in 467.934 sec!"
     ]
    },
    {
     "name": "stderr",
     "output_type": "stream",
     "text": [
      "/home/docker/env/neurosci/lib/python3.9/site-packages/elephant/conversion.py:1170: UserWarning:Binning discarded 584 last spike(s) of the input spiketrain\n"
     ]
    },
    {
     "name": "stdout",
     "output_type": "stream",
     "text": [
      "\r",
      "...30.909% completed in 468.71 sec!"
     ]
    },
    {
     "name": "stderr",
     "output_type": "stream",
     "text": [
      "/home/docker/env/neurosci/lib/python3.9/site-packages/elephant/conversion.py:1170: UserWarning:Binning discarded 324 last spike(s) of the input spiketrain\n"
     ]
    },
    {
     "name": "stdout",
     "output_type": "stream",
     "text": [
      "...31.091% completed in 471.652 sec!"
     ]
    },
    {
     "name": "stderr",
     "output_type": "stream",
     "text": [
      "/home/docker/env/neurosci/lib/python3.9/site-packages/elephant/conversion.py:1170: UserWarning:Binning discarded 2231 last spike(s) of the input spiketrain\n"
     ]
    },
    {
     "name": "stdout",
     "output_type": "stream",
     "text": [
      "\r",
      "...31.136% completed in 472.508 sec!"
     ]
    },
    {
     "name": "stderr",
     "output_type": "stream",
     "text": [
      "/home/docker/env/neurosci/lib/python3.9/site-packages/elephant/conversion.py:1170: UserWarning:Binning discarded 1319 last spike(s) of the input spiketrain\n"
     ]
    },
    {
     "name": "stdout",
     "output_type": "stream",
     "text": [
      "\r",
      "...31.182% completed in 473.271 sec!"
     ]
    },
    {
     "name": "stderr",
     "output_type": "stream",
     "text": [
      "/home/docker/env/neurosci/lib/python3.9/site-packages/elephant/conversion.py:1170: UserWarning:Binning discarded 358 last spike(s) of the input spiketrain\n"
     ]
    },
    {
     "name": "stdout",
     "output_type": "stream",
     "text": [
      "\r",
      "...31.227% completed in 474.146 sec!"
     ]
    },
    {
     "name": "stderr",
     "output_type": "stream",
     "text": [
      "/home/docker/env/neurosci/lib/python3.9/site-packages/elephant/conversion.py:1170: UserWarning:Binning discarded 478 last spike(s) of the input spiketrain\n"
     ]
    },
    {
     "name": "stdout",
     "output_type": "stream",
     "text": [
      "\r",
      "...31.273% completed in 474.885 sec!\r",
      "...31.318% completed in 475.619 sec!"
     ]
    },
    {
     "name": "stderr",
     "output_type": "stream",
     "text": [
      "/home/docker/env/neurosci/lib/python3.9/site-packages/elephant/conversion.py:1170: UserWarning:Binning discarded 123 last spike(s) of the input spiketrain\n"
     ]
    },
    {
     "name": "stdout",
     "output_type": "stream",
     "text": [
      "\r",
      "...31.364% completed in 476.384 sec!"
     ]
    },
    {
     "name": "stderr",
     "output_type": "stream",
     "text": [
      "/home/docker/env/neurosci/lib/python3.9/site-packages/elephant/conversion.py:1170: UserWarning:Binning discarded 1262 last spike(s) of the input spiketrain\n"
     ]
    },
    {
     "name": "stdout",
     "output_type": "stream",
     "text": [
      "\r",
      "...31.409% completed in 477.214 sec!"
     ]
    },
    {
     "name": "stderr",
     "output_type": "stream",
     "text": [
      "/home/docker/env/neurosci/lib/python3.9/site-packages/elephant/conversion.py:1170: UserWarning:Binning discarded 317 last spike(s) of the input spiketrain\n"
     ]
    },
    {
     "name": "stdout",
     "output_type": "stream",
     "text": [
      "...31.500% completed in 478.739 sec!"
     ]
    },
    {
     "name": "stderr",
     "output_type": "stream",
     "text": [
      "/home/docker/env/neurosci/lib/python3.9/site-packages/elephant/conversion.py:1170: UserWarning:Binning discarded 508 last spike(s) of the input spiketrain\n"
     ]
    },
    {
     "name": "stdout",
     "output_type": "stream",
     "text": [
      "\r",
      "...31.545% completed in 479.539 sec!\r",
      "...31.591% completed in 480.488 sec!"
     ]
    },
    {
     "name": "stderr",
     "output_type": "stream",
     "text": [
      "/home/docker/env/neurosci/lib/python3.9/site-packages/elephant/conversion.py:1170: UserWarning:Binning discarded 622 last spike(s) of the input spiketrain\n",
      "/home/docker/env/neurosci/lib/python3.9/site-packages/elephant/conversion.py:1170: UserWarning:Binning discarded 426 last spike(s) of the input spiketrain\n"
     ]
    },
    {
     "name": "stdout",
     "output_type": "stream",
     "text": [
      "...31.727% completed in 483.66 sec!!"
     ]
    },
    {
     "name": "stderr",
     "output_type": "stream",
     "text": [
      "/home/docker/env/neurosci/lib/python3.9/site-packages/elephant/conversion.py:1170: UserWarning:Binning discarded 881 last spike(s) of the input spiketrain\n"
     ]
    },
    {
     "name": "stdout",
     "output_type": "stream",
     "text": [
      "\r",
      "...31.773% completed in 484.513 sec!"
     ]
    },
    {
     "name": "stderr",
     "output_type": "stream",
     "text": [
      "/home/docker/env/neurosci/lib/python3.9/site-packages/elephant/conversion.py:1170: UserWarning:Binning discarded 1460 last spike(s) of the input spiketrain\n"
     ]
    },
    {
     "name": "stdout",
     "output_type": "stream",
     "text": [
      "\r",
      "...31.818% completed in 485.37 sec!\r",
      "...31.864% completed in 486.255 sec!"
     ]
    },
    {
     "name": "stderr",
     "output_type": "stream",
     "text": [
      "/home/docker/env/neurosci/lib/python3.9/site-packages/elephant/conversion.py:1170: UserWarning:Binning discarded 261 last spike(s) of the input spiketrain\n"
     ]
    },
    {
     "name": "stdout",
     "output_type": "stream",
     "text": [
      "...32.091% completed in 490.81 sec!!"
     ]
    },
    {
     "name": "stderr",
     "output_type": "stream",
     "text": [
      "/home/docker/env/neurosci/lib/python3.9/site-packages/elephant/conversion.py:1170: UserWarning:Binning discarded 983 last spike(s) of the input spiketrain\n"
     ]
    },
    {
     "name": "stdout",
     "output_type": "stream",
     "text": [
      "\r",
      "...32.136% completed in 491.803 sec!"
     ]
    },
    {
     "name": "stderr",
     "output_type": "stream",
     "text": [
      "/home/docker/env/neurosci/lib/python3.9/site-packages/elephant/conversion.py:1170: UserWarning:Binning discarded 1475 last spike(s) of the input spiketrain\n",
      "/home/docker/env/neurosci/lib/python3.9/site-packages/elephant/conversion.py:1170: UserWarning:Binning discarded 735 last spike(s) of the input spiketrain\n"
     ]
    },
    {
     "name": "stdout",
     "output_type": "stream",
     "text": [
      "\r",
      "...32.182% completed in 492.689 sec!"
     ]
    },
    {
     "name": "stderr",
     "output_type": "stream",
     "text": [
      "/home/docker/env/neurosci/lib/python3.9/site-packages/elephant/conversion.py:1170: UserWarning:Binning discarded 458 last spike(s) of the input spiketrain\n"
     ]
    },
    {
     "name": "stdout",
     "output_type": "stream",
     "text": [
      "\r",
      "...32.227% completed in 493.627 sec!\r",
      "...32.273% completed in 494.518 sec!"
     ]
    },
    {
     "name": "stderr",
     "output_type": "stream",
     "text": [
      "/home/docker/env/neurosci/lib/python3.9/site-packages/elephant/conversion.py:1170: UserWarning:Binning discarded 435 last spike(s) of the input spiketrain\n"
     ]
    },
    {
     "name": "stdout",
     "output_type": "stream",
     "text": [
      "...32.364% completed in 496.314 sec!"
     ]
    },
    {
     "name": "stderr",
     "output_type": "stream",
     "text": [
      "/home/docker/env/neurosci/lib/python3.9/site-packages/elephant/conversion.py:1170: UserWarning:Binning discarded 648 last spike(s) of the input spiketrain\n"
     ]
    },
    {
     "name": "stdout",
     "output_type": "stream",
     "text": [
      "\r",
      "...32.409% completed in 497.201 sec!"
     ]
    },
    {
     "name": "stderr",
     "output_type": "stream",
     "text": [
      "/home/docker/env/neurosci/lib/python3.9/site-packages/elephant/conversion.py:1170: UserWarning:Binning discarded 499 last spike(s) of the input spiketrain\n"
     ]
    },
    {
     "name": "stdout",
     "output_type": "stream",
     "text": [
      "\r",
      "...32.455% completed in 498.277 sec!"
     ]
    },
    {
     "name": "stderr",
     "output_type": "stream",
     "text": [
      "/home/docker/env/neurosci/lib/python3.9/site-packages/elephant/conversion.py:1170: UserWarning:Binning discarded 931 last spike(s) of the input spiketrain\n"
     ]
    },
    {
     "name": "stdout",
     "output_type": "stream",
     "text": [
      "\r",
      "...32.500% completed in 499.31 sec!"
     ]
    },
    {
     "name": "stderr",
     "output_type": "stream",
     "text": [
      "/home/docker/env/neurosci/lib/python3.9/site-packages/elephant/conversion.py:1170: UserWarning:Binning discarded 533 last spike(s) of the input spiketrain\n",
      "/home/docker/env/neurosci/lib/python3.9/site-packages/elephant/conversion.py:1170: UserWarning:Binning discarded 641 last spike(s) of the input spiketrain\n"
     ]
    },
    {
     "name": "stdout",
     "output_type": "stream",
     "text": [
      "...32.636% completed in 502.37 sec!!"
     ]
    },
    {
     "name": "stderr",
     "output_type": "stream",
     "text": [
      "/home/docker/env/neurosci/lib/python3.9/site-packages/elephant/conversion.py:1170: UserWarning:Binning discarded 1140 last spike(s) of the input spiketrain\n"
     ]
    },
    {
     "name": "stdout",
     "output_type": "stream",
     "text": [
      "...32.773% completed in 505.535 sec!"
     ]
    },
    {
     "name": "stderr",
     "output_type": "stream",
     "text": [
      "/home/docker/env/neurosci/lib/python3.9/site-packages/elephant/conversion.py:1170: UserWarning:Binning discarded 1422 last spike(s) of the input spiketrain\n"
     ]
    },
    {
     "name": "stdout",
     "output_type": "stream",
     "text": [
      "\r",
      "...32.818% completed in 506.591 sec!"
     ]
    },
    {
     "name": "stderr",
     "output_type": "stream",
     "text": [
      "/home/docker/env/neurosci/lib/python3.9/site-packages/elephant/conversion.py:1170: UserWarning:Binning discarded 105 last spike(s) of the input spiketrain\n"
     ]
    },
    {
     "name": "stdout",
     "output_type": "stream",
     "text": [
      "\r",
      "...32.864% completed in 507.571 sec!\r",
      "...32.909% completed in 508.642 sec!"
     ]
    },
    {
     "name": "stderr",
     "output_type": "stream",
     "text": [
      "/home/docker/env/neurosci/lib/python3.9/site-packages/elephant/conversion.py:1170: UserWarning:Binning discarded 741 last spike(s) of the input spiketrain\n",
      "/home/docker/env/neurosci/lib/python3.9/site-packages/elephant/conversion.py:1170: UserWarning:Binning discarded 575 last spike(s) of the input spiketrain\n"
     ]
    },
    {
     "name": "stdout",
     "output_type": "stream",
     "text": [
      "\r",
      "...32.955% completed in 509.793 sec!"
     ]
    },
    {
     "name": "stderr",
     "output_type": "stream",
     "text": [
      "/home/docker/env/neurosci/lib/python3.9/site-packages/elephant/conversion.py:1170: UserWarning:Binning discarded 752 last spike(s) of the input spiketrain\n"
     ]
    },
    {
     "name": "stdout",
     "output_type": "stream",
     "text": [
      "...33.136% completed in 514.478 sec!"
     ]
    },
    {
     "name": "stderr",
     "output_type": "stream",
     "text": [
      "/home/docker/env/neurosci/lib/python3.9/site-packages/elephant/conversion.py:1170: UserWarning:Binning discarded 1334 last spike(s) of the input spiketrain\n"
     ]
    },
    {
     "name": "stdout",
     "output_type": "stream",
     "text": [
      "...33.227% completed in 516.426 sec!"
     ]
    },
    {
     "name": "stderr",
     "output_type": "stream",
     "text": [
      "/home/docker/env/neurosci/lib/python3.9/site-packages/elephant/conversion.py:1170: UserWarning:Binning discarded 674 last spike(s) of the input spiketrain\n"
     ]
    },
    {
     "name": "stdout",
     "output_type": "stream",
     "text": [
      "\r",
      "...33.273% completed in 517.339 sec!"
     ]
    },
    {
     "name": "stderr",
     "output_type": "stream",
     "text": [
      "/home/docker/env/neurosci/lib/python3.9/site-packages/elephant/conversion.py:1170: UserWarning:Binning discarded 724 last spike(s) of the input spiketrain\n"
     ]
    },
    {
     "name": "stdout",
     "output_type": "stream",
     "text": [
      "\r",
      "...33.318% completed in 518.748 sec!"
     ]
    },
    {
     "name": "stderr",
     "output_type": "stream",
     "text": [
      "/home/docker/env/neurosci/lib/python3.9/site-packages/elephant/conversion.py:1170: UserWarning:Binning discarded 532 last spike(s) of the input spiketrain\n"
     ]
    },
    {
     "name": "stdout",
     "output_type": "stream",
     "text": [
      "...33.500% completed in 522.469 sec!"
     ]
    },
    {
     "name": "stderr",
     "output_type": "stream",
     "text": [
      "/home/docker/env/neurosci/lib/python3.9/site-packages/elephant/conversion.py:1170: UserWarning:Binning discarded 669 last spike(s) of the input spiketrain\n",
      "/home/docker/env/neurosci/lib/python3.9/site-packages/elephant/conversion.py:1170: UserWarning:Binning discarded 948 last spike(s) of the input spiketrain\n"
     ]
    },
    {
     "name": "stdout",
     "output_type": "stream",
     "text": [
      "\r",
      "...33.545% completed in 523.28 sec!\r",
      "...33.591% completed in 524.152 sec!"
     ]
    },
    {
     "name": "stderr",
     "output_type": "stream",
     "text": [
      "/home/docker/env/neurosci/lib/python3.9/site-packages/elephant/conversion.py:1170: UserWarning:Binning discarded 730 last spike(s) of the input spiketrain\n"
     ]
    },
    {
     "name": "stdout",
     "output_type": "stream",
     "text": [
      "\r",
      "...33.636% completed in 525.027 sec!"
     ]
    },
    {
     "name": "stderr",
     "output_type": "stream",
     "text": [
      "/home/docker/env/neurosci/lib/python3.9/site-packages/elephant/conversion.py:1170: UserWarning:Binning discarded 351 last spike(s) of the input spiketrain\n"
     ]
    },
    {
     "name": "stdout",
     "output_type": "stream",
     "text": [
      "\r",
      "...33.682% completed in 525.891 sec!"
     ]
    },
    {
     "name": "stderr",
     "output_type": "stream",
     "text": [
      "/home/docker/env/neurosci/lib/python3.9/site-packages/elephant/conversion.py:1170: UserWarning:Binning discarded 525 last spike(s) of the input spiketrain\n"
     ]
    },
    {
     "name": "stdout",
     "output_type": "stream",
     "text": [
      "\r",
      "...33.727% completed in 526.735 sec!"
     ]
    },
    {
     "name": "stderr",
     "output_type": "stream",
     "text": [
      "/home/docker/env/neurosci/lib/python3.9/site-packages/elephant/conversion.py:1170: UserWarning:Binning discarded 129 last spike(s) of the input spiketrain\n"
     ]
    },
    {
     "name": "stdout",
     "output_type": "stream",
     "text": [
      "\r",
      "...33.773% completed in 527.864 sec!"
     ]
    },
    {
     "name": "stderr",
     "output_type": "stream",
     "text": [
      "/home/docker/env/neurosci/lib/python3.9/site-packages/elephant/conversion.py:1170: UserWarning:Binning discarded 279 last spike(s) of the input spiketrain\n"
     ]
    },
    {
     "name": "stdout",
     "output_type": "stream",
     "text": [
      "\r",
      "...33.818% completed in 528.763 sec!"
     ]
    },
    {
     "name": "stderr",
     "output_type": "stream",
     "text": [
      "/home/docker/env/neurosci/lib/python3.9/site-packages/elephant/conversion.py:1170: UserWarning:Binning discarded 748 last spike(s) of the input spiketrain\n"
     ]
    },
    {
     "name": "stdout",
     "output_type": "stream",
     "text": [
      "...33.955% completed in 531.298 sec!"
     ]
    },
    {
     "name": "stderr",
     "output_type": "stream",
     "text": [
      "/home/docker/env/neurosci/lib/python3.9/site-packages/elephant/conversion.py:1170: UserWarning:Binning discarded 397 last spike(s) of the input spiketrain\n"
     ]
    },
    {
     "name": "stdout",
     "output_type": "stream",
     "text": [
      "\r",
      "...34.000% completed in 532.092 sec!"
     ]
    },
    {
     "name": "stderr",
     "output_type": "stream",
     "text": [
      "/home/docker/env/neurosci/lib/python3.9/site-packages/elephant/conversion.py:1170: UserWarning:Binning discarded 848 last spike(s) of the input spiketrain\n"
     ]
    },
    {
     "name": "stdout",
     "output_type": "stream",
     "text": [
      "...34.091% completed in 533.604 sec!"
     ]
    },
    {
     "name": "stderr",
     "output_type": "stream",
     "text": [
      "/home/docker/env/neurosci/lib/python3.9/site-packages/elephant/conversion.py:1170: UserWarning:Binning discarded 482 last spike(s) of the input spiketrain\n"
     ]
    },
    {
     "name": "stdout",
     "output_type": "stream",
     "text": [
      "\r",
      "...34.136% completed in 534.352 sec!"
     ]
    },
    {
     "name": "stderr",
     "output_type": "stream",
     "text": [
      "/home/docker/env/neurosci/lib/python3.9/site-packages/elephant/conversion.py:1170: UserWarning:Binning discarded 385 last spike(s) of the input spiketrain\n"
     ]
    },
    {
     "name": "stdout",
     "output_type": "stream",
     "text": [
      "\r",
      "...34.182% completed in 535.1 sec!"
     ]
    },
    {
     "name": "stderr",
     "output_type": "stream",
     "text": [
      "/home/docker/env/neurosci/lib/python3.9/site-packages/elephant/conversion.py:1170: UserWarning:Binning discarded 132 last spike(s) of the input spiketrain\n",
      "/home/docker/env/neurosci/lib/python3.9/site-packages/elephant/conversion.py:1170: UserWarning:Binning discarded 675 last spike(s) of the input spiketrain\n"
     ]
    },
    {
     "name": "stdout",
     "output_type": "stream",
     "text": [
      "\r",
      "...34.227% completed in 535.836 sec!"
     ]
    },
    {
     "name": "stderr",
     "output_type": "stream",
     "text": [
      "/home/docker/env/neurosci/lib/python3.9/site-packages/elephant/conversion.py:1170: UserWarning:Binning discarded 981 last spike(s) of the input spiketrain\n"
     ]
    },
    {
     "name": "stdout",
     "output_type": "stream",
     "text": [
      "...34.409% completed in 538.64 sec!!"
     ]
    },
    {
     "name": "stderr",
     "output_type": "stream",
     "text": [
      "/home/docker/env/neurosci/lib/python3.9/site-packages/elephant/conversion.py:1170: UserWarning:Binning discarded 569 last spike(s) of the input spiketrain\n"
     ]
    },
    {
     "name": "stdout",
     "output_type": "stream",
     "text": [
      "\r",
      "...34.455% completed in 539.582 sec!\r",
      "...34.500% completed in 540.296 sec!"
     ]
    },
    {
     "name": "stderr",
     "output_type": "stream",
     "text": [
      "/home/docker/env/neurosci/lib/python3.9/site-packages/elephant/conversion.py:1170: UserWarning:Binning discarded 568 last spike(s) of the input spiketrain\n"
     ]
    },
    {
     "name": "stdout",
     "output_type": "stream",
     "text": [
      "...34.909% completed in 546.474 sec!"
     ]
    },
    {
     "name": "stderr",
     "output_type": "stream",
     "text": [
      "/home/docker/env/neurosci/lib/python3.9/site-packages/elephant/conversion.py:1170: UserWarning:Binning discarded 94 last spike(s) of the input spiketrain\n"
     ]
    },
    {
     "name": "stdout",
     "output_type": "stream",
     "text": [
      "\r",
      "...34.955% completed in 547.211 sec!"
     ]
    },
    {
     "name": "stderr",
     "output_type": "stream",
     "text": [
      "/home/docker/env/neurosci/lib/python3.9/site-packages/elephant/conversion.py:1170: UserWarning:Binning discarded 86 last spike(s) of the input spiketrain\n"
     ]
    },
    {
     "name": "stdout",
     "output_type": "stream",
     "text": [
      "\r",
      "...35.000% completed in 547.84 sec!\r",
      "...35.045% completed in 548.469 sec!"
     ]
    },
    {
     "name": "stderr",
     "output_type": "stream",
     "text": [
      "/home/docker/env/neurosci/lib/python3.9/site-packages/elephant/conversion.py:1170: UserWarning:Binning discarded 61 last spike(s) of the input spiketrain\n"
     ]
    },
    {
     "name": "stdout",
     "output_type": "stream",
     "text": [
      "...35.136% completed in 549.655 sec!"
     ]
    },
    {
     "name": "stderr",
     "output_type": "stream",
     "text": [
      "/home/docker/env/neurosci/lib/python3.9/site-packages/elephant/conversion.py:1170: UserWarning:Binning discarded 49 last spike(s) of the input spiketrain\n"
     ]
    },
    {
     "name": "stdout",
     "output_type": "stream",
     "text": [
      "...35.227% completed in 550.874 sec!"
     ]
    },
    {
     "name": "stderr",
     "output_type": "stream",
     "text": [
      "/home/docker/env/neurosci/lib/python3.9/site-packages/elephant/conversion.py:1170: UserWarning:Binning discarded 42 last spike(s) of the input spiketrain\n"
     ]
    },
    {
     "name": "stdout",
     "output_type": "stream",
     "text": [
      "...38.318% completed in 647.277 sec!"
     ]
    },
    {
     "name": "stderr",
     "output_type": "stream",
     "text": [
      "/home/docker/env/neurosci/lib/python3.9/site-packages/elephant/conversion.py:1170: UserWarning:Binning discarded 114 last spike(s) of the input spiketrain\n"
     ]
    },
    {
     "name": "stdout",
     "output_type": "stream",
     "text": [
      "...38.409% completed in 649.064 sec!"
     ]
    },
    {
     "name": "stderr",
     "output_type": "stream",
     "text": [
      "/home/docker/env/neurosci/lib/python3.9/site-packages/elephant/conversion.py:1170: UserWarning:Binning discarded 87 last spike(s) of the input spiketrain\n"
     ]
    },
    {
     "name": "stdout",
     "output_type": "stream",
     "text": [
      "...38.591% completed in 652.529 sec!"
     ]
    },
    {
     "name": "stderr",
     "output_type": "stream",
     "text": [
      "/home/docker/env/neurosci/lib/python3.9/site-packages/elephant/conversion.py:1170: UserWarning:Binning discarded 126 last spike(s) of the input spiketrain\n"
     ]
    },
    {
     "name": "stdout",
     "output_type": "stream",
     "text": [
      "...38.773% completed in 655.877 sec!"
     ]
    },
    {
     "name": "stderr",
     "output_type": "stream",
     "text": [
      "/home/docker/env/neurosci/lib/python3.9/site-packages/elephant/conversion.py:1170: UserWarning:Binning discarded 716 last spike(s) of the input spiketrain\n",
      "/home/docker/env/neurosci/lib/python3.9/site-packages/elephant/conversion.py:1170: UserWarning:Binning discarded 266 last spike(s) of the input spiketrain\n"
     ]
    },
    {
     "name": "stdout",
     "output_type": "stream",
     "text": [
      "...38.864% completed in 657.744 sec!"
     ]
    },
    {
     "name": "stderr",
     "output_type": "stream",
     "text": [
      "/home/docker/env/neurosci/lib/python3.9/site-packages/elephant/conversion.py:1170: UserWarning:Binning discarded 634 last spike(s) of the input spiketrain\n"
     ]
    },
    {
     "name": "stdout",
     "output_type": "stream",
     "text": [
      "\r",
      "...38.909% completed in 658.523 sec!"
     ]
    },
    {
     "name": "stderr",
     "output_type": "stream",
     "text": [
      "/home/docker/env/neurosci/lib/python3.9/site-packages/elephant/conversion.py:1170: UserWarning:Binning discarded 457 last spike(s) of the input spiketrain\n",
      "/home/docker/env/neurosci/lib/python3.9/site-packages/elephant/conversion.py:1170: UserWarning:Binning discarded 837 last spike(s) of the input spiketrain\n"
     ]
    },
    {
     "name": "stdout",
     "output_type": "stream",
     "text": [
      "\r",
      "...38.955% completed in 659.387 sec!"
     ]
    },
    {
     "name": "stderr",
     "output_type": "stream",
     "text": [
      "/home/docker/env/neurosci/lib/python3.9/site-packages/elephant/conversion.py:1170: UserWarning:Binning discarded 1241 last spike(s) of the input spiketrain\n",
      "/home/docker/env/neurosci/lib/python3.9/site-packages/elephant/conversion.py:1170: UserWarning:Binning discarded 441 last spike(s) of the input spiketrain\n"
     ]
    },
    {
     "name": "stdout",
     "output_type": "stream",
     "text": [
      "...39.045% completed in 661.014 sec!"
     ]
    },
    {
     "name": "stderr",
     "output_type": "stream",
     "text": [
      "/home/docker/env/neurosci/lib/python3.9/site-packages/elephant/conversion.py:1170: UserWarning:Binning discarded 369 last spike(s) of the input spiketrain\n"
     ]
    },
    {
     "name": "stdout",
     "output_type": "stream",
     "text": [
      "\r",
      "...39.091% completed in 661.867 sec!"
     ]
    },
    {
     "name": "stderr",
     "output_type": "stream",
     "text": [
      "/home/docker/env/neurosci/lib/python3.9/site-packages/elephant/conversion.py:1170: UserWarning:Binning discarded 350 last spike(s) of the input spiketrain\n"
     ]
    },
    {
     "name": "stdout",
     "output_type": "stream",
     "text": [
      "\r",
      "...39.136% completed in 662.649 sec!"
     ]
    },
    {
     "name": "stderr",
     "output_type": "stream",
     "text": [
      "/home/docker/env/neurosci/lib/python3.9/site-packages/elephant/conversion.py:1170: UserWarning:Binning discarded 579 last spike(s) of the input spiketrain\n"
     ]
    },
    {
     "name": "stdout",
     "output_type": "stream",
     "text": [
      "\r",
      "...39.182% completed in 663.446 sec!"
     ]
    },
    {
     "name": "stderr",
     "output_type": "stream",
     "text": [
      "/home/docker/env/neurosci/lib/python3.9/site-packages/elephant/conversion.py:1170: UserWarning:Binning discarded 810 last spike(s) of the input spiketrain\n"
     ]
    },
    {
     "name": "stdout",
     "output_type": "stream",
     "text": [
      "...39.273% completed in 665.519 sec!"
     ]
    },
    {
     "name": "stderr",
     "output_type": "stream",
     "text": [
      "/home/docker/env/neurosci/lib/python3.9/site-packages/elephant/conversion.py:1170: UserWarning:Binning discarded 521 last spike(s) of the input spiketrain\n"
     ]
    },
    {
     "name": "stdout",
     "output_type": "stream",
     "text": [
      "\r",
      "...39.318% completed in 666.51 sec!"
     ]
    },
    {
     "name": "stderr",
     "output_type": "stream",
     "text": [
      "/home/docker/env/neurosci/lib/python3.9/site-packages/elephant/conversion.py:1170: UserWarning:Binning discarded 762 last spike(s) of the input spiketrain\n"
     ]
    },
    {
     "name": "stdout",
     "output_type": "stream",
     "text": [
      "\r",
      "...39.364% completed in 667.626 sec!"
     ]
    },
    {
     "name": "stderr",
     "output_type": "stream",
     "text": [
      "/home/docker/env/neurosci/lib/python3.9/site-packages/elephant/conversion.py:1170: UserWarning:Binning discarded 107 last spike(s) of the input spiketrain\n"
     ]
    },
    {
     "name": "stdout",
     "output_type": "stream",
     "text": [
      "...39.500% completed in 670.419 sec!"
     ]
    },
    {
     "name": "stderr",
     "output_type": "stream",
     "text": [
      "/home/docker/env/neurosci/lib/python3.9/site-packages/elephant/conversion.py:1170: UserWarning:Binning discarded 709 last spike(s) of the input spiketrain\n",
      "/home/docker/env/neurosci/lib/python3.9/site-packages/elephant/conversion.py:1170: UserWarning:Binning discarded 750 last spike(s) of the input spiketrain\n"
     ]
    },
    {
     "name": "stdout",
     "output_type": "stream",
     "text": [
      "\r",
      "...39.545% completed in 671.324 sec!"
     ]
    },
    {
     "name": "stderr",
     "output_type": "stream",
     "text": [
      "/home/docker/env/neurosci/lib/python3.9/site-packages/elephant/conversion.py:1170: UserWarning:Binning discarded 241 last spike(s) of the input spiketrain\n"
     ]
    },
    {
     "name": "stdout",
     "output_type": "stream",
     "text": [
      "...39.636% completed in 673.281 sec!"
     ]
    },
    {
     "name": "stderr",
     "output_type": "stream",
     "text": [
      "/home/docker/env/neurosci/lib/python3.9/site-packages/elephant/conversion.py:1170: UserWarning:Binning discarded 372 last spike(s) of the input spiketrain\n",
      "/home/docker/env/neurosci/lib/python3.9/site-packages/elephant/conversion.py:1170: UserWarning:Binning discarded 710 last spike(s) of the input spiketrain\n"
     ]
    },
    {
     "name": "stdout",
     "output_type": "stream",
     "text": [
      "\r",
      "...39.682% completed in 674.324 sec!"
     ]
    },
    {
     "name": "stderr",
     "output_type": "stream",
     "text": [
      "/home/docker/env/neurosci/lib/python3.9/site-packages/elephant/conversion.py:1170: UserWarning:Binning discarded 686 last spike(s) of the input spiketrain\n"
     ]
    },
    {
     "name": "stdout",
     "output_type": "stream",
     "text": [
      "...39.773% completed in 676.297 sec!"
     ]
    },
    {
     "name": "stderr",
     "output_type": "stream",
     "text": [
      "/home/docker/env/neurosci/lib/python3.9/site-packages/elephant/conversion.py:1170: UserWarning:Binning discarded 627 last spike(s) of the input spiketrain\n"
     ]
    },
    {
     "name": "stdout",
     "output_type": "stream",
     "text": [
      "\r",
      "...39.818% completed in 677.241 sec!"
     ]
    },
    {
     "name": "stderr",
     "output_type": "stream",
     "text": [
      "/home/docker/env/neurosci/lib/python3.9/site-packages/elephant/conversion.py:1170: UserWarning:Binning discarded 510 last spike(s) of the input spiketrain\n",
      "/home/docker/env/neurosci/lib/python3.9/site-packages/elephant/conversion.py:1170: UserWarning:Binning discarded 305 last spike(s) of the input spiketrain\n"
     ]
    },
    {
     "name": "stdout",
     "output_type": "stream",
     "text": [
      "\r",
      "...39.864% completed in 678.26 sec!"
     ]
    },
    {
     "name": "stderr",
     "output_type": "stream",
     "text": [
      "/home/docker/env/neurosci/lib/python3.9/site-packages/elephant/conversion.py:1170: UserWarning:Binning discarded 471 last spike(s) of the input spiketrain\n"
     ]
    },
    {
     "name": "stdout",
     "output_type": "stream",
     "text": [
      "\r",
      "...39.909% completed in 679.225 sec!"
     ]
    },
    {
     "name": "stderr",
     "output_type": "stream",
     "text": [
      "/home/docker/env/neurosci/lib/python3.9/site-packages/elephant/conversion.py:1170: UserWarning:Binning discarded 116 last spike(s) of the input spiketrain\n",
      "/home/docker/env/neurosci/lib/python3.9/site-packages/elephant/conversion.py:1170: UserWarning:Binning discarded 593 last spike(s) of the input spiketrain\n"
     ]
    },
    {
     "name": "stdout",
     "output_type": "stream",
     "text": [
      "...40.000% completed in 681.25 sec!!"
     ]
    },
    {
     "name": "stderr",
     "output_type": "stream",
     "text": [
      "/home/docker/env/neurosci/lib/python3.9/site-packages/elephant/conversion.py:1170: UserWarning:Binning discarded 806 last spike(s) of the input spiketrain\n"
     ]
    },
    {
     "name": "stdout",
     "output_type": "stream",
     "text": [
      "...40.091% completed in 683.293 sec!"
     ]
    },
    {
     "name": "stderr",
     "output_type": "stream",
     "text": [
      "/home/docker/env/neurosci/lib/python3.9/site-packages/elephant/conversion.py:1170: UserWarning:Binning discarded 546 last spike(s) of the input spiketrain\n"
     ]
    },
    {
     "name": "stdout",
     "output_type": "stream",
     "text": [
      "\r",
      "...40.136% completed in 684.291 sec!"
     ]
    },
    {
     "name": "stderr",
     "output_type": "stream",
     "text": [
      "/home/docker/env/neurosci/lib/python3.9/site-packages/elephant/conversion.py:1170: UserWarning:Binning discarded 1052 last spike(s) of the input spiketrain\n"
     ]
    },
    {
     "name": "stdout",
     "output_type": "stream",
     "text": [
      "\r",
      "...40.182% completed in 685.279 sec!"
     ]
    },
    {
     "name": "stderr",
     "output_type": "stream",
     "text": [
      "/home/docker/env/neurosci/lib/python3.9/site-packages/elephant/conversion.py:1170: UserWarning:Binning discarded 966 last spike(s) of the input spiketrain\n"
     ]
    },
    {
     "name": "stdout",
     "output_type": "stream",
     "text": [
      "...40.273% completed in 687.272 sec!"
     ]
    },
    {
     "name": "stderr",
     "output_type": "stream",
     "text": [
      "/home/docker/env/neurosci/lib/python3.9/site-packages/elephant/conversion.py:1170: UserWarning:Binning discarded 633 last spike(s) of the input spiketrain\n"
     ]
    },
    {
     "name": "stdout",
     "output_type": "stream",
     "text": [
      "\r",
      "...40.318% completed in 688.237 sec!"
     ]
    },
    {
     "name": "stderr",
     "output_type": "stream",
     "text": [
      "/home/docker/env/neurosci/lib/python3.9/site-packages/elephant/conversion.py:1170: UserWarning:Binning discarded 170 last spike(s) of the input spiketrain\n"
     ]
    },
    {
     "name": "stdout",
     "output_type": "stream",
     "text": [
      "\r",
      "...40.364% completed in 689.202 sec!"
     ]
    },
    {
     "name": "stderr",
     "output_type": "stream",
     "text": [
      "/home/docker/env/neurosci/lib/python3.9/site-packages/elephant/conversion.py:1170: UserWarning:Binning discarded 527 last spike(s) of the input spiketrain\n"
     ]
    },
    {
     "name": "stdout",
     "output_type": "stream",
     "text": [
      "...40.500% completed in 692.164 sec!"
     ]
    },
    {
     "name": "stderr",
     "output_type": "stream",
     "text": [
      "/home/docker/env/neurosci/lib/python3.9/site-packages/elephant/conversion.py:1170: UserWarning:Binning discarded 638 last spike(s) of the input spiketrain\n",
      "/home/docker/env/neurosci/lib/python3.9/site-packages/elephant/conversion.py:1170: UserWarning:Binning discarded 257 last spike(s) of the input spiketrain\n"
     ]
    },
    {
     "name": "stdout",
     "output_type": "stream",
     "text": [
      "...40.636% completed in 695.011 sec!"
     ]
    },
    {
     "name": "stderr",
     "output_type": "stream",
     "text": [
      "/home/docker/env/neurosci/lib/python3.9/site-packages/elephant/conversion.py:1170: UserWarning:Binning discarded 726 last spike(s) of the input spiketrain\n",
      "/home/docker/env/neurosci/lib/python3.9/site-packages/elephant/conversion.py:1170: UserWarning:Binning discarded 355 last spike(s) of the input spiketrain\n",
      "/home/docker/env/neurosci/lib/python3.9/site-packages/elephant/conversion.py:1170: UserWarning:Binning discarded 817 last spike(s) of the input spiketrain\n"
     ]
    },
    {
     "name": "stdout",
     "output_type": "stream",
     "text": [
      "...40.773% completed in 697.916 sec!"
     ]
    },
    {
     "name": "stderr",
     "output_type": "stream",
     "text": [
      "/home/docker/env/neurosci/lib/python3.9/site-packages/elephant/conversion.py:1170: UserWarning:Binning discarded 607 last spike(s) of the input spiketrain\n"
     ]
    },
    {
     "name": "stdout",
     "output_type": "stream",
     "text": [
      "...40.864% completed in 700.042 sec!"
     ]
    },
    {
     "name": "stderr",
     "output_type": "stream",
     "text": [
      "/home/docker/env/neurosci/lib/python3.9/site-packages/elephant/conversion.py:1170: UserWarning:Binning discarded 272 last spike(s) of the input spiketrain\n"
     ]
    },
    {
     "name": "stdout",
     "output_type": "stream",
     "text": [
      "\r",
      "...40.909% completed in 700.912 sec!"
     ]
    },
    {
     "name": "stderr",
     "output_type": "stream",
     "text": [
      "/home/docker/env/neurosci/lib/python3.9/site-packages/elephant/conversion.py:1170: UserWarning:Binning discarded 433 last spike(s) of the input spiketrain\n"
     ]
    },
    {
     "name": "stdout",
     "output_type": "stream",
     "text": [
      "\r",
      "...40.955% completed in 701.813 sec!"
     ]
    },
    {
     "name": "stderr",
     "output_type": "stream",
     "text": [
      "/home/docker/env/neurosci/lib/python3.9/site-packages/elephant/conversion.py:1170: UserWarning:Binning discarded 611 last spike(s) of the input spiketrain\n"
     ]
    },
    {
     "name": "stdout",
     "output_type": "stream",
     "text": [
      "...41.091% completed in 704.512 sec!"
     ]
    },
    {
     "name": "stderr",
     "output_type": "stream",
     "text": [
      "/home/docker/env/neurosci/lib/python3.9/site-packages/elephant/conversion.py:1170: UserWarning:Binning discarded 429 last spike(s) of the input spiketrain\n"
     ]
    },
    {
     "name": "stdout",
     "output_type": "stream",
     "text": [
      "\r",
      "...41.136% completed in 705.401 sec!"
     ]
    },
    {
     "name": "stderr",
     "output_type": "stream",
     "text": [
      "/home/docker/env/neurosci/lib/python3.9/site-packages/elephant/conversion.py:1170: UserWarning:Binning discarded 550 last spike(s) of the input spiketrain\n"
     ]
    },
    {
     "name": "stdout",
     "output_type": "stream",
     "text": [
      "...41.227% completed in 707.105 sec!"
     ]
    },
    {
     "name": "stderr",
     "output_type": "stream",
     "text": [
      "/home/docker/env/neurosci/lib/python3.9/site-packages/elephant/conversion.py:1170: UserWarning:Binning discarded 287 last spike(s) of the input spiketrain\n"
     ]
    },
    {
     "name": "stdout",
     "output_type": "stream",
     "text": [
      "...41.364% completed in 709.663 sec!"
     ]
    },
    {
     "name": "stderr",
     "output_type": "stream",
     "text": [
      "/home/docker/env/neurosci/lib/python3.9/site-packages/elephant/conversion.py:1170: UserWarning:Binning discarded 518 last spike(s) of the input spiketrain\n",
      "/home/docker/env/neurosci/lib/python3.9/site-packages/elephant/conversion.py:1170: UserWarning:Binning discarded 255 last spike(s) of the input spiketrain\n"
     ]
    },
    {
     "name": "stdout",
     "output_type": "stream",
     "text": [
      "\r",
      "...41.409% completed in 710.48 sec!\r",
      "...41.455% completed in 711.292 sec!"
     ]
    },
    {
     "name": "stderr",
     "output_type": "stream",
     "text": [
      "/home/docker/env/neurosci/lib/python3.9/site-packages/elephant/conversion.py:1170: UserWarning:Binning discarded 595 last spike(s) of the input spiketrain\n",
      "/home/docker/env/neurosci/lib/python3.9/site-packages/elephant/conversion.py:1170: UserWarning:Binning discarded 401 last spike(s) of the input spiketrain\n"
     ]
    },
    {
     "name": "stdout",
     "output_type": "stream",
     "text": [
      "\r",
      "...41.500% completed in 712.161 sec!"
     ]
    },
    {
     "name": "stderr",
     "output_type": "stream",
     "text": [
      "/home/docker/env/neurosci/lib/python3.9/site-packages/elephant/conversion.py:1170: UserWarning:Binning discarded 697 last spike(s) of the input spiketrain\n"
     ]
    },
    {
     "name": "stdout",
     "output_type": "stream",
     "text": [
      "\r",
      "...41.545% completed in 713.074 sec!"
     ]
    },
    {
     "name": "stderr",
     "output_type": "stream",
     "text": [
      "/home/docker/env/neurosci/lib/python3.9/site-packages/elephant/conversion.py:1170: UserWarning:Binning discarded 531 last spike(s) of the input spiketrain\n"
     ]
    },
    {
     "name": "stdout",
     "output_type": "stream",
     "text": [
      "...41.727% completed in 716.233 sec!"
     ]
    },
    {
     "name": "stderr",
     "output_type": "stream",
     "text": [
      "/home/docker/env/neurosci/lib/python3.9/site-packages/elephant/conversion.py:1170: UserWarning:Binning discarded 842 last spike(s) of the input spiketrain\n"
     ]
    },
    {
     "name": "stdout",
     "output_type": "stream",
     "text": [
      "\r",
      "...41.773% completed in 717.009 sec!"
     ]
    },
    {
     "name": "stderr",
     "output_type": "stream",
     "text": [
      "/home/docker/env/neurosci/lib/python3.9/site-packages/elephant/conversion.py:1170: UserWarning:Binning discarded 213 last spike(s) of the input spiketrain\n"
     ]
    },
    {
     "name": "stdout",
     "output_type": "stream",
     "text": [
      "...42.045% completed in 721.341 sec!"
     ]
    },
    {
     "name": "stderr",
     "output_type": "stream",
     "text": [
      "/home/docker/env/neurosci/lib/python3.9/site-packages/elephant/conversion.py:1170: UserWarning:Binning discarded 307 last spike(s) of the input spiketrain\n"
     ]
    },
    {
     "name": "stdout",
     "output_type": "stream",
     "text": [
      "...42.727% completed in 731.554 sec!"
     ]
    },
    {
     "name": "stderr",
     "output_type": "stream",
     "text": [
      "/home/docker/env/neurosci/lib/python3.9/site-packages/elephant/conversion.py:1170: UserWarning:Binning discarded 66 last spike(s) of the input spiketrain\n"
     ]
    },
    {
     "name": "stdout",
     "output_type": "stream",
     "text": [
      "...42.955% completed in 734.805 sec!"
     ]
    },
    {
     "name": "stderr",
     "output_type": "stream",
     "text": [
      "/home/docker/env/neurosci/lib/python3.9/site-packages/elephant/conversion.py:1170: UserWarning:Binning discarded 41 last spike(s) of the input spiketrain\n"
     ]
    },
    {
     "name": "stdout",
     "output_type": "stream",
     "text": [
      "...45.955% completed in 782.506 sec!"
     ]
    },
    {
     "name": "stderr",
     "output_type": "stream",
     "text": [
      "/home/docker/env/neurosci/lib/python3.9/site-packages/elephant/conversion.py:1170: UserWarning:Binning discarded 74 last spike(s) of the input spiketrain\n"
     ]
    },
    {
     "name": "stdout",
     "output_type": "stream",
     "text": [
      "...46.091% completed in 785.153 sec!"
     ]
    },
    {
     "name": "stderr",
     "output_type": "stream",
     "text": [
      "/home/docker/env/neurosci/lib/python3.9/site-packages/elephant/conversion.py:1170: UserWarning:Binning discarded 264 last spike(s) of the input spiketrain\n"
     ]
    },
    {
     "name": "stdout",
     "output_type": "stream",
     "text": [
      "\r",
      "...46.136% completed in 786.02 sec!"
     ]
    },
    {
     "name": "stderr",
     "output_type": "stream",
     "text": [
      "/home/docker/env/neurosci/lib/python3.9/site-packages/elephant/conversion.py:1170: UserWarning:Binning discarded 156 last spike(s) of the input spiketrain\n"
     ]
    },
    {
     "name": "stdout",
     "output_type": "stream",
     "text": [
      "\r",
      "...46.182% completed in 786.876 sec!"
     ]
    },
    {
     "name": "stderr",
     "output_type": "stream",
     "text": [
      "/home/docker/env/neurosci/lib/python3.9/site-packages/elephant/conversion.py:1170: UserWarning:Binning discarded 640 last spike(s) of the input spiketrain\n"
     ]
    },
    {
     "name": "stdout",
     "output_type": "stream",
     "text": [
      "...46.273% completed in 788.623 sec!"
     ]
    },
    {
     "name": "stderr",
     "output_type": "stream",
     "text": [
      "/home/docker/env/neurosci/lib/python3.9/site-packages/elephant/conversion.py:1170: UserWarning:Binning discarded 653 last spike(s) of the input spiketrain\n"
     ]
    },
    {
     "name": "stdout",
     "output_type": "stream",
     "text": [
      "...46.455% completed in 792.266 sec!"
     ]
    },
    {
     "name": "stderr",
     "output_type": "stream",
     "text": [
      "/home/docker/env/neurosci/lib/python3.9/site-packages/elephant/conversion.py:1170: UserWarning:Binning discarded 447 last spike(s) of the input spiketrain\n"
     ]
    },
    {
     "name": "stdout",
     "output_type": "stream",
     "text": [
      "\r",
      "...46.500% completed in 793.186 sec!"
     ]
    },
    {
     "name": "stderr",
     "output_type": "stream",
     "text": [
      "/home/docker/env/neurosci/lib/python3.9/site-packages/elephant/conversion.py:1170: UserWarning:Binning discarded 480 last spike(s) of the input spiketrain\n"
     ]
    },
    {
     "name": "stdout",
     "output_type": "stream",
     "text": [
      "\r",
      "...46.545% completed in 794 sec!"
     ]
    },
    {
     "name": "stderr",
     "output_type": "stream",
     "text": [
      "/home/docker/env/neurosci/lib/python3.9/site-packages/elephant/conversion.py:1170: UserWarning:Binning discarded 405 last spike(s) of the input spiketrain\n"
     ]
    },
    {
     "name": "stdout",
     "output_type": "stream",
     "text": [
      "\r",
      "...46.591% completed in 794.966 sec!"
     ]
    },
    {
     "name": "stderr",
     "output_type": "stream",
     "text": [
      "/home/docker/env/neurosci/lib/python3.9/site-packages/elephant/conversion.py:1170: UserWarning:Binning discarded 1080 last spike(s) of the input spiketrain\n"
     ]
    },
    {
     "name": "stdout",
     "output_type": "stream",
     "text": [
      "\r",
      "...46.636% completed in 795.901 sec!"
     ]
    },
    {
     "name": "stderr",
     "output_type": "stream",
     "text": [
      "/home/docker/env/neurosci/lib/python3.9/site-packages/elephant/conversion.py:1170: UserWarning:Binning discarded 259 last spike(s) of the input spiketrain\n",
      "/home/docker/env/neurosci/lib/python3.9/site-packages/elephant/conversion.py:1170: UserWarning:Binning discarded 406 last spike(s) of the input spiketrain\n"
     ]
    },
    {
     "name": "stdout",
     "output_type": "stream",
     "text": [
      "...46.727% completed in 797.705 sec!"
     ]
    },
    {
     "name": "stderr",
     "output_type": "stream",
     "text": [
      "/home/docker/env/neurosci/lib/python3.9/site-packages/elephant/conversion.py:1170: UserWarning:Binning discarded 1150 last spike(s) of the input spiketrain\n"
     ]
    },
    {
     "name": "stdout",
     "output_type": "stream",
     "text": [
      "...46.864% completed in 800.673 sec!"
     ]
    },
    {
     "name": "stderr",
     "output_type": "stream",
     "text": [
      "/home/docker/env/neurosci/lib/python3.9/site-packages/elephant/conversion.py:1170: UserWarning:Binning discarded 624 last spike(s) of the input spiketrain\n"
     ]
    },
    {
     "name": "stdout",
     "output_type": "stream",
     "text": [
      "...46.955% completed in 802.597 sec!"
     ]
    },
    {
     "name": "stderr",
     "output_type": "stream",
     "text": [
      "/home/docker/env/neurosci/lib/python3.9/site-packages/elephant/conversion.py:1170: UserWarning:Binning discarded 718 last spike(s) of the input spiketrain\n"
     ]
    },
    {
     "name": "stdout",
     "output_type": "stream",
     "text": [
      "...47.091% completed in 805.631 sec!"
     ]
    },
    {
     "name": "stderr",
     "output_type": "stream",
     "text": [
      "/home/docker/env/neurosci/lib/python3.9/site-packages/elephant/conversion.py:1170: UserWarning:Binning discarded 1137 last spike(s) of the input spiketrain\n"
     ]
    },
    {
     "name": "stdout",
     "output_type": "stream",
     "text": [
      "\r",
      "...47.136% completed in 806.62 sec!"
     ]
    },
    {
     "name": "stderr",
     "output_type": "stream",
     "text": [
      "/home/docker/env/neurosci/lib/python3.9/site-packages/elephant/conversion.py:1170: UserWarning:Binning discarded 647 last spike(s) of the input spiketrain\n",
      "/home/docker/env/neurosci/lib/python3.9/site-packages/elephant/conversion.py:1170: UserWarning:Binning discarded 248 last spike(s) of the input spiketrain\n"
     ]
    },
    {
     "name": "stdout",
     "output_type": "stream",
     "text": [
      "...47.227% completed in 808.67 sec!!"
     ]
    },
    {
     "name": "stderr",
     "output_type": "stream",
     "text": [
      "/home/docker/env/neurosci/lib/python3.9/site-packages/elephant/conversion.py:1170: UserWarning:Binning discarded 494 last spike(s) of the input spiketrain\n"
     ]
    },
    {
     "name": "stdout",
     "output_type": "stream",
     "text": [
      "...47.318% completed in 810.814 sec!"
     ]
    },
    {
     "name": "stderr",
     "output_type": "stream",
     "text": [
      "/home/docker/env/neurosci/lib/python3.9/site-packages/elephant/conversion.py:1170: UserWarning:Binning discarded 766 last spike(s) of the input spiketrain\n"
     ]
    },
    {
     "name": "stdout",
     "output_type": "stream",
     "text": [
      "\r",
      "...47.364% completed in 811.761 sec!"
     ]
    },
    {
     "name": "stderr",
     "output_type": "stream",
     "text": [
      "/home/docker/env/neurosci/lib/python3.9/site-packages/elephant/conversion.py:1170: UserWarning:Binning discarded 427 last spike(s) of the input spiketrain\n"
     ]
    },
    {
     "name": "stdout",
     "output_type": "stream",
     "text": [
      "...47.455% completed in 813.837 sec!"
     ]
    },
    {
     "name": "stderr",
     "output_type": "stream",
     "text": [
      "/home/docker/env/neurosci/lib/python3.9/site-packages/elephant/conversion.py:1170: UserWarning:Binning discarded 943 last spike(s) of the input spiketrain\n"
     ]
    },
    {
     "name": "stdout",
     "output_type": "stream",
     "text": [
      "\r",
      "...47.500% completed in 814.742 sec!"
     ]
    },
    {
     "name": "stderr",
     "output_type": "stream",
     "text": [
      "/home/docker/env/neurosci/lib/python3.9/site-packages/elephant/conversion.py:1170: UserWarning:Binning discarded 520 last spike(s) of the input spiketrain\n"
     ]
    },
    {
     "name": "stdout",
     "output_type": "stream",
     "text": [
      "\r",
      "...47.545% completed in 815.711 sec!"
     ]
    },
    {
     "name": "stderr",
     "output_type": "stream",
     "text": [
      "/home/docker/env/neurosci/lib/python3.9/site-packages/elephant/conversion.py:1170: UserWarning:Binning discarded 226 last spike(s) of the input spiketrain\n"
     ]
    },
    {
     "name": "stdout",
     "output_type": "stream",
     "text": [
      "\r",
      "...47.591% completed in 816.758 sec!"
     ]
    },
    {
     "name": "stderr",
     "output_type": "stream",
     "text": [
      "/home/docker/env/neurosci/lib/python3.9/site-packages/elephant/conversion.py:1170: UserWarning:Binning discarded 929 last spike(s) of the input spiketrain\n"
     ]
    },
    {
     "name": "stdout",
     "output_type": "stream",
     "text": [
      "...47.682% completed in 819.085 sec!"
     ]
    },
    {
     "name": "stderr",
     "output_type": "stream",
     "text": [
      "/home/docker/env/neurosci/lib/python3.9/site-packages/elephant/conversion.py:1170: UserWarning:Binning discarded 1069 last spike(s) of the input spiketrain\n"
     ]
    },
    {
     "name": "stdout",
     "output_type": "stream",
     "text": [
      "\r",
      "...47.727% completed in 820.249 sec!"
     ]
    },
    {
     "name": "stderr",
     "output_type": "stream",
     "text": [
      "/home/docker/env/neurosci/lib/python3.9/site-packages/elephant/conversion.py:1170: UserWarning:Binning discarded 671 last spike(s) of the input spiketrain\n",
      "/home/docker/env/neurosci/lib/python3.9/site-packages/elephant/conversion.py:1170: UserWarning:Binning discarded 558 last spike(s) of the input spiketrain\n"
     ]
    },
    {
     "name": "stdout",
     "output_type": "stream",
     "text": [
      "\r",
      "...47.773% completed in 821.385 sec!"
     ]
    },
    {
     "name": "stderr",
     "output_type": "stream",
     "text": [
      "/home/docker/env/neurosci/lib/python3.9/site-packages/elephant/conversion.py:1170: UserWarning:Binning discarded 295 last spike(s) of the input spiketrain\n"
     ]
    },
    {
     "name": "stdout",
     "output_type": "stream",
     "text": [
      "\r",
      "...47.818% completed in 822.486 sec!"
     ]
    },
    {
     "name": "stderr",
     "output_type": "stream",
     "text": [
      "/home/docker/env/neurosci/lib/python3.9/site-packages/elephant/conversion.py:1170: UserWarning:Binning discarded 563 last spike(s) of the input spiketrain\n"
     ]
    },
    {
     "name": "stdout",
     "output_type": "stream",
     "text": [
      "...48.091% completed in 828.932 sec!"
     ]
    },
    {
     "name": "stderr",
     "output_type": "stream",
     "text": [
      "/home/docker/env/neurosci/lib/python3.9/site-packages/elephant/conversion.py:1170: UserWarning:Binning discarded 801 last spike(s) of the input spiketrain\n",
      "/home/docker/env/neurosci/lib/python3.9/site-packages/elephant/conversion.py:1170: UserWarning:Binning discarded 495 last spike(s) of the input spiketrain\n"
     ]
    },
    {
     "name": "stdout",
     "output_type": "stream",
     "text": [
      "\r",
      "...48.136% completed in 829.976 sec!"
     ]
    },
    {
     "name": "stderr",
     "output_type": "stream",
     "text": [
      "/home/docker/env/neurosci/lib/python3.9/site-packages/elephant/conversion.py:1170: UserWarning:Binning discarded 303 last spike(s) of the input spiketrain\n",
      "/home/docker/env/neurosci/lib/python3.9/site-packages/elephant/conversion.py:1170: UserWarning:Binning discarded 468 last spike(s) of the input spiketrain\n"
     ]
    },
    {
     "name": "stdout",
     "output_type": "stream",
     "text": [
      "...48.227% completed in 832.036 sec!"
     ]
    },
    {
     "name": "stderr",
     "output_type": "stream",
     "text": [
      "/home/docker/env/neurosci/lib/python3.9/site-packages/elephant/conversion.py:1170: UserWarning:Binning discarded 1310 last spike(s) of the input spiketrain\n"
     ]
    },
    {
     "name": "stdout",
     "output_type": "stream",
     "text": [
      "...48.364% completed in 835.143 sec!"
     ]
    },
    {
     "name": "stderr",
     "output_type": "stream",
     "text": [
      "/home/docker/env/neurosci/lib/python3.9/site-packages/elephant/conversion.py:1170: UserWarning:Binning discarded 707 last spike(s) of the input spiketrain\n"
     ]
    },
    {
     "name": "stdout",
     "output_type": "stream",
     "text": [
      "\r",
      "...48.409% completed in 836.09 sec!"
     ]
    },
    {
     "name": "stderr",
     "output_type": "stream",
     "text": [
      "/home/docker/env/neurosci/lib/python3.9/site-packages/elephant/conversion.py:1170: UserWarning:Binning discarded 773 last spike(s) of the input spiketrain\n"
     ]
    },
    {
     "name": "stdout",
     "output_type": "stream",
     "text": [
      "...48.545% completed in 838.935 sec!"
     ]
    },
    {
     "name": "stderr",
     "output_type": "stream",
     "text": [
      "/home/docker/env/neurosci/lib/python3.9/site-packages/elephant/conversion.py:1170: UserWarning:Binning discarded 487 last spike(s) of the input spiketrain\n"
     ]
    },
    {
     "name": "stdout",
     "output_type": "stream",
     "text": [
      "\r",
      "...48.591% completed in 839.921 sec!"
     ]
    },
    {
     "name": "stderr",
     "output_type": "stream",
     "text": [
      "/home/docker/env/neurosci/lib/python3.9/site-packages/elephant/conversion.py:1170: UserWarning:Binning discarded 1045 last spike(s) of the input spiketrain\n"
     ]
    },
    {
     "name": "stdout",
     "output_type": "stream",
     "text": [
      "...48.727% completed in 842.874 sec!"
     ]
    },
    {
     "name": "stderr",
     "output_type": "stream",
     "text": [
      "/home/docker/env/neurosci/lib/python3.9/site-packages/elephant/conversion.py:1170: UserWarning:Binning discarded 742 last spike(s) of the input spiketrain\n"
     ]
    },
    {
     "name": "stdout",
     "output_type": "stream",
     "text": [
      "\r",
      "...48.773% completed in 843.773 sec!"
     ]
    },
    {
     "name": "stderr",
     "output_type": "stream",
     "text": [
      "/home/docker/env/neurosci/lib/python3.9/site-packages/elephant/conversion.py:1170: UserWarning:Binning discarded 781 last spike(s) of the input spiketrain\n"
     ]
    },
    {
     "name": "stdout",
     "output_type": "stream",
     "text": [
      "\r",
      "...48.818% completed in 844.726 sec!"
     ]
    },
    {
     "name": "stderr",
     "output_type": "stream",
     "text": [
      "/home/docker/env/neurosci/lib/python3.9/site-packages/elephant/conversion.py:1170: UserWarning:Binning discarded 574 last spike(s) of the input spiketrain\n"
     ]
    },
    {
     "name": "stdout",
     "output_type": "stream",
     "text": [
      "...48.955% completed in 847.579 sec!"
     ]
    },
    {
     "name": "stderr",
     "output_type": "stream",
     "text": [
      "/home/docker/env/neurosci/lib/python3.9/site-packages/elephant/conversion.py:1170: UserWarning:Binning discarded 959 last spike(s) of the input spiketrain\n",
      "/home/docker/env/neurosci/lib/python3.9/site-packages/elephant/conversion.py:1170: UserWarning:Binning discarded 436 last spike(s) of the input spiketrain\n"
     ]
    },
    {
     "name": "stdout",
     "output_type": "stream",
     "text": [
      "...49.091% completed in 850.335 sec!"
     ]
    },
    {
     "name": "stderr",
     "output_type": "stream",
     "text": [
      "/home/docker/env/neurosci/lib/python3.9/site-packages/elephant/conversion.py:1170: UserWarning:Binning discarded 691 last spike(s) of the input spiketrain\n"
     ]
    },
    {
     "name": "stdout",
     "output_type": "stream",
     "text": [
      "\r",
      "...49.136% completed in 851.193 sec!"
     ]
    },
    {
     "name": "stderr",
     "output_type": "stream",
     "text": [
      "/home/docker/env/neurosci/lib/python3.9/site-packages/elephant/conversion.py:1170: UserWarning:Binning discarded 775 last spike(s) of the input spiketrain\n"
     ]
    },
    {
     "name": "stdout",
     "output_type": "stream",
     "text": [
      "\r",
      "...49.182% completed in 852.056 sec!"
     ]
    },
    {
     "name": "stderr",
     "output_type": "stream",
     "text": [
      "/home/docker/env/neurosci/lib/python3.9/site-packages/elephant/conversion.py:1170: UserWarning:Binning discarded 340 last spike(s) of the input spiketrain\n"
     ]
    },
    {
     "name": "stdout",
     "output_type": "stream",
     "text": [
      "...49.318% completed in 854.532 sec!"
     ]
    },
    {
     "name": "stderr",
     "output_type": "stream",
     "text": [
      "/home/docker/env/neurosci/lib/python3.9/site-packages/elephant/conversion.py:1170: UserWarning:Binning discarded 880 last spike(s) of the input spiketrain\n"
     ]
    },
    {
     "name": "stdout",
     "output_type": "stream",
     "text": [
      "...49.409% completed in 856.061 sec!"
     ]
    },
    {
     "name": "stderr",
     "output_type": "stream",
     "text": [
      "/home/docker/env/neurosci/lib/python3.9/site-packages/elephant/conversion.py:1170: UserWarning:Binning discarded 524 last spike(s) of the input spiketrain\n"
     ]
    },
    {
     "name": "stdout",
     "output_type": "stream",
     "text": [
      "...49.500% completed in 857.536 sec!"
     ]
    },
    {
     "name": "stderr",
     "output_type": "stream",
     "text": [
      "/home/docker/env/neurosci/lib/python3.9/site-packages/elephant/conversion.py:1170: UserWarning:Binning discarded 179 last spike(s) of the input spiketrain\n",
      "/home/docker/env/neurosci/lib/python3.9/site-packages/elephant/conversion.py:1170: UserWarning:Binning discarded 720 last spike(s) of the input spiketrain\n"
     ]
    },
    {
     "name": "stdout",
     "output_type": "stream",
     "text": [
      "...49.682% completed in 860.416 sec!"
     ]
    },
    {
     "name": "stderr",
     "output_type": "stream",
     "text": [
      "/home/docker/env/neurosci/lib/python3.9/site-packages/elephant/conversion.py:1170: UserWarning:Binning discarded 137 last spike(s) of the input spiketrain\n"
     ]
    },
    {
     "name": "stdout",
     "output_type": "stream",
     "text": [
      "...49.864% completed in 863.234 sec!"
     ]
    },
    {
     "name": "stderr",
     "output_type": "stream",
     "text": [
      "/home/docker/env/neurosci/lib/python3.9/site-packages/elephant/conversion.py:1170: UserWarning:Binning discarded 141 last spike(s) of the input spiketrain\n"
     ]
    },
    {
     "name": "stdout",
     "output_type": "stream",
     "text": [
      "...50.182% completed in 868.102 sec!"
     ]
    },
    {
     "name": "stderr",
     "output_type": "stream",
     "text": [
      "/home/docker/env/neurosci/lib/python3.9/site-packages/elephant/conversion.py:1170: UserWarning:Binning discarded 85 last spike(s) of the input spiketrain\n"
     ]
    },
    {
     "name": "stdout",
     "output_type": "stream",
     "text": [
      "\r",
      "...50.227% completed in 868.788 sec!"
     ]
    },
    {
     "name": "stderr",
     "output_type": "stream",
     "text": [
      "/home/docker/env/neurosci/lib/python3.9/site-packages/elephant/conversion.py:1170: UserWarning:Binning discarded 58 last spike(s) of the input spiketrain\n"
     ]
    },
    {
     "name": "stdout",
     "output_type": "stream",
     "text": [
      "...53.864% completed in 925.556 sec!"
     ]
    },
    {
     "name": "stderr",
     "output_type": "stream",
     "text": [
      "/home/docker/env/neurosci/lib/python3.9/site-packages/elephant/conversion.py:1170: UserWarning:Binning discarded 771 last spike(s) of the input spiketrain\n"
     ]
    },
    {
     "name": "stdout",
     "output_type": "stream",
     "text": [
      "...54.045% completed in 928.983 sec!"
     ]
    },
    {
     "name": "stderr",
     "output_type": "stream",
     "text": [
      "/home/docker/env/neurosci/lib/python3.9/site-packages/elephant/conversion.py:1170: UserWarning:Binning discarded 1173 last spike(s) of the input spiketrain\n"
     ]
    },
    {
     "name": "stdout",
     "output_type": "stream",
     "text": [
      "...54.136% completed in 930.97 sec!"
     ]
    },
    {
     "name": "stderr",
     "output_type": "stream",
     "text": [
      "/home/docker/env/neurosci/lib/python3.9/site-packages/elephant/conversion.py:1170: UserWarning:Binning discarded 412 last spike(s) of the input spiketrain\n"
     ]
    },
    {
     "name": "stdout",
     "output_type": "stream",
     "text": [
      "\r",
      "...54.182% completed in 931.909 sec!"
     ]
    },
    {
     "name": "stderr",
     "output_type": "stream",
     "text": [
      "/home/docker/env/neurosci/lib/python3.9/site-packages/elephant/conversion.py:1170: UserWarning:Binning discarded 809 last spike(s) of the input spiketrain\n"
     ]
    },
    {
     "name": "stdout",
     "output_type": "stream",
     "text": [
      "...54.409% completed in 936.423 sec!"
     ]
    },
    {
     "name": "stderr",
     "output_type": "stream",
     "text": [
      "/home/docker/env/neurosci/lib/python3.9/site-packages/elephant/conversion.py:1170: UserWarning:Binning discarded 230 last spike(s) of the input spiketrain\n"
     ]
    },
    {
     "name": "stdout",
     "output_type": "stream",
     "text": [
      "...54.500% completed in 938.27 sec!!"
     ]
    },
    {
     "name": "stderr",
     "output_type": "stream",
     "text": [
      "/home/docker/env/neurosci/lib/python3.9/site-packages/elephant/conversion.py:1170: UserWarning:Binning discarded 1109 last spike(s) of the input spiketrain\n"
     ]
    },
    {
     "name": "stdout",
     "output_type": "stream",
     "text": [
      "...54.636% completed in 941.281 sec!"
     ]
    },
    {
     "name": "stderr",
     "output_type": "stream",
     "text": [
      "/home/docker/env/neurosci/lib/python3.9/site-packages/elephant/conversion.py:1170: UserWarning:Binning discarded 430 last spike(s) of the input spiketrain\n"
     ]
    },
    {
     "name": "stdout",
     "output_type": "stream",
     "text": [
      "\r",
      "...54.682% completed in 942.242 sec!"
     ]
    },
    {
     "name": "stderr",
     "output_type": "stream",
     "text": [
      "/home/docker/env/neurosci/lib/python3.9/site-packages/elephant/conversion.py:1170: UserWarning:Binning discarded 548 last spike(s) of the input spiketrain\n"
     ]
    },
    {
     "name": "stdout",
     "output_type": "stream",
     "text": [
      "...54.818% completed in 945.079 sec!"
     ]
    },
    {
     "name": "stderr",
     "output_type": "stream",
     "text": [
      "/home/docker/env/neurosci/lib/python3.9/site-packages/elephant/conversion.py:1170: UserWarning:Binning discarded 672 last spike(s) of the input spiketrain\n"
     ]
    },
    {
     "name": "stdout",
     "output_type": "stream",
     "text": [
      "\r",
      "...54.864% completed in 946.108 sec!"
     ]
    },
    {
     "name": "stderr",
     "output_type": "stream",
     "text": [
      "/home/docker/env/neurosci/lib/python3.9/site-packages/elephant/conversion.py:1170: UserWarning:Binning discarded 1167 last spike(s) of the input spiketrain\n"
     ]
    },
    {
     "name": "stdout",
     "output_type": "stream",
     "text": [
      "\r",
      "...54.909% completed in 947.066 sec!"
     ]
    },
    {
     "name": "stderr",
     "output_type": "stream",
     "text": [
      "/home/docker/env/neurosci/lib/python3.9/site-packages/elephant/conversion.py:1170: UserWarning:Binning discarded 456 last spike(s) of the input spiketrain\n",
      "/home/docker/env/neurosci/lib/python3.9/site-packages/elephant/conversion.py:1170: UserWarning:Binning discarded 1165 last spike(s) of the input spiketrain\n"
     ]
    },
    {
     "name": "stdout",
     "output_type": "stream",
     "text": [
      "...55.000% completed in 949 sec!sec!"
     ]
    },
    {
     "name": "stderr",
     "output_type": "stream",
     "text": [
      "/home/docker/env/neurosci/lib/python3.9/site-packages/elephant/conversion.py:1170: UserWarning:Binning discarded 491 last spike(s) of the input spiketrain\n"
     ]
    },
    {
     "name": "stdout",
     "output_type": "stream",
     "text": [
      "...55.136% completed in 952.071 sec!"
     ]
    },
    {
     "name": "stderr",
     "output_type": "stream",
     "text": [
      "/home/docker/env/neurosci/lib/python3.9/site-packages/elephant/conversion.py:1170: UserWarning:Binning discarded 559 last spike(s) of the input spiketrain\n"
     ]
    },
    {
     "name": "stdout",
     "output_type": "stream",
     "text": [
      "\r",
      "...55.182% completed in 953.085 sec!"
     ]
    },
    {
     "name": "stderr",
     "output_type": "stream",
     "text": [
      "/home/docker/env/neurosci/lib/python3.9/site-packages/elephant/conversion.py:1170: UserWarning:Binning discarded 666 last spike(s) of the input spiketrain\n"
     ]
    },
    {
     "name": "stdout",
     "output_type": "stream",
     "text": [
      "\r",
      "...55.227% completed in 954.087 sec!"
     ]
    },
    {
     "name": "stderr",
     "output_type": "stream",
     "text": [
      "/home/docker/env/neurosci/lib/python3.9/site-packages/elephant/conversion.py:1170: UserWarning:Binning discarded 1261 last spike(s) of the input spiketrain\n"
     ]
    },
    {
     "name": "stdout",
     "output_type": "stream",
     "text": [
      "\r",
      "...55.273% completed in 955.213 sec!"
     ]
    },
    {
     "name": "stderr",
     "output_type": "stream",
     "text": [
      "/home/docker/env/neurosci/lib/python3.9/site-packages/elephant/conversion.py:1170: UserWarning:Binning discarded 547 last spike(s) of the input spiketrain\n",
      "/home/docker/env/neurosci/lib/python3.9/site-packages/elephant/conversion.py:1170: UserWarning:Binning discarded 1072 last spike(s) of the input spiketrain\n"
     ]
    },
    {
     "name": "stdout",
     "output_type": "stream",
     "text": [
      "...55.545% completed in 964.031 sec!"
     ]
    },
    {
     "name": "stderr",
     "output_type": "stream",
     "text": [
      "/home/docker/env/neurosci/lib/python3.9/site-packages/elephant/conversion.py:1170: UserWarning:Binning discarded 598 last spike(s) of the input spiketrain\n"
     ]
    },
    {
     "name": "stdout",
     "output_type": "stream",
     "text": [
      "\r",
      "...55.591% completed in 965.218 sec!"
     ]
    },
    {
     "name": "stderr",
     "output_type": "stream",
     "text": [
      "/home/docker/env/neurosci/lib/python3.9/site-packages/elephant/conversion.py:1170: UserWarning:Binning discarded 1143 last spike(s) of the input spiketrain\n"
     ]
    },
    {
     "name": "stdout",
     "output_type": "stream",
     "text": [
      "\r",
      "...55.636% completed in 966.396 sec!"
     ]
    },
    {
     "name": "stderr",
     "output_type": "stream",
     "text": [
      "/home/docker/env/neurosci/lib/python3.9/site-packages/elephant/conversion.py:1170: UserWarning:Binning discarded 828 last spike(s) of the input spiketrain\n"
     ]
    },
    {
     "name": "stdout",
     "output_type": "stream",
     "text": [
      "...55.727% completed in 968.515 sec!"
     ]
    },
    {
     "name": "stderr",
     "output_type": "stream",
     "text": [
      "/home/docker/env/neurosci/lib/python3.9/site-packages/elephant/conversion.py:1170: UserWarning:Binning discarded 463 last spike(s) of the input spiketrain\n",
      "/home/docker/env/neurosci/lib/python3.9/site-packages/elephant/conversion.py:1170: UserWarning:Binning discarded 356 last spike(s) of the input spiketrain\n"
     ]
    },
    {
     "name": "stdout",
     "output_type": "stream",
     "text": [
      "\r",
      "...55.773% completed in 969.544 sec!"
     ]
    },
    {
     "name": "stderr",
     "output_type": "stream",
     "text": [
      "/home/docker/env/neurosci/lib/python3.9/site-packages/elephant/conversion.py:1170: UserWarning:Binning discarded 926 last spike(s) of the input spiketrain\n"
     ]
    },
    {
     "name": "stdout",
     "output_type": "stream",
     "text": [
      "...55.909% completed in 972.698 sec!"
     ]
    },
    {
     "name": "stderr",
     "output_type": "stream",
     "text": [
      "/home/docker/env/neurosci/lib/python3.9/site-packages/elephant/conversion.py:1170: UserWarning:Binning discarded 374 last spike(s) of the input spiketrain\n",
      "/home/docker/env/neurosci/lib/python3.9/site-packages/elephant/conversion.py:1170: UserWarning:Binning discarded 1009 last spike(s) of the input spiketrain\n"
     ]
    },
    {
     "name": "stdout",
     "output_type": "stream",
     "text": [
      "\r",
      "...55.955% completed in 973.716 sec!"
     ]
    },
    {
     "name": "stderr",
     "output_type": "stream",
     "text": [
      "/home/docker/env/neurosci/lib/python3.9/site-packages/elephant/conversion.py:1170: UserWarning:Binning discarded 1017 last spike(s) of the input spiketrain\n"
     ]
    },
    {
     "name": "stdout",
     "output_type": "stream",
     "text": [
      "\r",
      "...56.000% completed in 974.718 sec!"
     ]
    },
    {
     "name": "stderr",
     "output_type": "stream",
     "text": [
      "/home/docker/env/neurosci/lib/python3.9/site-packages/elephant/conversion.py:1170: UserWarning:Binning discarded 507 last spike(s) of the input spiketrain\n"
     ]
    },
    {
     "name": "stdout",
     "output_type": "stream",
     "text": [
      "...56.091% completed in 977.376 sec!"
     ]
    },
    {
     "name": "stderr",
     "output_type": "stream",
     "text": [
      "/home/docker/env/neurosci/lib/python3.9/site-packages/elephant/conversion.py:1170: UserWarning:Binning discarded 448 last spike(s) of the input spiketrain\n"
     ]
    },
    {
     "name": "stdout",
     "output_type": "stream",
     "text": [
      "...56.227% completed in 980.754 sec!"
     ]
    },
    {
     "name": "stderr",
     "output_type": "stream",
     "text": [
      "/home/docker/env/neurosci/lib/python3.9/site-packages/elephant/conversion.py:1170: UserWarning:Binning discarded 449 last spike(s) of the input spiketrain\n"
     ]
    },
    {
     "name": "stdout",
     "output_type": "stream",
     "text": [
      "\r",
      "...56.273% completed in 981.734 sec!"
     ]
    },
    {
     "name": "stderr",
     "output_type": "stream",
     "text": [
      "/home/docker/env/neurosci/lib/python3.9/site-packages/elephant/conversion.py:1170: UserWarning:Binning discarded 1314 last spike(s) of the input spiketrain\n"
     ]
    },
    {
     "name": "stdout",
     "output_type": "stream",
     "text": [
      "\r",
      "...56.318% completed in 982.67 sec!"
     ]
    },
    {
     "name": "stderr",
     "output_type": "stream",
     "text": [
      "/home/docker/env/neurosci/lib/python3.9/site-packages/elephant/conversion.py:1170: UserWarning:Binning discarded 1007 last spike(s) of the input spiketrain\n",
      "/home/docker/env/neurosci/lib/python3.9/site-packages/elephant/conversion.py:1170: UserWarning:Binning discarded 420 last spike(s) of the input spiketrain\n"
     ]
    },
    {
     "name": "stdout",
     "output_type": "stream",
     "text": [
      "...56.591% completed in 987.938 sec!"
     ]
    },
    {
     "name": "stderr",
     "output_type": "stream",
     "text": [
      "/home/docker/env/neurosci/lib/python3.9/site-packages/elephant/conversion.py:1170: UserWarning:Binning discarded 453 last spike(s) of the input spiketrain\n"
     ]
    },
    {
     "name": "stdout",
     "output_type": "stream",
     "text": [
      "\r",
      "...56.636% completed in 988.844 sec!"
     ]
    },
    {
     "name": "stderr",
     "output_type": "stream",
     "text": [
      "/home/docker/env/neurosci/lib/python3.9/site-packages/elephant/conversion.py:1170: UserWarning:Binning discarded 1172 last spike(s) of the input spiketrain\n"
     ]
    },
    {
     "name": "stdout",
     "output_type": "stream",
     "text": [
      "...56.864% completed in 993.113 sec!"
     ]
    },
    {
     "name": "stderr",
     "output_type": "stream",
     "text": [
      "/home/docker/env/neurosci/lib/python3.9/site-packages/elephant/conversion.py:1170: UserWarning:Binning discarded 969 last spike(s) of the input spiketrain\n"
     ]
    },
    {
     "name": "stdout",
     "output_type": "stream",
     "text": [
      "...56.955% completed in 994.724 sec!"
     ]
    },
    {
     "name": "stderr",
     "output_type": "stream",
     "text": [
      "/home/docker/env/neurosci/lib/python3.9/site-packages/elephant/conversion.py:1170: UserWarning:Binning discarded 483 last spike(s) of the input spiketrain\n"
     ]
    },
    {
     "name": "stdout",
     "output_type": "stream",
     "text": [
      "...57.045% completed in 996.234 sec!"
     ]
    },
    {
     "name": "stderr",
     "output_type": "stream",
     "text": [
      "/home/docker/env/neurosci/lib/python3.9/site-packages/elephant/conversion.py:1170: UserWarning:Binning discarded 682 last spike(s) of the input spiketrain\n"
     ]
    },
    {
     "name": "stdout",
     "output_type": "stream",
     "text": [
      "...57.682% completed in 1006.35 sec!"
     ]
    },
    {
     "name": "stderr",
     "output_type": "stream",
     "text": [
      "/home/docker/env/neurosci/lib/python3.9/site-packages/elephant/conversion.py:1170: UserWarning:Binning discarded 81 last spike(s) of the input spiketrain\n"
     ]
    },
    {
     "name": "stdout",
     "output_type": "stream",
     "text": [
      "...57.818% completed in 1008.41 sec!"
     ]
    },
    {
     "name": "stderr",
     "output_type": "stream",
     "text": [
      "/home/docker/env/neurosci/lib/python3.9/site-packages/elephant/conversion.py:1170: UserWarning:Binning discarded 54 last spike(s) of the input spiketrain\n"
     ]
    },
    {
     "name": "stdout",
     "output_type": "stream",
     "text": [
      "...61.091% completed in 1057.81 sec!"
     ]
    },
    {
     "name": "stderr",
     "output_type": "stream",
     "text": [
      "/home/docker/env/neurosci/lib/python3.9/site-packages/elephant/conversion.py:1170: UserWarning:Binning discarded 112 last spike(s) of the input spiketrain\n"
     ]
    },
    {
     "name": "stdout",
     "output_type": "stream",
     "text": [
      "...61.182% completed in 1059.47 sec!"
     ]
    },
    {
     "name": "stderr",
     "output_type": "stream",
     "text": [
      "/home/docker/env/neurosci/lib/python3.9/site-packages/elephant/conversion.py:1170: UserWarning:Binning discarded 142 last spike(s) of the input spiketrain\n",
      "/home/docker/env/neurosci/lib/python3.9/site-packages/elephant/conversion.py:1170: UserWarning:Binning discarded 134 last spike(s) of the input spiketrain\n"
     ]
    },
    {
     "name": "stdout",
     "output_type": "stream",
     "text": [
      "...61.409% completed in 1063.59 sec!"
     ]
    },
    {
     "name": "stderr",
     "output_type": "stream",
     "text": [
      "/home/docker/env/neurosci/lib/python3.9/site-packages/elephant/conversion.py:1170: UserWarning:Binning discarded 542 last spike(s) of the input spiketrain\n"
     ]
    },
    {
     "name": "stdout",
     "output_type": "stream",
     "text": [
      "...61.818% completed in 1072.06 sec!"
     ]
    },
    {
     "name": "stderr",
     "output_type": "stream",
     "text": [
      "/home/docker/env/neurosci/lib/python3.9/site-packages/elephant/conversion.py:1170: UserWarning:Binning discarded 581 last spike(s) of the input spiketrain\n"
     ]
    },
    {
     "name": "stdout",
     "output_type": "stream",
     "text": [
      "...62.000% completed in 1075.54 sec!"
     ]
    },
    {
     "name": "stderr",
     "output_type": "stream",
     "text": [
      "/home/docker/env/neurosci/lib/python3.9/site-packages/elephant/conversion.py:1170: UserWarning:Binning discarded 787 last spike(s) of the input spiketrain\n"
     ]
    },
    {
     "name": "stdout",
     "output_type": "stream",
     "text": [
      "...62.091% completed in 1077.45 sec!"
     ]
    },
    {
     "name": "stderr",
     "output_type": "stream",
     "text": [
      "/home/docker/env/neurosci/lib/python3.9/site-packages/elephant/conversion.py:1170: UserWarning:Binning discarded 1189 last spike(s) of the input spiketrain\n"
     ]
    },
    {
     "name": "stdout",
     "output_type": "stream",
     "text": [
      "...62.364% completed in 1084.21 sec!"
     ]
    },
    {
     "name": "stderr",
     "output_type": "stream",
     "text": [
      "/home/docker/env/neurosci/lib/python3.9/site-packages/elephant/conversion.py:1170: UserWarning:Binning discarded 476 last spike(s) of the input spiketrain\n"
     ]
    },
    {
     "name": "stdout",
     "output_type": "stream",
     "text": [
      "...62.455% completed in 1086.36 sec!"
     ]
    },
    {
     "name": "stderr",
     "output_type": "stream",
     "text": [
      "/home/docker/env/neurosci/lib/python3.9/site-packages/elephant/conversion.py:1170: UserWarning:Binning discarded 758 last spike(s) of the input spiketrain\n",
      "/home/docker/env/neurosci/lib/python3.9/site-packages/elephant/conversion.py:1170: UserWarning:Binning discarded 1286 last spike(s) of the input spiketrain\n"
     ]
    },
    {
     "name": "stdout",
     "output_type": "stream",
     "text": [
      "...62.591% completed in 1089.59 sec!"
     ]
    },
    {
     "name": "stderr",
     "output_type": "stream",
     "text": [
      "/home/docker/env/neurosci/lib/python3.9/site-packages/elephant/conversion.py:1170: UserWarning:Binning discarded 421 last spike(s) of the input spiketrain\n"
     ]
    },
    {
     "name": "stdout",
     "output_type": "stream",
     "text": [
      "...62.727% completed in 1092.95 sec!"
     ]
    },
    {
     "name": "stderr",
     "output_type": "stream",
     "text": [
      "/home/docker/env/neurosci/lib/python3.9/site-packages/elephant/conversion.py:1170: UserWarning:Binning discarded 526 last spike(s) of the input spiketrain\n"
     ]
    },
    {
     "name": "stdout",
     "output_type": "stream",
     "text": [
      "...62.818% completed in 1095.24 sec!"
     ]
    },
    {
     "name": "stderr",
     "output_type": "stream",
     "text": [
      "/home/docker/env/neurosci/lib/python3.9/site-packages/elephant/conversion.py:1170: UserWarning:Binning discarded 612 last spike(s) of the input spiketrain\n",
      "/home/docker/env/neurosci/lib/python3.9/site-packages/elephant/conversion.py:1170: UserWarning:Binning discarded 1063 last spike(s) of the input spiketrain\n"
     ]
    },
    {
     "name": "stdout",
     "output_type": "stream",
     "text": [
      "\r",
      "...62.864% completed in 1096.37 sec!"
     ]
    },
    {
     "name": "stderr",
     "output_type": "stream",
     "text": [
      "/home/docker/env/neurosci/lib/python3.9/site-packages/elephant/conversion.py:1170: UserWarning:Binning discarded 366 last spike(s) of the input spiketrain\n"
     ]
    },
    {
     "name": "stdout",
     "output_type": "stream",
     "text": [
      "\r",
      "...62.909% completed in 1097.6 sec!"
     ]
    },
    {
     "name": "stderr",
     "output_type": "stream",
     "text": [
      "/home/docker/env/neurosci/lib/python3.9/site-packages/elephant/conversion.py:1170: UserWarning:Binning discarded 636 last spike(s) of the input spiketrain\n"
     ]
    },
    {
     "name": "stdout",
     "output_type": "stream",
     "text": [
      "\r",
      "...62.955% completed in 1098.81 sec!"
     ]
    },
    {
     "name": "stderr",
     "output_type": "stream",
     "text": [
      "/home/docker/env/neurosci/lib/python3.9/site-packages/elephant/conversion.py:1170: UserWarning:Binning discarded 850 last spike(s) of the input spiketrain\n"
     ]
    },
    {
     "name": "stdout",
     "output_type": "stream",
     "text": [
      "...63.091% completed in 1102.21 sec!"
     ]
    },
    {
     "name": "stderr",
     "output_type": "stream",
     "text": [
      "/home/docker/env/neurosci/lib/python3.9/site-packages/elephant/conversion.py:1170: UserWarning:Binning discarded 541 last spike(s) of the input spiketrain\n"
     ]
    },
    {
     "name": "stdout",
     "output_type": "stream",
     "text": [
      "\r",
      "...63.136% completed in 1103.39 sec!"
     ]
    },
    {
     "name": "stderr",
     "output_type": "stream",
     "text": [
      "/home/docker/env/neurosci/lib/python3.9/site-packages/elephant/conversion.py:1170: UserWarning:Binning discarded 235 last spike(s) of the input spiketrain\n"
     ]
    },
    {
     "name": "stdout",
     "output_type": "stream",
     "text": [
      "...63.273% completed in 1106.65 sec!"
     ]
    },
    {
     "name": "stderr",
     "output_type": "stream",
     "text": [
      "/home/docker/env/neurosci/lib/python3.9/site-packages/elephant/conversion.py:1170: UserWarning:Binning discarded 384 last spike(s) of the input spiketrain\n"
     ]
    },
    {
     "name": "stdout",
     "output_type": "stream",
     "text": [
      "...63.591% completed in 1114.59 sec!"
     ]
    },
    {
     "name": "stderr",
     "output_type": "stream",
     "text": [
      "/home/docker/env/neurosci/lib/python3.9/site-packages/elephant/conversion.py:1170: UserWarning:Binning discarded 399 last spike(s) of the input spiketrain\n"
     ]
    },
    {
     "name": "stdout",
     "output_type": "stream",
     "text": [
      "...63.727% completed in 1117.95 sec!"
     ]
    },
    {
     "name": "stderr",
     "output_type": "stream",
     "text": [
      "/home/docker/env/neurosci/lib/python3.9/site-packages/elephant/conversion.py:1170: UserWarning:Binning discarded 469 last spike(s) of the input spiketrain\n"
     ]
    },
    {
     "name": "stdout",
     "output_type": "stream",
     "text": [
      "...63.909% completed in 1122.14 sec!"
     ]
    },
    {
     "name": "stderr",
     "output_type": "stream",
     "text": [
      "/home/docker/env/neurosci/lib/python3.9/site-packages/elephant/conversion.py:1170: UserWarning:Binning discarded 567 last spike(s) of the input spiketrain\n"
     ]
    },
    {
     "name": "stdout",
     "output_type": "stream",
     "text": [
      "\r",
      "...63.955% completed in 1123.19 sec!"
     ]
    },
    {
     "name": "stderr",
     "output_type": "stream",
     "text": [
      "/home/docker/env/neurosci/lib/python3.9/site-packages/elephant/conversion.py:1170: UserWarning:Binning discarded 783 last spike(s) of the input spiketrain\n"
     ]
    },
    {
     "name": "stdout",
     "output_type": "stream",
     "text": [
      "...64.318% completed in 1131.29 sec!"
     ]
    },
    {
     "name": "stderr",
     "output_type": "stream",
     "text": [
      "/home/docker/env/neurosci/lib/python3.9/site-packages/elephant/conversion.py:1170: UserWarning:Binning discarded 882 last spike(s) of the input spiketrain\n"
     ]
    }
   ],
   "source": [
    "results, transient, simulator, nest_network = simulate_tvb_nest(simulator, nest_network, config, \n",
    "                                                                neuron_models, neuron_number, \n",
    "                                                                print_flag=True, plot_flag=False)\n"
   ]
  },
  {
   "cell_type": "code",
   "execution_count": null,
   "id": "3ca87a60",
   "metadata": {},
   "outputs": [],
   "source": [
    "# priors = priors_samples_per_batch_for_iG(priors_samples=None,\n",
    "#                                          iG=1, config=config, write_to_files=True)\n"
   ]
  },
  {
   "cell_type": "code",
   "execution_count": null,
   "id": "5dfca0aa",
   "metadata": {},
   "outputs": [],
   "source": [
    "# sim_res = np.load(os.path.join(config.out.FOLDER_RES, \"bsr_iG01_000.npy\"), allow_pickle=True)"
   ]
  },
  {
   "cell_type": "code",
   "execution_count": null,
   "id": "850c06c5",
   "metadata": {
    "scrolled": true
   },
   "outputs": [],
   "source": [
    "# samples_fit_Gs, results, fig, simulator, config = sbi_fit(1, config=None);\n",
    "# run_workflow(plot_flag=True)"
   ]
  },
  {
   "cell_type": "code",
   "execution_count": null,
   "id": "792aad94",
   "metadata": {
    "scrolled": false
   },
   "outputs": [],
   "source": [
    "# fig"
   ]
  },
  {
   "cell_type": "markdown",
   "id": "b4125830",
   "metadata": {},
   "source": [
    "# Plot results and write them to HDF5 files"
   ]
  },
  {
   "cell_type": "code",
   "execution_count": null,
   "id": "ad7c58e8",
   "metadata": {},
   "outputs": [],
   "source": [
    "from scipy.io import savemat\n",
    "# set to False for faster plotting of only mean field variables and dates, apart from spikes\" rasters:\n",
    "plot_per_neuron = False  \n",
    "MAX_VARS_IN_COLS = 2\n",
    "MAX_REGIONS_IN_ROWS = 10\n",
    "MIN_REGIONS_FOR_RASTER_PLOT = 9\n",
    "# from examples.plot_write_results import plot_write_results\n",
    "# plot_write_results(results, simulator, populations=populations, \n",
    "#                    transient=transient, tvb_state_variable_type_label=\"State Variables\", \n",
    "#                    tvb_state_variables_labels=simulator.model.variables_of_interest, \n",
    "#                    plot_per_neuron=plot_per_neuron, plotter=plotter, config=config)\n",
    "from tvb_multiscale.core.plot.plotter import Plotter\n",
    "plotter = Plotter(config.figures)\n",
    "# Load connectome and other structural files\n",
    "connectome, major_structs_labels, voxel_count, inds = load_connectome(config, plotter=plotter)\n",
    "# Construct some more indices and maps\n",
    "inds, maps = construct_extra_inds_and_maps(connectome, inds)\n",
    "# inds = config.inds\n",
    "# maps = config.maps\n",
    "# transient = config.transient + 0.5\n",
    "transient += 0.5\n",
    "simulation_length = simulator.simulation_length\n",
    "FIGSIZE = config.figures.DEFAULT_SIZE\n"
   ]
  },
  {
   "cell_type": "code",
   "execution_count": null,
   "id": "aee226d2",
   "metadata": {},
   "outputs": [],
   "source": [
    "# If you want to see what the function above does, take the steps, one by one\n",
    "try:\n",
    "    # We need framework_tvb for writing and reading from HDF5 files\n",
    "    from tvb_multiscale.core.tvb.io.h5_writer import H5Writer\n",
    "    writer = H5Writer()\n",
    "except:\n",
    "    writer = False\n",
    "    \n",
    "from tvb.contrib.scripts.datatypes.time_series import TimeSeriesRegion\n",
    "from tvb.contrib.scripts.datatypes.time_series_xarray import TimeSeriesRegion as TimeSeriesXarray\n",
    "\n",
    "# Put the results in a Timeseries instance\n",
    "from tvb.contrib.scripts.datatypes.time_series import TimeSeriesRegion\n",
    "\n",
    "source_ts = None\n",
    "bold_ts = None\n",
    "\n",
    "if results is not None:\n",
    "    source_ts = TimeSeriesXarray(  # substitute with TimeSeriesRegion fot TVB like functionality\n",
    "            data=results[0][1], time=results[0][0],\n",
    "            connectivity=simulator.connectivity,\n",
    "            labels_ordering=[\"Time\", \"State Variable\", \"Region\", \"Neurons\"],\n",
    "            labels_dimensions={\"State Variable\": list(simulator.model.variables_of_interest),\n",
    "                               \"Region\": simulator.connectivity.region_labels.tolist()},\n",
    "            sample_period=simulator.integrator.dt)\n",
    "    source_ts.configure()\n",
    "\n",
    "    t = source_ts.time\n",
    "\n",
    "    # Write to file\n",
    "    if writer:\n",
    "        writer.write_tvb_to_h5(TimeSeriesRegion().from_xarray_DataArray(source_ts._data,\n",
    "                                                                        connectivity=source_ts.connectivity),\n",
    "                               os.path.join(config.out.FOLDER_RES, source_ts.title)+\".h5\")\n",
    "    print(\"Raw ts:\\n%s\" % str(source_ts))\n",
    "    \n",
    "    if len(results) > 1:\n",
    "        bold_ts = TimeSeriesXarray(  # substitute with TimeSeriesRegion fot TVB like functionality\n",
    "                data=results[1][1], time=results[1][0],\n",
    "                connectivity=simulator.connectivity,\n",
    "                labels_ordering=[\"Time\", \"State Variable\", \"Region\", \"Neurons\"],\n",
    "                labels_dimensions={\"State Variable\": [\"BOLD\"],\n",
    "                                   \"Region\": simulator.connectivity.region_labels.tolist()})\n",
    "        bold_ts.configure()\n",
    "\n",
    "        bold_t = source_ts.time\n",
    "\n",
    "        # Write to file\n",
    "        if writer:\n",
    "            writer.write_tvb_to_h5(TimeSeriesRegion().from_xarray_DataArray(bold_ts._data,\n",
    "                                                                            connectivity=bold_ts.connectivity),\n",
    "                                   os.path.join(config.out.FOLDER_RES, bold_ts.title)+\".h5\")\n",
    "        print(\"BOLD ts:\\n%s\" % str(bold_ts))\n",
    "    "
   ]
  },
  {
   "cell_type": "code",
   "execution_count": null,
   "id": "980edca2",
   "metadata": {
    "scrolled": true
   },
   "outputs": [],
   "source": [
    "# Plot TVB time series\n",
    "if source_ts is not None:\n",
    "    source_ts[:, :, :, :].plot_timeseries(plotter_config=plotter.config, \n",
    "                          hue=\"Region\" if source_ts.shape[2] > MAX_REGIONS_IN_ROWS else None, \n",
    "                          per_variable=source_ts.shape[1] > MAX_VARS_IN_COLS, \n",
    "                          figsize=FIGSIZE);"
   ]
  },
  {
   "cell_type": "code",
   "execution_count": null,
   "id": "b2d17510",
   "metadata": {
    "scrolled": false
   },
   "outputs": [],
   "source": [
    "# Focus on the m1 and s1 barrel field nodes: \n",
    "if source_ts is not None:\n",
    "    source_ts_m1s1brl = source_ts[-10000:, :, inds[\"m1s1brl\"]]\n",
    "    source_ts_m1s1brl.plot_timeseries(plotter_config=plotter.config, \n",
    "                                   hue=\"Region\" if source_ts_m1s1brl.shape[2] > MAX_REGIONS_IN_ROWS else None, \n",
    "                                   per_variable=source_ts_m1s1brl.shape[1] > MAX_VARS_IN_COLS, \n",
    "                                   figsize=FIGSIZE, figname=\"M1 and S1 barrel field nodes TVB Time Series\");"
   ]
  },
  {
   "cell_type": "code",
   "execution_count": null,
   "id": "c78bf04e",
   "metadata": {
    "scrolled": false
   },
   "outputs": [],
   "source": [
    "# Focus on the m1 and s1 barrel field nodes: raster plot\n",
    "if source_ts is not None and source_ts_m1s1brl.number_of_labels > MIN_REGIONS_FOR_RASTER_PLOT:\n",
    "    source_ts_m1s1brl.plot_raster(plotter_config=plotter.config, \n",
    "                                  per_variable=source_ts_m1s1brl.shape[1] > MAX_VARS_IN_COLS,\n",
    "                                  figsize=FIGSIZE, figname=\"M1 and S1 barrel field nodes TVB Time Series Raster\");"
   ]
  },
  {
   "cell_type": "code",
   "execution_count": null,
   "id": "df21fc5b",
   "metadata": {
    "scrolled": false
   },
   "outputs": [],
   "source": [
    "# Focus on the the motor pathway: \n",
    "if source_ts is not None:\n",
    "    source_ts_motor = source_ts[-10000:, :, inds[\"motor\"]]\n",
    "    source_ts_motor.plot_timeseries(plotter_config=plotter.config, \n",
    "                                   hue=\"Region\" if source_ts_motor.shape[2] > MAX_REGIONS_IN_ROWS else None, \n",
    "                                   per_variable=source_ts_motor.shape[1] > MAX_VARS_IN_COLS, \n",
    "                                   figsize=FIGSIZE, figname=\"Motor pathway TVB Time Series\");"
   ]
  },
  {
   "cell_type": "code",
   "execution_count": null,
   "id": "f2136959",
   "metadata": {
    "scrolled": false
   },
   "outputs": [],
   "source": [
    "# Focus on the motor pathway: raster plot\n",
    "if source_ts_motor is not None and source_ts_motor.number_of_labels > MIN_REGIONS_FOR_RASTER_PLOT:\n",
    "    source_ts_motor.plot_raster(plotter_config=plotter.config, \n",
    "                                  per_variable=source_ts_motor.shape[1] > MAX_VARS_IN_COLS,\n",
    "                                  figsize=FIGSIZE, figname=\"Motor pathway TVB Time Series Raster\");"
   ]
  },
  {
   "cell_type": "code",
   "execution_count": null,
   "id": "203f57cf",
   "metadata": {
    "scrolled": false
   },
   "outputs": [],
   "source": [
    "# Focus on the sensory pathway: \n",
    "if source_ts is not None:\n",
    "    source_ts_sens = source_ts[-10000:, :, inds[\"sens\"]]\n",
    "    source_ts_sens.plot_timeseries(plotter_config=plotter.config, \n",
    "                                   hue=\"Region\" if source_ts_sens.shape[2] > MAX_REGIONS_IN_ROWS else None, \n",
    "                                   per_variable=source_ts_sens.shape[1] > MAX_VARS_IN_COLS, \n",
    "                                   figsize=FIGSIZE, figname=\"Sensory pathway TVB Time Series\");"
   ]
  },
  {
   "cell_type": "code",
   "execution_count": null,
   "id": "233d0dfc",
   "metadata": {
    "scrolled": false
   },
   "outputs": [],
   "source": [
    "# Focus on the sensory pathway: raster plot\n",
    "if source_ts is not None and source_ts_sens.number_of_labels > MIN_REGIONS_FOR_RASTER_PLOT:\n",
    "    source_ts_sens.plot_raster(plotter_config=plotter.config, \n",
    "                               per_variable=source_ts_sens.shape[1] > MAX_VARS_IN_COLS,\n",
    "                               figsize=FIGSIZE, figname=\"Sensory pathway TVB Time Series Raster\");"
   ]
  },
  {
   "cell_type": "code",
   "execution_count": null,
   "id": "d3c344c3",
   "metadata": {
    "scrolled": true
   },
   "outputs": [],
   "source": [
    "# bold_ts TVB time series\n",
    "if bold_ts is not None:\n",
    "    bold_ts.plot_timeseries(plotter_config=plotter.config, \n",
    "                            hue=\"Region\" if bold_ts.shape[2] > MAX_REGIONS_IN_ROWS else None, \n",
    "                            per_variable=bold_ts.shape[1] > MAX_VARS_IN_COLS, \n",
    "                            figsize=FIGSIZE);"
   ]
  },
  {
   "cell_type": "code",
   "execution_count": null,
   "id": "69ca0aef",
   "metadata": {
    "scrolled": false
   },
   "outputs": [],
   "source": [
    "# # Focus on the m1 and s1 barrel field nodes: \n",
    "# if bold_ts is not None:\n",
    "#     bold_ts_m1s1brl = bold_ts[-10000:, :, inds[\"m1s1brl\"]]\n",
    "#     bold_ts_m1s1brl.plot_timeseries(plotter_config=plotter.config, \n",
    "#                                     hue=\"Region\" if bold_ts_m1s1brl.shape[2] > MAX_REGIONS_IN_ROWS else None, \n",
    "#                                     per_variable=bold_ts_m1s1brl.shape[1] > MAX_VARS_IN_COLS, \n",
    "#                                     figsize=FIGSIZE, figname=\"M1 and S1 barrel field nodes BOLD Time Series\");"
   ]
  },
  {
   "cell_type": "code",
   "execution_count": null,
   "id": "ed63740b",
   "metadata": {
    "scrolled": false
   },
   "outputs": [],
   "source": [
    "# # Focus on the m1 and s1 barrel field nodes: raster plot\n",
    "# if bold_ts is not None and bold_ts_m1s1brl.number_of_labels > MIN_REGIONS_FOR_RASTER_PLOT:\n",
    "#     bold_ts_m1s1brl.plot_raster(plotter_config=plotter.config, \n",
    "#                                 per_variable=bold_ts_m1s1brl.shape[1] > MAX_VARS_IN_COLS,\n",
    "#                                 figsize=FIGSIZE, figname=\"M1 and S1 barrel field nodes BOLD Time Series Raster\");"
   ]
  },
  {
   "cell_type": "code",
   "execution_count": null,
   "id": "cd1981e9",
   "metadata": {
    "scrolled": true
   },
   "outputs": [],
   "source": [
    "# # Focus on the the motor pathway: \n",
    "# if bold_ts is not None:\n",
    "#     bold_ts_motor = bold_ts[-10000:, :, inds[\"motor\"]]\n",
    "#     bold_ts_motor.plot_timeseries(plotter_config=plotter.config, \n",
    "#                                    hue=\"Region\" if bold_ts_motor.shape[2] > MAX_REGIONS_IN_ROWS else None, \n",
    "#                                    per_variable=bold_ts_motor.shape[1] > MAX_VARS_IN_COLS, \n",
    "#                                    figsize=FIGSIZE, figname=\"Motor pathway BOLD Time Series\");"
   ]
  },
  {
   "cell_type": "code",
   "execution_count": null,
   "id": "04895bc7",
   "metadata": {
    "scrolled": false
   },
   "outputs": [],
   "source": [
    "# # Focus on the motor pathway: raster plot\n",
    "# if bold_ts is not None and bold_ts_motor.number_of_labels > MIN_REGIONS_FOR_RASTER_PLOT:\n",
    "#     bold_ts_motor.plot_raster(plotter_config=plotter.config, \n",
    "#                               per_variable=bold_ts_motor.shape[1] > MAX_VARS_IN_COLS,\n",
    "#                               figsize=FIGSIZE, figname=\"Motor pathway BOLD Time Series Raster\");"
   ]
  },
  {
   "cell_type": "code",
   "execution_count": null,
   "id": "1ca5e916",
   "metadata": {
    "scrolled": false
   },
   "outputs": [],
   "source": [
    "# # Focus on the sensory pathway: \n",
    "# if bold_ts is not None:\n",
    "#     bold_ts_sens = bold_ts[-10000:, :, inds[\"sens\"]]\n",
    "#     bold_ts_sens.plot_timeseries(plotter_config=plotter.config, \n",
    "#                                  hue=\"Region\" if bold_ts_sens.shape[2] > MAX_REGIONS_IN_ROWS else None, \n",
    "#                                  per_variable=bold_ts_sens.shape[1] > MAX_VARS_IN_COLS, \n",
    "#                                  figsize=FIGSIZE, figname=\"Sensory pathway BOLD Time Series\");"
   ]
  },
  {
   "cell_type": "code",
   "execution_count": null,
   "id": "da827c3a",
   "metadata": {
    "scrolled": false
   },
   "outputs": [],
   "source": [
    "# # Focus on the sensory pathway: raster plot\n",
    "# if bold_ts is not None and bold_ts_sens.number_of_labels > MIN_REGIONS_FOR_RASTER_PLOT:\n",
    "#     bold_ts_sens.plot_raster(plotter_config=plotter.config, \n",
    "#                              per_variable=bold_ts_sens.shape[1] > MAX_VARS_IN_COLS,\n",
    "#                              figsize=FIGSIZE, figname=\"Sensory pathway BOLD Time Series Raster\");"
   ]
  },
  {
   "cell_type": "markdown",
   "id": "c1b98347",
   "metadata": {},
   "source": [
    "### Interactive time series plot"
   ]
  },
  {
   "cell_type": "code",
   "execution_count": null,
   "id": "f4eb4cc5",
   "metadata": {},
   "outputs": [],
   "source": [
    "# # ...interactively as well\n",
    "# # For interactive plotting:\n",
    "# %matplotlib notebook \n",
    "# plotter.plot_timeseries_interactive(source_ts)"
   ]
  },
  {
   "cell_type": "code",
   "execution_count": null,
   "id": "fbecfba5",
   "metadata": {
    "scrolled": false
   },
   "outputs": [],
   "source": [
    "# # For interactive plotting:\n",
    "# %matplotlib notebook  \n",
    "\n",
    "\n",
    "# from tvb.datatypes.time_series import TimeSeries\n",
    "# from tvb.contrib.scripts.plot.power_spectra_interactive import PowerSpectraInteractive\n",
    "\n",
    "# tsr = TimeSeries(data=source_ts[1000:, 0, inds[\"m1s1brl\"]]._data.values, sample_period=source_ts.sample_period)\n",
    "# psi = PowerSpectraInteractive()\n",
    "# psi.time_series = tsr\n",
    "# psi.window_length = 1000.0\n",
    "# psi.show()\n",
    "# from ipywidgets import interact, widgets as ip_widgets\n",
    "# from IPython.display import display\n",
    "\n",
    "# textRegions = ip_widgets.Text(\n",
    "#     value='',\n",
    "#     placeholder='Regions Slicer',\n",
    "#     description='start:stop:step',\n",
    "#     disabled=False\n",
    "# )\n",
    "\n",
    "# textFreqs = ip_widgets.Text(\n",
    "#     value='',\n",
    "#     placeholder='Frequency Range',\n",
    "#     description='f_min, f_max',\n",
    "#     disabled=False\n",
    "# )\n",
    "\n",
    "# def callbackRegions(wdgt):\n",
    "#     # replace by something useful\n",
    "#     psi.update_regions(wdgt.value)\n",
    "\n",
    "# def callbackFreqs(wdgt):\n",
    "#     # replace by something useful\n",
    "#     psi.update_freq_range(wdgt.value)\n",
    "    \n",
    "# textRegions.on_submit(callbackRegions)\n",
    "# textFreqs.on_submit(callbackFreqs)\n",
    "\n",
    "# display(textRegions)\n",
    "# display(textFreqs)\n",
    "\n"
   ]
  },
  {
   "cell_type": "markdown",
   "id": "9208509e",
   "metadata": {},
   "source": [
    "# Compute data and target PSDs and compare:\n"
   ]
  },
  {
   "cell_type": "code",
   "execution_count": null,
   "id": "7dfa56f3",
   "metadata": {},
   "outputs": [],
   "source": [
    "PSD_target = compute_target_PSDs(config, write_files=True, plotter=plotter)"
   ]
  },
  {
   "cell_type": "code",
   "execution_count": null,
   "id": "fab8ac09",
   "metadata": {},
   "outputs": [],
   "source": [
    "PSD = compute_data_PSDs(results[0], PSD_target, inds, transient, write_files=False, plotter=plotter)"
   ]
  },
  {
   "cell_type": "code",
   "execution_count": null,
   "id": "f9f128e5",
   "metadata": {
    "scrolled": false
   },
   "outputs": [],
   "source": [
    "%matplotlib inline \n",
    "\n",
    "from examples.tvb_nest.notebooks.cerebellum.utils import  compute_plot_selected_spectra_coherence, compute_plot_ica\n",
    "\n",
    "NPERSEG = np.array([256, 512, 1024, 2048, 4096])\n",
    "NPERSEG = NPERSEG[np.argmin(np.abs(NPERSEG - (source_ts.shape[0]-transient/config.DEFAULT_DT)))]\n",
    "\n",
    "# Power Spectra and Coherence for M1 - S1 barrel field\n",
    "compute_plot_selected_spectra_coherence(source_ts, inds[\"m1s1brl\"], \n",
    "                                        transient=transient, nperseg=NPERSEG, fmin=0.0, fmax=100.0)"
   ]
  },
  {
   "cell_type": "code",
   "execution_count": null,
   "id": "be3e9b3d",
   "metadata": {
    "scrolled": false
   },
   "outputs": [],
   "source": [
    "# Power Spectra and Coherence along the sensory pathway:\n",
    "# for Medulla SPV, Sensory PONS\n",
    "compute_plot_selected_spectra_coherence(source_ts, inds[\"sens\"], \n",
    "                                        transient=transient, nperseg=NPERSEG, fmin=0.0, fmax=100.0)"
   ]
  },
  {
   "cell_type": "code",
   "execution_count": null,
   "id": "4e6a0c57",
   "metadata": {
    "scrolled": true
   },
   "outputs": [],
   "source": [
    "plotter.config.DEFAULT_SIZE = (12, 10)  # FIGSIZE\n",
    "if source_ts is not None:\n",
    "    # LFP (E) ICA:\n",
    "    lfp_ica_comps, lfp_ics_ts, lfp_ica = compute_plot_ica(source_ts[transient:].data[:, 0, :, 0].squeeze(), \n",
    "                                                          source_ts[transient:].time,\n",
    "                                                          variable=\"LFP\", n_components=10, plotter=plotter)\n",
    "    "
   ]
  },
  {
   "cell_type": "code",
   "execution_count": null,
   "id": "7d529d8a",
   "metadata": {
    "scrolled": true
   },
   "outputs": [],
   "source": [
    "if bold_ts is not None:    \n",
    "    # BOLD ICA:\n",
    "    bold_ica_comps, bold_ics_ts, bold_ica = compute_plot_ica(bold_ts.data[:, 0, :, 0].squeeze(), bold_ts.time,\n",
    "                                                             variable=\"BOLD\", n_components=10, plotter=plotter)\n",
    "    "
   ]
  },
  {
   "cell_type": "markdown",
   "id": "aab75eae",
   "metadata": {
    "run_control": {
     "frozen": false,
     "read_only": false
    }
   },
   "source": [
    "# References\n",
    "\n",
    "1 Sanz Leon P, Knock SA , Woodman MM, Domide L, <br>\n",
    "  Mersmann J, McIntosh AR, Jirsa VK. 2013. <br>\n",
    "  The Virtual Brain: a simulator of primate brain network dynamics. <br>\n",
    "  Frontiers in Neuroinformatics (7:10. doi: 10.3389/fninf.2013.00010) <br>\n",
    "  https://www.thevirtualbrain.org/tvb/zwei <br>\n",
    "  https://github.com/the-virtual-brain <br>\n",
    "\n",
    "2 Ritter P, Schirner M, McIntosh AR, Jirsa VK. 2013.  <br>\n",
    "  The Virtual Brain integrates computational modeling and multimodal neuroimaging. <br>\n",
    "  Brain Connectivity 3:121–145. <br>\n",
    "\n",
    "3 Griffiths JD, McIntosh AR, Lefebvre J. 2020.   <br>\n",
    "  A Connectome-Based, Corticothalamic Model of State- <br>\n",
    "  and Stimulation-Dependent Modulation of Rhythmic Neural Activity and Connectivity <br>\n",
    "  Frontiers in Computational Neuroscience (vol. 14. doi: 10.3389/fncom.2020.575143) <br>\n",
    "  https://www.frontiersin.org/articles/10.3389/fncom.2020.575143/full#h12\n",
    "  \n",
    "4 Jordan, Jakob; Mørk, Håkon; Vennemo, Stine Brekke;   Terhorst, Dennis; Peyser, <br>\n",
    "  Alexander; Ippen, Tammo; Deepu, Rajalekshmi;   Eppler, Jochen Martin; <br>\n",
    "  van Meegen, Alexander;   Kunkel, Susanne; Sinha, Ankur; Fardet, Tanguy; Diaz, <br>\n",
    "  Sandra; Morrison, Abigail; Schenck, Wolfram; Dahmen, David;   Pronold, Jari; <br>\n",
    "  Stapmanns, Jonas;   Trensch, Guido; Spreizer, Sebastian;   Mitchell, Jessica; <br>\n",
    "  Graber, Steffen; Senk, Johanna; Linssen, Charl; Hahne, Jan; Serenko, Alexey; <br>\n",
    "  Naoumenko, Daniel; Thomson, Eric;   Kitayama, Itaru; Berns, Sebastian;   <br>\n",
    "  Plesser, Hans Ekkehard <br>\n",
    "  NEST is a simulator for spiking neural network models that focuses <br>\n",
    "  on the dynamics, size and structure of neural systems rather than on <br>\n",
    "  the exact morphology of individual neurons. <br>\n",
    "  For further information, visit http://www.nest-simulator.org. <br>\n",
    "  The release notes for this release are available at  <br>\n",
    "  https://github.com/nest/nest-simulator/releases/tag/v2.18.0 <br>"
   ]
  },
  {
   "cell_type": "code",
   "execution_count": null,
   "id": "2e60586d",
   "metadata": {
    "scrolled": false
   },
   "outputs": [],
   "source": [
    "%matplotlib inline\n",
    "\n",
    "import matplotlib.pyplot as plt\n",
    "\n",
    "data = source_ts.data\n",
    "time = source_ts.time\n",
    "\n",
    "fig, axes = plt.subplots(3, 1, figsize=(12, 10))\n",
    "for iT, regs in enumerate([\"crtx\", \"subcrtx_not_thalspec\", \"thalspec\"]):\n",
    "    transient_in_points = int((transient+0.5)/simulator.monitors[0].period)\n",
    "    dat = data[transient_in_points:, 0, inds[regs]].squeeze()\n",
    "    print(dat.shape)\n",
    "    axes[iT].plot(time[transient_in_points:], dat, alpha=0.25)\n",
    "    if iT == 0:\n",
    "        axes[iT].plot(time[transient_in_points:], data[transient_in_points:, 0, inds[\"m1\"]].squeeze(), \n",
    "                      'b--', linewidth=3, label='M1')\n",
    "        axes[iT].plot(time[transient_in_points:], data[transient_in_points:, 0, inds[\"s1brl\"]].squeeze(), \n",
    "                      'g--', linewidth=3, label='S1 barrel field')\n",
    "    elif iT == 1:\n",
    "        axes[iT].plot(time[transient_in_points:], data[transient_in_points:, 0, inds[\"facial\"]].squeeze(), \n",
    "                      'b--', linewidth=3, label='Facial motor nucleus')\n",
    "        axes[iT].plot(time[transient_in_points:], data[transient_in_points:, 0, inds[\"trigeminal\"]].squeeze(), \n",
    "                      'g--', linewidth=3, label='Spinal trigeminal nuclei')\n",
    "    else:\n",
    "        axes[iT].plot(time[transient_in_points:], data[transient_in_points:, 0, [44, 166]].squeeze(), \n",
    "                      'b--', linewidth=3, label='M1 specific thalami')\n",
    "        axes[iT].plot(time[transient_in_points:], data[transient_in_points:, 0, [47, 169]].squeeze(), \n",
    "                      'g--', linewidth=3, label='S1 barrel field specific thalami')\n",
    "        axes[iT].set_xlabel('Time (ms)')\n",
    "    axes[iT].plot(time[transient_in_points:], dat.mean(axis=1), 'k--', linewidth=3, label='Total mean')\n",
    "    axes[iT].legend()\n",
    "    axes[iT].set_title(\"%s range=[%g, %g, %g, %g, %g] \" % \n",
    "                       (regs, dat.min(), np.percentile(dat, 5), dat.mean(), np.percentile(dat, 95), dat.max()))\n",
    "fig.tight_layout()"
   ]
  },
  {
   "cell_type": "markdown",
   "id": "afd68af1",
   "metadata": {},
   "source": [
    "### Spiking Network plots"
   ]
  },
  {
   "cell_type": "code",
   "execution_count": null,
   "id": "b60a8daf",
   "metadata": {},
   "outputs": [],
   "source": [
    "spikeNet_analyzer = None\n",
    "if nest_network is not None:\n",
    "    \n",
    "    from tvb_multiscale.core.data_analysis.spiking_network_analyser import SpikingNetworkAnalyser\n",
    "    # Create a SpikingNetworkAnalyzer:\n",
    "    spikeNet_analyzer = \\\n",
    "        SpikingNetworkAnalyser(spikeNet=nest_network,\n",
    "                               start_time=0.0, end_time=simulation_length, \n",
    "                               transient=transient, time_series_output_type=\"TVB\", \n",
    "                               return_data=True, force_homogeneous_results=True, \n",
    "                               period=simulator.monitors[0].period, connectivity=simulator.connectivity\n",
    "                              )"
   ]
  },
  {
   "cell_type": "markdown",
   "id": "380f8cdc",
   "metadata": {},
   "source": [
    "### Plot spikes' raster and mean spike rates and correlations"
   ]
  },
  {
   "cell_type": "code",
   "execution_count": null,
   "id": "c4c5a1b4",
   "metadata": {
    "scrolled": false
   },
   "outputs": [],
   "source": [
    "spikes_res = None\n",
    "if spikeNet_analyzer is not None:\n",
    "    \n",
    "    # Spikes rates and correlations per Population and Region\n",
    "    spikes_res = \\\n",
    "        spikeNet_analyzer.\\\n",
    "            compute_spikeNet_spikes_rates_and_correlations(\n",
    "                populations_devices=None, regions=None,\n",
    "                rates_methods=[], rates_kwargs=[{}],rate_results_names=[],\n",
    "                corrs_methods=[], corrs_kwargs=[{}], corrs_results_names=[], bin_kwargs={},\n",
    "                data_method=spikeNet_analyzer.get_spikes_from_device, data_kwargs={},\n",
    "                return_devices=False\n",
    "            );"
   ]
  },
  {
   "cell_type": "code",
   "execution_count": null,
   "id": "44e96069",
   "metadata": {
    "scrolled": false
   },
   "outputs": [],
   "source": [
    "if spikes_res:\n",
    "    print(spikes_res[\"mean_rate\"])\n",
    "    print(spikes_res[\"spikes_correlation_coefficient\"])\n",
    "    # Plot spikes' rasters together with mean population's spikes' rates' time series\n",
    "    if plotter:\n",
    "        plotter.plot_spike_events(spikes_res[\"spikes\"], mean_results=spikes_res[\"mean_rate\"], # time_series=spikes_res[\"mean_rate_time_series\"], \n",
    "                                  figsize=(20, 22),  \n",
    "                                  stimulus=None,\n",
    "                                  stimulus_linewidth=5.0,\n",
    "                                  spikes_markersize=5.0, spikes_alpha=0.5,\n",
    "                                  n_y_ticks=3, n_time_ticks=5, show_time_axis=True, \n",
    "                                  time_axis_min=0.0, time_axis_max=simulation_length)\n",
    "        from tvb_multiscale.core.plot.correlations_plot import plot_correlations\n",
    "        plot_correlations(spikes_res[\"spikes_correlation_coefficient\"], plotter)"
   ]
  },
  {
   "cell_type": "code",
   "execution_count": null,
   "id": "1dc3fed4",
   "metadata": {},
   "outputs": [],
   "source": [
    "if spikes_res:\n",
    "    print(\"Mean spike rates:\")\n",
    "    for pop in spikes_res[\"mean_rate\"].coords[\"Population\"]:\n",
    "        for reg in spikes_res[\"mean_rate\"].coords[\"Region\"]:\n",
    "            if not np.isnan(spikes_res[\"mean_rate\"].loc[pop, reg]):\n",
    "                print(\"%s - %s: %g\" % (pop.values.item().split(\"_spikes\")[0], reg.values.item(), \n",
    "                                       spikes_res[\"mean_rate\"].loc[pop, reg].values.item()))\n",
    "\n",
    "    # savemat(os.path.join(config.out.FOLDER_RES, \"spikes_mean_rates.mat\"), spikes_res[\"mean_rate\"].to_dict())\n"
   ]
  },
  {
   "cell_type": "code",
   "execution_count": null,
   "id": "6b34814f",
   "metadata": {},
   "outputs": [],
   "source": [
    "spikes_sync = None\n",
    "spikeNet_analyzer.resample = True\n",
    "spikes_sync = \\\n",
    "    spikeNet_analyzer.compute_spikeNet_synchronization(populations_devices=None, regions=None,\n",
    "                                                       comp_methods=[spikeNet_analyzer.compute_spikes_sync, \n",
    "                                                                     spikeNet_analyzer.compute_spikes_sync_time_series, \n",
    "                                                                     spikeNet_analyzer.compute_spikes_distance, \n",
    "                                                                     spikeNet_analyzer.compute_spikes_distance_time_series,\n",
    "                                                                     spikeNet_analyzer.compute_spikes_isi_distance, \n",
    "                                                                     spikeNet_analyzer.compute_spikes_isi_distance_time_series],\n",
    "                                                       computations_kwargs=[{}], data_kwargs={},\n",
    "                                                       return_spikes_trains=False, return_devices=False)\n",
    "# print(spikes_sync)\n"
   ]
  },
  {
   "cell_type": "code",
   "execution_count": null,
   "id": "254dd558",
   "metadata": {},
   "outputs": [],
   "source": [
    "if spikes_sync:\n",
    "    plotter.config.FONTSIZE = 20 # plotter.config.LARGE_FONTSIZE  # LARGE = 12, default = 10\n",
    "    plotter.plot_spike_events(spikes_res[\"spikes\"], \n",
    "                              time_series=spikes_sync[\"spikes_sync_time_series\"], \n",
    "                              mean_results=spikes_sync[\"spikes_sync\"], \n",
    "                              stimulus_linewidth=5.0,\n",
    "                              spikes_markersize=0.5, spikes_alpha=0.5,\n",
    "                              n_y_ticks=3, n_time_ticks=5, show_time_axis=True, \n",
    "                              time_axis_min=0.0, time_axis_max=simulation_length, figsize=(20, 22)\n",
    "                              )"
   ]
  },
  {
   "cell_type": "code",
   "execution_count": null,
   "id": "08a21efa",
   "metadata": {},
   "outputs": [],
   "source": [
    "if spikes_sync:\n",
    "    plotter.config.FONTSIZE = 20 # plotter.config.LARGE_FONTSIZE  # LARGE = 12, default = 10\n",
    "    plotter.plot_spike_events(spikes_res[\"spikes\"], \n",
    "                              time_series=spikes_sync[\"spikes_distance_time_series\"], \n",
    "                              mean_results=spikes_sync[\"spikes_distance\"], \n",
    "                              stimulus_linewidth=5.0,\n",
    "                              spikes_markersize=0.5, spikes_alpha=0.5,\n",
    "                              n_y_ticks=3, n_time_ticks=5, show_time_axis=True, \n",
    "                              time_axis_min=0.0, time_axis_max=simulation_length, figsize=(20, 22)\n",
    "                                     )"
   ]
  },
  {
   "cell_type": "code",
   "execution_count": null,
   "id": "da035c75",
   "metadata": {},
   "outputs": [],
   "source": [
    "if spikes_sync:\n",
    "    plotter.config.FONTSIZE = 20 # plotter.config.LARGE_FONTSIZE  # LARGE = 12, default = 10\n",
    "    plotter.plot_spike_events(spikes_res[\"spikes\"], \n",
    "                              time_series=spikes_sync[\"spikes_isi_distance_time_series\"], \n",
    "                              mean_results=spikes_sync[\"spikes_isi_distance\"], \n",
    "                              stimulus_linewidth=5.0,\n",
    "                              spikes_markersize=0.5, spikes_alpha=0.5,\n",
    "                              n_y_ticks=3, n_time_ticks=5, show_time_axis=True, \n",
    "                              time_axis_min=0.0, time_axis_max=simulation_length, figsize=(20, 22)\n",
    "                                     )"
   ]
  },
  {
   "cell_type": "code",
   "execution_count": null,
   "id": "023dec78",
   "metadata": {},
   "outputs": [],
   "source": [
    "if spikes_sync:\n",
    "    print(\"Spike synchronization:\")\n",
    "    for pop in spikes_sync[\"spikes_sync\"].coords[\"Population\"]:\n",
    "        for reg in spikes_sync[\"spikes_sync\"].coords[\"Region\"]:\n",
    "            if not np.isnan(spikes_sync[\"spikes_sync\"].loc[pop, reg]):\n",
    "                print(\"%s - %s: %g\" % (pop.values.item().split(\"_spikes\")[0], reg.values.item(), \n",
    "                                       spikes_sync[\"spikes_sync\"].loc[pop, reg].values.item()))\n",
    "\n",
    "#     savemat(os.path.join(config.out.FOLDER_RES, \"spikes_sync.mat\"), spikes_sync[\"spikes_sync\"].to_dict())\n",
    "#     savemat(os.path.join(config.out.FOLDER_RES, \"spikes_sync_time_series.mat\"), spikes_sync[\"spikes_sync_time_series\"].to_dict())"
   ]
  },
  {
   "cell_type": "code",
   "execution_count": null,
   "id": "3de4ead2",
   "metadata": {},
   "outputs": [],
   "source": [
    "if spikes_sync:\n",
    "    print(\"Spike distance:\")\n",
    "    for pop in spikes_sync[\"spikes_distance\"].coords[\"Population\"]:\n",
    "        for reg in spikes_sync[\"spikes_distance\"].coords[\"Region\"]:\n",
    "            if not np.isnan(spikes_sync[\"spikes_distance\"].loc[pop, reg]):\n",
    "                print(\"%s - %s: %g\" % (pop.values.item().split(\"_spikes\")[0], reg.values.item(), \n",
    "                                       spikes_sync[\"spikes_distance\"].loc[pop, reg].values.item()))\n",
    "\n",
    "#     savemat(os.path.join(config.out.FOLDER_RES, \"spikes_distance.mat\"), spikes_sync[\"spikes_distance\"].to_dict())\n",
    "#     savemat(os.path.join(config.out.FOLDER_RES, \"spikes_distance_time_series.mat\"), spikes_sync[\"spikes_distance_time_series\"].to_dict())"
   ]
  },
  {
   "cell_type": "code",
   "execution_count": null,
   "id": "9c86c136",
   "metadata": {
    "scrolled": true
   },
   "outputs": [],
   "source": [
    "if spikes_sync:\n",
    "    print(\"Spike ISI distance:\")\n",
    "    for pop in spikes_sync[\"spikes_isi_distance\"].coords[\"Population\"]:\n",
    "        for reg in spikes_sync[\"spikes_isi_distance\"].coords[\"Region\"]:\n",
    "            if not np.isnan(spikes_sync[\"spikes_isi_distance\"].loc[pop, reg]):\n",
    "                print(\"%s - %s: %g\" % (pop.values.item().split(\"_spikes\")[0], reg.values.item(), \n",
    "                                       spikes_sync[\"spikes_isi_distance\"].loc[pop, reg].values.item()))\n",
    "\n",
    "#     savemat(os.path.join(config.out.FOLDER_RES, \"spikes_isi_distance.mat\"), spikes_sync[\"spikes_isi_distance\"].to_dict())\n",
    "#     savemat(os.path.join(config.out.FOLDER_RES, \"spikes_isi_distance_time_series.mat\"), spikes_sync[\"spikes_isi_distance_time_series\"].to_dict())"
   ]
  },
  {
   "cell_type": "code",
   "execution_count": null,
   "id": "9aae88c2",
   "metadata": {
    "scrolled": true
   },
   "outputs": [],
   "source": [
    "if spikes_res and writer:\n",
    "    writer.write_object(spikes_res[\"spikes\"].to_dict(), \n",
    "                        path=os.path.join(config.out.FOLDER_RES,  \"Spikes\") + \".h5\");\n",
    "    writer.write_object(spikes_res[\"mean_rate\"].to_dict(),\n",
    "                        path=os.path.join(config.out.FOLDER_RES,\n",
    "                                          spikes_res[\"mean_rate\"].name) + \".h5\");\n",
    "    writer.write_tvb_to_h5(TimeSeriesRegion().from_xarray_DataArray(\n",
    "                              spikes_res[\"mean_rate_time_series\"]._data,\n",
    "                               connectivity=spikes_res[\"mean_rate_time_series\"].connectivity),\n",
    "                           os.path.join(config.out.FOLDER_RES,\n",
    "                                        spikes_res[\"mean_rate_time_series\"].title) + \".h5\",\n",
    "                           recursive=False);\n",
    "    writer.write_object(spikes_res[\"spikes_correlation_coefficient\"].to_dict(),\n",
    "                        path=os.path.join(config.out.FOLDER_RES,\n",
    "                                          spikes_res[\"spikes_correlation_coefficient\"].name) + \".h5\");"
   ]
  },
  {
   "cell_type": "markdown",
   "id": "d0897852",
   "metadata": {},
   "source": [
    "### Get  SpikingNetwork mean field variable time series and plot them"
   ]
  },
  {
   "cell_type": "code",
   "execution_count": null,
   "id": "493b30d9",
   "metadata": {},
   "outputs": [],
   "source": [
    "# Continuous time variables' data of spiking neurons\n",
    "spikeNet_ts = None\n",
    "mean_field_ts = None\n",
    "if spikeNet_analyzer:\n",
    "    if plot_per_neuron:\n",
    "        spikeNet_analyzer.return_data = True\n",
    "    else:\n",
    "        spikeNet_analyzer.return_data = False\n",
    "    spikeNet_ts = \\\n",
    "        spikeNet_analyzer. \\\n",
    "             compute_spikeNet_mean_field_time_series(populations_devices=None, regions=None, variables=None,\n",
    "                                                     computations_kwargs={}, data_kwargs={}, return_devices=False)\n",
    "    if spikeNet_ts:\n",
    "        if plot_per_neuron:\n",
    "            mean_field_ts = spikeNet_ts[\"mean_field_time_series\"]  # mean field\n",
    "            spikeNet_ts = spikeNet_ts[\"data_by_neuron\"]  # per neuron data\n",
    "        else:\n",
    "            mean_field_ts = spikeNet_ts\n",
    "            spikeNet_ts = None\n",
    "        if mean_field_ts and mean_field_ts.size > 0:\n",
    "            mean_field_ts.plot_timeseries(plotter_config=plotter.config, \n",
    "                                          per_variable=mean_field_ts.shape[1] > MAX_VARS_IN_COLS)\n",
    "            if mean_field_ts.number_of_labels > MIN_REGIONS_FOR_RASTER_PLOT:\n",
    "                mean_field_ts.plot_raster(plotter_config=plotter.config, \n",
    "                                          per_variable=mean_field_ts.shape[1] > MAX_VARS_IN_COLS,\n",
    "                                          linestyle=\"--\", alpha=0.5, linewidth=0.5)\n"
   ]
  },
  {
   "cell_type": "code",
   "execution_count": null,
   "id": "5cf40819",
   "metadata": {},
   "outputs": [],
   "source": [
    "# Write results to file:\n",
    "if mean_field_ts and writer:\n",
    "    writer.write_tvb_to_h5(TimeSeriesRegion().from_xarray_DataArray(\n",
    "                                       mean_field_ts._data,\n",
    "                                       connectivity=mean_field_ts.connectivity),\n",
    "                           os.path.join(config.out.FOLDER_RES, mean_field_ts.title) + \".h5\", \n",
    "                           recursive=False)"
   ]
  },
  {
   "cell_type": "markdown",
   "id": "455ef3f7",
   "metadata": {},
   "source": [
    "### Compute per neuron spikes' rates times series and plot them"
   ]
  },
  {
   "cell_type": "code",
   "execution_count": null,
   "id": "a323db83",
   "metadata": {
    "scrolled": false
   },
   "outputs": [],
   "source": [
    "if spikes_res and plot_per_neuron:\n",
    "    from tvb.simulator.plot.base_plotter import pyplot\n",
    "    spikeNet_analyzer.return_data = False\n",
    "    rates_ts_per_neuron = \\\n",
    "        spikeNet_analyzer. \\\n",
    "            compute_spikeNet_rates_time_series(populations_devices=None, regions=None,\n",
    "                                               computations_kwargs={}, data_kwargs={},\n",
    "                                               return_spikes_trains=False, return_devices=False);\n",
    "    if rates_ts_per_neuron is not None and rates_ts_per_neuron.size:\n",
    "        # Regions in rows\n",
    "        row = rates_ts_per_neuron.dims[2] if rates_ts_per_neuron.shape[2] > 1 else None\n",
    "        if row is None:\n",
    "            # Populations in rows\n",
    "            row = rates_ts_per_neuron.dims[1] if rates_ts_per_neuron.shape[1] > 1 else None\n",
    "            col = None\n",
    "        else:\n",
    "            # Populations in columns\n",
    "            col = rates_ts_per_neuron.dims[1] if rates_ts_per_neuron.shape[1] > 1 else None\n",
    "        pyplot.figure()\n",
    "        rates_ts_per_neuron.plot(y=rates_ts_per_neuron.dims[3], row=row, col=col, cmap=\"jet\")\n",
    "        plotter.base._save_figure(figure_name=\"Spike rates per neuron\")\n",
    "        # del rates_ts_per_neuron # to free memory"
   ]
  },
  {
   "cell_type": "markdown",
   "id": "06e48c3f",
   "metadata": {},
   "source": [
    "### Plot per neuron SpikingNetwork time series"
   ]
  },
  {
   "cell_type": "code",
   "execution_count": null,
   "id": "4b84afb6",
   "metadata": {
    "scrolled": false
   },
   "outputs": [],
   "source": [
    "# Regions in rows\n",
    "if spikeNet_ts is not None and spikeNet_ts.size:\n",
    "    row = spikeNet_ts.dims[2] if spikeNet_ts.shape[2] > 1 else None\n",
    "    if row is None:\n",
    "        # Populations in rows\n",
    "        row = spikeNet_ts.dims[3] if spikeNet_ts.shape[3] > 1 else None\n",
    "        col = None\n",
    "    else:\n",
    "        # Populations in cols\n",
    "         col = spikeNet_ts.dims[3] if spikeNet_ts.shape[3] > 1 else None\n",
    "    for var in spikeNet_ts.coords[spikeNet_ts.dims[1]]:\n",
    "        this_var_ts = spikeNet_ts.loc[:, var, :, :, :]\n",
    "        this_var_ts.name = var.item()\n",
    "        pyplot.figure()\n",
    "        this_var_ts.plot(y=spikeNet_ts.dims[4], row=row, col=col, cmap=\"jet\", figsize=FIGSIZE)\n",
    "        plotter.base._save_figure(\n",
    "            figure_name=\"Spiking Network variables' time series per neuron: %s\" % this_var_ts.name)\n",
    "    del spikeNet_ts # to free memory"
   ]
  },
  {
   "cell_type": "code",
   "execution_count": null,
   "id": "a20456e3",
   "metadata": {},
   "outputs": [],
   "source": [
    "### Spiking Network plots\n",
    "\n",
    "spikeNet_analyzer = None\n",
    "if nest_network is not None:\n",
    "    \n",
    "    from tvb_multiscale.core.data_analysis.spiking_network_analyser import SpikingNetworkAnalyser\n",
    "    # Create a SpikingNetworkAnalyzer:\n",
    "    spikeNet_analyzer = \\\n",
    "        SpikingNetworkAnalyser(spikeNet=nest_network,\n",
    "                               start_time=0.0, end_time=simulation_length, \n",
    "                               transient=transient, time_series_output_type=\"TVB\", \n",
    "                               return_data=True, force_homogeneous_results=True, \n",
    "                               period=simulator.monitors[0].period, connectivity=simulator.connectivity\n",
    "                              )\n",
    "\n",
    "### Plot spikes' raster and mean spike rates and correlations\n",
    "\n",
    "spikes_res = None\n",
    "if spikeNet_analyzer is not None:\n",
    "    \n",
    "    # Spikes rates and correlations per Population and Region\n",
    "    spikes_res = \\\n",
    "        spikeNet_analyzer.\\\n",
    "            compute_spikeNet_spikes_rates_and_correlations(\n",
    "                populations_devices=None, regions=None,\n",
    "                rates_methods=[], rates_kwargs=[{}],rate_results_names=[],\n",
    "                corrs_methods=[], corrs_kwargs=[{}], corrs_results_names=[], bin_kwargs={},\n",
    "                data_method=spikeNet_analyzer.get_spikes_from_device, data_kwargs={},\n",
    "                return_devices=False\n",
    "            );\n",
    "\n",
    "if spikes_res:\n",
    "    print(spikes_res[\"mean_rate\"])\n",
    "    print(spikes_res[\"spikes_correlation_coefficient\"])\n",
    "    # Plot spikes' rasters together with mean population's spikes' rates' time series\n",
    "    if plotter:\n",
    "        plotter.plot_spike_events(spikes_res[\"spikes\"], mean_results=spikes_res[\"mean_rate\"], # time_series=spikes_res[\"mean_rate_time_series\"], \n",
    "                                  figsize=(20, 22),  \n",
    "                                  stimulus=None,\n",
    "                                  stimulus_linewidth=5.0,\n",
    "                                  spikes_markersize=5.0, spikes_alpha=0.5,\n",
    "                                  n_y_ticks=3, n_time_ticks=5, show_time_axis=True, \n",
    "                                  time_axis_min=0.0, time_axis_max=simulation_length)\n",
    "        from tvb_multiscale.core.plot.correlations_plot import plot_correlations\n",
    "        plot_correlations(spikes_res[\"spikes_correlation_coefficient\"], plotter)\n",
    "\n",
    "if spikes_res:\n",
    "    print(\"Mean spike rates:\")\n",
    "    for pop in spikes_res[\"mean_rate\"].coords[\"Population\"]:\n",
    "        for reg in spikes_res[\"mean_rate\"].coords[\"Region\"]:\n",
    "            if not np.isnan(spikes_res[\"mean_rate\"].loc[pop, reg]):\n",
    "                print(\"%s - %s: %g\" % (pop.values.item().split(\"_spikes\")[0], reg.values.item(), \n",
    "                                       spikes_res[\"mean_rate\"].loc[pop, reg].values.item()))\n",
    "\n",
    "    # savemat(os.path.join(config.out.FOLDER_RES, \"spikes_mean_rates.mat\"), spikes_res[\"mean_rate\"].to_dict())\n",
    "\n",
    "\n",
    "spikes_sync = None\n",
    "spikeNet_analyzer.resample = True\n",
    "spikes_sync = \\\n",
    "    spikeNet_analyzer.compute_spikeNet_synchronization(populations_devices=None, regions=None,\n",
    "                                                       comp_methods=[spikeNet_analyzer.compute_spikes_sync, \n",
    "                                                                     spikeNet_analyzer.compute_spikes_sync_time_series, \n",
    "                                                                     spikeNet_analyzer.compute_spikes_distance, \n",
    "                                                                     spikeNet_analyzer.compute_spikes_distance_time_series,\n",
    "                                                                     spikeNet_analyzer.compute_spikes_isi_distance, \n",
    "                                                                     spikeNet_analyzer.compute_spikes_isi_distance_time_series],\n",
    "                                                       computations_kwargs=[{}], data_kwargs={},\n",
    "                                                       return_spikes_trains=False, return_devices=False)\n",
    "# print(spikes_sync)\n",
    "\n",
    "\n",
    "if spikes_sync:\n",
    "    plotter.config.FONTSIZE = 20 # plotter.config.LARGE_FONTSIZE  # LARGE = 12, default = 10\n",
    "    plotter.plot_spike_events(spikes_res[\"spikes\"], \n",
    "                              time_series=spikes_sync[\"spikes_sync_time_series\"], \n",
    "                              mean_results=spikes_sync[\"spikes_sync\"], \n",
    "                              stimulus_linewidth=5.0,\n",
    "                              spikes_markersize=0.5, spikes_alpha=0.5,\n",
    "                              n_y_ticks=3, n_time_ticks=5, show_time_axis=True, \n",
    "                              time_axis_min=0.0, time_axis_max=simulation_length, figsize=(20, 22)\n",
    "                              )\n",
    "\n",
    "if spikes_sync:\n",
    "    plotter.config.FONTSIZE = 20 # plotter.config.LARGE_FONTSIZE  # LARGE = 12, default = 10\n",
    "    plotter.plot_spike_events(spikes_res[\"spikes\"], \n",
    "                              time_series=spikes_sync[\"spikes_distance_time_series\"], \n",
    "                              mean_results=spikes_sync[\"spikes_distance\"], \n",
    "                              stimulus_linewidth=5.0,\n",
    "                              spikes_markersize=0.5, spikes_alpha=0.5,\n",
    "                              n_y_ticks=3, n_time_ticks=5, show_time_axis=True, \n",
    "                              time_axis_min=0.0, time_axis_max=simulation_length, figsize=(20, 22)\n",
    "                                     )\n",
    "\n",
    "if spikes_sync:\n",
    "    plotter.config.FONTSIZE = 20 # plotter.config.LARGE_FONTSIZE  # LARGE = 12, default = 10\n",
    "    plotter.plot_spike_events(spikes_res[\"spikes\"], \n",
    "                              time_series=spikes_sync[\"spikes_isi_distance_time_series\"], \n",
    "                              mean_results=spikes_sync[\"spikes_isi_distance\"], \n",
    "                              stimulus_linewidth=5.0,\n",
    "                              spikes_markersize=0.5, spikes_alpha=0.5,\n",
    "                              n_y_ticks=3, n_time_ticks=5, show_time_axis=True, \n",
    "                              time_axis_min=0.0, time_axis_max=simulation_length, figsize=(20, 22)\n",
    "                                     )\n",
    "\n",
    "if spikes_sync:\n",
    "    print(\"Spike synchronization:\")\n",
    "    for pop in spikes_sync[\"spikes_sync\"].coords[\"Population\"]:\n",
    "        for reg in spikes_sync[\"spikes_sync\"].coords[\"Region\"]:\n",
    "            if not np.isnan(spikes_sync[\"spikes_sync\"].loc[pop, reg]):\n",
    "                print(\"%s - %s: %g\" % (pop.values.item().split(\"_spikes\")[0], reg.values.item(), \n",
    "                                       spikes_sync[\"spikes_sync\"].loc[pop, reg].values.item()))\n",
    "\n",
    "#     savemat(os.path.join(config.out.FOLDER_RES, \"spikes_sync.mat\"), spikes_sync[\"spikes_sync\"].to_dict())\n",
    "#     savemat(os.path.join(config.out.FOLDER_RES, \"spikes_sync_time_series.mat\"), spikes_sync[\"spikes_sync_time_series\"].to_dict())\n",
    "\n",
    "if spikes_sync:\n",
    "    print(\"Spike distance:\")\n",
    "    for pop in spikes_sync[\"spikes_distance\"].coords[\"Population\"]:\n",
    "        for reg in spikes_sync[\"spikes_distance\"].coords[\"Region\"]:\n",
    "            if not np.isnan(spikes_sync[\"spikes_distance\"].loc[pop, reg]):\n",
    "                print(\"%s - %s: %g\" % (pop.values.item().split(\"_spikes\")[0], reg.values.item(), \n",
    "                                       spikes_sync[\"spikes_distance\"].loc[pop, reg].values.item()))\n",
    "\n",
    "#     savemat(os.path.join(config.out.FOLDER_RES, \"spikes_distance.mat\"), spikes_sync[\"spikes_distance\"].to_dict())\n",
    "#     savemat(os.path.join(config.out.FOLDER_RES, \"spikes_distance_time_series.mat\"), spikes_sync[\"spikes_distance_time_series\"].to_dict())\n",
    "\n",
    "if spikes_sync:\n",
    "    print(\"Spike ISI distance:\")\n",
    "    for pop in spikes_sync[\"spikes_isi_distance\"].coords[\"Population\"]:\n",
    "        for reg in spikes_sync[\"spikes_isi_distance\"].coords[\"Region\"]:\n",
    "            if not np.isnan(spikes_sync[\"spikes_isi_distance\"].loc[pop, reg]):\n",
    "                print(\"%s - %s: %g\" % (pop.values.item().split(\"_spikes\")[0], reg.values.item(), \n",
    "                                       spikes_sync[\"spikes_isi_distance\"].loc[pop, reg].values.item()))\n",
    "\n",
    "#     savemat(os.path.join(config.out.FOLDER_RES, \"spikes_isi_distance.mat\"), spikes_sync[\"spikes_isi_distance\"].to_dict())\n",
    "#     savemat(os.path.join(config.out.FOLDER_RES, \"spikes_isi_distance_time_series.mat\"), spikes_sync[\"spikes_isi_distance_time_series\"].to_dict())\n",
    "\n",
    "if spikes_res and writer:\n",
    "    writer.write_object(spikes_res[\"spikes\"].to_dict(), \n",
    "                        path=os.path.join(config.out.FOLDER_RES,  \"Spikes\") + \".h5\");\n",
    "    writer.write_object(spikes_res[\"mean_rate\"].to_dict(),\n",
    "                        path=os.path.join(config.out.FOLDER_RES,\n",
    "                                          spikes_res[\"mean_rate\"].name) + \".h5\");\n",
    "    writer.write_tvb_to_h5(TimeSeriesRegion().from_xarray_DataArray(\n",
    "                              spikes_res[\"mean_rate_time_series\"]._data,\n",
    "                               connectivity=spikes_res[\"mean_rate_time_series\"].connectivity),\n",
    "                           os.path.join(config.out.FOLDER_RES,\n",
    "                                        spikes_res[\"mean_rate_time_series\"].title) + \".h5\",\n",
    "                           recursive=False);\n",
    "    writer.write_object(spikes_res[\"spikes_correlation_coefficient\"].to_dict(),\n",
    "                        path=os.path.join(config.out.FOLDER_RES,\n",
    "                                          spikes_res[\"spikes_correlation_coefficient\"].name) + \".h5\");\n",
    "\n",
    "### Get  SpikingNetwork mean field variable time series and plot them\n",
    "\n",
    "# Continuous time variables' data of spiking neurons\n",
    "spikeNet_ts = None\n",
    "mean_field_ts = None\n",
    "if spikeNet_analyzer:\n",
    "    if plot_per_neuron:\n",
    "        spikeNet_analyzer.return_data = True\n",
    "    else:\n",
    "        spikeNet_analyzer.return_data = False\n",
    "    spikeNet_ts = \\\n",
    "        spikeNet_analyzer. \\\n",
    "             compute_spikeNet_mean_field_time_series(populations_devices=None, regions=None, variables=None,\n",
    "                                                     computations_kwargs={}, data_kwargs={}, return_devices=False)\n",
    "    if spikeNet_ts:\n",
    "        if plot_per_neuron:\n",
    "            mean_field_ts = spikeNet_ts[\"mean_field_time_series\"]  # mean field\n",
    "            spikeNet_ts = spikeNet_ts[\"data_by_neuron\"]  # per neuron data\n",
    "        else:\n",
    "            mean_field_ts = spikeNet_ts\n",
    "            spikeNet_ts = None\n",
    "        if mean_field_ts and mean_field_ts.size > 0:\n",
    "            mean_field_ts.plot_timeseries(plotter_config=plotter.config, \n",
    "                                          per_variable=mean_field_ts.shape[1] > MAX_VARS_IN_COLS)\n",
    "            if mean_field_ts.number_of_labels > MIN_REGIONS_FOR_RASTER_PLOT:\n",
    "                mean_field_ts.plot_raster(plotter_config=plotter.config, \n",
    "                                          per_variable=mean_field_ts.shape[1] > MAX_VARS_IN_COLS,\n",
    "                                          linestyle=\"--\", alpha=0.5, linewidth=0.5)\n",
    "\n",
    "\n",
    "# Write results to file:\n",
    "if mean_field_ts and writer:\n",
    "    writer.write_tvb_to_h5(TimeSeriesRegion().from_xarray_DataArray(\n",
    "                                       mean_field_ts._data,\n",
    "                                       connectivity=mean_field_ts.connectivity),\n",
    "                           os.path.join(config.out.FOLDER_RES, mean_field_ts.title) + \".h5\", \n",
    "                           recursive=False)\n",
    "\n",
    "### Compute per neuron spikes' rates times series and plot them\n",
    "\n",
    "if spikes_res and plot_per_neuron:\n",
    "    from tvb.simulator.plot.base_plotter import pyplot\n",
    "    spikeNet_analyzer.return_data = False\n",
    "    rates_ts_per_neuron = \\\n",
    "        spikeNet_analyzer. \\\n",
    "            compute_spikeNet_rates_time_series(populations_devices=None, regions=None,\n",
    "                                               computations_kwargs={}, data_kwargs={},\n",
    "                                               return_spikes_trains=False, return_devices=False);\n",
    "    if rates_ts_per_neuron is not None and rates_ts_per_neuron.size:\n",
    "        # Regions in rows\n",
    "        row = rates_ts_per_neuron.dims[2] if rates_ts_per_neuron.shape[2] > 1 else None\n",
    "        if row is None:\n",
    "            # Populations in rows\n",
    "            row = rates_ts_per_neuron.dims[1] if rates_ts_per_neuron.shape[1] > 1 else None\n",
    "            col = None\n",
    "        else:\n",
    "            # Populations in columns\n",
    "            col = rates_ts_per_neuron.dims[1] if rates_ts_per_neuron.shape[1] > 1 else None\n",
    "        pyplot.figure()\n",
    "        rates_ts_per_neuron.plot(y=rates_ts_per_neuron.dims[3], row=row, col=col, cmap=\"jet\")\n",
    "        plotter.base._save_figure(figure_name=\"Spike rates per neuron\")\n",
    "        # del rates_ts_per_neuron # to free memory\n",
    "\n",
    "### Plot per neuron SpikingNetwork time series\n",
    "\n",
    "# Regions in rows\n",
    "if spikeNet_ts is not None and spikeNet_ts.size:\n",
    "    row = spikeNet_ts.dims[2] if spikeNet_ts.shape[2] > 1 else None\n",
    "    if row is None:\n",
    "        # Populations in rows\n",
    "        row = spikeNet_ts.dims[3] if spikeNet_ts.shape[3] > 1 else None\n",
    "        col = None\n",
    "    else:\n",
    "        # Populations in cols\n",
    "         col = spikeNet_ts.dims[3] if spikeNet_ts.shape[3] > 1 else None\n",
    "    for var in spikeNet_ts.coords[spikeNet_ts.dims[1]]:\n",
    "        this_var_ts = spikeNet_ts.loc[:, var, :, :, :]\n",
    "        this_var_ts.name = var.item()\n",
    "        pyplot.figure()\n",
    "        this_var_ts.plot(y=spikeNet_ts.dims[4], row=row, col=col, cmap=\"jet\", figsize=FIGSIZE)\n",
    "        plotter.base._save_figure(\n",
    "            figure_name=\"Spiking Network variables' time series per neuron: %s\" % this_var_ts.name)\n",
    "    del spikeNet_ts # to free memory"
   ]
  },
  {
   "cell_type": "code",
   "execution_count": null,
   "id": "917a01ed",
   "metadata": {},
   "outputs": [],
   "source": []
  }
 ],
 "metadata": {
  "kernelspec": {
   "display_name": "Python 3 (ipykernel)",
   "language": "python",
   "name": "python3"
  },
  "language_info": {
   "codemirror_mode": {
    "name": "ipython",
    "version": 3
   },
   "file_extension": ".py",
   "mimetype": "text/x-python",
   "name": "python",
   "nbconvert_exporter": "python",
   "pygments_lexer": "ipython3",
   "version": "3.9.2"
  }
 },
 "nbformat": 4,
 "nbformat_minor": 5
}
