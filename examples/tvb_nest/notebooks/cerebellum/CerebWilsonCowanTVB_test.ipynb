{
 "cells": [
  {
   "cell_type": "code",
   "execution_count": 1,
   "id": "7387378d",
   "metadata": {
    "scrolled": true
   },
   "outputs": [],
   "source": [
    "from examples.tvb_nest.notebooks.cerebellum.scripts.scripts import *\n"
   ]
  },
  {
   "cell_type": "code",
   "execution_count": 2,
   "id": "6094ea5d",
   "metadata": {
    "scrolled": true
   },
   "outputs": [
    {
     "name": "stdout",
     "output_type": "stream",
     "text": [
      "2022-10-12 13:09:35,843 - INFO - tvb_multiscale.tvb_nest.config - Loading a NEST instance...\n",
      "2022-10-12 13:09:35,843 - INFO - tvb_multiscale.tvb_nest.config - Loading a NEST instance...\n",
      "2022-10-12 13:09:35,847 - INFO - tvb_multiscale.tvb_nest.config - NEST_INSTALL_DIR: /home/docker/env/neurosci/nest_build\n",
      "2022-10-12 13:09:35,847 - INFO - tvb_multiscale.tvb_nest.config - NEST_INSTALL_DIR: /home/docker/env/neurosci/nest_build\n",
      "2022-10-12 13:09:35,849 - INFO - tvb_multiscale.tvb_nest.config - NEST_DATA_DIR: /home/docker/env/neurosci/nest_build/share/nest\n",
      "2022-10-12 13:09:35,849 - INFO - tvb_multiscale.tvb_nest.config - NEST_DATA_DIR: /home/docker/env/neurosci/nest_build/share/nest\n",
      "2022-10-12 13:09:35,852 - INFO - tvb_multiscale.tvb_nest.config - NEST_DOC_DIR: /home/docker/env/neurosci/nest_build/share/doc/nest\n",
      "2022-10-12 13:09:35,852 - INFO - tvb_multiscale.tvb_nest.config - NEST_DOC_DIR: /home/docker/env/neurosci/nest_build/share/doc/nest\n",
      "2022-10-12 13:09:35,856 - INFO - tvb_multiscale.tvb_nest.config - NEST_MODULE_PATH: /home/docker/env/neurosci/nest_build/lib/nest\n",
      "2022-10-12 13:09:35,856 - INFO - tvb_multiscale.tvb_nest.config - NEST_MODULE_PATH: /home/docker/env/neurosci/nest_build/lib/nest\n",
      "2022-10-12 13:09:35,859 - INFO - tvb_multiscale.tvb_nest.config - PATH: /home/docker/env/neurosci/nest_build/bin:/usr/local/sbin:/usr/local/bin:/usr/sbin:/usr/bin:/sbin:/bin\n",
      "2022-10-12 13:09:35,859 - INFO - tvb_multiscale.tvb_nest.config - PATH: /home/docker/env/neurosci/nest_build/bin:/usr/local/sbin:/usr/local/bin:/usr/sbin:/usr/bin:/sbin:/bin\n",
      "2022-10-12 13:09:35,864 - INFO - tvb_multiscale.tvb_nest.config - LD_LIBRARY_PATH: /home/docker/env/neurosci/nest_build/lib/nest::/home/docker/env/neurosci/nest_build/lib/nest\n",
      "2022-10-12 13:09:35,864 - INFO - tvb_multiscale.tvb_nest.config - LD_LIBRARY_PATH: /home/docker/env/neurosci/nest_build/lib/nest::/home/docker/env/neurosci/nest_build/lib/nest\n",
      "2022-10-12 13:09:35,868 - INFO - tvb_multiscale.tvb_nest.config - SLI_PATH: /home/docker/env/neurosci/nest_build/share/nest/sli\n",
      "2022-10-12 13:09:35,868 - INFO - tvb_multiscale.tvb_nest.config - SLI_PATH: /home/docker/env/neurosci/nest_build/share/nest/sli\n",
      "2022-10-12 13:09:35,873 - INFO - tvb_multiscale.tvb_nest.config - NEST_PYTHON_PREFIX: /home/docker/env/neurosci/nest_build/lib/python3.9/site-packages\n",
      "2022-10-12 13:09:35,873 - INFO - tvb_multiscale.tvb_nest.config - NEST_PYTHON_PREFIX: /home/docker/env/neurosci/nest_build/lib/python3.9/site-packages\n",
      "2022-10-12 13:09:35,878 - INFO - tvb_multiscale.tvb_nest.config - system path: ['/home/docker/env/neurosci/nest_build/lib/python3.9/site-packages', '/home/docker/packages/tvb-multiscale/examples/tvb_nest/notebooks/cerebellum', '/home/docker/env/neurosci', '/usr/lib/python39.zip', '/usr/lib/python3.9', '/usr/lib/python3.9/lib-dynload', '', '/home/docker/env/neurosci/lib/python3.9/site-packages', '/home/docker/env/neurosci/lib/python3.9/site-packages/NESTML-5.0.0.post0.dev0-py3.9.egg', '/home/docker/env/neurosci/lib/python3.9/site-packages/sympy-1.10.1-py3.9.egg', '/home/docker/env/neurosci/lib/python3.9/site-packages/odetoolbox-2.4.1-py3.9.egg', '/home/docker/env/neurosci/lib/python3.9/site-packages/astropy-5.2.dev0-py3.9-linux-x86_64.egg', '/home/docker/env/neurosci/lib/python3.9/site-packages/antlr4_python3_runtime-4.10-py3.9.egg', '/home/docker/env/neurosci/lib/python3.9/site-packages/mpmath-1.2.1-py3.9.egg', '/home/docker/env/neurosci/lib/python3.9/site-packages/pyerfa-2.0.0.1-py3.9-linux-x86_64.egg', '/home/docker/env/neurosci/lib/python3.9/site-packages/PyYAML-6.0-py3.9-linux-x86_64.egg', '/home/docker/packages/tvb-root/tvb_library', '/home/docker/env/neurosci/lib/python3.9/site-packages/typing-3.10.0.0-py3.9.egg', '/home/docker/env/neurosci/lib/python3.9/site-packages/PyLEMS-0.5.9-py3.9.egg', '/home/docker/env/neurosci/lib/python3.9/site-packages/numexpr-2.8.1-py3.9-linux-x86_64.egg', '/home/docker/env/neurosci/lib/python3.9/site-packages/networkx-2.8.2-py3.9.egg', '/home/docker/env/neurosci/lib/python3.9/site-packages/Mako-1.2.0-py3.9.egg', '/home/docker/env/neurosci/lib/python3.9/site-packages/lxml-4.8.0-py3.9-linux-x86_64.egg', '/home/docker/env/neurosci/lib/python3.9/site-packages/autopep8-1.6.0-py3.9.egg', '/home/docker/env/neurosci/lib/python3.9/site-packages/toml-0.10.2-py3.9.egg', '/home/docker/env/neurosci/lib/python3.9/site-packages/pycodestyle-2.8.0-py3.9.egg', '/home/docker/packages/tvb-root/tvb_framework', '/home/docker/env/neurosci/lib/python3.9/site-packages/tvb_storage-2.5-py3.9.egg', '/home/docker/env/neurosci/lib/python3.9/site-packages/tvb_library-2.5-py3.9.egg', '/home/docker/env/neurosci/lib/python3.9/site-packages/tvb_gdist-2.1.0-py3.9-linux-x86_64.egg', '/home/docker/env/neurosci/lib/python3.9/site-packages/tvb_data-2.0-py3.9.egg', '/home/docker/env/neurosci/lib/python3.9/site-packages/simplejson-3.17.6-py3.9-linux-x86_64.egg', '/home/docker/env/neurosci/lib/python3.9/site-packages/python_keycloak-0.29.0-py3.9.egg', '/home/docker/env/neurosci/lib/python3.9/site-packages/nibabel-3.2.2-py3.9.egg', '/home/docker/env/neurosci/lib/python3.9/site-packages/gevent-21.12.0-py3.9-linux-x86_64.egg', '/home/docker/env/neurosci/lib/python3.9/site-packages/FormEncode-2.0.1-py3.9.egg', '/home/docker/env/neurosci/lib/python3.9/site-packages/Flask-1.1.4-py3.9.egg', '/home/docker/env/neurosci/lib/python3.9/site-packages/flask_restx-0.5.1-py3.9.egg', '/home/docker/env/neurosci/lib/python3.9/site-packages/CherryPy-18.6.1-py3.9.egg', '/home/docker/env/neurosci/lib/python3.9/site-packages/allensdk-2.13.4-py3.9.egg', '/home/docker/env/neurosci/lib/python3.9/site-packages/alembic-1.7.7-py3.9.egg', '/home/docker/env/neurosci/lib/python3.9/site-packages/Jinja2-2.11.3-py3.9.egg', '/home/docker/env/neurosci/lib/python3.9/site-packages/pyAesCrypt-6.0.0-py3.9.egg', '/home/docker/env/neurosci/lib/python3.9/site-packages/cryptography-37.0.2-py3.9-linux-x86_64.egg', '/home/docker/env/neurosci/lib/python3.9/site-packages/python_jose-3.3.0-py3.9.egg', '/home/docker/env/neurosci/lib/python3.9/site-packages/zope.interface-5.5.0.dev0-py3.9.egg', '/home/docker/env/neurosci/lib/python3.9/site-packages/zope.event-4.5.0-py3.9.egg', '/home/docker/env/neurosci/lib/python3.9/site-packages/itsdangerous-1.1.0-py3.9.egg', '/home/docker/env/neurosci/lib/python3.9/site-packages/click-7.1.2-py3.9.egg', '/home/docker/packages/tvb-root/tvb_contrib', '/home/docker/env/neurosci/lib/python3.9/site-packages/pyspike-0.7.0-py3.9-linux-x86_64.egg', '/home/docker/packages/tvb-multiscale', '/usr/lib/python3/dist-packages', '/home/docker/.local/lib/python3.9/site-packages', '/home/docker/.local/lib/python3.9/site-packages/ANNarchy-4.7.1.3-py3.9-linux-x86_64.egg', '/usr/local/lib/python3.9/dist-packages']\n",
      "2022-10-12 13:09:35,878 - INFO - tvb_multiscale.tvb_nest.config - system path: ['/home/docker/env/neurosci/nest_build/lib/python3.9/site-packages', '/home/docker/packages/tvb-multiscale/examples/tvb_nest/notebooks/cerebellum', '/home/docker/env/neurosci', '/usr/lib/python39.zip', '/usr/lib/python3.9', '/usr/lib/python3.9/lib-dynload', '', '/home/docker/env/neurosci/lib/python3.9/site-packages', '/home/docker/env/neurosci/lib/python3.9/site-packages/NESTML-5.0.0.post0.dev0-py3.9.egg', '/home/docker/env/neurosci/lib/python3.9/site-packages/sympy-1.10.1-py3.9.egg', '/home/docker/env/neurosci/lib/python3.9/site-packages/odetoolbox-2.4.1-py3.9.egg', '/home/docker/env/neurosci/lib/python3.9/site-packages/astropy-5.2.dev0-py3.9-linux-x86_64.egg', '/home/docker/env/neurosci/lib/python3.9/site-packages/antlr4_python3_runtime-4.10-py3.9.egg', '/home/docker/env/neurosci/lib/python3.9/site-packages/mpmath-1.2.1-py3.9.egg', '/home/docker/env/neurosci/lib/python3.9/site-packages/pyerfa-2.0.0.1-py3.9-linux-x86_64.egg', '/home/docker/env/neurosci/lib/python3.9/site-packages/PyYAML-6.0-py3.9-linux-x86_64.egg', '/home/docker/packages/tvb-root/tvb_library', '/home/docker/env/neurosci/lib/python3.9/site-packages/typing-3.10.0.0-py3.9.egg', '/home/docker/env/neurosci/lib/python3.9/site-packages/PyLEMS-0.5.9-py3.9.egg', '/home/docker/env/neurosci/lib/python3.9/site-packages/numexpr-2.8.1-py3.9-linux-x86_64.egg', '/home/docker/env/neurosci/lib/python3.9/site-packages/networkx-2.8.2-py3.9.egg', '/home/docker/env/neurosci/lib/python3.9/site-packages/Mako-1.2.0-py3.9.egg', '/home/docker/env/neurosci/lib/python3.9/site-packages/lxml-4.8.0-py3.9-linux-x86_64.egg', '/home/docker/env/neurosci/lib/python3.9/site-packages/autopep8-1.6.0-py3.9.egg', '/home/docker/env/neurosci/lib/python3.9/site-packages/toml-0.10.2-py3.9.egg', '/home/docker/env/neurosci/lib/python3.9/site-packages/pycodestyle-2.8.0-py3.9.egg', '/home/docker/packages/tvb-root/tvb_framework', '/home/docker/env/neurosci/lib/python3.9/site-packages/tvb_storage-2.5-py3.9.egg', '/home/docker/env/neurosci/lib/python3.9/site-packages/tvb_library-2.5-py3.9.egg', '/home/docker/env/neurosci/lib/python3.9/site-packages/tvb_gdist-2.1.0-py3.9-linux-x86_64.egg', '/home/docker/env/neurosci/lib/python3.9/site-packages/tvb_data-2.0-py3.9.egg', '/home/docker/env/neurosci/lib/python3.9/site-packages/simplejson-3.17.6-py3.9-linux-x86_64.egg', '/home/docker/env/neurosci/lib/python3.9/site-packages/python_keycloak-0.29.0-py3.9.egg', '/home/docker/env/neurosci/lib/python3.9/site-packages/nibabel-3.2.2-py3.9.egg', '/home/docker/env/neurosci/lib/python3.9/site-packages/gevent-21.12.0-py3.9-linux-x86_64.egg', '/home/docker/env/neurosci/lib/python3.9/site-packages/FormEncode-2.0.1-py3.9.egg', '/home/docker/env/neurosci/lib/python3.9/site-packages/Flask-1.1.4-py3.9.egg', '/home/docker/env/neurosci/lib/python3.9/site-packages/flask_restx-0.5.1-py3.9.egg', '/home/docker/env/neurosci/lib/python3.9/site-packages/CherryPy-18.6.1-py3.9.egg', '/home/docker/env/neurosci/lib/python3.9/site-packages/allensdk-2.13.4-py3.9.egg', '/home/docker/env/neurosci/lib/python3.9/site-packages/alembic-1.7.7-py3.9.egg', '/home/docker/env/neurosci/lib/python3.9/site-packages/Jinja2-2.11.3-py3.9.egg', '/home/docker/env/neurosci/lib/python3.9/site-packages/pyAesCrypt-6.0.0-py3.9.egg', '/home/docker/env/neurosci/lib/python3.9/site-packages/cryptography-37.0.2-py3.9-linux-x86_64.egg', '/home/docker/env/neurosci/lib/python3.9/site-packages/python_jose-3.3.0-py3.9.egg', '/home/docker/env/neurosci/lib/python3.9/site-packages/zope.interface-5.5.0.dev0-py3.9.egg', '/home/docker/env/neurosci/lib/python3.9/site-packages/zope.event-4.5.0-py3.9.egg', '/home/docker/env/neurosci/lib/python3.9/site-packages/itsdangerous-1.1.0-py3.9.egg', '/home/docker/env/neurosci/lib/python3.9/site-packages/click-7.1.2-py3.9.egg', '/home/docker/packages/tvb-root/tvb_contrib', '/home/docker/env/neurosci/lib/python3.9/site-packages/pyspike-0.7.0-py3.9-linux-x86_64.egg', '/home/docker/packages/tvb-multiscale', '/usr/lib/python3/dist-packages', '/home/docker/.local/lib/python3.9/site-packages', '/home/docker/.local/lib/python3.9/site-packages/ANNarchy-4.7.1.3-py3.9-linux-x86_64.egg', '/usr/local/lib/python3.9/dist-packages']\n"
     ]
    },
    {
     "name": "stdout",
     "output_type": "stream",
     "text": [
      "Outputs' path: /home/docker/packages/tvb-multiscale/examples/tvb_nest/notebooks/cerebellum/outputs/cwc1D_Is\n",
      "Config (\n",
      "  title .............................. 'Config gid: 81a9926b-22fb-4c34-acc2-69466ca0c5f8'\n",
      "  Type ............................... 'Config'\n",
      "  gid ................................ UUID('81a9926b-22fb-4c34-acc2-69466ca0c5f8')\n",
      "  config.gid ......................... UUID('81a9926b-22fb-4c34-acc2-69466ca0c5f8')\n",
      "  config.title ....................... 'Config gid: 81a9926b-22fb-4c34-acc2-69466ca0c5f8'\n",
      "  config.log ......................... <Logger tvb_multiscale.tvb_nest.config (DEBUG)>\n",
      "  config.out ......................... OutputConfig gid: b40654c6-9d7b-4b4b-9309-8aaadf8b0295\n",
      "  config.figures ..................... <tvb.simulator.plot.config.FiguresConfig object at 0x7f9feb5f3340>\n",
      "  config.DEFAULT_SUBJECT[connectivity]  Connectivity gid: ef2c8706-35bd-498d-9afc-da4e199d4896\n",
      "  config.DEFAULT_SUBJECT[cortex] ..... Cortex gid: 3fcde765-c834-4eb5-b898-c44db7267ef6\n",
      "  config.DEFAULT_SUBJECT_PATH ........ '/home/docker/packages/tvb-multiscale/examples/data/tvb_data/berlinSubjects/QL_20120814'\n",
      "  config.TVB_DATA_PATH ............... '/home/docker/packages/tvb-multiscale/examples/data/tvb_data'\n",
      "  config.DEFAULT_CONNECTIVITY_ZIP .... '/home/docker/packages/tvb-multiscale/examples/data/tvb_data/berlinSubjects/QL_20120814/QL_20120814_Connectivity.zip'\n",
      "  config.NEST_PATH ................... '/home/docker/env/neurosci/nest_build'\n",
      "  config.PYTHON ...................... '/home/docker/env/neurosci/nest_build/lib/python3.9/site-packages'\n",
      "  config.DATA_DIR .................... '/home/docker/env/neurosci/nest_build/share/nest'\n",
      "  config.SLI_PATH .................... '/home/docker/env/neurosci/nest_build/share/nest/sli'\n",
      "  config.DOC_DIR ..................... '/home/docker/env/neurosci/nest_build/share/doc/nest'\n",
      "  config.MODULE_PATH ................. '/home/docker/env/neurosci/nest_build/lib/nest'\n",
      "  config.TVB_NEST_DIR ................ '/home/docker/packages/tvb-multiscale/tvb_multiscale/'\n",
      "  config.WORKING_DIR ................. '/home/docker/packages/tvb-multiscale/examples/tvb_nest/notebooks/cerebellum'\n",
      "  config.RECORDINGS_DIR .............. '/home/docker/packages/tvb-multiscale/examples/tvb_nest/notebooks/cerebellum/outputs/cwc1D_Is/res/nest_recordings'\n",
      "  config.MYMODULES_DIR ............... '/home/docker/packages/tvb-multiscale/tvb_multiscale/tvb_nest/nest/modules'\n",
      "  config.MYMODULES_BLD_DIR ........... '/home/docker/packages/nest_modules_builds'\n",
      "  config.VERBOSE ..................... 1\n",
      "  config.DEFAULT_DT .................. 0.1\n",
      "  config.DEFAULT_NSIG ................ 0.0001\n",
      "  config.DEFAULT_STOCHASTIC_INTEGRATOR  <class 'tvb.simulator.integrators.EulerStochastic'>\n",
      "  config.DEFAULT_INTEGRATOR .......... <class 'tvb.simulator.integrators.EulerStochastic'>\n",
      "  config.SIMULATION_LENGTH ........... 1025.0\n",
      "  config.TRANSIENT_RATIO ............. 0.25\n",
      "  config.NEST_PERIPHERY .............. False\n",
      "  config.INVERSE_SIGMOIDAL_NEST_TO_TVB  True\n",
      "  config.SOURCE_TS_PATH .............. '/home/docker/packages/tvb-multiscale/examples/tvb_nest/notebooks/cerebellum/outputs/cwc1D_Is/res/source_ts.pkl'\n",
      "  config.CONN_SPEED .................. 3.0\n",
      "  config.BRAIN_CONN_FILE ............. '/home/docker/packages/tvb-multiscale/examples/data/cerebellum/Connectivity_wavCntrs_TLwav_SummedSubcortical_Thals.h5'\n",
      "  config.MAJOR_STRUCTS_LABELS_FILE ... '/home/docker/packages/tvb-multiscale/examples/data/cerebellum/major_structs_labels_SummedSubcortical_Thals.npy'\n",
      "  config.VOXEL_COUNT_FILE ............ '/home/docker/packages/tvb-multiscale/examples/data/cerebellum/voxel_count_SummedSubcortical_Thals.npy'\n",
      "  config.INDS_FILE ................... '/home/docker/packages/tvb-multiscale/examples/data/cerebellum/inds_SummedSubcortical_Thals.npy'\n",
      "  config.CEREB_SCAFFOLD_PATH ......... '/home/docker/packages/tvb-multiscale/examples/data/cerebellum/balanced_DCN_IO.hdf5'\n",
      "  config.THAL_CRTX_FIX ............... 'wd'\n",
      "  config.BRAIN_CONNECTIONS_TO_SCALE .. --------------------\n",
      "  shape .............................. (0,)\n",
      "  dtype .............................. float64\n",
      "  is empty ........................... True\n",
      "  config.CONN_LOG .................... True\n",
      "  config.CONN_SCALE .................. None\n",
      "  config.CONN_NORM_PERCENTILE ........ 99\n",
      "  config.CONN_CEIL ................... False\n",
      "  config.STIMULUS_RATE ............... 8.0\n",
      "  config.model_params[G] ............. 0.0\n",
      "  config.model_params[STIMULUS] ...... 0.0\n",
      "  config.model_params[I_e] ........... -0.35\n",
      "  config.model_params[I_s] ........... 0.5\n",
      "  config.model_params[w_ie] .......... -3.0\n",
      "  config.model_params[w_rs] .......... -2.0\n",
      "  config.NEST_STIMULUS ............... 15.0\n",
      "  config.RAW_PERIOD .................. 1.0\n",
      "  config.BOLD_PERIOD ................. None\n",
      "  config.FIC ......................... 0\n",
      "  config.SBI_NUM_WORKERS ............. 1\n",
      "  config.SBI_METHOD .................. 'SNPE'\n",
      "  config.TARGET_PSD_POPA_PATH ........ '/home/docker/packages/tvb-multiscale/examples/data/cerebellum/PS_popa2013'\n",
      "  config.PSD_TARGET_PATH ............. '/home/docker/packages/tvb-multiscale/examples/tvb_nest/notebooks/cerebellum/outputs/cwc1D_Is/res/PSD_target.npy'\n",
      "  config.TARGET_FREQS ................ --------------------\n",
      "  config.TARGET_FREQS: shape ......... (43,)\n",
      "  config.TARGET_FREQS: dtype ......... float64\n",
      "  config.TARGET_FREQS: values ........ [ 5.  6.  7.  8.  9. 10. 11. 12. 13. 14. 15. 16. 17. 18. 19. 20. 21. 22.\n",
      " 23. 24. 25. 26. 27. 28. 29. 30. 31. 32. 33. 34. 35. 36. 37. 38. 39. 40.\n",
      " 41. 42. 43. 44. 45. 46. 47.]\n",
      "  config.POSTERIOR_PATH .............. '/home/docker/packages/tvb-multiscale/examples/tvb_nest/notebooks/cerebellum/outputs/cwc1D_Is/res/posterior.pkl'\n",
      "  config.POSTERIOR_SAMPLES_PATH ...... '/home/docker/packages/tvb-multiscale/examples/tvb_nest/notebooks/cerebellum/outputs/cwc1D_Is/res/samples_fit.npy'\n",
      "  config.N_FIT_RUNS .................. 10\n",
      "  config.N_SIMULATIONS ............... 900\n",
      "  config.N_SIM_BATCHES ............... 30\n",
      "  config.SPLIT_RUN_SAMPLES ........... 2\n",
      "  config.N_SAMPLES_PER_RUN ........... 1000\n",
      "  config.BATCH_FILE_FORMAT ........... '%s_%03d%s'\n",
      "  config.BATCH_FILE_FORMAT_G ......... '%s_iG%02d_%03d%s'\n",
      "  config.BATCH_PRIORS_SAMPLES_FILE ... 'bps.pt'\n",
      "  config.BATCH_SIM_RES_FILE .......... 'bsr.npy'\n",
      "  config.Gs .......................... --------------------\n",
      "  config.Gs: shape ................... (1,)\n",
      "  config.Gs: dtype ................... float64\n",
      "  config.Gs: values .................. 0\n",
      "  config.PRIORS_DIST ................. 'uniform'\n",
      "  config.PRIORS_DEF[STIMULUS][min] ... 0.0\n",
      "  config.PRIORS_DEF[STIMULUS][max] ... 1.0\n",
      "  config.PRIORS_DEF[STIMULUS][loc] ... 0.5\n",
      "  config.PRIORS_DEF[STIMULUS][sc] .... 0.1\n",
      "  config.PRIORS_DEF[I_e][min] ........ -1.0\n",
      "  config.PRIORS_DEF[I_e][max] ........ 0.0\n",
      "  config.PRIORS_DEF[I_e][loc] ........ -0.35\n",
      "  config.PRIORS_DEF[I_e][sc] ......... 0.1\n",
      "  config.PRIORS_DEF[I_s][min] ........ -0.5\n",
      "  config.PRIORS_DEF[I_s][max] ........ 0.5\n",
      "  config.PRIORS_DEF[I_s][loc] ........ 0.0\n",
      "  config.PRIORS_DEF[I_s][sc] ......... 0.15\n",
      "  config.PRIORS_DEF[w_ie][min] ....... -10.0\n",
      "  config.PRIORS_DEF[w_ie][max] ....... 0.0\n",
      "  config.PRIORS_DEF[w_ie][loc] ....... -5.0\n",
      "  config.PRIORS_DEF[w_ie][sc] ........ 2.5\n",
      "  config.PRIORS_DEF[w_rs][min] ....... -4.0\n",
      "  config.PRIORS_DEF[w_rs][max] ....... 0.0\n",
      "  config.PRIORS_DEF[w_rs][loc] ....... -2.0\n",
      "  config.PRIORS_DEF[w_rs][sc] ........ 0.5\n",
      "  config.PRIORS_DEF[FIC][min] ........ 0.0\n",
      "  config.PRIORS_DEF[FIC][max] ........ 25.0\n",
      "  config.PRIORS_DEF[FIC][loc] ........ 10.0\n",
      "  config.PRIORS_DEF[FIC][sc] ......... 5.0\n",
      "  config.PRIORS_PARAMS_NAMES ......... --------------------\n",
      "  config.PRIORS_PARAMS_NAMES: shape .. (1,)\n",
      "  config.PRIORS_PARAMS_NAMES: dtype .. <U3\n",
      "  config.PRIORS_PARAMS_NAMES: values . I_s\n",
      "  config.prior_min ................... --------------------\n",
      "  config.prior_min: shape ............ (1,)\n",
      "  config.prior_min: dtype ............ float64\n",
      "  config.prior_min: values ........... -0.5\n",
      "  config.prior_max ................... --------------------\n",
      "  config.prior_max: shape ............ (1,)\n",
      "  config.prior_max: dtype ............ float64\n",
      "  config.prior_max: values ........... 0.5\n",
      "  config.prior_loc ................... --------------------\n",
      "  config.prior_loc: shape ............ (1,)\n",
      "  config.prior_loc: dtype ............ float64\n",
      "  config.prior_loc: values ........... 0\n",
      "  config.prior_sc .................... --------------------\n",
      "  config.prior_sc: shape ............. (1,)\n",
      "  config.prior_sc: dtype ............. float64\n",
      "  config.prior_sc: values ............ 0.15\n",
      "  config.n_priors .................... 1\n",
      "  config.SBI_FIT_PLOT_PATH ........... '/home/docker/packages/tvb-multiscale/examples/tvb_nest/notebooks/cerebellum/outputs/cwc1D_Is/figs/sbi_fit.png'\n",
      "  config.OPT_RES_MODE ................ 'map'\n",
      ")\n"
     ]
    },
    {
     "data": {
      "text/plain": [
       "<Figure size 432x288 with 0 Axes>"
      ]
     },
     "metadata": {},
     "output_type": "display_data"
    }
   ],
   "source": [
    "config = configure()[0]"
   ]
  },
  {
   "cell_type": "code",
   "execution_count": null,
   "id": "c9fc876c",
   "metadata": {},
   "outputs": [],
   "source": [
    "model_params={\"G\": 0.0, 'I_e': -0.35, 'I_s': 0.5}\n",
    "\n",
    "# Get configuration\n",
    "config, plotter = assert_config(return_plotter=True, FIC=10, output_folder='cwc')\n",
    "config.model_params.update(model_params)\n",
    "# Load and prepare connectome and connectivity with all possible normalizations:\n",
    "connectome, major_structs_labels, voxel_count, inds, maps = prepare_connectome(config, plotter=plotter)\n",
    "connectivity = build_connectivity(connectome, inds, config)\n",
    "# Prepare model\n",
    "model = build_model(connectivity.number_of_regions, inds, maps, config)\n",
    "# Prepare simulator\n",
    "simulator = build_simulator(connectivity, model, inds, maps, config, plotter=plotter)"
   ]
  },
  {
   "cell_type": "code",
   "execution_count": null,
   "id": "9254b0f3",
   "metadata": {},
   "outputs": [],
   "source": [
    "# Run simulation and get results\n",
    "results, transient = simulate(simulator, config)"
   ]
  },
  {
   "cell_type": "code",
   "execution_count": null,
   "id": "e5e96d56",
   "metadata": {
    "scrolled": false
   },
   "outputs": [],
   "source": [
    "# This is the PSD target we are trying to fit...\n",
    "if config.model_params['G']:\n",
    "    # ...for a connected brain, i.e., PS of bilateral M1 and S1:\n",
    "    PSD_target = compute_target_PSDs_m1s1brl(config, write_files=True, plotter=plotter)\n",
    "else:\n",
    "    # ...for a disconnected brain, average PS of all regions:\n",
    "    PSD_target = compute_target_PSDs_1D(config, write_files=True, plotter=plotter)\n",
    "# This is the PSD computed from our simulation results...\n",
    "if config.model_params['G']:\n",
    "    # ...for a connected brain, i.e., PS of bilateral M1 and S1:\n",
    "    PSD = compute_data_PSDs_m1s1brl(results[0], PSD_target, inds, transient, plotter=plotter)\n",
    "else:\n",
    "    # ...for a disconnected brain, average PS of all regions:\n",
    "    PSD = compute_data_PSDs_1D(results[0], PSD_target, inds, transient, plotter=plotter)\n",
    "plot_tvb(transient, inds, results=results, source_ts=None, bold_ts=None,\n",
    "         simulator=simulator, plotter=plotter, config=config, write_files=True)"
   ]
  },
  {
   "cell_type": "code",
   "execution_count": null,
   "id": "b9834189",
   "metadata": {
    "scrolled": false
   },
   "outputs": [
    {
     "name": "stdout",
     "output_type": "stream",
     "text": [
      "\n",
      "\n",
      "------------------------------------------------\n",
      "\n",
      "Running TVB workflow for plot_flag=True, write_files=True,\n",
      "and model_params=\n",
      "OrderedDict([('G', 2.0), ('STIMULUS', 0.0), ('I_e', -0.35), ('I_s', 0.1), ('w_ie', -3.0), ('w_rs', -2.0)])...\n",
      "\n",
      "Logtransforming connectivity weights!\n",
      "Normalizing connectivity weights with 99 percentile!\n",
      "Configuring model with parameters:\n",
      "OrderedDict([('G', 2.0), ('STIMULUS', 0.0), ('I_e', -0.35), ('I_s', 0.1), ('w_ie', -3.0), ('w_rs', -2.0)])\n"
     ]
    },
    {
     "name": "stderr",
     "output_type": "stream",
     "text": [
      "/home/docker/packages/tvb-multiscale/tvb_multiscale/core/spiking_models/node_set.py:34: FutureWarning: The default dtype for empty Series will be 'object' instead of 'float64' in a future version. Specify a dtype explicitly to silence this warning.\n",
      "  def __init__(self, nodes=pd.Series(), **kwargs):\n"
     ]
    },
    {
     "name": "stdout",
     "output_type": "stream",
     "text": [
      "Fixing thalamocortical weights!\n",
      "Fixing thalamocortical delays!\n",
      "2022-10-12 13:09:38,720 - WARNING - tvb_multiscale.core.tvb.cosimulator.cosimulator_serial - Current step is not 0 upon configuration!\n",
      "Setting it to 0. Initial condition might be affected!\n"
     ]
    },
    {
     "name": "stderr",
     "output_type": "stream",
     "text": [
      "/home/docker/packages/tvb-multiscale/tvb_multiscale/core/spiking_models/devices.py:953: FutureWarning: The default dtype for empty Series will be 'object' instead of 'float64' in a future version. Specify a dtype explicitly to silence this warning.\n",
      "  def __init__(self, device_set=pd.Series(), **kwargs):\n"
     ]
    },
    {
     "name": "stdout",
     "output_type": "stream",
     "text": [
      "Current step is not 0 upon configuration!\n",
      "Setting it to 0. Initial condition might be affected!\n",
      "\n",
      "Simulated in 109.069630 secs!\n"
     ]
    },
    {
     "name": "stderr",
     "output_type": "stream",
     "text": [
      "/home/docker/env/neurosci/lib/python3.9/site-packages/scipy/signal/_spectral_py.py:1961: UserWarning: nperseg = 2048 is greater than input length  = 1024, using nperseg = 1024\n",
      "  warnings.warn('nperseg = {0:d} is greater than input length '\n"
     ]
    },
    {
     "name": "stdout",
     "output_type": "stream",
     "text": [
      "2022-10-12 13:11:46,593 - INFO - tvb.storage.h5.encryption.data_encryption_handler - Cannot import syncrypto library.\n",
      "Pickle-dumping source_ts to /home/docker/packages/tvb-multiscale/examples/tvb_nest/notebooks/cerebellum/outputs/cwc1D_Is/res/source_ts.pkl!\n"
     ]
    },
    {
     "name": "stderr",
     "output_type": "stream",
     "text": [
      "/home/docker/packages/tvb-multiscale/examples/tvb_nest/notebooks/cerebellum/scripts/tvb_script.py:744: UserWarning: Failed to to write source time series to file with error!:\n",
      "'TimeSeriesRegion' object has no attribute 'connectivity'\n",
      "  warnings.warn(\"Failed to to write source time series to file with error!:\\n%s\" % str(e))\n"
     ]
    },
    {
     "name": "stdout",
     "output_type": "stream",
     "text": [
      "2022-10-12 13:11:53,105 - WARNING - tvb.contrib.scripts.datatypes.time_series_xarray - Connectivity and RegionTimeSeries labels agreement failed!\n",
      "2022-10-12 13:11:53,111 - WARNING - tvb.contrib.scripts.datatypes.time_series_xarray - Connectivity and RegionTimeSeries labels agreement failed!\n",
      "2022-10-12 13:11:53,714 - WARNING - tvb.contrib.scripts.datatypes.time_series_xarray - Connectivity and RegionTimeSeries labels agreement failed!\n",
      "2022-10-12 13:11:54,312 - WARNING - tvb.contrib.scripts.datatypes.time_series_xarray - Connectivity and RegionTimeSeries labels agreement failed!\n",
      "2022-10-12 13:11:54,907 - WARNING - tvb.contrib.scripts.datatypes.time_series_xarray - Connectivity and RegionTimeSeries labels agreement failed!\n",
      "2022-10-12 13:11:54,913 - WARNING - tvb.contrib.scripts.datatypes.time_series_xarray - Connectivity and RegionTimeSeries labels agreement failed!\n",
      "2022-10-12 13:11:55,534 - WARNING - tvb.contrib.scripts.datatypes.time_series_xarray - Connectivity and RegionTimeSeries labels agreement failed!\n",
      "2022-10-12 13:11:56,359 - WARNING - tvb.contrib.scripts.datatypes.time_series_xarray - Connectivity and RegionTimeSeries labels agreement failed!\n",
      "2022-10-12 13:11:56,930 - WARNING - tvb.contrib.scripts.datatypes.time_series_xarray - Connectivity and RegionTimeSeries labels agreement failed!\n",
      "2022-10-12 13:11:56,940 - WARNING - tvb.contrib.scripts.datatypes.time_series_xarray - Connectivity and RegionTimeSeries labels agreement failed!\n",
      "2022-10-12 13:11:57,737 - WARNING - tvb.contrib.scripts.datatypes.time_series_xarray - Connectivity and RegionTimeSeries labels agreement failed!\n",
      "2022-10-12 13:11:58,587 - WARNING - tvb.contrib.scripts.datatypes.time_series_xarray - Connectivity and RegionTimeSeries labels agreement failed!\n",
      "2022-10-12 13:11:59,439 - WARNING - tvb.contrib.scripts.datatypes.time_series_xarray - Connectivity and RegionTimeSeries labels agreement failed!\n"
     ]
    },
    {
     "name": "stderr",
     "output_type": "stream",
     "text": [
      "/home/docker/env/neurosci/lib/python3.9/site-packages/scipy/signal/_spectral_py.py:1961: UserWarning: nperseg = 2048 is greater than input length  = 1025, using nperseg = 1025\n",
      "  warnings.warn('nperseg = {0:d} is greater than input length '\n"
     ]
    },
    {
     "name": "stdout",
     "output_type": "stream",
     "text": [
      "2022-10-12 13:12:01,027 - WARNING - tvb.contrib.scripts.datatypes.time_series_xarray - Connectivity and RegionTimeSeries labels agreement failed!\n"
     ]
    },
    {
     "name": "stderr",
     "output_type": "stream",
     "text": [
      "/home/docker/packages/tvb-multiscale/examples/tvb_nest/notebooks/cerebellum/scripts/tvb_script.py:879: RuntimeWarning: More than 20 figures have been opened. Figures created through the pyplot interface (`matplotlib.pyplot.figure`) are retained until explicitly closed and may consume too much memory. (To control this warning, see the rcParam `figure.max_open_warning`).\n",
      "  fig, axes = plt.subplots(3, 1, figsize=(12, 10))\n"
     ]
    },
    {
     "name": "stdout",
     "output_type": "stream",
     "text": [
      "\n",
      "Finished TVB workflow in 149.942 sec!\n",
      "\n"
     ]
    }
   ],
   "source": [
    "from examples.tvb_nest.notebooks.cerebellum.scripts.tvb_script import run_workflow\n",
    "PSD, results, transient, simulator, config, ts = run_workflow(PSD_target=None, \n",
    "                                                          model_params={\"G\": 2.0, 'I_e': -0.35, 'I_s': 0.1}, \n",
    "                                                          FIC=10.0, \n",
    "                                                          config=config, plot_flag=True, write_files=True)\n",
    "\n",
    "# \n"
   ]
  },
  {
   "cell_type": "code",
   "execution_count": null,
   "id": "187b2b7e",
   "metadata": {},
   "outputs": [],
   "source": [
    "# import dill\n",
    "# with open('config.pkl', 'wb') as file:\n",
    "#     dill.dump(config, file, recurse=1)\n"
   ]
  },
  {
   "cell_type": "code",
   "execution_count": null,
   "id": "c3cee861",
   "metadata": {},
   "outputs": [],
   "source": [
    "# with open('config.pkl', 'rb') as file:\n",
    "#     config2 = pickle.load(file)\n",
    "\n",
    "    "
   ]
  },
  {
   "cell_type": "code",
   "execution_count": null,
   "id": "68a45d00",
   "metadata": {},
   "outputs": [],
   "source": [
    "# config2.out.FOLDER_RES"
   ]
  },
  {
   "cell_type": "code",
   "execution_count": null,
   "id": "67c57785",
   "metadata": {},
   "outputs": [],
   "source": [
    "# # let us run the mean field simulation\n",
    "# #simulate(simulator, config)\n",
    "# results, transient = simulate(simulator, config, print_flag=True)"
   ]
  },
  {
   "cell_type": "code",
   "execution_count": null,
   "id": "09b5c83c",
   "metadata": {},
   "outputs": [],
   "source": [
    "# from tvb_multiscale.tvb_nest.nest_models.builders.nest_factory import load_nest, configure_nest_kernel\n",
    "# config = assert_config()\n",
    "# nest = configure_nest_kernel(load_nest(config=config), config)\n",
    "# import os\n",
    "# print(os.environ)\n",
    "# print(os.listdir('/home/docker/env/neurosci/nest_build/lib/nest'))\n",
    "# print(nest.Models())"
   ]
  },
  {
   "cell_type": "code",
   "execution_count": null,
   "id": "075d1597",
   "metadata": {
    "scrolled": false
   },
   "outputs": [],
   "source": [
    "# from scripts.nest_script import run_nest_workflow\n",
    "# nest_network = run_nest_workflow(output_folder=\"nest_only_test\")"
   ]
  },
  {
   "cell_type": "code",
   "execution_count": null,
   "id": "71ac35ff",
   "metadata": {
    "scrolled": true
   },
   "outputs": [],
   "source": [
    "config, plotter = configure()\n",
    "print(config)\n"
   ]
  },
  {
   "cell_type": "code",
   "execution_count": null,
   "id": "cc11a6a2",
   "metadata": {},
   "outputs": [],
   "source": [
    "# priors, priors_samples, sim_res = load_priors_and_simulations_for_sbi(1, config=config)\n",
    "# # priors.support.base_constraint\n",
    "# from torch.distributions import biject_to\n",
    "# transform = biject_to(priors.support)\n",
    "# from torch.distributions import transforms as torch_tf\n",
    "# #isinstance(transform, torch_tf.IndependentTransform)\n",
    "# import torch\n",
    "# theta = priors.sample(torch.Size((2,)))\n",
    "# print(theta)\n",
    "# theta_unconstrained = transform.inv(theta)\n",
    "# print(theta_unconstrained)\n",
    "# print(transform(theta_unconstrained))\n",
    "# assert torch.allclose(\n",
    "#         theta, transform(theta_unconstrained), atol=1e-3  # type: ignore\n",
    "#     ), \"Original and re-transformed parameters must be close to each other.\""
   ]
  },
  {
   "cell_type": "code",
   "execution_count": null,
   "id": "e926afd9",
   "metadata": {
    "scrolled": false
   },
   "outputs": [],
   "source": [
    "for iG in range(1, 9):\n",
    "    sbi_infer_for_iG(iG, config=config)"
   ]
  },
  {
   "cell_type": "code",
   "execution_count": null,
   "id": "5ddcfc1f",
   "metadata": {
    "scrolled": false
   },
   "outputs": [],
   "source": [
    "# from scripts.sbi_script import *\n",
    "# PSD, results, simulator, config, samples_fit = simulate_after_fitting(5, iR=None, config=None)"
   ]
  },
  {
   "cell_type": "code",
   "execution_count": null,
   "id": "bc4b549e",
   "metadata": {},
   "outputs": [],
   "source": [
    "samples_fit['G']"
   ]
  },
  {
   "cell_type": "code",
   "execution_count": null,
   "id": "07818199",
   "metadata": {},
   "outputs": [],
   "source": [
    "[config.Gs[7], simulator.model.G.mean()]"
   ]
  },
  {
   "cell_type": "code",
   "execution_count": null,
   "id": "67f74361",
   "metadata": {},
   "outputs": [],
   "source": [
    "[simulator.model.I_e, simulator.model.I_s]"
   ]
  },
  {
   "cell_type": "code",
   "execution_count": null,
   "id": "96591f8b",
   "metadata": {},
   "outputs": [],
   "source": [
    "simulator.model.w_ie"
   ]
  },
  {
   "cell_type": "code",
   "execution_count": null,
   "id": "225898b7",
   "metadata": {},
   "outputs": [],
   "source": [
    "simulator.model.w_rs"
   ]
  },
  {
   "cell_type": "markdown",
   "id": "b4125830",
   "metadata": {},
   "source": [
    "# Plot results and write them to HDF5 files"
   ]
  },
  {
   "cell_type": "code",
   "execution_count": null,
   "id": "ad7c58e8",
   "metadata": {},
   "outputs": [],
   "source": [
    "from scipy.io import savemat\n",
    "# set to False for faster plotting of only mean field variables and dates, apart from spikes\" rasters:\n",
    "plot_per_neuron = False  \n",
    "MAX_VARS_IN_COLS = 2\n",
    "MAX_REGIONS_IN_ROWS = 10\n",
    "MIN_REGIONS_FOR_RASTER_PLOT = 9\n",
    "# from examples.plot_write_results import plot_write_results\n",
    "# plot_write_results(results, simulator, populations=populations, \n",
    "#                    transient=transient, tvb_state_variable_type_label=\"State Variables\", \n",
    "#                    tvb_state_variables_labels=simulator.model.variables_of_interest, \n",
    "#                    plot_per_neuron=plot_per_neuron, plotter=plotter, config=config)\n",
    "from tvb_multiscale.core.plot.plotter import Plotter\n",
    "plotter = Plotter(config.figures)\n",
    "# Load connectome and other structural files\n",
    "connectome, major_structs_labels, voxel_count, inds = load_connectome(config, plotter=plotter)\n",
    "# Construct some more indices and maps\n",
    "inds, maps = construct_extra_inds_and_maps(connectome, inds)\n",
    "simulation_length = simulator.simulation_length\n",
    "transient = simulation_length * (1 + config.TRANSIENT_RATIO) + 0.5\n",
    "FIGSIZE = config.figures.DEFAULT_SIZE\n"
   ]
  },
  {
   "cell_type": "code",
   "execution_count": null,
   "id": "aee226d2",
   "metadata": {},
   "outputs": [],
   "source": [
    "# If you want to see what the function above does, take the steps, one by one\n",
    "try:\n",
    "    # We need framework_tvb for writing and reading from HDF5 files\n",
    "    from tvb_multiscale.core.tvb.io.h5_writer import H5Writer\n",
    "    writer = H5Writer()\n",
    "except:\n",
    "    writer = False\n",
    "    \n",
    "from tvb.contrib.scripts.datatypes.time_series import TimeSeriesRegion\n",
    "from tvb.contrib.scripts.datatypes.time_series_xarray import TimeSeriesRegion as TimeSeriesXarray\n",
    "\n",
    "# Put the results in a Timeseries instance\n",
    "from tvb.contrib.scripts.datatypes.time_series import TimeSeriesRegion\n",
    "\n",
    "source_ts = None\n",
    "bold_ts = None\n",
    "\n",
    "if results is not None:\n",
    "    source_ts = TimeSeriesXarray(  # substitute with TimeSeriesRegion fot TVB like functionality\n",
    "            data=results[0][1], time=results[0][0],\n",
    "            connectivity=simulator.connectivity,\n",
    "            labels_ordering=[\"Time\", \"State Variable\", \"Region\", \"Neurons\"],\n",
    "            labels_dimensions={\"State Variable\": list(simulator.model.variables_of_interest),\n",
    "                               \"Region\": simulator.connectivity.region_labels.tolist()},\n",
    "            sample_period=simulator.integrator.dt)\n",
    "    source_ts.configure()\n",
    "\n",
    "    t = source_ts.time\n",
    "\n",
    "    # Write to file\n",
    "    if writer:\n",
    "        writer.write_tvb_to_h5(TimeSeriesRegion().from_xarray_DataArray(source_ts._data,\n",
    "                                                                        connectivity=source_ts.connectivity),\n",
    "                               os.path.join(config.out.FOLDER_RES, source_ts.title)+\".h5\")\n",
    "    print(\"Raw ts:\\n%s\" % str(source_ts))\n",
    "    \n",
    "    if len(results) > 1:\n",
    "        bold_ts = TimeSeriesXarray(  # substitute with TimeSeriesRegion fot TVB like functionality\n",
    "                data=results[1][1], time=results[1][0],\n",
    "                connectivity=simulator.connectivity,\n",
    "                labels_ordering=[\"Time\", \"State Variable\", \"Region\", \"Neurons\"],\n",
    "                labels_dimensions={\"State Variable\": [\"BOLD\"],\n",
    "                                   \"Region\": simulator.connectivity.region_labels.tolist()})\n",
    "        bold_ts.configure()\n",
    "\n",
    "        bold_t = source_ts.time\n",
    "\n",
    "        # Write to file\n",
    "        if writer:\n",
    "            writer.write_tvb_to_h5(TimeSeriesRegion().from_xarray_DataArray(bold_ts._data,\n",
    "                                                                            connectivity=bold_ts.connectivity),\n",
    "                                   os.path.join(config.out.FOLDER_RES, bold_ts.title)+\".h5\")\n",
    "        print(\"BOLD ts:\\n%s\" % str(bold_ts))\n",
    "    "
   ]
  },
  {
   "cell_type": "code",
   "execution_count": null,
   "id": "980edca2",
   "metadata": {
    "scrolled": true
   },
   "outputs": [],
   "source": [
    "# Plot TVB time series\n",
    "if source_ts is not None:\n",
    "    source_ts[:, :, :, :].plot_timeseries(plotter_config=plotter.config, \n",
    "                          hue=\"Region\" if source_ts.shape[2] > MAX_REGIONS_IN_ROWS else None, \n",
    "                          per_variable=source_ts.shape[1] > MAX_VARS_IN_COLS, \n",
    "                          figsize=FIGSIZE);"
   ]
  },
  {
   "cell_type": "code",
   "execution_count": null,
   "id": "b2d17510",
   "metadata": {
    "scrolled": false
   },
   "outputs": [],
   "source": [
    "# Focus on the m1 and s1 barrel field nodes: \n",
    "if source_ts is not None:\n",
    "    source_ts_m1s1brl = source_ts[-10000:, :, inds[\"m1s1brl\"]]\n",
    "    source_ts_m1s1brl.plot_timeseries(plotter_config=plotter.config, \n",
    "                                   hue=\"Region\" if source_ts_m1s1brl.shape[2] > MAX_REGIONS_IN_ROWS else None, \n",
    "                                   per_variable=source_ts_m1s1brl.shape[1] > MAX_VARS_IN_COLS, \n",
    "                                   figsize=FIGSIZE, figname=\"M1 and S1 barrel field nodes TVB Time Series\");"
   ]
  },
  {
   "cell_type": "code",
   "execution_count": null,
   "id": "c78bf04e",
   "metadata": {
    "scrolled": false
   },
   "outputs": [],
   "source": [
    "# Focus on the m1 and s1 barrel field nodes: raster plot\n",
    "if source_ts is not None and source_ts_m1s1brl.number_of_labels > MIN_REGIONS_FOR_RASTER_PLOT:\n",
    "    source_ts_m1s1brl.plot_raster(plotter_config=plotter.config, \n",
    "                                  per_variable=source_ts_m1s1brl.shape[1] > MAX_VARS_IN_COLS,\n",
    "                                  figsize=FIGSIZE, figname=\"M1 and S1 barrel field nodes TVB Time Series Raster\");"
   ]
  },
  {
   "cell_type": "code",
   "execution_count": null,
   "id": "df21fc5b",
   "metadata": {
    "scrolled": false
   },
   "outputs": [],
   "source": [
    "# Focus on the the motor pathway: \n",
    "if source_ts is not None:\n",
    "    source_ts_motor = source_ts[-10000:, :, inds[\"motor\"]]\n",
    "    source_ts_motor.plot_timeseries(plotter_config=plotter.config, \n",
    "                                   hue=\"Region\" if source_ts_motor.shape[2] > MAX_REGIONS_IN_ROWS else None, \n",
    "                                   per_variable=source_ts_motor.shape[1] > MAX_VARS_IN_COLS, \n",
    "                                   figsize=FIGSIZE, figname=\"Motor pathway TVB Time Series\");"
   ]
  },
  {
   "cell_type": "code",
   "execution_count": null,
   "id": "f2136959",
   "metadata": {
    "scrolled": false
   },
   "outputs": [],
   "source": [
    "# Focus on the motor pathway: raster plot\n",
    "if source_ts_motor is not None and source_ts_motor.number_of_labels > MIN_REGIONS_FOR_RASTER_PLOT:\n",
    "    source_ts_motor.plot_raster(plotter_config=plotter.config, \n",
    "                                  per_variable=source_ts_motor.shape[1] > MAX_VARS_IN_COLS,\n",
    "                                  figsize=FIGSIZE, figname=\"Motor pathway TVB Time Series Raster\");"
   ]
  },
  {
   "cell_type": "code",
   "execution_count": null,
   "id": "203f57cf",
   "metadata": {
    "scrolled": false
   },
   "outputs": [],
   "source": [
    "# Focus on the sensory pathway: \n",
    "if source_ts is not None:\n",
    "    source_ts_sens = source_ts[-10000:, :, inds[\"sens\"]]\n",
    "    source_ts_sens.plot_timeseries(plotter_config=plotter.config, \n",
    "                                   hue=\"Region\" if source_ts_sens.shape[2] > MAX_REGIONS_IN_ROWS else None, \n",
    "                                   per_variable=source_ts_sens.shape[1] > MAX_VARS_IN_COLS, \n",
    "                                   figsize=FIGSIZE, figname=\"Sensory pathway TVB Time Series\");"
   ]
  },
  {
   "cell_type": "code",
   "execution_count": null,
   "id": "233d0dfc",
   "metadata": {
    "scrolled": false
   },
   "outputs": [],
   "source": [
    "# Focus on the sensory pathway: raster plot\n",
    "if source_ts is not None and source_ts_sens.number_of_labels > MIN_REGIONS_FOR_RASTER_PLOT:\n",
    "    source_ts_sens.plot_raster(plotter_config=plotter.config, \n",
    "                               per_variable=source_ts_sens.shape[1] > MAX_VARS_IN_COLS,\n",
    "                               figsize=FIGSIZE, figname=\"Sensory pathway TVB Time Series Raster\");"
   ]
  },
  {
   "cell_type": "code",
   "execution_count": null,
   "id": "d3c344c3",
   "metadata": {
    "scrolled": true
   },
   "outputs": [],
   "source": [
    "# bold_ts TVB time series\n",
    "if bold_ts is not None:\n",
    "    bold_ts.plot_timeseries(plotter_config=plotter.config, \n",
    "                            hue=\"Region\" if bold_ts.shape[2] > MAX_REGIONS_IN_ROWS else None, \n",
    "                            per_variable=bold_ts.shape[1] > MAX_VARS_IN_COLS, \n",
    "                            figsize=FIGSIZE);"
   ]
  },
  {
   "cell_type": "code",
   "execution_count": null,
   "id": "69ca0aef",
   "metadata": {
    "scrolled": false
   },
   "outputs": [],
   "source": [
    "# # Focus on the m1 and s1 barrel field nodes: \n",
    "# if bold_ts is not None:\n",
    "#     bold_ts_m1s1brl = bold_ts[-10000:, :, inds[\"m1s1brl\"]]\n",
    "#     bold_ts_m1s1brl.plot_timeseries(plotter_config=plotter.config, \n",
    "#                                     hue=\"Region\" if bold_ts_m1s1brl.shape[2] > MAX_REGIONS_IN_ROWS else None, \n",
    "#                                     per_variable=bold_ts_m1s1brl.shape[1] > MAX_VARS_IN_COLS, \n",
    "#                                     figsize=FIGSIZE, figname=\"M1 and S1 barrel field nodes BOLD Time Series\");"
   ]
  },
  {
   "cell_type": "code",
   "execution_count": null,
   "id": "ed63740b",
   "metadata": {
    "scrolled": false
   },
   "outputs": [],
   "source": [
    "# # Focus on the m1 and s1 barrel field nodes: raster plot\n",
    "# if bold_ts is not None and bold_ts_m1s1brl.number_of_labels > MIN_REGIONS_FOR_RASTER_PLOT:\n",
    "#     bold_ts_m1s1brl.plot_raster(plotter_config=plotter.config, \n",
    "#                                 per_variable=bold_ts_m1s1brl.shape[1] > MAX_VARS_IN_COLS,\n",
    "#                                 figsize=FIGSIZE, figname=\"M1 and S1 barrel field nodes BOLD Time Series Raster\");"
   ]
  },
  {
   "cell_type": "code",
   "execution_count": null,
   "id": "cd1981e9",
   "metadata": {
    "scrolled": true
   },
   "outputs": [],
   "source": [
    "# # Focus on the the motor pathway: \n",
    "# if bold_ts is not None:\n",
    "#     bold_ts_motor = bold_ts[-10000:, :, inds[\"motor\"]]\n",
    "#     bold_ts_motor.plot_timeseries(plotter_config=plotter.config, \n",
    "#                                    hue=\"Region\" if bold_ts_motor.shape[2] > MAX_REGIONS_IN_ROWS else None, \n",
    "#                                    per_variable=bold_ts_motor.shape[1] > MAX_VARS_IN_COLS, \n",
    "#                                    figsize=FIGSIZE, figname=\"Motor pathway BOLD Time Series\");"
   ]
  },
  {
   "cell_type": "code",
   "execution_count": null,
   "id": "04895bc7",
   "metadata": {
    "scrolled": false
   },
   "outputs": [],
   "source": [
    "# # Focus on the motor pathway: raster plot\n",
    "# if bold_ts is not None and bold_ts_motor.number_of_labels > MIN_REGIONS_FOR_RASTER_PLOT:\n",
    "#     bold_ts_motor.plot_raster(plotter_config=plotter.config, \n",
    "#                               per_variable=bold_ts_motor.shape[1] > MAX_VARS_IN_COLS,\n",
    "#                               figsize=FIGSIZE, figname=\"Motor pathway BOLD Time Series Raster\");"
   ]
  },
  {
   "cell_type": "code",
   "execution_count": null,
   "id": "1ca5e916",
   "metadata": {
    "scrolled": false
   },
   "outputs": [],
   "source": [
    "# # Focus on the sensory pathway: \n",
    "# if bold_ts is not None:\n",
    "#     bold_ts_sens = bold_ts[-10000:, :, inds[\"sens\"]]\n",
    "#     bold_ts_sens.plot_timeseries(plotter_config=plotter.config, \n",
    "#                                  hue=\"Region\" if bold_ts_sens.shape[2] > MAX_REGIONS_IN_ROWS else None, \n",
    "#                                  per_variable=bold_ts_sens.shape[1] > MAX_VARS_IN_COLS, \n",
    "#                                  figsize=FIGSIZE, figname=\"Sensory pathway BOLD Time Series\");"
   ]
  },
  {
   "cell_type": "code",
   "execution_count": null,
   "id": "da827c3a",
   "metadata": {
    "scrolled": false
   },
   "outputs": [],
   "source": [
    "# # Focus on the sensory pathway: raster plot\n",
    "# if bold_ts is not None and bold_ts_sens.number_of_labels > MIN_REGIONS_FOR_RASTER_PLOT:\n",
    "#     bold_ts_sens.plot_raster(plotter_config=plotter.config, \n",
    "#                              per_variable=bold_ts_sens.shape[1] > MAX_VARS_IN_COLS,\n",
    "#                              figsize=FIGSIZE, figname=\"Sensory pathway BOLD Time Series Raster\");"
   ]
  },
  {
   "cell_type": "markdown",
   "id": "c1b98347",
   "metadata": {},
   "source": [
    "### Interactive time series plot"
   ]
  },
  {
   "cell_type": "code",
   "execution_count": null,
   "id": "f4eb4cc5",
   "metadata": {},
   "outputs": [],
   "source": [
    "# # ...interactively as well\n",
    "# # For interactive plotting:\n",
    "# %matplotlib notebook \n",
    "# plotter.plot_timeseries_interactive(source_ts)"
   ]
  },
  {
   "cell_type": "code",
   "execution_count": null,
   "id": "fbecfba5",
   "metadata": {
    "scrolled": false
   },
   "outputs": [],
   "source": [
    "# # For interactive plotting:\n",
    "# %matplotlib notebook  \n",
    "\n",
    "\n",
    "# from tvb.datatypes.time_series import TimeSeries\n",
    "# from tvb.contrib.scripts.plot.power_spectra_interactive import PowerSpectraInteractive\n",
    "\n",
    "# tsr = TimeSeries(data=source_ts[1000:, 0, inds[\"m1s1brl\"]]._data.values, sample_period=source_ts.sample_period)\n",
    "# psi = PowerSpectraInteractive()\n",
    "# psi.time_series = tsr\n",
    "# psi.window_length = 1000.0\n",
    "# psi.show()\n",
    "# from ipywidgets import interact, widgets as ip_widgets\n",
    "# from IPython.display import display\n",
    "\n",
    "# textRegions = ip_widgets.Text(\n",
    "#     value='',\n",
    "#     placeholder='Regions Slicer',\n",
    "#     description='start:stop:step',\n",
    "#     disabled=False\n",
    "# )\n",
    "\n",
    "# textFreqs = ip_widgets.Text(\n",
    "#     value='',\n",
    "#     placeholder='Frequency Range',\n",
    "#     description='f_min, f_max',\n",
    "#     disabled=False\n",
    "# )\n",
    "\n",
    "# def callbackRegions(wdgt):\n",
    "#     # replace by something useful\n",
    "#     psi.update_regions(wdgt.value)\n",
    "\n",
    "# def callbackFreqs(wdgt):\n",
    "#     # replace by something useful\n",
    "#     psi.update_freq_range(wdgt.value)\n",
    "    \n",
    "# textRegions.on_submit(callbackRegions)\n",
    "# textFreqs.on_submit(callbackFreqs)\n",
    "\n",
    "# display(textRegions)\n",
    "# display(textFreqs)\n",
    "\n"
   ]
  },
  {
   "cell_type": "markdown",
   "id": "9208509e",
   "metadata": {},
   "source": [
    "# Compute data and target PSDs and compare:\n"
   ]
  },
  {
   "cell_type": "code",
   "execution_count": null,
   "id": "7dfa56f3",
   "metadata": {},
   "outputs": [],
   "source": [
    "PSD_target = compute_target_PSDs(config, write_files=True, plotter=plotter)"
   ]
  },
  {
   "cell_type": "code",
   "execution_count": null,
   "id": "fab8ac09",
   "metadata": {},
   "outputs": [],
   "source": [
    "PSD = compute_data_PSDs(results[0], PSD_target, inds, transient, write_files=False, plotter=plotter)"
   ]
  },
  {
   "cell_type": "code",
   "execution_count": null,
   "id": "f9f128e5",
   "metadata": {
    "scrolled": false
   },
   "outputs": [],
   "source": [
    "%matplotlib inline \n",
    "\n",
    "from examples.tvb_nest.notebooks.cerebellum.utils import  compute_plot_selected_spectra_coherence, compute_plot_ica\n",
    "\n",
    "NPERSEG = np.array([256, 512, 1024, 2048, 4096])\n",
    "NPERSEG = NPERSEG[np.argmin(np.abs(NPERSEG - (source_ts.shape[0]-transient/config.DEFAULT_DT)))]\n",
    "\n",
    "# Power Spectra and Coherence for M1 - S1 barrel field\n",
    "CxyR, fR, fL, CxyL =compute_plot_selected_spectra_coherence(source_ts, inds[\"m1s1brl\"], \n",
    "                                        transient=transient, nperseg=NPERSEG, fmin=0.0, fmax=100.0)"
   ]
  },
  {
   "cell_type": "code",
   "execution_count": null,
   "id": "af44841c",
   "metadata": {},
   "outputs": [],
   "source": [
    "import pickle\n",
    "\n",
    "with open('coherence_MF_cerebON_2sec.pickle', 'wb') as handle:\n",
    "    pickle.dump([CxyR, fR, fL, CxyL], handle)"
   ]
  },
  {
   "cell_type": "code",
   "execution_count": null,
   "id": "be3e9b3d",
   "metadata": {
    "scrolled": false
   },
   "outputs": [],
   "source": [
    "# Power Spectra and Coherence along the sensory pathway:\n",
    "# for Medulla SPV, Sensory PONS\n",
    "compute_plot_selected_spectra_coherence(source_ts, inds[\"sens\"], \n",
    "                                        transient=transient, nperseg=NPERSEG, fmin=0.0, fmax=100.0)"
   ]
  },
  {
   "cell_type": "code",
   "execution_count": null,
   "id": "4e6a0c57",
   "metadata": {
    "scrolled": true
   },
   "outputs": [],
   "source": [
    "plotter.config.DEFAULT_SIZE = (12, 10)  # FIGSIZE\n",
    "if source_ts is not None:\n",
    "    # LFP (E) ICA:\n",
    "    lfp_ica_comps, lfp_ics_ts, lfp_ica = compute_plot_ica(source_ts[transient:].data[:, 0, :, 0].squeeze(), \n",
    "                                                          source_ts[transient:].time,\n",
    "                                                          variable=\"LFP\", n_components=10, plotter=plotter)\n",
    "    "
   ]
  },
  {
   "cell_type": "code",
   "execution_count": null,
   "id": "7d529d8a",
   "metadata": {
    "scrolled": true
   },
   "outputs": [],
   "source": [
    "if bold_ts is not None:    \n",
    "    # BOLD ICA:\n",
    "    bold_ica_comps, bold_ics_ts, bold_ica = compute_plot_ica(bold_ts.data[:, 0, :, 0].squeeze(), bold_ts.time,\n",
    "                                                             variable=\"BOLD\", n_components=10, plotter=plotter)\n",
    "    "
   ]
  },
  {
   "cell_type": "markdown",
   "id": "aab75eae",
   "metadata": {
    "run_control": {
     "frozen": false,
     "read_only": false
    }
   },
   "source": [
    "# References\n",
    "\n",
    "1 Sanz Leon P, Knock SA , Woodman MM, Domide L, <br>\n",
    "  Mersmann J, McIntosh AR, Jirsa VK. 2013. <br>\n",
    "  The Virtual Brain: a simulator of primate brain network dynamics. <br>\n",
    "  Frontiers in Neuroinformatics (7:10. doi: 10.3389/fninf.2013.00010) <br>\n",
    "  https://www.thevirtualbrain.org/tvb/zwei <br>\n",
    "  https://github.com/the-virtual-brain <br>\n",
    "\n",
    "2 Ritter P, Schirner M, McIntosh AR, Jirsa VK. 2013.  <br>\n",
    "  The Virtual Brain integrates computational modeling and multimodal neuroimaging. <br>\n",
    "  Brain Connectivity 3:121–145. <br>\n",
    "\n",
    "3 Griffiths JD, McIntosh AR, Lefebvre J. 2020.   <br>\n",
    "  A Connectome-Based, Corticothalamic Model of State- <br>\n",
    "  and Stimulation-Dependent Modulation of Rhythmic Neural Activity and Connectivity <br>\n",
    "  Frontiers in Computational Neuroscience (vol. 14. doi: 10.3389/fncom.2020.575143) <br>\n",
    "  https://www.frontiersin.org/articles/10.3389/fncom.2020.575143/full#h12\n",
    "  \n",
    "4 Jordan, Jakob; Mørk, Håkon; Vennemo, Stine Brekke;   Terhorst, Dennis; Peyser, <br>\n",
    "  Alexander; Ippen, Tammo; Deepu, Rajalekshmi;   Eppler, Jochen Martin; <br>\n",
    "  van Meegen, Alexander;   Kunkel, Susanne; Sinha, Ankur; Fardet, Tanguy; Diaz, <br>\n",
    "  Sandra; Morrison, Abigail; Schenck, Wolfram; Dahmen, David;   Pronold, Jari; <br>\n",
    "  Stapmanns, Jonas;   Trensch, Guido; Spreizer, Sebastian;   Mitchell, Jessica; <br>\n",
    "  Graber, Steffen; Senk, Johanna; Linssen, Charl; Hahne, Jan; Serenko, Alexey; <br>\n",
    "  Naoumenko, Daniel; Thomson, Eric;   Kitayama, Itaru; Berns, Sebastian;   <br>\n",
    "  Plesser, Hans Ekkehard <br>\n",
    "  NEST is a simulator for spiking neural network models that focuses <br>\n",
    "  on the dynamics, size and structure of neural systems rather than on <br>\n",
    "  the exact morphology of individual neurons. <br>\n",
    "  For further information, visit http://www.nest-simulator.org. <br>\n",
    "  The release notes for this release are available at  <br>\n",
    "  https://github.com/nest/nest-simulator/releases/tag/v2.18.0 <br>"
   ]
  },
  {
   "cell_type": "code",
   "execution_count": null,
   "id": "2e60586d",
   "metadata": {
    "scrolled": false
   },
   "outputs": [],
   "source": [
    "%matplotlib inline\n",
    "\n",
    "import matplotlib.pyplot as plt\n",
    "\n",
    "data = source_ts.data\n",
    "time = source_ts.time\n",
    "\n",
    "fig, axes = plt.subplots(3, 1, figsize=(12, 10))\n",
    "for iT, regs in enumerate([\"crtx\", \"subcrtx_not_thalspec\", \"thalspec\"]):\n",
    "    transient_in_points = int((transient+0.5)/simulator.monitors[0].period)\n",
    "    dat = data[transient_in_points:, 0, inds[regs]].squeeze()\n",
    "    print(dat.shape)\n",
    "    axes[iT].plot(time[transient_in_points:], dat, alpha=0.25)\n",
    "    if iT == 0:\n",
    "        axes[iT].plot(time[transient_in_points:], data[transient_in_points:, 0, inds[\"m1\"]].squeeze(), \n",
    "                      'b--', linewidth=3, label='M1')\n",
    "        axes[iT].plot(time[transient_in_points:], data[transient_in_points:, 0, inds[\"s1brl\"]].squeeze(), \n",
    "                      'g--', linewidth=3, label='S1 barrel field')\n",
    "    elif iT == 1:\n",
    "        axes[iT].plot(time[transient_in_points:], data[transient_in_points:, 0, inds[\"facial\"]].squeeze(), \n",
    "                      'b--', linewidth=3, label='Facial motor nucleus')\n",
    "        axes[iT].plot(time[transient_in_points:], data[transient_in_points:, 0, inds[\"trigeminal\"]].squeeze(), \n",
    "                      'g--', linewidth=3, label='Spinal trigeminal nuclei')\n",
    "    else:\n",
    "        axes[iT].plot(time[transient_in_points:], data[transient_in_points:, 0, [44, 166]].squeeze(), \n",
    "                      'b--', linewidth=3, label='M1 specific thalami')\n",
    "        axes[iT].plot(time[transient_in_points:], data[transient_in_points:, 0, [47, 169]].squeeze(), \n",
    "                      'g--', linewidth=3, label='S1 barrel field specific thalami')\n",
    "        axes[iT].set_xlabel('Time (ms)')\n",
    "    axes[iT].plot(time[transient_in_points:], dat.mean(axis=1), 'k--', linewidth=3, label='Total mean')\n",
    "    axes[iT].legend()\n",
    "    axes[iT].set_title(\"%s range=[%g, %g, %g, %g, %g] \" % \n",
    "                       (regs, dat.min(), np.percentile(dat, 5), dat.mean(), np.percentile(dat, 95), dat.max()))\n",
    "fig.tight_layout()"
   ]
  },
  {
   "cell_type": "code",
   "execution_count": null,
   "id": "17713f19",
   "metadata": {},
   "outputs": [],
   "source": []
  }
 ],
 "metadata": {
  "kernelspec": {
   "display_name": "Python 3 (ipykernel)",
   "language": "python",
   "name": "python3"
  },
  "language_info": {
   "codemirror_mode": {
    "name": "ipython",
    "version": 3
   },
   "file_extension": ".py",
   "mimetype": "text/x-python",
   "name": "python",
   "nbconvert_exporter": "python",
   "pygments_lexer": "ipython3",
   "version": "3.9.2"
  },
  "vscode": {
   "interpreter": {
    "hash": "f9adb81b7866287638732f1a1c751ffce8ddaff47faf37fe4328622c1ca3eff7"
   }
  }
 },
 "nbformat": 4,
 "nbformat_minor": 5
}
