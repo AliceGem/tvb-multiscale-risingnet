{
 "cells": [
  {
   "cell_type": "code",
   "execution_count": 1,
   "id": "e907e915",
   "metadata": {},
   "outputs": [
    {
     "name": "stdout",
     "output_type": "stream",
     "text": [
      "-- The CXX compiler identification is GNU 10.2.1\n",
      "-- Detecting CXX compiler ABI info\n",
      "-- Detecting CXX compiler ABI info - done\n",
      "-- Check for working CXX compiler: /usr/bin/c++ - skipped\n",
      "-- Detecting CXX compile features\n",
      "-- Detecting CXX compile features - done\n",
      "\n",
      "-------------------------------------------------------\n",
      "cerebmodule Configuration Summary\n",
      "-------------------------------------------------------\n",
      "\n",
      "C++ compiler         : /usr/bin/c++\n",
      "Build static libs    : OFF\n",
      "C++ compiler flags   : \n",
      "NEST compiler flags  :  -std=c++11 -O2 -Wall -fopenmp  -fdiagnostics-color=auto\n",
      "NEST include dirs    :  -I/home/docker/env/neurosci/nest_build/include/nest -I/usr/include -I/usr/include -I/usr/include -I/usr/include\n",
      "NEST libraries flags : -L/home/docker/env/neurosci/nest_build/lib/nest -lnestutil -lnest -lsli -lnestkernel -fopenmp /usr/lib/x86_64-linux-gnu/libltdl.so /usr/lib/x86_64-linux-gnu/libreadline.so /usr/lib/x86_64-linux-gnu/libncurses.so /usr/lib/x86_64-linux-gnu/libgsl.so /usr/lib/x86_64-linux-gnu/libgslcblas.so   /usr/lib/libmpicxx.so /usr/lib/libmpi.so\n",
      "\n",
      "-------------------------------------------------------\n",
      "\n",
      "You can now build and install 'cerebmodule' using\n",
      "  make\n",
      "  make install\n",
      "\n",
      "The library file libcerebmodule.so will be installed to\n",
      "  /home/docker/env/neurosci/nest_build/lib/nest\n",
      "The module can be loaded into NEST using\n",
      "  (cerebmodule) Install       (in SLI)\n",
      "  nest.Install(cerebmodule)   (in PyNEST)\n",
      "\n",
      "CMake Warning (dev) in CMakeLists.txt:\n",
      "  No cmake_minimum_required command is present.  A line of code such as\n",
      "\n",
      "    cmake_minimum_required(VERSION 3.18)\n",
      "\n",
      "  should be added at the top of the file.  The version specified may be lower\n",
      "  if you wish to support older CMake versions for this project.  For more\n",
      "  information run \"cmake --help-policy CMP0000\".\n",
      "This warning is for project developers.  Use -Wno-dev to suppress it.\n",
      "\n",
      "-- Configuring done\n",
      "-- Generating done\n",
      "-- Build files have been written to: /home/docker/packages/tvb-multiscale/tvb_multiscale/tvb_nest/nest/modules/cereb/build\n"
     ]
    }
   ],
   "source": [
    "! cmake -Dwith-nest=/home/docker/env/neurosci/nest_build/bin/nest-config ..\n"
   ]
  },
  {
   "cell_type": "code",
   "execution_count": 2,
   "id": "3fbee6b8",
   "metadata": {},
   "outputs": [
    {
     "name": "stdout",
     "output_type": "stream",
     "text": [
      "\u001b[35m\u001b[1mScanning dependencies of target cerebmodule_module\u001b[0m\n",
      "[ 16%] \u001b[32mBuilding CXX object CMakeFiles/cerebmodule_module.dir/cerebmodule.o\u001b[0m\n",
      "[ 33%] \u001b[32mBuilding CXX object CMakeFiles/cerebmodule_module.dir/eglif_cond_alpha_multisyn.o\u001b[0m\n",
      "\u001b[01m\u001b[K/home/docker/packages/tvb-multiscale/tvb_multiscale/tvb_nest/nest/modules/cereb/eglif_cond_alpha_multisyn.cpp:\u001b[m\u001b[K In constructor ‘\u001b[01m\u001b[Keglif_cond_alpha_multisyn::eglif_cond_alpha_multisyn()\u001b[m\u001b[K’:\n",
      "\u001b[01m\u001b[K/home/docker/packages/tvb-multiscale/tvb_multiscale/tvb_nest/nest/modules/cereb/eglif_cond_alpha_multisyn.cpp:113:16:\u001b[m\u001b[K \u001b[01;35m\u001b[Kwarning: \u001b[m\u001b[Kunused variable ‘\u001b[01m\u001b[K__resolution\u001b[m\u001b[K’ [\u001b[01;35m\u001b[K\u001b]8;;https://gcc.gnu.org/onlinedocs/gcc/Warning-Options.html#index-Wunused-variable\u0007-Wunused-variable\u001b]8;;\u0007\u001b[m\u001b[K]\n",
      "  113 |   const double \u001b[01;35m\u001b[K__resolution\u001b[m\u001b[K = nest::Time::get_resolution().get_ms();  // do not remove, this is necessary for the resolution() function\n",
      "      |                \u001b[01;35m\u001b[K^~~~~~~~~~~~\u001b[m\u001b[K\n",
      "\u001b[01m\u001b[K/home/docker/packages/tvb-multiscale/tvb_multiscale/tvb_nest/nest/modules/cereb/eglif_cond_alpha_multisyn.cpp:\u001b[m\u001b[K In member function ‘\u001b[01m\u001b[Kvirtual void eglif_cond_alpha_multisyn::update(const nest::Time&, long int, long int)\u001b[m\u001b[K’:\n",
      "\u001b[01m\u001b[K/home/docker/packages/tvb-multiscale/tvb_multiscale/tvb_nest/nest/modules/cereb/eglif_cond_alpha_multisyn.cpp:442:16:\u001b[m\u001b[K \u001b[01;35m\u001b[Kwarning: \u001b[m\u001b[Kunused variable ‘\u001b[01m\u001b[K__resolution\u001b[m\u001b[K’ [\u001b[01;35m\u001b[K\u001b]8;;https://gcc.gnu.org/onlinedocs/gcc/Warning-Options.html#index-Wunused-variable\u0007-Wunused-variable\u001b]8;;\u0007\u001b[m\u001b[K]\n",
      "  442 |   const double \u001b[01;35m\u001b[K__resolution\u001b[m\u001b[K = nest::Time::get_resolution().get_ms();  // do not remove, this is necessary for the resolution() function\n",
      "      |                \u001b[01;35m\u001b[K^~~~~~~~~~~~\u001b[m\u001b[K\n",
      "[ 50%] \u001b[32m\u001b[1mLinking CXX shared module cerebmodule.so\u001b[0m\n",
      "[ 50%] Built target cerebmodule_module\n",
      "\u001b[35m\u001b[1mScanning dependencies of target cerebmodule_lib\u001b[0m\n",
      "[ 66%] \u001b[32mBuilding CXX object CMakeFiles/cerebmodule_lib.dir/cerebmodule.o\u001b[0m\n",
      "[ 83%] \u001b[32mBuilding CXX object CMakeFiles/cerebmodule_lib.dir/eglif_cond_alpha_multisyn.o\u001b[0m\n",
      "\u001b[01m\u001b[K/home/docker/packages/tvb-multiscale/tvb_multiscale/tvb_nest/nest/modules/cereb/eglif_cond_alpha_multisyn.cpp:\u001b[m\u001b[K In constructor ‘\u001b[01m\u001b[Keglif_cond_alpha_multisyn::eglif_cond_alpha_multisyn()\u001b[m\u001b[K’:\n",
      "\u001b[01m\u001b[K/home/docker/packages/tvb-multiscale/tvb_multiscale/tvb_nest/nest/modules/cereb/eglif_cond_alpha_multisyn.cpp:113:16:\u001b[m\u001b[K \u001b[01;35m\u001b[Kwarning: \u001b[m\u001b[Kunused variable ‘\u001b[01m\u001b[K__resolution\u001b[m\u001b[K’ [\u001b[01;35m\u001b[K\u001b]8;;https://gcc.gnu.org/onlinedocs/gcc/Warning-Options.html#index-Wunused-variable\u0007-Wunused-variable\u001b]8;;\u0007\u001b[m\u001b[K]\n",
      "  113 |   const double \u001b[01;35m\u001b[K__resolution\u001b[m\u001b[K = nest::Time::get_resolution().get_ms();  // do not remove, this is necessary for the resolution() function\n",
      "      |                \u001b[01;35m\u001b[K^~~~~~~~~~~~\u001b[m\u001b[K\n",
      "\u001b[01m\u001b[K/home/docker/packages/tvb-multiscale/tvb_multiscale/tvb_nest/nest/modules/cereb/eglif_cond_alpha_multisyn.cpp:\u001b[m\u001b[K In member function ‘\u001b[01m\u001b[Kvirtual void eglif_cond_alpha_multisyn::update(const nest::Time&, long int, long int)\u001b[m\u001b[K’:\n",
      "\u001b[01m\u001b[K/home/docker/packages/tvb-multiscale/tvb_multiscale/tvb_nest/nest/modules/cereb/eglif_cond_alpha_multisyn.cpp:442:16:\u001b[m\u001b[K \u001b[01;35m\u001b[Kwarning: \u001b[m\u001b[Kunused variable ‘\u001b[01m\u001b[K__resolution\u001b[m\u001b[K’ [\u001b[01;35m\u001b[K\u001b]8;;https://gcc.gnu.org/onlinedocs/gcc/Warning-Options.html#index-Wunused-variable\u0007-Wunused-variable\u001b]8;;\u0007\u001b[m\u001b[K]\n",
      "  442 |   const double \u001b[01;35m\u001b[K__resolution\u001b[m\u001b[K = nest::Time::get_resolution().get_ms();  // do not remove, this is necessary for the resolution() function\n",
      "      |                \u001b[01;35m\u001b[K^~~~~~~~~~~~\u001b[m\u001b[K\n",
      "[100%] \u001b[32m\u001b[1mLinking CXX shared library libcerebmodule.so\u001b[0m\n",
      "[100%] Built target cerebmodule_lib\n"
     ]
    }
   ],
   "source": [
    "! make"
   ]
  },
  {
   "cell_type": "code",
   "execution_count": 3,
   "id": "3604c088",
   "metadata": {},
   "outputs": [
    {
     "name": "stdout",
     "output_type": "stream",
     "text": [
      "[ 50%] Built target cerebmodule_module\n",
      "[100%] Built target cerebmodule_lib\n",
      "\u001b[36mInstall the project...\u001b[0m\n",
      "-- Install configuration: \"\"\n",
      "-- Installing: /home/docker/env/neurosci/nest_build/lib/nest/cerebmodule.so\n"
     ]
    }
   ],
   "source": [
    "! make install"
   ]
  },
  {
   "cell_type": "code",
   "execution_count": null,
   "id": "e2063c94",
   "metadata": {},
   "outputs": [],
   "source": []
  }
 ],
 "metadata": {
  "kernelspec": {
   "display_name": "Python 3 (ipykernel)",
   "language": "python",
   "name": "python3"
  },
  "language_info": {
   "codemirror_mode": {
    "name": "ipython",
    "version": 3
   },
   "file_extension": ".py",
   "mimetype": "text/x-python",
   "name": "python",
   "nbconvert_exporter": "python",
   "pygments_lexer": "ipython3",
   "version": "3.9.2"
  }
 },
 "nbformat": 4,
 "nbformat_minor": 5
}
